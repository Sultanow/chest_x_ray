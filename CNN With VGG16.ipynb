{
 "cells": [
  {
   "cell_type": "markdown",
   "metadata": {},
   "source": [
    "# VGG16 - CNN\n",
    "\n",
    "This notebook uses the VGG16 model architecture."
   ]
  },
  {
   "cell_type": "code",
   "execution_count": 64,
   "metadata": {},
   "outputs": [],
   "source": [
    "import pandas as pd\n",
    "import tensorflow as tf\n",
    "import matplotlib\n",
    "import matplotlib.pyplot as plt\n",
    "import numpy as np\n",
    "import os\n",
    "import cv2\n",
    "from pathlib import Path\n",
    "from tensorflow.keras.preprocessing.image import ImageDataGenerator\n",
    "from tensorflow.keras import activations\n",
    "from tensorflow.keras.optimizers import Adam\n",
    "from tensorflow.keras.models import Sequential\n",
    "from tensorflow.keras.callbacks import EarlyStopping\n",
    "from tensorflow.keras.layers import Flatten, Dense, Dropout, BatchNormalization, AveragePooling2D, Conv2D, MaxPool2D, Activation, GlobalAveragePooling2D\n",
    "from sklearn.metrics import classification_report, confusion_matrix\n",
    "from sklearn.metrics import plot_confusion_matrix\n",
    "from tensorflow.keras.applications.vgg16 import VGG16, preprocess_input"
   ]
  },
  {
   "cell_type": "code",
   "execution_count": 65,
   "metadata": {},
   "outputs": [],
   "source": [
    "# Config\n",
    "IMG_SIZE = 200\n",
    "BATCH_SIZE=32\n",
    "train_path = 'data/train/'\n",
    "test_path = 'data/test/'\n",
    "val_path = 'data/val/'\n",
    "covid19_path = 'data/covid19/'"
   ]
  },
  {
   "cell_type": "markdown",
   "metadata": {},
   "source": [
    "## 1 Data preparation"
   ]
  },
  {
   "cell_type": "code",
   "execution_count": 66,
   "metadata": {},
   "outputs": [],
   "source": [
    "def load_images_from_folder(folder):\n",
    "    tmp_df = pd.DataFrame(columns = ['path', 'label', 'label2'])\n",
    "    \n",
    "    for label_folder in os.listdir(folder):\n",
    "        print(label_folder)\n",
    "        for filename in os.listdir(folder + '/' + label_folder):\n",
    "            img_path = str(folder)+str(label_folder)+'/'+str(filename)\n",
    "            if img_path is not None:\n",
    "                tmp_df = tmp_df.append({'path': img_path, 'label': label_folder}, ignore_index=True)\n",
    "    return tmp_df"
   ]
  },
  {
   "cell_type": "code",
   "execution_count": 67,
   "metadata": {},
   "outputs": [],
   "source": [
    "def load_covid19images_from_folder(folder):\n",
    "    tmp_df = pd.DataFrame(columns = ['path', 'label', 'label2'])\n",
    "    for filename in os.listdir(folder):\n",
    "        img_path = str(folder)+str(filename)\n",
    "        if img_path is not None:\n",
    "            tmp_df = tmp_df.append({'path': img_path, 'label': 'PNEUMONIA', 'label2': 'COVID-19'}, ignore_index=True)\n",
    "    return tmp_df"
   ]
  },
  {
   "cell_type": "code",
   "execution_count": 68,
   "metadata": {},
   "outputs": [
    {
     "name": "stdout",
     "output_type": "stream",
     "text": [
      "NORMAL\n",
      "PNEUMONIA\n",
      "NORMAL\n",
      "PNEUMONIA\n",
      "NORMAL\n",
      "PNEUMONIA\n"
     ]
    }
   ],
   "source": [
    "df_train = load_images_from_folder(train_path)\n",
    "df_val = load_images_from_folder(val_path)\n",
    "df_test = load_images_from_folder(test_path)"
   ]
  },
  {
   "cell_type": "code",
   "execution_count": 69,
   "metadata": {},
   "outputs": [
    {
     "data": {
      "text/html": [
       "<div>\n",
       "<style scoped>\n",
       "    .dataframe tbody tr th:only-of-type {\n",
       "        vertical-align: middle;\n",
       "    }\n",
       "\n",
       "    .dataframe tbody tr th {\n",
       "        vertical-align: top;\n",
       "    }\n",
       "\n",
       "    .dataframe thead th {\n",
       "        text-align: right;\n",
       "    }\n",
       "</style>\n",
       "<table border=\"1\" class=\"dataframe\">\n",
       "  <thead>\n",
       "    <tr style=\"text-align: right;\">\n",
       "      <th></th>\n",
       "      <th>path</th>\n",
       "      <th>label</th>\n",
       "      <th>label2</th>\n",
       "    </tr>\n",
       "  </thead>\n",
       "  <tbody>\n",
       "    <tr>\n",
       "      <th>0</th>\n",
       "      <td>data/train/NORMAL/IM-0115-0001.jpeg</td>\n",
       "      <td>NORMAL</td>\n",
       "      <td>NaN</td>\n",
       "    </tr>\n",
       "    <tr>\n",
       "      <th>1</th>\n",
       "      <td>data/train/NORMAL/IM-0117-0001.jpeg</td>\n",
       "      <td>NORMAL</td>\n",
       "      <td>NaN</td>\n",
       "    </tr>\n",
       "    <tr>\n",
       "      <th>2</th>\n",
       "      <td>data/train/NORMAL/IM-0119-0001.jpeg</td>\n",
       "      <td>NORMAL</td>\n",
       "      <td>NaN</td>\n",
       "    </tr>\n",
       "    <tr>\n",
       "      <th>3</th>\n",
       "      <td>data/train/NORMAL/IM-0122-0001.jpeg</td>\n",
       "      <td>NORMAL</td>\n",
       "      <td>NaN</td>\n",
       "    </tr>\n",
       "    <tr>\n",
       "      <th>4</th>\n",
       "      <td>data/train/NORMAL/IM-0125-0001.jpeg</td>\n",
       "      <td>NORMAL</td>\n",
       "      <td>NaN</td>\n",
       "    </tr>\n",
       "    <tr>\n",
       "      <th>...</th>\n",
       "      <td>...</td>\n",
       "      <td>...</td>\n",
       "      <td>...</td>\n",
       "    </tr>\n",
       "    <tr>\n",
       "      <th>5211</th>\n",
       "      <td>data/train/PNEUMONIA/person99_virus_183.jpeg</td>\n",
       "      <td>PNEUMONIA</td>\n",
       "      <td>NaN</td>\n",
       "    </tr>\n",
       "    <tr>\n",
       "      <th>5212</th>\n",
       "      <td>data/train/PNEUMONIA/person9_bacteria_38.jpeg</td>\n",
       "      <td>PNEUMONIA</td>\n",
       "      <td>NaN</td>\n",
       "    </tr>\n",
       "    <tr>\n",
       "      <th>5213</th>\n",
       "      <td>data/train/PNEUMONIA/person9_bacteria_39.jpeg</td>\n",
       "      <td>PNEUMONIA</td>\n",
       "      <td>NaN</td>\n",
       "    </tr>\n",
       "    <tr>\n",
       "      <th>5214</th>\n",
       "      <td>data/train/PNEUMONIA/person9_bacteria_40.jpeg</td>\n",
       "      <td>PNEUMONIA</td>\n",
       "      <td>NaN</td>\n",
       "    </tr>\n",
       "    <tr>\n",
       "      <th>5215</th>\n",
       "      <td>data/train/PNEUMONIA/person9_bacteria_41.jpeg</td>\n",
       "      <td>PNEUMONIA</td>\n",
       "      <td>NaN</td>\n",
       "    </tr>\n",
       "  </tbody>\n",
       "</table>\n",
       "<p>5216 rows × 3 columns</p>\n",
       "</div>"
      ],
      "text/plain": [
       "                                               path      label label2\n",
       "0               data/train/NORMAL/IM-0115-0001.jpeg     NORMAL    NaN\n",
       "1               data/train/NORMAL/IM-0117-0001.jpeg     NORMAL    NaN\n",
       "2               data/train/NORMAL/IM-0119-0001.jpeg     NORMAL    NaN\n",
       "3               data/train/NORMAL/IM-0122-0001.jpeg     NORMAL    NaN\n",
       "4               data/train/NORMAL/IM-0125-0001.jpeg     NORMAL    NaN\n",
       "...                                             ...        ...    ...\n",
       "5211   data/train/PNEUMONIA/person99_virus_183.jpeg  PNEUMONIA    NaN\n",
       "5212  data/train/PNEUMONIA/person9_bacteria_38.jpeg  PNEUMONIA    NaN\n",
       "5213  data/train/PNEUMONIA/person9_bacteria_39.jpeg  PNEUMONIA    NaN\n",
       "5214  data/train/PNEUMONIA/person9_bacteria_40.jpeg  PNEUMONIA    NaN\n",
       "5215  data/train/PNEUMONIA/person9_bacteria_41.jpeg  PNEUMONIA    NaN\n",
       "\n",
       "[5216 rows x 3 columns]"
      ]
     },
     "execution_count": 69,
     "metadata": {},
     "output_type": "execute_result"
    }
   ],
   "source": [
    "df_train"
   ]
  },
  {
   "cell_type": "code",
   "execution_count": 70,
   "metadata": {},
   "outputs": [
    {
     "data": {
      "text/plain": [
       "5216"
      ]
     },
     "execution_count": 70,
     "metadata": {},
     "output_type": "execute_result"
    }
   ],
   "source": [
    "len(df_train)"
   ]
  },
  {
   "cell_type": "code",
   "execution_count": 71,
   "metadata": {},
   "outputs": [],
   "source": [
    "# we removed 3 side x ray imgs (blacklisted)\n",
    "df_covid19 = load_covid19images_from_folder(covid19_path)"
   ]
  },
  {
   "cell_type": "code",
   "execution_count": 72,
   "metadata": {},
   "outputs": [],
   "source": [
    "train_covid19 = df_covid19.sample(frac = 0.8,random_state=200)\n",
    "test_covid19 = df_covid19.drop(train_covid19.index).sample(frac = 0.5,random_state=200)\n",
    "val_covid19 = df_covid19.drop(train_covid19.index).drop(test_covid19.index)"
   ]
  },
  {
   "cell_type": "code",
   "execution_count": 73,
   "metadata": {},
   "outputs": [
    {
     "name": "stdout",
     "output_type": "stream",
     "text": [
      "=== COVID-19 Split: ===\n",
      "Train: 175\n",
      "Val: 22\n",
      "Test: 22\n"
     ]
    }
   ],
   "source": [
    "print('=== COVID-19 Split: ===')\n",
    "print('Train:', len(train_covid19))\n",
    "print('Val:', len(val_covid19))\n",
    "print('Test:', len(test_covid19))"
   ]
  },
  {
   "cell_type": "code",
   "execution_count": 74,
   "metadata": {},
   "outputs": [],
   "source": [
    "# Train\n",
    "df_train = df_train.append(train_covid19, ignore_index=True)\n",
    "df_train = df_train.sample(frac=1).reset_index(drop=True) # shuffle covid19 under the rest\n",
    "\n",
    "# Val\n",
    "df_val = df_val.append(val_covid19, ignore_index=True)\n",
    "df_val = df_val.sample(frac=1).reset_index(drop=True) # shuffle covid19 under the rest\n",
    "\n",
    "# Test\n",
    "df_test = df_test.append(test_covid19, ignore_index=True)\n",
    "df_test = df_test.sample(frac=1).reset_index(drop=True) # shuffle covid19 under the rest"
   ]
  },
  {
   "cell_type": "code",
   "execution_count": 75,
   "metadata": {},
   "outputs": [],
   "source": [
    "# Append some more test data to val, since there are such few.. \n",
    "df_add_val = df_test[:175] # 175 see baseline paper\n",
    "df_test = df_test[:-175]"
   ]
  },
  {
   "cell_type": "code",
   "execution_count": 76,
   "metadata": {},
   "outputs": [],
   "source": [
    "df_val = df_val.append(df_add_val, ignore_index=True)"
   ]
  },
  {
   "cell_type": "code",
   "execution_count": 77,
   "metadata": {},
   "outputs": [
    {
     "name": "stdout",
     "output_type": "stream",
     "text": [
      "=== Data: ===\n",
      "Train: 5391\n",
      "Val: 213\n",
      "Test: 471\n"
     ]
    }
   ],
   "source": [
    "print('=== Data: ===')\n",
    "print('Train:', len(df_train))\n",
    "print('Val:', len(df_val))\n",
    "print('Test:', len(df_test))"
   ]
  },
  {
   "cell_type": "markdown",
   "metadata": {},
   "source": [
    "## 2 Data generator"
   ]
  },
  {
   "cell_type": "code",
   "execution_count": 78,
   "metadata": {},
   "outputs": [
    {
     "name": "stdout",
     "output_type": "stream",
     "text": [
      "Found 5391 validated image filenames belonging to 2 classes.\n",
      "Found 213 validated image filenames belonging to 2 classes.\n",
      "Found 471 validated image filenames belonging to 2 classes.\n"
     ]
    }
   ],
   "source": [
    "# Training\n",
    "train_datagen = ImageDataGenerator(\n",
    "        rescale=1./255,\n",
    "        rotation_range = 20,\n",
    "        width_shift_range = 0.2,\n",
    "        height_shift_range = 0.2,\n",
    "        shear_range=0.2,\n",
    "        horizontal_flip = True,\n",
    "        fill_mode=\"nearest\",\n",
    "        zoom_range=0.2)\n",
    "\n",
    "train_generator = train_datagen.flow_from_dataframe(\n",
    "        dataframe = df_train,\n",
    "        target_size = (IMG_SIZE, IMG_SIZE),\n",
    "        directory = None,\n",
    "        x_col='path',\n",
    "        y_col='label',\n",
    "        batch_size = BATCH_SIZE,\n",
    "        class_mode = \"binary\",\n",
    "        shuffle=False)\n",
    "\n",
    "# Validation\n",
    "val_datagen = ImageDataGenerator(rescale=1./255)\n",
    "val_generator = val_datagen.flow_from_dataframe(\n",
    "        dataframe = df_val,\n",
    "        target_size = (IMG_SIZE, IMG_SIZE),\n",
    "        directory = None,\n",
    "        x_col='path',\n",
    "        y_col='label',\n",
    "        class_mode = \"binary\",\n",
    "        shuffle=False)\n",
    "\n",
    "test_generator = val_datagen.flow_from_dataframe(\n",
    "        dataframe = df_test,\n",
    "        target_size = (IMG_SIZE, IMG_SIZE),\n",
    "        directory = None,\n",
    "        x_col='path',\n",
    "        y_col='label',\n",
    "        class_mode = \"binary\",\n",
    "        shuffle=False)"
   ]
  },
  {
   "cell_type": "markdown",
   "metadata": {},
   "source": [
    "## 3 Modeltraining"
   ]
  },
  {
   "cell_type": "code",
   "execution_count": 79,
   "metadata": {},
   "outputs": [
    {
     "name": "stdout",
     "output_type": "stream",
     "text": [
      "Model: \"sequential_4\"\n",
      "_________________________________________________________________\n",
      "Layer (type)                 Output Shape              Param #   \n",
      "=================================================================\n",
      "vgg16 (Model)                (None, 2, 2, 512)         14714688  \n",
      "_________________________________________________________________\n",
      "global_average_pooling2d_4 ( (None, 512)               0         \n",
      "_________________________________________________________________\n",
      "dense_11 (Dense)             (None, 1024)              525312    \n",
      "_________________________________________________________________\n",
      "dropout_8 (Dropout)          (None, 1024)              0         \n",
      "_________________________________________________________________\n",
      "dense_12 (Dense)             (None, 512)               524800    \n",
      "_________________________________________________________________\n",
      "dropout_9 (Dropout)          (None, 512)               0         \n",
      "_________________________________________________________________\n",
      "dense_13 (Dense)             (None, 1)                 513       \n",
      "=================================================================\n",
      "Total params: 15,765,313\n",
      "Trainable params: 15,505,153\n",
      "Non-trainable params: 260,160\n",
      "_________________________________________________________________\n"
     ]
    }
   ],
   "source": [
    "# Based on the model of: https://ieeexplore.ieee.org/abstract/document/9057809\n",
    "# Feature Extraction and Classification of Chest X-Ray Images Using CNN to Detect Pneumonia\n",
    "\n",
    "base_model = VGG16(include_top=False,\n",
    "                  input_shape = (64,64,3),\n",
    "                  weights = 'imagenet')\n",
    "\n",
    "for layer in base_model.layers[:-12]:\n",
    "    layer.trainable = False\n",
    "\n",
    "model = Sequential()\n",
    "model.add(base_model)\n",
    "\n",
    "model.add(GlobalAveragePooling2D())\n",
    "model.add(Dense(1024,activation='relu'))\n",
    "model.add(Dropout(0.5))\n",
    "model.add(Dense(512,activation='relu'))\n",
    "model.add(Dropout(0.5))\n",
    "model.add(Dense(1,activation='sigmoid'))\n",
    "\n",
    "model.compile(optimizer = Adam(learning_rate=0.0001), loss = 'binary_crossentropy', metrics = ['accuracy'])\n",
    "model.summary()"
   ]
  },
  {
   "cell_type": "code",
   "execution_count": 80,
   "metadata": {},
   "outputs": [
    {
     "name": "stdout",
     "output_type": "stream",
     "text": [
      "Epoch 1/20\n",
      "WARNING:tensorflow:AutoGraph could not transform <function Model.make_train_function.<locals>.train_function at 0x00000202AA2C6400> and will run it as-is.\n",
      "Please report this to the TensorFlow team. When filing the bug, set the verbosity to 10 (on Linux, `export AUTOGRAPH_VERBOSITY=10`) and attach the full output.\n",
      "Cause: Bad argument number for Name: 4, expecting 3\n",
      "To silence this warning, decorate the function with @tf.autograph.experimental.do_not_convert\n",
      "WARNING: AutoGraph could not transform <function Model.make_train_function.<locals>.train_function at 0x00000202AA2C6400> and will run it as-is.\n",
      "Please report this to the TensorFlow team. When filing the bug, set the verbosity to 10 (on Linux, `export AUTOGRAPH_VERBOSITY=10`) and attach the full output.\n",
      "Cause: Bad argument number for Name: 4, expecting 3\n",
      "To silence this warning, decorate the function with @tf.autograph.experimental.do_not_convert\n",
      "168/168 [==============================] - ETA: 0s - loss: 0.3984 - accuracy: 0.8035WARNING:tensorflow:AutoGraph could not transform <function Model.make_test_function.<locals>.test_function at 0x00000202AA2F3598> and will run it as-is.\n",
      "Please report this to the TensorFlow team. When filing the bug, set the verbosity to 10 (on Linux, `export AUTOGRAPH_VERBOSITY=10`) and attach the full output.\n",
      "Cause: Bad argument number for Name: 4, expecting 3\n",
      "To silence this warning, decorate the function with @tf.autograph.experimental.do_not_convert\n",
      "WARNING: AutoGraph could not transform <function Model.make_test_function.<locals>.test_function at 0x00000202AA2F3598> and will run it as-is.\n",
      "Please report this to the TensorFlow team. When filing the bug, set the verbosity to 10 (on Linux, `export AUTOGRAPH_VERBOSITY=10`) and attach the full output.\n",
      "Cause: Bad argument number for Name: 4, expecting 3\n",
      "To silence this warning, decorate the function with @tf.autograph.experimental.do_not_convert\n",
      "168/168 [==============================] - 94s 562ms/step - loss: 0.3984 - accuracy: 0.8035 - val_loss: 0.7706 - val_accuracy: 0.7448\n",
      "Epoch 2/20\n",
      "168/168 [==============================] - 94s 559ms/step - loss: 0.2399 - accuracy: 0.8955 - val_loss: 0.4700 - val_accuracy: 0.8229\n",
      "Epoch 3/20\n",
      "168/168 [==============================] - 94s 562ms/step - loss: 0.1960 - accuracy: 0.9201 - val_loss: 0.4852 - val_accuracy: 0.8333\n",
      "Epoch 4/20\n",
      "168/168 [==============================] - 94s 557ms/step - loss: 0.1598 - accuracy: 0.9380 - val_loss: 0.3447 - val_accuracy: 0.8854\n",
      "Epoch 5/20\n",
      "168/168 [==============================] - 92s 548ms/step - loss: 0.1202 - accuracy: 0.9552 - val_loss: 0.4413 - val_accuracy: 0.8594\n",
      "Epoch 6/20\n",
      "168/168 [==============================] - 92s 545ms/step - loss: 0.1153 - accuracy: 0.9550 - val_loss: 0.5084 - val_accuracy: 0.8698\n",
      "Epoch 7/20\n",
      "168/168 [==============================] - 91s 543ms/step - loss: 0.0986 - accuracy: 0.9623 - val_loss: 0.3604 - val_accuracy: 0.8802\n",
      "Epoch 8/20\n",
      "168/168 [==============================] - 94s 557ms/step - loss: 0.0933 - accuracy: 0.9621 - val_loss: 0.4811 - val_accuracy: 0.8750\n",
      "Epoch 9/20\n",
      "168/168 [==============================] - 95s 563ms/step - loss: 0.0957 - accuracy: 0.9672 - val_loss: 0.3711 - val_accuracy: 0.8750\n",
      "Epoch 10/20\n",
      "168/168 [==============================] - 93s 552ms/step - loss: 0.0831 - accuracy: 0.9677 - val_loss: 0.2910 - val_accuracy: 0.9062\n",
      "Epoch 11/20\n",
      "168/168 [==============================] - 93s 554ms/step - loss: 0.0695 - accuracy: 0.9761 - val_loss: 0.4719 - val_accuracy: 0.8802\n",
      "Epoch 12/20\n",
      "168/168 [==============================] - 95s 565ms/step - loss: 0.0774 - accuracy: 0.9726 - val_loss: 0.3530 - val_accuracy: 0.8906\n",
      "Epoch 13/20\n",
      "168/168 [==============================] - 93s 553ms/step - loss: 0.0679 - accuracy: 0.9770 - val_loss: 0.2985 - val_accuracy: 0.9062\n",
      "Epoch 14/20\n",
      "168/168 [==============================] - 92s 548ms/step - loss: 0.0662 - accuracy: 0.9752 - val_loss: 0.3704 - val_accuracy: 0.8906\n",
      "Epoch 15/20\n",
      "168/168 [==============================] - 92s 546ms/step - loss: 0.0805 - accuracy: 0.9726 - val_loss: 0.3049 - val_accuracy: 0.8854\n",
      "Epoch 16/20\n",
      "168/168 [==============================] - 92s 546ms/step - loss: 0.0636 - accuracy: 0.9774 - val_loss: 0.4081 - val_accuracy: 0.8854\n",
      "Epoch 17/20\n",
      "168/168 [==============================] - 92s 546ms/step - loss: 0.0649 - accuracy: 0.9742 - val_loss: 0.2554 - val_accuracy: 0.9115\n",
      "Epoch 18/20\n",
      "168/168 [==============================] - 91s 545ms/step - loss: 0.0691 - accuracy: 0.9767 - val_loss: 0.2964 - val_accuracy: 0.8958\n",
      "Epoch 19/20\n",
      "168/168 [==============================] - 92s 545ms/step - loss: 0.0552 - accuracy: 0.9802 - val_loss: 0.5479 - val_accuracy: 0.8594\n",
      "Epoch 20/20\n",
      "168/168 [==============================] - 91s 543ms/step - loss: 0.0600 - accuracy: 0.9817 - val_loss: 0.3370 - val_accuracy: 0.8698\n"
     ]
    }
   ],
   "source": [
    "# history = model.fit(train_generator, validation_data=val_generator, callbacks=[early_stopping], epochs=20, verbose = True)\n",
    "history = model.fit(train_generator, \n",
    "                    steps_per_epoch=train_generator.samples // BATCH_SIZE,\n",
    "                    validation_data=val_generator,\n",
    "                    validation_steps=val_generator.samples // BATCH_SIZE,\n",
    "                    epochs=20,\n",
    "                    verbose = True)"
   ]
  },
  {
   "cell_type": "code",
   "execution_count": 81,
   "metadata": {},
   "outputs": [
    {
     "data": {
      "image/png": "[encoded data removed]",
      "text/plain": [
       "<Figure size 432x288 with 1 Axes>"
      ]
     },
     "metadata": {
      "needs_background": "light"
     },
     "output_type": "display_data"
    },
    {
     "data": {
      "image/png": "[encoded data removed]",
      "text/plain": [
       "<Figure size 432x288 with 1 Axes>"
      ]
     },
     "metadata": {
      "needs_background": "light"
     },
     "output_type": "display_data"
    }
   ],
   "source": [
    "acc = history.history['accuracy']\n",
    "val_acc = history.history['val_accuracy']\n",
    "loss = history.history['loss']\n",
    "val_loss = history.history['val_loss']\n",
    "epochs = range(1, len(acc) + 1)\n",
    "plt.plot(epochs, acc, 'blue', label='Training acc')\n",
    "plt.plot(epochs, val_acc, 'red', label='Validation acc')\n",
    "plt.title('Training and validation accuracy')\n",
    "plt.legend()\n",
    "plt.figure()\n",
    "plt.plot(epochs, loss, 'blue', label='Training loss')\n",
    "plt.plot(epochs, val_loss, 'red', label='Validation loss')\n",
    "plt.title('Training and validation loss')\n",
    "plt.legend()\n",
    "plt.show()"
   ]
  },
  {
   "cell_type": "markdown",
   "metadata": {},
   "source": [
    "## 4 Model evaluation"
   ]
  },
  {
   "cell_type": "code",
   "execution_count": 82,
   "metadata": {},
   "outputs": [
    {
     "name": "stdout",
     "output_type": "stream",
     "text": [
      "\n",
      "# Evaluate on test data\n",
      "15/15 [==============================] - 5s 301ms/step - loss: 0.3561 - accuracy: 0.8790\n",
      "test loss, test acc: [0.3560657203197479, 0.8789808750152588]\n"
     ]
    }
   ],
   "source": [
    "# Evaluate the model on the test data using `evaluate`\n",
    "print('\\n# Evaluate on test data')\n",
    "results = model.evaluate(test_generator)\n",
    "print('test loss, test acc:', results)"
   ]
  },
  {
   "cell_type": "code",
   "execution_count": 93,
   "metadata": {},
   "outputs": [],
   "source": [
    "test_steps_per_epoch = np.math.ceil(test_generator.samples / test_generator.batch_size)\n",
    "predictions = model.predict(test_generator, steps=test_steps_per_epoch)\n",
    "# Get most likely class\n",
    "predicted_classes = np.round(predictions)"
   ]
  },
  {
   "cell_type": "code",
   "execution_count": 94,
   "metadata": {},
   "outputs": [],
   "source": [
    "true_classes = test_generator.classes\n",
    "class_labels = list(test_generator.class_indices.keys())   "
   ]
  },
  {
   "cell_type": "code",
   "execution_count": 95,
   "metadata": {},
   "outputs": [
    {
     "name": "stdout",
     "output_type": "stream",
     "text": [
      "              precision    recall  f1-score   support\n",
      "\n",
      "      NORMAL       0.96      0.67      0.79       163\n",
      "   PNEUMONIA       0.85      0.99      0.91       308\n",
      "\n",
      "    accuracy                           0.88       471\n",
      "   macro avg       0.91      0.83      0.85       471\n",
      "weighted avg       0.89      0.88      0.87       471\n",
      "\n"
     ]
    }
   ],
   "source": [
    "report = classification_report(true_classes, predicted_classes, target_names=class_labels)\n",
    "print(report)"
   ]
  },
  {
   "cell_type": "code",
   "execution_count": 96,
   "metadata": {},
   "outputs": [],
   "source": [
    "y_true = test_generator.classes\n",
    "y_pred = predictions > 0.5"
   ]
  },
  {
   "cell_type": "code",
   "execution_count": 97,
   "metadata": {},
   "outputs": [],
   "source": [
    "# https://www.kaggle.com/grfiv4/plot-a-confusion-matrix/data\n",
    "def plot_confusion_matrix(cm,\n",
    "                          target_names,\n",
    "                          title='Confusion matrix',\n",
    "                          cmap=None,\n",
    "                          normalize=True):\n",
    "    \"\"\"\n",
    "    given a sklearn confusion matrix (cm), make a nice plot\n",
    "\n",
    "    Arguments\n",
    "    ---------\n",
    "    cm:           confusion matrix from sklearn.metrics.confusion_matrix\n",
    "\n",
    "    target_names: given classification classes such as [0, 1, 2]\n",
    "                  the class names, for example: ['high', 'medium', 'low']\n",
    "\n",
    "    title:        the text to display at the top of the matrix\n",
    "\n",
    "    cmap:         the gradient of the values displayed from matplotlib.pyplot.cm\n",
    "                  see http://matplotlib.org/examples/color/colormaps_reference.html\n",
    "                  plt.get_cmap('jet') or plt.cm.Blues\n",
    "\n",
    "    normalize:    If False, plot the raw numbers\n",
    "                  If True, plot the proportions\n",
    "\n",
    "    Usage\n",
    "    -----\n",
    "    plot_confusion_matrix(cm           = cm,                  # confusion matrix created by\n",
    "                                                              # sklearn.metrics.confusion_matrix\n",
    "                          normalize    = True,                # show proportions\n",
    "                          target_names = y_labels_vals,       # list of names of the classes\n",
    "                          title        = best_estimator_name) # title of graph\n",
    "\n",
    "    Citiation\n",
    "    ---------\n",
    "    http://scikit-learn.org/stable/auto_examples/model_selection/plot_confusion_matrix.html\n",
    "\n",
    "    \"\"\"\n",
    "    import matplotlib.pyplot as plt\n",
    "    import numpy as np\n",
    "    import itertools\n",
    "\n",
    "    accuracy = np.trace(cm) / float(np.sum(cm))\n",
    "    misclass = 1 - accuracy\n",
    "\n",
    "    if cmap is None:\n",
    "        cmap = plt.get_cmap('Blues')\n",
    "\n",
    "    plt.figure(figsize=(8, 6))\n",
    "    plt.imshow(cm, interpolation='nearest', cmap=cmap)\n",
    "    plt.title(title)\n",
    "    plt.colorbar()\n",
    "\n",
    "    if target_names is not None:\n",
    "        tick_marks = np.arange(len(target_names))\n",
    "        plt.xticks(tick_marks, target_names, rotation=45)\n",
    "        plt.yticks(tick_marks, target_names)\n",
    "\n",
    "    if normalize:\n",
    "        cm = cm.astype('float') / cm.sum(axis=1)[:, np.newaxis]\n",
    "\n",
    "\n",
    "    thresh = cm.max() / 1.5 if normalize else cm.max() / 2\n",
    "    for i, j in itertools.product(range(cm.shape[0]), range(cm.shape[1])):\n",
    "        if normalize:\n",
    "            plt.text(j, i, \"{:0.4f}\".format(cm[i, j]),\n",
    "                     horizontalalignment=\"center\",\n",
    "                     color=\"white\" if cm[i, j] > thresh else \"black\")\n",
    "        else:\n",
    "            plt.text(j, i, \"{:,}\".format(cm[i, j]),\n",
    "                     horizontalalignment=\"center\",\n",
    "                     color=\"white\" if cm[i, j] > thresh else \"black\")\n",
    "\n",
    "\n",
    "    plt.tight_layout()\n",
    "    plt.ylabel('True label')\n",
    "    plt.xlabel('Predicted label\\naccuracy={:0.4f}; misclass={:0.4f}'.format(accuracy, misclass))\n",
    "    plt.show()"
   ]
  },
  {
   "cell_type": "code",
   "execution_count": 98,
   "metadata": {},
   "outputs": [],
   "source": [
    "y_pred = np.round(predictions)\n",
    "cm = confusion_matrix(test_generator.classes, y_pred)"
   ]
  },
  {
   "cell_type": "code",
   "execution_count": 99,
   "metadata": {},
   "outputs": [
    {
     "data": {
      "image/png": "[encoded data removed]",
      "text/plain": [
       "<Figure size 576x432 with 2 Axes>"
      ]
     },
     "metadata": {
      "needs_background": "light"
     },
     "output_type": "display_data"
    }
   ],
   "source": [
    "plot_confusion_matrix(cm, ['Normal', 'Pneumonia'], normalize=False)"
   ]
  },
  {
   "cell_type": "code",
   "execution_count": null,
   "metadata": {},
   "outputs": [],
   "source": []
  },
  {
   "cell_type": "code",
   "execution_count": null,
   "metadata": {},
   "outputs": [],
   "source": []
  }
 ],
 "metadata": {
  "kernelspec": {
   "display_name": "Python 3",
   "language": "python",
   "name": "python3"
  },
  "language_info": {
   "codemirror_mode": {
    "name": "ipython",
    "version": 3
   },
   "file_extension": ".py",
   "mimetype": "text/x-python",
   "name": "python",
   "nbconvert_exporter": "python",
   "pygments_lexer": "ipython3",
   "version": "3.6.10"
  }
 },
 "nbformat": 4,
 "nbformat_minor": 4
}