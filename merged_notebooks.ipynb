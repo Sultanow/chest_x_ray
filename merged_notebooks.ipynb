{
 "cells": [
  {
   "cell_type": "markdown",
   "metadata": {},
   "source": [
    "# Merged notebook containing code and learnings from cxr project\n",
    "This notebook is meant as a starting point for the master thesis neural net. Ideas, learnings and code from previous notebooks is gathered and described, to summarize the current status of the project.\n",
    "\n",
    "## Overview\n",
    "*1. Preamble*<br>\n",
    "Imort of packages<br>\n",
    "Configuration variables like file paths, boolean switches, numeric settings, etc.\n",
    "\n",
    "*2. Getting the data*<br>\n",
    "Funciton definitions<br>\n",
    "Read meta data + image files and convert it to a dataframe<br>\n",
    "Unify labling of datasets<br>\n",
    "Train / Test / Val split<br>\n",
    "Shuffling data\n",
    "\n",
    "*3. Data preprocessing*<br>\n",
    "Image augmentation<br>\n",
    "Data generator class<br>\n",
    "\n",
    "*4. Model training*<br>\n",
    "**TODO: Think about a concept for comparing the nets**<br>\n",
    "Define neural net architecture<br>\n",
    "Model settings like learning rate reduction, early stopping, model save setting<br>\n",
    "Training the model\n",
    "\n",
    "*5. Model evaluation*<br>\n",
    "Check performance parameters like:\n",
    "- accuracy\n",
    "- loss\n",
    "- recall\n",
    "- f1\n",
    "\n",
    "Evaluate generalizability on validation data<br>\n",
    "Show confusion matrix"
   ]
  },
  {
   "cell_type": "markdown",
   "metadata": {},
   "source": [
    "# 1. Preamble"
   ]
  },
  {
   "cell_type": "code",
   "execution_count": 1,
   "metadata": {},
   "outputs": [
    {
     "name": "stdout",
     "output_type": "stream",
     "text": [
      "Num GPUs Available:  1\n"
     ]
    }
   ],
   "source": [
    "import tensorflow as tf\n",
    "print(\"Num GPUs Available: \", len(tf.config.list_physical_devices('GPU')))"
   ]
  },
  {
   "cell_type": "code",
   "execution_count": 2,
   "metadata": {},
   "outputs": [],
   "source": [
    "import pandas as pd\n",
    "import math\n",
    "import tensorflow as tf\n",
    "import matplotlib\n",
    "import matplotlib.pyplot as plt\n",
    "import numpy as np\n",
    "import cv2\n",
    "import os\n",
    "from pathlib import Path\n",
    "#from tensorflow.keras.applications.resnet50 import ResNet50\n",
    "#from tensorflow.keras.applications.vgg16 import VGG16\n",
    "from tensorflow.keras.preprocessing.image import ImageDataGenerator\n",
    "from tensorflow.keras import activations\n",
    "from tensorflow.keras.optimizers import Adam, RMSprop\n",
    "from tensorflow.keras.models import Sequential\n",
    "from tensorflow.keras.callbacks import EarlyStopping, Callback, ModelCheckpoint, ReduceLROnPlateau\n",
    "from tensorflow.keras.layers import Flatten, Dense, Dropout, BatchNormalization, AveragePooling2D, Conv2D, MaxPool2D, Activation, GlobalAveragePooling2D, Lambda\n",
    "from sklearn.metrics import classification_report, confusion_matrix\n",
    "from sklearn.metrics import plot_confusion_matrix\n",
    "from sklearn.model_selection import train_test_split"
   ]
  },
  {
   "cell_type": "code",
   "execution_count": 3,
   "metadata": {},
   "outputs": [],
   "source": [
    "# Config\n",
    "IMG_SIZE = 224\n",
    "BATCH_SIZE=16    # viele paper verwenden 16, abhängig von der grafikkarte\n",
    "CHANNELS=1\n",
    "TRANSFER_LEARNING=True\n",
    "DEBUG_AND_TEST_MODE=False\n",
    "\n",
    "MODELSAVE = \"models/densenet121_github_chexpert.h5\"\n",
    "\n",
    "pd.set_option('display.max_colwidth', None)\n",
    "\n",
    "DATASET_SOURCE = 1\n",
    "USE_AWS = False\n",
    "if USE_AWS:\n",
    "    DATSET_SOURCE = 2\n",
    "    \n",
    "base_path = ''\n",
    "\n",
    "if DATASET_SOURCE == 0:      # local\n",
    "    base_path = '/mnt/f/DatasetsChestXRay/'\n",
    "elif DATASET_SOURCE == 1:    # oth amberg\n",
    "    base_path = '/home/9424/NAVARA/masterarbeit/datasets/'\n",
    "elif DATASET_SOURCE == 2:    # aws\n",
    "    base_path = ''\n",
    "\n",
    "datasets = {\n",
    "    #'padchest': 'BIMCV-PadChest/',\n",
    "    #'cxr14': 'ChestX-ray14_NationalInstituesofHealthClinicalCenter/',\n",
    "    'chexpert': 'CheXpert/',\n",
    "    #'kermany': 'KermanyChildStudy/',\n",
    "    #'mimic': 'MIMIC-CXR/',\n",
    "    #'openi': 'Open-i_IndianaUniversityNetworkforPatientCare/'\n",
    "}"
   ]
  },
  {
   "cell_type": "markdown",
   "metadata": {},
   "source": [
    "## Dataset parent class\n",
    "A class that is suitable for creating a combined dataset consisting of different original datasets"
   ]
  },
  {
   "cell_type": "code",
   "execution_count": 4,
   "metadata": {},
   "outputs": [],
   "source": [
    "class dataset:\n",
    "    def __init__(self, dataset_dict=None):\n",
    "        self.df = None\n",
    "        self.train = None\n",
    "        self.test = None\n",
    "        \n",
    "        first = True\n",
    "        if dataset_dict is not None:\n",
    "            for dataset_name, dataset in dataset_dict.items():\n",
    "                if first:\n",
    "                    first = False\n",
    "                    self.df = dataset.df\n",
    "                else:\n",
    "                    self.df = pd.concat([self.df, dataset.df], ignore_index=True)\n",
    "\n",
    "    def train_test_split(self, test_size=0.2):\n",
    "        self.train, self.test = train_test_split(self.df, test_size=test_size)\n",
    "    \n",
    "    def stratified_train_test_split(self, test_size=0.2, stratify_column='dataset'):\n",
    "        self.train, self.test = train_test_split(self.df,\n",
    "                                                 test_size=test_size,\n",
    "                                                 stratify=None if stratify_column is None else self.df[stratify_column])\n",
    "\n",
    "    def shuffle(self):\n",
    "        self.df = self.df.sample(frac=1).reset_index(drop=True)\n",
    "        \n",
    "    def shuffle_all(self):\n",
    "        self.df = self.df.sample(frac=1).reset_index(drop=True)\n",
    "        if self.train is not None:\n",
    "            self.train = self.train.sample(frac=1).reset_index(drop=True)\n",
    "        else:\n",
    "            print(\"Can't shuffle training data (emtpy)\")\n",
    "        if self.test is not None:\n",
    "            self.test = self.test.sample(frac=1).reset_index(drop=True)\n",
    "        else:\n",
    "            print(\"Can't shuffle test data (empty)\")"
   ]
  },
  {
   "cell_type": "markdown",
   "metadata": {},
   "source": [
    "## Dataset child class\n",
    "A class that is used to retrieve data from the original datasets"
   ]
  },
  {
   "cell_type": "code",
   "execution_count": 5,
   "metadata": {},
   "outputs": [],
   "source": [
    "class original_dataset(dataset):\n",
    "    def __init__(self, name, folder):\n",
    "        super().__init__()\n",
    "        self.name = name\n",
    "        self.folder = folder\n",
    "        self.path = base_path + self.folder\n",
    "        self.df = self.create_dataset()\n",
    "\n",
    "    def create_dataset(self):\n",
    "        # initialize dataframe\n",
    "        data = {}\n",
    "        i = 0\n",
    "        # iterate over folders and files\n",
    "        for label_folder in ['normal/', 'pneumonia/']:\n",
    "            for filename in os.listdir(self.path + label_folder):\n",
    "                img_path = self.path + label_folder + str(filename)\n",
    "                label_pneumonia = 0\n",
    "                if label_folder == 'pneumonia/':\n",
    "                    label_pneumonia = 1\n",
    "                data[i] = {'img': img_path, 'dataset': self.name, 'label_pneumonia': label_pneumonia, 'label_viral': None, 'label_covid': None}\n",
    "                i = i + 1\n",
    "\n",
    "        print(\"Successfully created \" + self.name + \" dataset\")\n",
    "        return pd.DataFrame.from_dict(data, \"index\")\n"
   ]
  },
  {
   "cell_type": "markdown",
   "metadata": {},
   "source": [
    "# 2. Load Data"
   ]
  },
  {
   "cell_type": "code",
   "execution_count": 6,
   "metadata": {},
   "outputs": [
    {
     "name": "stdout",
     "output_type": "stream",
     "text": [
      "Successfully created chexpert dataset\n"
     ]
    }
   ],
   "source": [
    "# dictionary of all datasets\n",
    "dataset_dict = {}\n",
    "\n",
    "# load all datasets and execute a train test split\n",
    "for dataset_name, folder_name in datasets.items():\n",
    "    tmp_dataset = original_dataset(dataset_name, folder_name)\n",
    "    #tmp_dataset.train_test_split()\n",
    "    #tmp_dataset.shuffle()\n",
    "    dataset_dict[dataset_name] = tmp_dataset"
   ]
  },
  {
   "cell_type": "code",
   "execution_count": 7,
   "metadata": {},
   "outputs": [],
   "source": [
    "# Datensätze kombinieren\n",
    "combined_dataset = dataset(dataset_dict)\n",
    "combined_dataset.shuffle()\n",
    "\n",
    "# teilmenge für schnelle tests verwenden\n",
    "#combined_dataset.df, ignore = train_test_split(combined_dataset.df, test_size=0.5,\n",
    "                                                 #stratify=combined_dataset.df['label_pneumonia'])\n",
    "#combined_dataset.df = combined_dataset.df.head(2000)\n",
    "\n",
    "# train-test-split\n",
    "combined_dataset.stratified_train_test_split(stratify_column='label_pneumonia')"
   ]
  },
  {
   "cell_type": "code",
   "execution_count": 8,
   "metadata": {},
   "outputs": [
    {
     "data": {
      "text/html": [
       "<div>\n",
       "<style scoped>\n",
       "    .dataframe tbody tr th:only-of-type {\n",
       "        vertical-align: middle;\n",
       "    }\n",
       "\n",
       "    .dataframe tbody tr th {\n",
       "        vertical-align: top;\n",
       "    }\n",
       "\n",
       "    .dataframe thead th {\n",
       "        text-align: right;\n",
       "    }\n",
       "</style>\n",
       "<table border=\"1\" class=\"dataframe\">\n",
       "  <thead>\n",
       "    <tr style=\"text-align: right;\">\n",
       "      <th></th>\n",
       "      <th>img</th>\n",
       "      <th>dataset</th>\n",
       "      <th>label_pneumonia</th>\n",
       "      <th>label_viral</th>\n",
       "      <th>label_covid</th>\n",
       "    </tr>\n",
       "  </thead>\n",
       "  <tbody>\n",
       "    <tr>\n",
       "      <th>0</th>\n",
       "      <td>/home/9424/NAVARA/masterarbeit/datasets/CheXpert/normal/patient34615study3view1_frontal.jpg</td>\n",
       "      <td>chexpert</td>\n",
       "      <td>0</td>\n",
       "      <td>None</td>\n",
       "      <td>None</td>\n",
       "    </tr>\n",
       "    <tr>\n",
       "      <th>1</th>\n",
       "      <td>/home/9424/NAVARA/masterarbeit/datasets/CheXpert/pneumonia/patient01167study20view1_frontal.jpg</td>\n",
       "      <td>chexpert</td>\n",
       "      <td>1</td>\n",
       "      <td>None</td>\n",
       "      <td>None</td>\n",
       "    </tr>\n",
       "    <tr>\n",
       "      <th>2</th>\n",
       "      <td>/home/9424/NAVARA/masterarbeit/datasets/CheXpert/normal/patient25050study9view1_frontal.jpg</td>\n",
       "      <td>chexpert</td>\n",
       "      <td>0</td>\n",
       "      <td>None</td>\n",
       "      <td>None</td>\n",
       "    </tr>\n",
       "    <tr>\n",
       "      <th>3</th>\n",
       "      <td>/home/9424/NAVARA/masterarbeit/datasets/CheXpert/pneumonia/patient27675study1view1_frontal.jpg</td>\n",
       "      <td>chexpert</td>\n",
       "      <td>1</td>\n",
       "      <td>None</td>\n",
       "      <td>None</td>\n",
       "    </tr>\n",
       "    <tr>\n",
       "      <th>4</th>\n",
       "      <td>/home/9424/NAVARA/masterarbeit/datasets/CheXpert/normal/patient25247study6view1_frontal.jpg</td>\n",
       "      <td>chexpert</td>\n",
       "      <td>0</td>\n",
       "      <td>None</td>\n",
       "      <td>None</td>\n",
       "    </tr>\n",
       "  </tbody>\n",
       "</table>\n",
       "</div>"
      ],
      "text/plain": [
       "                                                                                               img  \\\n",
       "0      /home/9424/NAVARA/masterarbeit/datasets/CheXpert/normal/patient34615study3view1_frontal.jpg   \n",
       "1  /home/9424/NAVARA/masterarbeit/datasets/CheXpert/pneumonia/patient01167study20view1_frontal.jpg   \n",
       "2      /home/9424/NAVARA/masterarbeit/datasets/CheXpert/normal/patient25050study9view1_frontal.jpg   \n",
       "3   /home/9424/NAVARA/masterarbeit/datasets/CheXpert/pneumonia/patient27675study1view1_frontal.jpg   \n",
       "4      /home/9424/NAVARA/masterarbeit/datasets/CheXpert/normal/patient25247study6view1_frontal.jpg   \n",
       "\n",
       "    dataset  label_pneumonia label_viral label_covid  \n",
       "0  chexpert                0        None        None  \n",
       "1  chexpert                1        None        None  \n",
       "2  chexpert                0        None        None  \n",
       "3  chexpert                1        None        None  \n",
       "4  chexpert                0        None        None  "
      ]
     },
     "execution_count": 8,
     "metadata": {},
     "output_type": "execute_result"
    }
   ],
   "source": [
    "combined_dataset.df.head()"
   ]
  },
  {
   "cell_type": "code",
   "execution_count": 9,
   "metadata": {},
   "outputs": [
    {
     "name": "stdout",
     "output_type": "stream",
     "text": [
      "Zusammenfassung des kombinierten Datensatzes:\n",
      "Anzahl Samples: 9340    -> 4670 normal, 4670 pneumonia\n",
      "         Train: 7472    -> 3736 normal, 3736 pneumonia\n",
      "          Test: 1868    -> 934 normal, 934 pneumonia\n"
     ]
    }
   ],
   "source": [
    "print('Zusammenfassung des kombinierten Datensatzes:')\n",
    "n_normal = sum(combined_dataset.df.label_pneumonia < 0.5)\n",
    "n_pneumonia = sum(combined_dataset.df.label_pneumonia > 0.5)\n",
    "print('Anzahl Samples:', len(combined_dataset.df), '   ->', n_normal,'normal,', n_pneumonia, 'pneumonia')\n",
    "print('         Train:', len(combined_dataset.train),'   ->', sum(combined_dataset.train.label_pneumonia < 0.5), 'normal,', sum(combined_dataset.train.label_pneumonia > 0.5), 'pneumonia')\n",
    "print('          Test:', len(combined_dataset.test),'   ->', sum(combined_dataset.test.label_pneumonia < 0.5), 'normal,', sum(combined_dataset.test.label_pneumonia > 0.5), 'pneumonia')"
   ]
  },
  {
   "cell_type": "markdown",
   "metadata": {},
   "source": [
    "# 3. Data Preprocessing"
   ]
  },
  {
   "cell_type": "markdown",
   "metadata": {},
   "source": [
    "## Image Augmentation"
   ]
  },
  {
   "cell_type": "code",
   "execution_count": 10,
   "metadata": {},
   "outputs": [],
   "source": [
    "import imgaug.augmenters as iaa\n",
    "aug = iaa.AllChannelsCLAHE(clip_limit=(0.05))"
   ]
  },
  {
   "cell_type": "code",
   "execution_count": 11,
   "metadata": {},
   "outputs": [],
   "source": [
    "def applySigmoidContrast(img):\n",
    "    img = aug.augment_image(img)\n",
    "    return img"
   ]
  },
  {
   "cell_type": "code",
   "execution_count": 12,
   "metadata": {},
   "outputs": [],
   "source": [
    "import imgaug as ia\n",
    "import imgaug.augmenters as iaa\n",
    "\n",
    "sometimes = lambda aug: iaa.Sometimes(0.5, aug)\n",
    "sometimes25 = lambda aug: iaa.Sometimes(0.25, aug)\n",
    "\n",
    "seq_img = iaa.Sequential([\n",
    "    # sometimes(iaa.SigmoidContrast(gain=(3, 10), cutoff=(0.4, 0.6))),\n",
    "    sometimes(iaa.Affine(\n",
    "            rotate=(-10, 10),\n",
    "            shear=(-10,10),\n",
    "            scale={\"x\": (0.9, 1.1), \"y\": (0.9, 1.1)},\n",
    "            translate_percent={\"x\": (-0.1, 0.1), \"y\": (-0.1, 0.1)}\n",
    "    )),\n",
    "    sometimes(iaa.PerspectiveTransform(scale=(0.01, 0.15))),\n",
    "], random_order=True)"
   ]
  },
  {
   "cell_type": "markdown",
   "metadata": {},
   "source": [
    "## Data Generator class"
   ]
  },
  {
   "cell_type": "code",
   "execution_count": 13,
   "metadata": {},
   "outputs": [],
   "source": [
    "if DEBUG_AND_TEST_MODE:\n",
    "    # just testing some stuff\n",
    "    path = dataset_dict['mimic'].df.iloc[0].img\n",
    "    img = cv2.resize(cv2.imread(str(path), cv2.IMREAD_GRAYSCALE), (IMG_SIZE, IMG_SIZE))\n",
    "    #img = img.reshape(img.shape[0], img.shape[1])\n",
    "    print(np.shape(img))\n",
    "    rgb = np.repeat(img[..., np.newaxis], 3, -1)\n",
    "    print(np.shape(rgb))\n",
    "    seq_img_i = seq_img.to_deterministic()   \n",
    "    img = seq_img_i.augment_image(img)\n",
    "    plt.imshow(img, cmap='gray')"
   ]
  },
  {
   "cell_type": "code",
   "execution_count": 14,
   "metadata": {},
   "outputs": [],
   "source": [
    "if DEBUG_AND_TEST_MODE:\n",
    "    \n",
    "    fig, (ax1, ax2, ax3) = plt.subplots(1, 3, figsize=(20,10))\n",
    "    \n",
    "    ax1.imshow(rgb[:,:,0], cmap='gray')\n",
    "    ax2.imshow(rgb[:,:,1], cmap='gray')\n",
    "    ax3.imshow(rgb[:,:,2], cmap='gray')"
   ]
  },
  {
   "cell_type": "code",
   "execution_count": 15,
   "metadata": {},
   "outputs": [],
   "source": [
    "class DataGenerator(tf.keras.utils.Sequence):\n",
    "\n",
    "    def __init__(self, df, augment, img_size, batch_size=16, shuffle=True):\n",
    "        self.batch_size = batch_size\n",
    "        self.df = df\n",
    "        self.indices = self.df.index.tolist()\n",
    "        self.shuffle = shuffle\n",
    "        self.augment = augment\n",
    "        self.img_size = img_size\n",
    "\n",
    "    def __len__(self):\n",
    "        return math.ceil(len(self.indices)/ self.batch_size)\n",
    "\n",
    "    def __getitem__(self, index):\n",
    "        indexes = self.indices[index * self.batch_size:(index + 1) * self.batch_size]\n",
    "        batch = [self.indices[k] for k in indexes]\n",
    "        X, y = self.__get_data(batch)\n",
    "        return np.array(X), np.array(y)\n",
    "\n",
    "    def on_epoch_end(self):\n",
    "        if self.shuffle == True:\n",
    "            np.random.shuffle(self.indices)\n",
    "\n",
    "    def __get_data(self, batch):\n",
    "        X_img_paths = self.df['img']\n",
    "        X_imgs = []\n",
    "        Y = self.df['label_pneumonia'].iloc[batch].to_numpy()\n",
    "\n",
    "        for i in range(0, len(batch)):\n",
    "            try:\n",
    "                # read image as grayscale and resize it\n",
    "                img = cv2.resize(cv2.imread(str(X_img_paths.iloc[batch[i]]), cv2.IMREAD_GRAYSCALE), (self.img_size, self.img_size))\n",
    "                # reshape image if we are using a 1-channel custom cnn\n",
    "                if not TRANSFER_LEARNING:\n",
    "                    img = img.reshape(img.shape[0], img.shape[1],1)\n",
    "            except Exception as e:\n",
    "                print('ERROR during cv2.resize or reshape, image was: ' + str(X_img_paths.iloc[batch[i]]))\n",
    "                print(str(e))\n",
    "            \n",
    "            if(self.augment is True):\n",
    "                seq_img_i = seq_img.to_deterministic()   \n",
    "                img = seq_img_i.augment_image(img)\n",
    "            # else img remains untouched\n",
    "\n",
    "            # normalize\n",
    "            img = img / 255.0\n",
    "            # reshape grayscale image to match rgb image shape for transfer learning\n",
    "            if TRANSFER_LEARNING:\n",
    "                img = np.repeat(img[..., np.newaxis], 3, -1)\n",
    "            X_imgs.append(img)\n",
    "\n",
    "        return X_imgs, Y"
   ]
  },
  {
   "cell_type": "markdown",
   "metadata": {},
   "source": [
    "# 4. Model Training"
   ]
  },
  {
   "cell_type": "code",
   "execution_count": 16,
   "metadata": {},
   "outputs": [],
   "source": [
    "def get_custom_model():\n",
    "    model = Sequential()\n",
    "    # Conv block1 = cb0\n",
    "    model.add(Conv2D(3, (1,1), padding=\"same\",activation=\"relu\", input_shape=(IMG_SIZE,IMG_SIZE,CHANNELS)))\n",
    "    model.add(Conv2D(32, (3,3), padding = \"same\", activation='relu', input_shape=(IMG_SIZE,IMG_SIZE,CHANNELS), name=\"cb0_conv0\"))\n",
    "    model.add(Conv2D(32, (3,3), padding = \"same\", activation='relu', name=\"cb0_conv1\"))\n",
    "    model.add(MaxPool2D(pool_size = (3, 3), name=\"cb0_maxpool\"))\n",
    "    model.add(Dropout(0.2, name=\"cb0_dropout\"))\n",
    "\n",
    "    # Conv block2 = cb1\n",
    "    model.add(Conv2D(64, (3,3), padding = \"same\", activation='relu', name=\"cb1_conv0\"))\n",
    "    model.add(Conv2D(64, (5,5), strides=(2,2), padding = \"same\", activation='relu', name=\"cb1_conv1\"))\n",
    "    model.add(Conv2D(64, (3,3), padding = \"same\", activation='relu', name=\"cb1_conv2\"))\n",
    "    model.add(MaxPool2D(pool_size = (2, 2), name=\"cb1_maxpool\"))\n",
    "    model.add(Dropout(0.2, name=\"cb1_dropout\"))\n",
    "\n",
    "    # Dense block = db\n",
    "    model.add(Flatten())\n",
    "#     model.add(Dense(1024, activation='relu', name=\"db_dense1024\"))\n",
    "#     model.add(Dense(512, activation='relu', name=\"db_dense512\"))\n",
    "#     model.add(Dropout(0.2))\n",
    "    model.add(Dense(256, activation='relu', name=\"db_dense256\"))\n",
    "#     model.add(Dropout(0.2))\n",
    "\n",
    "    model.add(Dense(1, activation='sigmoid', name=\"db_dense1\"))\n",
    "\n",
    "    model.compile(optimizer = Adam(learning_rate=0.0001), loss = 'binary_crossentropy', metrics = ['accuracy'])\n",
    "    \n",
    "    return model"
   ]
  },
  {
   "cell_type": "code",
   "execution_count": 17,
   "metadata": {},
   "outputs": [],
   "source": [
    "import keras\n",
    "from classification_models.tfkeras import Classifiers\n",
    "\n",
    "def get_resnet18():\n",
    "    model = Sequential()\n",
    "    \n",
    "    ResNet18, preprocess_input = Classifiers.get('resnet18')\n",
    "    \n",
    "    n_classes = 1\n",
    "    \n",
    "    # build model\n",
    "    model.add(ResNet18(input_shape=(IMG_SIZE, IMG_SIZE, 3), weights='imagenet', include_top=False))\n",
    "    model.add(Dropout(0.25))\n",
    "    model.add(GlobalAveragePooling2D())\n",
    "    model.add(Dense(256,activation='relu'))\n",
    "    model.add(Dropout(0.5))\n",
    "    model.add(Dense(128,activation='relu'))\n",
    "    model.add(Dropout(0.5))\n",
    "    model.add(Dense(1,activation='sigmoid'))\n",
    "\n",
    "    model.compile(optimizer = Adam(learning_rate=0.0001), loss = 'binary_crossentropy', metrics = ['accuracy'])\n",
    "    \n",
    "    # freeze ResNet18\n",
    "    model.layers[0].trainable = False\n",
    "    \n",
    "    model.summary()\n",
    "    \n",
    "    # add custom layers\n",
    "    #pooling = keras.layers.GlobalAveragePooling2D()(base_model.output)\n",
    "    #output = keras.layers.Dense(n_classes)(pooling)\n",
    "    \n",
    "    #model = keras.models.Model(inputs=[base_model.input], outputs=[output])\n",
    "    \n",
    "    #model.compile(optimizer=keras.optimizers.Adam(),\n",
    "     #             loss=keras.losses.BinaryCrossentropy(from_logits=True),\n",
    "      #            metrics=[keras.metrics.BinaryAccuracy()])\n",
    "    return model"
   ]
  },
  {
   "cell_type": "code",
   "execution_count": 18,
   "metadata": {},
   "outputs": [],
   "source": [
    "def get_densenet121():\n",
    "    densenet = tf.keras.applications.DenseNet121(include_top=False,\n",
    "                                      weights=\"imagenet\",\n",
    "                                      input_shape=(IMG_SIZE, IMG_SIZE, 3))\n",
    "    \n",
    "    densenet.trainable = True\n",
    "    for layer in densenet.layers:\n",
    "        layer.trainable = True\n",
    "    \n",
    "    model = Sequential()\n",
    "    model.add(densenet)\n",
    "    model.add(tf.keras.layers.BatchNormalization())\n",
    "    model.add(tf.keras.layers.ReLU())\n",
    "    model.add(tf.keras.layers.GlobalAvgPool2D())\n",
    "    model.add(tf.keras.layers.Flatten())\n",
    "    model.add(tf.keras.layers.Dense(1))\n",
    "    \n",
    "    model.compile(optimizer = Adam(learning_rate=0.0001), loss = 'binary_crossentropy', metrics = ['accuracy'])\n",
    "    \n",
    "    if DEBUG_AND_TEST_MODE:\n",
    "        model.summary()\n",
    "    \n",
    "    return model"
   ]
  },
  {
   "cell_type": "code",
   "execution_count": 19,
   "metadata": {},
   "outputs": [],
   "source": [
    "from keras.layers import Input\n",
    "from keras.layers.core import Dense\n",
    "from keras.models import Model\n",
    "\n",
    "def get_densenet121_github():\n",
    "        \n",
    "    img_input = Input(shape=(224, 224, 3))\n",
    "    \n",
    "    base_model = tf.keras.applications.DenseNet121(include_top=False,\n",
    "                                                   input_tensor=img_input,\n",
    "                                                   weights=\"imagenet\",\n",
    "                                                   input_shape=(224, 224, 3),\n",
    "                                                   pooling='avg')\n",
    "    \n",
    "    x = base_model.output\n",
    "    \n",
    "    dense1 = Dense(512, activation=\"relu\", name='dense1')(x)\n",
    "    drop1 = K.layers.Dropout(0.4)(dense1)\n",
    "    dense2 = Dense(256, activation=\"relu\", name='dense2')(drop1)\n",
    "    drop2 = K.layers.Dropout(0.4)(dense2)\n",
    "    dense3 = Dense(1, activation=\"softmax\", name='dense3')(drop2)\n",
    "    \n",
    "    model = Model(inputs=img_input, outputs=dense3)\n",
    "    \n",
    "    model.compile(optimizer = Adam(learning_rate=0.0001), loss = 'binary_crossentropy',\n",
    "                 metrics=[\"acc\"])\n",
    "    \n",
    "    #model.summary()\n",
    "    \n",
    "    return model"
   ]
  },
  {
   "cell_type": "code",
   "execution_count": null,
   "metadata": {},
   "outputs": [],
   "source": [
    "from keras.layers import Input\n",
    "from keras.layers.core import Dense\n",
    "from keras.models import Model\n",
    "\n",
    "def get_densenet121_freezed():\n",
    "        \n",
    "    img_input = Input(shape=(224, 224, 3))\n",
    "    \n",
    "    base_model = tf.keras.applications.DenseNet121(include_top=False,\n",
    "                                                   input_tensor=img_input,\n",
    "                                                   weights=\"imagenet\",\n",
    "                                                   input_shape=(224, 224, 3),\n",
    "                                                   pooling='avg')\n",
    "    \n",
    "    base_model.trainable = True\n",
    "\n",
    "    # freeze everything but last conv block\n",
    "    for layer in base_model.layers:\n",
    "        if 'conv5' in layer.name:\n",
    "            layer.trainable = True\n",
    "        else:\n",
    "            layer.trainable = False\n",
    "\n",
    "    \n",
    "    x = base_model.output\n",
    "    \n",
    "    predictions = Dense(1, activation=\"sigmoid\", name='predictions')(x)\n",
    "    model = Model(inputs=img_input, outputs=predictions)\n",
    "    \n",
    "    model.compile(optimizer = Adam(learning_rate=0.0001), loss = 'binary_crossentropy',\n",
    "                 metrics=[\"acc\"])\n",
    "    \n",
    "    return model\n"
   ]
  },
  {
   "cell_type": "code",
   "execution_count": 20,
   "metadata": {},
   "outputs": [],
   "source": [
    "# K-Fold\n",
    "from sklearn.model_selection import StratifiedKFold\n",
    "from sklearn.utils import class_weight\n",
    "from sklearn.metrics import f1_score, accuracy_score"
   ]
  },
  {
   "cell_type": "code",
   "execution_count": 21,
   "metadata": {},
   "outputs": [],
   "source": [
    "kf5 = StratifiedKFold(n_splits=5, shuffle=True)"
   ]
  },
  {
   "cell_type": "code",
   "execution_count": 22,
   "metadata": {},
   "outputs": [],
   "source": [
    "learning_rate_reduction = ReduceLROnPlateau(\n",
    "    monitor=\"val_loss\",\n",
    "    factor=0.8,\n",
    "    patience=3,\n",
    "    verbose=2, # verbose=1 results in a warning, use verbose=2 (bit less info) or verbose=0 (no info) instead\n",
    "    mode=\"auto\",\n",
    "    min_delta=0.0001,\n",
    "    cooldown=0,\n",
    "    min_lr=0,\n",
    ")\n",
    "\n",
    "mcp_save = ModelCheckpoint(MODELSAVE, save_best_only=True, monitor='val_loss', mode='min')"
   ]
  },
  {
   "cell_type": "code",
   "execution_count": 23,
   "metadata": {},
   "outputs": [],
   "source": [
    "df_train = combined_dataset.train"
   ]
  },
  {
   "cell_type": "markdown",
   "metadata": {},
   "source": [
    "### (ist gelungen) Kermany verifikation / selbe ergebnisse reproduzieren\n",
    "Ergebnisse im Bereich 0.90 ACC konnten erreicht werden<br>\n",
    "Generalisierbarkeit auf andere Daten wie cxr14 und chexpert ist nicht gegeben (0.55 acc)\n",
    "\n",
    "### custom net auf cxr14 oder cxr14 + chexpert trainieren gelang nicht\n",
    "Extrem schlechte Ergebnisse mit exakt gleichem setup, nur die Daten wurden gewechselt\n",
    "\n",
    "### densenet121 mit pretrained weights, alle layer trainable auf kermany\n",
    "War nicht generalisierbar auf chexpert daten, hatte auf kermany aber 0.97 acc\n",
    "\n",
    "### densenet121 mit pretrained weights, alle layer trainable auf chexpert getestet\n",
    "Katastropahle Ergebnisse (0.51 acc -> WTF???)\n",
    "\n",
    "### densenet121 github implementierung mit pretrained weights wird auf kermany getestet\n",
    "https://github.com/brucechou1983/CheXNet-Keras\n",
    "Sehr gute Ergebnisse, im Prinzip genauso wie mit vorheriger Implementierung von densenet121, acc 0.97, Generalisierbarkeit auf chexpert, padchest und cxr14 absolut nicht gegeben -> acc irgendwo im Bereich 0.50-0.55<br>\n",
    "Sehr auffällig, dass fast immer pneumonie vorhergesagt wird -> weight anpassung war zwischenzeitlich entfernt\n",
    "-> mit weight anpassung gleiche ergebnisse, aber kein pneumonie bias in der vorhersage mehr\n",
    "\n",
    "### densenet121 github implementierung mit pretrained weights auf chexpert\n",
    "Schlechte ergebnisse ACC 0.61, aber generalisierbar und nicht mehr auf Pneumonia overfitted -> 0.6 acc auf padchest & 0.63 auf cxr14\n",
    "\n",
    "### densenet121 alle layer außer die conv5 layer gefreezed auf chexpert\n",
    "Noch schlechtere Ergebnisse wie ohne freeze, aber starker bias richtung pneumonie prediction -> acc auf padchest und cxr14 wieder sehr ähnlich"
   ]
  },
  {
   "cell_type": "code",
   "execution_count": 24,
   "metadata": {},
   "outputs": [],
   "source": [
    "%%time\n",
    "\n",
    "import sys\n",
    "\n",
    "# store original stdout to forward output back to the notebook afterwards\n",
    "orig_stdout = sys.stdout\n",
    "# create file to buffer keras messages\n",
    "sys.stdout = open('keras_output.txt', 'a')\n",
    "\n",
    "run = 1\n",
    "val_scores = []\n",
    "f1_scores = []\n",
    "histories = []\n",
    "best_f1_model = None\n",
    "highestF1 = 0\n",
    "EPOCHS = 12 # 12\n",
    "\n",
    "# hier das .label_pneumonia ändern in die kombinierte Variable\n",
    "for train_index, val_index in kf5.split(df_train, df_train.label_pneumonia):\n",
    "    \n",
    "    print(\"Fold Nr.: \", run)\n",
    "    \n",
    "    # daten einlesen\n",
    "    df_fold_train = df_train.iloc[train_index]\n",
    "    df_fold_val = df_train.iloc[val_index]\n",
    "\n",
    "    df_fold_train.reset_index(drop=True, inplace=True)\n",
    "    df_fold_val.reset_index(drop=True, inplace=True)\n",
    "    \n",
    "    train_generator = DataGenerator(df=df_fold_train,\n",
    "                                    augment=False,\n",
    "                                    img_size=IMG_SIZE,\n",
    "                                    batch_size=BATCH_SIZE,\n",
    "                                    shuffle=False)\n",
    "    \n",
    "    val_generator = DataGenerator(df_fold_val,\n",
    "                                  False,\n",
    "                                  IMG_SIZE,\n",
    "                                  batch_size=BATCH_SIZE,\n",
    "                                  shuffle=False)\n",
    "    \n",
    "    # Nicht mehr notwendig, da die neuen daten nicht mehr imbalanced sind\n",
    "    # Adjust class_weights since we're dealing with imbalanced data here\n",
    "    #class_weights = class_weight.compute_class_weight('balanced', np.unique(df_fold_train['label_pneumonia']), df_fold_train['label_pneumonia'])\n",
    "    #class_weights = {0: class_weights[0], 1: class_weights[1]}\n",
    "    #print(\"Class weights: \", class_weights)\n",
    "    \n",
    "    \n",
    "    # Netzarchitektur auswählen\n",
    "    #model = get_custom_model()\n",
    "    #model = get_resnet18()\n",
    "    #model = get_densenet121()\n",
    "    model = get_densenet121_github()\n",
    "\n",
    "    history = model.fit(train_generator,\n",
    "                    validation_data=val_generator,\n",
    "                    validation_steps=len(val_generator),\n",
    "                    steps_per_epoch=len(train_generator),\n",
    "                    epochs=EPOCHS,\n",
    "                    callbacks=[mcp_save], #mcp_save, learning_rate_reduction]],\n",
    "                    verbose = True) #class_weight=class_weights,\n",
    "\n",
    "    predictions = model.predict(val_generator)\n",
    "    y_pred = (predictions > 0.5).astype('uint8')\n",
    "\n",
    "    histories.append(history)\n",
    "\n",
    "    f1 = f1_score(y_pred, df_fold_val.label_pneumonia)\n",
    "\n",
    "    if(highestF1 == 0):\n",
    "        highestF1 = f1\n",
    "        best_f1_model = model\n",
    "    else:\n",
    "        if(f1 > highestF1):\n",
    "            highestF1 = f1\n",
    "            best_f1_model = model\n",
    "\n",
    "    val_acc = accuracy_score(y_pred , df_fold_val.label_pneumonia)\n",
    "\n",
    "    f1_scores.append(f1)\n",
    "    val_scores.append(val_acc)\n",
    "    \n",
    "    run += 1\n",
    "    \n",
    "#model.summary()"
   ]
  },
  {
   "cell_type": "code",
   "execution_count": 25,
   "metadata": {},
   "outputs": [],
   "source": [
    "# print output in notebook instead of the file\n",
    "sys.stdout = orig_stdout"
   ]
  },
  {
   "cell_type": "code",
   "execution_count": 26,
   "metadata": {},
   "outputs": [
    {
     "data": {
      "text/plain": [
       "0.5872535110179243"
      ]
     },
     "execution_count": 26,
     "metadata": {},
     "output_type": "execute_result"
    }
   ],
   "source": [
    "np.array(f1_scores).mean()"
   ]
  },
  {
   "cell_type": "code",
   "execution_count": 27,
   "metadata": {},
   "outputs": [
    {
     "data": {
      "text/plain": [
       "0.6195150277811357"
      ]
     },
     "execution_count": 27,
     "metadata": {},
     "output_type": "execute_result"
    }
   ],
   "source": [
    "np.array(val_scores).mean()"
   ]
  },
  {
   "cell_type": "code",
   "execution_count": 28,
   "metadata": {},
   "outputs": [],
   "source": [
    "# set model to the best f1 model\n",
    "model = best_f1_model"
   ]
  },
  {
   "cell_type": "markdown",
   "metadata": {},
   "source": [
    "# 5. Model Evaluation"
   ]
  },
  {
   "cell_type": "markdown",
   "metadata": {},
   "source": [
    "## Internal Evaluation"
   ]
  },
  {
   "cell_type": "code",
   "execution_count": 29,
   "metadata": {},
   "outputs": [],
   "source": [
    "df_test = combined_dataset.test\n",
    "df_test.reset_index(drop=True, inplace=True)"
   ]
  },
  {
   "cell_type": "code",
   "execution_count": 30,
   "metadata": {},
   "outputs": [],
   "source": [
    "test_generator = DataGenerator(df_test, False, IMG_SIZE, batch_size=BATCH_SIZE, shuffle=False)"
   ]
  },
  {
   "cell_type": "code",
   "execution_count": 31,
   "metadata": {},
   "outputs": [
    {
     "data": {
      "text/plain": [
       "<matplotlib.image.AxesImage at 0x7f9f6c3a26a0>"
      ]
     },
     "execution_count": 31,
     "metadata": {},
     "output_type": "execute_result"
    },
    {
     "data": {
      "image/png": "[encoded data removed]",
      "text/plain": [
       "<Figure size 432x288 with 1 Axes>"
      ]
     },
     "metadata": {
      "needs_background": "light"
     },
     "output_type": "display_data"
    }
   ],
   "source": [
    "plt.imshow(test_generator.__getitem__(0)[0][0][:,:,0], cmap=\"gray\")"
   ]
  },
  {
   "cell_type": "code",
   "execution_count": 32,
   "metadata": {},
   "outputs": [
    {
     "name": "stdout",
     "output_type": "stream",
     "text": [
      "117/117 [==============================] - 108s 920ms/step - loss: 1.5558 - acc: 0.6103\n",
      "test loss, test acc: [1.5557630062103271, 0.6102783679962158]\n"
     ]
    }
   ],
   "source": [
    "results = model.evaluate(test_generator)\n",
    "print(\"test loss, test acc:\", results)"
   ]
  },
  {
   "cell_type": "code",
   "execution_count": 33,
   "metadata": {},
   "outputs": [
    {
     "name": "stdout",
     "output_type": "stream",
     "text": [
      "Test pneumonia cases:  934\n",
      "Test normal cases:  934\n"
     ]
    }
   ],
   "source": [
    "print(\"Test pneumonia cases: \", len(df_test[df_test['label_pneumonia'] == 1]))\n",
    "print(\"Test normal cases: \", len(df_test[df_test['label_pneumonia'] == 0]))"
   ]
  },
  {
   "cell_type": "code",
   "execution_count": 34,
   "metadata": {},
   "outputs": [],
   "source": [
    "predictions = model.predict(test_generator)"
   ]
  },
  {
   "cell_type": "code",
   "execution_count": 35,
   "metadata": {},
   "outputs": [],
   "source": [
    "y_true = test_generator.df.label_pneumonia # we can do this since we do not shuffle in test_generator ;)\n",
    "y_pred = predictions > 0.5"
   ]
  },
  {
   "cell_type": "code",
   "execution_count": 36,
   "metadata": {},
   "outputs": [],
   "source": [
    "y_pred_classes = []\n",
    "\n",
    "for x in y_pred:\n",
    "    if x == 0:\n",
    "        y_pred_classes.append(\"NORMAL\")\n",
    "    else:\n",
    "        y_pred_classes.append(\"PNEUMONIA\")"
   ]
  },
  {
   "cell_type": "code",
   "execution_count": 37,
   "metadata": {},
   "outputs": [],
   "source": [
    "y_true_classes = []\n",
    "\n",
    "for x in y_true:\n",
    "    if x == 0:\n",
    "        y_true_classes.append(\"NORMAL\")\n",
    "    else:\n",
    "        y_true_classes.append(\"PNEUMONIA\")"
   ]
  },
  {
   "cell_type": "code",
   "execution_count": 38,
   "metadata": {},
   "outputs": [
    {
     "name": "stdout",
     "output_type": "stream",
     "text": [
      "[[610 324]\n",
      " [404 530]]\n"
     ]
    }
   ],
   "source": [
    "cm = confusion_matrix(y_true, y_pred)\n",
    "print(cm)"
   ]
  },
  {
   "cell_type": "code",
   "execution_count": 39,
   "metadata": {},
   "outputs": [
    {
     "name": "stdout",
     "output_type": "stream",
     "text": [
      "              precision    recall  f1-score   support\n",
      "\n",
      "      NORMAL       0.60      0.65      0.63       934\n",
      "   PNEUMONIA       0.62      0.57      0.59       934\n",
      "\n",
      "    accuracy                           0.61      1868\n",
      "   macro avg       0.61      0.61      0.61      1868\n",
      "weighted avg       0.61      0.61      0.61      1868\n",
      "\n"
     ]
    }
   ],
   "source": [
    "report = classification_report(y_true_classes, y_pred_classes) #, target_names=[\"NORMAL\", \"PNEUMONIA\"])\n",
    "print(report)"
   ]
  },
  {
   "cell_type": "code",
   "execution_count": 40,
   "metadata": {},
   "outputs": [
    {
     "data": {
      "text/plain": [
       "[Text(0, 0.5, 'Normal'), Text(0, 1.5, 'Pneumonia')]"
      ]
     },
     "execution_count": 40,
     "metadata": {},
     "output_type": "execute_result"
    },
    {
     "data": {
      "image/png": "[encoded data removed]",
      "text/plain": [
       "<Figure size 432x288 with 2 Axes>"
      ]
     },
     "metadata": {
      "needs_background": "light"
     },
     "output_type": "display_data"
    }
   ],
   "source": [
    "import seaborn as sns\n",
    "import matplotlib.pyplot as plt\n",
    "ax= plt.subplot()\n",
    "sns.heatmap(cm, annot=True, ax = ax, fmt='g', cmap='Blues') #annot=True to annotate cells\n",
    "sns.set(font_scale=1.5)\n",
    "\n",
    "# labels, title and ticks\n",
    "ax.set_xlabel('Predicted')\n",
    "ax.set_ylabel('True')\n",
    "ax.set_title('normal vs. pneumonia')\n",
    "ax.xaxis.set_ticklabels(['Normal', 'Pneumonia'])\n",
    "ax.yaxis.set_ticklabels(['Normal', 'Pneumonia'])"
   ]
  },
  {
   "cell_type": "markdown",
   "metadata": {},
   "source": [
    "## Validation on an exernal dataset"
   ]
  },
  {
   "cell_type": "code",
   "execution_count": 49,
   "metadata": {},
   "outputs": [
    {
     "name": "stdout",
     "output_type": "stream",
     "text": [
      "Successfully created cxr14 dataset\n"
     ]
    }
   ],
   "source": [
    "external_testset = original_dataset('cxr14', 'ChestX-ray14_NationalInstituesofHealthClinicalCenter/')\n",
    "#external_testset = original_dataset('chexpert', 'CheXpert/')\n",
    "#external_testset = original_dataset('padchest', 'BIMCV-PadChest/')\n",
    "external_testset.shuffle()\n",
    "external_testset.stratified_train_test_split(test_size=0.1, stratify_column='label_pneumonia')"
   ]
  },
  {
   "cell_type": "code",
   "execution_count": 50,
   "metadata": {},
   "outputs": [
    {
     "name": "stdout",
     "output_type": "stream",
     "text": [
      "Zusammenfassung der externen Validierungsdaten:\n",
      "Anzahl Samples: 2862    -> 1431 normal, 1431 pneumonia\n",
      "         Train: 2575    -> 1288 normal, 1287 pneumonia\n",
      "          Test: 287    -> 143 normal, 144 pneumonia\n"
     ]
    }
   ],
   "source": [
    "print('Zusammenfassung der externen Validierungsdaten:')\n",
    "n_normal = sum(external_testset.df.label_pneumonia < 0.5)\n",
    "n_pneumonia = sum(external_testset.df.label_pneumonia > 0.5)\n",
    "print('Anzahl Samples:', len(external_testset.df), '   ->', n_normal,'normal,', n_pneumonia, 'pneumonia')\n",
    "print('         Train:', len(external_testset.train),'   ->', sum(external_testset.train.label_pneumonia < 0.5), 'normal,', sum(external_testset.train.label_pneumonia > 0.5), 'pneumonia')\n",
    "print('          Test:', len(external_testset.test),'   ->', sum(external_testset.test.label_pneumonia < 0.5), 'normal,', sum(external_testset.test.label_pneumonia > 0.5), 'pneumonia')"
   ]
  },
  {
   "cell_type": "code",
   "execution_count": 51,
   "metadata": {},
   "outputs": [],
   "source": [
    "external_testset.test.reset_index(drop=True, inplace=True)\n",
    "external_datagenerator = DataGenerator(external_testset.test, False, IMG_SIZE, batch_size=BATCH_SIZE, shuffle=False)"
   ]
  },
  {
   "cell_type": "code",
   "execution_count": 52,
   "metadata": {},
   "outputs": [
    {
     "data": {
      "text/plain": [
       "<matplotlib.image.AxesImage at 0x7f9f4047bf10>"
      ]
     },
     "execution_count": 52,
     "metadata": {},
     "output_type": "execute_result"
    },
    {
     "data": {
      "image/png": "[encoded data removed]",
      "text/plain": [
       "<Figure size 432x288 with 1 Axes>"
      ]
     },
     "metadata": {},
     "output_type": "display_data"
    }
   ],
   "source": [
    "plt.imshow(external_datagenerator.__getitem__(0)[0][0][:,:,0], cmap=\"gray\")"
   ]
  },
  {
   "cell_type": "code",
   "execution_count": 53,
   "metadata": {},
   "outputs": [],
   "source": [
    "external_pred = model.predict(external_datagenerator)"
   ]
  },
  {
   "cell_type": "code",
   "execution_count": 54,
   "metadata": {},
   "outputs": [],
   "source": [
    "y_true = external_datagenerator.df.label_pneumonia # we can do this since we do not shuffle in test_generator ;)\n",
    "y_pred = external_pred > 0.5\n",
    "\n",
    "y_pred_classes = []\n",
    "\n",
    "for x in y_pred:\n",
    "    if x == 0:\n",
    "        y_pred_classes.append(\"NORMAL\")\n",
    "    else:\n",
    "        y_pred_classes.append(\"PNEUMONIA\")\n",
    "        \n",
    "        \n",
    "y_true_classes = []\n",
    "\n",
    "for x in y_true:\n",
    "    if x == 0:\n",
    "        y_true_classes.append(\"NORMAL\")\n",
    "    else:\n",
    "        y_true_classes.append(\"PNEUMONIA\")"
   ]
  },
  {
   "cell_type": "code",
   "execution_count": 55,
   "metadata": {},
   "outputs": [
    {
     "name": "stdout",
     "output_type": "stream",
     "text": [
      "              precision    recall  f1-score   support\n",
      "\n",
      "      NORMAL       0.60      0.78      0.68       143\n",
      "   PNEUMONIA       0.69      0.49      0.57       144\n",
      "\n",
      "    accuracy                           0.63       287\n",
      "   macro avg       0.65      0.63      0.63       287\n",
      "weighted avg       0.65      0.63      0.63       287\n",
      "\n"
     ]
    }
   ],
   "source": [
    "report = classification_report(y_true_classes, y_pred_classes) #, target_names=[\"NORMAL\", \"PNEUMONIA\"])\n",
    "print(report)"
   ]
  },
  {
   "cell_type": "code",
   "execution_count": 56,
   "metadata": {},
   "outputs": [
    {
     "name": "stdout",
     "output_type": "stream",
     "text": [
      "[[112  31]\n",
      " [ 74  70]]\n"
     ]
    }
   ],
   "source": [
    "cm = confusion_matrix(y_true, y_pred)\n",
    "print(cm)"
   ]
  },
  {
   "cell_type": "code",
   "execution_count": null,
   "metadata": {},
   "outputs": [],
   "source": []
  }
 ],
 "metadata": {
  "kernelspec": {
   "display_name": "Python 3",
   "language": "python",
   "name": "python3"
  },
  "language_info": {
   "codemirror_mode": {
    "name": "ipython",
    "version": 3
   },
   "file_extension": ".py",
   "mimetype": "text/x-python",
   "name": "python",
   "nbconvert_exporter": "python",
   "pygments_lexer": "ipython3",
   "version": "3.8.3"
  }
 },
 "nbformat": 4,
 "nbformat_minor": 2
}
