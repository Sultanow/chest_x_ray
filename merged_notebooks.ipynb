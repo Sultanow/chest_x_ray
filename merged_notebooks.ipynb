{
 "metadata": {
  "language_info": {
   "codemirror_mode": {
    "name": "ipython",
    "version": 3
   },
   "file_extension": ".py",
   "mimetype": "text/x-python",
   "name": "python",
   "nbconvert_exporter": "python",
   "pygments_lexer": "ipython3",
   "version": "3.8.2-final"
  },
  "orig_nbformat": 2,
  "kernelspec": {
   "name": "python3",
   "display_name": "Python 3",
   "language": "python"
  }
 },
 "nbformat": 4,
 "nbformat_minor": 2,
 "cells": [
  {
   "source": [
    "# Merged notebook containing code and learnings from cxr project\n",
    "This notebook is meant as a starting point for the master thesis neural net. Ideas, learnings and code from previous notebooks is gathered and described, to summarize the current status of the project.\n",
    "\n",
    "## General components that can be kept\n",
    "*1. Preamble*<br>\n",
    "Imort of packages<br>\n",
    "Configuration variables like file paths, boolean switches, numeric settings, etc.\n",
    "\n",
    "*2. Getting the data*<br>\n",
    "Funciton definitions<br>\n",
    "*CHANGES NECESSARY* Read meta data + image files and convert it to a dataframe<br>\n",
    "*CHANGES NECESSARY* Unify labling of datasets<br>\n",
    "Train / Test / Val split<br>\n",
    "Shuffling data\n",
    "\n",
    "*3. Data preprocessing*<br>\n",
    "Image augmentation<br>\n",
    "Data generator class<br>\n",
    "\n",
    "*4. Model training*<br>\n",
    "**TODO: Think about a concept for comparing the nets**<br>\n",
    "Define neural net architecture<br>\n",
    "Model settings like learning rate reduction, early stopping, model save setting<br>\n",
    "Training the model\n",
    "\n",
    "*5. Model evaluation*<br>\n",
    "Check performance parameters like:\n",
    "- accuracy\n",
    "- loss\n",
    "- recall\n",
    "- f1\n",
    "\n",
    "Evaluate generalizability on validation data<br>\n",
    "Show confusion matrix"
   ],
   "cell_type": "markdown",
   "metadata": {}
  },
  {
   "source": [
    "# 1. Preamble"
   ],
   "cell_type": "markdown",
   "metadata": {}
  },
  {
   "cell_type": "code",
   "execution_count": 84,
   "metadata": {},
   "outputs": [],
   "source": [
    "import pandas as pd\n",
    "import math\n",
    "import tensorflow as tf\n",
    "import matplotlib\n",
    "import matplotlib.pyplot as plt\n",
    "import numpy as np\n",
    "import cv2\n",
    "import os\n",
    "from pathlib import Path\n",
    "from tensorflow.keras.applications.resnet50 import ResNet50\n",
    "from tensorflow.keras.applications.vgg16 import VGG16\n",
    "from tensorflow.keras.preprocessing.image import ImageDataGenerator\n",
    "from tensorflow.keras import activations\n",
    "from tensorflow.keras.optimizers import Adam, RMSprop\n",
    "from tensorflow.keras.models import Sequential\n",
    "from tensorflow.keras.callbacks import EarlyStopping, Callback, ModelCheckpoint, ReduceLROnPlateau\n",
    "from tensorflow.keras.layers import Flatten, Dense, Dropout, BatchNormalization, AveragePooling2D, Conv2D, MaxPool2D, Activation, GlobalAveragePooling2D, Lambda\n",
    "from sklearn.metrics import classification_report, confusion_matrix\n",
    "from sklearn.metrics import plot_confusion_matrix\n",
    "from sklearn.model_selection import train_test_split"
   ]
  },
  {
   "cell_type": "code",
   "execution_count": 85,
   "metadata": {},
   "outputs": [],
   "source": [
    "# Config\n",
    "IMG_SIZE = 256\n",
    "BATCH_SIZE=32\n",
    "CHANNELS=2\n",
    "USE_MASKS=True\n",
    "\n",
    "MODELSAVE = \"models/cnn_gray_030121\"\n",
    "\n",
    "if(USE_MASKS):\n",
    "    MODELSAVE += \"_w_masks.h5\"\n",
    "else:\n",
    "    MODELSAVE += \"_wo_masks.h5\"\n",
    "\n",
    "pd.set_option('display.max_colwidth', None)\n",
    "\n",
    "base_path = '/mnt/f/DatasetsChestXRay/'\n",
    "\n",
    "datasets = {\n",
    "    'padchest': 'BIMCV-PadChest/',\n",
    "    'cxr14': 'ChestX-ray14_NationalInstituesofHealthClinicalCenter/',\n",
    "    'chexpert': 'CheXpert/',\n",
    "    'kermany': 'KermanyChildStudy/',\n",
    "    'mimic': 'MIMIC-CXR/',\n",
    "    'openi': 'Open-i_IndianaUniversityNetworkforPatientCare/'\n",
    "}"
   ]
  },
  {
   "cell_type": "code",
   "execution_count": 86,
   "metadata": {},
   "outputs": [],
   "source": [
    "class dataset:\n",
    "    def __init__(self, name, folder):\n",
    "        self.name = name\n",
    "        self.folder = folder\n",
    "        self.path = base_path + self.folder\n",
    "        self.df = self.create_dataset()\n",
    "        self.train = None\n",
    "        self.test = None\n",
    "\n",
    "    def create_dataset(self):\n",
    "        # initialize dataframe\n",
    "        data = {}\n",
    "        i = 0\n",
    "        # iterate over folders and files\n",
    "        for label_folder in ['normal/', 'pneumonia/']:\n",
    "            for filename in os.listdir(self.path + label_folder):\n",
    "                img_path = self.path + label_folder + str(filename)\n",
    "                label_pneumonia = 0\n",
    "                if label_folder == 'pneumonia/':\n",
    "                    label_pneumonia = 1\n",
    "                data[i] = {'img': img_path, 'dataset': self.name, 'label_pneumonia': label_pneumonia, 'label_viral': None, 'label_covid': None}\n",
    "                i = i + 1\n",
    "\n",
    "        print(\"Successfully created \" + self.name + \" dataset\")\n",
    "        return pd.DataFrame.from_dict(data, \"index\")\n",
    "\n",
    "    def train_test_split(self, test_size=0.2, random_state=200):\n",
    "        self.train, self.test = train_test_split(self.df, test_size=test_size, random_state=random_state)"
   ]
  },
  {
   "source": [
    "# 2. Load Data"
   ],
   "cell_type": "markdown",
   "metadata": {}
  },
  {
   "cell_type": "code",
   "execution_count": 90,
   "metadata": {},
   "outputs": [
    {
     "output_type": "stream",
     "name": "stdout",
     "text": [
      "Successfully created padchest dataset\n",
      "Successfully created cxr14 dataset\n",
      "Successfully created chexpert dataset\n",
      "Successfully created kermany dataset\n",
      "Successfully created mimic dataset\n",
      "Successfully created openi dataset\n"
     ]
    }
   ],
   "source": [
    "# dictionary of all datasets\n",
    "dataset_dict = {}\n",
    "\n",
    "for dataset_name, folder_name in datasets.items():\n",
    "    tmp_dataset = dataset(dataset_name, folder_name)\n",
    "    tmp_dataset.train_test_split()\n",
    "    dataset_dict[dataset_name] = tmp_dataset\n",
    "\n"
   ]
  },
  {
   "cell_type": "code",
   "execution_count": 88,
   "metadata": {},
   "outputs": [
    {
     "output_type": "execute_result",
     "data": {
      "text/plain": [
       "                                                                                                           img  \\\n",
       "0  /mnt/f/DatasetsChestXRay/BIMCV-PadChest/normal/216840111366964012558082906712009307140128467_00-103-132.png   \n",
       "1  /mnt/f/DatasetsChestXRay/BIMCV-PadChest/normal/216840111366964012283393834152009029131935409_00-012-142.png   \n",
       "2  /mnt/f/DatasetsChestXRay/BIMCV-PadChest/normal/216840111366964012558082906712009338102001322_00-084-144.png   \n",
       "3            /mnt/f/DatasetsChestXRay/BIMCV-PadChest/normal/331526407267774289321200683504949782995_l8wza5.png   \n",
       "4  /mnt/f/DatasetsChestXRay/BIMCV-PadChest/normal/216840111366964012373310883942009163103156006_00-100-066.png   \n",
       "\n",
       "    dataset  label_pneumonia label_viral label_covid  \n",
       "0  padchest                0        None        None  \n",
       "1  padchest                0        None        None  \n",
       "2  padchest                0        None        None  \n",
       "3  padchest                0        None        None  \n",
       "4  padchest                0        None        None  "
      ],
      "text/html": "<div>\n<style scoped>\n    .dataframe tbody tr th:only-of-type {\n        vertical-align: middle;\n    }\n\n    .dataframe tbody tr th {\n        vertical-align: top;\n    }\n\n    .dataframe thead th {\n        text-align: right;\n    }\n</style>\n<table border=\"1\" class=\"dataframe\">\n  <thead>\n    <tr style=\"text-align: right;\">\n      <th></th>\n      <th>img</th>\n      <th>dataset</th>\n      <th>label_pneumonia</th>\n      <th>label_viral</th>\n      <th>label_covid</th>\n    </tr>\n  </thead>\n  <tbody>\n    <tr>\n      <th>0</th>\n      <td>/mnt/f/DatasetsChestXRay/BIMCV-PadChest/normal/216840111366964012558082906712009307140128467_00-103-132.png</td>\n      <td>padchest</td>\n      <td>0</td>\n      <td>None</td>\n      <td>None</td>\n    </tr>\n    <tr>\n      <th>1</th>\n      <td>/mnt/f/DatasetsChestXRay/BIMCV-PadChest/normal/216840111366964012283393834152009029131935409_00-012-142.png</td>\n      <td>padchest</td>\n      <td>0</td>\n      <td>None</td>\n      <td>None</td>\n    </tr>\n    <tr>\n      <th>2</th>\n      <td>/mnt/f/DatasetsChestXRay/BIMCV-PadChest/normal/216840111366964012558082906712009338102001322_00-084-144.png</td>\n      <td>padchest</td>\n      <td>0</td>\n      <td>None</td>\n      <td>None</td>\n    </tr>\n    <tr>\n      <th>3</th>\n      <td>/mnt/f/DatasetsChestXRay/BIMCV-PadChest/normal/331526407267774289321200683504949782995_l8wza5.png</td>\n      <td>padchest</td>\n      <td>0</td>\n      <td>None</td>\n      <td>None</td>\n    </tr>\n    <tr>\n      <th>4</th>\n      <td>/mnt/f/DatasetsChestXRay/BIMCV-PadChest/normal/216840111366964012373310883942009163103156006_00-100-066.png</td>\n      <td>padchest</td>\n      <td>0</td>\n      <td>None</td>\n      <td>None</td>\n    </tr>\n  </tbody>\n</table>\n</div>"
     },
     "metadata": {},
     "execution_count": 88
    }
   ],
   "source": [
    "dataset_dict['padchest'].df.head()"
   ]
  },
  {
   "cell_type": "code",
   "execution_count": 91,
   "metadata": {},
   "outputs": [
    {
     "output_type": "execute_result",
     "data": {
      "text/plain": [
       "                                                                                                                 img  \\\n",
       "1936     /mnt/f/DatasetsChestXRay/BIMCV-PadChest/normal/216840111366964013076187734852011280100757461_00-195-078.png   \n",
       "3952     /mnt/f/DatasetsChestXRay/BIMCV-PadChest/normal/216840111366964013307756408102012073090901423_01-091-187.png   \n",
       "4730               /mnt/f/DatasetsChestXRay/BIMCV-PadChest/normal/205831107437374337656296325098340678881_egcigv.png   \n",
       "749      /mnt/f/DatasetsChestXRay/BIMCV-PadChest/normal/216840111366964012487858717522009231124942752_00-003-065.png   \n",
       "7084  /mnt/f/DatasetsChestXRay/BIMCV-PadChest/pneumonia/216840111366964013451228379692012298103355408_01-116-066.png   \n",
       "\n",
       "       dataset  label_pneumonia label_viral label_covid  \n",
       "1936  padchest                0        None        None  \n",
       "3952  padchest                0        None        None  \n",
       "4730  padchest                0        None        None  \n",
       "749   padchest                0        None        None  \n",
       "7084  padchest                1        None        None  "
      ],
      "text/html": "<div>\n<style scoped>\n    .dataframe tbody tr th:only-of-type {\n        vertical-align: middle;\n    }\n\n    .dataframe tbody tr th {\n        vertical-align: top;\n    }\n\n    .dataframe thead th {\n        text-align: right;\n    }\n</style>\n<table border=\"1\" class=\"dataframe\">\n  <thead>\n    <tr style=\"text-align: right;\">\n      <th></th>\n      <th>img</th>\n      <th>dataset</th>\n      <th>label_pneumonia</th>\n      <th>label_viral</th>\n      <th>label_covid</th>\n    </tr>\n  </thead>\n  <tbody>\n    <tr>\n      <th>1936</th>\n      <td>/mnt/f/DatasetsChestXRay/BIMCV-PadChest/normal/216840111366964013076187734852011280100757461_00-195-078.png</td>\n      <td>padchest</td>\n      <td>0</td>\n      <td>None</td>\n      <td>None</td>\n    </tr>\n    <tr>\n      <th>3952</th>\n      <td>/mnt/f/DatasetsChestXRay/BIMCV-PadChest/normal/216840111366964013307756408102012073090901423_01-091-187.png</td>\n      <td>padchest</td>\n      <td>0</td>\n      <td>None</td>\n      <td>None</td>\n    </tr>\n    <tr>\n      <th>4730</th>\n      <td>/mnt/f/DatasetsChestXRay/BIMCV-PadChest/normal/205831107437374337656296325098340678881_egcigv.png</td>\n      <td>padchest</td>\n      <td>0</td>\n      <td>None</td>\n      <td>None</td>\n    </tr>\n    <tr>\n      <th>749</th>\n      <td>/mnt/f/DatasetsChestXRay/BIMCV-PadChest/normal/216840111366964012487858717522009231124942752_00-003-065.png</td>\n      <td>padchest</td>\n      <td>0</td>\n      <td>None</td>\n      <td>None</td>\n    </tr>\n    <tr>\n      <th>7084</th>\n      <td>/mnt/f/DatasetsChestXRay/BIMCV-PadChest/pneumonia/216840111366964013451228379692012298103355408_01-116-066.png</td>\n      <td>padchest</td>\n      <td>1</td>\n      <td>None</td>\n      <td>None</td>\n    </tr>\n  </tbody>\n</table>\n</div>"
     },
     "metadata": {},
     "execution_count": 91
    }
   ],
   "source": [
    "dataset_dict['padchest'].train.head()"
   ]
  },
  {
   "source": [
    "# 3. Data Preprocessing"
   ],
   "cell_type": "markdown",
   "metadata": {}
  },
  {
   "cell_type": "code",
   "execution_count": null,
   "metadata": {},
   "outputs": [],
   "source": []
  },
  {
   "source": [
    "# 4. Model Training"
   ],
   "cell_type": "markdown",
   "metadata": {}
  },
  {
   "source": [
    "# 5. Model Evaluation"
   ],
   "cell_type": "markdown",
   "metadata": {}
  },
  {
   "cell_type": "code",
   "execution_count": null,
   "metadata": {},
   "outputs": [],
   "source": []
  }
 ]
}