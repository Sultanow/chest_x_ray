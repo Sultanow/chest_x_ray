{
 "metadata": {
  "language_info": {
   "codemirror_mode": {
    "name": "ipython",
    "version": 3
   },
   "file_extension": ".py",
   "mimetype": "text/x-python",
   "name": "python",
   "nbconvert_exporter": "python",
   "pygments_lexer": "ipython3",
   "version": "3.8.2-final"
  },
  "orig_nbformat": 2,
  "kernelspec": {
   "name": "python3",
   "display_name": "Python 3.8.2 64-bit ('embeddedIntelligence': conda)",
   "metadata": {
    "interpreter": {
     "hash": "71361d1c44e3fdbd8c99e99c6c4a6cbf36815e9b696a08e5f439070c65f755d2"
    }
   }
  }
 },
 "nbformat": 4,
 "nbformat_minor": 2,
 "cells": [
  {
   "source": [
    "# Preamble"
   ],
   "cell_type": "markdown",
   "metadata": {}
  },
  {
   "cell_type": "code",
   "execution_count": 1,
   "metadata": {},
   "outputs": [],
   "source": [
    "import numpy as np\n",
    "import pandas as pd\n",
    "import shutil\n",
    "import matplotlib.pyplot as plt"
   ]
  },
  {
   "cell_type": "code",
   "execution_count": 2,
   "metadata": {},
   "outputs": [],
   "source": [
    "# Set this to false for faster execution time\n",
    "SHOW_IMAGES = False\n",
    "\n",
    "# Whether or not to save matplotlib figures as pdf output file for latex\n",
    "USE_LATEX_ENGINE = True\n",
    "\n",
    "if USE_LATEX_ENGINE:\n",
    "    import matplotlib\n",
    "    # matplotlib.use(\"pgf\")     # pgf doesn't work for some plots because they exceed the max value that pgf can calculate\n",
    "    matplotlib.rcParams.update({\n",
    "        # \"pgf.texsystem\": \"pdflatex\",\n",
    "        # 'pgf.rcfonts': False,\n",
    "        'font.family': 'serif',\n",
    "        'text.usetex': True,\n",
    "    })"
   ]
  },
  {
   "source": [
    "# Function Definitions"
   ],
   "cell_type": "markdown",
   "metadata": {}
  },
  {
   "cell_type": "code",
   "execution_count": 3,
   "metadata": {},
   "outputs": [],
   "source": [
    "def _generate_output_string(element, data):\n",
    "    \"\"\"\n",
    "    Returns a string that contains information about the percentual share of a value in a list\n",
    "    \"\"\"\n",
    "    # if not isinstance(element, str): # make sure element is of type string, convert otherwise\n",
    "    #     element = str(element)\n",
    "    \n",
    "    n_total = len(data)\n",
    "    bool_list = (data == element)\n",
    "    n_elements = sum(bool_list)\n",
    "\n",
    "    return \"{:<30}\".format(str(n_elements) + '/' + str(n_total) + ' (' + \"{:.2f}\".format(((n_elements / n_total) * 100)) + '%)')"
   ]
  },
  {
   "cell_type": "code",
   "execution_count": 4,
   "metadata": {},
   "outputs": [],
   "source": [
    "def calculate_percentages(normal_data, pneumonia_data, additional_df=None):\n",
    "    \"\"\"\n",
    "    checks if two lists contain the same set of values - returns a warning if the sets dont match - prints a string with information about the distribution if they match\n",
    "    \"\"\"\n",
    "    if len(set(normal_data)) is not len(set(pneumonia_data)):\n",
    "        print('WARNING! Categories of healthy and pneumonia data are not identical!')\n",
    "        print('Normal: ' + str(set(normal_data)))\n",
    "        print('Pneumonia: ' + str(set(pneumonia_data)))\n",
    "        print('Number of appearences (normal):')\n",
    "        n_normal_set = ''\n",
    "        for category in set(normal_data):\n",
    "            n_normal_set += \"'\" + str(category) + \"': \" + str(sum(normal_data == category)) + '\\n'   # single quote: non-escaped string, double quote: escaped string\n",
    "        print(n_normal_set)\n",
    "        return\n",
    "    else:\n",
    "        print(set(normal_data))\n",
    "    if additional_df is None:\n",
    "        print('{:<21}'.format('') + '{:<30}'.format('normal') + '{:<30}'.format('pneumonia'))\n",
    "    else:\n",
    "        print('{:<21}'.format('') + '{:<30}'.format('normal (total)') + '{:<30}'.format('normal (filtered)') + '{:<30}'.format('pneumonia'))\n",
    "\n",
    "    for element in set(normal_data):\n",
    "        category_string = \"{:<21}\".format(str(element) + ': ')\n",
    "        if additional_df is None:\n",
    "            print(category_string + _generate_output_string(element, normal_data) + _generate_output_string(element, pneumonia_data))\n",
    "        else:\n",
    "            print(category_string + _generate_output_string(element, normal_data) + _generate_output_string(element, additional_df) + _generate_output_string(element, pneumonia_data))"
   ]
  },
  {
   "cell_type": "code",
   "execution_count": 5,
   "metadata": {},
   "outputs": [],
   "source": [
    "def find_appearences(df, column, value):\n",
    "    \"\"\"\n",
    "    searches for appearences of a specified value within the column of a dataframe - prints the number of appearences and the corresponding indexes\n",
    "    \"\"\"\n",
    "    \n",
    "    value = str(value)\n",
    "    print('found ' + str(sum(df[column] == value)) + ' rows')\n",
    "    index_list = df.index[df[column] == value].tolist()\n",
    "    print('Indexes: ' + str(index_list))\n",
    "    return index_list"
   ]
  },
  {
   "cell_type": "code",
   "execution_count": 6,
   "metadata": {},
   "outputs": [],
   "source": [
    "def drop_from_column(df, column, value, convert_to_string=True):\n",
    "    \"\"\"\n",
    "    searches for appearences of a specified value within a column of a dataframe - drops each row where the value appeared from the dataframe\n",
    "    \"\"\"\n",
    "    if convert_to_string:\n",
    "        value = str(value)\n",
    "    print('Dropping ' + str(sum(df[column] == value)) + ' rows')\n",
    "    index_list = df.index[df[column] == value].tolist()\n",
    "    df.drop(index_list, inplace=True)"
   ]
  },
  {
   "source": [
    "# Data preparation"
   ],
   "cell_type": "markdown",
   "metadata": {}
  },
  {
   "cell_type": "code",
   "execution_count": 7,
   "metadata": {},
   "outputs": [
    {
     "output_type": "stream",
     "name": "stdout",
     "text": [
      "length of meta data: 377110\nlength of findings: 227827\n"
     ]
    }
   ],
   "source": [
    "path_mimic_cxr = '/mnt/f/05_DatensaetzeJan/MIMIC-CXR-JPG_Chest-Radiographs/physionet.org/files/mimic-cxr-jpg/2.0.0/'\n",
    "file_name_meta_data = 'mimic-cxr-2.0.0-metadata.csv'\n",
    "file_name_findings = 'mimic-cxr-2.0.0-negbio.csv'\n",
    "\n",
    "meta_data_csv_df = pd.read_csv(path_mimic_cxr + file_name_meta_data)\n",
    "meta_data_csv_df.reset_index(drop=True, inplace=True)\n",
    "\n",
    "findings_df = pd.read_csv(path_mimic_cxr + file_name_findings)\n",
    "findings_df.reset_index(drop=True, inplace=True)\n",
    "\n",
    "print('length of meta data:', len(meta_data_csv_df))\n",
    "print('length of findings:', len(findings_df))\n"
   ]
  },
  {
   "cell_type": "code",
   "execution_count": 8,
   "metadata": {},
   "outputs": [
    {
     "output_type": "stream",
     "name": "stdout",
     "text": [
      "304688 of 377110 Samples have the same entries for both procedure Labels\n"
     ]
    }
   ],
   "source": [
    "print(sum(meta_data_csv_df.ProcedureCodeSequence_CodeMeaning == meta_data_csv_df.PerformedProcedureStepDescription), 'of', len(meta_data_csv_df), 'Samples have the same entries for both procedure Labels')"
   ]
  },
  {
   "cell_type": "code",
   "execution_count": 9,
   "metadata": {},
   "outputs": [
    {
     "output_type": "stream",
     "name": "stdout",
     "text": [
      "Description of 12 columns (meta data):\n"
     ]
    },
    {
     "output_type": "execute_result",
     "data": {
      "text/plain": [
       "{'Columns',\n",
       " 'PatientOrientationCodeSequence_CodeMeaning',\n",
       " 'PerformedProcedureStepDescription',\n",
       " 'ProcedureCodeSequence_CodeMeaning',\n",
       " 'Rows',\n",
       " 'StudyDate',\n",
       " 'StudyTime',\n",
       " 'ViewCodeSequence_CodeMeaning',\n",
       " 'ViewPosition',\n",
       " 'dicom_id',\n",
       " 'study_id',\n",
       " 'subject_id'}"
      ]
     },
     "metadata": {},
     "execution_count": 9
    }
   ],
   "source": [
    "print('Description of', len(set(meta_data_csv_df)), 'columns (meta data):')\n",
    "set(meta_data_csv_df)"
   ]
  },
  {
   "cell_type": "code",
   "execution_count": 10,
   "metadata": {},
   "outputs": [
    {
     "output_type": "stream",
     "name": "stdout",
     "text": [
      "Description of 16 columns (findings):\n"
     ]
    },
    {
     "output_type": "execute_result",
     "data": {
      "text/plain": [
       "{'Atelectasis',\n",
       " 'Cardiomegaly',\n",
       " 'Consolidation',\n",
       " 'Edema',\n",
       " 'Enlarged Cardiomediastinum',\n",
       " 'Fracture',\n",
       " 'Lung Lesion',\n",
       " 'Lung Opacity',\n",
       " 'No Finding',\n",
       " 'Pleural Effusion',\n",
       " 'Pleural Other',\n",
       " 'Pneumonia',\n",
       " 'Pneumothorax',\n",
       " 'Support Devices',\n",
       " 'study_id',\n",
       " 'subject_id'}"
      ]
     },
     "metadata": {},
     "execution_count": 10
    }
   ],
   "source": [
    "print('Description of', len(set(findings_df)), 'columns (findings):')\n",
    "set(findings_df)"
   ]
  },
  {
   "cell_type": "code",
   "execution_count": 11,
   "metadata": {},
   "outputs": [
    {
     "output_type": "execute_result",
     "data": {
      "text/plain": [
       "65379"
      ]
     },
     "metadata": {},
     "execution_count": 11
    }
   ],
   "source": [
    "len(set(findings_df['subject_id']))"
   ]
  },
  {
   "cell_type": "code",
   "execution_count": 12,
   "metadata": {},
   "outputs": [
    {
     "output_type": "execute_result",
     "data": {
      "text/plain": [
       "65379"
      ]
     },
     "metadata": {},
     "execution_count": 12
    }
   ],
   "source": [
    "len(set(meta_data_csv_df['subject_id']))"
   ]
  },
  {
   "cell_type": "code",
   "execution_count": 13,
   "metadata": {},
   "outputs": [],
   "source": [
    "# replacing nan with 'nan'\n",
    "meta_data_csv_df.fillna('nan', inplace=True)\n",
    "\n",
    "findings_df.fillna('nan', inplace=True)\n",
    "findings_df.rename(columns={\"No Finding\": \"NoFinding\", \"Support Devices\": \"SupportDevices\"}, errors='raise', inplace=True)"
   ]
  },
  {
   "cell_type": "code",
   "execution_count": 14,
   "metadata": {},
   "outputs": [
    {
     "output_type": "stream",
     "name": "stdout",
     "text": [
      "69233     d11d846d-a8712fc6-6255f03b-3151579a-daa9ce87\n91224     88e7202b-f6a935af-4a217de5-dfeaee4f-6af14df0\n259079    addecea6-adda0c2b-5df30aac-63b4e019-0af175c6\n372474    9dd61767-a3387e42-47e0dbcd-f522f7eb-44b46c84\n301588    12ece850-c6960161-abc7f321-78fca705-7899a3b6\n66782     55186a73-7e819d4c-5c43f6be-598458b7-2021bfe4\n272640    7a7d4955-4f39770b-da4fd657-50119623-b1311579\n229239    abf6b836-96445478-9021bae3-f5af9134-10cecb86\n9146      c96a3609-3ccd0269-9d55c79c-b794bca9-7bb6715f\n157336    f79ad1c9-ed5edf06-ff437a6b-c3ff4486-a19a3969\nName: dicom_id, dtype: object\n"
     ]
    }
   ],
   "source": [
    "print(meta_data_csv_df.sample(n=10).dicom_id)"
   ]
  },
  {
   "cell_type": "code",
   "execution_count": 15,
   "metadata": {},
   "outputs": [],
   "source": [
    "meta_data_csv_df['ProcedureCombined'] = meta_data_csv_df['ProcedureCodeSequence_CodeMeaning'] + ' ' + meta_data_csv_df['PerformedProcedureStepDescription']"
   ]
  },
  {
   "cell_type": "code",
   "execution_count": 16,
   "metadata": {},
   "outputs": [],
   "source": [
    "# join dataframes together so it's easier to drop samples, etc.\n",
    "meta_data_df = findings_df.join(meta_data_csv_df.set_index('study_id'), rsuffix='_meta', on='study_id')\n",
    "meta_data_df.reset_index(drop=True, inplace=True)"
   ]
  },
  {
   "cell_type": "code",
   "execution_count": 17,
   "metadata": {},
   "outputs": [],
   "source": [
    "import matplotlib.image as mpimg\n",
    "\n",
    "num = 1\n",
    "for sample in meta_data_df.sample(n=10).itertuples():\n",
    "    if not SHOW_IMAGES:\n",
    "        break\n",
    "\n",
    "    print('=== ' + str(num) + '. sample study ===')\n",
    "    print('NoFinding:', sample.NoFinding, ', Pneumonia:', sample.Pneumonia, ', SupportDevices', sample.SupportDevices)\n",
    "\n",
    "    study_meta_data = meta_data_df[meta_data_df['study_id'] == sample.study_id]\n",
    "    print('\\nPatientOrientationCodeSequence_CodeMeaning, PerformedProcedureStepDescription, ProcedureCodeSequence_CodeMeaning')\n",
    "    print('StudyDate, StudyTime, ViewCodeSequence_CodeMeaning, ViewPosition\\n')\n",
    "\n",
    "    num = num + 1\n",
    "    \n",
    "    for image in study_meta_data.itertuples():\n",
    "        print(image.PatientOrientationCodeSequence_CodeMeaning, image.PerformedProcedureStepDescription, image.ProcedureCodeSequence_CodeMeaning)\n",
    "        print(image.StudyDate, image.StudyTime, image.ViewCodeSequence_CodeMeaning, image.ViewPosition)\n",
    "\n",
    "        file_path = path_mimic_cxr + 'files/p' + str(sample.subject_id)[:2] + '/p' + str(sample.subject_id) + '/s' + str(sample.study_id) + '/' + str(image.dicom_id) + '.jpg'\n",
    "        # print(file_path)\n",
    "        plt.figure(num)\n",
    "        img = mpimg.imread(file_path)\n",
    "        imgplot = plt.imshow(img, cmap=\"gray\")\n",
    "        plt.show()\n",
    "    \n",
    "    print('\\n')\n",
    "\n"
   ]
  },
  {
   "cell_type": "code",
   "execution_count": 18,
   "metadata": {},
   "outputs": [
    {
     "output_type": "stream",
     "name": "stdout",
     "text": [
      "{'LATERAL', 'AP AXIAL', 'PA RLD', 'XTABLE LATERAL', 'PA LLD', 'LAO', 'AP LLD', 'LL', 'AP RLD', 'RAO', 'PA', 'AP', 'SWIMMERS', 'nan', 'LPO'}\n",
      "                     normal                        pneumonia                     \n",
      "LATERAL:             82852/377095 (21.97%)         82852/377095 (21.97%)         \n",
      "AP AXIAL:            2/377095 (0.00%)              2/377095 (0.00%)              \n",
      "PA RLD:              1/377095 (0.00%)              1/377095 (0.00%)              \n",
      "XTABLE LATERAL:      2/377095 (0.00%)              2/377095 (0.00%)              \n",
      "PA LLD:              4/377095 (0.00%)              4/377095 (0.00%)              \n",
      "LAO:                 3/377095 (0.00%)              3/377095 (0.00%)              \n",
      "AP LLD:              2/377095 (0.00%)              2/377095 (0.00%)              \n",
      "LL:                  35129/377095 (9.32%)          35129/377095 (9.32%)          \n",
      "AP RLD:              2/377095 (0.00%)              2/377095 (0.00%)              \n",
      "RAO:                 3/377095 (0.00%)              3/377095 (0.00%)              \n",
      "PA:                  96155/377095 (25.50%)         96155/377095 (25.50%)         \n",
      "AP:                  147169/377095 (39.03%)        147169/377095 (39.03%)        \n",
      "SWIMMERS:            1/377095 (0.00%)              1/377095 (0.00%)              \n",
      "nan:                 15769/377095 (4.18%)          15769/377095 (4.18%)          \n",
      "LPO:                 1/377095 (0.00%)              1/377095 (0.00%)              \n",
      "\n",
      "\n",
      "{'lateral', 'antero-posterior', 'Erect', 'Recumbent', 'postero-anterior', 'left lateral', 'nan', 'left anterior oblique'}\n",
      "                     normal                        pneumonia                     \n",
      "lateral:             82611/377095 (21.91%)         82611/377095 (21.91%)         \n",
      "antero-posterior:    146444/377095 (38.83%)        146444/377095 (38.83%)        \n",
      "Erect:               623/377095 (0.17%)            623/377095 (0.17%)            \n",
      "Recumbent:           18/377095 (0.00%)             18/377095 (0.00%)             \n",
      "postero-anterior:    95852/377095 (25.42%)         95852/377095 (25.42%)         \n",
      "left lateral:        35029/377095 (9.29%)          35029/377095 (9.29%)          \n",
      "nan:                 16497/377095 (4.37%)          16497/377095 (4.37%)          \n",
      "left anterior oblique: 21/377095 (0.01%)             21/377095 (0.01%)             \n",
      "\n",
      "\n",
      "{'DX CHEST & RIBS', 'DX CHEST PORT LINE/TUBE PLCMT 4 EXAMS', 'NEONATE CHEST & ABD TOGETHER PORTABLE LINE/TUBE PLCT 1 EXAM', 'CHEST (PRE-OP AP ONLY)', 'TRAUMA No.2 (AP CXR & PELVIS PORT)', 'DX CHEST 2 VIEW PICC LINE PLACEMENT', 'DX CHEST PORT LINE/TUBE PLCMT 5 EXAMS', 'DX CHEST PORT LINE/TUBE PLCMT 3 EXAMS', 'TRAUMA #3 (PORT CHEST ONLY)', 'CHEST (PORTABLE AP)', 'DX CHEST WITH DECUB', 'postero-anterior', 'DX CHEST PORT LINE/TUBE PLCMT 1 EXAM', 'ABDOMEN (SUPINE ONLY)', 'DX TRAUMA SERIES (PORTABLE)', 'CHEST PORT LINE/TUBE PLCT 1 EXAM', 'DX CHEST SGL VIEW PICC LINE PLACEMENT', 'CHEST (SINGLE VIEW)', 'DX CHEST PORTABLE PICC LINE PLACEMENT', 'CHEST PORT LINE PLACEMENT', 'CHEST PRE-OP', 'CHEST SGL VIEW/LINE PLACEMENT', 'DX CHEST PORT LINE/TUBE PLCMT 2 EXAMS', 'lateral', 'antero-posterior', 'CHEST (PA AND LAT)', 'CHEST (PRE-OP PA & LAT)'}\n",
      "                     normal                        pneumonia                     \n",
      "DX CHEST & RIBS:     131/377095 (0.03%)            131/377095 (0.03%)            \n",
      "DX CHEST PORT LINE/TUBE PLCMT 4 EXAMS: 60/377095 (0.02%)             60/377095 (0.02%)             \n",
      "NEONATE CHEST & ABD TOGETHER PORTABLE LINE/TUBE PLCT 1 EXAM: 2/377095 (0.00%)              2/377095 (0.00%)              \n",
      "CHEST (PRE-OP AP ONLY): 1/377095 (0.00%)              1/377095 (0.00%)              \n",
      "TRAUMA No.2 (AP CXR & PELVIS PORT): 7/377095 (0.00%)              7/377095 (0.00%)              \n",
      "DX CHEST 2 VIEW PICC LINE PLACEMENT: 77/377095 (0.02%)             77/377095 (0.02%)             \n",
      "DX CHEST PORT LINE/TUBE PLCMT 5 EXAMS: 17/377095 (0.00%)             17/377095 (0.00%)             \n",
      "DX CHEST PORT LINE/TUBE PLCMT 3 EXAMS: 157/377095 (0.04%)            157/377095 (0.04%)            \n",
      "TRAUMA #3 (PORT CHEST ONLY): 14/377095 (0.00%)             14/377095 (0.00%)             \n",
      "CHEST (PORTABLE AP): 126288/377095 (33.49%)        126288/377095 (33.49%)        \n",
      "DX CHEST WITH DECUB: 104/377095 (0.03%)            104/377095 (0.03%)            \n",
      "postero-anterior:    190/377095 (0.05%)            190/377095 (0.05%)            \n",
      "DX CHEST PORT LINE/TUBE PLCMT 1 EXAM: 255/377095 (0.07%)            255/377095 (0.07%)            \n",
      "ABDOMEN (SUPINE ONLY): 1/377095 (0.00%)              1/377095 (0.00%)              \n",
      "DX TRAUMA SERIES (PORTABLE): 1/377095 (0.00%)              1/377095 (0.00%)              \n",
      "CHEST PORT LINE/TUBE PLCT 1 EXAM: 13/377095 (0.00%)             13/377095 (0.00%)             \n",
      "DX CHEST SGL VIEW PICC LINE PLACEMENT: 3/377095 (0.00%)              3/377095 (0.00%)              \n",
      "CHEST (SINGLE VIEW): 85/377095 (0.02%)             85/377095 (0.02%)             \n",
      "DX CHEST PORTABLE PICC LINE PLACEMENT: 329/377095 (0.09%)            329/377095 (0.09%)            \n",
      "CHEST PORT LINE PLACEMENT: 20/377095 (0.01%)             20/377095 (0.01%)             \n",
      "CHEST PRE-OP:        6/377095 (0.00%)              6/377095 (0.00%)              \n",
      "CHEST SGL VIEW/LINE PLACEMENT: 3/377095 (0.00%)              3/377095 (0.00%)              \n",
      "DX CHEST PORT LINE/TUBE PLCMT 2 EXAMS: 165/377095 (0.04%)            165/377095 (0.04%)            \n",
      "lateral:             241/377095 (0.06%)            241/377095 (0.06%)            \n",
      "antero-posterior:    264/377095 (0.07%)            264/377095 (0.07%)            \n",
      "CHEST (PA AND LAT):  248653/377095 (65.94%)        248653/377095 (65.94%)        \n",
      "CHEST (PRE-OP PA & LAT): 8/377095 (0.00%)              8/377095 (0.00%)              \n",
      "\n",
      "\n",
      "{'ABD PORT LINE/TUBE PLACEMENT 1 EXAM PORT PORT', 'CHEST (LAT DECUB ONLY) PORT', 'RIB UNILAT, W/ AP CHEST LEFT', 'CHEST (LAT DECUB ONLY)', 'CHEST (PRE-OP AP ONLY)', 'Portable Chest', 'ABD PORT LINE/TUBE PLACEMENT 1 EXAM PORT', 'RIB, UNILAT (NO CXR)', 'AP/PA SINGLE VIEW EXPIRATORY CHEST', 'CHEST PORT LINE/TUBE PLCT 1 EXAM PORT', 'DX CHEST 2 VIEW PICC LINE PLACEMENT', 'ABDOMEN (LAT DECUB ONLY) PORT LEFT', 'ABDOMEN (SUPINE ONLY) PORT', 'Performed Desc', 'CHEST SGL VIEW/LINE PLACEMENT PORT', 'DX CHEST PORT LINE/TUBE PLCMT 3 EXAMS', 'TRAUMA #3 (PORT CHEST ONLY)', 'CHEST PORT. LINE PLACEMENT', 'CHEST (PORTABLE AP)', 'BABYGRAM (CHEST ONLY)', 'CHEST (PA AND LAT) PORT', 'RIB BILAT, W/AP CHEST', 'DX CHEST PORT LINE/TUBE PLCMT 1 EXAM', 'ABDOMEN (SUPINE ONLY)', 'nan', 'CHEST (BOTH OBLIQUES ONLY) PORT', 'CHEST (PORTABLE AP) PORT', 'CHEST (SINGLE VIEW) PORT', 'CHEST PORT LINE/TUBE PLCT 1 EXAM', 'CHEST (SINGLE VIEW)', 'DX CHEST PORTABLE PICC LINE PLACEMENT', 'TRAUMA #2 (AP CXR AND PELVIS PORT)', 'CHEST SGL VIEW/LINE PLACEMENT', 'PORTABLE ABDOMEN', 'CHEST (PRE-OP PA AND LAT)', 'RIB BILAT, W/AP CHEST PORT', 'ABD PORT LINE/TUBE PLACEMENT 1 EXAM', 'PELVIS (AP ONLY)', 'CHEST (PA, LAT AND OBLIQUES)', 'CHEST (PRE-OP PA AND LAT) PORT', 'CHEST (SINGLE VIEW) IN O.R.', 'ABDOMEN (SUPINE AND ERECT)', 'KNEE (AP, LAT AND TUNNEL) LEFT', 'CHEST (APICAL LORDOTIC ONLY) PORT', 'CHEST (PA AND LAT)', 'CHEST (PORTABLE AP) IN O.R.', 'CHEST (PRE-OP PA AND LAT) PORT PORT', 'ABDOMEN (SUPINE AND ERECT) PORT'}\n",
      "                     normal                        pneumonia                     \n",
      "ABD PORT LINE/TUBE PLACEMENT 1 EXAM PORT PORT: 3/377095 (0.00%)              3/377095 (0.00%)              \n",
      "CHEST (LAT DECUB ONLY) PORT: 1/377095 (0.00%)              1/377095 (0.00%)              \n",
      "RIB UNILAT, W/ AP CHEST LEFT: 4/377095 (0.00%)              4/377095 (0.00%)              \n",
      "CHEST (LAT DECUB ONLY): 1/377095 (0.00%)              1/377095 (0.00%)              \n",
      "CHEST (PRE-OP AP ONLY): 7/377095 (0.00%)              7/377095 (0.00%)              \n",
      "Portable Chest:      10/377095 (0.00%)             10/377095 (0.00%)             \n",
      "ABD PORT LINE/TUBE PLACEMENT 1 EXAM PORT: 25/377095 (0.01%)             25/377095 (0.01%)             \n",
      "RIB, UNILAT (NO CXR): 2/377095 (0.00%)              2/377095 (0.00%)              \n",
      "AP/PA SINGLE VIEW EXPIRATORY CHEST: 8/377095 (0.00%)              8/377095 (0.00%)              \n",
      "CHEST PORT LINE/TUBE PLCT 1 EXAM PORT: 3/377095 (0.00%)              3/377095 (0.00%)              \n",
      "DX CHEST 2 VIEW PICC LINE PLACEMENT: 4/377095 (0.00%)              4/377095 (0.00%)              \n",
      "ABDOMEN (LAT DECUB ONLY) PORT LEFT: 2/377095 (0.00%)              2/377095 (0.00%)              \n",
      "ABDOMEN (SUPINE ONLY) PORT: 15/377095 (0.00%)             15/377095 (0.00%)             \n",
      "Performed Desc:      33317/377095 (8.84%)          33317/377095 (8.84%)          \n",
      "CHEST SGL VIEW/LINE PLACEMENT PORT: 6/377095 (0.00%)              6/377095 (0.00%)              \n",
      "DX CHEST PORT LINE/TUBE PLCMT 3 EXAMS: 5/377095 (0.00%)              5/377095 (0.00%)              \n",
      "TRAUMA #3 (PORT CHEST ONLY): 26/377095 (0.01%)             26/377095 (0.01%)             \n",
      "CHEST PORT. LINE PLACEMENT: 82/377095 (0.02%)             82/377095 (0.02%)             \n",
      "CHEST (PORTABLE AP): 126338/377095 (33.50%)        126338/377095 (33.50%)        \n",
      "BABYGRAM (CHEST ONLY): 1/377095 (0.00%)              1/377095 (0.00%)              \n",
      "CHEST (PA AND LAT) PORT: 213/377095 (0.06%)            213/377095 (0.06%)            \n",
      "RIB BILAT, W/AP CHEST: 1/377095 (0.00%)              1/377095 (0.00%)              \n",
      "DX CHEST PORT LINE/TUBE PLCMT 1 EXAM: 6/377095 (0.00%)              6/377095 (0.00%)              \n",
      "ABDOMEN (SUPINE ONLY): 6/377095 (0.00%)              6/377095 (0.00%)              \n",
      "nan:                 35507/377095 (9.42%)          35507/377095 (9.42%)          \n",
      "CHEST (BOTH OBLIQUES ONLY) PORT: 1/377095 (0.00%)              1/377095 (0.00%)              \n",
      "CHEST (PORTABLE AP) PORT: 12/377095 (0.00%)             12/377095 (0.00%)             \n",
      "CHEST (SINGLE VIEW) PORT: 60/377095 (0.02%)             60/377095 (0.02%)             \n",
      "CHEST PORT LINE/TUBE PLCT 1 EXAM: 5/377095 (0.00%)              5/377095 (0.00%)              \n",
      "CHEST (SINGLE VIEW): 217/377095 (0.06%)            217/377095 (0.06%)            \n",
      "DX CHEST PORTABLE PICC LINE PLACEMENT: 109/377095 (0.03%)            109/377095 (0.03%)            \n",
      "TRAUMA #2 (AP CXR AND PELVIS PORT): 78/377095 (0.02%)             78/377095 (0.02%)             \n",
      "CHEST SGL VIEW/LINE PLACEMENT: 5/377095 (0.00%)              5/377095 (0.00%)              \n",
      "PORTABLE ABDOMEN:    278/377095 (0.07%)            278/377095 (0.07%)            \n",
      "CHEST (PRE-OP PA AND LAT): 35/377095 (0.01%)             35/377095 (0.01%)             \n",
      "RIB BILAT, W/AP CHEST PORT: 1/377095 (0.00%)              1/377095 (0.00%)              \n",
      "ABD PORT LINE/TUBE PLACEMENT 1 EXAM: 11/377095 (0.00%)             11/377095 (0.00%)             \n",
      "PELVIS (AP ONLY):    1/377095 (0.00%)              1/377095 (0.00%)              \n",
      "CHEST (PA, LAT AND OBLIQUES): 9/377095 (0.00%)              9/377095 (0.00%)              \n",
      "CHEST (PRE-OP PA AND LAT) PORT: 6/377095 (0.00%)              6/377095 (0.00%)              \n",
      "CHEST (SINGLE VIEW) IN O.R.: 3/377095 (0.00%)              3/377095 (0.00%)              \n",
      "ABDOMEN (SUPINE AND ERECT): 4/377095 (0.00%)              4/377095 (0.00%)              \n",
      "KNEE (AP, LAT AND TUNNEL) LEFT: 2/377095 (0.00%)              2/377095 (0.00%)              \n",
      "CHEST (APICAL LORDOTIC ONLY) PORT: 1/377095 (0.00%)              1/377095 (0.00%)              \n",
      "CHEST (PA AND LAT):  180651/377095 (47.91%)        180651/377095 (47.91%)        \n",
      "CHEST (PORTABLE AP) IN O.R.: 9/377095 (0.00%)              9/377095 (0.00%)              \n",
      "CHEST (PRE-OP PA AND LAT) PORT PORT: 1/377095 (0.00%)              1/377095 (0.00%)              \n",
      "ABDOMEN (SUPINE AND ERECT) PORT: 3/377095 (0.00%)              3/377095 (0.00%)              \n"
     ]
    }
   ],
   "source": [
    "# analyze and remove images with lateral perspective\n",
    "calculate_percentages(meta_data_df['ViewPosition'], meta_data_df['ViewPosition'])\n",
    "print('\\n')\n",
    "calculate_percentages(meta_data_df['ViewCodeSequence_CodeMeaning'], meta_data_df['ViewCodeSequence_CodeMeaning'])\n",
    "print('\\n')\n",
    "calculate_percentages(meta_data_df['ProcedureCodeSequence_CodeMeaning'], meta_data_df['ProcedureCodeSequence_CodeMeaning'])\n",
    "print('\\n')\n",
    "calculate_percentages(meta_data_df['PerformedProcedureStepDescription'], meta_data_df['PerformedProcedureStepDescription'])"
   ]
  },
  {
   "cell_type": "code",
   "execution_count": 19,
   "metadata": {},
   "outputs": [
    {
     "output_type": "stream",
     "name": "stdout",
     "text": [
      "Dropping 35129 rows\n",
      "Dropping 2 rows\n",
      "Dropping 4 rows\n",
      "Dropping 3 rows\n",
      "Dropping 1 rows\n",
      "Dropping 2 rows\n",
      "Dropping 2 rows\n",
      "Dropping 1 rows\n",
      "Dropping 3 rows\n",
      "Dropping 1 rows\n",
      "Dropping 2 rows\n",
      "Dropping 82852 rows\n"
     ]
    }
   ],
   "source": [
    "# Drop irrelevant rows for ViewPosition first and afterwards try to get information for samples where ViewPosition is nan from other fields \n",
    "drop_from_column(meta_data_df, 'ViewPosition', 'LL')\n",
    "drop_from_column(meta_data_df, 'ViewPosition', 'AP LLD')\n",
    "drop_from_column(meta_data_df, 'ViewPosition', 'PA LLD')\n",
    "drop_from_column(meta_data_df, 'ViewPosition', 'RAO')\n",
    "drop_from_column(meta_data_df, 'ViewPosition', 'SWIMMERS')\n",
    "drop_from_column(meta_data_df, 'ViewPosition', 'XTABLE LATERAL')\n",
    "drop_from_column(meta_data_df, 'ViewPosition', 'AP RLD')\n",
    "drop_from_column(meta_data_df, 'ViewPosition', 'PA RLD')\n",
    "drop_from_column(meta_data_df, 'ViewPosition', 'LAO')\n",
    "drop_from_column(meta_data_df, 'ViewPosition', 'LPO')\n",
    "drop_from_column(meta_data_df, 'ViewPosition', 'AP AXIAL')\n",
    "drop_from_column(meta_data_df, 'ViewPosition', 'LATERAL')"
   ]
  },
  {
   "cell_type": "code",
   "execution_count": 20,
   "metadata": {},
   "outputs": [
    {
     "output_type": "stream",
     "name": "stdout",
     "text": [
      "{'nan', 'PA', 'AP'}\n",
      "                     normal                        pneumonia                     \n",
      "nan:                 15769/259093 (6.09%)          15769/259093 (6.09%)          \n",
      "PA:                  96155/259093 (37.11%)         96155/259093 (37.11%)         \n",
      "AP:                  147169/259093 (56.80%)        147169/259093 (56.80%)        \n"
     ]
    }
   ],
   "source": [
    "calculate_percentages(meta_data_df['ViewPosition'], meta_data_df['ViewPosition'])"
   ]
  },
  {
   "cell_type": "code",
   "execution_count": 21,
   "metadata": {},
   "outputs": [
    {
     "output_type": "stream",
     "name": "stdout",
     "text": [
      "{'nan'}\n",
      "                     normal                        pneumonia                     \n",
      "nan:                 15769/15769 (100.00%)         15769/15769 (100.00%)         \n",
      "\n",
      "\n",
      "{'nan'}\n",
      "                     normal                        pneumonia                     \n",
      "nan:                 15769/15769 (100.00%)         15769/15769 (100.00%)         \n",
      "\n",
      "\n",
      "{'DX CHEST & RIBS', 'DX CHEST 2 VIEW PICC LINE PLACEMENT', 'CHEST (SINGLE VIEW)', 'DX CHEST PORTABLE PICC LINE PLACEMENT', 'CHEST (PA AND LAT)', 'CHEST (PRE-OP PA & LAT)', 'CHEST (PORTABLE AP)', 'CHEST SGL VIEW/LINE PLACEMENT', 'DX CHEST WITH DECUB'}\n",
      "                     normal                        pneumonia                     \n",
      "DX CHEST & RIBS:     10/15769 (0.06%)              10/15769 (0.06%)              \n",
      "DX CHEST 2 VIEW PICC LINE PLACEMENT: 1/15769 (0.01%)               1/15769 (0.01%)               \n",
      "CHEST (SINGLE VIEW): 2/15769 (0.01%)               2/15769 (0.01%)               \n",
      "DX CHEST PORTABLE PICC LINE PLACEMENT: 1/15769 (0.01%)               1/15769 (0.01%)               \n",
      "CHEST (PA AND LAT):  13472/15769 (85.43%)          13472/15769 (85.43%)          \n",
      "CHEST (PRE-OP PA & LAT): 2/15769 (0.01%)               2/15769 (0.01%)               \n",
      "CHEST (PORTABLE AP): 2272/15769 (14.41%)           2272/15769 (14.41%)           \n",
      "CHEST SGL VIEW/LINE PLACEMENT: 1/15769 (0.01%)               1/15769 (0.01%)               \n",
      "DX CHEST WITH DECUB: 8/15769 (0.05%)               8/15769 (0.05%)               \n",
      "\n",
      "\n",
      "{'CHEST (LAT DECUB ONLY) PORT', 'DX CHEST 2 VIEW PICC LINE PLACEMENT', 'ABDOMEN (SUPINE ONLY) PORT', 'CHEST SGL VIEW/LINE PLACEMENT PORT', 'CHEST (PORTABLE AP)', 'BABYGRAM (CHEST ONLY)', 'CHEST (PA AND LAT) PORT', 'RIB BILAT, W/AP CHEST', 'nan', 'CHEST (SINGLE VIEW) PORT', 'CHEST (SINGLE VIEW)', 'CHEST SGL VIEW/LINE PLACEMENT', 'PORTABLE ABDOMEN', 'CHEST (PRE-OP PA AND LAT)', 'PELVIS (AP ONLY)', 'CHEST (PA, LAT AND OBLIQUES)', 'ABDOMEN (SUPINE AND ERECT)', 'KNEE (AP, LAT AND TUNNEL) LEFT', 'CHEST (PA AND LAT)'}\n",
      "                     normal                        pneumonia                     \n",
      "CHEST (LAT DECUB ONLY) PORT: 1/15769 (0.01%)               1/15769 (0.01%)               \n",
      "DX CHEST 2 VIEW PICC LINE PLACEMENT: 1/15769 (0.01%)               1/15769 (0.01%)               \n",
      "ABDOMEN (SUPINE ONLY) PORT: 2/15769 (0.01%)               2/15769 (0.01%)               \n",
      "CHEST SGL VIEW/LINE PLACEMENT PORT: 1/15769 (0.01%)               1/15769 (0.01%)               \n",
      "CHEST (PORTABLE AP): 2215/15769 (14.05%)           2215/15769 (14.05%)           \n",
      "BABYGRAM (CHEST ONLY): 1/15769 (0.01%)               1/15769 (0.01%)               \n",
      "CHEST (PA AND LAT) PORT: 16/15769 (0.10%)              16/15769 (0.10%)              \n",
      "RIB BILAT, W/AP CHEST: 1/15769 (0.01%)               1/15769 (0.01%)               \n",
      "nan:                 1142/15769 (7.24%)            1142/15769 (7.24%)            \n",
      "CHEST (SINGLE VIEW) PORT: 1/15769 (0.01%)               1/15769 (0.01%)               \n",
      "CHEST (SINGLE VIEW): 17/15769 (0.11%)              17/15769 (0.11%)              \n",
      "CHEST SGL VIEW/LINE PLACEMENT: 1/15769 (0.01%)               1/15769 (0.01%)               \n",
      "PORTABLE ABDOMEN:    2/15769 (0.01%)               2/15769 (0.01%)               \n",
      "CHEST (PRE-OP PA AND LAT): 4/15769 (0.03%)               4/15769 (0.03%)               \n",
      "PELVIS (AP ONLY):    1/15769 (0.01%)               1/15769 (0.01%)               \n",
      "CHEST (PA, LAT AND OBLIQUES): 7/15769 (0.04%)               7/15769 (0.04%)               \n",
      "ABDOMEN (SUPINE AND ERECT): 1/15769 (0.01%)               1/15769 (0.01%)               \n",
      "KNEE (AP, LAT AND TUNNEL) LEFT: 2/15769 (0.01%)               2/15769 (0.01%)               \n",
      "CHEST (PA AND LAT):  12353/15769 (78.34%)          12353/15769 (78.34%)          \n"
     ]
    }
   ],
   "source": [
    "nan_subset_df = meta_data_df[meta_data_df['ViewPosition'] == 'nan'].copy()\n",
    "\n",
    "calculate_percentages(nan_subset_df['ViewPosition'], nan_subset_df['ViewPosition'])\n",
    "print('\\n')\n",
    "calculate_percentages(nan_subset_df['ViewCodeSequence_CodeMeaning'], nan_subset_df['ViewCodeSequence_CodeMeaning'])\n",
    "print('\\n')\n",
    "calculate_percentages(nan_subset_df['ProcedureCodeSequence_CodeMeaning'], nan_subset_df['ProcedureCodeSequence_CodeMeaning'])\n",
    "print('\\n')\n",
    "calculate_percentages(nan_subset_df['PerformedProcedureStepDescription'], nan_subset_df['PerformedProcedureStepDescription'])"
   ]
  },
  {
   "cell_type": "code",
   "execution_count": 22,
   "metadata": {},
   "outputs": [
    {
     "output_type": "execute_result",
     "data": {
      "text/plain": [
       "        subject_id  study_id Atelectasis Cardiomegaly Consolidation Edema  \\\n",
       "44        10001122  53447138         nan          nan           nan   nan   \n",
       "45        10001122  53447138         nan          nan           nan   nan   \n",
       "130       10002013  55312734         nan          nan           nan   nan   \n",
       "131       10002013  55312734         nan          nan           nan   nan   \n",
       "145       10002221  53781756         nan          nan           nan   nan   \n",
       "...            ...       ...         ...          ...           ...   ...   \n",
       "377069    19999068  59390811          -1            0           nan   nan   \n",
       "377073    19999270  55274188         nan            0           nan     0   \n",
       "377074    19999270  55274188         nan            0           nan     0   \n",
       "377075    19999270  56267753         nan          nan           nan   nan   \n",
       "377076    19999270  56267753         nan          nan           nan   nan   \n",
       "\n",
       "       Enlarged Cardiomediastinum Fracture Lung Lesion Lung Opacity  ...  \\\n",
       "44                            nan      nan         nan          nan  ...   \n",
       "45                            nan      nan         nan          nan  ...   \n",
       "130                           nan      nan         nan            0  ...   \n",
       "131                           nan      nan         nan            0  ...   \n",
       "145                           nan      nan         nan          nan  ...   \n",
       "...                           ...      ...         ...          ...  ...   \n",
       "377069                          0      nan         nan            1  ...   \n",
       "377073                        nan      nan         nan          nan  ...   \n",
       "377074                        nan      nan         nan          nan  ...   \n",
       "377075                        nan      nan         nan          nan  ...   \n",
       "377076                        nan      nan         nan          nan  ...   \n",
       "\n",
       "       PerformedProcedureStepDescription ViewPosition  Rows Columns StudyDate  \\\n",
       "44                    CHEST (PA AND LAT)          nan  2140    1760  21431210   \n",
       "45                    CHEST (PA AND LAT)          nan  2140    1760  21431210   \n",
       "130                   CHEST (PA AND LAT)          nan  2140    1760  21601005   \n",
       "131                   CHEST (PA AND LAT)          nan  2140    1760  21601005   \n",
       "145                   CHEST (PA AND LAT)          nan  2140    1760  22001221   \n",
       "...                                  ...          ...   ...     ...       ...   \n",
       "377069               CHEST (PORTABLE AP)          nan  2140    1760  21610827   \n",
       "377073                CHEST (PA AND LAT)          nan  2140    1760  21821112   \n",
       "377074                CHEST (PA AND LAT)          nan  2140    1760  21821112   \n",
       "377075                CHEST (PA AND LAT)          nan  2140    1760  21831203   \n",
       "377076                CHEST (PA AND LAT)          nan  2140    1760  21831203   \n",
       "\n",
       "       StudyTime ProcedureCodeSequence_CodeMeaning  \\\n",
       "44      162003.0                CHEST (PA AND LAT)   \n",
       "45      162003.0                CHEST (PA AND LAT)   \n",
       "130     164810.0                CHEST (PA AND LAT)   \n",
       "131     164810.0                CHEST (PA AND LAT)   \n",
       "145     153523.0                CHEST (PA AND LAT)   \n",
       "...          ...                               ...   \n",
       "377069   53735.0               CHEST (PORTABLE AP)   \n",
       "377073  104527.0                CHEST (PA AND LAT)   \n",
       "377074  104527.0                CHEST (PA AND LAT)   \n",
       "377075  135727.0                CHEST (PA AND LAT)   \n",
       "377076  135727.0                CHEST (PA AND LAT)   \n",
       "\n",
       "        ViewCodeSequence_CodeMeaning  \\\n",
       "44                               nan   \n",
       "45                               nan   \n",
       "130                              nan   \n",
       "131                              nan   \n",
       "145                              nan   \n",
       "...                              ...   \n",
       "377069                           nan   \n",
       "377073                           nan   \n",
       "377074                           nan   \n",
       "377075                           nan   \n",
       "377076                           nan   \n",
       "\n",
       "       PatientOrientationCodeSequence_CodeMeaning  \\\n",
       "44                                            nan   \n",
       "45                                            nan   \n",
       "130                                           nan   \n",
       "131                                           nan   \n",
       "145                                           nan   \n",
       "...                                           ...   \n",
       "377069                                        nan   \n",
       "377073                                        nan   \n",
       "377074                                        nan   \n",
       "377075                                        nan   \n",
       "377076                                        nan   \n",
       "\n",
       "                              ProcedureCombined  \n",
       "44        CHEST (PA AND LAT) CHEST (PA AND LAT)  \n",
       "45        CHEST (PA AND LAT) CHEST (PA AND LAT)  \n",
       "130       CHEST (PA AND LAT) CHEST (PA AND LAT)  \n",
       "131       CHEST (PA AND LAT) CHEST (PA AND LAT)  \n",
       "145       CHEST (PA AND LAT) CHEST (PA AND LAT)  \n",
       "...                                         ...  \n",
       "377069  CHEST (PORTABLE AP) CHEST (PORTABLE AP)  \n",
       "377073    CHEST (PA AND LAT) CHEST (PA AND LAT)  \n",
       "377074    CHEST (PA AND LAT) CHEST (PA AND LAT)  \n",
       "377075    CHEST (PA AND LAT) CHEST (PA AND LAT)  \n",
       "377076    CHEST (PA AND LAT) CHEST (PA AND LAT)  \n",
       "\n",
       "[13736 rows x 28 columns]"
      ],
      "text/html": "<div>\n<style scoped>\n    .dataframe tbody tr th:only-of-type {\n        vertical-align: middle;\n    }\n\n    .dataframe tbody tr th {\n        vertical-align: top;\n    }\n\n    .dataframe thead th {\n        text-align: right;\n    }\n</style>\n<table border=\"1\" class=\"dataframe\">\n  <thead>\n    <tr style=\"text-align: right;\">\n      <th></th>\n      <th>subject_id</th>\n      <th>study_id</th>\n      <th>Atelectasis</th>\n      <th>Cardiomegaly</th>\n      <th>Consolidation</th>\n      <th>Edema</th>\n      <th>Enlarged Cardiomediastinum</th>\n      <th>Fracture</th>\n      <th>Lung Lesion</th>\n      <th>Lung Opacity</th>\n      <th>...</th>\n      <th>PerformedProcedureStepDescription</th>\n      <th>ViewPosition</th>\n      <th>Rows</th>\n      <th>Columns</th>\n      <th>StudyDate</th>\n      <th>StudyTime</th>\n      <th>ProcedureCodeSequence_CodeMeaning</th>\n      <th>ViewCodeSequence_CodeMeaning</th>\n      <th>PatientOrientationCodeSequence_CodeMeaning</th>\n      <th>ProcedureCombined</th>\n    </tr>\n  </thead>\n  <tbody>\n    <tr>\n      <th>44</th>\n      <td>10001122</td>\n      <td>53447138</td>\n      <td>nan</td>\n      <td>nan</td>\n      <td>nan</td>\n      <td>nan</td>\n      <td>nan</td>\n      <td>nan</td>\n      <td>nan</td>\n      <td>nan</td>\n      <td>...</td>\n      <td>CHEST (PA AND LAT)</td>\n      <td>nan</td>\n      <td>2140</td>\n      <td>1760</td>\n      <td>21431210</td>\n      <td>162003.0</td>\n      <td>CHEST (PA AND LAT)</td>\n      <td>nan</td>\n      <td>nan</td>\n      <td>CHEST (PA AND LAT) CHEST (PA AND LAT)</td>\n    </tr>\n    <tr>\n      <th>45</th>\n      <td>10001122</td>\n      <td>53447138</td>\n      <td>nan</td>\n      <td>nan</td>\n      <td>nan</td>\n      <td>nan</td>\n      <td>nan</td>\n      <td>nan</td>\n      <td>nan</td>\n      <td>nan</td>\n      <td>...</td>\n      <td>CHEST (PA AND LAT)</td>\n      <td>nan</td>\n      <td>2140</td>\n      <td>1760</td>\n      <td>21431210</td>\n      <td>162003.0</td>\n      <td>CHEST (PA AND LAT)</td>\n      <td>nan</td>\n      <td>nan</td>\n      <td>CHEST (PA AND LAT) CHEST (PA AND LAT)</td>\n    </tr>\n    <tr>\n      <th>130</th>\n      <td>10002013</td>\n      <td>55312734</td>\n      <td>nan</td>\n      <td>nan</td>\n      <td>nan</td>\n      <td>nan</td>\n      <td>nan</td>\n      <td>nan</td>\n      <td>nan</td>\n      <td>0</td>\n      <td>...</td>\n      <td>CHEST (PA AND LAT)</td>\n      <td>nan</td>\n      <td>2140</td>\n      <td>1760</td>\n      <td>21601005</td>\n      <td>164810.0</td>\n      <td>CHEST (PA AND LAT)</td>\n      <td>nan</td>\n      <td>nan</td>\n      <td>CHEST (PA AND LAT) CHEST (PA AND LAT)</td>\n    </tr>\n    <tr>\n      <th>131</th>\n      <td>10002013</td>\n      <td>55312734</td>\n      <td>nan</td>\n      <td>nan</td>\n      <td>nan</td>\n      <td>nan</td>\n      <td>nan</td>\n      <td>nan</td>\n      <td>nan</td>\n      <td>0</td>\n      <td>...</td>\n      <td>CHEST (PA AND LAT)</td>\n      <td>nan</td>\n      <td>2140</td>\n      <td>1760</td>\n      <td>21601005</td>\n      <td>164810.0</td>\n      <td>CHEST (PA AND LAT)</td>\n      <td>nan</td>\n      <td>nan</td>\n      <td>CHEST (PA AND LAT) CHEST (PA AND LAT)</td>\n    </tr>\n    <tr>\n      <th>145</th>\n      <td>10002221</td>\n      <td>53781756</td>\n      <td>nan</td>\n      <td>nan</td>\n      <td>nan</td>\n      <td>nan</td>\n      <td>nan</td>\n      <td>nan</td>\n      <td>nan</td>\n      <td>nan</td>\n      <td>...</td>\n      <td>CHEST (PA AND LAT)</td>\n      <td>nan</td>\n      <td>2140</td>\n      <td>1760</td>\n      <td>22001221</td>\n      <td>153523.0</td>\n      <td>CHEST (PA AND LAT)</td>\n      <td>nan</td>\n      <td>nan</td>\n      <td>CHEST (PA AND LAT) CHEST (PA AND LAT)</td>\n    </tr>\n    <tr>\n      <th>...</th>\n      <td>...</td>\n      <td>...</td>\n      <td>...</td>\n      <td>...</td>\n      <td>...</td>\n      <td>...</td>\n      <td>...</td>\n      <td>...</td>\n      <td>...</td>\n      <td>...</td>\n      <td>...</td>\n      <td>...</td>\n      <td>...</td>\n      <td>...</td>\n      <td>...</td>\n      <td>...</td>\n      <td>...</td>\n      <td>...</td>\n      <td>...</td>\n      <td>...</td>\n      <td>...</td>\n    </tr>\n    <tr>\n      <th>377069</th>\n      <td>19999068</td>\n      <td>59390811</td>\n      <td>-1</td>\n      <td>0</td>\n      <td>nan</td>\n      <td>nan</td>\n      <td>0</td>\n      <td>nan</td>\n      <td>nan</td>\n      <td>1</td>\n      <td>...</td>\n      <td>CHEST (PORTABLE AP)</td>\n      <td>nan</td>\n      <td>2140</td>\n      <td>1760</td>\n      <td>21610827</td>\n      <td>53735.0</td>\n      <td>CHEST (PORTABLE AP)</td>\n      <td>nan</td>\n      <td>nan</td>\n      <td>CHEST (PORTABLE AP) CHEST (PORTABLE AP)</td>\n    </tr>\n    <tr>\n      <th>377073</th>\n      <td>19999270</td>\n      <td>55274188</td>\n      <td>nan</td>\n      <td>0</td>\n      <td>nan</td>\n      <td>0</td>\n      <td>nan</td>\n      <td>nan</td>\n      <td>nan</td>\n      <td>nan</td>\n      <td>...</td>\n      <td>CHEST (PA AND LAT)</td>\n      <td>nan</td>\n      <td>2140</td>\n      <td>1760</td>\n      <td>21821112</td>\n      <td>104527.0</td>\n      <td>CHEST (PA AND LAT)</td>\n      <td>nan</td>\n      <td>nan</td>\n      <td>CHEST (PA AND LAT) CHEST (PA AND LAT)</td>\n    </tr>\n    <tr>\n      <th>377074</th>\n      <td>19999270</td>\n      <td>55274188</td>\n      <td>nan</td>\n      <td>0</td>\n      <td>nan</td>\n      <td>0</td>\n      <td>nan</td>\n      <td>nan</td>\n      <td>nan</td>\n      <td>nan</td>\n      <td>...</td>\n      <td>CHEST (PA AND LAT)</td>\n      <td>nan</td>\n      <td>2140</td>\n      <td>1760</td>\n      <td>21821112</td>\n      <td>104527.0</td>\n      <td>CHEST (PA AND LAT)</td>\n      <td>nan</td>\n      <td>nan</td>\n      <td>CHEST (PA AND LAT) CHEST (PA AND LAT)</td>\n    </tr>\n    <tr>\n      <th>377075</th>\n      <td>19999270</td>\n      <td>56267753</td>\n      <td>nan</td>\n      <td>nan</td>\n      <td>nan</td>\n      <td>nan</td>\n      <td>nan</td>\n      <td>nan</td>\n      <td>nan</td>\n      <td>nan</td>\n      <td>...</td>\n      <td>CHEST (PA AND LAT)</td>\n      <td>nan</td>\n      <td>2140</td>\n      <td>1760</td>\n      <td>21831203</td>\n      <td>135727.0</td>\n      <td>CHEST (PA AND LAT)</td>\n      <td>nan</td>\n      <td>nan</td>\n      <td>CHEST (PA AND LAT) CHEST (PA AND LAT)</td>\n    </tr>\n    <tr>\n      <th>377076</th>\n      <td>19999270</td>\n      <td>56267753</td>\n      <td>nan</td>\n      <td>nan</td>\n      <td>nan</td>\n      <td>nan</td>\n      <td>nan</td>\n      <td>nan</td>\n      <td>nan</td>\n      <td>nan</td>\n      <td>...</td>\n      <td>CHEST (PA AND LAT)</td>\n      <td>nan</td>\n      <td>2140</td>\n      <td>1760</td>\n      <td>21831203</td>\n      <td>135727.0</td>\n      <td>CHEST (PA AND LAT)</td>\n      <td>nan</td>\n      <td>nan</td>\n      <td>CHEST (PA AND LAT) CHEST (PA AND LAT)</td>\n    </tr>\n  </tbody>\n</table>\n<p>13736 rows × 28 columns</p>\n</div>"
     },
     "metadata": {},
     "execution_count": 22
    }
   ],
   "source": [
    "nan_patientgroups_df = nan_subset_df.groupby(['subject_id'])\n",
    "nan_patientgroups_df.head()"
   ]
  },
  {
   "cell_type": "code",
   "execution_count": 23,
   "metadata": {},
   "outputs": [],
   "source": [
    "code_meaning = nan_subset_df[nan_subset_df['ProcedureCodeSequence_CodeMeaning'] == \"CHEST (PORTABLE AP)\"]\n",
    "step_description = nan_subset_df[nan_subset_df['PerformedProcedureStepDescription'] == \"CHEST (PORTABLE AP)\"]\n",
    "\n",
    "equal_indizes = set(code_meaning.index).intersection(set(step_description.index))"
   ]
  },
  {
   "cell_type": "code",
   "execution_count": 24,
   "metadata": {},
   "outputs": [
    {
     "output_type": "stream",
     "name": "stdout",
     "text": [
      "There are 2201 matching indizes. It's very likely, that they are actually AP projected samples.\n"
     ]
    }
   ],
   "source": [
    "print('There are', len(equal_indizes), 'matching indizes. It\\'s very likely, that they are actually AP projected samples.')"
   ]
  },
  {
   "cell_type": "code",
   "execution_count": 25,
   "metadata": {},
   "outputs": [],
   "source": [
    "unequal_indizes = set(code_meaning.index).symmetric_difference(set(step_description.index))"
   ]
  },
  {
   "cell_type": "code",
   "execution_count": 26,
   "metadata": {},
   "outputs": [
    {
     "output_type": "stream",
     "name": "stdout",
     "text": [
      "222627 of 259093 Samples have the same entries for both procedure Labels\n"
     ]
    }
   ],
   "source": [
    "print(sum(meta_data_df.ProcedureCodeSequence_CodeMeaning == meta_data_df.PerformedProcedureStepDescription), 'of', len(meta_data_df), 'Samples have the same entries for both procedure Labels')"
   ]
  },
  {
   "cell_type": "code",
   "execution_count": 27,
   "metadata": {},
   "outputs": [
    {
     "output_type": "stream",
     "name": "stdout",
     "text": [
      "{'CHEST (PORTABLE AP) CHEST (PA AND LAT) PORT', 'CHEST (PA AND LAT) CHEST (PORTABLE AP)', 'CHEST (PA AND LAT) RIB BILAT, W/AP CHEST', 'DX CHEST & RIBS CHEST (PA AND LAT)', 'CHEST (SINGLE VIEW) CHEST (PORTABLE AP)', 'CHEST (PA AND LAT) KNEE (AP, LAT AND TUNNEL) LEFT', 'CHEST (PRE-OP PA & LAT) CHEST (PRE-OP PA AND LAT)', 'DX CHEST 2 VIEW PICC LINE PLACEMENT DX CHEST 2 VIEW PICC LINE PLACEMENT', 'CHEST (PORTABLE AP) CHEST (PA AND LAT)', 'CHEST (PA AND LAT) CHEST (PA AND LAT)', 'DX CHEST WITH DECUB CHEST (PA AND LAT)', 'CHEST (PORTABLE AP) PORTABLE ABDOMEN', 'CHEST (PORTABLE AP) BABYGRAM (CHEST ONLY)', 'CHEST (PORTABLE AP) CHEST SGL VIEW/LINE PLACEMENT PORT', 'CHEST (PORTABLE AP) CHEST (SINGLE VIEW)', 'CHEST (PORTABLE AP) ABDOMEN (SUPINE AND ERECT)', 'CHEST (PA AND LAT) nan', 'CHEST (PA AND LAT) CHEST (PA, LAT AND OBLIQUES)', 'CHEST (PORTABLE AP) nan', 'CHEST (SINGLE VIEW) CHEST (SINGLE VIEW)', 'CHEST (PA AND LAT) CHEST (PRE-OP PA AND LAT)', 'DX CHEST PORTABLE PICC LINE PLACEMENT CHEST (PA AND LAT)', 'CHEST (PORTABLE AP) CHEST (SINGLE VIEW) PORT', 'CHEST (PORTABLE AP) CHEST (PORTABLE AP)', 'CHEST (PORTABLE AP) ABDOMEN (SUPINE ONLY) PORT', 'CHEST (PA AND LAT) CHEST (PA AND LAT) PORT', 'CHEST (PORTABLE AP) PELVIS (AP ONLY)', 'CHEST (PA AND LAT) CHEST (SINGLE VIEW)', 'CHEST (PORTABLE AP) CHEST (LAT DECUB ONLY) PORT', 'DX CHEST & RIBS nan', 'CHEST SGL VIEW/LINE PLACEMENT CHEST SGL VIEW/LINE PLACEMENT'}\n",
      "                     normal                        pneumonia                     \n",
      "CHEST (PORTABLE AP) CHEST (PA AND LAT) PORT: 11/15769 (0.07%)              11/15769 (0.07%)              \n",
      "CHEST (PA AND LAT) CHEST (PORTABLE AP): 13/15769 (0.08%)              13/15769 (0.08%)              \n",
      "CHEST (PA AND LAT) RIB BILAT, W/AP CHEST: 1/15769 (0.01%)               1/15769 (0.01%)               \n",
      "DX CHEST & RIBS CHEST (PA AND LAT): 6/15769 (0.04%)               6/15769 (0.04%)               \n",
      "CHEST (SINGLE VIEW) CHEST (PORTABLE AP): 1/15769 (0.01%)               1/15769 (0.01%)               \n",
      "CHEST (PA AND LAT) KNEE (AP, LAT AND TUNNEL) LEFT: 2/15769 (0.01%)               2/15769 (0.01%)               \n",
      "CHEST (PRE-OP PA & LAT) CHEST (PRE-OP PA AND LAT): 2/15769 (0.01%)               2/15769 (0.01%)               \n",
      "DX CHEST 2 VIEW PICC LINE PLACEMENT DX CHEST 2 VIEW PICC LINE PLACEMENT: 1/15769 (0.01%)               1/15769 (0.01%)               \n",
      "CHEST (PORTABLE AP) CHEST (PA AND LAT): 9/15769 (0.06%)               9/15769 (0.06%)               \n",
      "CHEST (PA AND LAT) CHEST (PA AND LAT): 12329/15769 (78.19%)          12329/15769 (78.19%)          \n",
      "DX CHEST WITH DECUB CHEST (PA AND LAT): 8/15769 (0.05%)               8/15769 (0.05%)               \n",
      "CHEST (PORTABLE AP) PORTABLE ABDOMEN: 2/15769 (0.01%)               2/15769 (0.01%)               \n",
      "CHEST (PORTABLE AP) BABYGRAM (CHEST ONLY): 1/15769 (0.01%)               1/15769 (0.01%)               \n",
      "CHEST (PORTABLE AP) CHEST SGL VIEW/LINE PLACEMENT PORT: 1/15769 (0.01%)               1/15769 (0.01%)               \n",
      "CHEST (PORTABLE AP) CHEST (SINGLE VIEW): 3/15769 (0.02%)               3/15769 (0.02%)               \n",
      "CHEST (PORTABLE AP) ABDOMEN (SUPINE AND ERECT): 1/15769 (0.01%)               1/15769 (0.01%)               \n",
      "CHEST (PA AND LAT) nan: 1100/15769 (6.98%)            1100/15769 (6.98%)            \n",
      "CHEST (PA AND LAT) CHEST (PA, LAT AND OBLIQUES): 7/15769 (0.04%)               7/15769 (0.04%)               \n",
      "CHEST (PORTABLE AP) nan: 38/15769 (0.24%)              38/15769 (0.24%)              \n",
      "CHEST (SINGLE VIEW) CHEST (SINGLE VIEW): 1/15769 (0.01%)               1/15769 (0.01%)               \n",
      "CHEST (PA AND LAT) CHEST (PRE-OP PA AND LAT): 2/15769 (0.01%)               2/15769 (0.01%)               \n",
      "DX CHEST PORTABLE PICC LINE PLACEMENT CHEST (PA AND LAT): 1/15769 (0.01%)               1/15769 (0.01%)               \n",
      "CHEST (PORTABLE AP) CHEST (SINGLE VIEW) PORT: 1/15769 (0.01%)               1/15769 (0.01%)               \n",
      "CHEST (PORTABLE AP) CHEST (PORTABLE AP): 2201/15769 (13.96%)           2201/15769 (13.96%)           \n",
      "CHEST (PORTABLE AP) ABDOMEN (SUPINE ONLY) PORT: 2/15769 (0.01%)               2/15769 (0.01%)               \n",
      "CHEST (PA AND LAT) CHEST (PA AND LAT) PORT: 5/15769 (0.03%)               5/15769 (0.03%)               \n",
      "CHEST (PORTABLE AP) PELVIS (AP ONLY): 1/15769 (0.01%)               1/15769 (0.01%)               \n",
      "CHEST (PA AND LAT) CHEST (SINGLE VIEW): 13/15769 (0.08%)              13/15769 (0.08%)              \n",
      "CHEST (PORTABLE AP) CHEST (LAT DECUB ONLY) PORT: 1/15769 (0.01%)               1/15769 (0.01%)               \n",
      "DX CHEST & RIBS nan: 4/15769 (0.03%)               4/15769 (0.03%)               \n",
      "CHEST SGL VIEW/LINE PLACEMENT CHEST SGL VIEW/LINE PLACEMENT: 1/15769 (0.01%)               1/15769 (0.01%)               \n"
     ]
    }
   ],
   "source": [
    "calculate_percentages(nan_subset_df['ProcedureCombined'], nan_subset_df['ProcedureCombined'])"
   ]
  },
  {
   "cell_type": "code",
   "execution_count": 28,
   "metadata": {},
   "outputs": [
    {
     "output_type": "stream",
     "name": "stdout",
     "text": [
      "2252 Samples have been determined to be AP projection\n"
     ]
    },
    {
     "output_type": "execute_result",
     "data": {
      "text/plain": [
       "{'CHEST (PORTABLE AP) ABDOMEN (SUPINE AND ERECT)',\n",
       " 'CHEST (PORTABLE AP) ABDOMEN (SUPINE ONLY) PORT',\n",
       " 'CHEST (PORTABLE AP) BABYGRAM (CHEST ONLY)',\n",
       " 'CHEST (PORTABLE AP) CHEST (PORTABLE AP)',\n",
       " 'CHEST (PORTABLE AP) CHEST (SINGLE VIEW)',\n",
       " 'CHEST (PORTABLE AP) CHEST (SINGLE VIEW) PORT',\n",
       " 'CHEST (PORTABLE AP) CHEST SGL VIEW/LINE PLACEMENT PORT',\n",
       " 'CHEST (PORTABLE AP) PELVIS (AP ONLY)',\n",
       " 'CHEST (PORTABLE AP) PORTABLE ABDOMEN',\n",
       " 'CHEST (PORTABLE AP) nan',\n",
       " 'CHEST (SINGLE VIEW) CHEST (PORTABLE AP)'}"
      ]
     },
     "metadata": {},
     "execution_count": 28
    }
   ],
   "source": [
    "qry = 'ProcedureCombined.str.contains(\"CHEST \\(PORTABLE AP\\)\")'\n",
    "qry += ' & ~(ProcedureCombined.str.contains(\"LAT\"))'\n",
    "ap_df = nan_subset_df.query(qry)\n",
    "\n",
    "print(len(ap_df), 'Samples have been determined to be AP projection')\n",
    "set(ap_df.ProcedureCombined)\n"
   ]
  },
  {
   "cell_type": "code",
   "execution_count": 31,
   "metadata": {},
   "outputs": [
    {
     "output_type": "stream",
     "name": "stdout",
     "text": [
      "{'CHEST (PORTABLE AP) CHEST (PORTABLE AP)', 'CHEST (PORTABLE AP) ABDOMEN (SUPINE AND ERECT)', 'CHEST (PORTABLE AP) ABDOMEN (SUPINE ONLY) PORT', 'CHEST (PORTABLE AP) PORTABLE ABDOMEN', 'CHEST (PORTABLE AP) BABYGRAM (CHEST ONLY)', 'CHEST (PORTABLE AP) nan', 'CHEST (PORTABLE AP) PELVIS (AP ONLY)', 'CHEST (SINGLE VIEW) CHEST (PORTABLE AP)', 'CHEST (PORTABLE AP) CHEST SGL VIEW/LINE PLACEMENT PORT', 'CHEST (PORTABLE AP) CHEST (SINGLE VIEW)', 'CHEST (PORTABLE AP) CHEST (SINGLE VIEW) PORT'}\n                     normal                        pneumonia                     \nCHEST (PORTABLE AP) CHEST (PORTABLE AP): 2201/2252 (97.74%)            2201/2252 (97.74%)            \nCHEST (PORTABLE AP) ABDOMEN (SUPINE AND ERECT): 1/2252 (0.04%)                1/2252 (0.04%)                \nCHEST (PORTABLE AP) ABDOMEN (SUPINE ONLY) PORT: 2/2252 (0.09%)                2/2252 (0.09%)                \nCHEST (PORTABLE AP) PORTABLE ABDOMEN: 2/2252 (0.09%)                2/2252 (0.09%)                \nCHEST (PORTABLE AP) BABYGRAM (CHEST ONLY): 1/2252 (0.04%)                1/2252 (0.04%)                \nCHEST (PORTABLE AP) nan: 38/2252 (1.69%)               38/2252 (1.69%)               \nCHEST (PORTABLE AP) PELVIS (AP ONLY): 1/2252 (0.04%)                1/2252 (0.04%)                \nCHEST (SINGLE VIEW) CHEST (PORTABLE AP): 1/2252 (0.04%)                1/2252 (0.04%)                \nCHEST (PORTABLE AP) CHEST SGL VIEW/LINE PLACEMENT PORT: 1/2252 (0.04%)                1/2252 (0.04%)                \nCHEST (PORTABLE AP) CHEST (SINGLE VIEW): 3/2252 (0.13%)                3/2252 (0.13%)                \nCHEST (PORTABLE AP) CHEST (SINGLE VIEW) PORT: 1/2252 (0.04%)                1/2252 (0.04%)                \n"
     ]
    }
   ],
   "source": [
    "calculate_percentages(ap_df['ProcedureCombined'], ap_df['ProcedureCombined'])"
   ]
  },
  {
   "cell_type": "code",
   "execution_count": 33,
   "metadata": {},
   "outputs": [
    {
     "output_type": "execute_result",
     "data": {
      "text/plain": [
       "       subject_id  study_id Atelectasis Cardiomegaly Consolidation Edema  \\\n",
       "75573    12009998  51676183           1            0           nan   nan   \n",
       "\n",
       "      Enlarged Cardiomediastinum Fracture Lung Lesion Lung Opacity  ...  \\\n",
       "75573                        nan      nan         nan          nan  ...   \n",
       "\n",
       "      PerformedProcedureStepDescription ViewPosition  Rows Columns StudyDate  \\\n",
       "75573        ABDOMEN (SUPINE ONLY) PORT          nan  2140    1760  21710425   \n",
       "\n",
       "      StudyTime ProcedureCodeSequence_CodeMeaning  \\\n",
       "75573  202609.0               CHEST (PORTABLE AP)   \n",
       "\n",
       "       ViewCodeSequence_CodeMeaning  \\\n",
       "75573                           nan   \n",
       "\n",
       "      PatientOrientationCodeSequence_CodeMeaning  \\\n",
       "75573                                        nan   \n",
       "\n",
       "                                    ProcedureCombined  \n",
       "75573  CHEST (PORTABLE AP) ABDOMEN (SUPINE ONLY) PORT  \n",
       "\n",
       "[1 rows x 28 columns]"
      ],
      "text/html": "<div>\n<style scoped>\n    .dataframe tbody tr th:only-of-type {\n        vertical-align: middle;\n    }\n\n    .dataframe tbody tr th {\n        vertical-align: top;\n    }\n\n    .dataframe thead th {\n        text-align: right;\n    }\n</style>\n<table border=\"1\" class=\"dataframe\">\n  <thead>\n    <tr style=\"text-align: right;\">\n      <th></th>\n      <th>subject_id</th>\n      <th>study_id</th>\n      <th>Atelectasis</th>\n      <th>Cardiomegaly</th>\n      <th>Consolidation</th>\n      <th>Edema</th>\n      <th>Enlarged Cardiomediastinum</th>\n      <th>Fracture</th>\n      <th>Lung Lesion</th>\n      <th>Lung Opacity</th>\n      <th>...</th>\n      <th>PerformedProcedureStepDescription</th>\n      <th>ViewPosition</th>\n      <th>Rows</th>\n      <th>Columns</th>\n      <th>StudyDate</th>\n      <th>StudyTime</th>\n      <th>ProcedureCodeSequence_CodeMeaning</th>\n      <th>ViewCodeSequence_CodeMeaning</th>\n      <th>PatientOrientationCodeSequence_CodeMeaning</th>\n      <th>ProcedureCombined</th>\n    </tr>\n  </thead>\n  <tbody>\n    <tr>\n      <th>75573</th>\n      <td>12009998</td>\n      <td>51676183</td>\n      <td>1</td>\n      <td>0</td>\n      <td>nan</td>\n      <td>nan</td>\n      <td>nan</td>\n      <td>nan</td>\n      <td>nan</td>\n      <td>nan</td>\n      <td>...</td>\n      <td>ABDOMEN (SUPINE ONLY) PORT</td>\n      <td>nan</td>\n      <td>2140</td>\n      <td>1760</td>\n      <td>21710425</td>\n      <td>202609.0</td>\n      <td>CHEST (PORTABLE AP)</td>\n      <td>nan</td>\n      <td>nan</td>\n      <td>CHEST (PORTABLE AP) ABDOMEN (SUPINE ONLY) PORT</td>\n    </tr>\n  </tbody>\n</table>\n<p>1 rows × 28 columns</p>\n</div>"
     },
     "metadata": {},
     "execution_count": 33
    }
   ],
   "source": [
    "meta_data_df[meta_data_df['study_id'] == 51676183]"
   ]
  },
  {
   "cell_type": "code",
   "execution_count": 34,
   "metadata": {},
   "outputs": [
    {
     "output_type": "execute_result",
     "data": {
      "text/plain": [
       "        subject_id  study_id Atelectasis Cardiomegaly Consolidation Edema  \\\n",
       "75573     12009998  51676183           1            0           nan   nan   \n",
       "292488    17755234  59218035         nan          nan           nan    -1   \n",
       "\n",
       "       Enlarged Cardiomediastinum Fracture Lung Lesion Lung Opacity  ...  \\\n",
       "75573                         nan      nan         nan          nan  ...   \n",
       "292488                          0      nan         nan            1  ...   \n",
       "\n",
       "       PerformedProcedureStepDescription ViewPosition  Rows Columns StudyDate  \\\n",
       "75573         ABDOMEN (SUPINE ONLY) PORT          nan  2140    1760  21710425   \n",
       "292488        ABDOMEN (SUPINE ONLY) PORT          nan  2140    1760  21221016   \n",
       "\n",
       "       StudyTime ProcedureCodeSequence_CodeMeaning  \\\n",
       "75573   202609.0               CHEST (PORTABLE AP)   \n",
       "292488  135232.0               CHEST (PORTABLE AP)   \n",
       "\n",
       "        ViewCodeSequence_CodeMeaning  \\\n",
       "75573                            nan   \n",
       "292488                           nan   \n",
       "\n",
       "       PatientOrientationCodeSequence_CodeMeaning  \\\n",
       "75573                                         nan   \n",
       "292488                                        nan   \n",
       "\n",
       "                                     ProcedureCombined  \n",
       "75573   CHEST (PORTABLE AP) ABDOMEN (SUPINE ONLY) PORT  \n",
       "292488  CHEST (PORTABLE AP) ABDOMEN (SUPINE ONLY) PORT  \n",
       "\n",
       "[2 rows x 28 columns]"
      ],
      "text/html": "<div>\n<style scoped>\n    .dataframe tbody tr th:only-of-type {\n        vertical-align: middle;\n    }\n\n    .dataframe tbody tr th {\n        vertical-align: top;\n    }\n\n    .dataframe thead th {\n        text-align: right;\n    }\n</style>\n<table border=\"1\" class=\"dataframe\">\n  <thead>\n    <tr style=\"text-align: right;\">\n      <th></th>\n      <th>subject_id</th>\n      <th>study_id</th>\n      <th>Atelectasis</th>\n      <th>Cardiomegaly</th>\n      <th>Consolidation</th>\n      <th>Edema</th>\n      <th>Enlarged Cardiomediastinum</th>\n      <th>Fracture</th>\n      <th>Lung Lesion</th>\n      <th>Lung Opacity</th>\n      <th>...</th>\n      <th>PerformedProcedureStepDescription</th>\n      <th>ViewPosition</th>\n      <th>Rows</th>\n      <th>Columns</th>\n      <th>StudyDate</th>\n      <th>StudyTime</th>\n      <th>ProcedureCodeSequence_CodeMeaning</th>\n      <th>ViewCodeSequence_CodeMeaning</th>\n      <th>PatientOrientationCodeSequence_CodeMeaning</th>\n      <th>ProcedureCombined</th>\n    </tr>\n  </thead>\n  <tbody>\n    <tr>\n      <th>75573</th>\n      <td>12009998</td>\n      <td>51676183</td>\n      <td>1</td>\n      <td>0</td>\n      <td>nan</td>\n      <td>nan</td>\n      <td>nan</td>\n      <td>nan</td>\n      <td>nan</td>\n      <td>nan</td>\n      <td>...</td>\n      <td>ABDOMEN (SUPINE ONLY) PORT</td>\n      <td>nan</td>\n      <td>2140</td>\n      <td>1760</td>\n      <td>21710425</td>\n      <td>202609.0</td>\n      <td>CHEST (PORTABLE AP)</td>\n      <td>nan</td>\n      <td>nan</td>\n      <td>CHEST (PORTABLE AP) ABDOMEN (SUPINE ONLY) PORT</td>\n    </tr>\n    <tr>\n      <th>292488</th>\n      <td>17755234</td>\n      <td>59218035</td>\n      <td>nan</td>\n      <td>nan</td>\n      <td>nan</td>\n      <td>-1</td>\n      <td>0</td>\n      <td>nan</td>\n      <td>nan</td>\n      <td>1</td>\n      <td>...</td>\n      <td>ABDOMEN (SUPINE ONLY) PORT</td>\n      <td>nan</td>\n      <td>2140</td>\n      <td>1760</td>\n      <td>21221016</td>\n      <td>135232.0</td>\n      <td>CHEST (PORTABLE AP)</td>\n      <td>nan</td>\n      <td>nan</td>\n      <td>CHEST (PORTABLE AP) ABDOMEN (SUPINE ONLY) PORT</td>\n    </tr>\n  </tbody>\n</table>\n<p>2 rows × 28 columns</p>\n</div>"
     },
     "metadata": {},
     "execution_count": 34
    }
   ],
   "source": [
    "ap_df[ap_df['ProcedureCombined'] == 'CHEST (PORTABLE AP) ABDOMEN (SUPINE ONLY) PORT']"
   ]
  },
  {
   "cell_type": "code",
   "execution_count": 35,
   "metadata": {},
   "outputs": [],
   "source": [
    "num = 1\n",
    "for image in ap_df[ap_df.ProcedureCombined != \"CHEST (PORTABLE AP) CHEST (PORTABLE AP)\"].itertuples():\n",
    "    if not SHOW_IMAGES:\n",
    "        break\n",
    "    \n",
    "    print('=== ' + str(num) + '. sample ===')\n",
    "    print('ProcedureCombined:', image.ProcedureCombined)\n",
    "\n",
    "    num = num + 1\n",
    "    \n",
    "    file_path = path_mimic_cxr + 'files/p' + str(image.subject_id)[:2] + '/p' + str(image.subject_id) + '/s' + str(image.study_id) + '/' + str(image.dicom_id) + '.jpg'\n",
    "    # print(file_path)\n",
    "    plt.figure(num)\n",
    "    img = mpimg.imread(file_path)\n",
    "    imgplot = plt.imshow(img, cmap=\"gray\")\n",
    "    plt.show()\n",
    "    \n",
    "    print('\\n')"
   ]
  },
  {
   "cell_type": "code",
   "execution_count": 36,
   "metadata": {},
   "outputs": [],
   "source": [
    "num = 1\n",
    "for image in ap_df[ap_df.ProcedureCombined == \"CHEST (PORTABLE AP) CHEST (PORTABLE AP)\"].sample(n=50).itertuples():\n",
    "    if not SHOW_IMAGES:\n",
    "        break\n",
    "\n",
    "    print('=== ' + str(num) + '. sample ===')\n",
    "    print('ProcedureCombined:', image.ProcedureCombined)\n",
    "\n",
    "    num = num + 1\n",
    "    \n",
    "    file_path = path_mimic_cxr + 'files/p' + str(image.subject_id)[:2] + '/p' + str(image.subject_id) + '/s' + str(image.study_id) + '/' + str(image.dicom_id) + '.jpg'\n",
    "    print(file_path)\n",
    "    plt.figure(num)\n",
    "    img = mpimg.imread(file_path)\n",
    "    imgplot = plt.imshow(img, cmap=\"gray\")\n",
    "    plt.show()\n",
    "    \n",
    "    print('\\n')"
   ]
  },
  {
   "cell_type": "code",
   "execution_count": 38,
   "metadata": {},
   "outputs": [],
   "source": [
    "total = 0\n",
    "for i in ap_df.index:\n",
    "    if (i in meta_data_df.index):\n",
    "        total += 1"
   ]
  },
  {
   "cell_type": "code",
   "execution_count": 39,
   "metadata": {},
   "outputs": [
    {
     "output_type": "stream",
     "name": "stdout",
     "text": [
      "2252\n"
     ]
    }
   ],
   "source": [
    "print(total)"
   ]
  },
  {
   "cell_type": "code",
   "execution_count": 40,
   "metadata": {},
   "outputs": [],
   "source": [
    "for i in ap_df.index:\n",
    "    meta_data_df.at[i, 'ViewPosition'] = 'AP'"
   ]
  },
  {
   "cell_type": "code",
   "execution_count": 41,
   "metadata": {},
   "outputs": [
    {
     "output_type": "stream",
     "name": "stdout",
     "text": [
      "{'nan', 'PA', 'AP'}\n",
      "                     normal                        pneumonia                     \n",
      "nan:                 13517/259093 (5.22%)          13517/259093 (5.22%)          \n",
      "PA:                  96155/259093 (37.11%)         96155/259093 (37.11%)         \n",
      "AP:                  149421/259093 (57.67%)        149421/259093 (57.67%)        \n"
     ]
    }
   ],
   "source": [
    "calculate_percentages(meta_data_df['ViewPosition'], meta_data_df['ViewPosition'])"
   ]
  },
  {
   "cell_type": "code",
   "execution_count": 42,
   "metadata": {},
   "outputs": [],
   "source": [
    "num = 1\n",
    "for image in meta_data_df[meta_data_df.ViewPosition == \"nan\"].sample(n=50).itertuples():\n",
    "    if not SHOW_IMAGES:\n",
    "        break\n",
    "    \n",
    "    print('=== ' + str(num) + '. sample ===')\n",
    "    print('ProcedureCombined:', image.ProcedureCombined)\n",
    "\n",
    "    num = num + 1\n",
    "    \n",
    "    file_path = path_mimic_cxr + 'files/p' + str(image.subject_id)[:2] + '/p' + str(image.subject_id) + '/s' + str(image.study_id) + '/' + str(image.dicom_id) + '.jpg'\n",
    "    print(file_path)\n",
    "    plt.figure(num)\n",
    "    img = mpimg.imread(file_path)\n",
    "    imgplot = plt.imshow(img, cmap=\"gray\")\n",
    "    plt.show()\n",
    "    \n",
    "    print('\\n')"
   ]
  },
  {
   "cell_type": "code",
   "execution_count": 43,
   "metadata": {},
   "outputs": [
    {
     "output_type": "stream",
     "name": "stdout",
     "text": [
      "Dropping 13517 rows\n"
     ]
    }
   ],
   "source": [
    "drop_from_column(meta_data_df, 'ViewPosition', 'nan')"
   ]
  },
  {
   "cell_type": "code",
   "execution_count": 44,
   "metadata": {},
   "outputs": [
    {
     "output_type": "stream",
     "name": "stdout",
     "text": [
      "{'PA', 'AP'}\n",
      "                     normal                        pneumonia                     \n",
      "PA:                  96155/245576 (39.15%)         96155/245576 (39.15%)         \n",
      "AP:                  149421/245576 (60.85%)        149421/245576 (60.85%)        \n"
     ]
    }
   ],
   "source": [
    "calculate_percentages(meta_data_df['ViewPosition'], meta_data_df['ViewPosition'])"
   ]
  },
  {
   "cell_type": "code",
   "execution_count": 45,
   "metadata": {},
   "outputs": [
    {
     "output_type": "stream",
     "name": "stdout",
     "text": [
      "{'nan', 1.0, -1.0, 0.0}\n",
      "                     normal                        pneumonia                     \n",
      "nan:                 183869/245576 (74.87%)        183869/245576 (74.87%)        \n",
      "1.0:                 16807/245576 (6.84%)          16807/245576 (6.84%)          \n",
      "-1.0:                19806/245576 (8.07%)          19806/245576 (8.07%)          \n",
      "0.0:                 25094/245576 (10.22%)         25094/245576 (10.22%)         \n"
     ]
    }
   ],
   "source": [
    "calculate_percentages(meta_data_df['Pneumonia'], meta_data_df['Pneumonia'])"
   ]
  },
  {
   "cell_type": "code",
   "execution_count": 46,
   "metadata": {},
   "outputs": [
    {
     "output_type": "stream",
     "name": "stdout",
     "text": [
      "Pneumonia samples 16807\nNormal samples 208963\n"
     ]
    }
   ],
   "source": [
    "pneumonia_df = meta_data_df.query('Pneumonia == 1.0')\n",
    "print('Pneumonia samples', len(pneumonia_df))\n",
    "normal_df = meta_data_df.query('Pneumonia == 0.0 | Pneumonia == \"nan\"')\n",
    "print('Normal samples', len(normal_df))"
   ]
  },
  {
   "cell_type": "code",
   "execution_count": 48,
   "metadata": {},
   "outputs": [
    {
     "output_type": "stream",
     "name": "stdout",
     "text": [
      "7896 of 9558 pneumonia patients are also present in normal patients (total of 60499 unique normal patients)\nThis affects 71565 of 208963 normal samples\n"
     ]
    }
   ],
   "source": [
    "pneumonia_patientids = set(pneumonia_df['subject_id'])\n",
    "normal_patientids = set(normal_df['subject_id'])\n",
    "\n",
    "duplicate_ids = pneumonia_patientids.intersection(normal_patientids)\n",
    "print(len(duplicate_ids), 'of', len(pneumonia_patientids), 'pneumonia patients are also present in normal patients (total of', len(normal_patientids), 'unique normal patients)')\n",
    "\n",
    "res = normal_df[normal_df['subject_id'].apply(lambda x: x in duplicate_ids)]\n",
    "print('This affects', len(res), 'of', len(normal_df), 'normal samples')"
   ]
  },
  {
   "cell_type": "code",
   "execution_count": 50,
   "metadata": {},
   "outputs": [],
   "source": [
    "# Dropping duplicates in normal data\n",
    "normal_df.drop(res.index, inplace=True)"
   ]
  },
  {
   "cell_type": "code",
   "execution_count": 51,
   "metadata": {},
   "outputs": [
    {
     "output_type": "execute_result",
     "data": {
      "text/plain": [
       "137398"
      ]
     },
     "metadata": {},
     "execution_count": 51
    }
   ],
   "source": [
    "len(normal_df)"
   ]
  },
  {
   "cell_type": "code",
   "execution_count": 52,
   "metadata": {},
   "outputs": [
    {
     "output_type": "execute_result",
     "data": {
      "text/plain": [
       "{'Atelectasis',\n",
       " 'Cardiomegaly',\n",
       " 'Columns',\n",
       " 'Consolidation',\n",
       " 'Edema',\n",
       " 'Enlarged Cardiomediastinum',\n",
       " 'Fracture',\n",
       " 'Lung Lesion',\n",
       " 'Lung Opacity',\n",
       " 'NoFinding',\n",
       " 'PatientOrientationCodeSequence_CodeMeaning',\n",
       " 'PerformedProcedureStepDescription',\n",
       " 'Pleural Effusion',\n",
       " 'Pleural Other',\n",
       " 'Pneumonia',\n",
       " 'Pneumothorax',\n",
       " 'ProcedureCodeSequence_CodeMeaning',\n",
       " 'ProcedureCombined',\n",
       " 'Rows',\n",
       " 'StudyDate',\n",
       " 'StudyTime',\n",
       " 'SupportDevices',\n",
       " 'ViewCodeSequence_CodeMeaning',\n",
       " 'ViewPosition',\n",
       " 'dicom_id',\n",
       " 'study_id',\n",
       " 'subject_id',\n",
       " 'subject_id_meta'}"
      ]
     },
     "metadata": {},
     "execution_count": 52
    }
   ],
   "source": [
    "set(meta_data_df)"
   ]
  },
  {
   "source": [
    "# Data Analysis"
   ],
   "cell_type": "markdown",
   "metadata": {}
  },
  {
   "cell_type": "code",
   "execution_count": 59,
   "metadata": {},
   "outputs": [
    {
     "output_type": "stream",
     "name": "stdout",
     "text": [
      "==== Distribution of projections ====\n",
      "\n",
      "{'PA', 'AP'}\n",
      "                     normal                        pneumonia                     \n",
      "PA:                  67563/137398 (49.17%)         5563/16807 (33.10%)           \n",
      "AP:                  69835/137398 (50.83%)         11244/16807 (66.90%)          \n",
      "\n",
      "==== Distribution of ViewCodeSequence_CodeMeaning ====\n",
      "\n",
      "{'antero-posterior', 'Erect', 'Recumbent', 'postero-anterior', 'nan', 'left anterior oblique'}\n",
      "                     normal                        pneumonia                     \n",
      "antero-posterior:    68630/137398 (49.95%)         10932/16807 (65.04%)          \n",
      "Erect:               239/137398 (0.17%)            27/16807 (0.16%)              \n",
      "Recumbent:           6/137398 (0.00%)              1/16807 (0.01%)               \n",
      "postero-anterior:    67340/137398 (49.01%)         5539/16807 (32.96%)           \n",
      "nan:                 1173/137398 (0.85%)           306/16807 (1.82%)             \n",
      "left anterior oblique: 10/137398 (0.01%)             2/16807 (0.01%)               \n"
     ]
    }
   ],
   "source": [
    "print('==== Distribution of projections ====\\n')\n",
    "calculate_percentages(normal_df['ViewPosition'], pneumonia_df['ViewPosition'])\n",
    "print('\\n==== Distribution of ViewCodeSequence_CodeMeaning ====\\n')\n",
    "calculate_percentages(normal_df['ViewCodeSequence_CodeMeaning'], pneumonia_df['ViewCodeSequence_CodeMeaning'])"
   ]
  },
  {
   "cell_type": "code",
   "execution_count": 54,
   "metadata": {},
   "outputs": [
    {
     "output_type": "stream",
     "name": "stdout",
     "text": [
      "==== Distribution of support devices ====\n\n{'nan', 1.0, -1.0, 0.0}\n                     normal                        pneumonia                     \nnan:                 103304/137398 (75.19%)        11744/16807 (69.88%)          \n1.0:                 31835/137398 (23.17%)         4810/16807 (28.62%)           \n-1.0:                245/137398 (0.18%)            39/16807 (0.23%)              \n0.0:                 2014/137398 (1.47%)           214/16807 (1.27%)             \n"
     ]
    }
   ],
   "source": [
    "print('==== Distribution of support devices ====\\n')\n",
    "calculate_percentages(normal_df['SupportDevices'], pneumonia_df['SupportDevices'])"
   ]
  },
  {
   "source": [
    "# Stratified Sampling from Kaggle"
   ],
   "cell_type": "markdown",
   "metadata": {}
  },
  {
   "cell_type": "code",
   "execution_count": 88,
   "metadata": {},
   "outputs": [],
   "source": [
    "'''\n",
    "This module contains functions that computes stratified sampling of pandas dataframes.\n",
    "'''\n",
    "# Required libraries\n",
    "import pandas as pd\n",
    "import numpy as np\n",
    "import warnings\n",
    "warnings.filterwarnings(\"ignore\")\n",
    "\n",
    "# Functions"
   ]
  },
  {
   "cell_type": "code",
   "execution_count": 89,
   "metadata": {},
   "outputs": [],
   "source": [
    "def __smpl_size(population, size):\n",
    "    '''\n",
    "    A function to compute the sample size. If not informed, a sampling \n",
    "    size will be calculated using Cochran adjusted sampling formula:\n",
    "        cochran_n = (Z**2 * p * q) /e**2\n",
    "\n",
    "        where:\n",
    "            - Z is the z-value. In this case we use 1.96 representing 95%\n",
    "            - p is the estimated proportion of the population which has an\n",
    "                attribute. In this case we use 0.5\n",
    "            - q is 1-p\n",
    "            - e is the margin of error\n",
    "\n",
    "        This formula is adjusted as follows:\n",
    "        adjusted_cochran = cochran_n / 1+((cochran_n -1)/N)\n",
    "\n",
    "        where:\n",
    "            - cochran_n = result of the previous formula\n",
    "            - N is the population size\n",
    "    Parameters\n",
    "    ----------\n",
    "        :population: population size\n",
    "        :size: sample size (default = None)\n",
    "    Returns\n",
    "    -------\n",
    "    Calculated sample size to be used in the functions:\n",
    "        - stratified_sample\n",
    "        - stratified_sample_report\n",
    "    '''\n",
    "    if size is None:\n",
    "        cochran_n = round(((1.96)**2 * 0.5 * 0.5)/ 0.02**2)\n",
    "        n = round(cochran_n/(1+((cochran_n -1) /population)))\n",
    "    elif size >= 0 and size < 1:\n",
    "        n = round(population * size)\n",
    "    elif size < 0:\n",
    "        raise ValueError('Parameter \"size\" must be an integer or a proportion between 0 and 0.99.')\n",
    "    elif size >= 1:\n",
    "        n = size\n",
    "    return n"
   ]
  },
  {
   "cell_type": "code",
   "execution_count": 90,
   "metadata": {},
   "outputs": [],
   "source": [
    "def stratified_sample_report(df, strata, size=None):\n",
    "    '''\n",
    "    Generates a dataframe reporting the counts in each stratum and the counts\n",
    "    for the final sampled dataframe.\n",
    "\n",
    "    Parameters\n",
    "    ----------\n",
    "    :df: pandas dataframe from which data will be sampled.\n",
    "    :strata: list containing columns that will be used in the stratified sampling.\n",
    "    :size: sampling size. If not informed, a sampling size will be calculated\n",
    "        using Cochran adjusted sampling formula:\n",
    "        cochran_n = (Z**2 * p * q) /e**2\n",
    "\n",
    "        where:\n",
    "            - Z is the z-value. In this case we use 1.96 representing 95%\n",
    "            - p is the estimated proportion of the population which has an\n",
    "                attribute. In this case we use 0.5\n",
    "            - q is 1-p\n",
    "            - e is the margin of error\n",
    "\n",
    "        This formula is adjusted as follows:\n",
    "        adjusted_cochran = cochran_n / 1+((cochran_n -1)/N)\n",
    "\n",
    "        where:\n",
    "            - cochran_n = result of the previous formula\n",
    "            - N is the population size\n",
    "\n",
    "    Returns\n",
    "    -------\n",
    "    A dataframe reporting the counts in each stratum and the counts\n",
    "    for the final sampled dataframe.\n",
    "    '''\n",
    "    population = len(df)\n",
    "    size = __smpl_size(population, size)\n",
    "    tmp = df[strata]\n",
    "    tmp['size'] = 1\n",
    "    tmp_grpd = tmp.groupby(strata).count().reset_index()\n",
    "    tmp_grpd['samp_size'] = round(size/population * tmp_grpd['size']).astype(int)\n",
    "    return tmp_grpd"
   ]
  },
  {
   "cell_type": "code",
   "execution_count": 91,
   "metadata": {},
   "outputs": [],
   "source": [
    "def stratified_sample_transferred(df_target, df_proportion, strata, size=None, seed=None, keep_index= True):\n",
    "    '''\n",
    "    It samples data from a pandas dataframe using strata. These functions use\n",
    "    proportionate stratification:\n",
    "    n1 = (N1/N) * n\n",
    "    where:\n",
    "        - n1 is the sample size of stratum 1\n",
    "        - N1 is the population size of stratum 1\n",
    "        - N is the total population size\n",
    "        - n is the sampling size\n",
    "    Parameters\n",
    "    ----------\n",
    "    :df_target: pandas dataframe from which data will be sampled.\n",
    "    :df_proportion: pandas dataframe from which the proportions for sampling will be used.\n",
    "    :strata: list containing columns that will be used in the stratified sampling.\n",
    "    :size: sampling size. If not informed, a sampling size will be calculated\n",
    "        using Cochran adjusted sampling formula:\n",
    "        cochran_n = (Z**2 * p * q) /e**2\n",
    "        where:\n",
    "            - Z is the z-value. In this case we use 1.96 representing 95%\n",
    "            - p is the estimated proportion of the population which has an\n",
    "                attribute. In this case we use 0.5\n",
    "            - q is 1-p\n",
    "            - e is the margin of error\n",
    "        This formula is adjusted as follows:\n",
    "        adjusted_cochran = cochran_n / 1+((cochran_n -1)/N)\n",
    "        where:\n",
    "            - cochran_n = result of the previous formula\n",
    "            - N is the population size\n",
    "    :seed: sampling seed\n",
    "    :keep_index: if True, it keeps a column with the original population index indicator\n",
    "    \n",
    "    Returns\n",
    "    -------\n",
    "    A sampled pandas dataframe based in a set of strata.\n",
    "    Examples\n",
    "    --------\n",
    "    >> df.head()\n",
    "    \tid  sex age city \n",
    "    0\t123 M   20  XYZ\n",
    "    1\t456 M   25  XYZ\n",
    "    2\t789 M   21  YZX\n",
    "    3\t987 F   40  ZXY\n",
    "    4\t654 M   45  ZXY\n",
    "    ...\n",
    "    # This returns a sample stratified by sex and city containing 30% of the size of\n",
    "    # the original data\n",
    "    >> stratified = stratified_sample(df=df, strata=['sex', 'city'], size=0.3)\n",
    "    Requirements\n",
    "    ------------\n",
    "    - pandas\n",
    "    - numpy\n",
    "    '''\n",
    "    \n",
    "    # population = len(df)\n",
    "    # size = __smpl_size(population, size)\n",
    "    # tmp = df[strata]\n",
    "    # tmp['size'] = 1\n",
    "    # tmp_grpd = tmp.groupby(strata).count().reset_index()\n",
    "    # tmp_grpd['samp_size'] = round(size/population * tmp_grpd['size']).astype(int)\n",
    "\n",
    "\n",
    "    population = len(df_proportion)\n",
    "    size = __smpl_size(population, size)\n",
    "\n",
    "    tmp_proportion = df_proportion[strata]\n",
    "    tmp = df_target[strata]\n",
    "\n",
    "    tmp_proportion['size'] = 1\n",
    "    tmp['size'] = 1\n",
    "\n",
    "    tmp_proportion_grpd = tmp_proportion.groupby(strata).count().reset_index()\n",
    "    tmp_grpd = tmp.groupby(strata).count().reset_index()\n",
    "\n",
    "    if not tmp_grpd[strata].equals(tmp_proportion_grpd[strata]):\n",
    "        print(tmp_grpd)\n",
    "        print(tmp_proportion_grpd)\n",
    "        raise ValueError(\"Dataframes don't have the same groups for the given set of stratas. You can check the differences in the terminal output.\")        \n",
    "\n",
    "    tmp_proportion_grpd['samp_size'] = round(size/population * tmp_proportion_grpd['size']).astype(int)\n",
    "    tmp_grpd['samp_size'] = round(size/population * tmp_proportion_grpd['size']).astype(int)\n",
    "\n",
    "    # controlling variable to create the dataframe or append to it\n",
    "    first = True\n",
    "    # Hier muss nichts geändert werden, da die Gruppen ohnehin die gleichen sein sollten -> len(tmp_grpd) == len(tmp_proportion_grpd)\n",
    "    for i in range(len(tmp_grpd)):\n",
    "        # query generator for each iteration\n",
    "        qry=''\n",
    "        for s in range(len(strata)):\n",
    "            stratum = strata[s]\n",
    "            # Hier wird n berechnet, tmp_proportion_grpd statt tmp_grpd\n",
    "            \n",
    "            value = tmp_grpd.iloc[i][stratum]\n",
    "            n = tmp_grpd.iloc[i]['samp_size']\n",
    "\n",
    "            if type(value) == str:\n",
    "                value = \"'\" + str(value) + \"'\"\n",
    "            \n",
    "            if s != len(strata)-1:\n",
    "                qry = qry + stratum + ' == ' + str(value) +' & '\n",
    "            else:\n",
    "                qry = qry + stratum + ' == ' + str(value)\n",
    "        \n",
    "        # query dataframe\n",
    "        queried_df = df_target.query(qry)\n",
    "\n",
    "        # check if result contains enough samples / rows\n",
    "        if len(queried_df) < n:\n",
    "            print(\"Warning! The required number of samples (\" + str(n) + \") could not be retrieved.\")\n",
    "            print(\"Using all available entries (\" + str(len(queried_df)) + \") of group:\")\n",
    "            print(qry)\n",
    "            n = len(queried_df)\n",
    "\n",
    "        # sample dataframe\n",
    "        sampled_df = queried_df.sample(n=n, random_state=seed).reset_index(drop=(not keep_index))\n",
    "\n",
    "        # assign to final dataframe\n",
    "        if first:\n",
    "            stratified_df = sampled_df\n",
    "            first = False\n",
    "        else:\n",
    "            stratified_df = stratified_df.append(sampled_df, ignore_index=True)\n",
    "    \n",
    "    return stratified_df"
   ]
  },
  {
   "cell_type": "code",
   "execution_count": 92,
   "metadata": {},
   "outputs": [
    {
     "output_type": "stream",
     "name": "stdout",
     "text": [
      "\nFiltered dataframe has 16807 samples\n"
     ]
    }
   ],
   "source": [
    "filtered_df = stratified_sample_transferred(normal_df, pneumonia_df, ['ViewPosition', 'SupportDevices'], size=len(pneumonia_df))\n",
    "\n",
    "print('\\nFiltered dataframe has', len(filtered_df), 'samples')"
   ]
  },
  {
   "cell_type": "code",
   "execution_count": 94,
   "metadata": {},
   "outputs": [
    {
     "output_type": "stream",
     "name": "stdout",
     "text": [
      "==== Distribution of projections ====\n\n{'PA', 'AP'}\n                     normal                        pneumonia                     \nPA:                  5563/16807 (33.10%)           5563/16807 (33.10%)           \nAP:                  11244/16807 (66.90%)          11244/16807 (66.90%)          \n\n==== Distribution of ViewCodeSequence_CodeMeaning ====\n\nWARNING! Categories of healthy and pneumonia data are not identical!\nNormal: {'antero-posterior', 'Erect', 'postero-anterior', 'nan', 'left anterior oblique'}\nPneumonia: {'antero-posterior', 'Erect', 'Recumbent', 'postero-anterior', 'nan', 'left anterior oblique'}\nNumber of appearences (normal):\n'antero-posterior': 11040\n'Erect': 23\n'postero-anterior': 5544\n'nan': 199\n'left anterior oblique': 1\n\n\n==== Distribution of SupportDevices ====\n\n{0.0, 1.0, 'nan', -1.0}\n                     normal                        pneumonia                     \n0.0:                 214/16807 (1.27%)             214/16807 (1.27%)             \n1.0:                 4810/16807 (28.62%)           4810/16807 (28.62%)           \nnan:                 11744/16807 (69.88%)          11744/16807 (69.88%)          \n-1.0:                39/16807 (0.23%)              39/16807 (0.23%)              \n"
     ]
    }
   ],
   "source": [
    "print('==== Distribution of projections ====\\n')\n",
    "calculate_percentages(filtered_df['ViewPosition'], pneumonia_df['ViewPosition'])\n",
    "print('\\n==== Distribution of ViewCodeSequence_CodeMeaning ====\\n')\n",
    "calculate_percentages(filtered_df['ViewCodeSequence_CodeMeaning'], pneumonia_df['ViewCodeSequence_CodeMeaning'])\n",
    "print('\\n==== Distribution of SupportDevices ====\\n')\n",
    "calculate_percentages(filtered_df['SupportDevices'], pneumonia_df['SupportDevices'])"
   ]
  },
  {
   "source": [
    "# Store results as csv files"
   ],
   "cell_type": "markdown",
   "metadata": {}
  },
  {
   "cell_type": "code",
   "execution_count": 96,
   "metadata": {},
   "outputs": [],
   "source": [
    "filtered_df.to_csv('./normal_meta_data_filtered.csv')\n",
    "pneumonia_df.to_csv('./pneumonia_meta_data_filtered.csv')"
   ]
  },
  {
   "cell_type": "code",
   "execution_count": null,
   "metadata": {},
   "outputs": [],
   "source": []
  }
 ]
}