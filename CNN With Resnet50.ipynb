{
 "cells": [
  {
   "cell_type": "markdown",
   "metadata": {},
   "source": [
    "# ResNet50 - CNN\n",
    "\n",
    "This notebook uses the ResNet50 model architecture."
   ]
  },
  {
   "cell_type": "code",
   "execution_count": 30,
   "metadata": {},
   "outputs": [],
   "source": [
    "import pandas as pd\n",
    "import tensorflow as tf\n",
    "import matplotlib\n",
    "import matplotlib.pyplot as plt\n",
    "import numpy as np\n",
    "import os\n",
    "# import cv2\n",
    "from pathlib import Path\n",
    "from tensorflow.keras.applications.resnet50 import ResNet50\n",
    "from tensorflow.keras.preprocessing.image import ImageDataGenerator\n",
    "from tensorflow.keras import activations\n",
    "from tensorflow.keras.optimizers import Adam\n",
    "from tensorflow.keras.models import Sequential\n",
    "from tensorflow.keras.callbacks import EarlyStopping, Callback\n",
    "from tensorflow.keras.layers import Flatten, Dense, Dropout, BatchNormalization, AveragePooling2D, Conv2D, MaxPool2D, Activation, GlobalAveragePooling2D\n",
    "from sklearn.metrics import classification_report, confusion_matrix\n",
    "from sklearn.metrics import plot_confusion_matrix"
   ]
  },
  {
   "cell_type": "code",
   "execution_count": 31,
   "metadata": {},
   "outputs": [],
   "source": [
    "# Config\n",
    "IMG_SIZE = 64\n",
    "BATCH_SIZE=32\n",
    "train_path = 'data/train/'\n",
    "test_path = 'data/test/'\n",
    "val_path = 'data/val/'\n",
    "covid19_path = 'data/covid19/'"
   ]
  },
  {
   "cell_type": "markdown",
   "metadata": {},
   "source": [
    "## 1 Data preparation"
   ]
  },
  {
   "cell_type": "code",
   "execution_count": 32,
   "metadata": {},
   "outputs": [],
   "source": [
    "def load_images_from_folder(folder):\n",
    "    tmp_df = pd.DataFrame(columns = ['path', 'label', 'label2'])\n",
    "    \n",
    "    for label_folder in os.listdir(folder):\n",
    "        print(label_folder)\n",
    "        for filename in os.listdir(folder + '/' + label_folder):\n",
    "            img_path = str(folder)+str(label_folder)+'/'+str(filename)\n",
    "            if img_path is not None:\n",
    "                tmp_df = tmp_df.append({'path': img_path, 'label': label_folder}, ignore_index=True)\n",
    "    return tmp_df"
   ]
  },
  {
   "cell_type": "code",
   "execution_count": 33,
   "metadata": {},
   "outputs": [],
   "source": [
    "def load_covid19images_from_folder(folder):\n",
    "    tmp_df = pd.DataFrame(columns = ['path', 'label', 'label2'])\n",
    "    for filename in os.listdir(folder):\n",
    "        img_path = str(folder)+str(filename)\n",
    "        if img_path is not None:\n",
    "            tmp_df = tmp_df.append({'path': img_path, 'label': 'PNEUMONIA', 'label2': 'COVID-19'}, ignore_index=True)\n",
    "    return tmp_df"
   ]
  },
  {
   "cell_type": "code",
   "execution_count": 34,
   "metadata": {},
   "outputs": [
    {
     "name": "stdout",
     "output_type": "stream",
     "text": [
      "NORMAL\n",
      "PNEUMONIA\n",
      "NORMAL\n",
      "PNEUMONIA\n",
      "NORMAL\n",
      "PNEUMONIA\n"
     ]
    }
   ],
   "source": [
    "df_train = load_images_from_folder(train_path)\n",
    "df_val = load_images_from_folder(val_path)\n",
    "df_test = load_images_from_folder(test_path)"
   ]
  },
  {
   "cell_type": "code",
   "execution_count": 35,
   "metadata": {},
   "outputs": [
    {
     "data": {
      "text/html": [
       "<div>\n",
       "<style scoped>\n",
       "    .dataframe tbody tr th:only-of-type {\n",
       "        vertical-align: middle;\n",
       "    }\n",
       "\n",
       "    .dataframe tbody tr th {\n",
       "        vertical-align: top;\n",
       "    }\n",
       "\n",
       "    .dataframe thead th {\n",
       "        text-align: right;\n",
       "    }\n",
       "</style>\n",
       "<table border=\"1\" class=\"dataframe\">\n",
       "  <thead>\n",
       "    <tr style=\"text-align: right;\">\n",
       "      <th></th>\n",
       "      <th>path</th>\n",
       "      <th>label</th>\n",
       "      <th>label2</th>\n",
       "    </tr>\n",
       "  </thead>\n",
       "  <tbody>\n",
       "    <tr>\n",
       "      <th>0</th>\n",
       "      <td>data/train/NORMAL/IM-0115-0001.jpeg</td>\n",
       "      <td>NORMAL</td>\n",
       "      <td>NaN</td>\n",
       "    </tr>\n",
       "    <tr>\n",
       "      <th>1</th>\n",
       "      <td>data/train/NORMAL/IM-0117-0001.jpeg</td>\n",
       "      <td>NORMAL</td>\n",
       "      <td>NaN</td>\n",
       "    </tr>\n",
       "    <tr>\n",
       "      <th>2</th>\n",
       "      <td>data/train/NORMAL/IM-0119-0001.jpeg</td>\n",
       "      <td>NORMAL</td>\n",
       "      <td>NaN</td>\n",
       "    </tr>\n",
       "    <tr>\n",
       "      <th>3</th>\n",
       "      <td>data/train/NORMAL/IM-0122-0001.jpeg</td>\n",
       "      <td>NORMAL</td>\n",
       "      <td>NaN</td>\n",
       "    </tr>\n",
       "    <tr>\n",
       "      <th>4</th>\n",
       "      <td>data/train/NORMAL/IM-0125-0001.jpeg</td>\n",
       "      <td>NORMAL</td>\n",
       "      <td>NaN</td>\n",
       "    </tr>\n",
       "    <tr>\n",
       "      <th>...</th>\n",
       "      <td>...</td>\n",
       "      <td>...</td>\n",
       "      <td>...</td>\n",
       "    </tr>\n",
       "    <tr>\n",
       "      <th>5211</th>\n",
       "      <td>data/train/PNEUMONIA/person99_virus_183.jpeg</td>\n",
       "      <td>PNEUMONIA</td>\n",
       "      <td>NaN</td>\n",
       "    </tr>\n",
       "    <tr>\n",
       "      <th>5212</th>\n",
       "      <td>data/train/PNEUMONIA/person9_bacteria_38.jpeg</td>\n",
       "      <td>PNEUMONIA</td>\n",
       "      <td>NaN</td>\n",
       "    </tr>\n",
       "    <tr>\n",
       "      <th>5213</th>\n",
       "      <td>data/train/PNEUMONIA/person9_bacteria_39.jpeg</td>\n",
       "      <td>PNEUMONIA</td>\n",
       "      <td>NaN</td>\n",
       "    </tr>\n",
       "    <tr>\n",
       "      <th>5214</th>\n",
       "      <td>data/train/PNEUMONIA/person9_bacteria_40.jpeg</td>\n",
       "      <td>PNEUMONIA</td>\n",
       "      <td>NaN</td>\n",
       "    </tr>\n",
       "    <tr>\n",
       "      <th>5215</th>\n",
       "      <td>data/train/PNEUMONIA/person9_bacteria_41.jpeg</td>\n",
       "      <td>PNEUMONIA</td>\n",
       "      <td>NaN</td>\n",
       "    </tr>\n",
       "  </tbody>\n",
       "</table>\n",
       "<p>5216 rows × 3 columns</p>\n",
       "</div>"
      ],
      "text/plain": [
       "                                               path      label label2\n",
       "0               data/train/NORMAL/IM-0115-0001.jpeg     NORMAL    NaN\n",
       "1               data/train/NORMAL/IM-0117-0001.jpeg     NORMAL    NaN\n",
       "2               data/train/NORMAL/IM-0119-0001.jpeg     NORMAL    NaN\n",
       "3               data/train/NORMAL/IM-0122-0001.jpeg     NORMAL    NaN\n",
       "4               data/train/NORMAL/IM-0125-0001.jpeg     NORMAL    NaN\n",
       "...                                             ...        ...    ...\n",
       "5211   data/train/PNEUMONIA/person99_virus_183.jpeg  PNEUMONIA    NaN\n",
       "5212  data/train/PNEUMONIA/person9_bacteria_38.jpeg  PNEUMONIA    NaN\n",
       "5213  data/train/PNEUMONIA/person9_bacteria_39.jpeg  PNEUMONIA    NaN\n",
       "5214  data/train/PNEUMONIA/person9_bacteria_40.jpeg  PNEUMONIA    NaN\n",
       "5215  data/train/PNEUMONIA/person9_bacteria_41.jpeg  PNEUMONIA    NaN\n",
       "\n",
       "[5216 rows x 3 columns]"
      ]
     },
     "execution_count": 35,
     "metadata": {},
     "output_type": "execute_result"
    }
   ],
   "source": [
    "df_train"
   ]
  },
  {
   "cell_type": "code",
   "execution_count": 36,
   "metadata": {},
   "outputs": [
    {
     "data": {
      "text/plain": [
       "5216"
      ]
     },
     "execution_count": 36,
     "metadata": {},
     "output_type": "execute_result"
    }
   ],
   "source": [
    "len(df_train)"
   ]
  },
  {
   "cell_type": "code",
   "execution_count": 37,
   "metadata": {},
   "outputs": [],
   "source": [
    "# we removed 3 side x ray imgs (blacklisted)\n",
    "df_covid19 = load_covid19images_from_folder(covid19_path)"
   ]
  },
  {
   "cell_type": "code",
   "execution_count": 38,
   "metadata": {},
   "outputs": [],
   "source": [
    "train_covid19 = df_covid19.sample(frac = 0.8,random_state=200)\n",
    "test_covid19 = df_covid19.drop(train_covid19.index).sample(frac = 0.5,random_state=200)\n",
    "val_covid19 = df_covid19.drop(train_covid19.index).drop(test_covid19.index)"
   ]
  },
  {
   "cell_type": "code",
   "execution_count": 39,
   "metadata": {},
   "outputs": [
    {
     "name": "stdout",
     "output_type": "stream",
     "text": [
      "=== COVID-19 Split: ===\n",
      "Train: 175\n",
      "Val: 22\n",
      "Test: 22\n"
     ]
    }
   ],
   "source": [
    "print('=== COVID-19 Split: ===')\n",
    "print('Train:', len(train_covid19))\n",
    "print('Val:', len(val_covid19))\n",
    "print('Test:', len(test_covid19))"
   ]
  },
  {
   "cell_type": "code",
   "execution_count": 40,
   "metadata": {},
   "outputs": [],
   "source": [
    "# Train\n",
    "df_train = df_train.append(train_covid19, ignore_index=True)\n",
    "df_train = df_train.sample(frac=1).reset_index(drop=True) # shuffle covid19 under the rest\n",
    "\n",
    "# Val\n",
    "df_val = df_val.append(val_covid19, ignore_index=True)\n",
    "df_val = df_val.sample(frac=1).reset_index(drop=True) # shuffle covid19 under the rest\n",
    "\n",
    "# Test\n",
    "df_test = df_test.append(test_covid19, ignore_index=True)\n",
    "df_test = df_test.sample(frac=1).reset_index(drop=True) # shuffle covid19 under the rest"
   ]
  },
  {
   "cell_type": "code",
   "execution_count": 41,
   "metadata": {},
   "outputs": [],
   "source": [
    "# Append some more test data to val, since there are such few.. \n",
    "df_add_val = df_test[:175] # 175 see baseline paper\n",
    "df_test = df_test[:-175]"
   ]
  },
  {
   "cell_type": "code",
   "execution_count": 42,
   "metadata": {},
   "outputs": [],
   "source": [
    "df_val = df_val.append(df_add_val, ignore_index=True)"
   ]
  },
  {
   "cell_type": "code",
   "execution_count": 43,
   "metadata": {},
   "outputs": [
    {
     "name": "stdout",
     "output_type": "stream",
     "text": [
      "=== Data: ===\n",
      "Train: 5391\n",
      "Val: 213\n",
      "Test: 471\n"
     ]
    }
   ],
   "source": [
    "print('=== Data: ===')\n",
    "print('Train:', len(df_train))\n",
    "print('Val:', len(df_val))\n",
    "print('Test:', len(df_test))"
   ]
  },
  {
   "cell_type": "markdown",
   "metadata": {},
   "source": [
    "## 2 Data generator"
   ]
  },
  {
   "cell_type": "code",
   "execution_count": 44,
   "metadata": {},
   "outputs": [
    {
     "name": "stdout",
     "output_type": "stream",
     "text": [
      "Found 5391 validated image filenames belonging to 2 classes.\n",
      "Found 213 validated image filenames belonging to 2 classes.\n",
      "Found 471 validated image filenames belonging to 2 classes.\n"
     ]
    }
   ],
   "source": [
    "# Training\n",
    "train_datagen = ImageDataGenerator(\n",
    "        rescale=1./255,\n",
    "        rotation_range = 20,\n",
    "        width_shift_range = 0.2,\n",
    "        height_shift_range = 0.2,\n",
    "        shear_range=0.2,\n",
    "        horizontal_flip = False,\n",
    "        fill_mode=\"nearest\",\n",
    "        zoom_range=0.2)\n",
    "\n",
    "train_generator = train_datagen.flow_from_dataframe(\n",
    "        dataframe = df_train,\n",
    "        target_size = (IMG_SIZE, IMG_SIZE),\n",
    "        directory = None,\n",
    "        x_col='path',\n",
    "        y_col='label',\n",
    "        batch_size = BATCH_SIZE,\n",
    "        class_mode = \"binary\",\n",
    "        shuffle=True)\n",
    "\n",
    "# Validation\n",
    "val_datagen = ImageDataGenerator(rescale=1./255)\n",
    "val_generator = val_datagen.flow_from_dataframe(\n",
    "        dataframe = df_val,\n",
    "        target_size = (IMG_SIZE, IMG_SIZE),\n",
    "        directory = None,\n",
    "        x_col='path',\n",
    "        y_col='label',\n",
    "        class_mode = \"binary\",\n",
    "        shuffle=True)\n",
    "\n",
    "test_generator = val_datagen.flow_from_dataframe(\n",
    "        dataframe = df_test,\n",
    "        target_size = (IMG_SIZE, IMG_SIZE),\n",
    "        directory = None,\n",
    "        x_col='path',\n",
    "        y_col='label',\n",
    "        class_mode = \"binary\",\n",
    "        shuffle=False)"
   ]
  },
  {
   "cell_type": "code",
   "execution_count": 45,
   "metadata": {},
   "outputs": [
    {
     "data": {
      "text/plain": [
       "'/device:GPU:0'"
      ]
     },
     "execution_count": 45,
     "metadata": {},
     "output_type": "execute_result"
    }
   ],
   "source": [
    "tf.test.gpu_device_name()"
   ]
  },
  {
   "cell_type": "markdown",
   "metadata": {},
   "source": [
    "## 3 Model training"
   ]
  },
  {
   "cell_type": "code",
   "execution_count": 46,
   "metadata": {},
   "outputs": [
    {
     "name": "stdout",
     "output_type": "stream",
     "text": [
      "Model: \"sequential_1\"\n",
      "_________________________________________________________________\n",
      "Layer (type)                 Output Shape              Param #   \n",
      "=================================================================\n",
      "resnet50 (Model)             (None, 2, 2, 2048)        23587712  \n",
      "_________________________________________________________________\n",
      "dropout_3 (Dropout)          (None, 2, 2, 2048)        0         \n",
      "_________________________________________________________________\n",
      "global_average_pooling2d_1 ( (None, 2048)              0         \n",
      "_________________________________________________________________\n",
      "dense_3 (Dense)              (None, 1024)              2098176   \n",
      "_________________________________________________________________\n",
      "dropout_4 (Dropout)          (None, 1024)              0         \n",
      "_________________________________________________________________\n",
      "dense_4 (Dense)              (None, 512)               524800    \n",
      "_________________________________________________________________\n",
      "dropout_5 (Dropout)          (None, 512)               0         \n",
      "_________________________________________________________________\n",
      "dense_5 (Dense)              (None, 1)                 513       \n",
      "=================================================================\n",
      "Total params: 26,211,201\n",
      "Trainable params: 2,623,489\n",
      "Non-trainable params: 23,587,712\n",
      "_________________________________________________________________\n"
     ]
    }
   ],
   "source": [
    "# Based on the model of: https://ieeexplore.ieee.org/abstract/document/9057809\n",
    "# Feature Extraction and Classification of Chest X-Ray Images Using CNN to Detect Pneumonia\n",
    "model = Sequential()\n",
    "model.add(ResNet50(input_shape=(IMG_SIZE, IMG_SIZE, 3), include_top=False, weights='imagenet'))\n",
    "model.add(Dropout(0.25))\n",
    "model.add(GlobalAveragePooling2D())\n",
    "model.add(Dense(1024,activation='relu'))\n",
    "model.add(Dropout(0.5))\n",
    "model.add(Dense(512,activation='relu'))\n",
    "model.add(Dropout(0.5))\n",
    "model.add(Dense(1,activation='sigmoid'))\n",
    "\n",
    "model.compile(optimizer = Adam(learning_rate=0.0001), loss = 'binary_crossentropy', metrics = ['accuracy'])\n",
    "model.layers[0].trainable = False\n",
    "\n",
    "model.summary()"
   ]
  },
  {
   "cell_type": "code",
   "execution_count": 47,
   "metadata": {},
   "outputs": [
    {
     "data": {
      "text/plain": [
       "'/device:GPU:0'"
      ]
     },
     "execution_count": 47,
     "metadata": {},
     "output_type": "execute_result"
    }
   ],
   "source": [
    "tf.test.gpu_device_name()"
   ]
  },
  {
   "cell_type": "code",
   "execution_count": 48,
   "metadata": {},
   "outputs": [],
   "source": [
    "early_stop = EarlyStopping(monitor='val_acc', patience=5, mode='max') \n",
    "callbacks_list = [early_stop]"
   ]
  },
  {
   "cell_type": "code",
   "execution_count": 49,
   "metadata": {},
   "outputs": [
    {
     "name": "stdout",
     "output_type": "stream",
     "text": [
      "Epoch 1/13\n",
      "WARNING:tensorflow:AutoGraph could not transform <function Model.make_train_function.<locals>.train_function at 0x0000020E6ED56730> and will run it as-is.\n",
      "Please report this to the TensorFlow team. When filing the bug, set the verbosity to 10 (on Linux, `export AUTOGRAPH_VERBOSITY=10`) and attach the full output.\n",
      "Cause: Bad argument number for Name: 4, expecting 3\n",
      "To silence this warning, decorate the function with @tf.autograph.experimental.do_not_convert\n",
      "WARNING: AutoGraph could not transform <function Model.make_train_function.<locals>.train_function at 0x0000020E6ED56730> and will run it as-is.\n",
      "Please report this to the TensorFlow team. When filing the bug, set the verbosity to 10 (on Linux, `export AUTOGRAPH_VERBOSITY=10`) and attach the full output.\n",
      "Cause: Bad argument number for Name: 4, expecting 3\n",
      "To silence this warning, decorate the function with @tf.autograph.experimental.do_not_convert\n",
      "168/168 [==============================] - ETA: 0s - loss: 0.3880 - accuracy: 0.8360WARNING:tensorflow:AutoGraph could not transform <function Model.make_test_function.<locals>.test_function at 0x0000020E97BE1B70> and will run it as-is.\n",
      "Please report this to the TensorFlow team. When filing the bug, set the verbosity to 10 (on Linux, `export AUTOGRAPH_VERBOSITY=10`) and attach the full output.\n",
      "Cause: Bad argument number for Name: 4, expecting 3\n",
      "To silence this warning, decorate the function with @tf.autograph.experimental.do_not_convert\n",
      "WARNING: AutoGraph could not transform <function Model.make_test_function.<locals>.test_function at 0x0000020E97BE1B70> and will run it as-is.\n",
      "Please report this to the TensorFlow team. When filing the bug, set the verbosity to 10 (on Linux, `export AUTOGRAPH_VERBOSITY=10`) and attach the full output.\n",
      "Cause: Bad argument number for Name: 4, expecting 3\n",
      "To silence this warning, decorate the function with @tf.autograph.experimental.do_not_convert\n",
      "WARNING:tensorflow:Early stopping conditioned on metric `val_acc` which is not available. Available metrics are: loss,accuracy,val_loss,val_accuracy\n",
      "168/168 [==============================] - 79s 470ms/step - loss: 0.3880 - accuracy: 0.8360 - val_loss: 69.1827 - val_accuracy: 0.6510\n",
      "Epoch 2/13\n",
      "168/168 [==============================] - ETA: 0s - loss: 0.1913 - accuracy: 0.9272WARNING:tensorflow:Early stopping conditioned on metric `val_acc` which is not available. Available metrics are: loss,accuracy,val_loss,val_accuracy\n",
      "168/168 [==============================] - 63s 372ms/step - loss: 0.1913 - accuracy: 0.9272 - val_loss: 49.0069 - val_accuracy: 0.6406\n",
      "Epoch 3/13\n",
      "168/168 [==============================] - ETA: 0s - loss: 0.1607 - accuracy: 0.9399WARNING:tensorflow:Early stopping conditioned on metric `val_acc` which is not available. Available metrics are: loss,accuracy,val_loss,val_accuracy\n",
      "168/168 [==============================] - 62s 371ms/step - loss: 0.1607 - accuracy: 0.9399 - val_loss: 12.1674 - val_accuracy: 0.6510\n",
      "Epoch 4/13\n",
      "168/168 [==============================] - ETA: 0s - loss: 0.1305 - accuracy: 0.9517WARNING:tensorflow:Early stopping conditioned on metric `val_acc` which is not available. Available metrics are: loss,accuracy,val_loss,val_accuracy\n",
      "168/168 [==============================] - 63s 373ms/step - loss: 0.1305 - accuracy: 0.9517 - val_loss: 2.7062 - val_accuracy: 0.6719\n",
      "Epoch 5/13\n",
      "168/168 [==============================] - ETA: 0s - loss: 0.1228 - accuracy: 0.9558WARNING:tensorflow:Early stopping conditioned on metric `val_acc` which is not available. Available metrics are: loss,accuracy,val_loss,val_accuracy\n",
      "168/168 [==============================] - 63s 372ms/step - loss: 0.1228 - accuracy: 0.9558 - val_loss: 3.9992 - val_accuracy: 0.6458\n",
      "Epoch 6/13\n",
      "168/168 [==============================] - ETA: 0s - loss: 0.1083 - accuracy: 0.9604WARNING:tensorflow:Early stopping conditioned on metric `val_acc` which is not available. Available metrics are: loss,accuracy,val_loss,val_accuracy\n",
      "168/168 [==============================] - 63s 374ms/step - loss: 0.1083 - accuracy: 0.9604 - val_loss: 2.4928 - val_accuracy: 0.6406\n",
      "Epoch 7/13\n",
      "168/168 [==============================] - ETA: 0s - loss: 0.1032 - accuracy: 0.9638WARNING:tensorflow:Early stopping conditioned on metric `val_acc` which is not available. Available metrics are: loss,accuracy,val_loss,val_accuracy\n",
      "168/168 [==============================] - 63s 372ms/step - loss: 0.1032 - accuracy: 0.9638 - val_loss: 0.6926 - val_accuracy: 0.7917\n",
      "Epoch 8/13\n",
      "168/168 [==============================] - ETA: 0s - loss: 0.1051 - accuracy: 0.9634WARNING:tensorflow:Early stopping conditioned on metric `val_acc` which is not available. Available metrics are: loss,accuracy,val_loss,val_accuracy\n",
      "168/168 [==============================] - 63s 373ms/step - loss: 0.1051 - accuracy: 0.9634 - val_loss: 0.3061 - val_accuracy: 0.8854\n",
      "Epoch 9/13\n",
      "168/168 [==============================] - ETA: 0s - loss: 0.0917 - accuracy: 0.9675WARNING:tensorflow:Early stopping conditioned on metric `val_acc` which is not available. Available metrics are: loss,accuracy,val_loss,val_accuracy\n",
      "168/168 [==============================] - 63s 374ms/step - loss: 0.0917 - accuracy: 0.9675 - val_loss: 0.1803 - val_accuracy: 0.9219\n",
      "Epoch 10/13\n",
      "168/168 [==============================] - ETA: 0s - loss: 0.0751 - accuracy: 0.9698WARNING:tensorflow:Early stopping conditioned on metric `val_acc` which is not available. Available metrics are: loss,accuracy,val_loss,val_accuracy\n",
      "168/168 [==============================] - 63s 372ms/step - loss: 0.0751 - accuracy: 0.9698 - val_loss: 0.1714 - val_accuracy: 0.9219\n",
      "Epoch 11/13\n",
      "168/168 [==============================] - ETA: 0s - loss: 0.0756 - accuracy: 0.9731WARNING:tensorflow:Early stopping conditioned on metric `val_acc` which is not available. Available metrics are: loss,accuracy,val_loss,val_accuracy\n",
      "168/168 [==============================] - 63s 373ms/step - loss: 0.0756 - accuracy: 0.9731 - val_loss: 0.1703 - val_accuracy: 0.9375\n",
      "Epoch 12/13\n",
      "168/168 [==============================] - ETA: 0s - loss: 0.0741 - accuracy: 0.9733WARNING:tensorflow:Early stopping conditioned on metric `val_acc` which is not available. Available metrics are: loss,accuracy,val_loss,val_accuracy\n",
      "168/168 [==============================] - 62s 372ms/step - loss: 0.0741 - accuracy: 0.9733 - val_loss: 0.5001 - val_accuracy: 0.8281\n",
      "Epoch 13/13\n",
      "168/168 [==============================] - ETA: 0s - loss: 0.0683 - accuracy: 0.9772WARNING:tensorflow:Early stopping conditioned on metric `val_acc` which is not available. Available metrics are: loss,accuracy,val_loss,val_accuracy\n",
      "168/168 [==============================] - 63s 372ms/step - loss: 0.0683 - accuracy: 0.9772 - val_loss: 0.1756 - val_accuracy: 0.9271\n"
     ]
    }
   ],
   "source": [
    "# history = model.fit(train_generator, validation_data=val_generator, callbacks=[early_stopping], epochs=20, verbose = True)\n",
    "with tf.device('/GPU:0'):\n",
    "    history = model.fit(train_generator, \n",
    "                        steps_per_epoch=train_generator.samples // BATCH_SIZE,\n",
    "                        validation_data=val_generator,\n",
    "                        validation_steps=val_generator.samples // BATCH_SIZE,\n",
    "                        epochs=13, callbacks=callbacks_list,\n",
    "                        verbose = True)"
   ]
  },
  {
   "cell_type": "code",
   "execution_count": 50,
   "metadata": {},
   "outputs": [
    {
     "data": {
      "image/png": "[encoded data removed]",
      "text/plain": [
       "<Figure size 432x288 with 1 Axes>"
      ]
     },
     "metadata": {
      "needs_background": "light"
     },
     "output_type": "display_data"
    },
    {
     "data": {
      "image/png": "[encoded data removed]",
      "text/plain": [
       "<Figure size 432x288 with 1 Axes>"
      ]
     },
     "metadata": {
      "needs_background": "light"
     },
     "output_type": "display_data"
    }
   ],
   "source": [
    "acc = history.history['accuracy']\n",
    "val_acc = history.history['val_accuracy']\n",
    "loss = history.history['loss']\n",
    "val_loss = history.history['val_loss']\n",
    "epochs = range(1, len(acc) + 1)\n",
    "plt.plot(epochs, acc, 'blue', label='Training acc')\n",
    "plt.plot(epochs, val_acc, 'red', label='Validation acc')\n",
    "plt.title('Training and validation accuracy')\n",
    "plt.legend()\n",
    "plt.figure()\n",
    "plt.plot(epochs, loss, 'blue', label='Training loss')\n",
    "plt.plot(epochs, val_loss, 'red', label='Validation loss')\n",
    "plt.title('Training and validation loss')\n",
    "plt.legend()\n",
    "plt.show()"
   ]
  },
  {
   "cell_type": "markdown",
   "metadata": {},
   "source": [
    "## 4 Model evaluation"
   ]
  },
  {
   "cell_type": "code",
   "execution_count": 51,
   "metadata": {},
   "outputs": [
    {
     "name": "stdout",
     "output_type": "stream",
     "text": [
      "\n",
      "# Evaluate on test data\n",
      "15/15 [==============================] - 5s 352ms/step - loss: 0.2079 - accuracy: 0.9278\n",
      "test loss, test acc: [0.2079380750656128, 0.9278131723403931]\n"
     ]
    }
   ],
   "source": [
    "# Evaluate the model on the test data using `evaluate`\n",
    "print('\\n# Evaluate on test data')\n",
    "results = model.evaluate(test_generator)\n",
    "print('test loss, test acc:', results)"
   ]
  },
  {
   "cell_type": "code",
   "execution_count": 52,
   "metadata": {},
   "outputs": [
    {
     "name": "stdout",
     "output_type": "stream",
     "text": [
      "WARNING:tensorflow:AutoGraph could not transform <function Model.make_predict_function.<locals>.predict_function at 0x0000020CA976FA60> and will run it as-is.\n",
      "Please report this to the TensorFlow team. When filing the bug, set the verbosity to 10 (on Linux, `export AUTOGRAPH_VERBOSITY=10`) and attach the full output.\n",
      "Cause: Bad argument number for Name: 4, expecting 3\n",
      "To silence this warning, decorate the function with @tf.autograph.experimental.do_not_convert\n",
      "WARNING: AutoGraph could not transform <function Model.make_predict_function.<locals>.predict_function at 0x0000020CA976FA60> and will run it as-is.\n",
      "Please report this to the TensorFlow team. When filing the bug, set the verbosity to 10 (on Linux, `export AUTOGRAPH_VERBOSITY=10`) and attach the full output.\n",
      "Cause: Bad argument number for Name: 4, expecting 3\n",
      "To silence this warning, decorate the function with @tf.autograph.experimental.do_not_convert\n"
     ]
    }
   ],
   "source": [
    "test_steps_per_epoch = np.math.ceil(test_generator.samples / test_generator.batch_size)\n",
    "predictions = model.predict(test_generator, steps=test_steps_per_epoch)\n",
    "# Get most likely class\n",
    "predicted_classes = np.round(predictions)"
   ]
  },
  {
   "cell_type": "code",
   "execution_count": 53,
   "metadata": {},
   "outputs": [],
   "source": [
    "true_classes = test_generator.classes\n",
    "class_labels = list(test_generator.class_indices.keys())   "
   ]
  },
  {
   "cell_type": "code",
   "execution_count": 54,
   "metadata": {},
   "outputs": [
    {
     "name": "stdout",
     "output_type": "stream",
     "text": [
      "              precision    recall  f1-score   support\n",
      "\n",
      "      NORMAL       0.97      0.82      0.89       168\n",
      "   PNEUMONIA       0.91      0.99      0.95       303\n",
      "\n",
      "    accuracy                           0.93       471\n",
      "   macro avg       0.94      0.90      0.92       471\n",
      "weighted avg       0.93      0.93      0.93       471\n",
      "\n"
     ]
    }
   ],
   "source": [
    "report = classification_report(true_classes, predicted_classes, target_names=class_labels)\n",
    "print(report)"
   ]
  },
  {
   "cell_type": "code",
   "execution_count": 55,
   "metadata": {},
   "outputs": [],
   "source": [
    "y_true = test_generator.classes\n",
    "y_pred = predictions > 0.5"
   ]
  },
  {
   "cell_type": "code",
   "execution_count": 56,
   "metadata": {},
   "outputs": [],
   "source": [
    "# https://www.kaggle.com/grfiv4/plot-a-confusion-matrix/data\n",
    "def plot_confusion_matrix(cm,\n",
    "                          target_names,\n",
    "                          title='Confusion matrix',\n",
    "                          cmap=None,\n",
    "                          normalize=True):\n",
    "    \"\"\"\n",
    "    given a sklearn confusion matrix (cm), make a nice plot\n",
    "\n",
    "    Arguments\n",
    "    ---------\n",
    "    cm:           confusion matrix from sklearn.metrics.confusion_matrix\n",
    "\n",
    "    target_names: given classification classes such as [0, 1, 2]\n",
    "                  the class names, for example: ['high', 'medium', 'low']\n",
    "\n",
    "    title:        the text to display at the top of the matrix\n",
    "\n",
    "    cmap:         the gradient of the values displayed from matplotlib.pyplot.cm\n",
    "                  see http://matplotlib.org/examples/color/colormaps_reference.html\n",
    "                  plt.get_cmap('jet') or plt.cm.Blues\n",
    "\n",
    "    normalize:    If False, plot the raw numbers\n",
    "                  If True, plot the proportions\n",
    "\n",
    "    Usage\n",
    "    -----\n",
    "    plot_confusion_matrix(cm           = cm,                  # confusion matrix created by\n",
    "                                                              # sklearn.metrics.confusion_matrix\n",
    "                          normalize    = True,                # show proportions\n",
    "                          target_names = y_labels_vals,       # list of names of the classes\n",
    "                          title        = best_estimator_name) # title of graph\n",
    "\n",
    "    Citiation\n",
    "    ---------\n",
    "    http://scikit-learn.org/stable/auto_examples/model_selection/plot_confusion_matrix.html\n",
    "\n",
    "    \"\"\"\n",
    "    import matplotlib.pyplot as plt\n",
    "    import numpy as np\n",
    "    import itertools\n",
    "\n",
    "    accuracy = np.trace(cm) / float(np.sum(cm))\n",
    "    misclass = 1 - accuracy\n",
    "\n",
    "    if cmap is None:\n",
    "        cmap = plt.get_cmap('Blues')\n",
    "\n",
    "    plt.figure(figsize=(8, 6))\n",
    "    plt.imshow(cm, interpolation='nearest', cmap=cmap)\n",
    "    plt.title(title)\n",
    "    plt.colorbar()\n",
    "\n",
    "    if target_names is not None:\n",
    "        tick_marks = np.arange(len(target_names))\n",
    "        plt.xticks(tick_marks, target_names, rotation=45)\n",
    "        plt.yticks(tick_marks, target_names)\n",
    "\n",
    "    if normalize:\n",
    "        cm = cm.astype('float') / cm.sum(axis=1)[:, np.newaxis]\n",
    "\n",
    "\n",
    "    thresh = cm.max() / 1.5 if normalize else cm.max() / 2\n",
    "    for i, j in itertools.product(range(cm.shape[0]), range(cm.shape[1])):\n",
    "        if normalize:\n",
    "            plt.text(j, i, \"{:0.4f}\".format(cm[i, j]),\n",
    "                     horizontalalignment=\"center\",\n",
    "                     color=\"white\" if cm[i, j] > thresh else \"black\")\n",
    "        else:\n",
    "            plt.text(j, i, \"{:,}\".format(cm[i, j]),\n",
    "                     horizontalalignment=\"center\",\n",
    "                     color=\"white\" if cm[i, j] > thresh else \"black\")\n",
    "\n",
    "\n",
    "    plt.tight_layout()\n",
    "    plt.ylabel('True label')\n",
    "    plt.xlabel('Predicted label\\naccuracy={:0.4f}; misclass={:0.4f}'.format(accuracy, misclass))\n",
    "    plt.show()"
   ]
  },
  {
   "cell_type": "code",
   "execution_count": 57,
   "metadata": {},
   "outputs": [],
   "source": [
    "y_pred = np.round(predictions)\n",
    "cm = confusion_matrix(test_generator.classes, y_pred)"
   ]
  },
  {
   "cell_type": "code",
   "execution_count": 58,
   "metadata": {},
   "outputs": [
    {
     "data": {
      "image/png": "[encoded data removed]",
      "text/plain": [
       "<Figure size 576x432 with 2 Axes>"
      ]
     },
     "metadata": {
      "needs_background": "light"
     },
     "output_type": "display_data"
    }
   ],
   "source": [
    "plot_confusion_matrix(cm, ['Normal', 'Pneumonia'], normalize=False)"
   ]
  },
  {
   "cell_type": "code",
   "execution_count": null,
   "metadata": {},
   "outputs": [],
   "source": []
  }
 ],
 "metadata": {
  "kernelspec": {
   "display_name": "Python 3",
   "language": "python",
   "name": "python3"
  },
  "language_info": {
   "codemirror_mode": {
    "name": "ipython",
    "version": 3
   },
   "file_extension": ".py",
   "mimetype": "text/x-python",
   "name": "python",
   "nbconvert_exporter": "python",
   "pygments_lexer": "ipython3",
   "version": "3.6.10"
  }
 },
 "nbformat": 4,
 "nbformat_minor": 4
}