{
 "cells": [
  {
   "cell_type": "markdown",
   "metadata": {},
   "source": [
    "# CNN\n",
    "\n",
    "Based on the model of: https://ieeexplore.ieee.org/abstract/document/9057809"
   ]
  },
  {
   "cell_type": "code",
   "execution_count": 1,
   "metadata": {},
   "outputs": [],
   "source": [
    "import pandas as pd\n",
    "import tensorflow as tf\n",
    "import matplotlib\n",
    "import matplotlib.pyplot as plt\n",
    "import numpy as np\n",
    "import os\n",
    "import seaborn as sns\n",
    "from pathlib import Path\n",
    "from tensorflow.keras.preprocessing.image import ImageDataGenerator\n",
    "from tensorflow.keras import activations\n",
    "from tensorflow.keras.optimizers import Adam\n",
    "from tensorflow.keras.models import Sequential\n",
    "from tensorflow.keras.callbacks import EarlyStopping\n",
    "from tensorflow.keras.layers import Flatten, Dense, Dropout, BatchNormalization, AveragePooling2D, Conv2D, MaxPool2D, Activation\n",
    "from sklearn.metrics import classification_report, confusion_matrix\n",
    "from sklearn.metrics import plot_confusion_matrix"
   ]
  },
  {
   "cell_type": "code",
   "execution_count": null,
   "metadata": {},
   "outputs": [],
   "source": [
    "# Config\n",
    "IMG_SIZE = 256\n",
    "BATCH_SIZE=32\n",
    "train_path = 'data/train/'\n",
    "test_path = 'data/test/'\n",
    "val_path = 'data/val/'\n",
    "covid19_path = 'data/covid19/'"
   ]
  },
  {
   "cell_type": "markdown",
   "metadata": {},
   "source": [
    "## 1 Data preparation"
   ]
  },
  {
   "cell_type": "code",
   "execution_count": null,
   "metadata": {},
   "outputs": [],
   "source": [
    "def load_images_from_folder(folder):\n",
    "    tmp_df = pd.DataFrame(columns = ['path', 'label', 'label2'])\n",
    "    \n",
    "    for label_folder in os.listdir(folder):\n",
    "        print(label_folder)\n",
    "        for filename in os.listdir(folder + '/' + label_folder):\n",
    "            img_path = str(folder)+str(label_folder)+'/'+str(filename)\n",
    "            if img_path is not None:\n",
    "                tmp_df = tmp_df.append({'path': img_path, 'label': label_folder}, ignore_index=True)\n",
    "    return tmp_df"
   ]
  },
  {
   "cell_type": "code",
   "execution_count": null,
   "metadata": {},
   "outputs": [],
   "source": [
    "def load_covid19images_from_folder(folder):\n",
    "    tmp_df = pd.DataFrame(columns = ['path', 'label', 'label2'])\n",
    "    for filename in os.listdir(folder):\n",
    "        img_path = str(folder)+str(filename)\n",
    "        if img_path is not None:\n",
    "            tmp_df = tmp_df.append({'path': img_path, 'label': 'PNEUMONIA', 'label2': 'COVID-19'}, ignore_index=True)\n",
    "    return tmp_df"
   ]
  },
  {
   "cell_type": "code",
   "execution_count": null,
   "metadata": {},
   "outputs": [],
   "source": [
    "df_train = load_images_from_folder(train_path)\n",
    "df_val = load_images_from_folder(val_path)\n",
    "df_test = load_images_from_folder(test_path)"
   ]
  },
  {
   "cell_type": "code",
   "execution_count": null,
   "metadata": {},
   "outputs": [],
   "source": [
    "df_train"
   ]
  },
  {
   "cell_type": "code",
   "execution_count": null,
   "metadata": {},
   "outputs": [],
   "source": [
    "len(df_train)"
   ]
  },
  {
   "cell_type": "code",
   "execution_count": null,
   "metadata": {},
   "outputs": [],
   "source": [
    "# https://www.kaggle.com/tawsifurrahman/covid19-radiography-database?\n",
    "df_covid19 = load_covid19images_from_folder(covid19_path)"
   ]
  },
  {
   "cell_type": "code",
   "execution_count": null,
   "metadata": {},
   "outputs": [],
   "source": [
    "train_covid19 = df_covid19.sample(frac = 0.8,random_state=200)\n",
    "test_covid19 = df_covid19.drop(train_covid19.index).sample(frac = 0.5,random_state=200)\n",
    "val_covid19 = df_covid19.drop(train_covid19.index).drop(test_covid19.index)"
   ]
  },
  {
   "cell_type": "code",
   "execution_count": null,
   "metadata": {},
   "outputs": [],
   "source": [
    "print('=== COVID-19 Split: ===')\n",
    "print('Train:', len(train_covid19))\n",
    "print('Val:', len(val_covid19))\n",
    "print('Test:', len(test_covid19))"
   ]
  },
  {
   "cell_type": "code",
   "execution_count": null,
   "metadata": {},
   "outputs": [],
   "source": [
    "# Train\n",
    "df_train = df_train.append(train_covid19, ignore_index=True)\n",
    "df_train = df_train.sample(frac=1).reset_index(drop=True) # shuffle covid19 under the rest\n",
    "\n",
    "# Val\n",
    "df_val = df_val.append(val_covid19, ignore_index=True)\n",
    "df_val = df_val.sample(frac=1).reset_index(drop=True) # shuffle covid19 under the rest\n",
    "\n",
    "# Test\n",
    "df_test = df_test.append(test_covid19, ignore_index=True)\n",
    "df_test = df_test.sample(frac=1).reset_index(drop=True) # shuffle covid19 under the rest"
   ]
  },
  {
   "cell_type": "code",
   "execution_count": null,
   "metadata": {},
   "outputs": [],
   "source": [
    "# Append some more test data to val, since there are such few.. \n",
    "df_add_val = df_test[:175] # 175 see baseline paper\n",
    "df_test = df_test[:-175]"
   ]
  },
  {
   "cell_type": "code",
   "execution_count": null,
   "metadata": {},
   "outputs": [],
   "source": [
    "df_val = df_val.append(df_add_val, ignore_index=True)"
   ]
  },
  {
   "cell_type": "code",
   "execution_count": null,
   "metadata": {},
   "outputs": [],
   "source": [
    "print('=== Data: ===')\n",
    "print('Train:', len(df_train))\n",
    "print('Val:', len(df_val))\n",
    "print('Test:', len(df_test))"
   ]
  },
  {
   "cell_type": "code",
   "execution_count": null,
   "metadata": {},
   "outputs": [],
   "source": []
  },
  {
   "cell_type": "markdown",
   "metadata": {},
   "source": [
    "## 2. Data Generator"
   ]
  },
  {
   "cell_type": "code",
   "execution_count": 429,
   "metadata": {},
   "outputs": [
    {
     "name": "stdout",
     "output_type": "stream",
     "text": [
      "Found 5391 validated image filenames belonging to 2 classes.\n",
      "Found 213 validated image filenames belonging to 2 classes.\n",
      "Found 471 validated image filenames belonging to 2 classes.\n"
     ]
    }
   ],
   "source": [
    "# Training\n",
    "train_datagen = ImageDataGenerator(\n",
    "        rescale=1./255,\n",
    "        rotation_range = 20,\n",
    "        width_shift_range = 0.2,\n",
    "        height_shift_range = 0.2,\n",
    "        shear_range=0.2,\n",
    "        horizontal_flip = True,\n",
    "        fill_mode=\"nearest\",\n",
    "        zoom_range=0.2)\n",
    "\n",
    "train_generator = train_datagen.flow_from_dataframe(\n",
    "        dataframe = df_train,\n",
    "        target_size = (IMG_SIZE, IMG_SIZE),\n",
    "        directory = None,\n",
    "        x_col='path',\n",
    "        y_col='label',\n",
    "        batch_size = BATCH_SIZE,\n",
    "        class_mode = \"binary\",\n",
    "        shuffle=True)\n",
    "\n",
    "# Validation\n",
    "val_datagen = ImageDataGenerator(rescale=1./255)\n",
    "val_generator = val_datagen.flow_from_dataframe(\n",
    "        dataframe = df_val,\n",
    "        target_size = (IMG_SIZE, IMG_SIZE),\n",
    "        directory = None,\n",
    "        x_col='path',\n",
    "        y_col='label',\n",
    "        class_mode = \"binary\",\n",
    "        shuffle=False)\n",
    "\n",
    "test_generator = val_datagen.flow_from_dataframe(\n",
    "        dataframe = df_test,\n",
    "        target_size = (IMG_SIZE, IMG_SIZE),\n",
    "        directory = None,\n",
    "        x_col='path',\n",
    "        y_col='label',\n",
    "        class_mode = \"binary\",\n",
    "        shuffle=False)"
   ]
  },
  {
   "cell_type": "markdown",
   "metadata": {},
   "source": [
    "## Model training"
   ]
  },
  {
   "cell_type": "code",
   "execution_count": 430,
   "metadata": {},
   "outputs": [],
   "source": [
    "# early_stopping = EarlyStopping(patience=5, verbose=1, monitor='val_accuracy', mode='max')"
   ]
  },
  {
   "cell_type": "code",
   "execution_count": 431,
   "metadata": {},
   "outputs": [
    {
     "name": "stdout",
     "output_type": "stream",
     "text": [
      "Model: \"sequential_8\"\n",
      "_________________________________________________________________\n",
      "Layer (type)                 Output Shape              Param #   \n",
      "=================================================================\n",
      "conv2d_34 (Conv2D)           (None, 256, 256, 32)      896       \n",
      "_________________________________________________________________\n",
      "activation_50 (Activation)   (None, 256, 256, 32)      0         \n",
      "_________________________________________________________________\n",
      "conv2d_35 (Conv2D)           (None, 256, 256, 32)      9248      \n",
      "_________________________________________________________________\n",
      "activation_51 (Activation)   (None, 256, 256, 32)      0         \n",
      "_________________________________________________________________\n",
      "max_pooling2d_17 (MaxPooling (None, 85, 85, 32)        0         \n",
      "_________________________________________________________________\n",
      "dropout_33 (Dropout)         (None, 85, 85, 32)        0         \n",
      "_________________________________________________________________\n",
      "conv2d_36 (Conv2D)           (None, 85, 85, 64)        18496     \n",
      "_________________________________________________________________\n",
      "activation_52 (Activation)   (None, 85, 85, 64)        0         \n",
      "_________________________________________________________________\n",
      "conv2d_37 (Conv2D)           (None, 85, 85, 128)       32896     \n",
      "_________________________________________________________________\n",
      "activation_53 (Activation)   (None, 85, 85, 128)       0         \n",
      "_________________________________________________________________\n",
      "max_pooling2d_18 (MaxPooling (None, 42, 42, 128)       0         \n",
      "_________________________________________________________________\n",
      "dropout_34 (Dropout)         (None, 42, 42, 128)       0         \n",
      "_________________________________________________________________\n",
      "flatten_8 (Flatten)          (None, 225792)            0         \n",
      "_________________________________________________________________\n",
      "dense_24 (Dense)             (None, 256)               57803008  \n",
      "_________________________________________________________________\n",
      "activation_54 (Activation)   (None, 256)               0         \n",
      "_________________________________________________________________\n",
      "dropout_35 (Dropout)         (None, 256)               0         \n",
      "_________________________________________________________________\n",
      "dense_25 (Dense)             (None, 512)               131584    \n",
      "_________________________________________________________________\n",
      "activation_55 (Activation)   (None, 512)               0         \n",
      "_________________________________________________________________\n",
      "dropout_36 (Dropout)         (None, 512)               0         \n",
      "_________________________________________________________________\n",
      "dense_26 (Dense)             (None, 1)                 513       \n",
      "=================================================================\n",
      "Total params: 57,996,641\n",
      "Trainable params: 57,996,641\n",
      "Non-trainable params: 0\n",
      "_________________________________________________________________\n"
     ]
    }
   ],
   "source": [
    "# Based on the model of: https://ieeexplore.ieee.org/abstract/document/9057809\n",
    "# Feature Extraction and Classification of Chest X-Ray Images Using CNN to Detect Pneumonia\n",
    "model = Sequential()\n",
    "model.add(Conv2D(32, (3,3), padding = \"same\", input_shape=(IMG_SIZE,IMG_SIZE,3)))\n",
    "model.add(Activation(activations.relu))\n",
    "model.add(Conv2D(32, (3,3), padding = \"same\"))\n",
    "model.add(Activation(activations.relu))\n",
    "model.add(MaxPool2D(pool_size = (3, 3)))\n",
    "model.add(Dropout(0.2))\n",
    "\n",
    "model.add(Conv2D(64, (3,3), padding = \"same\", input_shape=(IMG_SIZE,IMG_SIZE,3)))\n",
    "model.add(Activation(activations.relu))\n",
    "model.add(Conv2D(128, (2,2), padding = \"same\"))\n",
    "model.add(Activation(activations.relu))\n",
    "model.add(MaxPool2D(pool_size = (2, 2)))\n",
    "model.add(Dropout(0.2))\n",
    "\n",
    "model.add(Flatten())\n",
    "model.add(Dense(256))\n",
    "model.add(Activation(activations.relu))\n",
    "model.add(Dropout(0.5))\n",
    "model.add(Dense(512))\n",
    "model.add(Activation(activations.relu))\n",
    "model.add(Dropout(0.5))\n",
    "model.add(Dense(1, activation='sigmoid'))\n",
    "\n",
    "model.compile(optimizer = Adam(learning_rate=0.0001), loss = 'binary_crossentropy', metrics = ['accuracy'])\n",
    "model.summary()"
   ]
  },
  {
   "cell_type": "code",
   "execution_count": 432,
   "metadata": {
    "scrolled": true
   },
   "outputs": [
    {
     "name": "stdout",
     "output_type": "stream",
     "text": [
      "Epoch 1/20\n",
      "168/168 [==============================] - 273s 2s/step - loss: 0.5109 - accuracy: 0.7552 - val_loss: 0.5179 - val_accuracy: 0.7552\n",
      "Epoch 2/20\n",
      "168/168 [==============================] - 271s 2s/step - loss: 0.3335 - accuracy: 0.8408 - val_loss: 0.4972 - val_accuracy: 0.8125\n",
      "Epoch 3/20\n",
      "168/168 [==============================] - 270s 2s/step - loss: 0.3092 - accuracy: 0.8636 - val_loss: 0.5292 - val_accuracy: 0.7812\n",
      "Epoch 4/20\n",
      "168/168 [==============================] - 271s 2s/step - loss: 0.2919 - accuracy: 0.8729 - val_loss: 0.4372 - val_accuracy: 0.8229\n",
      "Epoch 5/20\n",
      "168/168 [==============================] - 270s 2s/step - loss: 0.2751 - accuracy: 0.8808 - val_loss: 0.4344 - val_accuracy: 0.8125\n",
      "Epoch 6/20\n",
      "168/168 [==============================] - 270s 2s/step - loss: 0.2685 - accuracy: 0.8893 - val_loss: 0.4215 - val_accuracy: 0.8125\n",
      "Epoch 7/20\n",
      "168/168 [==============================] - 270s 2s/step - loss: 0.2550 - accuracy: 0.8920 - val_loss: 0.4045 - val_accuracy: 0.8229\n",
      "Epoch 8/20\n",
      "168/168 [==============================] - 270s 2s/step - loss: 0.2539 - accuracy: 0.8935 - val_loss: 0.4063 - val_accuracy: 0.8333\n",
      "Epoch 9/20\n",
      "168/168 [==============================] - 269s 2s/step - loss: 0.2470 - accuracy: 0.8946 - val_loss: 0.3896 - val_accuracy: 0.8229\n",
      "Epoch 10/20\n",
      "168/168 [==============================] - 269s 2s/step - loss: 0.2383 - accuracy: 0.9002 - val_loss: 0.4076 - val_accuracy: 0.8281\n",
      "Epoch 11/20\n",
      "168/168 [==============================] - 269s 2s/step - loss: 0.2447 - accuracy: 0.8974 - val_loss: 0.4027 - val_accuracy: 0.8385\n",
      "Epoch 12/20\n",
      "168/168 [==============================] - 268s 2s/step - loss: 0.2255 - accuracy: 0.9063 - val_loss: 0.3859 - val_accuracy: 0.8333\n",
      "Epoch 13/20\n",
      "168/168 [==============================] - 269s 2s/step - loss: 0.2230 - accuracy: 0.9088 - val_loss: 0.3735 - val_accuracy: 0.8490\n",
      "Epoch 14/20\n",
      "168/168 [==============================] - 271s 2s/step - loss: 0.2156 - accuracy: 0.9080 - val_loss: 0.4070 - val_accuracy: 0.8177\n",
      "Epoch 15/20\n",
      "168/168 [==============================] - 274s 2s/step - loss: 0.2127 - accuracy: 0.9153 - val_loss: 0.3909 - val_accuracy: 0.8229\n",
      "Epoch 16/20\n",
      "168/168 [==============================] - 274s 2s/step - loss: 0.1997 - accuracy: 0.9242 - val_loss: 0.3707 - val_accuracy: 0.8281\n",
      "Epoch 17/20\n",
      "168/168 [==============================] - 271s 2s/step - loss: 0.2117 - accuracy: 0.9097 - val_loss: 0.3772 - val_accuracy: 0.8333\n",
      "Epoch 18/20\n",
      "168/168 [==============================] - 270s 2s/step - loss: 0.2009 - accuracy: 0.9214 - val_loss: 0.3941 - val_accuracy: 0.8385\n",
      "Epoch 19/20\n",
      "168/168 [==============================] - 270s 2s/step - loss: 0.1943 - accuracy: 0.9227 - val_loss: 0.3554 - val_accuracy: 0.8333\n",
      "Epoch 20/20\n",
      "168/168 [==============================] - 270s 2s/step - loss: 0.1810 - accuracy: 0.9282 - val_loss: 0.3720 - val_accuracy: 0.8333\n"
     ]
    }
   ],
   "source": [
    "# history = model.fit(train_generator, validation_data=val_generator, callbacks=[early_stopping], epochs=20, verbose = True)\n",
    "history = model.fit(train_generator, \n",
    "                    steps_per_epoch=train_generator.samples // BATCH_SIZE,\n",
    "                    validation_data=val_generator,\n",
    "                    validation_steps=val_generator.samples // BATCH_SIZE,\n",
    "                    epochs=20,\n",
    "                    verbose = True)"
   ]
  },
  {
   "cell_type": "code",
   "execution_count": 433,
   "metadata": {},
   "outputs": [
    {
     "data": {
      "image/png": "[encoded data removed]",
      "text/plain": [
       "<Figure size 432x288 with 1 Axes>"
      ]
     },
     "metadata": {
      "needs_background": "light"
     },
     "output_type": "display_data"
    },
    {
     "data": {
      "image/png": "[encoded data removed]",
      "text/plain": [
       "<Figure size 432x288 with 1 Axes>"
      ]
     },
     "metadata": {
      "needs_background": "light"
     },
     "output_type": "display_data"
    }
   ],
   "source": [
    "acc = history.history['accuracy']\n",
    "val_acc = history.history['val_accuracy']\n",
    "loss = history.history['loss']\n",
    "val_loss = history.history['val_loss']\n",
    "epochs = range(1, len(acc) + 1)\n",
    "plt.plot(epochs, acc, 'blue', label='Training acc')\n",
    "plt.plot(epochs, val_acc, 'red', label='Validation acc')\n",
    "plt.title('Training and validation accuracy')\n",
    "plt.legend()\n",
    "plt.figure()\n",
    "plt.plot(epochs, loss, 'blue', label='Training loss')\n",
    "plt.plot(epochs, val_loss, 'red', label='Validation loss')\n",
    "plt.title('Training and validation loss')\n",
    "plt.legend()\n",
    "plt.show()"
   ]
  },
  {
   "cell_type": "markdown",
   "metadata": {},
   "source": [
    "## Model evaluation"
   ]
  },
  {
   "cell_type": "code",
   "execution_count": 434,
   "metadata": {},
   "outputs": [
    {
     "name": "stdout",
     "output_type": "stream",
     "text": [
      "\n",
      "# Evaluate on test data\n",
      "15/15 [==============================] - 6s 407ms/step - loss: 0.3826 - accuracy: 0.8259\n",
      "test loss, test acc: [0.38257479667663574, 0.8259023427963257]\n"
     ]
    }
   ],
   "source": [
    "# Evaluate the model on the test data using `evaluate`\n",
    "print('\\n# Evaluate on test data')\n",
    "results = model.evaluate(test_generator)\n",
    "print('test loss, test acc:', results)"
   ]
  },
  {
   "cell_type": "code",
   "execution_count": 435,
   "metadata": {},
   "outputs": [],
   "source": [
    "test_steps_per_epoch = np.math.ceil(test_generator.samples / test_generator.batch_size)\n",
    "predictions = model.predict(test_generator, steps=test_steps_per_epoch)\n",
    "# Get most likely class\n",
    "predicted_classes = np.round(predictions)"
   ]
  },
  {
   "cell_type": "code",
   "execution_count": 436,
   "metadata": {},
   "outputs": [],
   "source": [
    "true_classes = test_generator.classes\n",
    "class_labels = list(test_generator.class_indices.keys())   "
   ]
  },
  {
   "cell_type": "code",
   "execution_count": 437,
   "metadata": {},
   "outputs": [
    {
     "name": "stdout",
     "output_type": "stream",
     "text": [
      "              precision    recall  f1-score   support\n",
      "\n",
      "      NORMAL       0.71      0.85      0.77       164\n",
      "   PNEUMONIA       0.91      0.81      0.86       307\n",
      "\n",
      "    accuracy                           0.83       471\n",
      "   macro avg       0.81      0.83      0.82       471\n",
      "weighted avg       0.84      0.83      0.83       471\n",
      "\n"
     ]
    }
   ],
   "source": [
    "report = classification_report(true_classes, predicted_classes, target_names=class_labels)\n",
    "print(report)"
   ]
  },
  {
   "cell_type": "code",
   "execution_count": 438,
   "metadata": {},
   "outputs": [],
   "source": [
    "y_true = test_generator.classes\n",
    "y_pred = predictions > 0.5"
   ]
  },
  {
   "cell_type": "code",
   "execution_count": 439,
   "metadata": {},
   "outputs": [],
   "source": [
    "# https://www.kaggle.com/grfiv4/plot-a-confusion-matrix/data\n",
    "def plot_confusion_matrix(cm,\n",
    "                          target_names,\n",
    "                          title='Confusion matrix',\n",
    "                          cmap=None,\n",
    "                          normalize=True):\n",
    "    \"\"\"\n",
    "    given a sklearn confusion matrix (cm), make a nice plot\n",
    "\n",
    "    Arguments\n",
    "    ---------\n",
    "    cm:           confusion matrix from sklearn.metrics.confusion_matrix\n",
    "\n",
    "    target_names: given classification classes such as [0, 1, 2]\n",
    "                  the class names, for example: ['high', 'medium', 'low']\n",
    "\n",
    "    title:        the text to display at the top of the matrix\n",
    "\n",
    "    cmap:         the gradient of the values displayed from matplotlib.pyplot.cm\n",
    "                  see http://matplotlib.org/examples/color/colormaps_reference.html\n",
    "                  plt.get_cmap('jet') or plt.cm.Blues\n",
    "\n",
    "    normalize:    If False, plot the raw numbers\n",
    "                  If True, plot the proportions\n",
    "\n",
    "    Usage\n",
    "    -----\n",
    "    plot_confusion_matrix(cm           = cm,                  # confusion matrix created by\n",
    "                                                              # sklearn.metrics.confusion_matrix\n",
    "                          normalize    = True,                # show proportions\n",
    "                          target_names = y_labels_vals,       # list of names of the classes\n",
    "                          title        = best_estimator_name) # title of graph\n",
    "\n",
    "    Citiation\n",
    "    ---------\n",
    "    http://scikit-learn.org/stable/auto_examples/model_selection/plot_confusion_matrix.html\n",
    "\n",
    "    \"\"\"\n",
    "    import matplotlib.pyplot as plt\n",
    "    import numpy as np\n",
    "    import itertools\n",
    "\n",
    "    accuracy = np.trace(cm) / float(np.sum(cm))\n",
    "    misclass = 1 - accuracy\n",
    "\n",
    "    if cmap is None:\n",
    "        cmap = plt.get_cmap('Blues')\n",
    "\n",
    "    plt.figure(figsize=(8, 6))\n",
    "    plt.imshow(cm, interpolation='nearest', cmap=cmap)\n",
    "    plt.title(title)\n",
    "    plt.colorbar()\n",
    "\n",
    "    if target_names is not None:\n",
    "        tick_marks = np.arange(len(target_names))\n",
    "        plt.xticks(tick_marks, target_names, rotation=45)\n",
    "        plt.yticks(tick_marks, target_names)\n",
    "\n",
    "    if normalize:\n",
    "        cm = cm.astype('float') / cm.sum(axis=1)[:, np.newaxis]\n",
    "\n",
    "\n",
    "    thresh = cm.max() / 1.5 if normalize else cm.max() / 2\n",
    "    for i, j in itertools.product(range(cm.shape[0]), range(cm.shape[1])):\n",
    "        if normalize:\n",
    "            plt.text(j, i, \"{:0.4f}\".format(cm[i, j]),\n",
    "                     horizontalalignment=\"center\",\n",
    "                     color=\"white\" if cm[i, j] > thresh else \"black\")\n",
    "        else:\n",
    "            plt.text(j, i, \"{:,}\".format(cm[i, j]),\n",
    "                     horizontalalignment=\"center\",\n",
    "                     color=\"white\" if cm[i, j] > thresh else \"black\")\n",
    "\n",
    "\n",
    "    plt.tight_layout()\n",
    "    plt.ylabel('True label')\n",
    "    plt.xlabel('Predicted label\\naccuracy={:0.4f}; misclass={:0.4f}'.format(accuracy, misclass))\n",
    "    plt.show()"
   ]
  },
  {
   "cell_type": "code",
   "execution_count": 440,
   "metadata": {},
   "outputs": [],
   "source": [
    "Y_pred = model.predict(test_generator, len(df_test) // 32)\n",
    "y_pred = np.round(Y_pred)\n",
    "cm = confusion_matrix(test_generator.classes, y_pred)"
   ]
  },
  {
   "cell_type": "code",
   "execution_count": 441,
   "metadata": {},
   "outputs": [
    {
     "data": {
      "image/png": "[encoded data removed]",
      "text/plain": [
       "<Figure size 576x432 with 2 Axes>"
      ]
     },
     "metadata": {
      "needs_background": "light"
     },
     "output_type": "display_data"
    }
   ],
   "source": [
    "plot_confusion_matrix(cm, ['Normal', 'Pneumonia'], normalize=False)"
   ]
  },
  {
   "cell_type": "code",
   "execution_count": 442,
   "metadata": {},
   "outputs": [
    {
     "data": {
      "text/plain": [
       "dict_keys(['NORMAL', 'PNEUMONIA'])"
      ]
     },
     "execution_count": 442,
     "metadata": {},
     "output_type": "execute_result"
    }
   ],
   "source": [
    "test_generator.class_indices.keys()"
   ]
  },
  {
   "cell_type": "code",
   "execution_count": 443,
   "metadata": {},
   "outputs": [
    {
     "data": {
      "text/plain": [
       "{'NORMAL': 0, 'PNEUMONIA': 1}"
      ]
     },
     "execution_count": 443,
     "metadata": {},
     "output_type": "execute_result"
    }
   ],
   "source": [
    "test_generator.class_indices"
   ]
  },
  {
   "cell_type": "code",
   "execution_count": null,
   "metadata": {},
   "outputs": [],
   "source": []
  }
 ],
 "metadata": {
  "kernelspec": {
   "display_name": "Python 3.6.10 64-bit ('chestxray': conda)",
   "language": "python",
   "name": "python361064bitchestxraycondaf9f8ebfa20a54064957cf3b6761f50a9"
  },
  "language_info": {
   "codemirror_mode": {
    "name": "ipython",
    "version": 3
   },
   "file_extension": ".py",
   "mimetype": "text/x-python",
   "name": "python",
   "nbconvert_exporter": "python",
   "pygments_lexer": "ipython3",
   "version": "3.6.10"
  }
 },
 "nbformat": 4,
 "nbformat_minor": 4
}
