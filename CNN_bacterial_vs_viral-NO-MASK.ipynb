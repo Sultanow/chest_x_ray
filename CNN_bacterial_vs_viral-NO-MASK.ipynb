{
 "cells": [
  {
   "cell_type": "markdown",
   "metadata": {},
   "source": [
    "# Stage 2: Bacterial vs. Viral - NO MASK (CV)\n",
    "\n",
    "Grayscale - 1 Channel CXR"
   ]
  },
  {
   "cell_type": "code",
   "execution_count": 1,
   "metadata": {},
   "outputs": [],
   "source": [
    "import pandas as pd\n",
    "import math\n",
    "import tensorflow as tf\n",
    "import matplotlib\n",
    "import matplotlib.pyplot as plt\n",
    "import numpy as np\n",
    "import cv2\n",
    "import os\n",
    "from pathlib import Path\n",
    "from tensorflow.keras.preprocessing.image import ImageDataGenerator\n",
    "from tensorflow.keras import activations\n",
    "from tensorflow.keras.optimizers import Adam, RMSprop\n",
    "from tensorflow.keras.models import Sequential\n",
    "from tensorflow.keras.callbacks import EarlyStopping, Callback, ModelCheckpoint, ReduceLROnPlateau\n",
    "from tensorflow.keras.layers import Flatten, Dense, Dropout, BatchNormalization, AveragePooling2D, Conv2D, MaxPool2D, Activation, GlobalAveragePooling2D, Lambda\n",
    "from sklearn.metrics import classification_report, confusion_matrix\n",
    "from sklearn.metrics import plot_confusion_matrix"
   ]
  },
  {
   "cell_type": "code",
   "execution_count": 2,
   "metadata": {},
   "outputs": [],
   "source": [
    "# Config\n",
    "IMG_SIZE = 256\n",
    "BATCH_SIZE=32\n",
    "CHANNELS=1\n",
    "USE_MASKS=False\n",
    "MODELSAVE = \"models/cnn_gray_stage2_130120\"\n",
    "\n",
    "if(USE_MASKS):\n",
    "    MODELSAVE += \"_w_masks.h5\"\n",
    "else:\n",
    "    MODELSAVE += \"_wo_masks.h5\"\n",
    "\n",
    "\n",
    "# train_path = '/home/daniel/.kaggle/mooney/chest_xray/train/'\n",
    "# test_path = '/home/8cb7/.kaggle/mooney/chest_xray/test/'\n",
    "# val_path = '/home/8cb7/.kaggle/mooney/chest_xray/val/'\n",
    "\n",
    "train_path = '/home/daniel/dev/python/chest_x_ray/data/mooney/train/'\n",
    "test_path = '/home/daniel/dev/python/chest_x_ray/data/mooney/test/'\n",
    "val_path = '/home/daniel/dev/python/chest_x_ray/data/mooney/val/'\n",
    "\n",
    "train_mask_path = '/home/daniel/dev/python/chest_x_ray/data/mooney/masks/train/'\n",
    "val_mask_path = '/home/daniel/dev/python/chest_x_ray/data/mooney/masks/test/'\n",
    "test_mask_path = '/home/daniel/dev/python/chest_x_ray/data/mooney/masks/val/'\n",
    "\n",
    "# train_mask_path = '/home/8cb7/.kaggle/mooney/chest_xray/masks/train/'\n",
    "# val_mask_path = '/home/8cb7/.kaggle/mooney/chest_xray/masks/val/'\n",
    "# test_mask_path = '/home/8cb7/.kaggle/mooney/chest_xray/masks/test/'\n",
    "\n",
    "# covid19\n",
    "covid_path = '/home/daniel/dev/python/chest_x_ray/data/covid-chestxray-dataset-0.41/output'\n",
    "covid_mask_path = '/home/daniel/dev/python/chest_x_ray/data/covid-chestxray-dataset-0.41//masks/'"
   ]
  },
  {
   "cell_type": "code",
   "execution_count": 3,
   "metadata": {},
   "outputs": [
    {
     "output_type": "execute_result",
     "data": {
      "text/plain": [
       "False"
      ]
     },
     "metadata": {},
     "execution_count": 3
    }
   ],
   "source": [
    "USE_MASKS"
   ]
  },
  {
   "cell_type": "code",
   "execution_count": 4,
   "metadata": {},
   "outputs": [],
   "source": [
    "# np.random.seed(200)\n",
    "# tf.random.set_seed(200)"
   ]
  },
  {
   "cell_type": "markdown",
   "metadata": {},
   "source": [
    "## 1 Data preparation"
   ]
  },
  {
   "cell_type": "code",
   "execution_count": 5,
   "metadata": {},
   "outputs": [],
   "source": [
    "def load_images_from_folder(img_folder, masks_folder):\n",
    "    tmp_df = pd.DataFrame(columns = ['img', 'label', 'mask']) \n",
    "    # IMGs\n",
    "    for label_folder in os.listdir(img_folder):\n",
    "        for filename in os.listdir(img_folder + '/' + label_folder):\n",
    "            img_path = str(img_folder)+str(label_folder)+'/'+str(filename)\n",
    "            # normal file ending is jpEg...\n",
    "            filename_wo_ending = filename.split('.jpeg')[0]\n",
    "\n",
    "            mask_path = None\n",
    "            if masks_folder is not None:\n",
    "                mask_path = str(masks_folder)+str(label_folder)+'/'+str(filename_wo_ending) + '_predmask.jpg'\n",
    "\n",
    "            label2 = '-'\n",
    "            if img_path is not None:\n",
    "                if label_folder != 'NORMAL':\n",
    "                    label2 = filename_wo_ending.split(\"_\")[1].split(\"_\")[0]\n",
    "\n",
    "                tmp_df = tmp_df.append({'img': img_path, 'mask': mask_path, 'label': label_folder, 'label2': label2, 'label3': '-'}, ignore_index=True)\n",
    "\n",
    "    return tmp_df"
   ]
  },
  {
   "cell_type": "code",
   "execution_count": 6,
   "metadata": {},
   "outputs": [],
   "source": [
    "def load_covid_images_from_folder(img_folder, masks_folder):\n",
    "    tmp_df = pd.DataFrame(columns = ['img', 'label', 'mask']) \n",
    "    for filename in os.listdir(img_folder):\n",
    "        img_path = str(img_folder)+'/'+str(filename)\n",
    "        label = 'PNEUMONIA' # virus => covid19\n",
    "        # normal file ending is jpEg...\n",
    "        filename_wo_ending = filename.rsplit('.')[0]\n",
    "        mask_path = str(masks_folder)+'/'+str(filename_wo_ending) + '_predmask.jpg'\n",
    "        if img_path is not None:\n",
    "            tmp_df = tmp_df.append({'img': img_path,  'mask': mask_path, 'label': label, 'label2': 'virus', 'label3': 'covid19'}, ignore_index=True)\n",
    "\n",
    "    return tmp_df"
   ]
  },
  {
   "cell_type": "code",
   "execution_count": 7,
   "metadata": {
    "tags": []
   },
   "outputs": [],
   "source": [
    "df_train = load_images_from_folder(train_path, None)\n",
    "df_val = load_images_from_folder(val_path, None)\n",
    "df_test = load_images_from_folder(test_path, None)\n",
    "df_covid = load_covid_images_from_folder(covid_path, None)"
   ]
  },
  {
   "cell_type": "code",
   "execution_count": 8,
   "metadata": {},
   "outputs": [
    {
     "output_type": "execute_result",
     "data": {
      "text/plain": [
       "(5216, 5)"
      ]
     },
     "metadata": {},
     "execution_count": 8
    }
   ],
   "source": [
    "df_train.shape"
   ]
  },
  {
   "cell_type": "code",
   "execution_count": 9,
   "metadata": {},
   "outputs": [],
   "source": [
    "df_train = df_train.append(df_val, ignore_index=True) # append val to train since we are using k-fold cv"
   ]
  },
  {
   "cell_type": "code",
   "execution_count": 10,
   "metadata": {},
   "outputs": [
    {
     "output_type": "execute_result",
     "data": {
      "text/plain": [
       "                                                    img      label  mask  \\\n",
       "0     /home/daniel/dev/python/chest_x_ray/data/moone...  PNEUMONIA  None   \n",
       "1     /home/daniel/dev/python/chest_x_ray/data/moone...  PNEUMONIA  None   \n",
       "2     /home/daniel/dev/python/chest_x_ray/data/moone...  PNEUMONIA  None   \n",
       "3     /home/daniel/dev/python/chest_x_ray/data/moone...  PNEUMONIA  None   \n",
       "4     /home/daniel/dev/python/chest_x_ray/data/moone...  PNEUMONIA  None   \n",
       "...                                                 ...        ...   ...   \n",
       "5227  /home/daniel/dev/python/chest_x_ray/data/moone...     NORMAL  None   \n",
       "5228  /home/daniel/dev/python/chest_x_ray/data/moone...     NORMAL  None   \n",
       "5229  /home/daniel/dev/python/chest_x_ray/data/moone...     NORMAL  None   \n",
       "5230  /home/daniel/dev/python/chest_x_ray/data/moone...     NORMAL  None   \n",
       "5231  /home/daniel/dev/python/chest_x_ray/data/moone...     NORMAL  None   \n",
       "\n",
       "        label2 label3  \n",
       "0     bacteria      -  \n",
       "1        virus      -  \n",
       "2        virus      -  \n",
       "3     bacteria      -  \n",
       "4     bacteria      -  \n",
       "...        ...    ...  \n",
       "5227         -      -  \n",
       "5228         -      -  \n",
       "5229         -      -  \n",
       "5230         -      -  \n",
       "5231         -      -  \n",
       "\n",
       "[5232 rows x 5 columns]"
      ],
      "text/html": "<div>\n<style scoped>\n    .dataframe tbody tr th:only-of-type {\n        vertical-align: middle;\n    }\n\n    .dataframe tbody tr th {\n        vertical-align: top;\n    }\n\n    .dataframe thead th {\n        text-align: right;\n    }\n</style>\n<table border=\"1\" class=\"dataframe\">\n  <thead>\n    <tr style=\"text-align: right;\">\n      <th></th>\n      <th>img</th>\n      <th>label</th>\n      <th>mask</th>\n      <th>label2</th>\n      <th>label3</th>\n    </tr>\n  </thead>\n  <tbody>\n    <tr>\n      <th>0</th>\n      <td>/home/daniel/dev/python/chest_x_ray/data/moone...</td>\n      <td>PNEUMONIA</td>\n      <td>None</td>\n      <td>bacteria</td>\n      <td>-</td>\n    </tr>\n    <tr>\n      <th>1</th>\n      <td>/home/daniel/dev/python/chest_x_ray/data/moone...</td>\n      <td>PNEUMONIA</td>\n      <td>None</td>\n      <td>virus</td>\n      <td>-</td>\n    </tr>\n    <tr>\n      <th>2</th>\n      <td>/home/daniel/dev/python/chest_x_ray/data/moone...</td>\n      <td>PNEUMONIA</td>\n      <td>None</td>\n      <td>virus</td>\n      <td>-</td>\n    </tr>\n    <tr>\n      <th>3</th>\n      <td>/home/daniel/dev/python/chest_x_ray/data/moone...</td>\n      <td>PNEUMONIA</td>\n      <td>None</td>\n      <td>bacteria</td>\n      <td>-</td>\n    </tr>\n    <tr>\n      <th>4</th>\n      <td>/home/daniel/dev/python/chest_x_ray/data/moone...</td>\n      <td>PNEUMONIA</td>\n      <td>None</td>\n      <td>bacteria</td>\n      <td>-</td>\n    </tr>\n    <tr>\n      <th>...</th>\n      <td>...</td>\n      <td>...</td>\n      <td>...</td>\n      <td>...</td>\n      <td>...</td>\n    </tr>\n    <tr>\n      <th>5227</th>\n      <td>/home/daniel/dev/python/chest_x_ray/data/moone...</td>\n      <td>NORMAL</td>\n      <td>None</td>\n      <td>-</td>\n      <td>-</td>\n    </tr>\n    <tr>\n      <th>5228</th>\n      <td>/home/daniel/dev/python/chest_x_ray/data/moone...</td>\n      <td>NORMAL</td>\n      <td>None</td>\n      <td>-</td>\n      <td>-</td>\n    </tr>\n    <tr>\n      <th>5229</th>\n      <td>/home/daniel/dev/python/chest_x_ray/data/moone...</td>\n      <td>NORMAL</td>\n      <td>None</td>\n      <td>-</td>\n      <td>-</td>\n    </tr>\n    <tr>\n      <th>5230</th>\n      <td>/home/daniel/dev/python/chest_x_ray/data/moone...</td>\n      <td>NORMAL</td>\n      <td>None</td>\n      <td>-</td>\n      <td>-</td>\n    </tr>\n    <tr>\n      <th>5231</th>\n      <td>/home/daniel/dev/python/chest_x_ray/data/moone...</td>\n      <td>NORMAL</td>\n      <td>None</td>\n      <td>-</td>\n      <td>-</td>\n    </tr>\n  </tbody>\n</table>\n<p>5232 rows × 5 columns</p>\n</div>"
     },
     "metadata": {},
     "execution_count": 10
    }
   ],
   "source": [
    "df_train"
   ]
  },
  {
   "cell_type": "code",
   "execution_count": 11,
   "metadata": {},
   "outputs": [
    {
     "output_type": "execute_result",
     "data": {
      "text/plain": [
       "(5232, 5)"
      ]
     },
     "metadata": {},
     "execution_count": 11
    }
   ],
   "source": [
    "df_train.shape"
   ]
  },
  {
   "cell_type": "code",
   "execution_count": 12,
   "metadata": {},
   "outputs": [
    {
     "output_type": "execute_result",
     "data": {
      "text/plain": [
       "                                                 img      label  \\\n",
       "0  /home/daniel/dev/python/chest_x_ray/data/covid...  PNEUMONIA   \n",
       "1  /home/daniel/dev/python/chest_x_ray/data/covid...  PNEUMONIA   \n",
       "2  /home/daniel/dev/python/chest_x_ray/data/covid...  PNEUMONIA   \n",
       "3  /home/daniel/dev/python/chest_x_ray/data/covid...  PNEUMONIA   \n",
       "4  /home/daniel/dev/python/chest_x_ray/data/covid...  PNEUMONIA   \n",
       "\n",
       "                                                mask label2   label3  \n",
       "0                         None/a2eba651_predmask.jpg  virus  covid19  \n",
       "1              None/nejmoa2001191_f1-PA_predmask.jpg  virus  covid19  \n",
       "2                  None/7-fatal-covid19_predmask.jpg  virus  covid19  \n",
       "3                          None/ciaa199_predmask.jpg  virus  covid19  \n",
       "4  None/7AF6C1AF-D249-4BD2-8C26-449304105D03_pred...  virus  covid19  "
      ],
      "text/html": "<div>\n<style scoped>\n    .dataframe tbody tr th:only-of-type {\n        vertical-align: middle;\n    }\n\n    .dataframe tbody tr th {\n        vertical-align: top;\n    }\n\n    .dataframe thead th {\n        text-align: right;\n    }\n</style>\n<table border=\"1\" class=\"dataframe\">\n  <thead>\n    <tr style=\"text-align: right;\">\n      <th></th>\n      <th>img</th>\n      <th>label</th>\n      <th>mask</th>\n      <th>label2</th>\n      <th>label3</th>\n    </tr>\n  </thead>\n  <tbody>\n    <tr>\n      <th>0</th>\n      <td>/home/daniel/dev/python/chest_x_ray/data/covid...</td>\n      <td>PNEUMONIA</td>\n      <td>None/a2eba651_predmask.jpg</td>\n      <td>virus</td>\n      <td>covid19</td>\n    </tr>\n    <tr>\n      <th>1</th>\n      <td>/home/daniel/dev/python/chest_x_ray/data/covid...</td>\n      <td>PNEUMONIA</td>\n      <td>None/nejmoa2001191_f1-PA_predmask.jpg</td>\n      <td>virus</td>\n      <td>covid19</td>\n    </tr>\n    <tr>\n      <th>2</th>\n      <td>/home/daniel/dev/python/chest_x_ray/data/covid...</td>\n      <td>PNEUMONIA</td>\n      <td>None/7-fatal-covid19_predmask.jpg</td>\n      <td>virus</td>\n      <td>covid19</td>\n    </tr>\n    <tr>\n      <th>3</th>\n      <td>/home/daniel/dev/python/chest_x_ray/data/covid...</td>\n      <td>PNEUMONIA</td>\n      <td>None/ciaa199_predmask.jpg</td>\n      <td>virus</td>\n      <td>covid19</td>\n    </tr>\n    <tr>\n      <th>4</th>\n      <td>/home/daniel/dev/python/chest_x_ray/data/covid...</td>\n      <td>PNEUMONIA</td>\n      <td>None/7AF6C1AF-D249-4BD2-8C26-449304105D03_pred...</td>\n      <td>virus</td>\n      <td>covid19</td>\n    </tr>\n  </tbody>\n</table>\n</div>"
     },
     "metadata": {},
     "execution_count": 12
    }
   ],
   "source": [
    "df_covid.head()"
   ]
  },
  {
   "cell_type": "code",
   "execution_count": 13,
   "metadata": {},
   "outputs": [],
   "source": [
    "# Split covid19 data\n",
    "from sklearn.model_selection import train_test_split\n",
    "df_train_covid, df_test_covid = train_test_split(df_covid, test_size=0.2, random_state=200)"
   ]
  },
  {
   "cell_type": "code",
   "execution_count": 14,
   "metadata": {
    "tags": []
   },
   "outputs": [
    {
     "output_type": "stream",
     "name": "stdout",
     "text": [
      "=== Covid Data: ===\nTrain: 156\nTest: 40\n"
     ]
    }
   ],
   "source": [
    "print('=== Covid Data: ===')\n",
    "print('Train:', len(df_train_covid))\n",
    "print('Test:', len(df_test_covid))"
   ]
  },
  {
   "cell_type": "code",
   "execution_count": 15,
   "metadata": {},
   "outputs": [],
   "source": [
    "# remove normal images\n",
    "df_train = df_train[df_train.label != 'NORMAL']\n",
    "df_test = df_test[df_test.label != 'NORMAL']"
   ]
  },
  {
   "cell_type": "code",
   "execution_count": 16,
   "metadata": {},
   "outputs": [
    {
     "output_type": "execute_result",
     "data": {
      "text/plain": [
       "                                                                                                                                           img  \\\n",
       "166  /home/daniel/dev/python/chest_x_ray/data/covid-chestxray-dataset-0.41/output/3b46de94.jpg                                                   \n",
       "80   /home/daniel/dev/python/chest_x_ray/data/covid-chestxray-dataset-0.41/output/1-s2.0-S0140673620303706-fx1_lrg.jpg                           \n",
       "174  /home/daniel/dev/python/chest_x_ray/data/covid-chestxray-dataset-0.41/output/48c4542c.jpg                                                   \n",
       "180  /home/daniel/dev/python/chest_x_ray/data/covid-chestxray-dataset-0.41/output/2C26F453-AF3B-4517-BB9E-802CF2179543.jpeg                      \n",
       "163  /home/daniel/dev/python/chest_x_ray/data/covid-chestxray-dataset-0.41/output/23E99E2E-447C-46E5-8EB2-D35D12473C39.png                       \n",
       "..                                                                                                                     ...                       \n",
       "42   /home/daniel/dev/python/chest_x_ray/data/covid-chestxray-dataset-0.41/output/covid-19-pneumonia-rapidly-progressive-3-days.jpg              \n",
       "68   /home/daniel/dev/python/chest_x_ray/data/covid-chestxray-dataset-0.41/output/1.CXRCTThoraximagesofCOVID-19fromSingapore.pdf-002-fig3a.png   \n",
       "16   /home/daniel/dev/python/chest_x_ray/data/covid-chestxray-dataset-0.41/output/ryct.2020200034.fig5-day0.jpeg                                 \n",
       "105  /home/daniel/dev/python/chest_x_ray/data/covid-chestxray-dataset-0.41/output/covid-19-pneumonia-rapidly-progressive-12-hours.jpg            \n",
       "26   /home/daniel/dev/python/chest_x_ray/data/covid-chestxray-dataset-0.41/output/BMJ-37-163-g1.jpg                                              \n",
       "\n",
       "         label  \\\n",
       "166  PNEUMONIA   \n",
       "80   PNEUMONIA   \n",
       "174  PNEUMONIA   \n",
       "180  PNEUMONIA   \n",
       "163  PNEUMONIA   \n",
       "..         ...   \n",
       "42   PNEUMONIA   \n",
       "68   PNEUMONIA   \n",
       "16   PNEUMONIA   \n",
       "105  PNEUMONIA   \n",
       "26   PNEUMONIA   \n",
       "\n",
       "                                                                  mask label2  \\\n",
       "166  None/3b46de94_predmask.jpg                                         virus   \n",
       "80   None/1-s2_predmask.jpg                                             virus   \n",
       "174  None/48c4542c_predmask.jpg                                         virus   \n",
       "180  None/2C26F453-AF3B-4517-BB9E-802CF2179543_predmask.jpg             virus   \n",
       "163  None/23E99E2E-447C-46E5-8EB2-D35D12473C39_predmask.jpg             virus   \n",
       "..                                                      ...               ...   \n",
       "42   None/covid-19-pneumonia-rapidly-progressive-3-days_predmask.jpg    virus   \n",
       "68   None/1_predmask.jpg                                                virus   \n",
       "16   None/ryct_predmask.jpg                                             virus   \n",
       "105  None/covid-19-pneumonia-rapidly-progressive-12-hours_predmask.jpg  virus   \n",
       "26   None/BMJ-37-163-g1_predmask.jpg                                    virus   \n",
       "\n",
       "      label3  \n",
       "166  covid19  \n",
       "80   covid19  \n",
       "174  covid19  \n",
       "180  covid19  \n",
       "163  covid19  \n",
       "..       ...  \n",
       "42   covid19  \n",
       "68   covid19  \n",
       "16   covid19  \n",
       "105  covid19  \n",
       "26   covid19  \n",
       "\n",
       "[156 rows x 5 columns]"
      ],
      "text/html": "<div>\n<style scoped>\n    .dataframe tbody tr th:only-of-type {\n        vertical-align: middle;\n    }\n\n    .dataframe tbody tr th {\n        vertical-align: top;\n    }\n\n    .dataframe thead th {\n        text-align: right;\n    }\n</style>\n<table border=\"1\" class=\"dataframe\">\n  <thead>\n    <tr style=\"text-align: right;\">\n      <th></th>\n      <th>img</th>\n      <th>label</th>\n      <th>mask</th>\n      <th>label2</th>\n      <th>label3</th>\n    </tr>\n  </thead>\n  <tbody>\n    <tr>\n      <th>166</th>\n      <td>/home/daniel/dev/python/chest_x_ray/data/covid-chestxray-dataset-0.41/output/3b46de94.jpg</td>\n      <td>PNEUMONIA</td>\n      <td>None/3b46de94_predmask.jpg</td>\n      <td>virus</td>\n      <td>covid19</td>\n    </tr>\n    <tr>\n      <th>80</th>\n      <td>/home/daniel/dev/python/chest_x_ray/data/covid-chestxray-dataset-0.41/output/1-s2.0-S0140673620303706-fx1_lrg.jpg</td>\n      <td>PNEUMONIA</td>\n      <td>None/1-s2_predmask.jpg</td>\n      <td>virus</td>\n      <td>covid19</td>\n    </tr>\n    <tr>\n      <th>174</th>\n      <td>/home/daniel/dev/python/chest_x_ray/data/covid-chestxray-dataset-0.41/output/48c4542c.jpg</td>\n      <td>PNEUMONIA</td>\n      <td>None/48c4542c_predmask.jpg</td>\n      <td>virus</td>\n      <td>covid19</td>\n    </tr>\n    <tr>\n      <th>180</th>\n      <td>/home/daniel/dev/python/chest_x_ray/data/covid-chestxray-dataset-0.41/output/2C26F453-AF3B-4517-BB9E-802CF2179543.jpeg</td>\n      <td>PNEUMONIA</td>\n      <td>None/2C26F453-AF3B-4517-BB9E-802CF2179543_predmask.jpg</td>\n      <td>virus</td>\n      <td>covid19</td>\n    </tr>\n    <tr>\n      <th>163</th>\n      <td>/home/daniel/dev/python/chest_x_ray/data/covid-chestxray-dataset-0.41/output/23E99E2E-447C-46E5-8EB2-D35D12473C39.png</td>\n      <td>PNEUMONIA</td>\n      <td>None/23E99E2E-447C-46E5-8EB2-D35D12473C39_predmask.jpg</td>\n      <td>virus</td>\n      <td>covid19</td>\n    </tr>\n    <tr>\n      <th>...</th>\n      <td>...</td>\n      <td>...</td>\n      <td>...</td>\n      <td>...</td>\n      <td>...</td>\n    </tr>\n    <tr>\n      <th>42</th>\n      <td>/home/daniel/dev/python/chest_x_ray/data/covid-chestxray-dataset-0.41/output/covid-19-pneumonia-rapidly-progressive-3-days.jpg</td>\n      <td>PNEUMONIA</td>\n      <td>None/covid-19-pneumonia-rapidly-progressive-3-days_predmask.jpg</td>\n      <td>virus</td>\n      <td>covid19</td>\n    </tr>\n    <tr>\n      <th>68</th>\n      <td>/home/daniel/dev/python/chest_x_ray/data/covid-chestxray-dataset-0.41/output/1.CXRCTThoraximagesofCOVID-19fromSingapore.pdf-002-fig3a.png</td>\n      <td>PNEUMONIA</td>\n      <td>None/1_predmask.jpg</td>\n      <td>virus</td>\n      <td>covid19</td>\n    </tr>\n    <tr>\n      <th>16</th>\n      <td>/home/daniel/dev/python/chest_x_ray/data/covid-chestxray-dataset-0.41/output/ryct.2020200034.fig5-day0.jpeg</td>\n      <td>PNEUMONIA</td>\n      <td>None/ryct_predmask.jpg</td>\n      <td>virus</td>\n      <td>covid19</td>\n    </tr>\n    <tr>\n      <th>105</th>\n      <td>/home/daniel/dev/python/chest_x_ray/data/covid-chestxray-dataset-0.41/output/covid-19-pneumonia-rapidly-progressive-12-hours.jpg</td>\n      <td>PNEUMONIA</td>\n      <td>None/covid-19-pneumonia-rapidly-progressive-12-hours_predmask.jpg</td>\n      <td>virus</td>\n      <td>covid19</td>\n    </tr>\n    <tr>\n      <th>26</th>\n      <td>/home/daniel/dev/python/chest_x_ray/data/covid-chestxray-dataset-0.41/output/BMJ-37-163-g1.jpg</td>\n      <td>PNEUMONIA</td>\n      <td>None/BMJ-37-163-g1_predmask.jpg</td>\n      <td>virus</td>\n      <td>covid19</td>\n    </tr>\n  </tbody>\n</table>\n<p>156 rows × 5 columns</p>\n</div>"
     },
     "metadata": {},
     "execution_count": 16
    }
   ],
   "source": [
    "pd.set_option('display.max_colwidth', -1)\n",
    "df_train_covid"
   ]
  },
  {
   "cell_type": "code",
   "execution_count": 17,
   "metadata": {},
   "outputs": [],
   "source": [
    "# Append Covid19 data to rest\n",
    "df_train = df_train.append(df_train_covid, ignore_index=True)\n",
    "df_test = df_test.append(df_test_covid, ignore_index=True)"
   ]
  },
  {
   "cell_type": "code",
   "execution_count": 18,
   "metadata": {
    "tags": []
   },
   "outputs": [
    {
     "output_type": "stream",
     "name": "stdout",
     "text": [
      "=== Train Data: ===\nNormal: 0\nPneumonia: 4039\n|---> Bacterial: 2538\n|---> Viral: 1501\n    |---> Covid: 156\n"
     ]
    }
   ],
   "source": [
    "print('=== Train Data: ===')\n",
    "print('Normal:', len(df_train[df_train['label'] == 'NORMAL']))\n",
    "print('Pneumonia:', len(df_train[df_train['label'] == 'PNEUMONIA']))\n",
    "print('|---> Bacterial:', len(df_train[df_train['label2'] == 'bacteria']))\n",
    "print('|---> Viral:', len(df_train[df_train['label2'] == 'virus']))\n",
    "print('    |---> Covid:', len(df_train[df_train['label3'] == 'covid19']))"
   ]
  },
  {
   "cell_type": "code",
   "execution_count": 19,
   "metadata": {
    "tags": []
   },
   "outputs": [
    {
     "output_type": "stream",
     "name": "stdout",
     "text": [
      "=== Test Data: ===\nNormal: 0\nPneumonia: 430\n|---> Bacterial: 242\n|---> Viral: 188\n    |---> Covid: 40\n"
     ]
    }
   ],
   "source": [
    "print('=== Test Data: ===')\n",
    "print('Normal:', len(df_test[df_test['label'] == 'NORMAL']))\n",
    "print('Pneumonia:', len(df_test[df_test['label'] == 'PNEUMONIA']))\n",
    "print('|---> Bacterial:', len(df_test[df_test['label2'] == 'bacteria']))\n",
    "print('|---> Viral:', len(df_test[df_test['label2'] == 'virus']))\n",
    "print('    |---> Covid:', len(df_test[df_test['label3'] == 'covid19']))"
   ]
  },
  {
   "cell_type": "code",
   "execution_count": 20,
   "metadata": {},
   "outputs": [],
   "source": [
    "# Shuffle\n",
    "df_train = df_train.sample(frac=1, random_state=200).reset_index(drop=True)\n",
    "df_test = df_test.sample(frac=1, random_state=200).reset_index(drop=True)"
   ]
  },
  {
   "cell_type": "code",
   "execution_count": 21,
   "metadata": {},
   "outputs": [],
   "source": [
    "def replace_by_binary_class(df, to_replace, value):\n",
    "    return df.replace(to_replace=to_replace, value=value)"
   ]
  },
  {
   "cell_type": "code",
   "execution_count": 22,
   "metadata": {},
   "outputs": [],
   "source": [
    "df_train = replace_by_binary_class(df_train, 'bacteria', 0)\n",
    "df_train = replace_by_binary_class(df_train, 'virus', 1)\n",
    "\n",
    "df_test = replace_by_binary_class(df_test, 'bacteria', 0)\n",
    "df_test = replace_by_binary_class(df_test, 'virus', 1)"
   ]
  },
  {
   "cell_type": "code",
   "execution_count": 23,
   "metadata": {},
   "outputs": [
    {
     "output_type": "execute_result",
     "data": {
      "text/plain": [
       "                                                                                             img  \\\n",
       "0  /home/daniel/dev/python/chest_x_ray/data/mooney/train/PNEUMONIA/person465_virus_957.jpeg        \n",
       "1  /home/daniel/dev/python/chest_x_ray/data/mooney/train/PNEUMONIA/person1729_bacteria_4557.jpeg   \n",
       "2  /home/daniel/dev/python/chest_x_ray/data/mooney/train/PNEUMONIA/person1180_virus_2009.jpeg      \n",
       "3  /home/daniel/dev/python/chest_x_ray/data/mooney/train/PNEUMONIA/person1206_virus_2051.jpeg      \n",
       "4  /home/daniel/dev/python/chest_x_ray/data/mooney/train/PNEUMONIA/person1176_virus_1998.jpeg      \n",
       "\n",
       "       label  mask  label2 label3  \n",
       "0  PNEUMONIA  None  1       -      \n",
       "1  PNEUMONIA  None  0       -      \n",
       "2  PNEUMONIA  None  1       -      \n",
       "3  PNEUMONIA  None  1       -      \n",
       "4  PNEUMONIA  None  1       -      "
      ],
      "text/html": "<div>\n<style scoped>\n    .dataframe tbody tr th:only-of-type {\n        vertical-align: middle;\n    }\n\n    .dataframe tbody tr th {\n        vertical-align: top;\n    }\n\n    .dataframe thead th {\n        text-align: right;\n    }\n</style>\n<table border=\"1\" class=\"dataframe\">\n  <thead>\n    <tr style=\"text-align: right;\">\n      <th></th>\n      <th>img</th>\n      <th>label</th>\n      <th>mask</th>\n      <th>label2</th>\n      <th>label3</th>\n    </tr>\n  </thead>\n  <tbody>\n    <tr>\n      <th>0</th>\n      <td>/home/daniel/dev/python/chest_x_ray/data/mooney/train/PNEUMONIA/person465_virus_957.jpeg</td>\n      <td>PNEUMONIA</td>\n      <td>None</td>\n      <td>1</td>\n      <td>-</td>\n    </tr>\n    <tr>\n      <th>1</th>\n      <td>/home/daniel/dev/python/chest_x_ray/data/mooney/train/PNEUMONIA/person1729_bacteria_4557.jpeg</td>\n      <td>PNEUMONIA</td>\n      <td>None</td>\n      <td>0</td>\n      <td>-</td>\n    </tr>\n    <tr>\n      <th>2</th>\n      <td>/home/daniel/dev/python/chest_x_ray/data/mooney/train/PNEUMONIA/person1180_virus_2009.jpeg</td>\n      <td>PNEUMONIA</td>\n      <td>None</td>\n      <td>1</td>\n      <td>-</td>\n    </tr>\n    <tr>\n      <th>3</th>\n      <td>/home/daniel/dev/python/chest_x_ray/data/mooney/train/PNEUMONIA/person1206_virus_2051.jpeg</td>\n      <td>PNEUMONIA</td>\n      <td>None</td>\n      <td>1</td>\n      <td>-</td>\n    </tr>\n    <tr>\n      <th>4</th>\n      <td>/home/daniel/dev/python/chest_x_ray/data/mooney/train/PNEUMONIA/person1176_virus_1998.jpeg</td>\n      <td>PNEUMONIA</td>\n      <td>None</td>\n      <td>1</td>\n      <td>-</td>\n    </tr>\n  </tbody>\n</table>\n</div>"
     },
     "metadata": {},
     "execution_count": 23
    }
   ],
   "source": [
    "df_train.head()"
   ]
  },
  {
   "cell_type": "markdown",
   "metadata": {},
   "source": [
    "\n",
    "## 2 Data generator"
   ]
  },
  {
   "cell_type": "code",
   "execution_count": 24,
   "metadata": {},
   "outputs": [],
   "source": [
    "import imgaug.augmenters as iaa\n",
    "aug = iaa.AllChannelsCLAHE(clip_limit=(0.05))"
   ]
  },
  {
   "cell_type": "code",
   "execution_count": 25,
   "metadata": {},
   "outputs": [],
   "source": [
    "def applySigmoidContrast(img):\n",
    "    img = aug.augment_image(img)\n",
    "    return img"
   ]
  },
  {
   "cell_type": "code",
   "execution_count": 26,
   "metadata": {},
   "outputs": [],
   "source": [
    "import imgaug as ia\n",
    "import imgaug.augmenters as iaa\n",
    "\n",
    "sometimes = lambda aug: iaa.Sometimes(0.5, aug)\n",
    "sometimes25 = lambda aug: iaa.Sometimes(0.25, aug)\n",
    "\n",
    "seq_img = iaa.Sequential([\n",
    "    # sometimes(iaa.SigmoidContrast(gain=(3, 10), cutoff=(0.4, 0.6))),\n",
    "    sometimes(iaa.Affine(\n",
    "            rotate=(-10, 10),\n",
    "            shear=(-10,10),\n",
    "            scale={\"x\": (0.9, 1.1), \"y\": (0.9, 1.1)},\n",
    "            translate_percent={\"x\": (-0.1, 0.1), \"y\": (-0.1, 0.1)}\n",
    "    )),\n",
    "    sometimes(iaa.PerspectiveTransform(scale=(0.01, 0.15))),\n",
    "], random_order=True)\n",
    "\n",
    "class DataGenerator(tf.keras.utils.Sequence):\n",
    "\n",
    "    def __init__(self, df, augment, img_size, batch_size=8, shuffle=True, useMasks=True):\n",
    "        self.batch_size = batch_size\n",
    "        self.df = df\n",
    "        self.indices = self.df.index.tolist()\n",
    "        self.shuffle = shuffle\n",
    "        self.augment = augment\n",
    "        self.img_size = img_size\n",
    "        self.useMasks = useMasks\n",
    "\n",
    "    def __len__(self):\n",
    "        return math.ceil(len(self.indices)/ self.batch_size)\n",
    "\n",
    "    def __getitem__(self, index):\n",
    "        indexes = self.indices[index * self.batch_size:(index + 1) * self.batch_size]\n",
    "        batch = [self.indices[k] for k in indexes]\n",
    "        X, y = self.__get_data(batch)\n",
    "        return np.array(X), np.array(y)\n",
    "\n",
    "    def on_epoch_end(self):\n",
    "        if self.shuffle == True:\n",
    "            np.random.shuffle(self.indices)\n",
    "\n",
    "    def __get_data(self, batch):\n",
    "        X_img_paths = self.df['img']\n",
    "        X_mask_paths = self.df['mask']\n",
    "        X_imgs = []\n",
    "        X_masks = []\n",
    "        Y = self.df['label2'].iloc[batch].to_numpy()\n",
    "\n",
    "        for i in range(0, len(batch)):\n",
    "            img = cv2.resize(cv2.imread(str(X_img_paths.iloc[batch[i]]), cv2.IMREAD_GRAYSCALE), (self.img_size, self.img_size))\n",
    "            img = img.reshape(img.shape[0], img.shape[1],1)\n",
    "\n",
    "            if not self.useMasks:\n",
    "                if(self.augment is True):\n",
    "                    seq_img_i = seq_img.to_deterministic()   \n",
    "                    img = seq_img_i.augment_image(img)\n",
    "                # else img remains untouched\n",
    "            else: \n",
    "                mask = cv2.imread(str(X_mask_paths.iloc[batch[i]]), cv2.IMREAD_GRAYSCALE)\n",
    "                #mask = cv2.resize(mask, (self.img_size, self.img_size))\n",
    "                mask = cv2.threshold(mask,0,1,cv2.THRESH_BINARY)[1]\n",
    "                # Multiply binarized mask on grayscaled version of the x-ray. \n",
    "                # So only the lung will remain, everything else will be set to 0\n",
    "                try:\n",
    "                    mask = mask.reshape(IMG_SIZE,IMG_SIZE,1)\n",
    "                except:\n",
    "                    print(\"i\", i)\n",
    "                    print(str(X_mask_paths.iloc[batch[i]]))\n",
    "                cutout_img = img * mask\n",
    "                cutout_img = cutout_img.reshape(IMG_SIZE,IMG_SIZE,1)\n",
    "\n",
    "                if(self.augment is True):\n",
    "                    seq_img_i = seq_img.to_deterministic()   \n",
    "                    img = seq_img_i.augment_image(img) #### img\n",
    "                    cutout_img = seq_img_i.augment_image(cutout_img) #### cutout\n",
    "\n",
    "                img = np.dstack([img, cutout_img])\n",
    "                mask = mask / 255.0\n",
    "\n",
    "            # normalize\n",
    "            img = img / 255.0\n",
    "\n",
    "            X_imgs.append(img)\n",
    "\n",
    "        return X_imgs, Y"
   ]
  },
  {
   "cell_type": "markdown",
   "metadata": {},
   "source": [
    "## 3 Model training"
   ]
  },
  {
   "cell_type": "code",
   "execution_count": 27,
   "metadata": {},
   "outputs": [],
   "source": [
    "def getModel():\n",
    "    model = Sequential()\n",
    "    # Conv block1 = cb0\n",
    "    model.add(Conv2D(32, (3,3), padding = \"same\", activation='relu', input_shape=(IMG_SIZE,IMG_SIZE,CHANNELS), name=\"cb0_conv0\"))\n",
    "    model.add(Conv2D(32, (3,3), padding = \"same\", activation='relu', name=\"cb0_conv1\"))\n",
    "    model.add(MaxPool2D(pool_size = (3, 3), name=\"cb0_maxpool\"))\n",
    "    model.add(Dropout(0.2, name=\"cb0_dropout\"))\n",
    "\n",
    "    # Conv block2 = cb1\n",
    "    model.add(Conv2D(64, (3,3), padding = \"same\", activation='relu', name=\"cb1_conv0\"))\n",
    "    model.add(Conv2D(64, (5,5), strides=(2,2), padding = \"same\", activation='relu', name=\"cb1_conv1\"))\n",
    "    model.add(Conv2D(64, (3,3), padding = \"same\", activation='relu', name=\"cb1_conv2\"))\n",
    "    model.add(MaxPool2D(pool_size = (2, 2), name=\"cb1_maxpool\"))\n",
    "    model.add(Dropout(0.2, name=\"cb1_dropout\"))\n",
    "\n",
    "    # Dense block = db\n",
    "    model.add(Flatten())\n",
    "    model.add(Dense(1024, activation='relu', name=\"db_dense1024\"))\n",
    "    model.add(Dense(512, activation='relu', name=\"db_dense512\"))\n",
    "    model.add(Dropout(0.2))\n",
    "    model.add(Dense(256, activation='relu', name=\"db_dense256\"))\n",
    "    model.add(Dropout(0.2))\n",
    "\n",
    "    model.add(Dense(1, activation='sigmoid', name=\"db_dense1\"))\n",
    "\n",
    "    model.compile(optimizer = Adam(learning_rate=0.0001), loss = 'binary_crossentropy', metrics = ['accuracy'])\n",
    "    \n",
    "    return model"
   ]
  },
  {
   "cell_type": "code",
   "execution_count": 28,
   "metadata": {
    "scrolled": true
   },
   "outputs": [],
   "source": [
    "# K-Fold\n",
    "from sklearn.model_selection import StratifiedKFold\n",
    "from sklearn.utils import class_weight\n",
    "from sklearn.metrics import f1_score, accuracy_score"
   ]
  },
  {
   "cell_type": "code",
   "execution_count": 29,
   "metadata": {},
   "outputs": [],
   "source": [
    "kf5 = StratifiedKFold(n_splits=5, random_state=200)"
   ]
  },
  {
   "cell_type": "code",
   "execution_count": 30,
   "metadata": {},
   "outputs": [
    {
     "output_type": "stream",
     "name": "stdout",
     "text": [
      "Fold Nr.:  1\n",
      "Class weights:  {0: 0.7954209748892171, 1: 1.34625}\n",
      "Epoch 1/12\n",
      "  2/101 [..............................] - ETA: 5s - loss: 0.7091 - accuracy: 0.3906WARNING:tensorflow:Callbacks method `on_train_batch_end` is slow compared to the batch time (batch time: 0.0307s vs `on_train_batch_end` time: 0.0627s). Check your callbacks.\n",
      "101/101 [==============================] - 28s 276ms/step - loss: 0.6941 - accuracy: 0.4704 - val_loss: 0.6907 - val_accuracy: 0.6918\n",
      "Epoch 2/12\n",
      "101/101 [==============================] - 21s 206ms/step - loss: 0.6901 - accuracy: 0.4924 - val_loss: 0.6688 - val_accuracy: 0.6795\n",
      "Epoch 3/12\n",
      "101/101 [==============================] - 20s 199ms/step - loss: 0.6704 - accuracy: 0.5843 - val_loss: 0.6235 - val_accuracy: 0.6745\n",
      "Epoch 4/12\n",
      "101/101 [==============================] - 21s 203ms/step - loss: 0.6541 - accuracy: 0.6076 - val_loss: 0.5811 - val_accuracy: 0.7042\n",
      "Epoch 5/12\n",
      "101/101 [==============================] - 20s 202ms/step - loss: 0.6217 - accuracy: 0.6583 - val_loss: 0.5304 - val_accuracy: 0.7463\n",
      "Epoch 6/12\n",
      "101/101 [==============================] - 21s 205ms/step - loss: 0.6254 - accuracy: 0.6407 - val_loss: 0.5266 - val_accuracy: 0.7512\n",
      "Epoch 7/12\n",
      "101/101 [==============================] - 21s 210ms/step - loss: 0.6060 - accuracy: 0.6698 - val_loss: 0.5419 - val_accuracy: 0.7327\n",
      "Epoch 8/12\n",
      "101/101 [==============================] - 21s 206ms/step - loss: 0.5986 - accuracy: 0.6806 - val_loss: 0.5067 - val_accuracy: 0.7686\n",
      "Epoch 9/12\n",
      "101/101 [==============================] - 20s 202ms/step - loss: 0.5997 - accuracy: 0.6815 - val_loss: 0.5180 - val_accuracy: 0.7735\n",
      "Epoch 10/12\n",
      "101/101 [==============================] - 20s 199ms/step - loss: 0.5842 - accuracy: 0.7013 - val_loss: 0.5206 - val_accuracy: 0.7624\n",
      "Epoch 11/12\n",
      "101/101 [==============================] - 21s 204ms/step - loss: 0.5801 - accuracy: 0.6936 - val_loss: 0.5182 - val_accuracy: 0.7661\n",
      "Epoch 12/12\n",
      "101/101 [==============================] - 21s 208ms/step - loss: 0.5809 - accuracy: 0.7004 - val_loss: 0.5118 - val_accuracy: 0.7723\n",
      "Fold Nr.:  2\n",
      "Class weights:  {0: 0.7958128078817734, 1: 1.345129059117402}\n",
      "Epoch 1/12\n",
      "101/101 [==============================] - 21s 206ms/step - loss: 0.6914 - accuracy: 0.4930 - val_loss: 0.6999 - val_accuracy: 0.3861\n",
      "Epoch 2/12\n",
      "101/101 [==============================] - 21s 207ms/step - loss: 0.6834 - accuracy: 0.5271 - val_loss: 0.6337 - val_accuracy: 0.6819\n",
      "Epoch 3/12\n",
      "101/101 [==============================] - 20s 201ms/step - loss: 0.6425 - accuracy: 0.6311 - val_loss: 0.5435 - val_accuracy: 0.7277\n",
      "Epoch 4/12\n",
      "101/101 [==============================] - 20s 201ms/step - loss: 0.6129 - accuracy: 0.6602 - val_loss: 0.5612 - val_accuracy: 0.7079\n",
      "Epoch 5/12\n",
      "101/101 [==============================] - 21s 204ms/step - loss: 0.5978 - accuracy: 0.6883 - val_loss: 0.5646 - val_accuracy: 0.7116\n",
      "Epoch 6/12\n",
      "101/101 [==============================] - 20s 201ms/step - loss: 0.5825 - accuracy: 0.6976 - val_loss: 0.5223 - val_accuracy: 0.7525\n",
      "Epoch 7/12\n",
      "101/101 [==============================] - 21s 205ms/step - loss: 0.5877 - accuracy: 0.6989 - val_loss: 0.5635 - val_accuracy: 0.7129\n",
      "Epoch 8/12\n",
      "101/101 [==============================] - 21s 203ms/step - loss: 0.5839 - accuracy: 0.7013 - val_loss: 0.5472 - val_accuracy: 0.7277\n",
      "Epoch 9/12\n",
      "101/101 [==============================] - 21s 206ms/step - loss: 0.5725 - accuracy: 0.7125 - val_loss: 0.5293 - val_accuracy: 0.7537\n",
      "Epoch 10/12\n",
      "101/101 [==============================] - 21s 205ms/step - loss: 0.5625 - accuracy: 0.7153 - val_loss: 0.5163 - val_accuracy: 0.7450\n",
      "Epoch 11/12\n",
      "101/101 [==============================] - 21s 204ms/step - loss: 0.5707 - accuracy: 0.7088 - val_loss: 0.5539 - val_accuracy: 0.7389\n",
      "Epoch 12/12\n",
      "101/101 [==============================] - 21s 211ms/step - loss: 0.5649 - accuracy: 0.7218 - val_loss: 0.5157 - val_accuracy: 0.7512\n",
      "Fold Nr.:  3\n",
      "Class weights:  {0: 0.7958128078817734, 1: 1.345129059117402}\n",
      "Epoch 1/12\n",
      "101/101 [==============================] - 21s 208ms/step - loss: 0.6939 - accuracy: 0.5159 - val_loss: 0.7034 - val_accuracy: 0.3713\n",
      "Epoch 2/12\n",
      "101/101 [==============================] - 20s 201ms/step - loss: 0.6920 - accuracy: 0.4757 - val_loss: 0.6901 - val_accuracy: 0.6547\n",
      "Epoch 3/12\n",
      "101/101 [==============================] - 20s 202ms/step - loss: 0.6811 - accuracy: 0.5518 - val_loss: 0.6795 - val_accuracy: 0.6733\n",
      "Epoch 4/12\n",
      "101/101 [==============================] - 20s 203ms/step - loss: 0.6445 - accuracy: 0.6243 - val_loss: 0.5861 - val_accuracy: 0.7141\n",
      "Epoch 5/12\n",
      "101/101 [==============================] - 20s 202ms/step - loss: 0.6292 - accuracy: 0.6447 - val_loss: 0.5746 - val_accuracy: 0.7364\n",
      "Epoch 6/12\n",
      "101/101 [==============================] - 21s 203ms/step - loss: 0.6098 - accuracy: 0.6753 - val_loss: 0.5426 - val_accuracy: 0.7438\n",
      "Epoch 7/12\n",
      "101/101 [==============================] - 20s 201ms/step - loss: 0.6033 - accuracy: 0.6849 - val_loss: 0.5530 - val_accuracy: 0.7450\n",
      "Epoch 8/12\n",
      "101/101 [==============================] - 20s 201ms/step - loss: 0.5867 - accuracy: 0.6945 - val_loss: 0.5404 - val_accuracy: 0.7438\n",
      "Epoch 9/12\n",
      "101/101 [==============================] - 20s 200ms/step - loss: 0.5724 - accuracy: 0.7100 - val_loss: 0.5282 - val_accuracy: 0.7562\n",
      "Epoch 10/12\n",
      "101/101 [==============================] - 20s 200ms/step - loss: 0.5767 - accuracy: 0.7097 - val_loss: 0.5516 - val_accuracy: 0.7290\n",
      "Epoch 11/12\n",
      "101/101 [==============================] - 21s 203ms/step - loss: 0.5725 - accuracy: 0.7177 - val_loss: 0.5549 - val_accuracy: 0.7389\n",
      "Epoch 12/12\n",
      "101/101 [==============================] - 20s 201ms/step - loss: 0.5616 - accuracy: 0.7252 - val_loss: 0.5229 - val_accuracy: 0.7599\n",
      "Fold Nr.:  4\n",
      "Class weights:  {0: 0.7958128078817734, 1: 1.345129059117402}\n",
      "Epoch 1/12\n",
      "101/101 [==============================] - 21s 212ms/step - loss: 0.6952 - accuracy: 0.5048 - val_loss: 0.6980 - val_accuracy: 0.3713\n",
      "Epoch 2/12\n",
      "101/101 [==============================] - 20s 201ms/step - loss: 0.6928 - accuracy: 0.4896 - val_loss: 0.6968 - val_accuracy: 0.3750\n",
      "Epoch 3/12\n",
      "101/101 [==============================] - 20s 203ms/step - loss: 0.6755 - accuracy: 0.5769 - val_loss: 0.6251 - val_accuracy: 0.6968\n",
      "Epoch 4/12\n",
      "101/101 [==============================] - 20s 202ms/step - loss: 0.6453 - accuracy: 0.6416 - val_loss: 0.5780 - val_accuracy: 0.7116\n",
      "Epoch 5/12\n",
      "101/101 [==============================] - 21s 204ms/step - loss: 0.6174 - accuracy: 0.6679 - val_loss: 0.5556 - val_accuracy: 0.7265\n",
      "Epoch 6/12\n",
      "101/101 [==============================] - 20s 202ms/step - loss: 0.6062 - accuracy: 0.6772 - val_loss: 0.5832 - val_accuracy: 0.7104\n",
      "Epoch 7/12\n",
      "101/101 [==============================] - 21s 207ms/step - loss: 0.6111 - accuracy: 0.6617 - val_loss: 0.5430 - val_accuracy: 0.7488\n",
      "Epoch 8/12\n",
      "101/101 [==============================] - 21s 210ms/step - loss: 0.5800 - accuracy: 0.7029 - val_loss: 0.5197 - val_accuracy: 0.7475\n",
      "Epoch 9/12\n",
      "101/101 [==============================] - 21s 204ms/step - loss: 0.5872 - accuracy: 0.6958 - val_loss: 0.5392 - val_accuracy: 0.7389\n",
      "Epoch 10/12\n",
      "101/101 [==============================] - 21s 207ms/step - loss: 0.5830 - accuracy: 0.7016 - val_loss: 0.5244 - val_accuracy: 0.7389\n",
      "Epoch 11/12\n",
      "101/101 [==============================] - 20s 202ms/step - loss: 0.5716 - accuracy: 0.7109 - val_loss: 0.5084 - val_accuracy: 0.7500\n",
      "Epoch 12/12\n",
      "101/101 [==============================] - 21s 204ms/step - loss: 0.5754 - accuracy: 0.7063 - val_loss: 0.5556 - val_accuracy: 0.7191\n",
      "Fold Nr.:  5\n",
      "Class weights:  {0: 0.7956671590349581, 1: 1.3455453788509575}\n",
      "Epoch 1/12\n",
      "101/101 [==============================] - 22s 220ms/step - loss: 0.6935 - accuracy: 0.4387 - val_loss: 0.6924 - val_accuracy: 0.5366\n",
      "Epoch 2/12\n",
      "101/101 [==============================] - 21s 206ms/step - loss: 0.6924 - accuracy: 0.5133 - val_loss: 0.6891 - val_accuracy: 0.5428\n",
      "Epoch 3/12\n",
      "101/101 [==============================] - 20s 203ms/step - loss: 0.6675 - accuracy: 0.5647 - val_loss: 0.5745 - val_accuracy: 0.7014\n",
      "Epoch 4/12\n",
      "101/101 [==============================] - 20s 203ms/step - loss: 0.6387 - accuracy: 0.6194 - val_loss: 0.5898 - val_accuracy: 0.7001\n",
      "Epoch 5/12\n",
      "101/101 [==============================] - 21s 205ms/step - loss: 0.6280 - accuracy: 0.6445 - val_loss: 0.5472 - val_accuracy: 0.7336\n",
      "Epoch 6/12\n",
      "101/101 [==============================] - 21s 203ms/step - loss: 0.6098 - accuracy: 0.6841 - val_loss: 0.5811 - val_accuracy: 0.7088\n",
      "Epoch 7/12\n",
      "101/101 [==============================] - 20s 201ms/step - loss: 0.6046 - accuracy: 0.6770 - val_loss: 0.5234 - val_accuracy: 0.7385\n",
      "Epoch 8/12\n",
      "101/101 [==============================] - 20s 202ms/step - loss: 0.5897 - accuracy: 0.6841 - val_loss: 0.5396 - val_accuracy: 0.7385\n",
      "Epoch 9/12\n",
      "101/101 [==============================] - 21s 208ms/step - loss: 0.5908 - accuracy: 0.6912 - val_loss: 0.5262 - val_accuracy: 0.7361\n",
      "Epoch 10/12\n",
      "101/101 [==============================] - 20s 202ms/step - loss: 0.5839 - accuracy: 0.7024 - val_loss: 0.5294 - val_accuracy: 0.7286\n",
      "Epoch 11/12\n",
      "101/101 [==============================] - 20s 202ms/step - loss: 0.5805 - accuracy: 0.7082 - val_loss: 0.5186 - val_accuracy: 0.7522\n",
      "Epoch 12/12\n",
      "101/101 [==============================] - 20s 203ms/step - loss: 0.5778 - accuracy: 0.7119 - val_loss: 0.5433 - val_accuracy: 0.7323\n"
     ]
    }
   ],
   "source": [
    "run = 1\n",
    "val_scores = []\n",
    "f1_scores = []\n",
    "histories = []\n",
    "best_f1_model = None\n",
    "highestF1 = 0\n",
    "EPOCHS = 12\n",
    "\n",
    "for train_index, val_index in kf5.split(df_train, df_train.label2):\n",
    "    print(\"Fold Nr.: \", run)\n",
    "    df_fold_train = df_train.iloc[train_index]\n",
    "    df_fold_val = df_train.iloc[val_index]\n",
    "\n",
    "    df_fold_train.reset_index(drop=True, inplace=True)\n",
    "    df_fold_val.reset_index(drop=True, inplace=True)\n",
    "    \n",
    "    \n",
    "    # print('=== Train Data: ===')\n",
    "    # print('Normal:', len(df_fold_train[df_fold_train['label'] == 0]))\n",
    "    # print('Pneumonia:', len(df_fold_train[df_fold_train['label'] == 1]))\n",
    "    # print('|---> Bacterial:', len(df_fold_train[df_fold_train['label2'] == 'bacteria']))\n",
    "    # print('|---> Viral:', len(df_fold_train[df_fold_train['label2'] == 'virus']))\n",
    "    # print('    |---> Covid:', len(df_fold_train[df_fold_train['label3'] == 'covid19']))\n",
    "    \n",
    "    # print('=== Val Data: ===')\n",
    "    # print('Normal:', len(df_fold_val[df_fold_val['label'] == 0]))\n",
    "    # print('Pneumonia:', len(df_fold_val[df_fold_val['label'] == 1]))\n",
    "    # print('|---> Bacterial:', len(df_fold_val[df_fold_val['label2'] == 'bacteria']))\n",
    "    # print('|---> Viral:', len(df_fold_val[df_fold_val['label2'] == 'virus']))\n",
    "    # print('    |---> Covid:', len(df_fold_val[df_fold_val['label3'] == 'covid19']))\n",
    "    \n",
    "    train_generator = DataGenerator(df_fold_train, True, IMG_SIZE, batch_size=BATCH_SIZE, shuffle=False, useMasks=USE_MASKS)\n",
    "    val_generator = DataGenerator(df_fold_val, False, IMG_SIZE, batch_size=BATCH_SIZE, shuffle=False, useMasks=USE_MASKS)\n",
    "    \n",
    "    # Adjust class_weights since we're dealing with imbalanced data here\n",
    "    class_weights = class_weight.compute_class_weight('balanced', np.unique(df_fold_train['label2']), df_fold_train['label2'])\n",
    "    class_weights = {0: class_weights[0], 1: class_weights[1]}\n",
    "    print(\"Class weights: \", class_weights)\n",
    "\n",
    "    model = getModel()\n",
    "    history = model.fit(train_generator,\n",
    "                    validation_data=val_generator,\n",
    "                    validation_steps=len(val_generator),\n",
    "                    steps_per_epoch=len(train_generator),\n",
    "                    epochs=EPOCHS,\n",
    "                    class_weight=class_weights,\n",
    "                    #callbacks=[mcp_save, learning_rate_reduction], # learning_rate_reduction]],\n",
    "                    verbose = True)\n",
    "\n",
    "    predictions = model.predict(val_generator)\n",
    "    y_pred = (predictions > 0.5).astype('uint8')\n",
    "\n",
    "    histories.append(history)\n",
    "\n",
    "    f1 = f1_score(y_pred, df_fold_val.label2)\n",
    "\n",
    "    if(highestF1 is 0):\n",
    "        highestF1 = f1\n",
    "        best_f1_model = model\n",
    "    else:\n",
    "        if(f1 > highestF1):\n",
    "            highestF1 = f1\n",
    "            best_f1_model = model\n",
    "\n",
    "    val_acc = accuracy_score(y_pred , df_fold_val.label2)\n",
    "\n",
    "    f1_scores.append(f1)\n",
    "    val_scores.append(val_acc)\n",
    "    \n",
    "    run += 1"
   ]
  },
  {
   "cell_type": "code",
   "execution_count": 53,
   "metadata": {},
   "outputs": [
    {
     "output_type": "execute_result",
     "data": {
      "text/plain": [
       "0.67976440091392"
      ]
     },
     "metadata": {},
     "execution_count": 53
    }
   ],
   "source": [
    "np.array(f1_scores).mean()"
   ]
  },
  {
   "cell_type": "code",
   "execution_count": 54,
   "metadata": {},
   "outputs": [
    {
     "output_type": "execute_result",
     "data": {
      "text/plain": [
       "0.7469634509919394"
      ]
     },
     "metadata": {},
     "execution_count": 54
    }
   ],
   "source": [
    "np.array(val_scores).mean()"
   ]
  },
  {
   "cell_type": "code",
   "execution_count": 55,
   "metadata": {},
   "outputs": [],
   "source": [
    "# set model to the best f1 model\n",
    "model = best_f1_model"
   ]
  },
  {
   "cell_type": "markdown",
   "metadata": {},
   "source": [
    "## 4 Model evaluation"
   ]
  },
  {
   "cell_type": "code",
   "execution_count": 40,
   "metadata": {},
   "outputs": [],
   "source": [
    "# model = tf.keras.models.load_model(\"models/custom_0709_womasks.h5\", compile=True)"
   ]
  },
  {
   "cell_type": "code",
   "execution_count": 56,
   "metadata": {},
   "outputs": [
    {
     "output_type": "execute_result",
     "data": {
      "text/plain": [
       "                                                                                                        img  \\\n",
       "0  /home/daniel/dev/python/chest_x_ray/data/mooney/test/PNEUMONIA/person35_virus_80.jpeg                      \n",
       "1  /home/daniel/dev/python/chest_x_ray/data/mooney/test/PNEUMONIA/person1608_virus_2786.jpeg                  \n",
       "2  /home/daniel/dev/python/chest_x_ray/data/mooney/test/PNEUMONIA/person76_virus_138.jpeg                     \n",
       "3  /home/daniel/dev/python/chest_x_ray/data/covid-chestxray-dataset-0.41/output/radiol.2020200274.fig3d.png   \n",
       "4  /home/daniel/dev/python/chest_x_ray/data/mooney/test/PNEUMONIA/person78_virus_140.jpeg                     \n",
       "\n",
       "       label                      mask  label2   label3  \n",
       "0  PNEUMONIA  None                      1       -        \n",
       "1  PNEUMONIA  None                      1       -        \n",
       "2  PNEUMONIA  None                      1       -        \n",
       "3  PNEUMONIA  None/radiol_predmask.jpg  1       covid19  \n",
       "4  PNEUMONIA  None                      1       -        "
      ],
      "text/html": "<div>\n<style scoped>\n    .dataframe tbody tr th:only-of-type {\n        vertical-align: middle;\n    }\n\n    .dataframe tbody tr th {\n        vertical-align: top;\n    }\n\n    .dataframe thead th {\n        text-align: right;\n    }\n</style>\n<table border=\"1\" class=\"dataframe\">\n  <thead>\n    <tr style=\"text-align: right;\">\n      <th></th>\n      <th>img</th>\n      <th>label</th>\n      <th>mask</th>\n      <th>label2</th>\n      <th>label3</th>\n    </tr>\n  </thead>\n  <tbody>\n    <tr>\n      <th>0</th>\n      <td>/home/daniel/dev/python/chest_x_ray/data/mooney/test/PNEUMONIA/person35_virus_80.jpeg</td>\n      <td>PNEUMONIA</td>\n      <td>None</td>\n      <td>1</td>\n      <td>-</td>\n    </tr>\n    <tr>\n      <th>1</th>\n      <td>/home/daniel/dev/python/chest_x_ray/data/mooney/test/PNEUMONIA/person1608_virus_2786.jpeg</td>\n      <td>PNEUMONIA</td>\n      <td>None</td>\n      <td>1</td>\n      <td>-</td>\n    </tr>\n    <tr>\n      <th>2</th>\n      <td>/home/daniel/dev/python/chest_x_ray/data/mooney/test/PNEUMONIA/person76_virus_138.jpeg</td>\n      <td>PNEUMONIA</td>\n      <td>None</td>\n      <td>1</td>\n      <td>-</td>\n    </tr>\n    <tr>\n      <th>3</th>\n      <td>/home/daniel/dev/python/chest_x_ray/data/covid-chestxray-dataset-0.41/output/radiol.2020200274.fig3d.png</td>\n      <td>PNEUMONIA</td>\n      <td>None/radiol_predmask.jpg</td>\n      <td>1</td>\n      <td>covid19</td>\n    </tr>\n    <tr>\n      <th>4</th>\n      <td>/home/daniel/dev/python/chest_x_ray/data/mooney/test/PNEUMONIA/person78_virus_140.jpeg</td>\n      <td>PNEUMONIA</td>\n      <td>None</td>\n      <td>1</td>\n      <td>-</td>\n    </tr>\n  </tbody>\n</table>\n</div>"
     },
     "metadata": {},
     "execution_count": 56
    }
   ],
   "source": [
    "df_test.head()"
   ]
  },
  {
   "cell_type": "code",
   "execution_count": 57,
   "metadata": {
    "tags": []
   },
   "outputs": [],
   "source": [
    "test_generator = DataGenerator(df_test, False, IMG_SIZE, batch_size=32, shuffle=False, useMasks=USE_MASKS)"
   ]
  },
  {
   "cell_type": "code",
   "execution_count": 58,
   "metadata": {
    "tags": []
   },
   "outputs": [
    {
     "output_type": "execute_result",
     "data": {
      "text/plain": [
       "<matplotlib.image.AxesImage at 0x7f21d0073730>"
      ]
     },
     "metadata": {},
     "execution_count": 58
    },
    {
     "output_type": "display_data",
     "data": {
      "text/plain": "<Figure size 432x288 with 1 Axes>",
      "image/svg+xml": "<?xml version=\"1.0\" encoding=\"utf-8\" standalone=\"no\"?>\n<!DOCTYPE svg PUBLIC \"-//W3C//DTD SVG 1.1//EN\"\n  \"http://www.w3.org/Graphics/SVG/1.1/DTD/svg11.dtd\">\n<!-- Created with matplotlib (https://matplotlib.org/) -->\n<svg height=\"261.910273pt\" version=\"1.1\" viewBox=\"0 0 268.866641 261.910273\" width=\"268.866641pt\" xmlns=\"http://www.w3.org/2000/svg\" xmlns:xlink=\"http://www.w3.org/1999/xlink\">\n <metadata>\n  <rdf:RDF xmlns:cc=\"http://creativecommons.org/ns#\" xmlns:dc=\"http://purl.org/dc/elements/1.1/\" xmlns:rdf=\"http://www.w3.org/1999/02/22-rdf-syntax-ns#\">\n   <cc:Work>\n    <dc:type rdf:resource=\"http://purl.org/dc/dcmitype/StillImage\"/>\n    <dc:date>2021-01-27T18:31:27.599472</dc:date>\n    <dc:format>image/svg+xml</dc:format>\n    <dc:creator>\n     <cc:Agent>\n      <dc:title>Matplotlib v3.3.2, https://matplotlib.org/</dc:title>\n     </cc:Agent>\n    </dc:creator>\n   </cc:Work>\n  </rdf:RDF>\n </metadata>\n <defs>\n  <style type=\"text/css\">*{stroke-linecap:butt;stroke-linejoin:round;}</style>\n </defs>\n <g id=\"figure_1\">\n  <g id=\"patch_1\">\n   <path d=\"M 0 261.910273 \nL 268.866641 261.910273 \nL 268.866641 0 \nL 0 0 \nz\n\" style=\"fill:#ffffff;\"/>\n  </g>\n  <g id=\"axes_1\">\n   <g id=\"patch_2\">\n    <path d=\"M 44.226641 230.120508 \nL 261.666641 230.120508 \nL 261.666641 12.680508 \nL 44.226641 12.680508 \nz\n\" style=\"fill:#eaeaf2;\"/>\n   </g>\n   <g clip-path=\"url(#pcf27ab548e)\">\n    <image height=\"218\" id=\"image529427685d\" transform=\"scale(1 -1)translate(0 -218)\" width=\"218\" x=\"44.226641\" xlink:href=\"data:image/png;base64,\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\" y=\"-12.120508\"/>\n   </g>\n   <g id=\"matplotlib.axis_1\">\n    <g id=\"xtick_1\">\n     <g id=\"line2d_1\">\n      <path clip-path=\"url(#pcf27ab548e)\" d=\"M 44.651328 230.120508 \nL 44.651328 12.680508 \n\" style=\"fill:none;stroke:#ffffff;stroke-linecap:round;\"/>\n     </g>\n     <g id=\"text_1\">\n      <!-- 0 -->\n      <g style=\"fill:#262626;\" transform=\"translate(40.063555 251.430898)scale(0.165 -0.165)\">\n       <defs>\n        <path d=\"M 4.15625 35.296875 \nQ 4.15625 48 6.765625 55.734375 \nQ 9.375 63.484375 14.515625 67.671875 \nQ 19.671875 71.875 27.484375 71.875 \nQ 33.25 71.875 37.59375 69.546875 \nQ 41.9375 67.234375 44.765625 62.859375 \nQ 47.609375 58.5 49.21875 52.21875 \nQ 50.828125 45.953125 50.828125 35.296875 \nQ 50.828125 22.703125 48.234375 14.96875 \nQ 45.65625 7.234375 40.5 3 \nQ 35.359375 -1.21875 27.484375 -1.21875 \nQ 17.140625 -1.21875 11.234375 6.203125 \nQ 4.15625 15.140625 4.15625 35.296875 \nz\nM 13.1875 35.296875 \nQ 13.1875 17.671875 17.3125 11.828125 \nQ 21.4375 6 27.484375 6 \nQ 33.546875 6 37.671875 11.859375 \nQ 41.796875 17.71875 41.796875 35.296875 \nQ 41.796875 52.984375 37.671875 58.78125 \nQ 33.546875 64.59375 27.390625 64.59375 \nQ 21.34375 64.59375 17.71875 59.46875 \nQ 13.1875 52.9375 13.1875 35.296875 \nz\n\" id=\"ArialMT-48\"/>\n       </defs>\n       <use xlink:href=\"#ArialMT-48\"/>\n      </g>\n     </g>\n    </g>\n    <g id=\"xtick_2\">\n     <g id=\"line2d_2\">\n      <path clip-path=\"url(#pcf27ab548e)\" d=\"M 129.588828 230.120508 \nL 129.588828 12.680508 \n\" style=\"fill:none;stroke:#ffffff;stroke-linecap:round;\"/>\n     </g>\n     <g id=\"text_2\">\n      <!-- 100 -->\n      <g style=\"fill:#262626;\" transform=\"translate(115.825508 251.430898)scale(0.165 -0.165)\">\n       <defs>\n        <path d=\"M 37.25 0 \nL 28.46875 0 \nL 28.46875 56 \nQ 25.296875 52.984375 20.140625 49.953125 \nQ 14.984375 46.921875 10.890625 45.40625 \nL 10.890625 53.90625 \nQ 18.265625 57.375 23.78125 62.296875 \nQ 29.296875 67.234375 31.59375 71.875 \nL 37.25 71.875 \nz\n\" id=\"ArialMT-49\"/>\n       </defs>\n       <use xlink:href=\"#ArialMT-49\"/>\n       <use x=\"55.615234\" xlink:href=\"#ArialMT-48\"/>\n       <use x=\"111.230469\" xlink:href=\"#ArialMT-48\"/>\n      </g>\n     </g>\n    </g>\n    <g id=\"xtick_3\">\n     <g id=\"line2d_3\">\n      <path clip-path=\"url(#pcf27ab548e)\" d=\"M 214.526328 230.120508 \nL 214.526328 12.680508 \n\" style=\"fill:none;stroke:#ffffff;stroke-linecap:round;\"/>\n     </g>\n     <g id=\"text_3\">\n      <!-- 200 -->\n      <g style=\"fill:#262626;\" transform=\"translate(200.763008 251.430898)scale(0.165 -0.165)\">\n       <defs>\n        <path d=\"M 50.34375 8.453125 \nL 50.34375 0 \nL 3.03125 0 \nQ 2.9375 3.171875 4.046875 6.109375 \nQ 5.859375 10.9375 9.828125 15.625 \nQ 13.8125 20.3125 21.34375 26.46875 \nQ 33.015625 36.03125 37.109375 41.625 \nQ 41.21875 47.21875 41.21875 52.203125 \nQ 41.21875 57.421875 37.46875 61 \nQ 33.734375 64.59375 27.734375 64.59375 \nQ 21.390625 64.59375 17.578125 60.78125 \nQ 13.765625 56.984375 13.71875 50.25 \nL 4.6875 51.171875 \nQ 5.609375 61.28125 11.65625 66.578125 \nQ 17.71875 71.875 27.9375 71.875 \nQ 38.234375 71.875 44.234375 66.15625 \nQ 50.25 60.453125 50.25 52 \nQ 50.25 47.703125 48.484375 43.546875 \nQ 46.734375 39.40625 42.65625 34.8125 \nQ 38.578125 30.21875 29.109375 22.21875 \nQ 21.1875 15.578125 18.9375 13.203125 \nQ 16.703125 10.84375 15.234375 8.453125 \nz\n\" id=\"ArialMT-50\"/>\n       </defs>\n       <use xlink:href=\"#ArialMT-50\"/>\n       <use x=\"55.615234\" xlink:href=\"#ArialMT-48\"/>\n       <use x=\"111.230469\" xlink:href=\"#ArialMT-48\"/>\n      </g>\n     </g>\n    </g>\n   </g>\n   <g id=\"matplotlib.axis_2\">\n    <g id=\"ytick_1\">\n     <g id=\"line2d_4\">\n      <path clip-path=\"url(#pcf27ab548e)\" d=\"M 44.226641 13.105195 \nL 261.666641 13.105195 \n\" style=\"fill:none;stroke:#ffffff;stroke-linecap:round;\"/>\n     </g>\n     <g id=\"text_4\">\n      <!-- 0 -->\n      <g style=\"fill:#262626;\" transform=\"translate(25.551094 19.010391)scale(0.165 -0.165)\">\n       <use xlink:href=\"#ArialMT-48\"/>\n      </g>\n     </g>\n    </g>\n    <g id=\"ytick_2\">\n     <g id=\"line2d_5\">\n      <path clip-path=\"url(#pcf27ab548e)\" d=\"M 44.226641 55.573945 \nL 261.666641 55.573945 \n\" style=\"fill:none;stroke:#ffffff;stroke-linecap:round;\"/>\n     </g>\n     <g id=\"text_5\">\n      <!-- 50 -->\n      <g style=\"fill:#262626;\" transform=\"translate(16.375547 61.479141)scale(0.165 -0.165)\">\n       <defs>\n        <path d=\"M 4.15625 18.75 \nL 13.375 19.53125 \nQ 14.40625 12.796875 18.140625 9.390625 \nQ 21.875 6 27.15625 6 \nQ 33.5 6 37.890625 10.78125 \nQ 42.28125 15.578125 42.28125 23.484375 \nQ 42.28125 31 38.0625 35.34375 \nQ 33.84375 39.703125 27 39.703125 \nQ 22.75 39.703125 19.328125 37.765625 \nQ 15.921875 35.84375 13.96875 32.765625 \nL 5.71875 33.84375 \nL 12.640625 70.609375 \nL 48.25 70.609375 \nL 48.25 62.203125 \nL 19.671875 62.203125 \nL 15.828125 42.96875 \nQ 22.265625 47.46875 29.34375 47.46875 \nQ 38.71875 47.46875 45.15625 40.96875 \nQ 51.609375 34.46875 51.609375 24.265625 \nQ 51.609375 14.546875 45.953125 7.46875 \nQ 39.0625 -1.21875 27.15625 -1.21875 \nQ 17.390625 -1.21875 11.203125 4.25 \nQ 5.03125 9.71875 4.15625 18.75 \nz\n\" id=\"ArialMT-53\"/>\n       </defs>\n       <use xlink:href=\"#ArialMT-53\"/>\n       <use x=\"55.615234\" xlink:href=\"#ArialMT-48\"/>\n      </g>\n     </g>\n    </g>\n    <g id=\"ytick_3\">\n     <g id=\"line2d_6\">\n      <path clip-path=\"url(#pcf27ab548e)\" d=\"M 44.226641 98.042695 \nL 261.666641 98.042695 \n\" style=\"fill:none;stroke:#ffffff;stroke-linecap:round;\"/>\n     </g>\n     <g id=\"text_6\">\n      <!-- 100 -->\n      <g style=\"fill:#262626;\" transform=\"translate(7.2 103.947891)scale(0.165 -0.165)\">\n       <use xlink:href=\"#ArialMT-49\"/>\n       <use x=\"55.615234\" xlink:href=\"#ArialMT-48\"/>\n       <use x=\"111.230469\" xlink:href=\"#ArialMT-48\"/>\n      </g>\n     </g>\n    </g>\n    <g id=\"ytick_4\">\n     <g id=\"line2d_7\">\n      <path clip-path=\"url(#pcf27ab548e)\" d=\"M 44.226641 140.511445 \nL 261.666641 140.511445 \n\" style=\"fill:none;stroke:#ffffff;stroke-linecap:round;\"/>\n     </g>\n     <g id=\"text_7\">\n      <!-- 150 -->\n      <g style=\"fill:#262626;\" transform=\"translate(7.2 146.416641)scale(0.165 -0.165)\">\n       <use xlink:href=\"#ArialMT-49\"/>\n       <use x=\"55.615234\" xlink:href=\"#ArialMT-53\"/>\n       <use x=\"111.230469\" xlink:href=\"#ArialMT-48\"/>\n      </g>\n     </g>\n    </g>\n    <g id=\"ytick_5\">\n     <g id=\"line2d_8\">\n      <path clip-path=\"url(#pcf27ab548e)\" d=\"M 44.226641 182.980195 \nL 261.666641 182.980195 \n\" style=\"fill:none;stroke:#ffffff;stroke-linecap:round;\"/>\n     </g>\n     <g id=\"text_8\">\n      <!-- 200 -->\n      <g style=\"fill:#262626;\" transform=\"translate(7.2 188.885391)scale(0.165 -0.165)\">\n       <use xlink:href=\"#ArialMT-50\"/>\n       <use x=\"55.615234\" xlink:href=\"#ArialMT-48\"/>\n       <use x=\"111.230469\" xlink:href=\"#ArialMT-48\"/>\n      </g>\n     </g>\n    </g>\n    <g id=\"ytick_6\">\n     <g id=\"line2d_9\">\n      <path clip-path=\"url(#pcf27ab548e)\" d=\"M 44.226641 225.448945 \nL 261.666641 225.448945 \n\" style=\"fill:none;stroke:#ffffff;stroke-linecap:round;\"/>\n     </g>\n     <g id=\"text_9\">\n      <!-- 250 -->\n      <g style=\"fill:#262626;\" transform=\"translate(7.2 231.354141)scale(0.165 -0.165)\">\n       <use xlink:href=\"#ArialMT-50\"/>\n       <use x=\"55.615234\" xlink:href=\"#ArialMT-53\"/>\n       <use x=\"111.230469\" xlink:href=\"#ArialMT-48\"/>\n      </g>\n     </g>\n    </g>\n   </g>\n   <g id=\"patch_3\">\n    <path d=\"M 44.226641 230.120508 \nL 44.226641 12.680508 \n\" style=\"fill:none;stroke:#ffffff;stroke-linecap:square;stroke-linejoin:miter;stroke-width:1.25;\"/>\n   </g>\n   <g id=\"patch_4\">\n    <path d=\"M 261.666641 230.120508 \nL 261.666641 12.680508 \n\" style=\"fill:none;stroke:#ffffff;stroke-linecap:square;stroke-linejoin:miter;stroke-width:1.25;\"/>\n   </g>\n   <g id=\"patch_5\">\n    <path d=\"M 44.226641 230.120508 \nL 261.666641 230.120508 \n\" style=\"fill:none;stroke:#ffffff;stroke-linecap:square;stroke-linejoin:miter;stroke-width:1.25;\"/>\n   </g>\n   <g id=\"patch_6\">\n    <path d=\"M 44.226641 12.680508 \nL 261.666641 12.680508 \n\" style=\"fill:none;stroke:#ffffff;stroke-linecap:square;stroke-linejoin:miter;stroke-width:1.25;\"/>\n   </g>\n  </g>\n </g>\n <defs>\n  <clipPath id=\"pcf27ab548e\">\n   <rect height=\"217.44\" width=\"217.44\" x=\"44.226641\" y=\"12.680508\"/>\n  </clipPath>\n </defs>\n</svg>\n",
      "image/png": "[encoded data removed]"
     },
     "metadata": {}
    }
   ],
   "source": [
    "plt.imshow(test_generator.__getitem__(0)[0][0][:,:,0], cmap=\"gray\")"
   ]
  },
  {
   "cell_type": "code",
   "execution_count": 59,
   "metadata": {
    "tags": []
   },
   "outputs": [
    {
     "output_type": "stream",
     "name": "stdout",
     "text": [
      "14/14 [==============================] - 2s 108ms/step - loss: 0.3020 - accuracy: 0.8977\n"
     ]
    },
    {
     "output_type": "execute_result",
     "data": {
      "text/plain": [
       "[0.3020165264606476, 0.8976744413375854]"
      ]
     },
     "metadata": {},
     "execution_count": 59
    }
   ],
   "source": [
    "model.evaluate(test_generator)"
   ]
  },
  {
   "cell_type": "code",
   "execution_count": 60,
   "metadata": {
    "tags": []
   },
   "outputs": [
    {
     "output_type": "stream",
     "name": "stdout",
     "text": [
      "Test viral cases:  242\nTest bacteria cases:  188\n"
     ]
    }
   ],
   "source": [
    "print(\"Test viral cases: \", len(df_test[df_test['label2'] == 0]))\n",
    "print(\"Test bacteria cases: \", len(df_test[df_test['label2'] == 1]))"
   ]
  },
  {
   "cell_type": "markdown",
   "metadata": {},
   "source": [
    "## Detail eval"
   ]
  },
  {
   "cell_type": "code",
   "execution_count": 61,
   "metadata": {
    "tags": []
   },
   "outputs": [],
   "source": [
    "predictions = model.predict(test_generator)"
   ]
  },
  {
   "cell_type": "code",
   "execution_count": 62,
   "metadata": {
    "tags": []
   },
   "outputs": [],
   "source": [
    "y_true = test_generator.df.label2 # we can do this since we do not shuffle in test_generator ;)\n",
    "y_pred = predictions > 0.5"
   ]
  },
  {
   "cell_type": "code",
   "execution_count": 63,
   "metadata": {},
   "outputs": [],
   "source": [
    "y_pred_classes = []\n",
    "\n",
    "for x in y_pred:\n",
    "    if x == 0:\n",
    "        y_pred_classes.append(\"bacterial\")\n",
    "    else:\n",
    "        y_pred_classes.append(\"viral\")"
   ]
  },
  {
   "cell_type": "code",
   "execution_count": 64,
   "metadata": {},
   "outputs": [],
   "source": [
    "y_true_classes = []\n",
    "\n",
    "for x in y_true:\n",
    "    if x == 0:\n",
    "        y_true_classes.append(\"bacterial\")\n",
    "    else:\n",
    "        y_true_classes.append(\"viral\")"
   ]
  },
  {
   "cell_type": "code",
   "execution_count": 65,
   "metadata": {
    "tags": []
   },
   "outputs": [
    {
     "output_type": "stream",
     "name": "stdout",
     "text": [
      "[[223  19]\n [ 25 163]]\n"
     ]
    }
   ],
   "source": [
    "cm = confusion_matrix(y_true, y_pred)\n",
    "print(cm)"
   ]
  },
  {
   "cell_type": "code",
   "execution_count": 66,
   "metadata": {
    "tags": []
   },
   "outputs": [
    {
     "output_type": "stream",
     "name": "stdout",
     "text": [
      "              precision    recall  f1-score   support\n\n   bacterial       0.90      0.92      0.91       242\n       viral       0.90      0.87      0.88       188\n\n    accuracy                           0.90       430\n   macro avg       0.90      0.89      0.90       430\nweighted avg       0.90      0.90      0.90       430\n\n"
     ]
    }
   ],
   "source": [
    "report = classification_report(y_true_classes, y_pred_classes) #, target_names=[\"NORMAL\", \"PNEUMONIA\"])\n",
    "print(report)"
   ]
  },
  {
   "cell_type": "code",
   "execution_count": 67,
   "metadata": {},
   "outputs": [
    {
     "output_type": "display_data",
     "data": {
      "text/plain": "<Figure size 432x288 with 2 Axes>",
      "image/svg+xml": "<?xml version=\"1.0\" encoding=\"utf-8\" standalone=\"no\"?>\n<!DOCTYPE svg PUBLIC \"-//W3C//DTD SVG 1.1//EN\"\n  \"http://www.w3.org/Graphics/SVG/1.1/DTD/svg11.dtd\">\n<!-- Created with matplotlib (https://matplotlib.org/) -->\n<svg height=\"295.994766pt\" version=\"1.1\" viewBox=\"0 0 391.929969 295.994766\" width=\"391.929969pt\" xmlns=\"http://www.w3.org/2000/svg\" xmlns:xlink=\"http://www.w3.org/1999/xlink\">\n <metadata>\n  <rdf:RDF xmlns:cc=\"http://creativecommons.org/ns#\" xmlns:dc=\"http://purl.org/dc/elements/1.1/\" xmlns:rdf=\"http://www.w3.org/1999/02/22-rdf-syntax-ns#\">\n   <cc:Work>\n    <dc:type rdf:resource=\"http://purl.org/dc/dcmitype/StillImage\"/>\n    <dc:date>2021-01-27T18:31:42.386382</dc:date>\n    <dc:format>image/svg+xml</dc:format>\n    <dc:creator>\n     <cc:Agent>\n      <dc:title>Matplotlib v3.3.2, https://matplotlib.org/</dc:title>\n     </cc:Agent>\n    </dc:creator>\n   </cc:Work>\n  </rdf:RDF>\n </metadata>\n <defs>\n  <style type=\"text/css\">*{stroke-linecap:butt;stroke-linejoin:round;}</style>\n </defs>\n <g id=\"figure_1\">\n  <g id=\"patch_1\">\n   <path d=\"M -0 295.994766 \nL 391.929969 295.994766 \nL 391.929969 0 \nL -0 0 \nz\n\" style=\"fill:#ffffff;\"/>\n  </g>\n  <g id=\"axes_1\">\n   <g id=\"patch_2\">\n    <path d=\"M 52.251328 243.743437 \nL 320.091328 243.743437 \nL 320.091328 26.303437 \nL 52.251328 26.303437 \nz\n\" style=\"fill:#eaeaf2;\"/>\n   </g>\n   <g id=\"matplotlib.axis_1\">\n    <g id=\"xtick_1\">\n     <g id=\"text_1\">\n      <!-- Normal -->\n      <g style=\"fill:#262626;\" transform=\"translate(92.625703 265.053828)scale(0.165 -0.165)\">\n       <defs>\n        <path d=\"M 7.625 0 \nL 7.625 71.578125 \nL 17.328125 71.578125 \nL 54.9375 15.375 \nL 54.9375 71.578125 \nL 64.015625 71.578125 \nL 64.015625 0 \nL 54.296875 0 \nL 16.703125 56.25 \nL 16.703125 0 \nz\n\" id=\"ArialMT-78\"/>\n        <path d=\"M 3.328125 25.921875 \nQ 3.328125 40.328125 11.328125 47.265625 \nQ 18.015625 53.03125 27.640625 53.03125 \nQ 38.328125 53.03125 45.109375 46.015625 \nQ 51.90625 39.015625 51.90625 26.65625 \nQ 51.90625 16.65625 48.90625 10.90625 \nQ 45.90625 5.171875 40.15625 2 \nQ 34.421875 -1.171875 27.640625 -1.171875 \nQ 16.75 -1.171875 10.03125 5.8125 \nQ 3.328125 12.796875 3.328125 25.921875 \nz\nM 12.359375 25.921875 \nQ 12.359375 15.96875 16.703125 11.015625 \nQ 21.046875 6.0625 27.640625 6.0625 \nQ 34.1875 6.0625 38.53125 11.03125 \nQ 42.875 16.015625 42.875 26.21875 \nQ 42.875 35.84375 38.5 40.796875 \nQ 34.125 45.75 27.640625 45.75 \nQ 21.046875 45.75 16.703125 40.8125 \nQ 12.359375 35.890625 12.359375 25.921875 \nz\n\" id=\"ArialMT-111\"/>\n        <path d=\"M 6.5 0 \nL 6.5 51.859375 \nL 14.40625 51.859375 \nL 14.40625 44 \nQ 17.4375 49.515625 20 51.265625 \nQ 22.5625 53.03125 25.640625 53.03125 \nQ 30.078125 53.03125 34.671875 50.203125 \nL 31.640625 42.046875 \nQ 28.421875 43.953125 25.203125 43.953125 \nQ 22.3125 43.953125 20.015625 42.21875 \nQ 17.71875 40.484375 16.75 37.40625 \nQ 15.28125 32.71875 15.28125 27.15625 \nL 15.28125 0 \nz\n\" id=\"ArialMT-114\"/>\n        <path d=\"M 6.59375 0 \nL 6.59375 51.859375 \nL 14.453125 51.859375 \nL 14.453125 44.578125 \nQ 16.890625 48.390625 20.9375 50.703125 \nQ 25 53.03125 30.171875 53.03125 \nQ 35.9375 53.03125 39.625 50.640625 \nQ 43.3125 48.25 44.828125 43.953125 \nQ 50.984375 53.03125 60.84375 53.03125 \nQ 68.5625 53.03125 72.703125 48.75 \nQ 76.859375 44.484375 76.859375 35.59375 \nL 76.859375 0 \nL 68.109375 0 \nL 68.109375 32.671875 \nQ 68.109375 37.9375 67.25 40.25 \nQ 66.40625 42.578125 64.15625 43.984375 \nQ 61.921875 45.40625 58.890625 45.40625 \nQ 53.421875 45.40625 49.796875 41.765625 \nQ 46.1875 38.140625 46.1875 30.125 \nL 46.1875 0 \nL 37.40625 0 \nL 37.40625 33.6875 \nQ 37.40625 39.546875 35.25 42.46875 \nQ 33.109375 45.40625 28.21875 45.40625 \nQ 24.515625 45.40625 21.359375 43.453125 \nQ 18.21875 41.5 16.796875 37.734375 \nQ 15.375 33.984375 15.375 26.90625 \nL 15.375 0 \nz\n\" id=\"ArialMT-109\"/>\n        <path d=\"M 40.4375 6.390625 \nQ 35.546875 2.25 31.03125 0.53125 \nQ 26.515625 -1.171875 21.34375 -1.171875 \nQ 12.796875 -1.171875 8.203125 3 \nQ 3.609375 7.171875 3.609375 13.671875 \nQ 3.609375 17.484375 5.34375 20.625 \nQ 7.078125 23.78125 9.890625 25.6875 \nQ 12.703125 27.59375 16.21875 28.5625 \nQ 18.796875 29.25 24.03125 29.890625 \nQ 34.671875 31.15625 39.703125 32.90625 \nQ 39.75 34.71875 39.75 35.203125 \nQ 39.75 40.578125 37.25 42.78125 \nQ 33.890625 45.75 27.25 45.75 \nQ 21.046875 45.75 18.09375 43.578125 \nQ 15.140625 41.40625 13.71875 35.890625 \nL 5.125 37.0625 \nQ 6.296875 42.578125 8.984375 45.96875 \nQ 11.671875 49.359375 16.75 51.1875 \nQ 21.828125 53.03125 28.515625 53.03125 \nQ 35.15625 53.03125 39.296875 51.46875 \nQ 43.453125 49.90625 45.40625 47.53125 \nQ 47.359375 45.171875 48.140625 41.546875 \nQ 48.578125 39.3125 48.578125 33.453125 \nL 48.578125 21.734375 \nQ 48.578125 9.46875 49.140625 6.21875 \nQ 49.703125 2.984375 51.375 0 \nL 42.1875 0 \nQ 40.828125 2.734375 40.4375 6.390625 \nz\nM 39.703125 26.03125 \nQ 34.90625 24.078125 25.34375 22.703125 \nQ 19.921875 21.921875 17.671875 20.9375 \nQ 15.4375 19.96875 14.203125 18.09375 \nQ 12.984375 16.21875 12.984375 13.921875 \nQ 12.984375 10.40625 15.640625 8.0625 \nQ 18.3125 5.71875 23.4375 5.71875 \nQ 28.515625 5.71875 32.46875 7.9375 \nQ 36.421875 10.15625 38.28125 14.015625 \nQ 39.703125 17 39.703125 22.796875 \nz\n\" id=\"ArialMT-97\"/>\n        <path d=\"M 6.390625 0 \nL 6.390625 71.578125 \nL 15.1875 71.578125 \nL 15.1875 0 \nz\n\" id=\"ArialMT-108\"/>\n       </defs>\n       <use xlink:href=\"#ArialMT-78\"/>\n       <use x=\"72.216797\" xlink:href=\"#ArialMT-111\"/>\n       <use x=\"127.832031\" xlink:href=\"#ArialMT-114\"/>\n       <use x=\"161.132812\" xlink:href=\"#ArialMT-109\"/>\n       <use x=\"244.433594\" xlink:href=\"#ArialMT-97\"/>\n       <use x=\"300.048828\" xlink:href=\"#ArialMT-108\"/>\n      </g>\n     </g>\n    </g>\n    <g id=\"xtick_2\">\n     <g id=\"text_2\">\n      <!-- Pneumonia -->\n      <g style=\"fill:#262626;\" transform=\"translate(211.396641 265.053828)scale(0.165 -0.165)\">\n       <defs>\n        <path d=\"M 7.71875 0 \nL 7.71875 71.578125 \nL 34.71875 71.578125 \nQ 41.84375 71.578125 45.609375 70.90625 \nQ 50.875 70.015625 54.4375 67.546875 \nQ 58.015625 65.09375 60.1875 60.640625 \nQ 62.359375 56.203125 62.359375 50.875 \nQ 62.359375 41.75 56.546875 35.421875 \nQ 50.734375 29.109375 35.546875 29.109375 \nL 17.1875 29.109375 \nL 17.1875 0 \nz\nM 17.1875 37.546875 \nL 35.6875 37.546875 \nQ 44.875 37.546875 48.734375 40.96875 \nQ 52.59375 44.390625 52.59375 50.59375 \nQ 52.59375 55.078125 50.3125 58.265625 \nQ 48.046875 61.46875 44.34375 62.5 \nQ 41.9375 63.140625 35.5 63.140625 \nL 17.1875 63.140625 \nz\n\" id=\"ArialMT-80\"/>\n        <path d=\"M 6.59375 0 \nL 6.59375 51.859375 \nL 14.5 51.859375 \nL 14.5 44.484375 \nQ 20.21875 53.03125 31 53.03125 \nQ 35.6875 53.03125 39.625 51.34375 \nQ 43.5625 49.65625 45.515625 46.921875 \nQ 47.46875 44.1875 48.25 40.4375 \nQ 48.734375 37.984375 48.734375 31.890625 \nL 48.734375 0 \nL 39.9375 0 \nL 39.9375 31.546875 \nQ 39.9375 36.921875 38.90625 39.578125 \nQ 37.890625 42.234375 35.28125 43.8125 \nQ 32.671875 45.40625 29.15625 45.40625 \nQ 23.53125 45.40625 19.453125 41.84375 \nQ 15.375 38.28125 15.375 28.328125 \nL 15.375 0 \nz\n\" id=\"ArialMT-110\"/>\n        <path d=\"M 42.09375 16.703125 \nL 51.171875 15.578125 \nQ 49.03125 7.625 43.21875 3.21875 \nQ 37.40625 -1.171875 28.375 -1.171875 \nQ 17 -1.171875 10.328125 5.828125 \nQ 3.65625 12.84375 3.65625 25.484375 \nQ 3.65625 38.578125 10.390625 45.796875 \nQ 17.140625 53.03125 27.875 53.03125 \nQ 38.28125 53.03125 44.875 45.953125 \nQ 51.46875 38.875 51.46875 26.03125 \nQ 51.46875 25.25 51.421875 23.6875 \nL 12.75 23.6875 \nQ 13.234375 15.140625 17.578125 10.59375 \nQ 21.921875 6.0625 28.421875 6.0625 \nQ 33.25 6.0625 36.671875 8.59375 \nQ 40.09375 11.140625 42.09375 16.703125 \nz\nM 13.234375 30.90625 \nL 42.1875 30.90625 \nQ 41.609375 37.453125 38.875 40.71875 \nQ 34.671875 45.796875 27.984375 45.796875 \nQ 21.921875 45.796875 17.796875 41.75 \nQ 13.671875 37.703125 13.234375 30.90625 \nz\n\" id=\"ArialMT-101\"/>\n        <path d=\"M 40.578125 0 \nL 40.578125 7.625 \nQ 34.515625 -1.171875 24.125 -1.171875 \nQ 19.53125 -1.171875 15.546875 0.578125 \nQ 11.578125 2.34375 9.640625 5 \nQ 7.71875 7.671875 6.9375 11.53125 \nQ 6.390625 14.109375 6.390625 19.734375 \nL 6.390625 51.859375 \nL 15.1875 51.859375 \nL 15.1875 23.09375 \nQ 15.1875 16.21875 15.71875 13.8125 \nQ 16.546875 10.359375 19.234375 8.375 \nQ 21.921875 6.390625 25.875 6.390625 \nQ 29.828125 6.390625 33.296875 8.421875 \nQ 36.765625 10.453125 38.203125 13.9375 \nQ 39.65625 17.4375 39.65625 24.078125 \nL 39.65625 51.859375 \nL 48.4375 51.859375 \nL 48.4375 0 \nz\n\" id=\"ArialMT-117\"/>\n        <path d=\"M 6.640625 61.46875 \nL 6.640625 71.578125 \nL 15.4375 71.578125 \nL 15.4375 61.46875 \nz\nM 6.640625 0 \nL 6.640625 51.859375 \nL 15.4375 51.859375 \nL 15.4375 0 \nz\n\" id=\"ArialMT-105\"/>\n       </defs>\n       <use xlink:href=\"#ArialMT-80\"/>\n       <use x=\"66.699219\" xlink:href=\"#ArialMT-110\"/>\n       <use x=\"122.314453\" xlink:href=\"#ArialMT-101\"/>\n       <use x=\"177.929688\" xlink:href=\"#ArialMT-117\"/>\n       <use x=\"233.544922\" xlink:href=\"#ArialMT-109\"/>\n       <use x=\"316.845703\" xlink:href=\"#ArialMT-111\"/>\n       <use x=\"372.460938\" xlink:href=\"#ArialMT-110\"/>\n       <use x=\"428.076172\" xlink:href=\"#ArialMT-105\"/>\n       <use x=\"450.292969\" xlink:href=\"#ArialMT-97\"/>\n      </g>\n     </g>\n    </g>\n    <g id=\"text_3\">\n     <!-- Predicted -->\n     <g style=\"fill:#262626;\" transform=\"translate(148.151953 285.217266)scale(0.18 -0.18)\">\n      <defs>\n       <path d=\"M 40.234375 0 \nL 40.234375 6.546875 \nQ 35.296875 -1.171875 25.734375 -1.171875 \nQ 19.53125 -1.171875 14.328125 2.25 \nQ 9.125 5.671875 6.265625 11.796875 \nQ 3.421875 17.921875 3.421875 25.875 \nQ 3.421875 33.640625 6 39.96875 \nQ 8.59375 46.296875 13.765625 49.65625 \nQ 18.953125 53.03125 25.34375 53.03125 \nQ 30.03125 53.03125 33.6875 51.046875 \nQ 37.359375 49.078125 39.65625 45.90625 \nL 39.65625 71.578125 \nL 48.390625 71.578125 \nL 48.390625 0 \nz\nM 12.453125 25.875 \nQ 12.453125 15.921875 16.640625 10.984375 \nQ 20.84375 6.0625 26.5625 6.0625 \nQ 32.328125 6.0625 36.34375 10.765625 \nQ 40.375 15.484375 40.375 25.140625 \nQ 40.375 35.796875 36.265625 40.765625 \nQ 32.171875 45.75 26.171875 45.75 \nQ 20.3125 45.75 16.375 40.96875 \nQ 12.453125 36.1875 12.453125 25.875 \nz\n\" id=\"ArialMT-100\"/>\n       <path d=\"M 40.4375 19 \nL 49.078125 17.875 \nQ 47.65625 8.9375 41.8125 3.875 \nQ 35.984375 -1.171875 27.484375 -1.171875 \nQ 16.84375 -1.171875 10.375 5.78125 \nQ 3.90625 12.75 3.90625 25.734375 \nQ 3.90625 34.125 6.6875 40.421875 \nQ 9.46875 46.734375 15.15625 49.875 \nQ 20.84375 53.03125 27.546875 53.03125 \nQ 35.984375 53.03125 41.359375 48.75 \nQ 46.734375 44.484375 48.25 36.625 \nL 39.703125 35.296875 \nQ 38.484375 40.53125 35.375 43.15625 \nQ 32.28125 45.796875 27.875 45.796875 \nQ 21.234375 45.796875 17.078125 41.03125 \nQ 12.9375 36.28125 12.9375 25.984375 \nQ 12.9375 15.53125 16.9375 10.796875 \nQ 20.953125 6.0625 27.390625 6.0625 \nQ 32.5625 6.0625 36.03125 9.234375 \nQ 39.5 12.40625 40.4375 19 \nz\n\" id=\"ArialMT-99\"/>\n       <path d=\"M 25.78125 7.859375 \nL 27.046875 0.09375 \nQ 23.34375 -0.6875 20.40625 -0.6875 \nQ 15.625 -0.6875 12.984375 0.828125 \nQ 10.359375 2.34375 9.28125 4.8125 \nQ 8.203125 7.28125 8.203125 15.1875 \nL 8.203125 45.015625 \nL 1.765625 45.015625 \nL 1.765625 51.859375 \nL 8.203125 51.859375 \nL 8.203125 64.703125 \nL 16.9375 69.96875 \nL 16.9375 51.859375 \nL 25.78125 51.859375 \nL 25.78125 45.015625 \nL 16.9375 45.015625 \nL 16.9375 14.703125 \nQ 16.9375 10.9375 17.40625 9.859375 \nQ 17.875 8.796875 18.921875 8.15625 \nQ 19.96875 7.515625 21.921875 7.515625 \nQ 23.390625 7.515625 25.78125 7.859375 \nz\n\" id=\"ArialMT-116\"/>\n      </defs>\n      <use xlink:href=\"#ArialMT-80\"/>\n      <use x=\"66.699219\" xlink:href=\"#ArialMT-114\"/>\n      <use x=\"100\" xlink:href=\"#ArialMT-101\"/>\n      <use x=\"155.615234\" xlink:href=\"#ArialMT-100\"/>\n      <use x=\"211.230469\" xlink:href=\"#ArialMT-105\"/>\n      <use x=\"233.447266\" xlink:href=\"#ArialMT-99\"/>\n      <use x=\"283.447266\" xlink:href=\"#ArialMT-116\"/>\n      <use x=\"311.230469\" xlink:href=\"#ArialMT-101\"/>\n      <use x=\"366.845703\" xlink:href=\"#ArialMT-100\"/>\n     </g>\n    </g>\n   </g>\n   <g id=\"matplotlib.axis_2\">\n    <g id=\"ytick_1\">\n     <g id=\"text_4\">\n      <!-- Normal -->\n      <g style=\"fill:#262626;\" transform=\"translate(39.471953 127.929492)rotate(-90)scale(0.165 -0.165)\">\n       <use xlink:href=\"#ArialMT-78\"/>\n       <use x=\"72.216797\" xlink:href=\"#ArialMT-111\"/>\n       <use x=\"127.832031\" xlink:href=\"#ArialMT-114\"/>\n       <use x=\"161.132812\" xlink:href=\"#ArialMT-109\"/>\n       <use x=\"244.433594\" xlink:href=\"#ArialMT-97\"/>\n       <use x=\"300.048828\" xlink:href=\"#ArialMT-108\"/>\n      </g>\n     </g>\n    </g>\n    <g id=\"ytick_2\">\n     <g id=\"text_5\">\n      <!-- Pneumonia -->\n      <g style=\"fill:#262626;\" transform=\"translate(39.471953 266.947617)rotate(-90)scale(0.165 -0.165)\">\n       <use xlink:href=\"#ArialMT-80\"/>\n       <use x=\"66.699219\" xlink:href=\"#ArialMT-110\"/>\n       <use x=\"122.314453\" xlink:href=\"#ArialMT-101\"/>\n       <use x=\"177.929688\" xlink:href=\"#ArialMT-117\"/>\n       <use x=\"233.544922\" xlink:href=\"#ArialMT-109\"/>\n       <use x=\"316.845703\" xlink:href=\"#ArialMT-111\"/>\n       <use x=\"372.460938\" xlink:href=\"#ArialMT-110\"/>\n       <use x=\"428.076172\" xlink:href=\"#ArialMT-105\"/>\n       <use x=\"450.292969\" xlink:href=\"#ArialMT-97\"/>\n      </g>\n     </g>\n    </g>\n    <g id=\"text_6\">\n     <!-- True -->\n     <g style=\"fill:#262626;\" transform=\"translate(20.084063 153.189375)rotate(-90)scale(0.18 -0.18)\">\n      <defs>\n       <path d=\"M 25.921875 0 \nL 25.921875 63.140625 \nL 2.34375 63.140625 \nL 2.34375 71.578125 \nL 59.078125 71.578125 \nL 59.078125 63.140625 \nL 35.40625 63.140625 \nL 35.40625 0 \nz\n\" id=\"ArialMT-84\"/>\n      </defs>\n      <use xlink:href=\"#ArialMT-84\"/>\n      <use x=\"57.333984\" xlink:href=\"#ArialMT-114\"/>\n      <use x=\"90.634766\" xlink:href=\"#ArialMT-117\"/>\n      <use x=\"146.25\" xlink:href=\"#ArialMT-101\"/>\n     </g>\n    </g>\n   </g>\n   <g id=\"QuadMesh_1\">\n    <path clip-path=\"url(#pdcbd413434)\" d=\"M 52.251328 26.303437 \nL 186.171328 26.303437 \nL 186.171328 135.023437 \nL 52.251328 135.023437 \nL 52.251328 26.303437 \n\" style=\"fill:#08306b;\"/>\n    <path clip-path=\"url(#pdcbd413434)\" d=\"M 186.171328 26.303437 \nL 320.091328 26.303437 \nL 320.091328 135.023437 \nL 186.171328 135.023437 \nL 186.171328 26.303437 \n\" style=\"fill:#f7fbff;\"/>\n    <path clip-path=\"url(#pdcbd413434)\" d=\"M 52.251328 135.023437 \nL 186.171328 135.023437 \nL 186.171328 243.743437 \nL 52.251328 243.743437 \nL 52.251328 135.023437 \n\" style=\"fill:#f2f7fd;\"/>\n    <path clip-path=\"url(#pdcbd413434)\" d=\"M 186.171328 135.023437 \nL 320.091328 135.023437 \nL 320.091328 243.743437 \nL 186.171328 243.743437 \nL 186.171328 135.023437 \n\" style=\"fill:#2d7dbb;\"/>\n   </g>\n   <g id=\"text_7\">\n    <!-- 223 -->\n    <g style=\"fill:#ffffff;\" transform=\"translate(104.196797 85.316719)scale(0.18 -0.18)\">\n     <defs>\n      <path d=\"M 50.34375 8.453125 \nL 50.34375 0 \nL 3.03125 0 \nQ 2.9375 3.171875 4.046875 6.109375 \nQ 5.859375 10.9375 9.828125 15.625 \nQ 13.8125 20.3125 21.34375 26.46875 \nQ 33.015625 36.03125 37.109375 41.625 \nQ 41.21875 47.21875 41.21875 52.203125 \nQ 41.21875 57.421875 37.46875 61 \nQ 33.734375 64.59375 27.734375 64.59375 \nQ 21.390625 64.59375 17.578125 60.78125 \nQ 13.765625 56.984375 13.71875 50.25 \nL 4.6875 51.171875 \nQ 5.609375 61.28125 11.65625 66.578125 \nQ 17.71875 71.875 27.9375 71.875 \nQ 38.234375 71.875 44.234375 66.15625 \nQ 50.25 60.453125 50.25 52 \nQ 50.25 47.703125 48.484375 43.546875 \nQ 46.734375 39.40625 42.65625 34.8125 \nQ 38.578125 30.21875 29.109375 22.21875 \nQ 21.1875 15.578125 18.9375 13.203125 \nQ 16.703125 10.84375 15.234375 8.453125 \nz\n\" id=\"ArialMT-50\"/>\n      <path d=\"M 4.203125 18.890625 \nL 12.984375 20.0625 \nQ 14.5 12.59375 18.140625 9.296875 \nQ 21.78125 6 27 6 \nQ 33.203125 6 37.46875 10.296875 \nQ 41.75 14.59375 41.75 20.953125 \nQ 41.75 27 37.796875 30.921875 \nQ 33.84375 34.859375 27.734375 34.859375 \nQ 25.25 34.859375 21.53125 33.890625 \nL 22.515625 41.609375 \nQ 23.390625 41.5 23.921875 41.5 \nQ 29.546875 41.5 34.03125 44.421875 \nQ 38.53125 47.359375 38.53125 53.46875 \nQ 38.53125 58.296875 35.25 61.46875 \nQ 31.984375 64.65625 26.8125 64.65625 \nQ 21.6875 64.65625 18.265625 61.421875 \nQ 14.84375 58.203125 13.875 51.765625 \nL 5.078125 53.328125 \nQ 6.6875 62.15625 12.390625 67.015625 \nQ 18.109375 71.875 26.609375 71.875 \nQ 32.46875 71.875 37.390625 69.359375 \nQ 42.328125 66.84375 44.9375 62.5 \nQ 47.5625 58.15625 47.5625 53.265625 \nQ 47.5625 48.640625 45.0625 44.828125 \nQ 42.578125 41.015625 37.703125 38.765625 \nQ 44.046875 37.3125 47.5625 32.6875 \nQ 51.078125 28.078125 51.078125 21.140625 \nQ 51.078125 11.765625 44.234375 5.25 \nQ 37.40625 -1.265625 26.953125 -1.265625 \nQ 17.53125 -1.265625 11.296875 4.34375 \nQ 5.078125 9.96875 4.203125 18.890625 \nz\n\" id=\"ArialMT-51\"/>\n     </defs>\n     <use xlink:href=\"#ArialMT-50\"/>\n     <use x=\"55.615234\" xlink:href=\"#ArialMT-50\"/>\n     <use x=\"111.230469\" xlink:href=\"#ArialMT-51\"/>\n    </g>\n   </g>\n   <g id=\"text_8\">\n    <!-- 19 -->\n    <g style=\"fill:#262626;\" transform=\"translate(243.121641 85.316719)scale(0.18 -0.18)\">\n     <defs>\n      <path d=\"M 37.25 0 \nL 28.46875 0 \nL 28.46875 56 \nQ 25.296875 52.984375 20.140625 49.953125 \nQ 14.984375 46.921875 10.890625 45.40625 \nL 10.890625 53.90625 \nQ 18.265625 57.375 23.78125 62.296875 \nQ 29.296875 67.234375 31.59375 71.875 \nL 37.25 71.875 \nz\n\" id=\"ArialMT-49\"/>\n      <path d=\"M 5.46875 16.546875 \nL 13.921875 17.328125 \nQ 14.984375 11.375 18.015625 8.6875 \nQ 21.046875 6 25.78125 6 \nQ 29.828125 6 32.875 7.859375 \nQ 35.9375 9.71875 37.890625 12.8125 \nQ 39.84375 15.921875 41.15625 21.1875 \nQ 42.484375 26.46875 42.484375 31.9375 \nQ 42.484375 32.515625 42.4375 33.6875 \nQ 39.796875 29.5 35.234375 26.875 \nQ 30.671875 24.265625 25.34375 24.265625 \nQ 16.453125 24.265625 10.296875 30.703125 \nQ 4.15625 37.15625 4.15625 47.703125 \nQ 4.15625 58.59375 10.578125 65.234375 \nQ 17 71.875 26.65625 71.875 \nQ 33.640625 71.875 39.421875 68.109375 \nQ 45.21875 64.359375 48.21875 57.390625 \nQ 51.21875 50.4375 51.21875 37.25 \nQ 51.21875 23.53125 48.234375 15.40625 \nQ 45.265625 7.28125 39.375 3.03125 \nQ 33.5 -1.21875 25.59375 -1.21875 \nQ 17.1875 -1.21875 11.859375 3.4375 \nQ 6.546875 8.109375 5.46875 16.546875 \nz\nM 41.453125 48.140625 \nQ 41.453125 55.71875 37.421875 60.15625 \nQ 33.40625 64.59375 27.734375 64.59375 \nQ 21.875 64.59375 17.53125 59.8125 \nQ 13.1875 55.03125 13.1875 47.40625 \nQ 13.1875 40.578125 17.3125 36.296875 \nQ 21.4375 32.03125 27.484375 32.03125 \nQ 33.59375 32.03125 37.515625 36.296875 \nQ 41.453125 40.578125 41.453125 48.140625 \nz\n\" id=\"ArialMT-57\"/>\n     </defs>\n     <use xlink:href=\"#ArialMT-49\"/>\n     <use x=\"55.615234\" xlink:href=\"#ArialMT-57\"/>\n    </g>\n   </g>\n   <g id=\"text_9\">\n    <!-- 25 -->\n    <g style=\"fill:#262626;\" transform=\"translate(109.201641 194.036719)scale(0.18 -0.18)\">\n     <defs>\n      <path d=\"M 4.15625 18.75 \nL 13.375 19.53125 \nQ 14.40625 12.796875 18.140625 9.390625 \nQ 21.875 6 27.15625 6 \nQ 33.5 6 37.890625 10.78125 \nQ 42.28125 15.578125 42.28125 23.484375 \nQ 42.28125 31 38.0625 35.34375 \nQ 33.84375 39.703125 27 39.703125 \nQ 22.75 39.703125 19.328125 37.765625 \nQ 15.921875 35.84375 13.96875 32.765625 \nL 5.71875 33.84375 \nL 12.640625 70.609375 \nL 48.25 70.609375 \nL 48.25 62.203125 \nL 19.671875 62.203125 \nL 15.828125 42.96875 \nQ 22.265625 47.46875 29.34375 47.46875 \nQ 38.71875 47.46875 45.15625 40.96875 \nQ 51.609375 34.46875 51.609375 24.265625 \nQ 51.609375 14.546875 45.953125 7.46875 \nQ 39.0625 -1.21875 27.15625 -1.21875 \nQ 17.390625 -1.21875 11.203125 4.25 \nQ 5.03125 9.71875 4.15625 18.75 \nz\n\" id=\"ArialMT-53\"/>\n     </defs>\n     <use xlink:href=\"#ArialMT-50\"/>\n     <use x=\"55.615234\" xlink:href=\"#ArialMT-53\"/>\n    </g>\n   </g>\n   <g id=\"text_10\">\n    <!-- 163 -->\n    <g style=\"fill:#ffffff;\" transform=\"translate(238.116797 194.036719)scale(0.18 -0.18)\">\n     <defs>\n      <path d=\"M 49.75 54.046875 \nL 41.015625 53.375 \nQ 39.84375 58.546875 37.703125 60.890625 \nQ 34.125 64.65625 28.90625 64.65625 \nQ 24.703125 64.65625 21.53125 62.3125 \nQ 17.390625 59.28125 14.984375 53.46875 \nQ 12.59375 47.65625 12.5 36.921875 \nQ 15.671875 41.75 20.265625 44.09375 \nQ 24.859375 46.4375 29.890625 46.4375 \nQ 38.671875 46.4375 44.84375 39.96875 \nQ 51.03125 33.5 51.03125 23.25 \nQ 51.03125 16.5 48.125 10.71875 \nQ 45.21875 4.9375 40.140625 1.859375 \nQ 35.0625 -1.21875 28.609375 -1.21875 \nQ 17.625 -1.21875 10.6875 6.859375 \nQ 3.765625 14.9375 3.765625 33.5 \nQ 3.765625 54.25 11.421875 63.671875 \nQ 18.109375 71.875 29.4375 71.875 \nQ 37.890625 71.875 43.28125 67.140625 \nQ 48.6875 62.40625 49.75 54.046875 \nz\nM 13.875 23.1875 \nQ 13.875 18.65625 15.796875 14.5 \nQ 17.71875 10.359375 21.1875 8.171875 \nQ 24.65625 6 28.46875 6 \nQ 34.03125 6 38.03125 10.484375 \nQ 42.046875 14.984375 42.046875 22.703125 \nQ 42.046875 30.125 38.078125 34.390625 \nQ 34.125 38.671875 28.125 38.671875 \nQ 22.171875 38.671875 18.015625 34.390625 \nQ 13.875 30.125 13.875 23.1875 \nz\n\" id=\"ArialMT-54\"/>\n     </defs>\n     <use xlink:href=\"#ArialMT-49\"/>\n     <use x=\"55.615234\" xlink:href=\"#ArialMT-54\"/>\n     <use x=\"111.230469\" xlink:href=\"#ArialMT-51\"/>\n    </g>\n   </g>\n   <g id=\"text_11\">\n    <!-- normal vs. pneumonia (w/o masks) -->\n    <g style=\"fill:#262626;\" transform=\"translate(46.631953 20.303437)scale(0.18 -0.18)\">\n     <defs>\n      <path id=\"ArialMT-32\"/>\n      <path d=\"M 21 0 \nL 1.265625 51.859375 \nL 10.546875 51.859375 \nL 21.6875 20.796875 \nQ 23.484375 15.765625 25 10.359375 \nQ 26.171875 14.453125 28.265625 20.21875 \nL 39.796875 51.859375 \nL 48.828125 51.859375 \nL 29.203125 0 \nz\n\" id=\"ArialMT-118\"/>\n      <path d=\"M 3.078125 15.484375 \nL 11.765625 16.84375 \nQ 12.5 11.625 15.84375 8.84375 \nQ 19.1875 6.0625 25.203125 6.0625 \nQ 31.25 6.0625 34.171875 8.515625 \nQ 37.109375 10.984375 37.109375 14.3125 \nQ 37.109375 17.28125 34.515625 19 \nQ 32.71875 20.171875 25.53125 21.96875 \nQ 15.875 24.421875 12.140625 26.203125 \nQ 8.40625 27.984375 6.46875 31.125 \nQ 4.546875 34.28125 4.546875 38.09375 \nQ 4.546875 41.546875 6.125 44.5 \nQ 7.71875 47.46875 10.453125 49.421875 \nQ 12.5 50.921875 16.03125 51.96875 \nQ 19.578125 53.03125 23.640625 53.03125 \nQ 29.734375 53.03125 34.34375 51.265625 \nQ 38.96875 49.515625 41.15625 46.5 \nQ 43.359375 43.5 44.1875 38.484375 \nL 35.59375 37.3125 \nQ 35.015625 41.3125 32.203125 43.546875 \nQ 29.390625 45.796875 24.265625 45.796875 \nQ 18.21875 45.796875 15.625 43.796875 \nQ 13.03125 41.796875 13.03125 39.109375 \nQ 13.03125 37.40625 14.109375 36.03125 \nQ 15.1875 34.625 17.484375 33.6875 \nQ 18.796875 33.203125 25.25 31.453125 \nQ 34.578125 28.953125 38.25 27.359375 \nQ 41.9375 25.78125 44.03125 22.75 \nQ 46.140625 19.734375 46.140625 15.234375 \nQ 46.140625 10.84375 43.578125 6.953125 \nQ 41.015625 3.078125 36.171875 0.953125 \nQ 31.34375 -1.171875 25.25 -1.171875 \nQ 15.140625 -1.171875 9.84375 3.03125 \nQ 4.546875 7.234375 3.078125 15.484375 \nz\n\" id=\"ArialMT-115\"/>\n      <path d=\"M 9.078125 0 \nL 9.078125 10.015625 \nL 19.09375 10.015625 \nL 19.09375 0 \nz\n\" id=\"ArialMT-46\"/>\n      <path d=\"M 6.59375 -19.875 \nL 6.59375 51.859375 \nL 14.59375 51.859375 \nL 14.59375 45.125 \nQ 17.4375 49.078125 21 51.046875 \nQ 24.5625 53.03125 29.640625 53.03125 \nQ 36.28125 53.03125 41.359375 49.609375 \nQ 46.4375 46.1875 49.015625 39.953125 \nQ 51.609375 33.734375 51.609375 26.3125 \nQ 51.609375 18.359375 48.75 11.984375 \nQ 45.90625 5.609375 40.453125 2.21875 \nQ 35.015625 -1.171875 29 -1.171875 \nQ 24.609375 -1.171875 21.109375 0.6875 \nQ 17.625 2.546875 15.375 5.375 \nL 15.375 -19.875 \nz\nM 14.546875 25.640625 \nQ 14.546875 15.625 18.59375 10.84375 \nQ 22.65625 6.0625 28.421875 6.0625 \nQ 34.28125 6.0625 38.453125 11.015625 \nQ 42.625 15.96875 42.625 26.375 \nQ 42.625 36.28125 38.546875 41.203125 \nQ 34.46875 46.140625 28.8125 46.140625 \nQ 23.1875 46.140625 18.859375 40.890625 \nQ 14.546875 35.640625 14.546875 25.640625 \nz\n\" id=\"ArialMT-112\"/>\n      <path d=\"M 23.390625 -21.046875 \nQ 16.109375 -11.859375 11.078125 0.4375 \nQ 6.0625 12.75 6.0625 25.921875 \nQ 6.0625 37.546875 9.8125 48.1875 \nQ 14.203125 60.546875 23.390625 72.796875 \nL 29.6875 72.796875 \nQ 23.78125 62.640625 21.875 58.296875 \nQ 18.890625 51.5625 17.1875 44.234375 \nQ 15.09375 35.109375 15.09375 25.875 \nQ 15.09375 2.390625 29.6875 -21.046875 \nz\n\" id=\"ArialMT-40\"/>\n      <path d=\"M 16.15625 0 \nL 0.296875 51.859375 \nL 9.375 51.859375 \nL 17.625 21.921875 \nL 20.703125 10.796875 \nQ 20.90625 11.625 23.390625 21.484375 \nL 31.640625 51.859375 \nL 40.671875 51.859375 \nL 48.4375 21.78125 \nL 51.03125 11.859375 \nL 54 21.875 \nL 62.890625 51.859375 \nL 71.4375 51.859375 \nL 55.21875 0 \nL 46.09375 0 \nL 37.84375 31.0625 \nL 35.84375 39.890625 \nL 25.34375 0 \nz\n\" id=\"ArialMT-119\"/>\n      <path d=\"M 0 -1.21875 \nL 20.75 72.796875 \nL 27.78125 72.796875 \nL 7.078125 -1.21875 \nz\n\" id=\"ArialMT-47\"/>\n      <path d=\"M 6.640625 0 \nL 6.640625 71.578125 \nL 15.4375 71.578125 \nL 15.4375 30.765625 \nL 36.234375 51.859375 \nL 47.609375 51.859375 \nL 27.78125 32.625 \nL 49.609375 0 \nL 38.765625 0 \nL 21.625 26.515625 \nL 15.4375 20.5625 \nL 15.4375 0 \nz\n\" id=\"ArialMT-107\"/>\n      <path d=\"M 12.359375 -21.046875 \nL 6.0625 -21.046875 \nQ 20.65625 2.390625 20.65625 25.875 \nQ 20.65625 35.0625 18.5625 44.09375 \nQ 16.890625 51.421875 13.921875 58.15625 \nQ 12.015625 62.546875 6.0625 72.796875 \nL 12.359375 72.796875 \nQ 21.53125 60.546875 25.921875 48.1875 \nQ 29.6875 37.546875 29.6875 25.921875 \nQ 29.6875 12.75 24.625 0.4375 \nQ 19.578125 -11.859375 12.359375 -21.046875 \nz\n\" id=\"ArialMT-41\"/>\n     </defs>\n     <use xlink:href=\"#ArialMT-110\"/>\n     <use x=\"55.615234\" xlink:href=\"#ArialMT-111\"/>\n     <use x=\"111.230469\" xlink:href=\"#ArialMT-114\"/>\n     <use x=\"144.53125\" xlink:href=\"#ArialMT-109\"/>\n     <use x=\"227.832031\" xlink:href=\"#ArialMT-97\"/>\n     <use x=\"283.447266\" xlink:href=\"#ArialMT-108\"/>\n     <use x=\"305.664062\" xlink:href=\"#ArialMT-32\"/>\n     <use x=\"333.447266\" xlink:href=\"#ArialMT-118\"/>\n     <use x=\"383.447266\" xlink:href=\"#ArialMT-115\"/>\n     <use x=\"433.447266\" xlink:href=\"#ArialMT-46\"/>\n     <use x=\"461.230469\" xlink:href=\"#ArialMT-32\"/>\n     <use x=\"489.013672\" xlink:href=\"#ArialMT-112\"/>\n     <use x=\"544.628906\" xlink:href=\"#ArialMT-110\"/>\n     <use x=\"600.244141\" xlink:href=\"#ArialMT-101\"/>\n     <use x=\"655.859375\" xlink:href=\"#ArialMT-117\"/>\n     <use x=\"711.474609\" xlink:href=\"#ArialMT-109\"/>\n     <use x=\"794.775391\" xlink:href=\"#ArialMT-111\"/>\n     <use x=\"850.390625\" xlink:href=\"#ArialMT-110\"/>\n     <use x=\"906.005859\" xlink:href=\"#ArialMT-105\"/>\n     <use x=\"928.222656\" xlink:href=\"#ArialMT-97\"/>\n     <use x=\"983.837891\" xlink:href=\"#ArialMT-32\"/>\n     <use x=\"1011.621094\" xlink:href=\"#ArialMT-40\"/>\n     <use x=\"1044.921875\" xlink:href=\"#ArialMT-119\"/>\n     <use x=\"1117.138672\" xlink:href=\"#ArialMT-47\"/>\n     <use x=\"1144.921875\" xlink:href=\"#ArialMT-111\"/>\n     <use x=\"1200.537109\" xlink:href=\"#ArialMT-32\"/>\n     <use x=\"1228.320312\" xlink:href=\"#ArialMT-109\"/>\n     <use x=\"1311.621094\" xlink:href=\"#ArialMT-97\"/>\n     <use x=\"1367.236328\" xlink:href=\"#ArialMT-115\"/>\n     <use x=\"1417.236328\" xlink:href=\"#ArialMT-107\"/>\n     <use x=\"1467.236328\" xlink:href=\"#ArialMT-115\"/>\n     <use x=\"1517.236328\" xlink:href=\"#ArialMT-41\"/>\n    </g>\n   </g>\n  </g>\n  <g id=\"axes_2\">\n   <g id=\"patch_3\">\n    <path clip-path=\"url(#p493e2f67fc)\" d=\"M 336.831328 243.743437 \nL 336.831328 242.894062 \nL 336.831328 27.152813 \nL 336.831328 26.303438 \nL 347.703328 26.303438 \nL 347.703328 27.152813 \nL 347.703328 242.894062 \nL 347.703328 243.743437 \nz\n\" style=\"fill:#eaeaf2;stroke:#eaeaf2;stroke-linejoin:miter;stroke-width:0.01;\"/>\n   </g>\n   <g id=\"matplotlib.axis_3\"/>\n   <g id=\"matplotlib.axis_4\">\n    <g id=\"ytick_3\">\n     <g id=\"line2d_1\">\n      <defs>\n       <path d=\"M 0 0 \nL 6 0 \n\" id=\"me615a35041\" style=\"stroke:#262626;stroke-width:1.25;\"/>\n      </defs>\n      <g>\n       <use style=\"fill:#262626;stroke:#262626;stroke-width:1.25;\" x=\"347.703328\" xlink:href=\"#me615a35041\" y=\"210.701085\"/>\n      </g>\n     </g>\n     <g id=\"text_12\">\n      <!-- 50 -->\n      <g style=\"fill:#262626;\" transform=\"translate(357.203328 216.60628)scale(0.165 -0.165)\">\n       <defs>\n        <path d=\"M 4.15625 35.296875 \nQ 4.15625 48 6.765625 55.734375 \nQ 9.375 63.484375 14.515625 67.671875 \nQ 19.671875 71.875 27.484375 71.875 \nQ 33.25 71.875 37.59375 69.546875 \nQ 41.9375 67.234375 44.765625 62.859375 \nQ 47.609375 58.5 49.21875 52.21875 \nQ 50.828125 45.953125 50.828125 35.296875 \nQ 50.828125 22.703125 48.234375 14.96875 \nQ 45.65625 7.234375 40.5 3 \nQ 35.359375 -1.21875 27.484375 -1.21875 \nQ 17.140625 -1.21875 11.234375 6.203125 \nQ 4.15625 15.140625 4.15625 35.296875 \nz\nM 13.1875 35.296875 \nQ 13.1875 17.671875 17.3125 11.828125 \nQ 21.4375 6 27.484375 6 \nQ 33.546875 6 37.671875 11.859375 \nQ 41.796875 17.71875 41.796875 35.296875 \nQ 41.796875 52.984375 37.671875 58.78125 \nQ 33.546875 64.59375 27.390625 64.59375 \nQ 21.34375 64.59375 17.71875 59.46875 \nQ 13.1875 52.9375 13.1875 35.296875 \nz\n\" id=\"ArialMT-48\"/>\n       </defs>\n       <use xlink:href=\"#ArialMT-53\"/>\n       <use x=\"55.615234\" xlink:href=\"#ArialMT-48\"/>\n      </g>\n     </g>\n    </g>\n    <g id=\"ytick_4\">\n     <g id=\"line2d_2\">\n      <g>\n       <use style=\"fill:#262626;stroke:#262626;stroke-width:1.25;\" x=\"347.703328\" xlink:href=\"#me615a35041\" y=\"157.406967\"/>\n      </g>\n     </g>\n     <g id=\"text_13\">\n      <!-- 100 -->\n      <g style=\"fill:#262626;\" transform=\"translate(357.203328 163.312162)scale(0.165 -0.165)\">\n       <use xlink:href=\"#ArialMT-49\"/>\n       <use x=\"55.615234\" xlink:href=\"#ArialMT-48\"/>\n       <use x=\"111.230469\" xlink:href=\"#ArialMT-48\"/>\n      </g>\n     </g>\n    </g>\n    <g id=\"ytick_5\">\n     <g id=\"line2d_3\">\n      <g>\n       <use style=\"fill:#262626;stroke:#262626;stroke-width:1.25;\" x=\"347.703328\" xlink:href=\"#me615a35041\" y=\"104.112849\"/>\n      </g>\n     </g>\n     <g id=\"text_14\">\n      <!-- 150 -->\n      <g style=\"fill:#262626;\" transform=\"translate(357.203328 110.018045)scale(0.165 -0.165)\">\n       <use xlink:href=\"#ArialMT-49\"/>\n       <use x=\"55.615234\" xlink:href=\"#ArialMT-53\"/>\n       <use x=\"111.230469\" xlink:href=\"#ArialMT-48\"/>\n      </g>\n     </g>\n    </g>\n    <g id=\"ytick_6\">\n     <g id=\"line2d_4\">\n      <g>\n       <use style=\"fill:#262626;stroke:#262626;stroke-width:1.25;\" x=\"347.703328\" xlink:href=\"#me615a35041\" y=\"50.818732\"/>\n      </g>\n     </g>\n     <g id=\"text_15\">\n      <!-- 200 -->\n      <g style=\"fill:#262626;\" transform=\"translate(357.203328 56.723927)scale(0.165 -0.165)\">\n       <use xlink:href=\"#ArialMT-50\"/>\n       <use x=\"55.615234\" xlink:href=\"#ArialMT-48\"/>\n       <use x=\"111.230469\" xlink:href=\"#ArialMT-48\"/>\n      </g>\n     </g>\n    </g>\n   </g>\n   <image height=\"218\" id=\"image0ce02a8e5a\" transform=\"scale(1 -1)translate(0 -218)\" width=\"11\" x=\"337\" xlink:href=\"data:image/png;base64,\niVBORw0KGgoAAAANSUhEUgAAAAsAAADaCAYAAABwzrisAAABKUlEQVR4nO2aMQ4CMRADF5T/f5cCJaE9up1ikA+F2lp5bccJiMfrvXc1P2P1sTWqj60BsDUAixob8GCcl0aDLPjsQ6l0yG7kIMyGJB1NXQgNAC5NOi/8Kb2hhT+kvhDn0/xX8An/j2hkSBcSfu86RqZMRsO7NMFkdGCZzmhyhhqm3WAyKpnlTc6g4b0Y2YKiGgAsnkEyeYINxdPt1RdaEB4rMNl7UKHJE6Ah55Dw97GuGhFBYldbRiN5z3hkt3jRe99TtCrwvi6JVcBOd0RExWsio+tCegOpIb5ytX6GC7axQWqAyfe0G0xeq//wyeEcMjnEbu23XJaNCM6w68CCHo0UsBj+CLtPNr7AKXYjMDKFTF5To6FxvqUaGQvOY/cF/Pd2Wwuivxh9ALA83RMaZ6JqAAAAAElFTkSuQmCC\" y=\"-25\"/>\n   <g id=\"patch_4\">\n    <path d=\"M 336.831328 243.743437 \nL 336.831328 242.894062 \nL 336.831328 27.152813 \nL 336.831328 26.303438 \nL 347.703328 26.303438 \nL 347.703328 27.152813 \nL 347.703328 242.894062 \nL 347.703328 243.743437 \nz\n\" style=\"fill:none;\"/>\n   </g>\n  </g>\n </g>\n <defs>\n  <clipPath id=\"pdcbd413434\">\n   <rect height=\"217.44\" width=\"267.84\" x=\"52.251328\" y=\"26.303437\"/>\n  </clipPath>\n  <clipPath id=\"p493e2f67fc\">\n   <rect height=\"217.44\" width=\"10.872\" x=\"336.831328\" y=\"26.303437\"/>\n  </clipPath>\n </defs>\n</svg>\n",
      "image/png": "[encoded data removed]"
     },
     "metadata": {}
    }
   ],
   "source": [
    "import seaborn as sns\n",
    "import matplotlib.pyplot as plt\n",
    "ax= plt.subplot()\n",
    "sns.heatmap(cm, annot=True, ax = ax, fmt='g', cmap='Blues'); #annot=True to annotate cells\n",
    "sns.set(font_scale=1.5)\n",
    "\n",
    "# labels, title and ticks\n",
    "ax.set_xlabel('Predicted');\n",
    "ax.set_ylabel('True'); \n",
    "ax.set_title('normal vs. pneumonia (w/o masks)'); \n",
    "ax.xaxis.set_ticklabels(['Normal', 'Pneumonia']); ax.yaxis.set_ticklabels(['Normal', 'Pneumonia']);"
   ]
  },
  {
   "cell_type": "code",
   "execution_count": null,
   "metadata": {},
   "outputs": [],
   "source": []
  }
 ],
 "metadata": {
  "kernelspec": {
   "display_name": "Python 3",
   "language": "python",
   "name": "python3"
  },
  "language_info": {
   "codemirror_mode": {
    "name": "ipython",
    "version": 3
   },
   "file_extension": ".py",
   "mimetype": "text/x-python",
   "name": "python",
   "nbconvert_exporter": "python",
   "pygments_lexer": "ipython3",
   "version": "3.8.5-final"
  }
 },
 "nbformat": 4,
 "nbformat_minor": 4
}