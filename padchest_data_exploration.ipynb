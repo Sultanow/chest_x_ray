{
 "metadata": {
  "language_info": {
   "codemirror_mode": {
    "name": "ipython",
    "version": 3
   },
   "file_extension": ".py",
   "mimetype": "text/x-python",
   "name": "python",
   "nbconvert_exporter": "python",
   "pygments_lexer": "ipython3",
   "version": "3.8.2-final"
  },
  "orig_nbformat": 2,
  "kernelspec": {
   "name": "python3",
   "display_name": "Python 3.8.2 64-bit ('embeddedIntelligence': conda)",
   "metadata": {
    "interpreter": {
     "hash": "71361d1c44e3fdbd8c99e99c6c4a6cbf36815e9b696a08e5f439070c65f755d2"
    }
   }
  }
 },
 "nbformat": 4,
 "nbformat_minor": 2,
 "cells": [
  {
   "cell_type": "code",
   "execution_count": null,
   "metadata": {},
   "outputs": [],
   "source": [
    "import numpy as np\n",
    "import pandas as pd\n",
    "import shutil\n",
    "import matplotlib.pyplot as plt"
   ]
  },
  {
   "cell_type": "code",
   "execution_count": null,
   "metadata": {},
   "outputs": [],
   "source": [
    "# Whether to plot matplotlib figures inside the notebook or create an output file for latex\n",
    "USE_LATEX_ENGINE = True\n",
    "\n",
    "if USE_LATEX_ENGINE:\n",
    "    import matplotlib\n",
    "    # matplotlib.use(\"pgf\")\n",
    "    matplotlib.rcParams.update({\n",
    "        # \"pgf.texsystem\": \"pdflatex\",\n",
    "        # 'pgf.rcfonts': False,\n",
    "        'font.family': 'serif',\n",
    "        'text.usetex': True,\n",
    "    })"
   ]
  },
  {
   "cell_type": "code",
   "execution_count": null,
   "metadata": {},
   "outputs": [],
   "source": [
    "normal_meta_data = '/mnt/c/Users/Jan/Daten/Geschäftlich/Capgemini/scripts/tmp/filtered_PADCHEST_chest_x_ray_images_labels_160K_01.02.19.csv'\n",
    "pneumonia_meta_data = '/mnt/c/Users/Jan/Daten/Geschäftlich/Capgemini/scripts/tmp/filtered_pneumonia.csv'\n",
    "\n",
    "# read csv files, engine='python' improves parsing, column differentiation, etc.\n",
    "normal_meta_data = pd.read_csv(normal_meta_data, engine='python')\n",
    "pneumonia_meta_data = pd.read_csv(pneumonia_meta_data, engine='python')"
   ]
  },
  {
   "cell_type": "code",
   "execution_count": null,
   "metadata": {},
   "outputs": [],
   "source": [
    "def _generate_output_string(element, data):\n",
    "    \"\"\"\n",
    "    Returns a string that contains information about the percentual share of a value in a list\n",
    "    \"\"\"\n",
    "    if not isinstance(element, str): # make sure element is of type string, convert otherwise\n",
    "        element = str(element)\n",
    "    \n",
    "    n_total = len(data)\n",
    "    bool_list = (data == element)\n",
    "    n_elements = sum(bool_list)\n",
    "\n",
    "    return \"{:<30}\".format(str(n_elements) + '/' + str(n_total) + ' (' + \"{:.2f}\".format(((n_elements / n_total) * 100)) + '%)')"
   ]
  },
  {
   "cell_type": "code",
   "execution_count": null,
   "metadata": {},
   "outputs": [],
   "source": [
    "def calculate_percentages(normal_data, pneumonia_data, additional_df=None):\n",
    "    \"\"\"\n",
    "    checks if two lists contain the same set of values - returns a warning if the sets dont match - prints a string with information about the distribution if they match\n",
    "    \"\"\"\n",
    "    if len(set(normal_data)) is not len(set(pneumonia_data)):\n",
    "        print('WARNING! Categories of healthy and pneumonia data are not identical!')\n",
    "        print('Normal: ' + str(set(normal_data)))\n",
    "        print('Pneumonia: ' + str(set(pneumonia_data)))\n",
    "        print('Number of appearences (normal):')\n",
    "        n_normal_set = ''\n",
    "        for category in set(normal_data):\n",
    "            n_normal_set += \"'\" + str(category) + \"': \" + str(sum(normal_data == category)) + '\\n'   # single quote: non-escaped string, double quote: escaped string\n",
    "        print(n_normal_set)\n",
    "        return\n",
    "    else:\n",
    "        print(set(normal_data))\n",
    "    if additional_df is None:\n",
    "        print('{:<21}'.format('') + '{:<30}'.format('normal') + '{:<30}'.format('pneumonia'))\n",
    "    else:\n",
    "        print('{:<21}'.format('') + '{:<30}'.format('normal (total)') + '{:<30}'.format('normal (filtered)') + '{:<30}'.format('pneumonia'))\n",
    "\n",
    "    for element in set(normal_data):\n",
    "        category_string = \"{:<21}\".format(element + ': ')\n",
    "        if additional_df is None:\n",
    "            print(category_string + _generate_output_string(element, normal_data) + _generate_output_string(element, pneumonia_data))\n",
    "        else:\n",
    "            print(category_string + _generate_output_string(element, additional_df) + _generate_output_string(element, normal_data) + _generate_output_string(element, pneumonia_data))"
   ]
  },
  {
   "cell_type": "code",
   "execution_count": null,
   "metadata": {},
   "outputs": [],
   "source": [
    "def find_appearences(df, column, value, replace_nan_with=None):\n",
    "    \"\"\"\n",
    "    searches for appearences of a specified value within the column of a dataframe - prints the number of appearences and the corresponding indexes\n",
    "    \"\"\"\n",
    "    if replace_nan_with is not None:\n",
    "        print('Replacing ' + str(df.isnull().sum().sum()) + ' appearances of NaN with: ' + str(replace_nan_with))\n",
    "        df.fillna(replace_nan_with, inplace=True)   # be careful, this modifies the original dataframe that has been passed as variable\n",
    "    value = str(value)\n",
    "    print('found ' + str(sum(df[column] == value)) + ' rows')\n",
    "    index_list = df.index[df[column] == value].tolist()\n",
    "    print('Indexes: ' + str(index_list))"
   ]
  },
  {
   "cell_type": "code",
   "execution_count": null,
   "metadata": {},
   "outputs": [],
   "source": [
    "def drop_from_column(df, column, value):\n",
    "    \"\"\"\n",
    "    searches for appearences of a specified value within a column of a dataframe - drops each row where the value appeared from the dataframe\n",
    "    \"\"\"\n",
    "    value = str(value)\n",
    "    print('Dropping ' + str(sum(df[column] == value)) + ' rows')\n",
    "    index_list = df.index[df[column] == value].tolist()\n",
    "    df.drop(index_list, inplace=True)"
   ]
  },
  {
   "cell_type": "code",
   "execution_count": null,
   "metadata": {},
   "outputs": [],
   "source": [
    "print('==== Distribution of projections ====\\n')\n",
    "\n",
    "calculate_percentages(normal_meta_data['Projection'], pneumonia_meta_data['Projection'])\n",
    "\n",
    "find_appearences(normal_meta_data, 'Projection', 'UNK')\n",
    "drop_from_column(normal_meta_data, 'Projection', 'UNK')\n",
    "\n",
    "calculate_percentages(normal_meta_data['Projection'], pneumonia_meta_data['Projection'])"
   ]
  },
  {
   "cell_type": "code",
   "execution_count": null,
   "metadata": {},
   "outputs": [],
   "source": [
    "print('==== Distribution of MethodLabel ====\\n')\n",
    "\n",
    "calculate_percentages(normal_meta_data['MethodLabel'], pneumonia_meta_data['MethodLabel'])"
   ]
  },
  {
   "cell_type": "code",
   "execution_count": null,
   "metadata": {},
   "outputs": [],
   "source": [
    "print('==== Distribution of Patient Sex ====\\n')\n",
    "\n",
    "calculate_percentages(normal_meta_data['PatientSex_DICOM'], pneumonia_meta_data['PatientSex_DICOM'])\n",
    "\n",
    "find_appearences(normal_meta_data, 'PatientSex_DICOM', '', 'U')     # 'U' for unknown"
   ]
  },
  {
   "cell_type": "code",
   "execution_count": null,
   "metadata": {},
   "outputs": [],
   "source": [
    "calculate_percentages(normal_meta_data['PatientSex_DICOM'], pneumonia_meta_data['PatientSex_DICOM'])\n",
    "\n",
    "find_appearences(normal_meta_data, 'PatientSex_DICOM', '')      # 'U' for unknown\n",
    "\n",
    "drop_from_column(normal_meta_data, 'PatientSex_DICOM', 'U')     # drop 'U' and 'O' since they are heavily underrepresented\n",
    "drop_from_column(normal_meta_data, 'PatientSex_DICOM', 'O')\n",
    "\n",
    "calculate_percentages(normal_meta_data['PatientSex_DICOM'], pneumonia_meta_data['PatientSex_DICOM'])"
   ]
  },
  {
   "cell_type": "code",
   "execution_count": null,
   "metadata": {},
   "outputs": [],
   "source": [
    "print('==== Distribution of ExposureTime ====\\n')\n",
    "\n",
    "calculate_percentages(normal_meta_data['ExposureTime'], pneumonia_meta_data['ExposureTime'])\n"
   ]
  },
  {
   "cell_type": "code",
   "execution_count": null,
   "metadata": {
    "tags": []
   },
   "outputs": [],
   "source": [
    "calculate_percentages(normal_meta_data['Exposure_DICOM'], pneumonia_meta_data['Exposure_DICOM'])\n",
    "\n",
    "filtered_exposure_normal = [int(x) for x in normal_meta_data['Exposure_DICOM'] if str(x) != 'None']\n",
    "filtered_exposure_pneumonia = [int(x) for x in pneumonia_meta_data['Exposure_DICOM'] if str(x) != 'None']\n",
    "print(len(filtered_exposure_normal))\n",
    "print(len(filtered_exposure_pneumonia))\n"
   ]
  },
  {
   "cell_type": "code",
   "execution_count": null,
   "metadata": {},
   "outputs": [],
   "source": [
    "filtered_exposure_normal = sorted(filtered_exposure_normal)\n",
    "filtered_exposure_pneumonia = sorted(filtered_exposure_pneumonia)\n",
    "\n",
    "fig, ax_exp_time = plt.subplots()  # a figure with a single Axes\n",
    "\n",
    "ax_exp_time.set_yscale('log')   # logarithmic scale on y axis\n",
    "\n",
    "# bins must be -0.5 to center the x ticks, for detailled explanation see https://stackoverflow.com/questions/27083051/matplotlib-xticks-not-lining-up-with-histogram\n",
    "ax_exp_time.hist(filtered_exposure_normal, np.arange(42)-0.5, alpha=0.5, label=\"Normal\")\n",
    "ax_exp_time.hist(filtered_exposure_pneumonia, np.arange(42)-0.5, alpha=0.5, color='r', label=\"Pneumonie\")\n",
    "ax_exp_time.set_xlabel('Strom * Zeit in mAs')\n",
    "ax_exp_time.set_ylabel('Anzahl Röntgenbilder')\n",
    "ax_exp_time.legend()\n",
    "ax_exp_time.grid(True)\n",
    "\n",
    "if USE_LATEX_ENGINE:\n",
    "    plt.savefig(\"/mnt/c/Users/Jan/Daten/Dropbox/Master/3_Semester/Masterarbeit/Latex/python_output/padchest_combined_exposure.pdf\")"
   ]
  },
  {
   "cell_type": "code",
   "execution_count": null,
   "metadata": {},
   "outputs": [],
   "source": [
    "exposure_percentage_normal = [(filtered_exposure_normal.count(x)*100) / len(filtered_exposure_normal) for x in np.arange(42)]\n",
    "exposure_percentage_pneumonia = [(filtered_exposure_pneumonia.count(x)*100) / len(filtered_exposure_pneumonia) for x in np.arange(42)]\n",
    "\n",
    "fig, ax = plt.subplots()  # a figure with a single Axes\n",
    "\n",
    "# bins must be -0.5 to center the x ticks, for detailled explanation see https://stackoverflow.com/questions/27083051/matplotlib-xticks-not-lining-up-with-histogram\n",
    "ax.bar(np.arange(6)-0.125, exposure_percentage_normal[:6], width=0.25, label=\"Normal\")\n",
    "ax.bar(np.arange(6)+0.125, exposure_percentage_pneumonia[:6], color='r', width=0.25, label=\"Pneumonie\")\n",
    "ax.set_xlabel('Strom * Zeit in mAs')\n",
    "ax.set_ylabel('Prozentualer Anteil')\n",
    "ax.legend()\n",
    "ax.grid(True)\n",
    "\n",
    "if USE_LATEX_ENGINE:\n",
    "    plt.savefig(\"/mnt/c/Users/Jan/Daten/Dropbox/Master/3_Semester/Masterarbeit/Latex/python_output/padchest_combined_exposure_percentage.pdf\")"
   ]
  },
  {
   "cell_type": "code",
   "execution_count": null,
   "metadata": {},
   "outputs": [],
   "source": [
    "print('==== Distribution of XRayTubeCurrent_DICOM ====\\n')\n",
    "\n",
    "calculate_percentages(normal_meta_data['XRayTubeCurrent_DICOM'], pneumonia_meta_data['XRayTubeCurrent_DICOM'])"
   ]
  },
  {
   "cell_type": "code",
   "execution_count": null,
   "metadata": {},
   "outputs": [],
   "source": [
    "print('==== Distribution of Exposure_DICOM ====\\n')\n",
    "\n",
    "calculate_percentages(normal_meta_data['Exposure_DICOM'], pneumonia_meta_data['Exposure_DICOM'])\n"
   ]
  },
  {
   "cell_type": "code",
   "execution_count": null,
   "metadata": {},
   "outputs": [],
   "source": [
    "print('==== Distribution of Modality_DICOM ====\\n')\n",
    "\n",
    "calculate_percentages(normal_meta_data['Modality_DICOM'], pneumonia_meta_data['Modality_DICOM'])"
   ]
  },
  {
   "cell_type": "code",
   "execution_count": null,
   "metadata": {},
   "outputs": [],
   "source": [
    "print('==== Distribution of Manufacturer_DICOM ====\\n')\n",
    "\n",
    "calculate_percentages(normal_meta_data['Manufacturer_DICOM'], pneumonia_meta_data['Manufacturer_DICOM'])"
   ]
  },
  {
   "cell_type": "code",
   "execution_count": null,
   "metadata": {},
   "outputs": [],
   "source": [
    "print('==== Distribution of PixelAspectRatio_DICOM ====\\n')\n",
    "calculate_percentages(normal_meta_data['PixelAspectRatio_DICOM'], pneumonia_meta_data['PixelAspectRatio_DICOM'])"
   ]
  },
  {
   "cell_type": "code",
   "execution_count": null,
   "metadata": {},
   "outputs": [],
   "source": [
    "print('==== Distribution of Age ====\\n')\n",
    "calculate_percentages(normal_meta_data['PatientBirth'], pneumonia_meta_data['PatientBirth'])"
   ]
  },
  {
   "cell_type": "code",
   "execution_count": null,
   "metadata": {},
   "outputs": [],
   "source": [
    "drop_from_column(normal_meta_data, 'PatientBirth', 'U') # drop unknown birth years, since there's only one entry"
   ]
  },
  {
   "cell_type": "code",
   "execution_count": null,
   "metadata": {},
   "outputs": [],
   "source": [
    "normal_age_list = list()\n",
    "number_of_normal = list()\n",
    "for y in set(normal_meta_data['PatientBirth']):\n",
    "    normal_age_list += [int(y)]\n",
    "    number_of_normal += [sum(normal_meta_data['PatientBirth'] == y)]\n",
    "\n",
    "print(normal_age_list)\n",
    "print(number_of_normal)"
   ]
  },
  {
   "cell_type": "code",
   "execution_count": null,
   "metadata": {},
   "outputs": [],
   "source": [
    "pneumonia_age_list = list()\n",
    "number_of_pneumonia = list()\n",
    "for y in set(pneumonia_meta_data['PatientBirth']):\n",
    "    pneumonia_age_list += [int(y)]\n",
    "    number_of_pneumonia += [sum(pneumonia_meta_data['PatientBirth'] == y)]\n",
    "\n",
    "print(pneumonia_age_list)\n",
    "print(number_of_pneumonia)"
   ]
  },
  {
   "cell_type": "code",
   "execution_count": null,
   "metadata": {},
   "outputs": [],
   "source": [
    "plt.axis([1900, 2021 , 0, 1001])\n",
    "plt.plot(normal_age_list, number_of_normal, label=\"Normal\")\n",
    "plt.plot(pneumonia_age_list, number_of_pneumonia, 'r', label=\"Pneumonie\")\n",
    "plt.ylabel('Anzahl Patienten')\n",
    "plt.xlabel('Geburtsjahr')\n",
    "plt.legend()\n",
    "plt.grid(True)\n",
    "# plt.show()\n",
    "\n",
    "if USE_LATEX_ENGINE:\n",
    "    plt.savefig('/mnt/c/Users/Jan/Daten/Dropbox/Master/3_Semester/Masterarbeit/Latex/python_output/year_of_birth_diagram.pdf')\n"
   ]
  },
  {
   "cell_type": "code",
   "execution_count": null,
   "metadata": {
    "tags": []
   },
   "outputs": [],
   "source": [
    "normal_ages = []\n",
    "for study, birth in zip(normal_meta_data['StudyDate_DICOM'], normal_meta_data['PatientBirth']):\n",
    "    normal_ages.append(int(str(study)[:4]) - int(birth))\n",
    "print(normal_ages[:20])"
   ]
  },
  {
   "cell_type": "code",
   "execution_count": null,
   "metadata": {},
   "outputs": [],
   "source": [
    "pneumonia_ages = []\n",
    "for study, birth in zip(pneumonia_meta_data['StudyDate_DICOM'], pneumonia_meta_data['PatientBirth']):\n",
    "    pneumonia_ages.append(int(str(study)[:4]) - int(birth))\n",
    "print(pneumonia_ages[:20])"
   ]
  },
  {
   "cell_type": "code",
   "execution_count": null,
   "metadata": {},
   "outputs": [],
   "source": [
    "x_axis_age = np.arange(max(set(normal_ages))+2)-0.5 # would be +1 for right aligned, but we want to center the x ticks -> +0.5\n",
    "plt.hist(normal_ages, x_axis_age, alpha=0.5, label=\"Normal\")\n",
    "plt.hist(pneumonia_ages, x_axis_age, alpha=0.5, color='r', label=\"Pneumonie\")\n",
    "plt.ylabel('Anzahl Patienten')\n",
    "plt.xlabel('Alter')\n",
    "plt.legend()\n",
    "plt.grid(True)\n",
    "# plt.show()\n",
    "\n",
    "if USE_LATEX_ENGINE:\n",
    "    plt.savefig('/mnt/c/Users/Jan/Daten/Dropbox/Master/3_Semester/Masterarbeit/Latex/python_output/padchest_age_histogram.pdf')\n"
   ]
  },
  {
   "cell_type": "code",
   "execution_count": null,
   "metadata": {},
   "outputs": [],
   "source": [
    "set(normal_meta_data)"
   ]
  },
  {
   "cell_type": "code",
   "execution_count": null,
   "metadata": {
    "tags": []
   },
   "outputs": [],
   "source": [
    "duplicate_patients = set(normal_meta_data['PatientID']) & set(pneumonia_meta_data['PatientID'])\n",
    "print(str(len(duplicate_patients)) + ' Patients are both in Normal and Pneumonia data present')\n",
    "print('Total number of Patients:\\nNormal: ' + str(len(set(normal_meta_data['PatientID']))) + '\\nPneumonia: ' + str(len(set(pneumonia_meta_data['PatientID']))))"
   ]
  },
  {
   "cell_type": "code",
   "execution_count": null,
   "metadata": {},
   "outputs": [],
   "source": [
    "all_patient_ids = normal_meta_data['PatientID'].append(pneumonia_meta_data['PatientID'])\n",
    "print(str(len(all_patient_ids)))\n",
    "print(str(len(normal_meta_data['ImageID'])))\n",
    "print(str(len(pneumonia_meta_data['ImageID'])))"
   ]
  },
  {
   "source": [
    "# FROM HERE DRY RUN FILTERING TAKES PLACE"
   ],
   "cell_type": "markdown",
   "metadata": {}
  },
  {
   "source": [
    "## Patients who have images with and without pneumonia\n",
    "All samples of these patients labeled with normal will be removed from the dataset, to make sure their \"normal\" images don't show a light pneumonia."
   ],
   "cell_type": "markdown",
   "metadata": {}
  },
  {
   "cell_type": "code",
   "execution_count": null,
   "metadata": {
    "tags": []
   },
   "outputs": [],
   "source": [
    "print(\"Dropping all samples labeled as normal whose patients also have samples with pneumonia label\")\n",
    "for id in duplicate_patients:\n",
    "    drop_from_column(normal_meta_data, 'PatientID', id)\n",
    "\n",
    "print(\"Dropped a total of \" + str(len(duplicate_patients)) + \" patients (\" + str(len(all_patient_ids) - len(pneumonia_meta_data['PatientID']) - len(normal_meta_data['PatientID'])) + ' samples)')\n"
   ]
  },
  {
   "source": [
    "## Experimental filtering and re-analysis"
   ],
   "cell_type": "markdown",
   "metadata": {}
  },
  {
   "cell_type": "code",
   "execution_count": null,
   "metadata": {},
   "outputs": [],
   "source": [
    "\n",
    "filtered_normal_meta = []\n",
    "copy_normal_meta_imagingdynamics = normal_meta_data.loc[normal_meta_data['Manufacturer_DICOM'] == \"ImagingDynamicsCompanyLtd\"]\n",
    "copy_normal_meta_philips = normal_meta_data.loc[normal_meta_data['Manufacturer_DICOM'] == \"PhilipsMedicalSystems\"]\n",
    "\n",
    "random_imagingdynamics = copy_normal_meta_imagingdynamics.sample(n = 1116)\n",
    "random_philips = copy_normal_meta_philips.sample(n = 4125)\n",
    "random_normal = random_imagingdynamics.append(random_philips)\n",
    "print(len(random_imagingdynamics))\n",
    "print(len(random_philips))\n",
    "print(len(random_normal))\n"
   ]
  },
  {
   "cell_type": "code",
   "execution_count": null,
   "metadata": {},
   "outputs": [],
   "source": [
    "print('==== Distribution of projections ====\\n')\n",
    "calculate_percentages(random_normal['Projection'], pneumonia_meta_data['Projection'])"
   ]
  },
  {
   "cell_type": "code",
   "execution_count": null,
   "metadata": {},
   "outputs": [],
   "source": [
    "find_appearences(normal_meta_data, 'Projection', 'COSTAL')"
   ]
  },
  {
   "cell_type": "code",
   "execution_count": null,
   "metadata": {},
   "outputs": [],
   "source": [
    "print(normal_meta_data.loc[8719]['ImageDir'])\n",
    "print(normal_meta_data.loc[8719]['ImageID'])"
   ]
  },
  {
   "cell_type": "code",
   "execution_count": null,
   "metadata": {},
   "outputs": [],
   "source": [
    "print(normal_meta_data.loc[35052]['ImageDir'])\n",
    "print(normal_meta_data.loc[35052]['ImageID'])"
   ]
  },
  {
   "cell_type": "code",
   "execution_count": null,
   "metadata": {},
   "outputs": [],
   "source": [
    "print(normal_meta_data.loc[21109]['ImageDir'])\n",
    "print(normal_meta_data.loc[21109]['ImageID'])"
   ]
  },
  {
   "cell_type": "code",
   "execution_count": null,
   "metadata": {},
   "outputs": [],
   "source": [
    "print(normal_meta_data.loc[446]['ImageDir'])\n",
    "print(normal_meta_data.loc[446]['ImageID'])"
   ]
  },
  {
   "cell_type": "code",
   "execution_count": null,
   "metadata": {},
   "outputs": [],
   "source": [
    "print(normal_meta_data.loc[27462]['ImageDir'])\n",
    "print(normal_meta_data.loc[27462]['ImageID'])"
   ]
  },
  {
   "cell_type": "code",
   "execution_count": null,
   "metadata": {},
   "outputs": [],
   "source": [
    "drop_from_column(normal_meta_data, 'Projection', 'COSTAL')\n"
   ]
  },
  {
   "cell_type": "code",
   "execution_count": null,
   "metadata": {},
   "outputs": [],
   "source": [
    "find_appearences(pneumonia_meta_data, 'Projection', 'COSTAL')"
   ]
  },
  {
   "cell_type": "code",
   "execution_count": null,
   "metadata": {},
   "outputs": [],
   "source": [
    "drop_from_column(pneumonia_meta_data, 'Projection', 'COSTAL')"
   ]
  },
  {
   "cell_type": "code",
   "execution_count": null,
   "metadata": {},
   "outputs": [],
   "source": [
    "random_test = copy_normal_meta_imagingdynamics.sample(n=10)\n",
    "print(random_test['PatientID'])"
   ]
  },
  {
   "cell_type": "code",
   "execution_count": null,
   "metadata": {},
   "outputs": [],
   "source": [
    "random_test = copy_normal_meta_imagingdynamics.sample(n=10)\n",
    "print(random_test['PatientID'])"
   ]
  },
  {
   "cell_type": "code",
   "execution_count": null,
   "metadata": {},
   "outputs": [],
   "source": [
    "\n",
    "filtered_normal_meta = []\n",
    "copy_normal_meta_imagingdynamics = normal_meta_data.loc[normal_meta_data['Manufacturer_DICOM'] == \"ImagingDynamicsCompanyLtd\"]\n",
    "copy_normal_meta_philips = normal_meta_data.loc[normal_meta_data['Manufacturer_DICOM'] == \"PhilipsMedicalSystems\"]\n",
    "\n",
    "random_imagingdynamics = copy_normal_meta_imagingdynamics.sample(n = 1116)\n",
    "random_philips = copy_normal_meta_philips.sample(n = 4107)\n",
    "random_normal = random_imagingdynamics.append(random_philips)\n",
    "\n",
    "print(\"ImagingDynamics: \" + str(len(random_imagingdynamics)) + '/' + str(len(copy_normal_meta_imagingdynamics)))\n",
    "print(\"Philips; \" + str(len(random_philips)) + '/' + str(len(copy_normal_meta_philips)))\n",
    "print(len(random_normal))\n",
    "\n",
    "# random_normal = normal_meta_data.sample(n = len(pneumonia_meta_data))\n",
    "\n",
    "print('==== Distribution of projections ====\\n')\n",
    "calculate_percentages(random_normal['Projection'], pneumonia_meta_data['Projection'], normal_meta_data['Projection'])"
   ]
  },
  {
   "cell_type": "code",
   "execution_count": null,
   "metadata": {},
   "outputs": [],
   "source": [
    "print('==== Distribution of Manufacturers ====\\n')\n",
    "calculate_percentages(random_normal['Manufacturer_DICOM'], pneumonia_meta_data['Manufacturer_DICOM'], normal_meta_data['Manufacturer_DICOM'])"
   ]
  },
  {
   "cell_type": "code",
   "execution_count": null,
   "metadata": {},
   "outputs": [],
   "source": [
    "print('==== Distribution of MethodLabel ====\\n')\n",
    "calculate_percentages(random_normal['MethodLabel'], pneumonia_meta_data['MethodLabel'])"
   ]
  },
  {
   "cell_type": "code",
   "execution_count": null,
   "metadata": {},
   "outputs": [],
   "source": [
    "print('==== Distribution of Patient Sex ====\\n')\n",
    "calculate_percentages(random_normal['PatientSex_DICOM'], pneumonia_meta_data['PatientSex_DICOM'])"
   ]
  },
  {
   "cell_type": "code",
   "execution_count": null,
   "metadata": {},
   "outputs": [],
   "source": [
    "print('==== Distribution of Modality_DICOM ====\\n')\n",
    "calculate_percentages(random_normal['Modality_DICOM'], pneumonia_meta_data['Modality_DICOM'])"
   ]
  },
  {
   "cell_type": "code",
   "execution_count": null,
   "metadata": {},
   "outputs": [],
   "source": [
    "print('==== Distribution of Manufacturer_DICOM ====\\n')\n",
    "calculate_percentages(random_normal['Manufacturer_DICOM'], pneumonia_meta_data['Manufacturer_DICOM'])"
   ]
  },
  {
   "cell_type": "code",
   "execution_count": null,
   "metadata": {},
   "outputs": [],
   "source": [
    "print('==== Distribution of MethodLabel ====\\n')\n",
    "calculate_percentages(random_normal['MethodLabel'], pneumonia_meta_data['MethodLabel'])"
   ]
  },
  {
   "cell_type": "code",
   "execution_count": null,
   "metadata": {},
   "outputs": [],
   "source": [
    "print('==== Distribution of MethodProjection ====\\n')\n",
    "calculate_percentages(random_normal['MethodProjection'], pneumonia_meta_data['MethodProjection'])"
   ]
  },
  {
   "source": [
    "# Stratified Sampling from Kaggle"
   ],
   "cell_type": "markdown",
   "metadata": {}
  },
  {
   "cell_type": "code",
   "execution_count": null,
   "metadata": {},
   "outputs": [],
   "source": [
    "'''\n",
    "This module contains functions that computes stratified sampling of pandas dataframes.\n",
    "'''\n",
    "# Required libraries\n",
    "import pandas as pd\n",
    "import numpy as np\n",
    "import warnings\n",
    "warnings.filterwarnings(\"ignore\")\n",
    "\n",
    "# Functions"
   ]
  },
  {
   "cell_type": "code",
   "execution_count": null,
   "metadata": {},
   "outputs": [],
   "source": [
    "def __smpl_size(population, size):\n",
    "    '''\n",
    "    A function to compute the sample size. If not informed, a sampling \n",
    "    size will be calculated using Cochran adjusted sampling formula:\n",
    "        cochran_n = (Z**2 * p * q) /e**2\n",
    "\n",
    "        where:\n",
    "            - Z is the z-value. In this case we use 1.96 representing 95%\n",
    "            - p is the estimated proportion of the population which has an\n",
    "                attribute. In this case we use 0.5\n",
    "            - q is 1-p\n",
    "            - e is the margin of error\n",
    "\n",
    "        This formula is adjusted as follows:\n",
    "        adjusted_cochran = cochran_n / 1+((cochran_n -1)/N)\n",
    "\n",
    "        where:\n",
    "            - cochran_n = result of the previous formula\n",
    "            - N is the population size\n",
    "    Parameters\n",
    "    ----------\n",
    "        :population: population size\n",
    "        :size: sample size (default = None)\n",
    "    Returns\n",
    "    -------\n",
    "    Calculated sample size to be used in the functions:\n",
    "        - stratified_sample\n",
    "        - stratified_sample_report\n",
    "    '''\n",
    "    if size is None:\n",
    "        cochran_n = round(((1.96)**2 * 0.5 * 0.5)/ 0.02**2)\n",
    "        n = round(cochran_n/(1+((cochran_n -1) /population)))\n",
    "    elif size >= 0 and size < 1:\n",
    "        n = round(population * size)\n",
    "    elif size < 0:\n",
    "        raise ValueError('Parameter \"size\" must be an integer or a proportion between 0 and 0.99.')\n",
    "    elif size >= 1:\n",
    "        n = size\n",
    "    return n"
   ]
  },
  {
   "cell_type": "code",
   "execution_count": null,
   "metadata": {},
   "outputs": [],
   "source": [
    "def stratified_sample_report(df, strata, size=None):\n",
    "    '''\n",
    "    Generates a dataframe reporting the counts in each stratum and the counts\n",
    "    for the final sampled dataframe.\n",
    "\n",
    "    Parameters\n",
    "    ----------\n",
    "    :df: pandas dataframe from which data will be sampled.\n",
    "    :strata: list containing columns that will be used in the stratified sampling.\n",
    "    :size: sampling size. If not informed, a sampling size will be calculated\n",
    "        using Cochran adjusted sampling formula:\n",
    "        cochran_n = (Z**2 * p * q) /e**2\n",
    "\n",
    "        where:\n",
    "            - Z is the z-value. In this case we use 1.96 representing 95%\n",
    "            - p is the estimated proportion of the population which has an\n",
    "                attribute. In this case we use 0.5\n",
    "            - q is 1-p\n",
    "            - e is the margin of error\n",
    "\n",
    "        This formula is adjusted as follows:\n",
    "        adjusted_cochran = cochran_n / 1+((cochran_n -1)/N)\n",
    "\n",
    "        where:\n",
    "            - cochran_n = result of the previous formula\n",
    "            - N is the population size\n",
    "\n",
    "    Returns\n",
    "    -------\n",
    "    A dataframe reporting the counts in each stratum and the counts\n",
    "    for the final sampled dataframe.\n",
    "    '''\n",
    "    population = len(df)\n",
    "    size = __smpl_size(population, size)\n",
    "    tmp = df[strata]\n",
    "    tmp['size'] = 1\n",
    "    tmp_grpd = tmp.groupby(strata).count().reset_index()\n",
    "    tmp_grpd['samp_size'] = round(size/population * tmp_grpd['size']).astype(int)\n",
    "    return tmp_grpd\n"
   ]
  },
  {
   "cell_type": "code",
   "execution_count": null,
   "metadata": {},
   "outputs": [],
   "source": [
    "def stratified_sample(df, strata, size=None, seed=None, keep_index= True):\n",
    "    '''\n",
    "    It samples data from a pandas dataframe using strata. These functions use\n",
    "    proportionate stratification:\n",
    "    n1 = (N1/N) * n\n",
    "    where:\n",
    "        - n1 is the sample size of stratum 1\n",
    "        - N1 is the population size of stratum 1\n",
    "        - N is the total population size\n",
    "        - n is the sampling size\n",
    "    Parameters\n",
    "    ----------\n",
    "    :df: pandas dataframe from which data will be sampled.\n",
    "    :strata: list containing columns that will be used in the stratified sampling.\n",
    "    :size: sampling size. If not informed, a sampling size will be calculated\n",
    "        using Cochran adjusted sampling formula:\n",
    "        cochran_n = (Z**2 * p * q) /e**2\n",
    "        where:\n",
    "            - Z is the z-value. In this case we use 1.96 representing 95%\n",
    "            - p is the estimated proportion of the population which has an\n",
    "                attribute. In this case we use 0.5\n",
    "            - q is 1-p\n",
    "            - e is the margin of error\n",
    "        This formula is adjusted as follows:\n",
    "        adjusted_cochran = cochran_n / 1+((cochran_n -1)/N)\n",
    "        where:\n",
    "            - cochran_n = result of the previous formula\n",
    "            - N is the population size\n",
    "    :seed: sampling seed\n",
    "    :keep_index: if True, it keeps a column with the original population index indicator\n",
    "    \n",
    "    Returns\n",
    "    -------\n",
    "    A sampled pandas dataframe based in a set of strata.\n",
    "    Examples\n",
    "    --------\n",
    "    >> df.head()\n",
    "    \tid  sex age city \n",
    "    0\t123 M   20  XYZ\n",
    "    1\t456 M   25  XYZ\n",
    "    2\t789 M   21  YZX\n",
    "    3\t987 F   40  ZXY\n",
    "    4\t654 M   45  ZXY\n",
    "    ...\n",
    "    # This returns a sample stratified by sex and city containing 30% of the size of\n",
    "    # the original data\n",
    "    >> stratified = stratified_sample(df=df, strata=['sex', 'city'], size=0.3)\n",
    "    Requirements\n",
    "    ------------\n",
    "    - pandas\n",
    "    - numpy\n",
    "    '''\n",
    "    population = len(df)\n",
    "    size = __smpl_size(population, size)\n",
    "    tmp = df[strata]\n",
    "    tmp['size'] = 1\n",
    "    tmp_grpd = tmp.groupby(strata).count().reset_index()\n",
    "    tmp_grpd['samp_size'] = round(size/population * tmp_grpd['size']).astype(int)\n",
    "\n",
    "    # controlling variable to create the dataframe or append to it\n",
    "    first = True \n",
    "    for i in range(len(tmp_grpd)):\n",
    "        # query generator for each iteration\n",
    "        qry=''\n",
    "        for s in range(len(strata)):\n",
    "            stratum = strata[s]\n",
    "            value = tmp_grpd.iloc[i][stratum]\n",
    "            n = tmp_grpd.iloc[i]['samp_size']\n",
    "\n",
    "            if type(value) == str:\n",
    "                value = \"'\" + str(value) + \"'\"\n",
    "            \n",
    "            if s != len(strata)-1:\n",
    "                qry = qry + stratum + ' == ' + str(value) +' & '\n",
    "            else:\n",
    "                qry = qry + stratum + ' == ' + str(value)\n",
    "        \n",
    "        # final dataframe\n",
    "        if first:\n",
    "            stratified_df = df.query(qry).sample(n=n, random_state=seed).reset_index(drop=(not keep_index))\n",
    "            first = False\n",
    "        else:\n",
    "            tmp_df = df.query(qry).sample(n=n, random_state=seed).reset_index(drop=(not keep_index))\n",
    "            stratified_df = stratified_df.append(tmp_df, ignore_index=True)\n",
    "    \n",
    "    return stratified_df\n"
   ]
  },
  {
   "cell_type": "code",
   "execution_count": null,
   "metadata": {},
   "outputs": [],
   "source": [
    "stratified_sample_report(normal_meta_data, ['Manufacturer_DICOM'], size=2000)"
   ]
  },
  {
   "cell_type": "code",
   "execution_count": null,
   "metadata": {},
   "outputs": [],
   "source": []
  }
 ]
}