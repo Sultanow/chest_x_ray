{
 "metadata": {
  "language_info": {
   "codemirror_mode": {
    "name": "ipython",
    "version": 3
   },
   "file_extension": ".py",
   "mimetype": "text/x-python",
   "name": "python",
   "nbconvert_exporter": "python",
   "pygments_lexer": "ipython3",
   "version": "3.8.2-final"
  },
  "orig_nbformat": 2,
  "kernelspec": {
   "name": "python3",
   "display_name": "Python 3.8.2 64-bit ('embeddedIntelligence': conda)",
   "metadata": {
    "interpreter": {
     "hash": "71361d1c44e3fdbd8c99e99c6c4a6cbf36815e9b696a08e5f439070c65f755d2"
    }
   }
  }
 },
 "nbformat": 4,
 "nbformat_minor": 2,
 "cells": [
  {
   "cell_type": "code",
   "execution_count": null,
   "metadata": {},
   "outputs": [],
   "source": [
    "import numpy as np\n",
    "import pandas as pd\n",
    "import shutil\n",
    "import matplotlib.pyplot as plt"
   ]
  },
  {
   "cell_type": "code",
   "execution_count": null,
   "metadata": {},
   "outputs": [],
   "source": [
    "# Whether to plot matplotlib figures inside the notebook or create an output file for latex\n",
    "USE_LATEX_ENGINE = True\n",
    "\n",
    "if USE_LATEX_ENGINE:\n",
    "    import matplotlib\n",
    "    # matplotlib.use(\"pgf\")\n",
    "    matplotlib.rcParams.update({\n",
    "        # \"pgf.texsystem\": \"pdflatex\",\n",
    "        # 'pgf.rcfonts': False,\n",
    "        'font.family': 'serif',\n",
    "        'text.usetex': True,\n",
    "    })"
   ]
  },
  {
   "cell_type": "code",
   "execution_count": null,
   "metadata": {},
   "outputs": [],
   "source": [
    "normal_meta_data = '/mnt/c/Users/Jan/Daten/Geschäftlich/Capgemini/scripts/tmp/filtered_PADCHEST_chest_x_ray_images_labels_160K_01.02.19.csv'\n",
    "pneumonia_meta_data = '/mnt/c/Users/Jan/Daten/Geschäftlich/Capgemini/scripts/tmp/filtered_pneumonia.csv'\n",
    "\n",
    "# read csv files, engine='python' improves parsing, column differentiation, etc.\n",
    "normal_meta_data = pd.read_csv(normal_meta_data, engine='python')\n",
    "pneumonia_meta_data = pd.read_csv(pneumonia_meta_data, engine='python')"
   ]
  },
  {
   "cell_type": "code",
   "execution_count": null,
   "metadata": {},
   "outputs": [],
   "source": [
    "def _generate_output_string(element, data):\n",
    "    \"\"\"\n",
    "    Returns a string that contains information about the percentual share of a value in a list\n",
    "    \"\"\"\n",
    "    if not isinstance(element, str): # make sure element is of type string, convert otherwise\n",
    "        element = str(element)\n",
    "    \n",
    "    n_total = len(data)\n",
    "    bool_list = (data == element)\n",
    "    n_elements = sum(bool_list)\n",
    "\n",
    "    return \"{:<30}\".format(str(n_elements) + '/' + str(n_total) + ' (' + \"{:.2f}\".format(((n_elements / n_total) * 100)) + '%)')"
   ]
  },
  {
   "cell_type": "code",
   "execution_count": null,
   "metadata": {},
   "outputs": [],
   "source": [
    "def calculate_percentages(normal_data, pneumonia_data):\n",
    "    \"\"\"\n",
    "    checks if two lists contain the same set of values - returns a warning if the sets dont match - prints a string with information about the distribution if they match\n",
    "    \"\"\"\n",
    "    if len(set(normal_data)) is not len(set(pneumonia_data)):\n",
    "        print('WARNING! Categories of healthy and pneumonia data are not identical!')\n",
    "        print('Normal: ' + str(set(normal_data)))\n",
    "        print('Pneumonia: ' + str(set(pneumonia_data)))\n",
    "        print('Number of appearences (normal):')\n",
    "        n_normal_set = ''\n",
    "        for category in set(normal_data):\n",
    "            n_normal_set += \"'\" + str(category) + \"': \" + str(sum(normal_data == category)) + '\\n'   # single quote: non-escaped string, double quote: escaped string\n",
    "        print(n_normal_set)\n",
    "        return\n",
    "    else:\n",
    "        print(set(normal_data))\n",
    "\n",
    "    print('{:<21}'.format('') + '{:<30}'.format('normal') + '{:<30}'.format('pneumonia'))\n",
    "\n",
    "    for element_normal, element_pneumonia in zip(set(normal_data), set(pneumonia_data)):\n",
    "        category_string = \"{:<21}\".format(element_normal + ': ')\n",
    "                \n",
    "        print(category_string + _generate_output_string(element_normal, normal_data) + _generate_output_string(element_pneumonia, pneumonia_data))"
   ]
  },
  {
   "cell_type": "code",
   "execution_count": null,
   "metadata": {},
   "outputs": [],
   "source": [
    "def find_appearences(df, column, value, replace_nan_with=None):\n",
    "    \"\"\"\n",
    "    searches for appearences of a specified value within the column of a dataframe - prints the number of appearences and the corresponding indexes\n",
    "    \"\"\"\n",
    "    if replace_nan_with is not None:\n",
    "        print('Replacing ' + str(df.isnull().sum().sum()) + ' appearances of NaN with: ' + str(replace_nan_with))\n",
    "        df.fillna(replace_nan_with, inplace=True)   # be careful, this modifies the original dataframe that has been passed as variable\n",
    "    value = str(value)\n",
    "    print('found ' + str(sum(df[column] == value)) + ' rows')\n",
    "    index_list = df.index[df[column] == value].tolist()\n",
    "    print('Indexes: ' + str(index_list))"
   ]
  },
  {
   "cell_type": "code",
   "execution_count": null,
   "metadata": {},
   "outputs": [],
   "source": [
    "def drop_from_column(df, column, value):\n",
    "    \"\"\"\n",
    "    searches for appearences of a specified value within a column of a dataframe - drops each row where the value appeared from the dataframe\n",
    "    \"\"\"\n",
    "    value = str(value)\n",
    "    print('Dropping ' + str(sum(df[column] == value)) + ' rows')\n",
    "    index_list = df.index[df[column] == value].tolist()\n",
    "    df.drop(index_list, inplace=True)"
   ]
  },
  {
   "cell_type": "code",
   "execution_count": null,
   "metadata": {},
   "outputs": [],
   "source": [
    "print('==== Distribution of projections ====\\n')\n",
    "\n",
    "calculate_percentages(normal_meta_data['Projection'], pneumonia_meta_data['Projection'])\n",
    "\n",
    "find_appearences(normal_meta_data, 'Projection', 'UNK')\n",
    "drop_from_column(normal_meta_data, 'Projection', 'UNK')\n",
    "\n",
    "calculate_percentages(normal_meta_data['Projection'], pneumonia_meta_data['Projection'])"
   ]
  },
  {
   "cell_type": "code",
   "execution_count": null,
   "metadata": {},
   "outputs": [],
   "source": [
    "print('==== Distribution of MethodLabel ====\\n')\n",
    "\n",
    "calculate_percentages(normal_meta_data['MethodLabel'], pneumonia_meta_data['MethodLabel'])"
   ]
  },
  {
   "cell_type": "code",
   "execution_count": null,
   "metadata": {},
   "outputs": [],
   "source": [
    "print('==== Distribution of Patient Sex ====\\n')\n",
    "\n",
    "calculate_percentages(normal_meta_data['PatientSex_DICOM'], pneumonia_meta_data['PatientSex_DICOM'])\n",
    "\n",
    "find_appearences(normal_meta_data, 'PatientSex_DICOM', '', 'U')     # 'U' for unknown"
   ]
  },
  {
   "cell_type": "code",
   "execution_count": null,
   "metadata": {},
   "outputs": [],
   "source": [
    "calculate_percentages(normal_meta_data['PatientSex_DICOM'], pneumonia_meta_data['PatientSex_DICOM'])\n",
    "\n",
    "find_appearences(normal_meta_data, 'PatientSex_DICOM', '')      # 'U' for unknown\n",
    "\n",
    "drop_from_column(normal_meta_data, 'PatientSex_DICOM', 'U')     # drop 'U' and 'O' since they are heavily underrepresented\n",
    "drop_from_column(normal_meta_data, 'PatientSex_DICOM', 'O')\n",
    "\n",
    "calculate_percentages(normal_meta_data['PatientSex_DICOM'], pneumonia_meta_data['PatientSex_DICOM'])"
   ]
  },
  {
   "cell_type": "code",
   "execution_count": null,
   "metadata": {},
   "outputs": [],
   "source": [
    "print('==== Distribution of ExposureTime ====\\n')\n",
    "\n",
    "calculate_percentages(normal_meta_data['ExposureTime'], pneumonia_meta_data['ExposureTime'])\n"
   ]
  },
  {
   "cell_type": "code",
   "execution_count": null,
   "metadata": {
    "tags": []
   },
   "outputs": [],
   "source": [
    "calculate_percentages(normal_meta_data['Exposure_DICOM'], pneumonia_meta_data['Exposure_DICOM'])\n",
    "\n",
    "filtered_exposure_normal = [int(x) for x in normal_meta_data['Exposure_DICOM'] if str(x) != 'None']\n",
    "filtered_exposure_pneumonia = [int(x) for x in pneumonia_meta_data['Exposure_DICOM'] if str(x) != 'None']\n",
    "print(len(filtered_exposure_normal))\n",
    "print(len(filtered_exposure_pneumonia))\n"
   ]
  },
  {
   "cell_type": "code",
   "execution_count": null,
   "metadata": {},
   "outputs": [],
   "source": [
    "filtered_exposure_normal = sorted(filtered_exposure_normal)\n",
    "filtered_exposure_pneumonia = sorted(filtered_exposure_pneumonia)\n",
    "\n",
    "fig, ax_exp_time = plt.subplots()  # a figure with a single Axes\n",
    "\n",
    "ax_exp_time.set_yscale('log')   # logarithmic scale on y axis\n",
    "\n",
    "# bins must be -0.5 to center the x ticks, for detailled explanation see https://stackoverflow.com/questions/27083051/matplotlib-xticks-not-lining-up-with-histogram\n",
    "ax_exp_time.hist(filtered_exposure_normal, np.arange(42)-0.5, alpha=0.5, label=\"Normal\")\n",
    "ax_exp_time.hist(filtered_exposure_pneumonia,np.arange(42)-0.5, alpha=0.5, color='r', label=\"Pneumonie\")\n",
    "ax_exp_time.set_xlabel('Strom * Zeit in mAs')\n",
    "ax_exp_time.set_ylabel('Anzahl Röntgenbilder')\n",
    "ax_exp_time.legend()\n",
    "ax_exp_time.grid(True)\n",
    "\n",
    "if USE_LATEX_ENGINE:\n",
    "    plt.savefig(\"/mnt/c/Users/Jan/Daten/Dropbox/Master/3_Semester/Masterarbeit/Latex/python_output/padchest_combined_exposure.pdf\")\n",
    "    # plt.savefig('/mnt/c/Users/Jan/Daten/Dropbox/Master/3_Semester/Masterarbeit/Latex/python_output/padchest_combined_exposure.pgf')"
   ]
  },
  {
   "cell_type": "code",
   "execution_count": null,
   "metadata": {},
   "outputs": [],
   "source": [
    "print('==== Distribution of XRayTubeCurrent_DICOM ====\\n')\n",
    "\n",
    "calculate_percentages(normal_meta_data['XRayTubeCurrent_DICOM'], pneumonia_meta_data['XRayTubeCurrent_DICOM'])"
   ]
  },
  {
   "cell_type": "code",
   "execution_count": null,
   "metadata": {},
   "outputs": [],
   "source": [
    "print('==== Distribution of Exposure_DICOM ====\\n')\n",
    "\n",
    "calculate_percentages(normal_meta_data['Exposure_DICOM'], pneumonia_meta_data['Exposure_DICOM'])\n"
   ]
  },
  {
   "cell_type": "code",
   "execution_count": null,
   "metadata": {},
   "outputs": [],
   "source": [
    "print('==== Distribution of Modality_DICOM ====\\n')\n",
    "\n",
    "calculate_percentages(normal_meta_data['Modality_DICOM'], pneumonia_meta_data['Modality_DICOM'])"
   ]
  },
  {
   "cell_type": "code",
   "execution_count": null,
   "metadata": {},
   "outputs": [],
   "source": [
    "print('==== Distribution of Manufacturer_DICOM ====\\n')\n",
    "\n",
    "calculate_percentages(normal_meta_data['Manufacturer_DICOM'], pneumonia_meta_data['Manufacturer_DICOM'])"
   ]
  },
  {
   "cell_type": "code",
   "execution_count": null,
   "metadata": {},
   "outputs": [],
   "source": [
    "print('==== Distribution of PixelAspectRatio_DICOM ====\\n')\n",
    "calculate_percentages(normal_meta_data['PixelAspectRatio_DICOM'], pneumonia_meta_data['PixelAspectRatio_DICOM'])"
   ]
  },
  {
   "cell_type": "code",
   "execution_count": null,
   "metadata": {},
   "outputs": [],
   "source": [
    "print('==== Distribution of Age ====\\n')\n",
    "calculate_percentages(normal_meta_data['PatientBirth'], pneumonia_meta_data['PatientBirth'])"
   ]
  },
  {
   "cell_type": "code",
   "execution_count": null,
   "metadata": {},
   "outputs": [],
   "source": [
    "drop_from_column(normal_meta_data, 'PatientBirth', 'U') # drop unknown birth years, since there's only one entry"
   ]
  },
  {
   "cell_type": "code",
   "execution_count": null,
   "metadata": {},
   "outputs": [],
   "source": [
    "normal_age_list = list()\n",
    "number_of_normal = list()\n",
    "for y in set(normal_meta_data['PatientBirth']):\n",
    "    normal_age_list += [int(y)]\n",
    "    number_of_normal += [sum(normal_meta_data['PatientBirth'] == y)]\n",
    "\n",
    "print(normal_age_list)\n",
    "print(number_of_normal)"
   ]
  },
  {
   "cell_type": "code",
   "execution_count": null,
   "metadata": {},
   "outputs": [],
   "source": [
    "pneumonia_age_list = list()\n",
    "number_of_pneumonia = list()\n",
    "for y in set(pneumonia_meta_data['PatientBirth']):\n",
    "    pneumonia_age_list += [int(y)]\n",
    "    number_of_pneumonia += [sum(pneumonia_meta_data['PatientBirth'] == y)]\n",
    "\n",
    "print(pneumonia_age_list)\n",
    "print(number_of_pneumonia)"
   ]
  },
  {
   "cell_type": "code",
   "execution_count": null,
   "metadata": {},
   "outputs": [],
   "source": [
    "plt.axis([1900, 2021 , 0, 1001])\n",
    "plt.plot(normal_age_list, number_of_normal, label=\"Normal\")\n",
    "plt.plot(pneumonia_age_list, number_of_pneumonia, 'r', label=\"Pneumonie\")\n",
    "plt.ylabel('Anzahl Patienten')\n",
    "plt.xlabel('Geburtsjahr')\n",
    "plt.legend()\n",
    "plt.grid(True)\n",
    "# plt.show()\n",
    "\n",
    "if USE_LATEX_ENGINE:\n",
    "    plt.savefig('/mnt/c/Users/Jan/Daten/Dropbox/Master/3_Semester/Masterarbeit/Latex/python_output/year_of_birth_diagram.pdf')\n"
   ]
  },
  {
   "cell_type": "code",
   "execution_count": null,
   "metadata": {
    "tags": []
   },
   "outputs": [],
   "source": [
    "normal_ages = []\n",
    "for study, birth in zip(normal_meta_data['StudyDate_DICOM'], normal_meta_data['PatientBirth']):\n",
    "    normal_ages.append(int(str(study)[:4]) - int(birth))\n",
    "print(normal_ages[:20])"
   ]
  },
  {
   "cell_type": "code",
   "execution_count": null,
   "metadata": {},
   "outputs": [],
   "source": [
    "pneumonia_ages = []\n",
    "for study, birth in zip(pneumonia_meta_data['StudyDate_DICOM'], pneumonia_meta_data['PatientBirth']):\n",
    "    pneumonia_ages.append(int(str(study)[:4]) - int(birth))\n",
    "print(pneumonia_ages[:20])"
   ]
  },
  {
   "cell_type": "code",
   "execution_count": null,
   "metadata": {},
   "outputs": [],
   "source": [
    "x_axis_age = np.arange(max(set(normal_ages))+2)-0.5 # would be +1 for right aligned, but we want to center the x ticks -> +0.5\n",
    "plt.hist(normal_ages, x_axis_age, alpha=0.5, label=\"Normal\")\n",
    "plt.hist(pneumonia_ages, x_axis_age, alpha=0.5, color='r', label=\"Pneumonie\")\n",
    "plt.ylabel('Anzahl Patienten')\n",
    "plt.xlabel('Alter')\n",
    "plt.legend()\n",
    "plt.grid(True)\n",
    "# plt.show()\n",
    "\n",
    "if USE_LATEX_ENGINE:\n",
    "    plt.savefig('/mnt/c/Users/Jan/Daten/Dropbox/Master/3_Semester/Masterarbeit/Latex/python_output/padchest_age_histogram.pdf')\n"
   ]
  },
  {
   "cell_type": "code",
   "execution_count": null,
   "metadata": {},
   "outputs": [],
   "source": [
    "set(normal_meta_data)"
   ]
  },
  {
   "cell_type": "code",
   "execution_count": null,
   "metadata": {
    "tags": []
   },
   "outputs": [],
   "source": [
    "duplicate_patients = set(normal_meta_data['PatientID']) & set(pneumonia_meta_data['PatientID'])\n",
    "print(str(len(duplicate_patients)) + ' Patients are both in Normal and Pneumonia data present')\n",
    "print('Total number of Patients:\\nNormal: ' + str(len(set(normal_meta_data['PatientID']))) + '\\nPneumonia: ' + str(len(set(pneumonia_meta_data['PatientID']))))"
   ]
  },
  {
   "cell_type": "code",
   "execution_count": null,
   "metadata": {},
   "outputs": [],
   "source": [
    "all_patient_ids = normal_meta_data['PatientID'].append(pneumonia_meta_data['PatientID'])\n",
    "print(str(len(all_patient_ids)))\n",
    "print(str(len(normal_meta_data['ImageID'])))\n",
    "print(str(len(pneumonia_meta_data['ImageID'])))"
   ]
  },
  {
   "cell_type": "code",
   "execution_count": null,
   "metadata": {},
   "outputs": [],
   "source": []
  }
 ]
}