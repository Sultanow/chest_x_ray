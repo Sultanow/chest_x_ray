{
 "cells": [
  {
   "cell_type": "markdown",
   "metadata": {},
   "source": [
    "# ResNet50 - CNN + Masks\n",
    "\n",
    "This notebook uses the ResNet50 model architecture in combination with the unet predicted masks."
   ]
  },
  {
   "cell_type": "code",
   "execution_count": 20,
   "metadata": {},
   "outputs": [],
   "source": [
    "import pandas as pd\n",
    "import tensorflow as tf\n",
    "import matplotlib\n",
    "import matplotlib.pyplot as plt\n",
    "import numpy as np\n",
    "import os\n",
    "import cv2\n",
    "from pathlib import Path\n",
    "from tensorflow.keras.applications.resnet50 import ResNet50\n",
    "from tensorflow.keras.preprocessing.image import ImageDataGenerator\n",
    "from tensorflow.keras import activations\n",
    "from tensorflow.keras.optimizers import Adam\n",
    "from tensorflow.keras.models import Sequential\n",
    "from tensorflow.keras.callbacks import EarlyStopping, Callback\n",
    "from tensorflow.keras.layers import Flatten, Dense, Dropout, BatchNormalization, AveragePooling2D, Conv2D, MaxPool2D, Activation, GlobalAveragePooling2D\n",
    "from sklearn.metrics import classification_report, confusion_matrix\n",
    "from sklearn.metrics import plot_confusion_matrix"
   ]
  },
  {
   "cell_type": "code",
   "execution_count": 21,
   "metadata": {},
   "outputs": [],
   "source": [
    "# Config\n",
    "IMG_SIZE = 256\n",
    "BATCH_SIZE=32\n",
    "train_path = 'data/chest-x-ray/train/'\n",
    "test_path = 'data/chest-x-ray/test/'\n",
    "val_path = 'data/chest-x-ray/val/'\n",
    "\n",
    "train_mask_path = 'data/chest-x-ray/masks/train/'"
   ]
  },
  {
   "cell_type": "markdown",
   "metadata": {},
   "source": [
    "## 1 Data preparation"
   ]
  },
  {
   "cell_type": "code",
   "execution_count": 22,
   "metadata": {},
   "outputs": [],
   "source": [
    "def load_images_from_folder(img_folder, masks_folder):\n",
    "    tmp_df = pd.DataFrame(columns = ['img', 'label', 'mask'])\n",
    "    \n",
    "    # IMGs\n",
    "    for label_folder in os.listdir(img_folder):\n",
    "        # print(label_folder)\n",
    "        for filename in os.listdir(img_folder + '/' + label_folder):\n",
    "            img_path = str(img_folder)+str(label_folder)+'/'+str(filename)\n",
    "            # normal file ending is jpEg...\n",
    "            filename_wo_ending = filename.split('.jpeg')[0]\n",
    "            mask_path = str(masks_folder)+str(label_folder)+'/'+str(filename_wo_ending) + '_predmask.jpg'\n",
    "\n",
    "            if img_path is not None:\n",
    "                tmp_df = tmp_df.append({'img': img_path, 'label': label_folder, 'mask': mask_path}, ignore_index=True)\n",
    "\n",
    "    return tmp_df"
   ]
  },
  {
   "cell_type": "code",
   "execution_count": 23,
   "metadata": {
    "tags": []
   },
   "outputs": [],
   "source": [
    "df_train = load_images_from_folder(train_path, train_mask_path)\n",
    "# df_val = load_images_from_folder(val_path)\n",
    "# df_test = load_images_from_folder(test_path)"
   ]
  },
  {
   "cell_type": "code",
   "execution_count": 24,
   "metadata": {},
   "outputs": [
    {
     "output_type": "execute_result",
     "data": {
      "text/plain": "                                                    img      label  \\\n0       data/chest-x-ray/train/NORMAL/IM-0115-0001.jpeg     NORMAL   \n1       data/chest-x-ray/train/NORMAL/IM-0117-0001.jpeg     NORMAL   \n2       data/chest-x-ray/train/NORMAL/IM-0119-0001.jpeg     NORMAL   \n3       data/chest-x-ray/train/NORMAL/IM-0122-0001.jpeg     NORMAL   \n4       data/chest-x-ray/train/NORMAL/IM-0125-0001.jpeg     NORMAL   \n...                                                 ...        ...   \n5211  data/chest-x-ray/train/PNEUMONIA/person99_viru...  PNEUMONIA   \n5212  data/chest-x-ray/train/PNEUMONIA/person9_bacte...  PNEUMONIA   \n5213  data/chest-x-ray/train/PNEUMONIA/person9_bacte...  PNEUMONIA   \n5214  data/chest-x-ray/train/PNEUMONIA/person9_bacte...  PNEUMONIA   \n5215  data/chest-x-ray/train/PNEUMONIA/person9_bacte...  PNEUMONIA   \n\n                                                   mask  \n0     data/chest-x-ray/masks/train/NORMAL/IM-0115-00...  \n1     data/chest-x-ray/masks/train/NORMAL/IM-0117-00...  \n2     data/chest-x-ray/masks/train/NORMAL/IM-0119-00...  \n3     data/chest-x-ray/masks/train/NORMAL/IM-0122-00...  \n4     data/chest-x-ray/masks/train/NORMAL/IM-0125-00...  \n...                                                 ...  \n5211  data/chest-x-ray/masks/train/PNEUMONIA/person9...  \n5212  data/chest-x-ray/masks/train/PNEUMONIA/person9...  \n5213  data/chest-x-ray/masks/train/PNEUMONIA/person9...  \n5214  data/chest-x-ray/masks/train/PNEUMONIA/person9...  \n5215  data/chest-x-ray/masks/train/PNEUMONIA/person9...  \n\n[5216 rows x 3 columns]",
      "text/html": "<div>\n<style scoped>\n    .dataframe tbody tr th:only-of-type {\n        vertical-align: middle;\n    }\n\n    .dataframe tbody tr th {\n        vertical-align: top;\n    }\n\n    .dataframe thead th {\n        text-align: right;\n    }\n</style>\n<table border=\"1\" class=\"dataframe\">\n  <thead>\n    <tr style=\"text-align: right;\">\n      <th></th>\n      <th>img</th>\n      <th>label</th>\n      <th>mask</th>\n    </tr>\n  </thead>\n  <tbody>\n    <tr>\n      <th>0</th>\n      <td>data/chest-x-ray/train/NORMAL/IM-0115-0001.jpeg</td>\n      <td>NORMAL</td>\n      <td>data/chest-x-ray/masks/train/NORMAL/IM-0115-00...</td>\n    </tr>\n    <tr>\n      <th>1</th>\n      <td>data/chest-x-ray/train/NORMAL/IM-0117-0001.jpeg</td>\n      <td>NORMAL</td>\n      <td>data/chest-x-ray/masks/train/NORMAL/IM-0117-00...</td>\n    </tr>\n    <tr>\n      <th>2</th>\n      <td>data/chest-x-ray/train/NORMAL/IM-0119-0001.jpeg</td>\n      <td>NORMAL</td>\n      <td>data/chest-x-ray/masks/train/NORMAL/IM-0119-00...</td>\n    </tr>\n    <tr>\n      <th>3</th>\n      <td>data/chest-x-ray/train/NORMAL/IM-0122-0001.jpeg</td>\n      <td>NORMAL</td>\n      <td>data/chest-x-ray/masks/train/NORMAL/IM-0122-00...</td>\n    </tr>\n    <tr>\n      <th>4</th>\n      <td>data/chest-x-ray/train/NORMAL/IM-0125-0001.jpeg</td>\n      <td>NORMAL</td>\n      <td>data/chest-x-ray/masks/train/NORMAL/IM-0125-00...</td>\n    </tr>\n    <tr>\n      <th>...</th>\n      <td>...</td>\n      <td>...</td>\n      <td>...</td>\n    </tr>\n    <tr>\n      <th>5211</th>\n      <td>data/chest-x-ray/train/PNEUMONIA/person99_viru...</td>\n      <td>PNEUMONIA</td>\n      <td>data/chest-x-ray/masks/train/PNEUMONIA/person9...</td>\n    </tr>\n    <tr>\n      <th>5212</th>\n      <td>data/chest-x-ray/train/PNEUMONIA/person9_bacte...</td>\n      <td>PNEUMONIA</td>\n      <td>data/chest-x-ray/masks/train/PNEUMONIA/person9...</td>\n    </tr>\n    <tr>\n      <th>5213</th>\n      <td>data/chest-x-ray/train/PNEUMONIA/person9_bacte...</td>\n      <td>PNEUMONIA</td>\n      <td>data/chest-x-ray/masks/train/PNEUMONIA/person9...</td>\n    </tr>\n    <tr>\n      <th>5214</th>\n      <td>data/chest-x-ray/train/PNEUMONIA/person9_bacte...</td>\n      <td>PNEUMONIA</td>\n      <td>data/chest-x-ray/masks/train/PNEUMONIA/person9...</td>\n    </tr>\n    <tr>\n      <th>5215</th>\n      <td>data/chest-x-ray/train/PNEUMONIA/person9_bacte...</td>\n      <td>PNEUMONIA</td>\n      <td>data/chest-x-ray/masks/train/PNEUMONIA/person9...</td>\n    </tr>\n  </tbody>\n</table>\n<p>5216 rows × 3 columns</p>\n</div>"
     },
     "metadata": {},
     "execution_count": 24
    }
   ],
   "source": [
    "df_train"
   ]
  },
  {
   "cell_type": "code",
   "execution_count": 25,
   "metadata": {
    "tags": []
   },
   "outputs": [
    {
     "output_type": "stream",
     "name": "stdout",
     "text": "=== Data: ===\nTrain: 5216\n"
    }
   ],
   "source": [
    "print('=== Data: ===')\n",
    "print('Train:', len(df_train))\n",
    "# print('Val:', len(df_val))\n",
    "# print('Test:', len(df_test))"
   ]
  },
  {
   "cell_type": "code",
   "execution_count": 26,
   "metadata": {},
   "outputs": [],
   "source": [
    "df_train['label'].replace(\n",
    "    to_replace='NORMAL',\n",
    "    value=0,\n",
    "    inplace=True\n",
    ")\n",
    "df_train['label'].replace(\n",
    "    to_replace='PNEUMONIA',\n",
    "    value=1,\n",
    "    inplace=True\n",
    ")"
   ]
  },
  {
   "cell_type": "code",
   "execution_count": 27,
   "metadata": {},
   "outputs": [],
   "source": [
    "df_train = df_train.sample(frac=1, random_state=200).reset_index(drop=True)"
   ]
  },
  {
   "cell_type": "code",
   "execution_count": 28,
   "metadata": {},
   "outputs": [
    {
     "output_type": "execute_result",
     "data": {
      "text/plain": "                                                    img  label  \\\n0     data/chest-x-ray/train/PNEUMONIA/person307_bac...      1   \n1     data/chest-x-ray/train/PNEUMONIA/person1400_ba...      1   \n2     data/chest-x-ray/train/PNEUMONIA/person1369_vi...      1   \n3     data/chest-x-ray/train/PNEUMONIA/person488_vir...      1   \n4       data/chest-x-ray/train/NORMAL/IM-0482-0001.jpeg      0   \n...                                                 ...    ...   \n5211  data/chest-x-ray/train/NORMAL/NORMAL2-IM-0736-...      0   \n5212  data/chest-x-ray/train/PNEUMONIA/person1777_ba...      1   \n5213  data/chest-x-ray/train/NORMAL/NORMAL2-IM-0635-...      0   \n5214  data/chest-x-ray/train/PNEUMONIA/person718_vir...      1   \n5215  data/chest-x-ray/train/PNEUMONIA/person124_vir...      1   \n\n                                                   mask  \n0     data/chest-x-ray/masks/train/PNEUMONIA/person3...  \n1     data/chest-x-ray/masks/train/PNEUMONIA/person1...  \n2     data/chest-x-ray/masks/train/PNEUMONIA/person1...  \n3     data/chest-x-ray/masks/train/PNEUMONIA/person4...  \n4     data/chest-x-ray/masks/train/NORMAL/IM-0482-00...  \n...                                                 ...  \n5211  data/chest-x-ray/masks/train/NORMAL/NORMAL2-IM...  \n5212  data/chest-x-ray/masks/train/PNEUMONIA/person1...  \n5213  data/chest-x-ray/masks/train/NORMAL/NORMAL2-IM...  \n5214  data/chest-x-ray/masks/train/PNEUMONIA/person7...  \n5215  data/chest-x-ray/masks/train/PNEUMONIA/person1...  \n\n[5216 rows x 3 columns]",
      "text/html": "<div>\n<style scoped>\n    .dataframe tbody tr th:only-of-type {\n        vertical-align: middle;\n    }\n\n    .dataframe tbody tr th {\n        vertical-align: top;\n    }\n\n    .dataframe thead th {\n        text-align: right;\n    }\n</style>\n<table border=\"1\" class=\"dataframe\">\n  <thead>\n    <tr style=\"text-align: right;\">\n      <th></th>\n      <th>img</th>\n      <th>label</th>\n      <th>mask</th>\n    </tr>\n  </thead>\n  <tbody>\n    <tr>\n      <th>0</th>\n      <td>data/chest-x-ray/train/PNEUMONIA/person307_bac...</td>\n      <td>1</td>\n      <td>data/chest-x-ray/masks/train/PNEUMONIA/person3...</td>\n    </tr>\n    <tr>\n      <th>1</th>\n      <td>data/chest-x-ray/train/PNEUMONIA/person1400_ba...</td>\n      <td>1</td>\n      <td>data/chest-x-ray/masks/train/PNEUMONIA/person1...</td>\n    </tr>\n    <tr>\n      <th>2</th>\n      <td>data/chest-x-ray/train/PNEUMONIA/person1369_vi...</td>\n      <td>1</td>\n      <td>data/chest-x-ray/masks/train/PNEUMONIA/person1...</td>\n    </tr>\n    <tr>\n      <th>3</th>\n      <td>data/chest-x-ray/train/PNEUMONIA/person488_vir...</td>\n      <td>1</td>\n      <td>data/chest-x-ray/masks/train/PNEUMONIA/person4...</td>\n    </tr>\n    <tr>\n      <th>4</th>\n      <td>data/chest-x-ray/train/NORMAL/IM-0482-0001.jpeg</td>\n      <td>0</td>\n      <td>data/chest-x-ray/masks/train/NORMAL/IM-0482-00...</td>\n    </tr>\n    <tr>\n      <th>...</th>\n      <td>...</td>\n      <td>...</td>\n      <td>...</td>\n    </tr>\n    <tr>\n      <th>5211</th>\n      <td>data/chest-x-ray/train/NORMAL/NORMAL2-IM-0736-...</td>\n      <td>0</td>\n      <td>data/chest-x-ray/masks/train/NORMAL/NORMAL2-IM...</td>\n    </tr>\n    <tr>\n      <th>5212</th>\n      <td>data/chest-x-ray/train/PNEUMONIA/person1777_ba...</td>\n      <td>1</td>\n      <td>data/chest-x-ray/masks/train/PNEUMONIA/person1...</td>\n    </tr>\n    <tr>\n      <th>5213</th>\n      <td>data/chest-x-ray/train/NORMAL/NORMAL2-IM-0635-...</td>\n      <td>0</td>\n      <td>data/chest-x-ray/masks/train/NORMAL/NORMAL2-IM...</td>\n    </tr>\n    <tr>\n      <th>5214</th>\n      <td>data/chest-x-ray/train/PNEUMONIA/person718_vir...</td>\n      <td>1</td>\n      <td>data/chest-x-ray/masks/train/PNEUMONIA/person7...</td>\n    </tr>\n    <tr>\n      <th>5215</th>\n      <td>data/chest-x-ray/train/PNEUMONIA/person124_vir...</td>\n      <td>1</td>\n      <td>data/chest-x-ray/masks/train/PNEUMONIA/person1...</td>\n    </tr>\n  </tbody>\n</table>\n<p>5216 rows × 3 columns</p>\n</div>"
     },
     "metadata": {},
     "execution_count": 28
    }
   ],
   "source": [
    "df_train"
   ]
  },
  {
   "cell_type": "code",
   "execution_count": 29,
   "metadata": {},
   "outputs": [
    {
     "output_type": "execute_result",
     "data": {
      "text/plain": "1341"
     },
     "metadata": {},
     "execution_count": 29
    }
   ],
   "source": [
    "len(df_train[df_train.label == 0])"
   ]
  },
  {
   "cell_type": "markdown",
   "metadata": {},
   "source": [
    "## 2 Data generator"
   ]
  },
  {
   "cell_type": "code",
   "execution_count": 30,
   "metadata": {},
   "outputs": [],
   "source": [
    "class DataGenerator(tf.keras.utils.Sequence):\n",
    "    def __init__(self, df, x_col, y_col=None, batch_size=32, num_classes=None, shuffle=True):\n",
    "        self.batch_size = batch_size\n",
    "        self.df = df\n",
    "        self.indices = self.df.index.tolist()\n",
    "        self.num_classes = num_classes\n",
    "        self.shuffle = shuffle\n",
    "        self.x_col = x_col\n",
    "        self.y_col = y_col\n",
    "        self.on_epoch_end()\n",
    "\n",
    "    def __len__(self):\n",
    "        return len(self.indices) // self.batch_size\n",
    "\n",
    "    def __getitem__(self, index):\n",
    "        indexes = self.indices[index * self.batch_size:(index + 1) * self.batch_size]\n",
    "        batch = [self.indices[k] for k in indexes]        \n",
    "        X, y = self.__get_data(batch)\n",
    "        return np.array(X), np.array(y)\n",
    "\n",
    "    def on_epoch_end(self):\n",
    "        # Todo: Fix?\n",
    "        # self.indexes = np.arange(len(self.indices))\n",
    "        if self.shuffle == True:\n",
    "            np.random.shuffle(self.indices)        \n",
    "\n",
    "    def __get_data(self, batch):\n",
    "        X_img_paths = self.df['img']\n",
    "        X_mask_paths = self.df['mask']\n",
    "        Y = self.df['label'].iloc[batch].to_numpy()\n",
    "        \n",
    "        X_imgs = []\n",
    "        X_masks = []\n",
    "\n",
    "        for i in range(0, len(batch)):\n",
    "            img = cv2.resize(cv2.imread(str(X_img_paths.iloc[i]), cv2.IMREAD_GRAYSCALE), (IMG_SIZE, IMG_SIZE))\n",
    "            mask = cv2.resize(cv2.imread(str(X_mask_paths.iloc[i]), cv2.IMREAD_GRAYSCALE), (IMG_SIZE, IMG_SIZE))\n",
    "            X_imgs.append(img)\n",
    "            X_masks.append(mask)\n",
    "       \n",
    "        return np.stack((X_imgs, X_masks), axis=3), Y"
   ]
  },
  {
   "cell_type": "code",
   "execution_count": 31,
   "metadata": {
    "tags": []
   },
   "outputs": [],
   "source": [
    "train_generator = DataGenerator(df_train, None, None, 32, None, None)"
   ]
  },
  {
   "cell_type": "markdown",
   "metadata": {},
   "source": [
    "## 3 Model training"
   ]
  },
  {
   "cell_type": "code",
   "execution_count": 32,
   "metadata": {
    "tags": []
   },
   "outputs": [
    {
     "output_type": "stream",
     "name": "stdout",
     "text": "Model: \"sequential_2\"\n_________________________________________________________________\nLayer (type)                 Output Shape              Param #   \n=================================================================\nconv2d_8 (Conv2D)            (None, 256, 256, 32)      608       \n_________________________________________________________________\nactivation_12 (Activation)   (None, 256, 256, 32)      0         \n_________________________________________________________________\nconv2d_9 (Conv2D)            (None, 256, 256, 32)      9248      \n_________________________________________________________________\nactivation_13 (Activation)   (None, 256, 256, 32)      0         \n_________________________________________________________________\nmax_pooling2d_4 (MaxPooling2 (None, 85, 85, 32)        0         \n_________________________________________________________________\ndropout_6 (Dropout)          (None, 85, 85, 32)        0         \n_________________________________________________________________\nconv2d_10 (Conv2D)           (None, 85, 85, 64)        18496     \n_________________________________________________________________\nactivation_14 (Activation)   (None, 85, 85, 64)        0         \n_________________________________________________________________\nconv2d_11 (Conv2D)           (None, 85, 85, 128)       32896     \n_________________________________________________________________\nactivation_15 (Activation)   (None, 85, 85, 128)       0         \n_________________________________________________________________\nmax_pooling2d_5 (MaxPooling2 (None, 42, 42, 128)       0         \n_________________________________________________________________\ndropout_7 (Dropout)          (None, 42, 42, 128)       0         \n_________________________________________________________________\nflatten_2 (Flatten)          (None, 225792)            0         \n_________________________________________________________________\ndense_6 (Dense)              (None, 256)               57803008  \n_________________________________________________________________\nactivation_16 (Activation)   (None, 256)               0         \n_________________________________________________________________\ndropout_8 (Dropout)          (None, 256)               0         \n_________________________________________________________________\ndense_7 (Dense)              (None, 512)               131584    \n_________________________________________________________________\nactivation_17 (Activation)   (None, 512)               0         \n_________________________________________________________________\ndense_8 (Dense)              (None, 1)                 513       \n=================================================================\nTotal params: 57,996,353\nTrainable params: 57,996,353\nNon-trainable params: 0\n_________________________________________________________________\n"
    }
   ],
   "source": [
    "model = Sequential()\n",
    "model.add(Conv2D(32, (3,3), padding = \"same\", input_shape=(IMG_SIZE,IMG_SIZE,2)))\n",
    "model.add(Activation(activations.relu))\n",
    "model.add(Conv2D(32, (3,3), padding = \"same\"))\n",
    "model.add(Activation(activations.relu))\n",
    "model.add(MaxPool2D(pool_size = (3, 3)))\n",
    "model.add(Dropout(0.2))\n",
    "\n",
    "model.add(Conv2D(64, (3,3), padding = \"same\", input_shape=(IMG_SIZE,IMG_SIZE,2)))\n",
    "model.add(Activation(activations.relu))\n",
    "model.add(Conv2D(128, (2,2), padding = \"same\"))\n",
    "model.add(Activation(activations.relu))\n",
    "model.add(MaxPool2D(pool_size = (2, 2)))\n",
    "model.add(Dropout(0.2))\n",
    "\n",
    "model.add(Flatten())\n",
    "model.add(Dense(256))\n",
    "model.add(Activation(activations.relu))\n",
    "model.add(Dropout(0.5))\n",
    "model.add(Dense(512))\n",
    "model.add(Activation(activations.relu))\n",
    "# model.add(Dropout(0.5))\n",
    "model.add(Dense(1, activation='sigmoid'))\n",
    "\n",
    "# TOOD: binary crossentropy\n",
    "model.compile(optimizer = Adam(learning_rate=0.001), loss = 'categorical_crossentropy', metrics = ['accuracy'])\n",
    "model.summary()"
   ]
  },
  {
   "cell_type": "code",
   "execution_count": 13,
   "metadata": {},
   "outputs": [],
   "source": [
    "early_stop = EarlyStopping(monitor='val_acc', patience=5, mode='max') \n",
    "callbacks_list = [early_stop]"
   ]
  },
  {
   "cell_type": "code",
   "execution_count": 33,
   "metadata": {
    "tags": []
   },
   "outputs": [
    {
     "output_type": "stream",
     "name": "stdout",
     "text": "Epoch 1/10\n163/163 [==============================] - 34s 209ms/step - loss: 8.8561e-08 - accuracy: 0.5623\nEpoch 2/10\n163/163 [==============================] - 34s 211ms/step - loss: 8.8561e-08 - accuracy: 0.5602\nEpoch 3/10\n163/163 [==============================] - 35s 212ms/step - loss: 8.8561e-08 - accuracy: 0.5690\nEpoch 4/10\n163/163 [==============================] - 34s 211ms/step - loss: 8.8561e-08 - accuracy: 0.5700\nEpoch 5/10\n163/163 [==============================] - 34s 211ms/step - loss: 8.8561e-08 - accuracy: 0.5742\nEpoch 6/10\n163/163 [==============================] - 35s 212ms/step - loss: 8.8561e-08 - accuracy: 0.5608\nEpoch 7/10\n163/163 [==============================] - 34s 211ms/step - loss: 8.8561e-08 - accuracy: 0.5623\nEpoch 8/10\n163/163 [==============================] - 34s 211ms/step - loss: 8.8561e-08 - accuracy: 0.5713\nEpoch 9/10\n163/163 [==============================] - 35s 212ms/step - loss: 8.8561e-08 - accuracy: 0.5692\nEpoch 10/10\n163/163 [==============================] - 35s 212ms/step - loss: 8.8561e-08 - accuracy: 0.5730\n"
    }
   ],
   "source": [
    "history = model.fit(train_generator, \n",
    "                    steps_per_epoch=len(train_generator),\n",
    "                    epochs=10, \n",
    "                    # callbacks=callbacks_list,\n",
    "                    verbose = True)"
   ]
  },
  {
   "cell_type": "code",
   "execution_count": 34,
   "metadata": {},
   "outputs": [
    {
     "output_type": "error",
     "ename": "KeyError",
     "evalue": "'val_accuracy'",
     "traceback": [
      "\u001b[1;31m---------------------------------------------------------------------------\u001b[0m",
      "\u001b[1;31mKeyError\u001b[0m                                  Traceback (most recent call last)",
      "\u001b[1;32m<ipython-input-34-08cf80286d8f>\u001b[0m in \u001b[0;36m<module>\u001b[1;34m\u001b[0m\n\u001b[0;32m      1\u001b[0m \u001b[0macc\u001b[0m \u001b[1;33m=\u001b[0m \u001b[0mhistory\u001b[0m\u001b[1;33m.\u001b[0m\u001b[0mhistory\u001b[0m\u001b[1;33m[\u001b[0m\u001b[1;34m'accuracy'\u001b[0m\u001b[1;33m]\u001b[0m\u001b[1;33m\u001b[0m\u001b[1;33m\u001b[0m\u001b[0m\n\u001b[1;32m----> 2\u001b[1;33m \u001b[0mval_acc\u001b[0m \u001b[1;33m=\u001b[0m \u001b[0mhistory\u001b[0m\u001b[1;33m.\u001b[0m\u001b[0mhistory\u001b[0m\u001b[1;33m[\u001b[0m\u001b[1;34m'val_accuracy'\u001b[0m\u001b[1;33m]\u001b[0m\u001b[1;33m\u001b[0m\u001b[1;33m\u001b[0m\u001b[0m\n\u001b[0m\u001b[0;32m      3\u001b[0m \u001b[0mloss\u001b[0m \u001b[1;33m=\u001b[0m \u001b[0mhistory\u001b[0m\u001b[1;33m.\u001b[0m\u001b[0mhistory\u001b[0m\u001b[1;33m[\u001b[0m\u001b[1;34m'loss'\u001b[0m\u001b[1;33m]\u001b[0m\u001b[1;33m\u001b[0m\u001b[1;33m\u001b[0m\u001b[0m\n\u001b[0;32m      4\u001b[0m \u001b[0mval_loss\u001b[0m \u001b[1;33m=\u001b[0m \u001b[0mhistory\u001b[0m\u001b[1;33m.\u001b[0m\u001b[0mhistory\u001b[0m\u001b[1;33m[\u001b[0m\u001b[1;34m'val_loss'\u001b[0m\u001b[1;33m]\u001b[0m\u001b[1;33m\u001b[0m\u001b[1;33m\u001b[0m\u001b[0m\n\u001b[0;32m      5\u001b[0m \u001b[0mepochs\u001b[0m \u001b[1;33m=\u001b[0m \u001b[0mrange\u001b[0m\u001b[1;33m(\u001b[0m\u001b[1;36m1\u001b[0m\u001b[1;33m,\u001b[0m \u001b[0mlen\u001b[0m\u001b[1;33m(\u001b[0m\u001b[0macc\u001b[0m\u001b[1;33m)\u001b[0m \u001b[1;33m+\u001b[0m \u001b[1;36m1\u001b[0m\u001b[1;33m)\u001b[0m\u001b[1;33m\u001b[0m\u001b[1;33m\u001b[0m\u001b[0m\n",
      "\u001b[1;31mKeyError\u001b[0m: 'val_accuracy'"
     ]
    }
   ],
   "source": [
    "acc = history.history['accuracy']\n",
    "val_acc = history.history['val_accuracy']\n",
    "loss = history.history['loss']\n",
    "val_loss = history.history['val_loss']\n",
    "epochs = range(1, len(acc) + 1)\n",
    "plt.plot(epochs, acc, 'blue', label='Training acc')\n",
    "plt.plot(epochs, val_acc, 'red', label='Validation acc')\n",
    "plt.title('Training and validation accuracy')\n",
    "plt.legend()\n",
    "plt.figure()\n",
    "plt.plot(epochs, loss, 'blue', label='Training loss')\n",
    "plt.plot(epochs, val_loss, 'red', label='Validation loss')\n",
    "plt.title('Training and validation loss')\n",
    "plt.legend()\n",
    "plt.show()"
   ]
  },
  {
   "cell_type": "markdown",
   "metadata": {},
   "source": [
    "## 4 Model evaluation"
   ]
  },
  {
   "cell_type": "code",
   "execution_count": 51,
   "metadata": {},
   "outputs": [
    {
     "name": "stdout",
     "output_type": "stream",
     "text": [
      "\n",
      "# Evaluate on test data\n",
      "15/15 [==============================] - 5s 352ms/step - loss: 0.2079 - accuracy: 0.9278\n",
      "test loss, test acc: [0.2079380750656128, 0.9278131723403931]\n"
     ]
    }
   ],
   "source": [
    "# Evaluate the model on the test data using `evaluate`\n",
    "print('\\n# Evaluate on test data')\n",
    "results = model.evaluate(test_generator)\n",
    "print('test loss, test acc:', results)"
   ]
  },
  {
   "cell_type": "code",
   "execution_count": 52,
   "metadata": {},
   "outputs": [
    {
     "name": "stdout",
     "output_type": "stream",
     "text": [
      "WARNING:tensorflow:AutoGraph could not transform <function Model.make_predict_function.<locals>.predict_function at 0x0000020CA976FA60> and will run it as-is.\n",
      "Please report this to the TensorFlow team. When filing the bug, set the verbosity to 10 (on Linux, `export AUTOGRAPH_VERBOSITY=10`) and attach the full output.\n",
      "Cause: Bad argument number for Name: 4, expecting 3\n",
      "To silence this warning, decorate the function with @tf.autograph.experimental.do_not_convert\n",
      "WARNING: AutoGraph could not transform <function Model.make_predict_function.<locals>.predict_function at 0x0000020CA976FA60> and will run it as-is.\n",
      "Please report this to the TensorFlow team. When filing the bug, set the verbosity to 10 (on Linux, `export AUTOGRAPH_VERBOSITY=10`) and attach the full output.\n",
      "Cause: Bad argument number for Name: 4, expecting 3\n",
      "To silence this warning, decorate the function with @tf.autograph.experimental.do_not_convert\n"
     ]
    }
   ],
   "source": [
    "test_steps_per_epoch = np.math.ceil(test_generator.samples / test_generator.batch_size)\n",
    "predictions = model.predict(test_generator, steps=test_steps_per_epoch)\n",
    "# Get most likely class\n",
    "predicted_classes = np.round(predictions)"
   ]
  },
  {
   "cell_type": "code",
   "execution_count": 53,
   "metadata": {},
   "outputs": [],
   "source": [
    "true_classes = test_generator.classes\n",
    "class_labels = list(test_generator.class_indices.keys())   "
   ]
  },
  {
   "cell_type": "code",
   "execution_count": 54,
   "metadata": {},
   "outputs": [
    {
     "name": "stdout",
     "output_type": "stream",
     "text": [
      "              precision    recall  f1-score   support\n",
      "\n",
      "      NORMAL       0.97      0.82      0.89       168\n",
      "   PNEUMONIA       0.91      0.99      0.95       303\n",
      "\n",
      "    accuracy                           0.93       471\n",
      "   macro avg       0.94      0.90      0.92       471\n",
      "weighted avg       0.93      0.93      0.93       471\n",
      "\n"
     ]
    }
   ],
   "source": [
    "report = classification_report(true_classes, predicted_classes, target_names=class_labels)\n",
    "print(report)"
   ]
  },
  {
   "cell_type": "code",
   "execution_count": 55,
   "metadata": {},
   "outputs": [],
   "source": [
    "y_true = test_generator.classes\n",
    "y_pred = predictions > 0.5"
   ]
  },
  {
   "cell_type": "code",
   "execution_count": 56,
   "metadata": {},
   "outputs": [],
   "source": [
    "# https://www.kaggle.com/grfiv4/plot-a-confusion-matrix/data\n",
    "def plot_confusion_matrix(cm,\n",
    "                          target_names,\n",
    "                          title='Confusion matrix',\n",
    "                          cmap=None,\n",
    "                          normalize=True):\n",
    "    \"\"\"\n",
    "    given a sklearn confusion matrix (cm), make a nice plot\n",
    "\n",
    "    Arguments\n",
    "    ---------\n",
    "    cm:           confusion matrix from sklearn.metrics.confusion_matrix\n",
    "\n",
    "    target_names: given classification classes such as [0, 1, 2]\n",
    "                  the class names, for example: ['high', 'medium', 'low']\n",
    "\n",
    "    title:        the text to display at the top of the matrix\n",
    "\n",
    "    cmap:         the gradient of the values displayed from matplotlib.pyplot.cm\n",
    "                  see http://matplotlib.org/examples/color/colormaps_reference.html\n",
    "                  plt.get_cmap('jet') or plt.cm.Blues\n",
    "\n",
    "    normalize:    If False, plot the raw numbers\n",
    "                  If True, plot the proportions\n",
    "\n",
    "    Usage\n",
    "    -----\n",
    "    plot_confusion_matrix(cm           = cm,                  # confusion matrix created by\n",
    "                                                              # sklearn.metrics.confusion_matrix\n",
    "                          normalize    = True,                # show proportions\n",
    "                          target_names = y_labels_vals,       # list of names of the classes\n",
    "                          title        = best_estimator_name) # title of graph\n",
    "\n",
    "    Citiation\n",
    "    ---------\n",
    "    http://scikit-learn.org/stable/auto_examples/model_selection/plot_confusion_matrix.html\n",
    "\n",
    "    \"\"\"\n",
    "    import matplotlib.pyplot as plt\n",
    "    import numpy as np\n",
    "    import itertools\n",
    "\n",
    "    accuracy = np.trace(cm) / float(np.sum(cm))\n",
    "    misclass = 1 - accuracy\n",
    "\n",
    "    if cmap is None:\n",
    "        cmap = plt.get_cmap('Blues')\n",
    "\n",
    "    plt.figure(figsize=(8, 6))\n",
    "    plt.imshow(cm, interpolation='nearest', cmap=cmap)\n",
    "    plt.title(title)\n",
    "    plt.colorbar()\n",
    "\n",
    "    if target_names is not None:\n",
    "        tick_marks = np.arange(len(target_names))\n",
    "        plt.xticks(tick_marks, target_names, rotation=45)\n",
    "        plt.yticks(tick_marks, target_names)\n",
    "\n",
    "    if normalize:\n",
    "        cm = cm.astype('float') / cm.sum(axis=1)[:, np.newaxis]\n",
    "\n",
    "\n",
    "    thresh = cm.max() / 1.5 if normalize else cm.max() / 2\n",
    "    for i, j in itertools.product(range(cm.shape[0]), range(cm.shape[1])):\n",
    "        if normalize:\n",
    "            plt.text(j, i, \"{:0.4f}\".format(cm[i, j]),\n",
    "                     horizontalalignment=\"center\",\n",
    "                     color=\"white\" if cm[i, j] > thresh else \"black\")\n",
    "        else:\n",
    "            plt.text(j, i, \"{:,}\".format(cm[i, j]),\n",
    "                     horizontalalignment=\"center\",\n",
    "                     color=\"white\" if cm[i, j] > thresh else \"black\")\n",
    "\n",
    "\n",
    "    plt.tight_layout()\n",
    "    plt.ylabel('True label')\n",
    "    plt.xlabel('Predicted label\\naccuracy={:0.4f}; misclass={:0.4f}'.format(accuracy, misclass))\n",
    "    plt.show()"
   ]
  },
  {
   "cell_type": "code",
   "execution_count": 57,
   "metadata": {},
   "outputs": [],
   "source": [
    "y_pred = np.round(predictions)\n",
    "cm = confusion_matrix(test_generator.classes, y_pred)"
   ]
  },
  {
   "cell_type": "code",
   "execution_count": 58,
   "metadata": {},
   "outputs": [
    {
     "data": {
      "image/png": "[encoded data removed]",
      "text/plain": [
       "<Figure size 576x432 with 2 Axes>"
      ]
     },
     "metadata": {
      "needs_background": "light"
     },
     "output_type": "display_data"
    }
   ],
   "source": [
    "plot_confusion_matrix(cm, ['Normal', 'Pneumonia'], normalize=False)"
   ]
  },
  {
   "cell_type": "code",
   "execution_count": null,
   "metadata": {},
   "outputs": [],
   "source": []
  }
 ],
 "metadata": {
  "kernelspec": {
   "display_name": "chestxray37",
   "language": "python",
   "name": "chestxray37"
  },
  "language_info": {
   "codemirror_mode": {
    "name": "ipython",
    "version": 3
   },
   "file_extension": ".py",
   "mimetype": "text/x-python",
   "name": "python",
   "nbconvert_exporter": "python",
   "pygments_lexer": "ipython3",
   "version": "3.7.7-final"
  }
 },
 "nbformat": 4,
 "nbformat_minor": 4
}