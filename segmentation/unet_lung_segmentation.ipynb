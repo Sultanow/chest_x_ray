{
 "cells": [
  {
   "cell_type": "code",
   "execution_count": 23,
   "metadata": {
    "pycharm": {
     "name": "#%%\n"
    },
    "tags": []
   },
   "outputs": [],
   "source": [
    "import os\n",
    "import numpy as np\n",
    "import tensorflow as tf\n",
    "import pandas as pd\n",
    "import cv2\n",
    "import math\n",
    "import matplotlib.pyplot as plt\n",
    "import matplotlib\n",
    "import imgaug.augmenters as iaa\n",
    "from pathlib import Path\n",
    "from tensorflow.keras.preprocessing.image import ImageDataGenerator\n",
    "from PIL import Image\n",
    "from tensorflow.keras.callbacks import ModelCheckpoint, ReduceLROnPlateau, EarlyStopping\n",
    "from keras_unet.models import custom_unet\n",
    "from keras_unet.metrics import iou\n",
    "from keras_unet.losses import jaccard_distance\n",
    "from skimage import morphology\n",
    "from sklearn.model_selection import train_test_split"
   ]
  },
  {
   "cell_type": "code",
   "execution_count": 24,
   "metadata": {
    "scrolled": true
   },
   "outputs": [
    {
     "data": {
      "text/plain": [
       "'2.3.1'"
      ]
     },
     "execution_count": 24,
     "metadata": {},
     "output_type": "execute_result"
    }
   ],
   "source": [
    "tf.__version__"
   ]
  },
  {
   "cell_type": "markdown",
   "metadata": {
    "pycharm": {
     "name": "#%% md\n"
    }
   },
   "source": [
    "# Data preparation"
   ]
  },
  {
   "cell_type": "code",
   "execution_count": 25,
   "metadata": {},
   "outputs": [],
   "source": [
    "CXR_TRAIN_IMAGE_BASE_PATH = '/home/daniel/dev/python/chest_x_ray/data/lung_segmentation/CXR_png'\n",
    "CXR_TRAIN_MASKS_BASE_PATH = '/home/daniel/dev/python/chest_x_ray/data/lung_segmentation/masks'\n",
    "MODEL_CHECKPOINT_PATH = '/home/daniel/dev/python/chest_x_ray/models/unet_grayscaled_0401.h5'\n",
    "np.random.seed(10)"
   ]
  },
  {
   "cell_type": "code",
   "execution_count": 26,
   "metadata": {},
   "outputs": [],
   "source": [
    "CXR_TRAIN_IMAGE_BASE_PATH = '/home/8cb7/kaggle_data/lung_segmentation/CXR_png/'\n",
    "CXR_TRAIN_MASKS_BASE_PATH = '/home/8cb7/kaggle_data/lung_segmentation/masks/'\n",
    "MODEL_CHECKPOINT_PATH = '/home/8cb7/kaggle_data/models/unet_grayscaled_0401.h5'"
   ]
  },
  {
   "cell_type": "code",
   "execution_count": 27,
   "metadata": {},
   "outputs": [],
   "source": [
    "def load_images():\n",
    "    images = sorted(list(Path(os.path.join(CXR_TRAIN_IMAGE_BASE_PATH)).glob('**/*')))\n",
    "    masks = sorted(list(Path(os.path.join(CXR_TRAIN_MASKS_BASE_PATH)).glob('**/*')))\n",
    "    print(\"Amount of images: \", len(images))\n",
    "    print(\"Amount of masks: \", len(masks))\n",
    "    return images, masks\n",
    "\n",
    "def generate_tuple(images, masks):\n",
    "    img_mask_tuples = []\n",
    "    for mask_path in masks:\n",
    "        for i in images:\n",
    "            basename = (os.path.basename(i)).split(\".\")[0]\n",
    "            if basename in str(mask_path):\n",
    "                img_path = i\n",
    "                break\n",
    "        img_mask_tuples.append((str(img_path), str(mask_path)))\n",
    "    print(\"Amount of tuples: \", len(img_mask_tuples))\n",
    "    return img_mask_tuples\n"
   ]
  },
  {
   "cell_type": "code",
   "execution_count": 28,
   "metadata": {},
   "outputs": [
    {
     "name": "stdout",
     "output_type": "stream",
     "text": [
      "Amount of images:  800\n",
      "Amount of masks:  704\n",
      "Amount of tuples:  704\n"
     ]
    },
    {
     "data": {
      "text/plain": [
       "704"
      ]
     },
     "execution_count": 28,
     "metadata": {},
     "output_type": "execute_result"
    }
   ],
   "source": [
    "images, masks = load_images()\n",
    "img_mask_tuples = generate_tuple(images, masks)\n",
    "len(img_mask_tuples)"
   ]
  },
  {
   "cell_type": "markdown",
   "metadata": {
    "pycharm": {
     "name": "#%% md\n"
    }
   },
   "source": [
    "## Plot images and masks"
   ]
  },
  {
   "cell_type": "code",
   "execution_count": 29,
   "metadata": {
    "pycharm": {
     "name": "#%%\n"
    }
   },
   "outputs": [],
   "source": [
    "def plot_img(img_mask_tuple):\n",
    "    img_concat = np.concatenate((cv2.imread(str(img_mask_tuple[0])), cv2.imread(str(img_mask_tuple[1]))), axis=1)\n",
    "    plt.axis('off')\n",
    "    plt.imshow(img_concat)"
   ]
  },
  {
   "cell_type": "code",
   "execution_count": 30,
   "metadata": {
    "pycharm": {
     "name": "#%%\n"
    }
   },
   "outputs": [],
   "source": [
    "# plot_img(img_mask_tuples[3])"
   ]
  },
  {
   "cell_type": "code",
   "execution_count": 31,
   "metadata": {
    "pycharm": {
     "name": "#%%\n"
    }
   },
   "outputs": [],
   "source": [
    "def plot_img_matrix(img_mask_tuple_list, cols):\n",
    "    # concat\n",
    "    images = []\n",
    "    for t in img_mask_tuple_list:\n",
    "        img_concat = np.concatenate((cv2.imread(str(t[0])), cv2.imread(str(t[1]))), axis=1)\n",
    "        images.append(img_concat)\n",
    "    # plot\n",
    "    plt.subplots(figsize=(15,5))\n",
    "    if len(images) % cols == 0:\n",
    "        rows = len(images) / cols\n",
    "    else:\n",
    "        rows = (len(images) % cols) +1\n",
    "    for num, x in enumerate(images):\n",
    "        plt.subplot(rows,cols,num+1)\n",
    "        plt.axis('off')\n",
    "        plt.imshow(x)"
   ]
  },
  {
   "cell_type": "code",
   "execution_count": 32,
   "metadata": {
    "pycharm": {
     "name": "#%%\n"
    }
   },
   "outputs": [],
   "source": [
    "# plot_img_matrix(img_mask_tuples[:10], 4)"
   ]
  },
  {
   "cell_type": "code",
   "execution_count": 33,
   "metadata": {
    "pycharm": {
     "name": "#%%\n"
    }
   },
   "outputs": [
    {
     "name": "stdout",
     "output_type": "stream",
     "text": [
      "# train  422\n",
      "# test   141\n",
      "# val    141\n"
     ]
    }
   ],
   "source": [
    "df = pd.DataFrame(img_mask_tuples, dtype='str', columns=['img', 'mask'])\n",
    "\n",
    "df_train, df_test = train_test_split(df, test_size=0.4)\n",
    "df_test, df_val = train_test_split(df_test, test_size=0.5)\n",
    "\n",
    "\n",
    "df_train = df_train.sample(frac=1).reset_index(drop=True)\n",
    "df_test = df_test.sample(frac=1).reset_index(drop=True)\n",
    "df_val = df_val.sample(frac=1).reset_index(drop=True)\n",
    "\n",
    "\n",
    "print(\"# train \", len(df_train))\n",
    "print(\"# test  \", len(df_test))\n",
    "print(\"# val   \", len(df_val))"
   ]
  },
  {
   "cell_type": "markdown",
   "metadata": {
    "pycharm": {
     "name": "#%% md\n"
    }
   },
   "source": [
    "## UNET"
   ]
  },
  {
   "cell_type": "code",
   "execution_count": 34,
   "metadata": {},
   "outputs": [],
   "source": [
    "IMG_SIZE = 256\n",
    "BATCH_SIZE = 8\n",
    "DILATE_KERNEL = np.ones((15, 15), np.uint8)"
   ]
  },
  {
   "cell_type": "code",
   "execution_count": 35,
   "metadata": {},
   "outputs": [],
   "source": [
    "# sometimes = lambda aug: iaa.Sometimes(0.5, aug)\n",
    "# seq_img = iaa.Sequential([\n",
    "#     #iaa.Fliplr(0.5),\n",
    "#     aug_clahe,\n",
    "# #     sometimes(iaa.Affine(\n",
    "# #            rotate=(-10, 10),\n",
    "# #            shear=(10,10),\n",
    "# #             scale={\"x\": (1, 1.1), \"y\": (1, 1.1)},\n",
    "# #     )),\n",
    "# ], random_order=True)\n",
    "\n",
    "class DataGenerator(tf.keras.utils.Sequence):\n",
    "    def __init__(self, df, batch_size=BATCH_SIZE, shuffle=True, augment=True):\n",
    "        self.batch_size = batch_size\n",
    "        self.df = df\n",
    "        self.indices = self.df.index.tolist()\n",
    "        self.shuffle = shuffle\n",
    "        self.augment = augment\n",
    "\n",
    "    def __len__(self):\n",
    "        return math.ceil(len(self.indices)/ self.batch_size)\n",
    "\n",
    "    def __getitem__(self, index):\n",
    "        indexes = self.indices[index * self.batch_size:(index + 1) * self.batch_size]\n",
    "        batch = [self.indices[k] for k in indexes]\n",
    "        X_img, X_mask = self.__get_data(batch)\n",
    "        return np.array(X_img), np.array(X_mask)\n",
    "\n",
    "    def on_epoch_end(self):\n",
    "        if self.shuffle == True:\n",
    "            np.random.shuffle(self.indices)    \n",
    "\n",
    "    def __get_data(self, batch):\n",
    "        X_img_paths = self.df['img']\n",
    "        X_mask_paths = self.df['mask']\n",
    "        \n",
    "        X_imgs = []\n",
    "        X_masks = []\n",
    "\n",
    "        for i in range(0, len(batch)):\n",
    "            img = cv2.resize(cv2.imread(str(X_img_paths.iloc[batch[i]]), cv2.IMREAD_GRAYSCALE), (IMG_SIZE, IMG_SIZE), interpolation=cv2.INTER_NEAREST)\n",
    "            img = img.reshape(img.shape[0], img.shape[1], 1)\n",
    "            \n",
    "            mask = cv2.resize(cv2.imread(str(X_mask_paths.iloc[batch[i]]), cv2.IMREAD_GRAYSCALE), (IMG_SIZE, IMG_SIZE) ,interpolation=cv2.INTER_NEAREST)\n",
    "            \n",
    "            # 1 dialete\n",
    "            # dialete to get more information at the lunge edges\n",
    "            mask_dilate = cv2.dilate(mask, DILATE_KERNEL, iterations=1)\n",
    "            mask = cv2.threshold(mask_dilate,127,255,cv2.THRESH_BINARY)[1]\n",
    "            \n",
    "            # 2 clahe\n",
    "            img_norm = cv2.normalize(img, img, 0, 255, cv2.NORM_MINMAX)\n",
    "#             clahe = cv2.createCLAHE(clipLimit = 2.0, tileGridSize=(4,4))\n",
    "            # clahe = cv2.createCLAHE(clipLimit = 2.0, tileGridSize=(4,4))\n",
    "#             img = clahe.apply(img_norm)\n",
    "                    \n",
    "            # normalize / rescale\n",
    "            img = img / 255\n",
    "            mask = mask / 255\n",
    "\n",
    "            X_imgs.append(img)\n",
    "            X_masks.append(mask)\n",
    "\n",
    "        return X_imgs, X_masks"
   ]
  },
  {
   "cell_type": "code",
   "execution_count": 36,
   "metadata": {},
   "outputs": [],
   "source": [
    "train_generator = DataGenerator(df_train,shuffle=True, augment=False)\n",
    "val_generator = DataGenerator(df_val, shuffle=False, augment=False)"
   ]
  },
  {
   "cell_type": "code",
   "execution_count": 37,
   "metadata": {},
   "outputs": [
    {
     "data": {
      "text/plain": [
       "<matplotlib.image.AxesImage at 0x7f49274ec730>"
      ]
     },
     "execution_count": 37,
     "metadata": {},
     "output_type": "execute_result"
    },
    {
     "data": {
      "image/png": "[encoded data removed]",
      "text/plain": [
       "<Figure size 432x288 with 1 Axes>"
      ]
     },
     "metadata": {
      "needs_background": "light"
     },
     "output_type": "display_data"
    }
   ],
   "source": [
    "example = train_generator.__getitem__(0)\n",
    "example[0].shape\n",
    "plt.imshow(example[0][-1,:,:], cmap=\"gray\")"
   ]
  },
  {
   "cell_type": "code",
   "execution_count": 38,
   "metadata": {},
   "outputs": [
    {
     "data": {
      "text/plain": [
       "<matplotlib.image.AxesImage at 0x7f49274a72b0>"
      ]
     },
     "execution_count": 38,
     "metadata": {},
     "output_type": "execute_result"
    },
    {
     "data": {
      "image/png": "[encoded data removed]",
      "text/plain": [
       "<Figure size 432x288 with 1 Axes>"
      ]
     },
     "metadata": {
      "needs_background": "light"
     },
     "output_type": "display_data"
    }
   ],
   "source": [
    "plt.imshow(example[1][-1,:,:])"
   ]
  },
  {
   "cell_type": "code",
   "execution_count": 39,
   "metadata": {},
   "outputs": [],
   "source": [
    "import tensorflow.keras.backend as K\n",
    "\n",
    "def dice_coeff(y_true, y_pred, smooth=1):\n",
    "    intersection = K.sum(K.abs(y_true * y_pred), axis=-1)\n",
    "    return (2. * intersection + smooth) / (K.sum(K.square(y_true),-1) + K.sum(K.square(y_pred),-1) + smooth)\n",
    "\n",
    "def dice_loss(y_true, y_pred):\n",
    "    return 1-dice_coeff(y_true, y_pred)\n",
    "\n",
    "def dice_be(y_true, y_pred):\n",
    "    dl = dice_loss(y_true, y_pred)\n",
    "    bce = K.binary_crossentropy(y_true, y_pred)\n",
    "    return 2.0 * dl + 1.0 * bce"
   ]
  },
  {
   "cell_type": "code",
   "execution_count": 40,
   "metadata": {},
   "outputs": [],
   "source": [
    "recall = tf.keras.metrics.Recall(\n",
    "    thresholds=None, top_k=None, class_id=None, name=None, dtype=None\n",
    ")"
   ]
  },
  {
   "cell_type": "code",
   "execution_count": 41,
   "metadata": {
    "pycharm": {
     "name": "#%%\n"
    },
    "tags": []
   },
   "outputs": [
    {
     "name": "stdout",
     "output_type": "stream",
     "text": [
      "Model: \"functional_3\"\n",
      "__________________________________________________________________________________________________\n",
      "Layer (type)                    Output Shape         Param #     Connected to                     \n",
      "==================================================================================================\n",
      "input_2 (InputLayer)            [(None, 256, 256, 1) 0                                            \n",
      "__________________________________________________________________________________________________\n",
      "conv2d_19 (Conv2D)              (None, 256, 256, 64) 640         input_2[0][0]                    \n",
      "__________________________________________________________________________________________________\n",
      "spatial_dropout2d_5 (SpatialDro (None, 256, 256, 64) 0           conv2d_19[0][0]                  \n",
      "__________________________________________________________________________________________________\n",
      "conv2d_20 (Conv2D)              (None, 256, 256, 64) 36928       spatial_dropout2d_5[0][0]        \n",
      "__________________________________________________________________________________________________\n",
      "max_pooling2d_4 (MaxPooling2D)  (None, 128, 128, 64) 0           conv2d_20[0][0]                  \n",
      "__________________________________________________________________________________________________\n",
      "conv2d_21 (Conv2D)              (None, 128, 128, 128 73856       max_pooling2d_4[0][0]            \n",
      "__________________________________________________________________________________________________\n",
      "spatial_dropout2d_6 (SpatialDro (None, 128, 128, 128 0           conv2d_21[0][0]                  \n",
      "__________________________________________________________________________________________________\n",
      "conv2d_22 (Conv2D)              (None, 128, 128, 128 147584      spatial_dropout2d_6[0][0]        \n",
      "__________________________________________________________________________________________________\n",
      "max_pooling2d_5 (MaxPooling2D)  (None, 64, 64, 128)  0           conv2d_22[0][0]                  \n",
      "__________________________________________________________________________________________________\n",
      "conv2d_23 (Conv2D)              (None, 64, 64, 256)  295168      max_pooling2d_5[0][0]            \n",
      "__________________________________________________________________________________________________\n",
      "spatial_dropout2d_7 (SpatialDro (None, 64, 64, 256)  0           conv2d_23[0][0]                  \n",
      "__________________________________________________________________________________________________\n",
      "conv2d_24 (Conv2D)              (None, 64, 64, 256)  590080      spatial_dropout2d_7[0][0]        \n",
      "__________________________________________________________________________________________________\n",
      "max_pooling2d_6 (MaxPooling2D)  (None, 32, 32, 256)  0           conv2d_24[0][0]                  \n",
      "__________________________________________________________________________________________________\n",
      "conv2d_25 (Conv2D)              (None, 32, 32, 512)  1180160     max_pooling2d_6[0][0]            \n",
      "__________________________________________________________________________________________________\n",
      "spatial_dropout2d_8 (SpatialDro (None, 32, 32, 512)  0           conv2d_25[0][0]                  \n",
      "__________________________________________________________________________________________________\n",
      "conv2d_26 (Conv2D)              (None, 32, 32, 512)  2359808     spatial_dropout2d_8[0][0]        \n",
      "__________________________________________________________________________________________________\n",
      "max_pooling2d_7 (MaxPooling2D)  (None, 16, 16, 512)  0           conv2d_26[0][0]                  \n",
      "__________________________________________________________________________________________________\n",
      "conv2d_27 (Conv2D)              (None, 16, 16, 1024) 4719616     max_pooling2d_7[0][0]            \n",
      "__________________________________________________________________________________________________\n",
      "spatial_dropout2d_9 (SpatialDro (None, 16, 16, 1024) 0           conv2d_27[0][0]                  \n",
      "__________________________________________________________________________________________________\n",
      "conv2d_28 (Conv2D)              (None, 16, 16, 1024) 9438208     spatial_dropout2d_9[0][0]        \n",
      "__________________________________________________________________________________________________\n",
      "conv2d_transpose_4 (Conv2DTrans (None, 32, 32, 512)  2097664     conv2d_28[0][0]                  \n",
      "__________________________________________________________________________________________________\n",
      "concatenate_4 (Concatenate)     (None, 32, 32, 1024) 0           conv2d_transpose_4[0][0]         \n",
      "                                                                 conv2d_26[0][0]                  \n",
      "__________________________________________________________________________________________________\n",
      "conv2d_29 (Conv2D)              (None, 32, 32, 512)  4719104     concatenate_4[0][0]              \n",
      "__________________________________________________________________________________________________\n",
      "conv2d_30 (Conv2D)              (None, 32, 32, 512)  2359808     conv2d_29[0][0]                  \n",
      "__________________________________________________________________________________________________\n",
      "conv2d_transpose_5 (Conv2DTrans (None, 64, 64, 256)  524544      conv2d_30[0][0]                  \n",
      "__________________________________________________________________________________________________\n",
      "concatenate_5 (Concatenate)     (None, 64, 64, 512)  0           conv2d_transpose_5[0][0]         \n",
      "                                                                 conv2d_24[0][0]                  \n",
      "__________________________________________________________________________________________________\n",
      "conv2d_31 (Conv2D)              (None, 64, 64, 256)  1179904     concatenate_5[0][0]              \n",
      "__________________________________________________________________________________________________\n",
      "conv2d_32 (Conv2D)              (None, 64, 64, 256)  590080      conv2d_31[0][0]                  \n",
      "__________________________________________________________________________________________________\n",
      "conv2d_transpose_6 (Conv2DTrans (None, 128, 128, 128 131200      conv2d_32[0][0]                  \n",
      "__________________________________________________________________________________________________\n",
      "concatenate_6 (Concatenate)     (None, 128, 128, 256 0           conv2d_transpose_6[0][0]         \n",
      "                                                                 conv2d_22[0][0]                  \n",
      "__________________________________________________________________________________________________\n",
      "conv2d_33 (Conv2D)              (None, 128, 128, 128 295040      concatenate_6[0][0]              \n",
      "__________________________________________________________________________________________________\n",
      "conv2d_34 (Conv2D)              (None, 128, 128, 128 147584      conv2d_33[0][0]                  \n",
      "__________________________________________________________________________________________________\n",
      "conv2d_transpose_7 (Conv2DTrans (None, 256, 256, 64) 32832       conv2d_34[0][0]                  \n",
      "__________________________________________________________________________________________________\n",
      "concatenate_7 (Concatenate)     (None, 256, 256, 128 0           conv2d_transpose_7[0][0]         \n",
      "                                                                 conv2d_20[0][0]                  \n",
      "__________________________________________________________________________________________________\n",
      "conv2d_35 (Conv2D)              (None, 256, 256, 64) 73792       concatenate_7[0][0]              \n",
      "__________________________________________________________________________________________________\n",
      "conv2d_36 (Conv2D)              (None, 256, 256, 64) 36928       conv2d_35[0][0]                  \n",
      "__________________________________________________________________________________________________\n",
      "conv2d_37 (Conv2D)              (None, 256, 256, 1)  65          conv2d_36[0][0]                  \n",
      "==================================================================================================\n",
      "Total params: 31,030,593\n",
      "Trainable params: 31,030,593\n",
      "Non-trainable params: 0\n",
      "__________________________________________________________________________________________________\n"
     ]
    }
   ],
   "source": [
    "model = custom_unet(\n",
    "    input_shape=(256, 256, 1),\n",
    "    use_batch_norm=False,\n",
    "    num_classes=1,\n",
    "    filters=64,\n",
    "    dropout=0.2,\n",
    "    output_activation='sigmoid'\n",
    ")\n",
    "model.compile(\n",
    "    optimizer=tf.optimizers.Adam(learning_rate=2e-4),\n",
    "    # loss=dice_loss,\n",
    "    loss='binary_crossentropy',\n",
    "    # loss=dice_coef_loss,\n",
    "    metrics=['binary_accuracy', iou, recall]\n",
    ")\n",
    "model.summary()"
   ]
  },
  {
   "cell_type": "code",
   "execution_count": 42,
   "metadata": {
    "tags": []
   },
   "outputs": [],
   "source": [
    "mcp_save = ModelCheckpoint(MODEL_CHECKPOINT_PATH, save_best_only=True, monitor='val_iou', mode='max')\n",
    "reduceLROnPlat = ReduceLROnPlateau(monitor='val_loss', factor=0.9, patience=1, verbose=1)"
   ]
  },
  {
   "cell_type": "code",
   "execution_count": 43,
   "metadata": {},
   "outputs": [
    {
     "name": "stdout",
     "output_type": "stream",
     "text": [
      "Epoch 1/20\n",
      " 2/53 [>.............................] - ETA: 5s - loss: 0.7520 - binary_accuracy: 0.4833 - iou: 0.2884 - recall_1: 0.6163WARNING:tensorflow:Callbacks method `on_train_batch_end` is slow compared to the batch time (batch time: 0.0697s vs `on_train_batch_end` time: 0.1415s). Check your callbacks.\n",
      "53/53 [==============================] - 62s 1s/step - loss: 0.6028 - binary_accuracy: 0.6828 - iou: 0.2954 - recall_1: 0.3692 - val_loss: 0.4551 - val_binary_accuracy: 0.7991 - val_iou: 0.3941 - val_recall_1: 0.8040\n",
      "Epoch 2/20\n",
      "53/53 [==============================] - 60s 1s/step - loss: 0.3897 - binary_accuracy: 0.8177 - iou: 0.4832 - recall_1: 0.7449 - val_loss: 0.3342 - val_binary_accuracy: 0.8448 - val_iou: 0.4926 - val_recall_1: 0.5891\n",
      "Epoch 3/20\n",
      "53/53 [==============================] - 60s 1s/step - loss: 0.2897 - binary_accuracy: 0.8691 - iou: 0.6019 - recall_1: 0.7586 - val_loss: 0.2155 - val_binary_accuracy: 0.9154 - val_iou: 0.6726 - val_recall_1: 0.8528\n",
      "Epoch 4/20\n",
      "53/53 [==============================] - 60s 1s/step - loss: 0.1847 - binary_accuracy: 0.9249 - iou: 0.7409 - recall_1: 0.8858 - val_loss: 0.1418 - val_binary_accuracy: 0.9448 - val_iou: 0.7710 - val_recall_1: 0.9225\n",
      "Epoch 5/20\n",
      "53/53 [==============================] - 60s 1s/step - loss: 0.1414 - binary_accuracy: 0.9438 - iou: 0.7965 - recall_1: 0.9179 - val_loss: 0.1174 - val_binary_accuracy: 0.9518 - val_iou: 0.8284 - val_recall_1: 0.9318\n",
      "Epoch 6/20\n",
      "53/53 [==============================] - 60s 1s/step - loss: 0.1285 - binary_accuracy: 0.9495 - iou: 0.8163 - recall_1: 0.9242 - val_loss: 0.1107 - val_binary_accuracy: 0.9576 - val_iou: 0.8177 - val_recall_1: 0.9439\n",
      "Epoch 7/20\n",
      "53/53 [==============================] - 61s 1s/step - loss: 0.1148 - binary_accuracy: 0.9542 - iou: 0.8329 - recall_1: 0.9318 - val_loss: 0.1027 - val_binary_accuracy: 0.9622 - val_iou: 0.8254 - val_recall_1: 0.9366\n",
      "Epoch 8/20\n",
      "53/53 [==============================] - 60s 1s/step - loss: 0.1033 - binary_accuracy: 0.9594 - iou: 0.8483 - recall_1: 0.9377 - val_loss: 0.0902 - val_binary_accuracy: 0.9647 - val_iou: 0.8560 - val_recall_1: 0.9571\n",
      "Epoch 9/20\n",
      "53/53 [==============================] - 60s 1s/step - loss: 0.0961 - binary_accuracy: 0.9622 - iou: 0.8593 - recall_1: 0.9428 - val_loss: 0.0840 - val_binary_accuracy: 0.9669 - val_iou: 0.8644 - val_recall_1: 0.9606\n",
      "Epoch 10/20\n",
      "53/53 [==============================] - ETA: 0s - loss: 0.0939 - binary_accuracy: 0.9630 - iou: 0.8604 - recall_1: 0.9428\n",
      "Epoch 00010: ReduceLROnPlateau reducing learning rate to 0.00017999999545281753.\n",
      "53/53 [==============================] - 60s 1s/step - loss: 0.0939 - binary_accuracy: 0.9630 - iou: 0.8604 - recall_1: 0.9428 - val_loss: 0.0849 - val_binary_accuracy: 0.9667 - val_iou: 0.8635 - val_recall_1: 0.9363\n",
      "Epoch 11/20\n",
      "53/53 [==============================] - 61s 1s/step - loss: 0.0915 - binary_accuracy: 0.9639 - iou: 0.8641 - recall_1: 0.9451 - val_loss: 0.0780 - val_binary_accuracy: 0.9691 - val_iou: 0.8788 - val_recall_1: 0.9574\n",
      "Epoch 12/20\n",
      "53/53 [==============================] - ETA: 0s - loss: 0.0880 - binary_accuracy: 0.9651 - iou: 0.8701 - recall_1: 0.9447\n",
      "Epoch 00012: ReduceLROnPlateau reducing learning rate to 0.00016200000245589763.\n",
      "53/53 [==============================] - 60s 1s/step - loss: 0.0880 - binary_accuracy: 0.9651 - iou: 0.8701 - recall_1: 0.9447 - val_loss: 0.0814 - val_binary_accuracy: 0.9686 - val_iou: 0.8672 - val_recall_1: 0.9663\n",
      "Epoch 13/20\n",
      "53/53 [==============================] - ETA: 0s - loss: 0.0851 - binary_accuracy: 0.9663 - iou: 0.8732 - recall_1: 0.9494\n",
      "Epoch 00013: ReduceLROnPlateau reducing learning rate to 0.00014579999697161838.\n",
      "53/53 [==============================] - 60s 1s/step - loss: 0.0851 - binary_accuracy: 0.9663 - iou: 0.8732 - recall_1: 0.9494 - val_loss: 0.0790 - val_binary_accuracy: 0.9691 - val_iou: 0.8747 - val_recall_1: 0.9670\n",
      "Epoch 14/20\n",
      "53/53 [==============================] - 61s 1s/step - loss: 0.0814 - binary_accuracy: 0.9676 - iou: 0.8770 - recall_1: 0.9496 - val_loss: 0.0746 - val_binary_accuracy: 0.9716 - val_iou: 0.8736 - val_recall_1: 0.9504\n",
      "Epoch 15/20\n",
      "53/53 [==============================] - 60s 1s/step - loss: 0.0784 - binary_accuracy: 0.9690 - iou: 0.8823 - recall_1: 0.9503 - val_loss: 0.0738 - val_binary_accuracy: 0.9714 - val_iou: 0.8772 - val_recall_1: 0.9452\n",
      "Epoch 16/20\n",
      "53/53 [==============================] - 60s 1s/step - loss: 0.0768 - binary_accuracy: 0.9692 - iou: 0.8835 - recall_1: 0.9520 - val_loss: 0.0707 - val_binary_accuracy: 0.9725 - val_iou: 0.8892 - val_recall_1: 0.9638\n",
      "Epoch 17/20\n",
      "53/53 [==============================] - 60s 1s/step - loss: 0.0751 - binary_accuracy: 0.9703 - iou: 0.8869 - recall_1: 0.9537 - val_loss: 0.0703 - val_binary_accuracy: 0.9734 - val_iou: 0.8828 - val_recall_1: 0.9596\n",
      "Epoch 18/20\n",
      "53/53 [==============================] - ETA: 0s - loss: 0.0729 - binary_accuracy: 0.9707 - iou: 0.8889 - recall_1: 0.9528\n",
      "Epoch 00018: ReduceLROnPlateau reducing learning rate to 0.0001312200038228184.\n",
      "53/53 [==============================] - 61s 1s/step - loss: 0.0729 - binary_accuracy: 0.9707 - iou: 0.8889 - recall_1: 0.9528 - val_loss: 0.0713 - val_binary_accuracy: 0.9724 - val_iou: 0.8882 - val_recall_1: 0.9714\n",
      "Epoch 19/20\n",
      "53/53 [==============================] - ETA: 0s - loss: 0.0717 - binary_accuracy: 0.9712 - iou: 0.8919 - recall_1: 0.9545\n",
      "Epoch 00019: ReduceLROnPlateau reducing learning rate to 0.00011809800344053656.\n",
      "53/53 [==============================] - 61s 1s/step - loss: 0.0717 - binary_accuracy: 0.9712 - iou: 0.8919 - recall_1: 0.9545 - val_loss: 0.0765 - val_binary_accuracy: 0.9726 - val_iou: 0.8712 - val_recall_1: 0.9704\n",
      "Epoch 20/20\n",
      "53/53 [==============================] - 60s 1s/step - loss: 0.0714 - binary_accuracy: 0.9714 - iou: 0.8907 - recall_1: 0.9542 - val_loss: 0.0688 - val_binary_accuracy: 0.9731 - val_iou: 0.8942 - val_recall_1: 0.9638\n"
     ]
    }
   ],
   "source": [
    "history = model.fit(train_generator, \n",
    "                    validation_data=val_generator,\n",
    "                    steps_per_epoch=len(train_generator),\n",
    "                    validation_steps=len(val_generator),\n",
    "                    epochs=20,\n",
    "                    callbacks=[reduceLROnPlat])"
   ]
  },
  {
   "cell_type": "code",
   "execution_count": 26,
   "metadata": {},
   "outputs": [
    {
     "name": "stdout",
     "output_type": "stream",
     "text": [
      "Epoch 1/20\n",
      " 2/52 [>.............................] - ETA: 5s - loss: 0.6781 - binary_accuracy: 0.5706 - iou: 0.2552WARNING:tensorflow:Callbacks method `on_train_batch_end` is slow compared to the batch time (batch time: 0.0688s vs `on_train_batch_end` time: 0.1415s). Check your callbacks.\n",
      "52/52 [==============================] - 59s 1s/step - loss: 0.5539 - binary_accuracy: 0.7193 - iou: 0.3314 - val_loss: 0.4290 - val_binary_accuracy: 0.7905 - val_iou: 0.5059\n",
      "Epoch 2/20\n",
      "52/52 [==============================] - 60s 1s/step - loss: 0.3471 - binary_accuracy: 0.8393 - iou: 0.5345 - val_loss: 0.2976 - val_binary_accuracy: 0.8584 - val_iou: 0.5445\n",
      "Epoch 3/20\n",
      "52/52 [==============================] - 60s 1s/step - loss: 0.2487 - binary_accuracy: 0.8904 - iou: 0.6535 - val_loss: 0.1718 - val_binary_accuracy: 0.9352 - val_iou: 0.7295\n",
      "Epoch 4/20\n",
      "52/52 [==============================] - 59s 1s/step - loss: 0.1707 - binary_accuracy: 0.9317 - iou: 0.7602 - val_loss: 0.1386 - val_binary_accuracy: 0.9458 - val_iou: 0.7758\n",
      "Epoch 5/20\n",
      "52/52 [==============================] - 60s 1s/step - loss: 0.1317 - binary_accuracy: 0.9478 - iou: 0.8110 - val_loss: 0.1095 - val_binary_accuracy: 0.9570 - val_iou: 0.8409\n",
      "Epoch 6/20\n",
      "52/52 [==============================] - 59s 1s/step - loss: 0.1191 - binary_accuracy: 0.9532 - iou: 0.8287 - val_loss: 0.1008 - val_binary_accuracy: 0.9590 - val_iou: 0.8504\n",
      "Epoch 7/20\n",
      "52/52 [==============================] - 59s 1s/step - loss: 0.1086 - binary_accuracy: 0.9567 - iou: 0.8415 - val_loss: 0.0967 - val_binary_accuracy: 0.9619 - val_iou: 0.8479\n",
      "Epoch 8/20\n",
      "52/52 [==============================] - 60s 1s/step - loss: 0.1034 - binary_accuracy: 0.9592 - iou: 0.8487 - val_loss: 0.0961 - val_binary_accuracy: 0.9646 - val_iou: 0.8375\n",
      "Epoch 9/20\n",
      "52/52 [==============================] - 60s 1s/step - loss: 0.0998 - binary_accuracy: 0.9611 - iou: 0.8547 - val_loss: 0.0903 - val_binary_accuracy: 0.9649 - val_iou: 0.8523\n",
      "Epoch 10/20\n",
      "52/52 [==============================] - 60s 1s/step - loss: 0.0911 - binary_accuracy: 0.9640 - iou: 0.8649 - val_loss: 0.0789 - val_binary_accuracy: 0.9689 - val_iou: 0.8842\n",
      "Epoch 11/20\n",
      "52/52 [==============================] - ETA: 0s - loss: 0.0866 - binary_accuracy: 0.9656 - iou: 0.8715\n",
      "Epoch 00011: ReduceLROnPlateau reducing learning rate to 0.00017999999545281753.\n",
      "52/52 [==============================] - 59s 1s/step - loss: 0.0866 - binary_accuracy: 0.9656 - iou: 0.8715 - val_loss: 0.0871 - val_binary_accuracy: 0.9683 - val_iou: 0.8547\n",
      "Epoch 12/20\n",
      "52/52 [==============================] - 60s 1s/step - loss: 0.0843 - binary_accuracy: 0.9668 - iou: 0.8737 - val_loss: 0.0767 - val_binary_accuracy: 0.9706 - val_iou: 0.8750\n",
      "Epoch 13/20\n",
      "52/52 [==============================] - ETA: 0s - loss: 0.0794 - binary_accuracy: 0.9687 - iou: 0.8811\n",
      "Epoch 00013: ReduceLROnPlateau reducing learning rate to 0.00016200000245589763.\n",
      "52/52 [==============================] - 60s 1s/step - loss: 0.0794 - binary_accuracy: 0.9687 - iou: 0.8811 - val_loss: 0.0773 - val_binary_accuracy: 0.9711 - val_iou: 0.8678\n",
      "Epoch 14/20\n",
      "52/52 [==============================] - 59s 1s/step - loss: 0.0779 - binary_accuracy: 0.9691 - iou: 0.8815 - val_loss: 0.0729 - val_binary_accuracy: 0.9715 - val_iou: 0.8900\n",
      "Epoch 15/20\n",
      "52/52 [==============================] - 60s 1s/step - loss: 0.0796 - binary_accuracy: 0.9685 - iou: 0.8815 - val_loss: 0.0720 - val_binary_accuracy: 0.9724 - val_iou: 0.8861\n",
      "Epoch 16/20\n",
      "52/52 [==============================] - ETA: 0s - loss: 0.0756 - binary_accuracy: 0.9701 - iou: 0.8865\n",
      "Epoch 00016: ReduceLROnPlateau reducing learning rate to 0.00014579999697161838.\n",
      "52/52 [==============================] - 60s 1s/step - loss: 0.0756 - binary_accuracy: 0.9701 - iou: 0.8865 - val_loss: 0.0733 - val_binary_accuracy: 0.9732 - val_iou: 0.8766\n",
      "Epoch 17/20\n",
      "17/52 [========>.....................] - ETA: 28s - loss: 0.0710 - binary_accuracy: 0.9714 - iou: 0.8909"
     ]
    },
    {
     "ename": "KeyboardInterrupt",
     "evalue": "",
     "output_type": "error",
     "traceback": [
      "\u001b[0;31m---------------------------------------------------------------------------\u001b[0m",
      "\u001b[0;31mKeyboardInterrupt\u001b[0m                         Traceback (most recent call last)",
      "\u001b[0;32m<ipython-input-26-60fa4248cf35>\u001b[0m in \u001b[0;36m<module>\u001b[0;34m\u001b[0m\n\u001b[0;32m----> 1\u001b[0;31m history = model.fit(train_generator, \n\u001b[0m\u001b[1;32m      2\u001b[0m                     \u001b[0mvalidation_data\u001b[0m\u001b[0;34m=\u001b[0m\u001b[0mval_generator\u001b[0m\u001b[0;34m,\u001b[0m\u001b[0;34m\u001b[0m\u001b[0;34m\u001b[0m\u001b[0m\n\u001b[1;32m      3\u001b[0m                     \u001b[0msteps_per_epoch\u001b[0m\u001b[0;34m=\u001b[0m\u001b[0mlen\u001b[0m\u001b[0;34m(\u001b[0m\u001b[0mtrain_generator\u001b[0m\u001b[0;34m)\u001b[0m\u001b[0;34m,\u001b[0m\u001b[0;34m\u001b[0m\u001b[0;34m\u001b[0m\u001b[0m\n\u001b[1;32m      4\u001b[0m                     \u001b[0mvalidation_steps\u001b[0m\u001b[0;34m=\u001b[0m\u001b[0mlen\u001b[0m\u001b[0;34m(\u001b[0m\u001b[0mval_generator\u001b[0m\u001b[0;34m)\u001b[0m\u001b[0;34m,\u001b[0m\u001b[0;34m\u001b[0m\u001b[0;34m\u001b[0m\u001b[0m\n\u001b[1;32m      5\u001b[0m                     \u001b[0mepochs\u001b[0m\u001b[0;34m=\u001b[0m\u001b[0;36m20\u001b[0m\u001b[0;34m,\u001b[0m\u001b[0;34m\u001b[0m\u001b[0;34m\u001b[0m\u001b[0m\n",
      "\u001b[0;32m/opt/anaconda3/lib/python3.8/site-packages/tensorflow/python/keras/engine/training.py\u001b[0m in \u001b[0;36m_method_wrapper\u001b[0;34m(self, *args, **kwargs)\u001b[0m\n\u001b[1;32m    106\u001b[0m   \u001b[0;32mdef\u001b[0m \u001b[0m_method_wrapper\u001b[0m\u001b[0;34m(\u001b[0m\u001b[0mself\u001b[0m\u001b[0;34m,\u001b[0m \u001b[0;34m*\u001b[0m\u001b[0margs\u001b[0m\u001b[0;34m,\u001b[0m \u001b[0;34m**\u001b[0m\u001b[0mkwargs\u001b[0m\u001b[0;34m)\u001b[0m\u001b[0;34m:\u001b[0m\u001b[0;34m\u001b[0m\u001b[0;34m\u001b[0m\u001b[0m\n\u001b[1;32m    107\u001b[0m     \u001b[0;32mif\u001b[0m \u001b[0;32mnot\u001b[0m \u001b[0mself\u001b[0m\u001b[0;34m.\u001b[0m\u001b[0m_in_multi_worker_mode\u001b[0m\u001b[0;34m(\u001b[0m\u001b[0;34m)\u001b[0m\u001b[0;34m:\u001b[0m  \u001b[0;31m# pylint: disable=protected-access\u001b[0m\u001b[0;34m\u001b[0m\u001b[0;34m\u001b[0m\u001b[0m\n\u001b[0;32m--> 108\u001b[0;31m       \u001b[0;32mreturn\u001b[0m \u001b[0mmethod\u001b[0m\u001b[0;34m(\u001b[0m\u001b[0mself\u001b[0m\u001b[0;34m,\u001b[0m \u001b[0;34m*\u001b[0m\u001b[0margs\u001b[0m\u001b[0;34m,\u001b[0m \u001b[0;34m**\u001b[0m\u001b[0mkwargs\u001b[0m\u001b[0;34m)\u001b[0m\u001b[0;34m\u001b[0m\u001b[0;34m\u001b[0m\u001b[0m\n\u001b[0m\u001b[1;32m    109\u001b[0m \u001b[0;34m\u001b[0m\u001b[0m\n\u001b[1;32m    110\u001b[0m     \u001b[0;31m# Running inside `run_distribute_coordinator` already.\u001b[0m\u001b[0;34m\u001b[0m\u001b[0;34m\u001b[0m\u001b[0;34m\u001b[0m\u001b[0m\n",
      "\u001b[0;32m/opt/anaconda3/lib/python3.8/site-packages/tensorflow/python/keras/engine/training.py\u001b[0m in \u001b[0;36mfit\u001b[0;34m(self, x, y, batch_size, epochs, verbose, callbacks, validation_split, validation_data, shuffle, class_weight, sample_weight, initial_epoch, steps_per_epoch, validation_steps, validation_batch_size, validation_freq, max_queue_size, workers, use_multiprocessing)\u001b[0m\n\u001b[1;32m   1096\u001b[0m                 batch_size=batch_size):\n\u001b[1;32m   1097\u001b[0m               \u001b[0mcallbacks\u001b[0m\u001b[0;34m.\u001b[0m\u001b[0mon_train_batch_begin\u001b[0m\u001b[0;34m(\u001b[0m\u001b[0mstep\u001b[0m\u001b[0;34m)\u001b[0m\u001b[0;34m\u001b[0m\u001b[0;34m\u001b[0m\u001b[0m\n\u001b[0;32m-> 1098\u001b[0;31m               \u001b[0mtmp_logs\u001b[0m \u001b[0;34m=\u001b[0m \u001b[0mtrain_function\u001b[0m\u001b[0;34m(\u001b[0m\u001b[0miterator\u001b[0m\u001b[0;34m)\u001b[0m\u001b[0;34m\u001b[0m\u001b[0;34m\u001b[0m\u001b[0m\n\u001b[0m\u001b[1;32m   1099\u001b[0m               \u001b[0;32mif\u001b[0m \u001b[0mdata_handler\u001b[0m\u001b[0;34m.\u001b[0m\u001b[0mshould_sync\u001b[0m\u001b[0;34m:\u001b[0m\u001b[0;34m\u001b[0m\u001b[0;34m\u001b[0m\u001b[0m\n\u001b[1;32m   1100\u001b[0m                 \u001b[0mcontext\u001b[0m\u001b[0;34m.\u001b[0m\u001b[0masync_wait\u001b[0m\u001b[0;34m(\u001b[0m\u001b[0;34m)\u001b[0m\u001b[0;34m\u001b[0m\u001b[0;34m\u001b[0m\u001b[0m\n",
      "\u001b[0;32m/opt/anaconda3/lib/python3.8/site-packages/tensorflow/python/eager/def_function.py\u001b[0m in \u001b[0;36m__call__\u001b[0;34m(self, *args, **kwds)\u001b[0m\n\u001b[1;32m    778\u001b[0m       \u001b[0;32melse\u001b[0m\u001b[0;34m:\u001b[0m\u001b[0;34m\u001b[0m\u001b[0;34m\u001b[0m\u001b[0m\n\u001b[1;32m    779\u001b[0m         \u001b[0mcompiler\u001b[0m \u001b[0;34m=\u001b[0m \u001b[0;34m\"nonXla\"\u001b[0m\u001b[0;34m\u001b[0m\u001b[0;34m\u001b[0m\u001b[0m\n\u001b[0;32m--> 780\u001b[0;31m         \u001b[0mresult\u001b[0m \u001b[0;34m=\u001b[0m \u001b[0mself\u001b[0m\u001b[0;34m.\u001b[0m\u001b[0m_call\u001b[0m\u001b[0;34m(\u001b[0m\u001b[0;34m*\u001b[0m\u001b[0margs\u001b[0m\u001b[0;34m,\u001b[0m \u001b[0;34m**\u001b[0m\u001b[0mkwds\u001b[0m\u001b[0;34m)\u001b[0m\u001b[0;34m\u001b[0m\u001b[0;34m\u001b[0m\u001b[0m\n\u001b[0m\u001b[1;32m    781\u001b[0m \u001b[0;34m\u001b[0m\u001b[0m\n\u001b[1;32m    782\u001b[0m       \u001b[0mnew_tracing_count\u001b[0m \u001b[0;34m=\u001b[0m \u001b[0mself\u001b[0m\u001b[0;34m.\u001b[0m\u001b[0m_get_tracing_count\u001b[0m\u001b[0;34m(\u001b[0m\u001b[0;34m)\u001b[0m\u001b[0;34m\u001b[0m\u001b[0;34m\u001b[0m\u001b[0m\n",
      "\u001b[0;32m/opt/anaconda3/lib/python3.8/site-packages/tensorflow/python/eager/def_function.py\u001b[0m in \u001b[0;36m_call\u001b[0;34m(self, *args, **kwds)\u001b[0m\n\u001b[1;32m    805\u001b[0m       \u001b[0;31m# In this case we have created variables on the first call, so we run the\u001b[0m\u001b[0;34m\u001b[0m\u001b[0;34m\u001b[0m\u001b[0;34m\u001b[0m\u001b[0m\n\u001b[1;32m    806\u001b[0m       \u001b[0;31m# defunned version which is guaranteed to never create variables.\u001b[0m\u001b[0;34m\u001b[0m\u001b[0;34m\u001b[0m\u001b[0;34m\u001b[0m\u001b[0m\n\u001b[0;32m--> 807\u001b[0;31m       \u001b[0;32mreturn\u001b[0m \u001b[0mself\u001b[0m\u001b[0;34m.\u001b[0m\u001b[0m_stateless_fn\u001b[0m\u001b[0;34m(\u001b[0m\u001b[0;34m*\u001b[0m\u001b[0margs\u001b[0m\u001b[0;34m,\u001b[0m \u001b[0;34m**\u001b[0m\u001b[0mkwds\u001b[0m\u001b[0;34m)\u001b[0m  \u001b[0;31m# pylint: disable=not-callable\u001b[0m\u001b[0;34m\u001b[0m\u001b[0;34m\u001b[0m\u001b[0m\n\u001b[0m\u001b[1;32m    808\u001b[0m     \u001b[0;32melif\u001b[0m \u001b[0mself\u001b[0m\u001b[0;34m.\u001b[0m\u001b[0m_stateful_fn\u001b[0m \u001b[0;32mis\u001b[0m \u001b[0;32mnot\u001b[0m \u001b[0;32mNone\u001b[0m\u001b[0;34m:\u001b[0m\u001b[0;34m\u001b[0m\u001b[0;34m\u001b[0m\u001b[0m\n\u001b[1;32m    809\u001b[0m       \u001b[0;31m# Release the lock early so that multiple threads can perform the call\u001b[0m\u001b[0;34m\u001b[0m\u001b[0;34m\u001b[0m\u001b[0;34m\u001b[0m\u001b[0m\n",
      "\u001b[0;32m/opt/anaconda3/lib/python3.8/site-packages/tensorflow/python/eager/function.py\u001b[0m in \u001b[0;36m__call__\u001b[0;34m(self, *args, **kwargs)\u001b[0m\n\u001b[1;32m   2827\u001b[0m     \u001b[0;32mwith\u001b[0m \u001b[0mself\u001b[0m\u001b[0;34m.\u001b[0m\u001b[0m_lock\u001b[0m\u001b[0;34m:\u001b[0m\u001b[0;34m\u001b[0m\u001b[0;34m\u001b[0m\u001b[0m\n\u001b[1;32m   2828\u001b[0m       \u001b[0mgraph_function\u001b[0m\u001b[0;34m,\u001b[0m \u001b[0margs\u001b[0m\u001b[0;34m,\u001b[0m \u001b[0mkwargs\u001b[0m \u001b[0;34m=\u001b[0m \u001b[0mself\u001b[0m\u001b[0;34m.\u001b[0m\u001b[0m_maybe_define_function\u001b[0m\u001b[0;34m(\u001b[0m\u001b[0margs\u001b[0m\u001b[0;34m,\u001b[0m \u001b[0mkwargs\u001b[0m\u001b[0;34m)\u001b[0m\u001b[0;34m\u001b[0m\u001b[0;34m\u001b[0m\u001b[0m\n\u001b[0;32m-> 2829\u001b[0;31m     \u001b[0;32mreturn\u001b[0m \u001b[0mgraph_function\u001b[0m\u001b[0;34m.\u001b[0m\u001b[0m_filtered_call\u001b[0m\u001b[0;34m(\u001b[0m\u001b[0margs\u001b[0m\u001b[0;34m,\u001b[0m \u001b[0mkwargs\u001b[0m\u001b[0;34m)\u001b[0m  \u001b[0;31m# pylint: disable=protected-access\u001b[0m\u001b[0;34m\u001b[0m\u001b[0;34m\u001b[0m\u001b[0m\n\u001b[0m\u001b[1;32m   2830\u001b[0m \u001b[0;34m\u001b[0m\u001b[0m\n\u001b[1;32m   2831\u001b[0m   \u001b[0;34m@\u001b[0m\u001b[0mproperty\u001b[0m\u001b[0;34m\u001b[0m\u001b[0;34m\u001b[0m\u001b[0m\n",
      "\u001b[0;32m/opt/anaconda3/lib/python3.8/site-packages/tensorflow/python/eager/function.py\u001b[0m in \u001b[0;36m_filtered_call\u001b[0;34m(self, args, kwargs, cancellation_manager)\u001b[0m\n\u001b[1;32m   1841\u001b[0m       \u001b[0;31m`\u001b[0m\u001b[0margs\u001b[0m\u001b[0;31m`\u001b[0m \u001b[0;32mand\u001b[0m\u001b[0;31m \u001b[0m\u001b[0;31m`\u001b[0m\u001b[0mkwargs\u001b[0m\u001b[0;31m`\u001b[0m\u001b[0;34m.\u001b[0m\u001b[0;34m\u001b[0m\u001b[0;34m\u001b[0m\u001b[0m\n\u001b[1;32m   1842\u001b[0m     \"\"\"\n\u001b[0;32m-> 1843\u001b[0;31m     return self._call_flat(\n\u001b[0m\u001b[1;32m   1844\u001b[0m         [t for t in nest.flatten((args, kwargs), expand_composites=True)\n\u001b[1;32m   1845\u001b[0m          if isinstance(t, (ops.Tensor,\n",
      "\u001b[0;32m/opt/anaconda3/lib/python3.8/site-packages/tensorflow/python/eager/function.py\u001b[0m in \u001b[0;36m_call_flat\u001b[0;34m(self, args, captured_inputs, cancellation_manager)\u001b[0m\n\u001b[1;32m   1921\u001b[0m         and executing_eagerly):\n\u001b[1;32m   1922\u001b[0m       \u001b[0;31m# No tape is watching; skip to running the function.\u001b[0m\u001b[0;34m\u001b[0m\u001b[0;34m\u001b[0m\u001b[0;34m\u001b[0m\u001b[0m\n\u001b[0;32m-> 1923\u001b[0;31m       return self._build_call_outputs(self._inference_function.call(\n\u001b[0m\u001b[1;32m   1924\u001b[0m           ctx, args, cancellation_manager=cancellation_manager))\n\u001b[1;32m   1925\u001b[0m     forward_backward = self._select_forward_and_backward_functions(\n",
      "\u001b[0;32m/opt/anaconda3/lib/python3.8/site-packages/tensorflow/python/eager/function.py\u001b[0m in \u001b[0;36mcall\u001b[0;34m(self, ctx, args, cancellation_manager)\u001b[0m\n\u001b[1;32m    543\u001b[0m       \u001b[0;32mwith\u001b[0m \u001b[0m_InterpolateFunctionError\u001b[0m\u001b[0;34m(\u001b[0m\u001b[0mself\u001b[0m\u001b[0;34m)\u001b[0m\u001b[0;34m:\u001b[0m\u001b[0;34m\u001b[0m\u001b[0;34m\u001b[0m\u001b[0m\n\u001b[1;32m    544\u001b[0m         \u001b[0;32mif\u001b[0m \u001b[0mcancellation_manager\u001b[0m \u001b[0;32mis\u001b[0m \u001b[0;32mNone\u001b[0m\u001b[0;34m:\u001b[0m\u001b[0;34m\u001b[0m\u001b[0;34m\u001b[0m\u001b[0m\n\u001b[0;32m--> 545\u001b[0;31m           outputs = execute.execute(\n\u001b[0m\u001b[1;32m    546\u001b[0m               \u001b[0mstr\u001b[0m\u001b[0;34m(\u001b[0m\u001b[0mself\u001b[0m\u001b[0;34m.\u001b[0m\u001b[0msignature\u001b[0m\u001b[0;34m.\u001b[0m\u001b[0mname\u001b[0m\u001b[0;34m)\u001b[0m\u001b[0;34m,\u001b[0m\u001b[0;34m\u001b[0m\u001b[0;34m\u001b[0m\u001b[0m\n\u001b[1;32m    547\u001b[0m               \u001b[0mnum_outputs\u001b[0m\u001b[0;34m=\u001b[0m\u001b[0mself\u001b[0m\u001b[0;34m.\u001b[0m\u001b[0m_num_outputs\u001b[0m\u001b[0;34m,\u001b[0m\u001b[0;34m\u001b[0m\u001b[0;34m\u001b[0m\u001b[0m\n",
      "\u001b[0;32m/opt/anaconda3/lib/python3.8/site-packages/tensorflow/python/eager/execute.py\u001b[0m in \u001b[0;36mquick_execute\u001b[0;34m(op_name, num_outputs, inputs, attrs, ctx, name)\u001b[0m\n\u001b[1;32m     57\u001b[0m   \u001b[0;32mtry\u001b[0m\u001b[0;34m:\u001b[0m\u001b[0;34m\u001b[0m\u001b[0;34m\u001b[0m\u001b[0m\n\u001b[1;32m     58\u001b[0m     \u001b[0mctx\u001b[0m\u001b[0;34m.\u001b[0m\u001b[0mensure_initialized\u001b[0m\u001b[0;34m(\u001b[0m\u001b[0;34m)\u001b[0m\u001b[0;34m\u001b[0m\u001b[0;34m\u001b[0m\u001b[0m\n\u001b[0;32m---> 59\u001b[0;31m     tensors = pywrap_tfe.TFE_Py_Execute(ctx._handle, device_name, op_name,\n\u001b[0m\u001b[1;32m     60\u001b[0m                                         inputs, attrs, num_outputs)\n\u001b[1;32m     61\u001b[0m   \u001b[0;32mexcept\u001b[0m \u001b[0mcore\u001b[0m\u001b[0;34m.\u001b[0m\u001b[0m_NotOkStatusException\u001b[0m \u001b[0;32mas\u001b[0m \u001b[0me\u001b[0m\u001b[0;34m:\u001b[0m\u001b[0;34m\u001b[0m\u001b[0;34m\u001b[0m\u001b[0m\n",
      "\u001b[0;31mKeyboardInterrupt\u001b[0m: "
     ]
    }
   ],
   "source": [
    "history = model.fit(train_generator, \n",
    "                    validation_data=val_generator,\n",
    "                    steps_per_epoch=len(train_generator),\n",
    "                    validation_steps=len(val_generator),\n",
    "                    epochs=20,\n",
    "                    callbacks=[reduceLROnPlat])"
   ]
  },
  {
   "cell_type": "code",
   "execution_count": 190,
   "metadata": {},
   "outputs": [
    {
     "name": "stdout",
     "output_type": "stream",
     "text": [
      "Epoch 1/20\n",
      "70/70 [==============================] - 69s 979ms/step - loss: 0.4481 - binary_accuracy: 0.7874 - iou: 0.2526 - val_loss: 0.2628 - val_binary_accuracy: 0.9084 - val_iou: 0.4009\n",
      "Epoch 2/20\n",
      "70/70 [==============================] - 68s 969ms/step - loss: 0.2176 - binary_accuracy: 0.9128 - iou: 0.5870 - val_loss: 0.1235 - val_binary_accuracy: 0.9523 - val_iou: 0.7460\n",
      "Epoch 3/20\n",
      "70/70 [==============================] - 68s 972ms/step - loss: 0.1157 - binary_accuracy: 0.9562 - iou: 0.7703 - val_loss: 0.1033 - val_binary_accuracy: 0.9607 - val_iou: 0.7790\n",
      "Epoch 4/20\n",
      "70/70 [==============================] - 68s 976ms/step - loss: 0.0995 - binary_accuracy: 0.9620 - iou: 0.7981 - val_loss: 0.0859 - val_binary_accuracy: 0.9677 - val_iou: 0.8076\n",
      "Epoch 5/20\n",
      "70/70 [==============================] - 69s 979ms/step - loss: 0.0871 - binary_accuracy: 0.9669 - iou: 0.8211 - val_loss: 0.0767 - val_binary_accuracy: 0.9723 - val_iou: 0.8119\n",
      "Epoch 6/20\n",
      "70/70 [==============================] - 68s 971ms/step - loss: 0.0777 - binary_accuracy: 0.9704 - iou: 0.8363 - val_loss: 0.0732 - val_binary_accuracy: 0.9737 - val_iou: 0.8396\n",
      "Epoch 7/20\n",
      "70/70 [==============================] - ETA: 0s - loss: 0.0771 - binary_accuracy: 0.9712 - iou: 0.8418\n",
      "Epoch 00007: ReduceLROnPlateau reducing learning rate to 0.00017999999545281753.\n",
      "70/70 [==============================] - 69s 980ms/step - loss: 0.0771 - binary_accuracy: 0.9712 - iou: 0.8418 - val_loss: 0.0967 - val_binary_accuracy: 0.9623 - val_iou: 0.7855\n",
      "Epoch 8/20\n",
      "70/70 [==============================] - ETA: 0s - loss: 0.0826 - binary_accuracy: 0.9685 - iou: 0.8300\n",
      "Epoch 00008: ReduceLROnPlateau reducing learning rate to 0.00016200000245589763.\n",
      "70/70 [==============================] - 68s 969ms/step - loss: 0.0826 - binary_accuracy: 0.9685 - iou: 0.8300 - val_loss: 0.0734 - val_binary_accuracy: 0.9735 - val_iou: 0.8314\n",
      "Epoch 9/20\n",
      "70/70 [==============================] - 68s 975ms/step - loss: 0.0692 - binary_accuracy: 0.9738 - iou: 0.8537 - val_loss: 0.0724 - val_binary_accuracy: 0.9725 - val_iou: 0.8230\n",
      "Epoch 10/20\n",
      "70/70 [==============================] - 68s 970ms/step - loss: 0.0689 - binary_accuracy: 0.9740 - iou: 0.8541 - val_loss: 0.0648 - val_binary_accuracy: 0.9764 - val_iou: 0.8577\n",
      "Epoch 11/20\n",
      "70/70 [==============================] - ETA: 0s - loss: 0.0648 - binary_accuracy: 0.9758 - iou: 0.8641\n",
      "Epoch 00011: ReduceLROnPlateau reducing learning rate to 0.00014579999697161838.\n",
      "70/70 [==============================] - 68s 978ms/step - loss: 0.0648 - binary_accuracy: 0.9758 - iou: 0.8641 - val_loss: 0.0655 - val_binary_accuracy: 0.9761 - val_iou: 0.8609\n",
      "Epoch 12/20\n",
      "70/70 [==============================] - 68s 975ms/step - loss: 0.0611 - binary_accuracy: 0.9769 - iou: 0.8702 - val_loss: 0.0638 - val_binary_accuracy: 0.9770 - val_iou: 0.8546\n",
      "Epoch 13/20\n",
      "70/70 [==============================] - ETA: 0s - loss: 0.0627 - binary_accuracy: 0.9768 - iou: 0.8690\n",
      "Epoch 00013: ReduceLROnPlateau reducing learning rate to 0.0001312200038228184.\n",
      "70/70 [==============================] - 68s 976ms/step - loss: 0.0627 - binary_accuracy: 0.9768 - iou: 0.8690 - val_loss: 0.0751 - val_binary_accuracy: 0.9728 - val_iou: 0.8306\n",
      "Epoch 14/20\n",
      "70/70 [==============================] - ETA: 0s - loss: 0.0648 - binary_accuracy: 0.9759 - iou: 0.8653\n",
      "Epoch 00014: ReduceLROnPlateau reducing learning rate to 0.00011809800344053656.\n",
      "70/70 [==============================] - 68s 973ms/step - loss: 0.0648 - binary_accuracy: 0.9759 - iou: 0.8653 - val_loss: 0.0642 - val_binary_accuracy: 0.9764 - val_iou: 0.8528\n",
      "Epoch 15/20\n",
      "70/70 [==============================] - 68s 975ms/step - loss: 0.0613 - binary_accuracy: 0.9769 - iou: 0.8689 - val_loss: 0.0611 - val_binary_accuracy: 0.9780 - val_iou: 0.8612\n",
      "Epoch 16/20\n",
      "70/70 [==============================] - 67s 963ms/step - loss: 0.0592 - binary_accuracy: 0.9776 - iou: 0.8740 - val_loss: 0.0608 - val_binary_accuracy: 0.9785 - val_iou: 0.8701\n",
      "Epoch 17/20\n",
      "70/70 [==============================] - 68s 974ms/step - loss: 0.0568 - binary_accuracy: 0.9784 - iou: 0.8783 - val_loss: 0.0593 - val_binary_accuracy: 0.9780 - val_iou: 0.8623\n",
      "Epoch 18/20\n",
      "70/70 [==============================] - ETA: 0s - loss: 0.0568 - binary_accuracy: 0.9785 - iou: 0.8792\n",
      "Epoch 00018: ReduceLROnPlateau reducing learning rate to 0.0001062882030964829.\n",
      "70/70 [==============================] - 68s 965ms/step - loss: 0.0568 - binary_accuracy: 0.9785 - iou: 0.8792 - val_loss: 0.0626 - val_binary_accuracy: 0.9778 - val_iou: 0.8610\n",
      "Epoch 19/20\n",
      "70/70 [==============================] - ETA: 0s - loss: 0.0549 - binary_accuracy: 0.9790 - iou: 0.8809\n",
      "Epoch 00019: ReduceLROnPlateau reducing learning rate to 9.565938016748987e-05.\n",
      "70/70 [==============================] - 68s 971ms/step - loss: 0.0549 - binary_accuracy: 0.9790 - iou: 0.8809 - val_loss: 0.0599 - val_binary_accuracy: 0.9781 - val_iou: 0.8700\n",
      "Epoch 20/20\n",
      "70/70 [==============================] - 68s 978ms/step - loss: 0.0557 - binary_accuracy: 0.9789 - iou: 0.8819 - val_loss: 0.0585 - val_binary_accuracy: 0.9790 - val_iou: 0.8599\n"
     ]
    }
   ],
   "source": [
    "history = model.fit(train_generator, \n",
    "                    validation_data=val_generator,\n",
    "                    steps_per_epoch=len(train_generator),\n",
    "                    validation_steps=len(val_generator),\n",
    "                    epochs=20,\n",
    "                    callbacks=[reduceLROnPlat])"
   ]
  },
  {
   "cell_type": "code",
   "execution_count": 63,
   "metadata": {
    "pycharm": {
     "name": "#%%\n"
    },
    "scrolled": true,
    "tags": []
   },
   "outputs": [
    {
     "name": "stdout",
     "output_type": "stream",
     "text": [
      "Epoch 1/20\n",
      " 2/70 [..............................] - ETA: 11s - loss: 0.7102 - binary_accuracy: 0.5934 - iou: 0.2079WARNING:tensorflow:Callbacks method `on_train_batch_end` is slow compared to the batch time (batch time: 0.1070s vs `on_train_batch_end` time: 0.2269s). Check your callbacks.\n",
      "70/70 [==============================] - 69s 989ms/step - loss: 0.5944 - binary_accuracy: 0.6835 - iou: 0.2935 - val_loss: 0.4083 - val_binary_accuracy: 0.8010 - val_iou: 0.4473\n",
      "Epoch 2/20\n",
      "70/70 [==============================] - 69s 979ms/step - loss: 0.3063 - binary_accuracy: 0.8621 - iou: 0.5813 - val_loss: 0.2214 - val_binary_accuracy: 0.9097 - val_iou: 0.6889\n",
      "Epoch 3/20\n",
      "70/70 [==============================] - 68s 978ms/step - loss: 0.1690 - binary_accuracy: 0.9327 - iou: 0.7603 - val_loss: 0.1342 - val_binary_accuracy: 0.9455 - val_iou: 0.8107\n",
      "Epoch 4/20\n",
      "70/70 [==============================] - 68s 978ms/step - loss: 0.1365 - binary_accuracy: 0.9464 - iou: 0.8061 - val_loss: 0.1195 - val_binary_accuracy: 0.9528 - val_iou: 0.8188\n",
      "Epoch 5/20\n",
      "70/70 [==============================] - 67s 960ms/step - loss: 0.1075 - binary_accuracy: 0.9574 - iou: 0.8424 - val_loss: 0.1165 - val_binary_accuracy: 0.9534 - val_iou: 0.8182\n",
      "Epoch 6/20\n",
      "70/70 [==============================] - 68s 972ms/step - loss: 0.0981 - binary_accuracy: 0.9610 - iou: 0.8536 - val_loss: 0.0983 - val_binary_accuracy: 0.9608 - val_iou: 0.8534\n",
      "Epoch 7/20\n",
      "70/70 [==============================] - 68s 973ms/step - loss: 0.0896 - binary_accuracy: 0.9645 - iou: 0.8677 - val_loss: 0.0891 - val_binary_accuracy: 0.9649 - val_iou: 0.8597\n",
      "Epoch 8/20\n",
      "70/70 [==============================] - ETA: 0s - loss: 0.0961 - binary_accuracy: 0.9631 - iou: 0.8610\n",
      "Epoch 00008: ReduceLROnPlateau reducing learning rate to 0.00017999999545281753.\n",
      "70/70 [==============================] - 68s 967ms/step - loss: 0.0961 - binary_accuracy: 0.9631 - iou: 0.8610 - val_loss: 0.0943 - val_binary_accuracy: 0.9622 - val_iou: 0.8546\n",
      "Epoch 9/20\n",
      "70/70 [==============================] - ETA: 0s - loss: 0.0833 - binary_accuracy: 0.9671 - iou: 0.8758\n",
      "Epoch 00009: ReduceLROnPlateau reducing learning rate to 0.00016200000245589763.\n",
      "70/70 [==============================] - 68s 970ms/step - loss: 0.0833 - binary_accuracy: 0.9671 - iou: 0.8758 - val_loss: 0.0927 - val_binary_accuracy: 0.9624 - val_iou: 0.8626\n",
      "Epoch 10/20\n",
      "70/70 [==============================] - 68s 972ms/step - loss: 0.0789 - binary_accuracy: 0.9692 - iou: 0.8819 - val_loss: 0.0771 - val_binary_accuracy: 0.9695 - val_iou: 0.8840\n",
      "Epoch 11/20\n",
      "70/70 [==============================] - ETA: 0s - loss: 0.0754 - binary_accuracy: 0.9703 - iou: 0.8861\n",
      "Epoch 00011: ReduceLROnPlateau reducing learning rate to 0.00014579999697161838.\n",
      "70/70 [==============================] - 68s 964ms/step - loss: 0.0754 - binary_accuracy: 0.9703 - iou: 0.8861 - val_loss: 0.0871 - val_binary_accuracy: 0.9662 - val_iou: 0.8655\n",
      "Epoch 12/20\n",
      "70/70 [==============================] - ETA: 0s - loss: 0.0722 - binary_accuracy: 0.9714 - iou: 0.8912\n",
      "Epoch 00012: ReduceLROnPlateau reducing learning rate to 0.0001312200038228184.\n",
      "70/70 [==============================] - 67s 961ms/step - loss: 0.0722 - binary_accuracy: 0.9714 - iou: 0.8912 - val_loss: 0.0833 - val_binary_accuracy: 0.9674 - val_iou: 0.8781\n",
      "Epoch 13/20\n",
      "70/70 [==============================] - ETA: 0s - loss: 0.0706 - binary_accuracy: 0.9721 - iou: 0.8931\n",
      "Epoch 00013: ReduceLROnPlateau reducing learning rate to 0.00011809800344053656.\n",
      "70/70 [==============================] - 68s 968ms/step - loss: 0.0706 - binary_accuracy: 0.9721 - iou: 0.8931 - val_loss: 0.0806 - val_binary_accuracy: 0.9682 - val_iou: 0.8840\n",
      "Epoch 14/20\n",
      "70/70 [==============================] - 68s 969ms/step - loss: 0.0698 - binary_accuracy: 0.9723 - iou: 0.8937 - val_loss: 0.0718 - val_binary_accuracy: 0.9720 - val_iou: 0.8875\n",
      "Epoch 15/20\n",
      "70/70 [==============================] - ETA: 0s - loss: 0.0668 - binary_accuracy: 0.9734 - iou: 0.8978\n",
      "Epoch 00015: ReduceLROnPlateau reducing learning rate to 0.0001062882030964829.\n",
      "70/70 [==============================] - 67s 957ms/step - loss: 0.0668 - binary_accuracy: 0.9734 - iou: 0.8978 - val_loss: 0.0803 - val_binary_accuracy: 0.9690 - val_iou: 0.8861\n",
      "Epoch 16/20\n",
      "70/70 [==============================] - ETA: 0s - loss: 0.0644 - binary_accuracy: 0.9742 - iou: 0.9014\n",
      "Epoch 00016: ReduceLROnPlateau reducing learning rate to 9.565938016748987e-05.\n",
      "70/70 [==============================] - 67s 955ms/step - loss: 0.0644 - binary_accuracy: 0.9742 - iou: 0.9014 - val_loss: 0.0790 - val_binary_accuracy: 0.9687 - val_iou: 0.8839\n",
      "Epoch 17/20\n",
      "70/70 [==============================] - ETA: 0s - loss: 0.0642 - binary_accuracy: 0.9744 - iou: 0.9021\n",
      "Epoch 00017: ReduceLROnPlateau reducing learning rate to 8.60934414959047e-05.\n",
      "70/70 [==============================] - 67s 963ms/step - loss: 0.0642 - binary_accuracy: 0.9744 - iou: 0.9021 - val_loss: 0.0785 - val_binary_accuracy: 0.9698 - val_iou: 0.8776\n",
      "Epoch 18/20\n",
      "70/70 [==============================] - ETA: 0s - loss: 0.0625 - binary_accuracy: 0.9751 - iou: 0.9037\n",
      "Epoch 00018: ReduceLROnPlateau reducing learning rate to 7.748409407213331e-05.\n",
      "70/70 [==============================] - 66s 949ms/step - loss: 0.0625 - binary_accuracy: 0.9751 - iou: 0.9037 - val_loss: 0.0744 - val_binary_accuracy: 0.9717 - val_iou: 0.8809\n",
      "Epoch 19/20\n",
      "70/70 [==============================] - ETA: 0s - loss: 0.0611 - binary_accuracy: 0.9753 - iou: 0.9050\n",
      "Epoch 00019: ReduceLROnPlateau reducing learning rate to 6.973568597459235e-05.\n",
      "70/70 [==============================] - 66s 948ms/step - loss: 0.0611 - binary_accuracy: 0.9753 - iou: 0.9050 - val_loss: 0.0835 - val_binary_accuracy: 0.9675 - val_iou: 0.8842\n",
      "Epoch 20/20\n",
      "70/70 [==============================] - ETA: 0s - loss: 0.0605 - binary_accuracy: 0.9756 - iou: 0.9064\n",
      "Epoch 00020: ReduceLROnPlateau reducing learning rate to 6.276211934164166e-05.\n",
      "70/70 [==============================] - 69s 983ms/step - loss: 0.0605 - binary_accuracy: 0.9756 - iou: 0.9064 - val_loss: 0.0789 - val_binary_accuracy: 0.9697 - val_iou: 0.8904\n"
     ]
    }
   ],
   "source": [
    "history = model.fit(train_generator, \n",
    "                    validation_data=val_generator,\n",
    "                    steps_per_epoch=len(train_generator),\n",
    "                    validation_steps=len(val_generator),\n",
    "                    epochs=20,\n",
    "                    callbacks=[mcp_save, reduceLROnPlat])"
   ]
  },
  {
   "cell_type": "code",
   "execution_count": 64,
   "metadata": {
    "collapsed": true,
    "pycharm": {
     "name": "#%%\n"
    }
   },
   "outputs": [],
   "source": [
    "# model = tf.keras.models.load_model(MODEL_CHECKPOINT_PATH, compile=False)"
   ]
  },
  {
   "cell_type": "markdown",
   "metadata": {},
   "source": [
    "## Test"
   ]
  },
  {
   "cell_type": "code",
   "execution_count": 234,
   "metadata": {},
   "outputs": [],
   "source": [
    "test_generator = DataGenerator(df_test, shuffle=False, augment=False)"
   ]
  },
  {
   "cell_type": "code",
   "execution_count": 235,
   "metadata": {},
   "outputs": [
    {
     "name": "stdout",
     "output_type": "stream",
     "text": [
      "13/13 [==============================] - 11s 877ms/step\n"
     ]
    }
   ],
   "source": [
    "test_predictions = model.predict(test_generator, verbose=1)"
   ]
  },
  {
   "cell_type": "code",
   "execution_count": 236,
   "metadata": {},
   "outputs": [],
   "source": [
    "# Define IoU metric as a regular function, to manually check result\n",
    "def cal_iou(A, B):\n",
    "    intersection = np.logical_and(A, B)\n",
    "    union = np.logical_or(A, B)\n",
    "    iou = np.sum(intersection > 0) / np.sum(union > 0)\n",
    "    return iou"
   ]
  },
  {
   "cell_type": "code",
   "execution_count": 237,
   "metadata": {},
   "outputs": [],
   "source": [
    "test_predictions_t = (test_predictions > 0.5).astype('float32')  # use float32 insteaf of uint8 i.o. to get keras_unet.metrics.iou to work which uses K.sum.."
   ]
  },
  {
   "cell_type": "code",
   "execution_count": 238,
   "metadata": {},
   "outputs": [],
   "source": [
    "def multiple_gt(img, mask):\n",
    "    img = cv2.resize(cv2.imread(str(img), cv2.IMREAD_GRAYSCALE), (IMG_SIZE, IMG_SIZE))\n",
    "    mask = cv2.resize(cv2.imread(str(mask), cv2.IMREAD_GRAYSCALE), (IMG_SIZE, IMG_SIZE))\n",
    "\n",
    "    mask_dilate = cv2.dilate(mask, DILATE_KERNEL, iterations=1)\n",
    "\n",
    "    mask = cv2.threshold(mask_dilate,127,255,cv2.THRESH_BINARY)[1]\n",
    "\n",
    "    tmp = img * mask\n",
    "\n",
    "    ground_t = (tmp > 0.5).astype('float32')\n",
    "    return ground_t"
   ]
  },
  {
   "cell_type": "code",
   "execution_count": 239,
   "metadata": {},
   "outputs": [
    {
     "name": "stdout",
     "output_type": "stream",
     "text": [
      "Average Test IOU:  0.94\n"
     ]
    }
   ],
   "source": [
    "import keras_unet.metrics\n",
    "iou_scores=[]\n",
    "for i in range(len(df_test) - 1):\n",
    "    gt = multiple_gt(df_test.iloc[i][0], df_test.iloc[i][1])\n",
    "    iou_scores.append(keras_unet.metrics.iou(np.squeeze(gt), np.squeeze(test_predictions_t[i])).numpy()) # need numpy so that we dont store a tensor\n",
    "\n",
    "print('Average Test IOU: ', round(np.mean(iou_scores),2))"
   ]
  },
  {
   "cell_type": "markdown",
   "metadata": {},
   "source": [
    "## Predict and save masks\n",
    "\n",
    ">  Important\n",
    "\n",
    "- Please adjust the base paths BASE_MOONEY_DATA_PATH and BASE_COVID_DATA_PATH + BASE_COVID_MASKS_PATH.\n",
    "- Please make sure BASE_MOONEY_DATA_PATH + /masks exists. Furthermore the test/train/val folders are required with NORMAL and PNEUMONIA as subfolders."
   ]
  },
  {
   "cell_type": "code",
   "execution_count": 44,
   "metadata": {},
   "outputs": [],
   "source": [
    "# currently not in use\n",
    "def remove_small_regions(img):\n",
    "    \"\"\"Morphologically removes small (less than size) connected regions of 0s or 1s.\"\"\"\n",
    "    cleaned = morphology.remove_small_objects(img, min_size=64, connectivity=1)\n",
    "    cleaned = morphology.remove_small_holes(img, area_threshold=64)\n",
    "    return cleaned"
   ]
  },
  {
   "cell_type": "code",
   "execution_count": 45,
   "metadata": {
    "tags": []
   },
   "outputs": [],
   "source": [
    "def get_pred_generator(img_list):\n",
    "    df = pd.DataFrame(img_list, dtype='str', columns=['img'])\n",
    "    return ImageDataGenerator().flow_from_dataframe(\n",
    "        dataframe=df,\n",
    "        x_col='img',\n",
    "        directory=None,\n",
    "        target_size=(IMG_SIZE, IMG_SIZE),\n",
    "        # preprocess_function=remove_small_regions,\n",
    "        class_mode=None,\n",
    "        color_mode='grayscale',\n",
    "        batch_size=8,\n",
    "    )"
   ]
  },
  {
   "cell_type": "code",
   "execution_count": 46,
   "metadata": {},
   "outputs": [],
   "source": [
    "def pred_and_save_masks(in_path, out_path):\n",
    "    images = list(Path(os.path.join(in_path)).glob('**/*'))\n",
    "    pred = model.predict(get_pred_generator(images), batch_size=8)\n",
    "\n",
    "    # now save our pred as images\n",
    "    for i in range(0,len(pred)):\n",
    "        org_img = str(images[i])\n",
    "        pred_mask_name = os.path.basename(org_img).rsplit('.')[0] + '_predmask.jpg'\n",
    "\n",
    "        mask = pred[i][:,:,0].astype(np.uint8)\n",
    "        frame = mask.copy()\n",
    "#         # ----- BEGIN: draw rectangle around mask -----\n",
    "#         contours, hierarchy = cv2.findContours(mask.copy(),cv2.RETR_EXTERNAL,cv2.CHAIN_APPROX_SIMPLE)\n",
    "\n",
    "#         try: hierarchy = hierarchy[0]\n",
    "#         except: hierarchy = []\n",
    "\n",
    "#         height, width = mask.shape\n",
    "#         min_x, min_y = width, height\n",
    "#         max_x = max_y = 0\n",
    "\n",
    "#         # computes the bounding box for the contour, and draws it on the frame,\n",
    "#         for contour, hier in zip(contours, hierarchy):\n",
    "#             (x,y,w,h) = cv2.boundingRect(contour)\n",
    "#             min_x, max_x = min(x, min_x), max(x+w, max_x)\n",
    "#             min_y, max_y = min(y, min_y), max(y+h, max_y)\n",
    "#         #     if w > 80 and h > 80:\n",
    "#         #         frame = cv2.rectangle(frame.copy(), (x,y), (x+w,y+h), (255, 0, 0), 2)\n",
    "\n",
    "#         if max_x - min_x > 0 and max_y - min_y > 0:\n",
    "#             frame = cv2.rectangle(frame.copy(), (min_x, min_y), (max_x, max_y), (1), cv2.FILLED)\n",
    "\n",
    "#         # ----- END: draw rectangle around mask -----    \n",
    "        \n",
    "        \n",
    "        plt.imshow(frame[:,:])\n",
    "        plt.imsave(out_path + pred_mask_name, frame[:,:])"
   ]
  },
  {
   "cell_type": "code",
   "execution_count": 47,
   "metadata": {},
   "outputs": [],
   "source": [
    "BASE_MOONEY_DATA_PATH = '/home/daniel/dev/python/chest_x_ray/data/mooney'\n",
    "BASE_COVID_DATA_PATH = '/home/daniel/dev/python/chest_x_ray/data/covid-chestxray-dataset-0.41/output'\n",
    "BASE_COVID_MASKS_PATH = '/home/daniel/dev/python/chest_x_ray/data/covid-chestxray-dataset-0.41/masks/'"
   ]
  },
  {
   "cell_type": "code",
   "execution_count": 48,
   "metadata": {},
   "outputs": [],
   "source": [
    "BASE_MOONEY_DATA_PATH = '/home/8cb7/.kaggle/mooney/chest_xray'\n",
    "BASE_COVID_DATA_PATH = '/home/8cb7/.kaggle/covid-chestxray-dataset/output'\n",
    "BASE_COVID_MASKS_PATH = '/home/8cb7/.kaggle/covid-chestxray-dataset/masks/'"
   ]
  },
  {
   "cell_type": "code",
   "execution_count": 49,
   "metadata": {
    "tags": []
   },
   "outputs": [
    {
     "name": "stdout",
     "output_type": "stream",
     "text": [
      "Generate masks for mooney --> test\n",
      "Found 234 validated image filenames.\n"
     ]
    },
    {
     "data": {
      "image/png": "[encoded data removed]",
      "text/plain": [
       "<Figure size 432x288 with 1 Axes>"
      ]
     },
     "metadata": {
      "needs_background": "light"
     },
     "output_type": "display_data"
    }
   ],
   "source": [
    "print(\"Generate masks for mooney --> test\")\n",
    "pred_and_save_masks(BASE_MOONEY_DATA_PATH + '/test/NORMAL/', BASE_MOONEY_DATA_PATH + '/masks/test/NORMAL/')"
   ]
  },
  {
   "cell_type": "code",
   "execution_count": 50,
   "metadata": {},
   "outputs": [
    {
     "name": "stdout",
     "output_type": "stream",
     "text": [
      "Found 390 validated image filenames.\n"
     ]
    },
    {
     "data": {
      "image/png": "[encoded data removed]",
      "text/plain": [
       "<Figure size 432x288 with 1 Axes>"
      ]
     },
     "metadata": {
      "needs_background": "light"
     },
     "output_type": "display_data"
    }
   ],
   "source": [
    "pred_and_save_masks(BASE_MOONEY_DATA_PATH + '/test/PNEUMONIA/', BASE_MOONEY_DATA_PATH + '/masks/test/PNEUMONIA/')"
   ]
  },
  {
   "cell_type": "code",
   "execution_count": 51,
   "metadata": {},
   "outputs": [
    {
     "name": "stdout",
     "output_type": "stream",
     "text": [
      "Generate masks for mooney --> train\n",
      "Found 1341 validated image filenames.\n"
     ]
    },
    {
     "data": {
      "image/png": "[encoded data removed]",
      "text/plain": [
       "<Figure size 432x288 with 1 Axes>"
      ]
     },
     "metadata": {
      "needs_background": "light"
     },
     "output_type": "display_data"
    }
   ],
   "source": [
    "print(\"Generate masks for mooney --> train\")\n",
    "pred_and_save_masks(BASE_MOONEY_DATA_PATH + '/train/NORMAL/', BASE_MOONEY_DATA_PATH + '/masks/train/NORMAL/')"
   ]
  },
  {
   "cell_type": "code",
   "execution_count": 52,
   "metadata": {},
   "outputs": [
    {
     "name": "stdout",
     "output_type": "stream",
     "text": [
      "Found 3875 validated image filenames.\n"
     ]
    },
    {
     "data": {
      "image/png": "[encoded data removed]",
      "text/plain": [
       "<Figure size 432x288 with 1 Axes>"
      ]
     },
     "metadata": {
      "needs_background": "light"
     },
     "output_type": "display_data"
    }
   ],
   "source": [
    "pred_and_save_masks(BASE_MOONEY_DATA_PATH + '/train/PNEUMONIA/', BASE_MOONEY_DATA_PATH + '/masks/train/PNEUMONIA/')"
   ]
  },
  {
   "cell_type": "code",
   "execution_count": 53,
   "metadata": {},
   "outputs": [
    {
     "name": "stdout",
     "output_type": "stream",
     "text": [
      "Generate masks for mooney --> val\n",
      "Found 8 validated image filenames.\n",
      "Found 8 validated image filenames.\n"
     ]
    },
    {
     "data": {
      "image/png": "[encoded data removed]",
      "text/plain": [
       "<Figure size 432x288 with 1 Axes>"
      ]
     },
     "metadata": {
      "needs_background": "light"
     },
     "output_type": "display_data"
    }
   ],
   "source": [
    "print(\"Generate masks for mooney --> val\")\n",
    "pred_and_save_masks(BASE_MOONEY_DATA_PATH + '/val/NORMAL/', BASE_MOONEY_DATA_PATH + '/masks/val/NORMAL/')\n",
    "pred_and_save_masks(BASE_MOONEY_DATA_PATH + '/val/PNEUMONIA/', BASE_MOONEY_DATA_PATH + '/masks/val/PNEUMONIA/')"
   ]
  },
  {
   "cell_type": "code",
   "execution_count": 54,
   "metadata": {},
   "outputs": [
    {
     "name": "stdout",
     "output_type": "stream",
     "text": [
      "Generate masks for covid19\n",
      "Found 196 validated image filenames.\n"
     ]
    },
    {
     "data": {
      "image/png": "[encoded data removed]",
      "text/plain": [
       "<Figure size 432x288 with 1 Axes>"
      ]
     },
     "metadata": {
      "needs_background": "light"
     },
     "output_type": "display_data"
    }
   ],
   "source": [
    "print(\"Generate masks for covid19\")\n",
    "pred_and_save_masks(BASE_COVID_DATA_PATH, BASE_COVID_MASKS_PATH)"
   ]
  },
  {
   "cell_type": "code",
   "execution_count": null,
   "metadata": {},
   "outputs": [],
   "source": []
  },
  {
   "cell_type": "code",
   "execution_count": null,
   "metadata": {},
   "outputs": [],
   "source": []
  },
  {
   "cell_type": "code",
   "execution_count": null,
   "metadata": {},
   "outputs": [],
   "source": []
  },
  {
   "cell_type": "code",
   "execution_count": null,
   "metadata": {},
   "outputs": [],
   "source": []
  }
 ],
 "metadata": {
  "kernelspec": {
   "display_name": "Python 3",
   "language": "python",
   "name": "python3"
  },
  "language_info": {
   "codemirror_mode": {
    "name": "ipython",
    "version": 3
   },
   "file_extension": ".py",
   "mimetype": "text/x-python",
   "name": "python",
   "nbconvert_exporter": "python",
   "pygments_lexer": "ipython3",
   "version": "3.8.3"
  }
 },
 "nbformat": 4,
 "nbformat_minor": 4
}
