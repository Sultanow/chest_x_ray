{
 "cells": [
  {
   "cell_type": "markdown",
   "metadata": {},
   "source": [
    "# CNN with K=5 with lung masks\n",
    "\n",
    "Model adpeted from:\n",
    "https://ieeexplore.ieee.org/abstract/document/9057809\n",
    "\n",
    "Grayscale - 1 Channel CXR\n",
    "\n",
    "\\+ Unet dialted lung masks in second channel"
   ]
  },
  {
   "cell_type": "code",
   "execution_count": 84,
   "metadata": {},
   "outputs": [],
   "source": [
    "import pandas as pd\n",
    "import math\n",
    "import tensorflow as tf\n",
    "import matplotlib\n",
    "import matplotlib.pyplot as plt\n",
    "import numpy as np\n",
    "import cv2\n",
    "import os\n",
    "from pathlib import Path\n",
    "from tensorflow.keras.applications.resnet50 import ResNet50\n",
    "from tensorflow.keras.applications.vgg16 import VGG16\n",
    "from tensorflow.keras.preprocessing.image import ImageDataGenerator\n",
    "from tensorflow.keras import activations\n",
    "from tensorflow.keras.optimizers import Adam, RMSprop\n",
    "from tensorflow.keras.models import Sequential\n",
    "from tensorflow.keras.callbacks import EarlyStopping, Callback, ModelCheckpoint, ReduceLROnPlateau\n",
    "from tensorflow.keras.layers import Flatten, Dense, Dropout, BatchNormalization, AveragePooling2D, Conv2D, MaxPool2D, Activation, GlobalAveragePooling2D, Lambda\n",
    "from sklearn.metrics import classification_report, confusion_matrix\n",
    "from sklearn.metrics import plot_confusion_matrix"
   ]
  },
  {
   "cell_type": "code",
   "execution_count": 85,
   "metadata": {},
   "outputs": [],
   "source": [
    "# Config\n",
    "IMG_SIZE = 256\n",
    "BATCH_SIZE=32\n",
    "CHANNELS=2\n",
    "USE_MASKS=True\n",
    "MODELSAVE = \"models/cnn_gray_030121\"\n",
    "\n",
    "if(USE_MASKS):\n",
    "    MODELSAVE += \"_w_masks.h5\"\n",
    "else:\n",
    "    MODELSAVE += \"_wo_masks.h5\"\n",
    "\n",
    "\n",
    "# train_path = '/home/daniel/.kaggle/mooney/chest_xray/train/'\n",
    "# test_path = '/home/8cb7/.kaggle/mooney/chest_xray/test/'\n",
    "# val_path = '/home/8cb7/.kaggle/mooney/chest_xray/val/'\n",
    "\n",
    "train_path = '/home/daniel/dev/python/chest_x_ray/data/mooney/train/'\n",
    "test_path = '/home/daniel/dev/python/chest_x_ray/data/mooney/test/'\n",
    "val_path = '/home/daniel/dev/python/chest_x_ray/data/mooney/val/'\n",
    "\n",
    "train_mask_path = '/home/daniel/dev/python/chest_x_ray/data/mooney/masks/train/'\n",
    "val_mask_path = '/home/daniel/dev/python/chest_x_ray/data/mooney/masks/val/'\n",
    "test_mask_path = '/home/daniel/dev/python/chest_x_ray/data/mooney/masks/test/'\n",
    "\n",
    "# train_mask_path = '/home/8cb7/.kaggle/mooney/chest_xray/masks/train/'\n",
    "# val_mask_path = '/home/8cb7/.kaggle/mooney/chest_xray/masks/val/'\n",
    "# test_mask_path = '/home/8cb7/.kaggle/mooney/chest_xray/masks/test/'\n",
    "\n",
    "# covid19\n",
    "covid_path = '/home/daniel/dev/python/chest_x_ray/data/covid-chestxray-dataset-0.41/output'\n",
    "covid_mask_path = '/home/daniel/dev/python/chest_x_ray/data/covid-chestxray-dataset-0.41/masks/'"
   ]
  },
  {
   "cell_type": "code",
   "execution_count": 86,
   "metadata": {},
   "outputs": [
    {
     "output_type": "execute_result",
     "data": {
      "text/plain": [
       "True"
      ]
     },
     "metadata": {},
     "execution_count": 86
    }
   ],
   "source": [
    "USE_MASKS"
   ]
  },
  {
   "cell_type": "code",
   "execution_count": 87,
   "metadata": {},
   "outputs": [],
   "source": [
    "# np.random.seed(200)\n",
    "# tf.random.set_seed(200)"
   ]
  },
  {
   "cell_type": "markdown",
   "metadata": {},
   "source": [
    "## 1 Data preparation"
   ]
  },
  {
   "cell_type": "code",
   "execution_count": 88,
   "metadata": {},
   "outputs": [],
   "source": [
    "def load_images_from_folder(img_folder, masks_folder):\n",
    "    tmp_df = pd.DataFrame(columns = ['img', 'label', 'mask']) \n",
    "    # IMGs\n",
    "    for label_folder in os.listdir(img_folder):\n",
    "        for filename in os.listdir(img_folder + '/' + label_folder):\n",
    "            img_path = str(img_folder)+str(label_folder)+'/'+str(filename)\n",
    "            # normal file ending is jpEg...\n",
    "            filename_wo_ending = filename.split('.jpeg')[0]\n",
    "\n",
    "            mask_path = None\n",
    "            if masks_folder is not None:\n",
    "                mask_path = str(masks_folder)+str(label_folder)+'/'+str(filename_wo_ending) + '_predmask.jpg'\n",
    "\n",
    "            label2 = '-'\n",
    "            if img_path is not None:\n",
    "                if label_folder != 'NORMAL':\n",
    "                    label2 = filename_wo_ending.split(\"_\")[1].split(\"_\")[0]\n",
    "\n",
    "                tmp_df = tmp_df.append({'img': img_path, 'mask': mask_path, 'label': label_folder, 'label2': label2, 'label3': '-'}, ignore_index=True)\n",
    "\n",
    "    return tmp_df"
   ]
  },
  {
   "cell_type": "code",
   "execution_count": 89,
   "metadata": {},
   "outputs": [],
   "source": [
    "def load_covid_images_from_folder(img_folder, masks_folder):\n",
    "    tmp_df = pd.DataFrame(columns = ['img', 'label', 'mask']) \n",
    "    for filename in os.listdir(img_folder):\n",
    "        img_path = str(img_folder)+'/'+str(filename)\n",
    "        label = 'PNEUMONIA' # virurs => covid19\n",
    "        # normal file ending is jpEg...\n",
    "        filename_wo_ending = filename.rsplit('.')[0]\n",
    "        mask_path = str(masks_folder)+str(filename_wo_ending) + '_predmask.jpg'\n",
    "        if img_path is not None:\n",
    "            tmp_df = tmp_df.append({'img': img_path,  'mask': mask_path, 'label': label, 'label2': 'virus', 'label3': 'covid19'}, ignore_index=True)\n",
    "\n",
    "    return tmp_df"
   ]
  },
  {
   "cell_type": "code",
   "execution_count": 90,
   "metadata": {
    "tags": []
   },
   "outputs": [],
   "source": [
    "df_train = load_images_from_folder(train_path, train_mask_path)\n",
    "df_val = load_images_from_folder(val_path, val_mask_path)\n",
    "df_test = load_images_from_folder(test_path, test_mask_path)\n",
    "df_covid = load_covid_images_from_folder(covid_path, covid_mask_path)"
   ]
  },
  {
   "cell_type": "code",
   "execution_count": 91,
   "metadata": {},
   "outputs": [
    {
     "output_type": "execute_result",
     "data": {
      "text/plain": [
       "(5216, 5)"
      ]
     },
     "metadata": {},
     "execution_count": 91
    }
   ],
   "source": [
    "df_train.shape"
   ]
  },
  {
   "cell_type": "code",
   "execution_count": 92,
   "metadata": {},
   "outputs": [],
   "source": [
    "df_train = df_train.append(df_val, ignore_index=True) # append val to train since we are using k-fold cv"
   ]
  },
  {
   "cell_type": "code",
   "execution_count": 93,
   "metadata": {},
   "outputs": [
    {
     "output_type": "execute_result",
     "data": {
      "text/plain": [
       "(5232, 5)"
      ]
     },
     "metadata": {},
     "execution_count": 93
    }
   ],
   "source": [
    "df_train.shape"
   ]
  },
  {
   "cell_type": "code",
   "execution_count": 94,
   "metadata": {},
   "outputs": [
    {
     "output_type": "execute_result",
     "data": {
      "text/plain": [
       "                                                                                                                      img  \\\n",
       "0  /home/daniel/dev/python/chest_x_ray/data/covid-chestxray-dataset-0.41/output/a2eba651.jpg                                \n",
       "1  /home/daniel/dev/python/chest_x_ray/data/covid-chestxray-dataset-0.41/output/nejmoa2001191_f1-PA.jpeg                    \n",
       "2  /home/daniel/dev/python/chest_x_ray/data/covid-chestxray-dataset-0.41/output/7-fatal-covid19.jpg                         \n",
       "3  /home/daniel/dev/python/chest_x_ray/data/covid-chestxray-dataset-0.41/output/ciaa199.pdf-001-a.png                       \n",
       "4  /home/daniel/dev/python/chest_x_ray/data/covid-chestxray-dataset-0.41/output/7AF6C1AF-D249-4BD2-8C26-449304105D03.jpeg   \n",
       "\n",
       "       label  \\\n",
       "0  PNEUMONIA   \n",
       "1  PNEUMONIA   \n",
       "2  PNEUMONIA   \n",
       "3  PNEUMONIA   \n",
       "4  PNEUMONIA   \n",
       "\n",
       "                                                                                                                            mask  \\\n",
       "0  /home/daniel/dev/python/chest_x_ray/data/covid-chestxray-dataset-0.41/masks/a2eba651_predmask.jpg                               \n",
       "1  /home/daniel/dev/python/chest_x_ray/data/covid-chestxray-dataset-0.41/masks/nejmoa2001191_f1-PA_predmask.jpg                    \n",
       "2  /home/daniel/dev/python/chest_x_ray/data/covid-chestxray-dataset-0.41/masks/7-fatal-covid19_predmask.jpg                        \n",
       "3  /home/daniel/dev/python/chest_x_ray/data/covid-chestxray-dataset-0.41/masks/ciaa199_predmask.jpg                                \n",
       "4  /home/daniel/dev/python/chest_x_ray/data/covid-chestxray-dataset-0.41/masks/7AF6C1AF-D249-4BD2-8C26-449304105D03_predmask.jpg   \n",
       "\n",
       "  label2   label3  \n",
       "0  virus  covid19  \n",
       "1  virus  covid19  \n",
       "2  virus  covid19  \n",
       "3  virus  covid19  \n",
       "4  virus  covid19  "
      ],
      "text/html": "<div>\n<style scoped>\n    .dataframe tbody tr th:only-of-type {\n        vertical-align: middle;\n    }\n\n    .dataframe tbody tr th {\n        vertical-align: top;\n    }\n\n    .dataframe thead th {\n        text-align: right;\n    }\n</style>\n<table border=\"1\" class=\"dataframe\">\n  <thead>\n    <tr style=\"text-align: right;\">\n      <th></th>\n      <th>img</th>\n      <th>label</th>\n      <th>mask</th>\n      <th>label2</th>\n      <th>label3</th>\n    </tr>\n  </thead>\n  <tbody>\n    <tr>\n      <th>0</th>\n      <td>/home/daniel/dev/python/chest_x_ray/data/covid-chestxray-dataset-0.41/output/a2eba651.jpg</td>\n      <td>PNEUMONIA</td>\n      <td>/home/daniel/dev/python/chest_x_ray/data/covid-chestxray-dataset-0.41/masks/a2eba651_predmask.jpg</td>\n      <td>virus</td>\n      <td>covid19</td>\n    </tr>\n    <tr>\n      <th>1</th>\n      <td>/home/daniel/dev/python/chest_x_ray/data/covid-chestxray-dataset-0.41/output/nejmoa2001191_f1-PA.jpeg</td>\n      <td>PNEUMONIA</td>\n      <td>/home/daniel/dev/python/chest_x_ray/data/covid-chestxray-dataset-0.41/masks/nejmoa2001191_f1-PA_predmask.jpg</td>\n      <td>virus</td>\n      <td>covid19</td>\n    </tr>\n    <tr>\n      <th>2</th>\n      <td>/home/daniel/dev/python/chest_x_ray/data/covid-chestxray-dataset-0.41/output/7-fatal-covid19.jpg</td>\n      <td>PNEUMONIA</td>\n      <td>/home/daniel/dev/python/chest_x_ray/data/covid-chestxray-dataset-0.41/masks/7-fatal-covid19_predmask.jpg</td>\n      <td>virus</td>\n      <td>covid19</td>\n    </tr>\n    <tr>\n      <th>3</th>\n      <td>/home/daniel/dev/python/chest_x_ray/data/covid-chestxray-dataset-0.41/output/ciaa199.pdf-001-a.png</td>\n      <td>PNEUMONIA</td>\n      <td>/home/daniel/dev/python/chest_x_ray/data/covid-chestxray-dataset-0.41/masks/ciaa199_predmask.jpg</td>\n      <td>virus</td>\n      <td>covid19</td>\n    </tr>\n    <tr>\n      <th>4</th>\n      <td>/home/daniel/dev/python/chest_x_ray/data/covid-chestxray-dataset-0.41/output/7AF6C1AF-D249-4BD2-8C26-449304105D03.jpeg</td>\n      <td>PNEUMONIA</td>\n      <td>/home/daniel/dev/python/chest_x_ray/data/covid-chestxray-dataset-0.41/masks/7AF6C1AF-D249-4BD2-8C26-449304105D03_predmask.jpg</td>\n      <td>virus</td>\n      <td>covid19</td>\n    </tr>\n  </tbody>\n</table>\n</div>"
     },
     "metadata": {},
     "execution_count": 94
    }
   ],
   "source": [
    "df_covid.head()"
   ]
  },
  {
   "cell_type": "code",
   "execution_count": 95,
   "metadata": {},
   "outputs": [],
   "source": [
    "# Split covid19 data\n",
    "from sklearn.model_selection import train_test_split\n",
    "df_train_covid, df_test_covid = train_test_split(df_covid, test_size=0.2, random_state=200)"
   ]
  },
  {
   "cell_type": "code",
   "execution_count": 96,
   "metadata": {
    "tags": []
   },
   "outputs": [
    {
     "output_type": "stream",
     "name": "stdout",
     "text": [
      "=== Covid Data: ===\nTrain: 156\nTest: 40\n"
     ]
    }
   ],
   "source": [
    "print('=== Covid Data: ===')\n",
    "print('Train:', len(df_train_covid))\n",
    "print('Test:', len(df_test_covid))"
   ]
  },
  {
   "cell_type": "code",
   "execution_count": 97,
   "metadata": {},
   "outputs": [
    {
     "output_type": "execute_result",
     "data": {
      "text/plain": [
       "                                                                                                                                           img  \\\n",
       "166  /home/daniel/dev/python/chest_x_ray/data/covid-chestxray-dataset-0.41/output/3b46de94.jpg                                                   \n",
       "80   /home/daniel/dev/python/chest_x_ray/data/covid-chestxray-dataset-0.41/output/1-s2.0-S0140673620303706-fx1_lrg.jpg                           \n",
       "174  /home/daniel/dev/python/chest_x_ray/data/covid-chestxray-dataset-0.41/output/48c4542c.jpg                                                   \n",
       "180  /home/daniel/dev/python/chest_x_ray/data/covid-chestxray-dataset-0.41/output/2C26F453-AF3B-4517-BB9E-802CF2179543.jpeg                      \n",
       "163  /home/daniel/dev/python/chest_x_ray/data/covid-chestxray-dataset-0.41/output/23E99E2E-447C-46E5-8EB2-D35D12473C39.png                       \n",
       "..                                                                                                                     ...                       \n",
       "42   /home/daniel/dev/python/chest_x_ray/data/covid-chestxray-dataset-0.41/output/covid-19-pneumonia-rapidly-progressive-3-days.jpg              \n",
       "68   /home/daniel/dev/python/chest_x_ray/data/covid-chestxray-dataset-0.41/output/1.CXRCTThoraximagesofCOVID-19fromSingapore.pdf-002-fig3a.png   \n",
       "16   /home/daniel/dev/python/chest_x_ray/data/covid-chestxray-dataset-0.41/output/ryct.2020200034.fig5-day0.jpeg                                 \n",
       "105  /home/daniel/dev/python/chest_x_ray/data/covid-chestxray-dataset-0.41/output/covid-19-pneumonia-rapidly-progressive-12-hours.jpg            \n",
       "26   /home/daniel/dev/python/chest_x_ray/data/covid-chestxray-dataset-0.41/output/BMJ-37-163-g1.jpg                                              \n",
       "\n",
       "         label  \\\n",
       "166  PNEUMONIA   \n",
       "80   PNEUMONIA   \n",
       "174  PNEUMONIA   \n",
       "180  PNEUMONIA   \n",
       "163  PNEUMONIA   \n",
       "..         ...   \n",
       "42   PNEUMONIA   \n",
       "68   PNEUMONIA   \n",
       "16   PNEUMONIA   \n",
       "105  PNEUMONIA   \n",
       "26   PNEUMONIA   \n",
       "\n",
       "                                                                                                                                         mask  \\\n",
       "166  /home/daniel/dev/python/chest_x_ray/data/covid-chestxray-dataset-0.41/masks/3b46de94_predmask.jpg                                          \n",
       "80   /home/daniel/dev/python/chest_x_ray/data/covid-chestxray-dataset-0.41/masks/1-s2_predmask.jpg                                              \n",
       "174  /home/daniel/dev/python/chest_x_ray/data/covid-chestxray-dataset-0.41/masks/48c4542c_predmask.jpg                                          \n",
       "180  /home/daniel/dev/python/chest_x_ray/data/covid-chestxray-dataset-0.41/masks/2C26F453-AF3B-4517-BB9E-802CF2179543_predmask.jpg              \n",
       "163  /home/daniel/dev/python/chest_x_ray/data/covid-chestxray-dataset-0.41/masks/23E99E2E-447C-46E5-8EB2-D35D12473C39_predmask.jpg              \n",
       "..                                                                                                                             ...              \n",
       "42   /home/daniel/dev/python/chest_x_ray/data/covid-chestxray-dataset-0.41/masks/covid-19-pneumonia-rapidly-progressive-3-days_predmask.jpg     \n",
       "68   /home/daniel/dev/python/chest_x_ray/data/covid-chestxray-dataset-0.41/masks/1_predmask.jpg                                                 \n",
       "16   /home/daniel/dev/python/chest_x_ray/data/covid-chestxray-dataset-0.41/masks/ryct_predmask.jpg                                              \n",
       "105  /home/daniel/dev/python/chest_x_ray/data/covid-chestxray-dataset-0.41/masks/covid-19-pneumonia-rapidly-progressive-12-hours_predmask.jpg   \n",
       "26   /home/daniel/dev/python/chest_x_ray/data/covid-chestxray-dataset-0.41/masks/BMJ-37-163-g1_predmask.jpg                                     \n",
       "\n",
       "    label2   label3  \n",
       "166  virus  covid19  \n",
       "80   virus  covid19  \n",
       "174  virus  covid19  \n",
       "180  virus  covid19  \n",
       "163  virus  covid19  \n",
       "..     ...      ...  \n",
       "42   virus  covid19  \n",
       "68   virus  covid19  \n",
       "16   virus  covid19  \n",
       "105  virus  covid19  \n",
       "26   virus  covid19  \n",
       "\n",
       "[156 rows x 5 columns]"
      ],
      "text/html": "<div>\n<style scoped>\n    .dataframe tbody tr th:only-of-type {\n        vertical-align: middle;\n    }\n\n    .dataframe tbody tr th {\n        vertical-align: top;\n    }\n\n    .dataframe thead th {\n        text-align: right;\n    }\n</style>\n<table border=\"1\" class=\"dataframe\">\n  <thead>\n    <tr style=\"text-align: right;\">\n      <th></th>\n      <th>img</th>\n      <th>label</th>\n      <th>mask</th>\n      <th>label2</th>\n      <th>label3</th>\n    </tr>\n  </thead>\n  <tbody>\n    <tr>\n      <th>166</th>\n      <td>/home/daniel/dev/python/chest_x_ray/data/covid-chestxray-dataset-0.41/output/3b46de94.jpg</td>\n      <td>PNEUMONIA</td>\n      <td>/home/daniel/dev/python/chest_x_ray/data/covid-chestxray-dataset-0.41/masks/3b46de94_predmask.jpg</td>\n      <td>virus</td>\n      <td>covid19</td>\n    </tr>\n    <tr>\n      <th>80</th>\n      <td>/home/daniel/dev/python/chest_x_ray/data/covid-chestxray-dataset-0.41/output/1-s2.0-S0140673620303706-fx1_lrg.jpg</td>\n      <td>PNEUMONIA</td>\n      <td>/home/daniel/dev/python/chest_x_ray/data/covid-chestxray-dataset-0.41/masks/1-s2_predmask.jpg</td>\n      <td>virus</td>\n      <td>covid19</td>\n    </tr>\n    <tr>\n      <th>174</th>\n      <td>/home/daniel/dev/python/chest_x_ray/data/covid-chestxray-dataset-0.41/output/48c4542c.jpg</td>\n      <td>PNEUMONIA</td>\n      <td>/home/daniel/dev/python/chest_x_ray/data/covid-chestxray-dataset-0.41/masks/48c4542c_predmask.jpg</td>\n      <td>virus</td>\n      <td>covid19</td>\n    </tr>\n    <tr>\n      <th>180</th>\n      <td>/home/daniel/dev/python/chest_x_ray/data/covid-chestxray-dataset-0.41/output/2C26F453-AF3B-4517-BB9E-802CF2179543.jpeg</td>\n      <td>PNEUMONIA</td>\n      <td>/home/daniel/dev/python/chest_x_ray/data/covid-chestxray-dataset-0.41/masks/2C26F453-AF3B-4517-BB9E-802CF2179543_predmask.jpg</td>\n      <td>virus</td>\n      <td>covid19</td>\n    </tr>\n    <tr>\n      <th>163</th>\n      <td>/home/daniel/dev/python/chest_x_ray/data/covid-chestxray-dataset-0.41/output/23E99E2E-447C-46E5-8EB2-D35D12473C39.png</td>\n      <td>PNEUMONIA</td>\n      <td>/home/daniel/dev/python/chest_x_ray/data/covid-chestxray-dataset-0.41/masks/23E99E2E-447C-46E5-8EB2-D35D12473C39_predmask.jpg</td>\n      <td>virus</td>\n      <td>covid19</td>\n    </tr>\n    <tr>\n      <th>...</th>\n      <td>...</td>\n      <td>...</td>\n      <td>...</td>\n      <td>...</td>\n      <td>...</td>\n    </tr>\n    <tr>\n      <th>42</th>\n      <td>/home/daniel/dev/python/chest_x_ray/data/covid-chestxray-dataset-0.41/output/covid-19-pneumonia-rapidly-progressive-3-days.jpg</td>\n      <td>PNEUMONIA</td>\n      <td>/home/daniel/dev/python/chest_x_ray/data/covid-chestxray-dataset-0.41/masks/covid-19-pneumonia-rapidly-progressive-3-days_predmask.jpg</td>\n      <td>virus</td>\n      <td>covid19</td>\n    </tr>\n    <tr>\n      <th>68</th>\n      <td>/home/daniel/dev/python/chest_x_ray/data/covid-chestxray-dataset-0.41/output/1.CXRCTThoraximagesofCOVID-19fromSingapore.pdf-002-fig3a.png</td>\n      <td>PNEUMONIA</td>\n      <td>/home/daniel/dev/python/chest_x_ray/data/covid-chestxray-dataset-0.41/masks/1_predmask.jpg</td>\n      <td>virus</td>\n      <td>covid19</td>\n    </tr>\n    <tr>\n      <th>16</th>\n      <td>/home/daniel/dev/python/chest_x_ray/data/covid-chestxray-dataset-0.41/output/ryct.2020200034.fig5-day0.jpeg</td>\n      <td>PNEUMONIA</td>\n      <td>/home/daniel/dev/python/chest_x_ray/data/covid-chestxray-dataset-0.41/masks/ryct_predmask.jpg</td>\n      <td>virus</td>\n      <td>covid19</td>\n    </tr>\n    <tr>\n      <th>105</th>\n      <td>/home/daniel/dev/python/chest_x_ray/data/covid-chestxray-dataset-0.41/output/covid-19-pneumonia-rapidly-progressive-12-hours.jpg</td>\n      <td>PNEUMONIA</td>\n      <td>/home/daniel/dev/python/chest_x_ray/data/covid-chestxray-dataset-0.41/masks/covid-19-pneumonia-rapidly-progressive-12-hours_predmask.jpg</td>\n      <td>virus</td>\n      <td>covid19</td>\n    </tr>\n    <tr>\n      <th>26</th>\n      <td>/home/daniel/dev/python/chest_x_ray/data/covid-chestxray-dataset-0.41/output/BMJ-37-163-g1.jpg</td>\n      <td>PNEUMONIA</td>\n      <td>/home/daniel/dev/python/chest_x_ray/data/covid-chestxray-dataset-0.41/masks/BMJ-37-163-g1_predmask.jpg</td>\n      <td>virus</td>\n      <td>covid19</td>\n    </tr>\n  </tbody>\n</table>\n<p>156 rows × 5 columns</p>\n</div>"
     },
     "metadata": {},
     "execution_count": 97
    }
   ],
   "source": [
    "pd.set_option('display.max_colwidth', -1)\n",
    "df_train_covid"
   ]
  },
  {
   "cell_type": "code",
   "execution_count": 98,
   "metadata": {},
   "outputs": [],
   "source": [
    "# Append Covid19 data to rest\n",
    "df_train = df_train.append(df_train_covid, ignore_index=True)\n",
    "df_test = df_test.append(df_test_covid, ignore_index=True)"
   ]
  },
  {
   "cell_type": "code",
   "execution_count": 99,
   "metadata": {
    "tags": []
   },
   "outputs": [
    {
     "output_type": "stream",
     "name": "stdout",
     "text": [
      "=== Train Data: ===\nNormal: 1349\nPneumonia: 4039\n|---> Bacterial: 2538\n|---> Viral: 1501\n    |---> Covid: 156\n"
     ]
    }
   ],
   "source": [
    "print('=== Train Data: ===')\n",
    "print('Normal:', len(df_train[df_train['label'] == 'NORMAL']))\n",
    "print('Pneumonia:', len(df_train[df_train['label'] == 'PNEUMONIA']))\n",
    "print('|---> Bacterial:', len(df_train[df_train['label2'] == 'bacteria']))\n",
    "print('|---> Viral:', len(df_train[df_train['label2'] == 'virus']))\n",
    "print('    |---> Covid:', len(df_train[df_train['label3'] == 'covid19']))"
   ]
  },
  {
   "cell_type": "code",
   "execution_count": 100,
   "metadata": {
    "tags": []
   },
   "outputs": [
    {
     "output_type": "stream",
     "name": "stdout",
     "text": [
      "=== Test Data: ===\nNormal: 234\nPneumonia: 430\n|---> Bacterial: 242\n|---> Viral: 188\n    |---> Covid: 40\n"
     ]
    }
   ],
   "source": [
    "print('=== Test Data: ===')\n",
    "print('Normal:', len(df_test[df_test['label'] == 'NORMAL']))\n",
    "print('Pneumonia:', len(df_test[df_test['label'] == 'PNEUMONIA']))\n",
    "print('|---> Bacterial:', len(df_test[df_test['label2'] == 'bacteria']))\n",
    "print('|---> Viral:', len(df_test[df_test['label2'] == 'virus']))\n",
    "print('    |---> Covid:', len(df_test[df_test['label3'] == 'covid19']))"
   ]
  },
  {
   "cell_type": "code",
   "execution_count": 101,
   "metadata": {},
   "outputs": [],
   "source": [
    "# Shuffle\n",
    "df_train = df_train.sample(frac=1, random_state=200).reset_index(drop=True)\n",
    "df_test = df_test.sample(frac=1, random_state=200).reset_index(drop=True)"
   ]
  },
  {
   "cell_type": "code",
   "execution_count": 102,
   "metadata": {},
   "outputs": [],
   "source": [
    "def replace_by_binary_class(df, to_replace, value):\n",
    "    return df.replace(to_replace=to_replace, value=value)"
   ]
  },
  {
   "cell_type": "code",
   "execution_count": 103,
   "metadata": {},
   "outputs": [],
   "source": [
    "df_train = replace_by_binary_class(df_train, 'NORMAL', 0)\n",
    "df_train = replace_by_binary_class(df_train, 'PNEUMONIA', 1)\n",
    "\n",
    "df_test = replace_by_binary_class(df_test, 'NORMAL', 0)\n",
    "df_test = replace_by_binary_class(df_test, 'PNEUMONIA', 1)"
   ]
  },
  {
   "cell_type": "code",
   "execution_count": 104,
   "metadata": {},
   "outputs": [
    {
     "output_type": "execute_result",
     "data": {
      "text/plain": [
       "                                                                                            img  \\\n",
       "0  /home/daniel/dev/python/chest_x_ray/data/mooney/train/NORMAL/IM-0409-0001.jpeg                 \n",
       "1  /home/daniel/dev/python/chest_x_ray/data/mooney/train/PNEUMONIA/person471_bacteria_2004.jpeg   \n",
       "2  /home/daniel/dev/python/chest_x_ray/data/mooney/train/NORMAL/NORMAL2-IM-1043-0001.jpeg         \n",
       "3  /home/daniel/dev/python/chest_x_ray/data/mooney/train/PNEUMONIA/person806_virus_1439.jpeg      \n",
       "4  /home/daniel/dev/python/chest_x_ray/data/mooney/train/NORMAL/NORMAL2-IM-1008-0001.jpeg         \n",
       "\n",
       "   label  \\\n",
       "0  0       \n",
       "1  1       \n",
       "2  0       \n",
       "3  1       \n",
       "4  0       \n",
       "\n",
       "                                                                                                         mask  \\\n",
       "0  /home/daniel/dev/python/chest_x_ray/data/mooney/masks/train/NORMAL/IM-0409-0001_predmask.jpg                 \n",
       "1  /home/daniel/dev/python/chest_x_ray/data/mooney/masks/train/PNEUMONIA/person471_bacteria_2004_predmask.jpg   \n",
       "2  /home/daniel/dev/python/chest_x_ray/data/mooney/masks/train/NORMAL/NORMAL2-IM-1043-0001_predmask.jpg         \n",
       "3  /home/daniel/dev/python/chest_x_ray/data/mooney/masks/train/PNEUMONIA/person806_virus_1439_predmask.jpg      \n",
       "4  /home/daniel/dev/python/chest_x_ray/data/mooney/masks/train/NORMAL/NORMAL2-IM-1008-0001_predmask.jpg         \n",
       "\n",
       "     label2 label3  \n",
       "0  -         -      \n",
       "1  bacteria  -      \n",
       "2  -         -      \n",
       "3  virus     -      \n",
       "4  -         -      "
      ],
      "text/html": "<div>\n<style scoped>\n    .dataframe tbody tr th:only-of-type {\n        vertical-align: middle;\n    }\n\n    .dataframe tbody tr th {\n        vertical-align: top;\n    }\n\n    .dataframe thead th {\n        text-align: right;\n    }\n</style>\n<table border=\"1\" class=\"dataframe\">\n  <thead>\n    <tr style=\"text-align: right;\">\n      <th></th>\n      <th>img</th>\n      <th>label</th>\n      <th>mask</th>\n      <th>label2</th>\n      <th>label3</th>\n    </tr>\n  </thead>\n  <tbody>\n    <tr>\n      <th>0</th>\n      <td>/home/daniel/dev/python/chest_x_ray/data/mooney/train/NORMAL/IM-0409-0001.jpeg</td>\n      <td>0</td>\n      <td>/home/daniel/dev/python/chest_x_ray/data/mooney/masks/train/NORMAL/IM-0409-0001_predmask.jpg</td>\n      <td>-</td>\n      <td>-</td>\n    </tr>\n    <tr>\n      <th>1</th>\n      <td>/home/daniel/dev/python/chest_x_ray/data/mooney/train/PNEUMONIA/person471_bacteria_2004.jpeg</td>\n      <td>1</td>\n      <td>/home/daniel/dev/python/chest_x_ray/data/mooney/masks/train/PNEUMONIA/person471_bacteria_2004_predmask.jpg</td>\n      <td>bacteria</td>\n      <td>-</td>\n    </tr>\n    <tr>\n      <th>2</th>\n      <td>/home/daniel/dev/python/chest_x_ray/data/mooney/train/NORMAL/NORMAL2-IM-1043-0001.jpeg</td>\n      <td>0</td>\n      <td>/home/daniel/dev/python/chest_x_ray/data/mooney/masks/train/NORMAL/NORMAL2-IM-1043-0001_predmask.jpg</td>\n      <td>-</td>\n      <td>-</td>\n    </tr>\n    <tr>\n      <th>3</th>\n      <td>/home/daniel/dev/python/chest_x_ray/data/mooney/train/PNEUMONIA/person806_virus_1439.jpeg</td>\n      <td>1</td>\n      <td>/home/daniel/dev/python/chest_x_ray/data/mooney/masks/train/PNEUMONIA/person806_virus_1439_predmask.jpg</td>\n      <td>virus</td>\n      <td>-</td>\n    </tr>\n    <tr>\n      <th>4</th>\n      <td>/home/daniel/dev/python/chest_x_ray/data/mooney/train/NORMAL/NORMAL2-IM-1008-0001.jpeg</td>\n      <td>0</td>\n      <td>/home/daniel/dev/python/chest_x_ray/data/mooney/masks/train/NORMAL/NORMAL2-IM-1008-0001_predmask.jpg</td>\n      <td>-</td>\n      <td>-</td>\n    </tr>\n  </tbody>\n</table>\n</div>"
     },
     "metadata": {},
     "execution_count": 104
    }
   ],
   "source": [
    "df_train.head()"
   ]
  },
  {
   "cell_type": "markdown",
   "metadata": {},
   "source": [
    "\n",
    "## 2 Data generator"
   ]
  },
  {
   "cell_type": "code",
   "execution_count": 105,
   "metadata": {},
   "outputs": [],
   "source": [
    "import imgaug.augmenters as iaa\n",
    "aug = iaa.AllChannelsCLAHE(clip_limit=(0.05))"
   ]
  },
  {
   "cell_type": "code",
   "execution_count": 106,
   "metadata": {},
   "outputs": [],
   "source": [
    "def applySigmoidContrast(img):\n",
    "    img = aug.augment_image(img)\n",
    "    return img"
   ]
  },
  {
   "cell_type": "code",
   "execution_count": 107,
   "metadata": {},
   "outputs": [],
   "source": [
    "import imgaug as ia\n",
    "import imgaug.augmenters as iaa\n",
    "\n",
    "sometimes = lambda aug: iaa.Sometimes(0.5, aug)\n",
    "sometimes25 = lambda aug: iaa.Sometimes(0.25, aug)\n",
    "\n",
    "seq_img = iaa.Sequential([\n",
    "    # sometimes(iaa.SigmoidContrast(gain=(3, 10), cutoff=(0.4, 0.6))),\n",
    "    sometimes(iaa.Affine(\n",
    "            rotate=(-10, 10),\n",
    "            shear=(-10,10),\n",
    "            scale={\"x\": (0.9, 1.1), \"y\": (0.9, 1.1)},\n",
    "            translate_percent={\"x\": (-0.1, 0.1), \"y\": (-0.1, 0.1)}\n",
    "    )),\n",
    "    sometimes(iaa.PerspectiveTransform(scale=(0.01, 0.15))),\n",
    "], random_order=True)\n",
    "\n",
    "class DataGenerator(tf.keras.utils.Sequence):\n",
    "\n",
    "    def __init__(self, df, augment, img_size, batch_size=8, shuffle=True, useMasks=True):\n",
    "        self.batch_size = batch_size\n",
    "        self.df = df\n",
    "        self.indices = self.df.index.tolist()\n",
    "        self.shuffle = shuffle\n",
    "        self.augment = augment\n",
    "        self.img_size = img_size\n",
    "        self.useMasks = useMasks\n",
    "\n",
    "    def __len__(self):\n",
    "        return math.ceil(len(self.indices)/ self.batch_size)\n",
    "\n",
    "    def __getitem__(self, index):\n",
    "        indexes = self.indices[index * self.batch_size:(index + 1) * self.batch_size]\n",
    "        batch = [self.indices[k] for k in indexes]\n",
    "        X, y = self.__get_data(batch)\n",
    "        return np.array(X), np.array(y)\n",
    "\n",
    "    def on_epoch_end(self):\n",
    "        if self.shuffle == True:\n",
    "            np.random.shuffle(self.indices)\n",
    "\n",
    "    def __get_data(self, batch):\n",
    "        X_img_paths = self.df['img']\n",
    "        X_mask_paths = self.df['mask']\n",
    "        X_imgs = []\n",
    "        X_masks = []\n",
    "        Y = self.df['label'].iloc[batch].to_numpy()\n",
    "\n",
    "        for i in range(0, len(batch)):\n",
    "            img = cv2.resize(cv2.imread(str(X_img_paths.iloc[batch[i]]), cv2.IMREAD_GRAYSCALE), (self.img_size, self.img_size))\n",
    "            img = img.reshape(img.shape[0], img.shape[1],1)\n",
    "\n",
    "            if not self.useMasks:\n",
    "                if(self.augment is True):\n",
    "                    seq_img_i = seq_img.to_deterministic()   \n",
    "                    img = seq_img_i.augment_image(img)\n",
    "                # else img remains untouched\n",
    "            else: \n",
    "                mask = cv2.imread(str(X_mask_paths.iloc[batch[i]]), cv2.IMREAD_GRAYSCALE)\n",
    "                #mask = cv2.resize(mask, (self.img_size, self.img_size))\n",
    "                mask = cv2.threshold(mask,0,1,cv2.THRESH_BINARY)[1]\n",
    "                # Multiply binarized mask on grayscaled version of the x-ray. \n",
    "                # So only the lung will remain, everything else will be set to 0\n",
    "                try:\n",
    "                    mask = mask.reshape(IMG_SIZE,IMG_SIZE,1)\n",
    "                except:\n",
    "                    print(\"i\", i)\n",
    "                    print(str(X_mask_paths.iloc[batch[i]]))\n",
    "                cutout_img = img * mask\n",
    "                cutout_img = cutout_img.reshape(IMG_SIZE,IMG_SIZE,1)\n",
    "\n",
    "                if(self.augment is True):\n",
    "                    seq_img_i = seq_img.to_deterministic()   \n",
    "                    img = seq_img_i.augment_image(img) #### img\n",
    "                    cutout_img = seq_img_i.augment_image(cutout_img) #### cutout\n",
    "\n",
    "                img = np.dstack([img, cutout_img])\n",
    "                mask = mask / 255.0\n",
    "\n",
    "            # normalize\n",
    "            img = img / 255.0\n",
    "\n",
    "            X_imgs.append(img)\n",
    "\n",
    "        return X_imgs, Y"
   ]
  },
  {
   "cell_type": "markdown",
   "metadata": {},
   "source": [
    "## 3 Model training"
   ]
  },
  {
   "cell_type": "code",
   "execution_count": 108,
   "metadata": {},
   "outputs": [],
   "source": [
    "def getModel():\n",
    "    model = Sequential()\n",
    "    # Conv block1 = cb0\n",
    "    model.add(Conv2D(32, (3,3), padding = \"same\", activation='relu', input_shape=(IMG_SIZE,IMG_SIZE,CHANNELS), name=\"cb0_conv0\"))\n",
    "    model.add(Conv2D(32, (3,3), padding = \"same\", activation='relu', name=\"cb0_conv1\"))\n",
    "    model.add(MaxPool2D(pool_size = (3, 3), name=\"cb0_maxpool\"))\n",
    "    model.add(Dropout(0.2, name=\"cb0_dropout\"))\n",
    "\n",
    "    # Conv block2 = cb1\n",
    "    model.add(Conv2D(64, (3,3), padding = \"same\", activation='relu', name=\"cb1_conv0\"))\n",
    "    model.add(Conv2D(64, (5,5), strides=(2,2), padding = \"same\", activation='relu', name=\"cb1_conv1\"))\n",
    "    model.add(Conv2D(64, (3,3), padding = \"same\", activation='relu', name=\"cb1_conv2\"))\n",
    "    model.add(MaxPool2D(pool_size = (2, 2), name=\"cb1_maxpool\"))\n",
    "    model.add(Dropout(0.2, name=\"cb1_dropout\"))\n",
    "\n",
    "    # Dense block = db\n",
    "    model.add(Flatten())\n",
    "    model.add(Dense(1024, activation='relu', name=\"db_dense1024\"))\n",
    "    model.add(Dense(512, activation='relu', name=\"db_dense512\"))\n",
    "    model.add(Dropout(0.2))\n",
    "    model.add(Dense(256, activation='relu', name=\"db_dense256\"))\n",
    "    model.add(Dropout(0.2))\n",
    "\n",
    "    model.add(Dense(1, activation='sigmoid', name=\"db_dense1\"))\n",
    "\n",
    "    model.compile(optimizer = Adam(learning_rate=0.0001), loss = 'binary_crossentropy', metrics = ['accuracy'])\n",
    "    \n",
    "    return model"
   ]
  },
  {
   "cell_type": "code",
   "execution_count": 109,
   "metadata": {
    "scrolled": true
   },
   "outputs": [],
   "source": [
    "# K-Fold\n",
    "from sklearn.model_selection import StratifiedKFold\n",
    "from sklearn.utils import class_weight\n",
    "from sklearn.metrics import f1_score, accuracy_score"
   ]
  },
  {
   "cell_type": "code",
   "execution_count": 110,
   "metadata": {},
   "outputs": [],
   "source": [
    "kf5 = StratifiedKFold(n_splits=5, random_state=200)"
   ]
  },
  {
   "cell_type": "code",
   "execution_count": 111,
   "metadata": {},
   "outputs": [
    {
     "output_type": "stream",
     "name": "stdout",
     "text": [
      "Fold Nr.:  1\n",
      "Class weights:  {0: 1.9972196478220574, 1: 0.666976168368926}\n",
      "Epoch 1/12\n",
      "135/135 [==============================] - 45s 331ms/step - loss: 0.3712 - accuracy: 0.8007 - val_loss: 0.1689 - val_accuracy: 0.9314\n",
      "Epoch 2/12\n",
      "135/135 [==============================] - 45s 330ms/step - loss: 0.2243 - accuracy: 0.8961 - val_loss: 0.1034 - val_accuracy: 0.9610\n",
      "Epoch 3/12\n",
      "135/135 [==============================] - 44s 328ms/step - loss: 0.1890 - accuracy: 0.9258 - val_loss: 0.1769 - val_accuracy: 0.9323\n",
      "Epoch 4/12\n",
      "135/135 [==============================] - 45s 330ms/step - loss: 0.1826 - accuracy: 0.9195 - val_loss: 0.1388 - val_accuracy: 0.9443\n",
      "Epoch 5/12\n",
      "135/135 [==============================] - 45s 335ms/step - loss: 0.1571 - accuracy: 0.9346 - val_loss: 0.0923 - val_accuracy: 0.9685\n",
      "Epoch 6/12\n",
      "135/135 [==============================] - 44s 326ms/step - loss: 0.1584 - accuracy: 0.9332 - val_loss: 0.0760 - val_accuracy: 0.9694\n",
      "Epoch 7/12\n",
      "135/135 [==============================] - 45s 330ms/step - loss: 0.1330 - accuracy: 0.9432 - val_loss: 0.0557 - val_accuracy: 0.9787\n",
      "Epoch 8/12\n",
      "135/135 [==============================] - 45s 332ms/step - loss: 0.1316 - accuracy: 0.9441 - val_loss: 0.0512 - val_accuracy: 0.9833\n",
      "Epoch 9/12\n",
      "135/135 [==============================] - 44s 329ms/step - loss: 0.1237 - accuracy: 0.9457 - val_loss: 0.0929 - val_accuracy: 0.9731\n",
      "Epoch 10/12\n",
      "135/135 [==============================] - 45s 330ms/step - loss: 0.1355 - accuracy: 0.9429 - val_loss: 0.0429 - val_accuracy: 0.9852\n",
      "Epoch 11/12\n",
      "135/135 [==============================] - 44s 327ms/step - loss: 0.1100 - accuracy: 0.9536 - val_loss: 0.0375 - val_accuracy: 0.9861\n",
      "Epoch 12/12\n",
      "135/135 [==============================] - 44s 327ms/step - loss: 0.1050 - accuracy: 0.9557 - val_loss: 0.0420 - val_accuracy: 0.9861\n",
      "Fold Nr.:  2\n",
      "Class weights:  {0: 1.9972196478220574, 1: 0.666976168368926}\n",
      "Epoch 1/12\n",
      "135/135 [==============================] - 44s 329ms/step - loss: 0.4068 - accuracy: 0.7638 - val_loss: 0.1153 - val_accuracy: 0.9647\n",
      "Epoch 2/12\n",
      "135/135 [==============================] - 45s 332ms/step - loss: 0.2224 - accuracy: 0.9046 - val_loss: 0.0809 - val_accuracy: 0.9694\n",
      "Epoch 3/12\n",
      "135/135 [==============================] - 45s 332ms/step - loss: 0.1708 - accuracy: 0.9220 - val_loss: 0.0529 - val_accuracy: 0.9842\n",
      "Epoch 4/12\n",
      "135/135 [==============================] - 44s 328ms/step - loss: 0.1578 - accuracy: 0.9316 - val_loss: 0.0523 - val_accuracy: 0.9842\n",
      "Epoch 5/12\n",
      "135/135 [==============================] - 45s 333ms/step - loss: 0.1404 - accuracy: 0.9422 - val_loss: 0.0573 - val_accuracy: 0.9740\n",
      "Epoch 6/12\n",
      "135/135 [==============================] - 44s 328ms/step - loss: 0.1458 - accuracy: 0.9364 - val_loss: 0.0431 - val_accuracy: 0.9842\n",
      "Epoch 7/12\n",
      "135/135 [==============================] - 45s 332ms/step - loss: 0.1351 - accuracy: 0.9443 - val_loss: 0.0653 - val_accuracy: 0.9750\n",
      "Epoch 8/12\n",
      "135/135 [==============================] - 45s 333ms/step - loss: 0.1186 - accuracy: 0.9510 - val_loss: 0.0386 - val_accuracy: 0.9861\n",
      "Epoch 9/12\n",
      "135/135 [==============================] - 44s 329ms/step - loss: 0.1198 - accuracy: 0.9494 - val_loss: 0.0651 - val_accuracy: 0.9759\n",
      "Epoch 10/12\n",
      "135/135 [==============================] - 44s 329ms/step - loss: 0.1118 - accuracy: 0.9522 - val_loss: 0.0427 - val_accuracy: 0.9852\n",
      "Epoch 11/12\n",
      "135/135 [==============================] - 45s 331ms/step - loss: 0.1075 - accuracy: 0.9545 - val_loss: 0.0371 - val_accuracy: 0.9870\n",
      "Epoch 12/12\n",
      "135/135 [==============================] - 44s 329ms/step - loss: 0.0952 - accuracy: 0.9589 - val_loss: 0.0211 - val_accuracy: 0.9907\n",
      "Fold Nr.:  3\n",
      "Class weights:  {0: 1.9972196478220574, 1: 0.666976168368926}\n",
      "Epoch 1/12\n",
      "135/135 [==============================] - 45s 333ms/step - loss: 0.3801 - accuracy: 0.7664 - val_loss: 0.1632 - val_accuracy: 0.9369\n",
      "Epoch 2/12\n",
      "135/135 [==============================] - 45s 332ms/step - loss: 0.2224 - accuracy: 0.8947 - val_loss: 0.1176 - val_accuracy: 0.9536\n",
      "Epoch 3/12\n",
      "135/135 [==============================] - 44s 329ms/step - loss: 0.1752 - accuracy: 0.9262 - val_loss: 0.1071 - val_accuracy: 0.9564\n",
      "Epoch 4/12\n",
      "135/135 [==============================] - 45s 331ms/step - loss: 0.1721 - accuracy: 0.9288 - val_loss: 0.0460 - val_accuracy: 0.9842\n",
      "Epoch 5/12\n",
      "135/135 [==============================] - 45s 332ms/step - loss: 0.1474 - accuracy: 0.9390 - val_loss: 0.0396 - val_accuracy: 0.9889\n",
      "Epoch 6/12\n",
      "135/135 [==============================] - 45s 330ms/step - loss: 0.1469 - accuracy: 0.9394 - val_loss: 0.0521 - val_accuracy: 0.9824\n",
      "Epoch 7/12\n",
      "135/135 [==============================] - 45s 335ms/step - loss: 0.1320 - accuracy: 0.9452 - val_loss: 0.0572 - val_accuracy: 0.9777\n",
      "Epoch 8/12\n",
      "135/135 [==============================] - 45s 331ms/step - loss: 0.1249 - accuracy: 0.9485 - val_loss: 0.0475 - val_accuracy: 0.9861\n",
      "Epoch 9/12\n",
      "135/135 [==============================] - 46s 338ms/step - loss: 0.1066 - accuracy: 0.9571 - val_loss: 0.0861 - val_accuracy: 0.9666\n",
      "Epoch 10/12\n",
      "135/135 [==============================] - 45s 335ms/step - loss: 0.1126 - accuracy: 0.9522 - val_loss: 0.0414 - val_accuracy: 0.9870\n",
      "Epoch 11/12\n",
      "135/135 [==============================] - 45s 337ms/step - loss: 0.1059 - accuracy: 0.9589 - val_loss: 0.0427 - val_accuracy: 0.9861\n",
      "Epoch 12/12\n",
      "135/135 [==============================] - 45s 333ms/step - loss: 0.0948 - accuracy: 0.9608 - val_loss: 0.0297 - val_accuracy: 0.9907\n",
      "Fold Nr.:  4\n",
      "Class weights:  {0: 1.9976830398517145, 1: 0.666924504950495}\n",
      "Epoch 1/12\n",
      "135/135 [==============================] - 46s 344ms/step - loss: 0.3499 - accuracy: 0.8330 - val_loss: 0.1272 - val_accuracy: 0.9517\n",
      "Epoch 2/12\n",
      "135/135 [==============================] - 47s 349ms/step - loss: 0.2103 - accuracy: 0.9079 - val_loss: 0.1216 - val_accuracy: 0.9480\n",
      "Epoch 3/12\n",
      "135/135 [==============================] - 46s 344ms/step - loss: 0.2019 - accuracy: 0.9167 - val_loss: 0.0853 - val_accuracy: 0.9656\n",
      "Epoch 4/12\n",
      "135/135 [==============================] - 46s 344ms/step - loss: 0.1616 - accuracy: 0.9350 - val_loss: 0.1232 - val_accuracy: 0.9517\n",
      "Epoch 5/12\n",
      "135/135 [==============================] - 46s 340ms/step - loss: 0.1506 - accuracy: 0.9369 - val_loss: 0.0770 - val_accuracy: 0.9694\n",
      "Epoch 6/12\n",
      "135/135 [==============================] - 45s 334ms/step - loss: 0.1297 - accuracy: 0.9485 - val_loss: 0.0552 - val_accuracy: 0.9777\n",
      "Epoch 7/12\n",
      "135/135 [==============================] - 45s 334ms/step - loss: 0.1299 - accuracy: 0.9480 - val_loss: 0.0456 - val_accuracy: 0.9833\n",
      "Epoch 8/12\n",
      "135/135 [==============================] - 45s 333ms/step - loss: 0.1167 - accuracy: 0.9520 - val_loss: 0.0472 - val_accuracy: 0.9851\n",
      "Epoch 9/12\n",
      "135/135 [==============================] - 45s 335ms/step - loss: 0.1092 - accuracy: 0.9589 - val_loss: 0.0377 - val_accuracy: 0.9861\n",
      "Epoch 10/12\n",
      "135/135 [==============================] - 45s 335ms/step - loss: 0.1160 - accuracy: 0.9564 - val_loss: 0.0388 - val_accuracy: 0.9851\n",
      "Epoch 11/12\n",
      "135/135 [==============================] - 45s 334ms/step - loss: 0.0902 - accuracy: 0.9640 - val_loss: 0.0364 - val_accuracy: 0.9879\n",
      "Epoch 12/12\n",
      "135/135 [==============================] - 45s 336ms/step - loss: 0.0889 - accuracy: 0.9664 - val_loss: 0.0333 - val_accuracy: 0.9907\n",
      "Fold Nr.:  5\n",
      "Class weights:  {0: 1.9958333333333333, 1: 0.6671309192200557}\n",
      "Epoch 1/12\n",
      "135/135 [==============================] - 46s 341ms/step - loss: 0.3657 - accuracy: 0.8360 - val_loss: 0.1672 - val_accuracy: 0.9341\n",
      "Epoch 2/12\n",
      "135/135 [==============================] - 45s 336ms/step - loss: 0.2224 - accuracy: 0.9037 - val_loss: 0.1309 - val_accuracy: 0.9610\n",
      "Epoch 3/12\n",
      "135/135 [==============================] - 45s 337ms/step - loss: 0.1855 - accuracy: 0.9197 - val_loss: 0.0700 - val_accuracy: 0.9759\n",
      "Epoch 4/12\n",
      "135/135 [==============================] - 45s 334ms/step - loss: 0.1677 - accuracy: 0.9255 - val_loss: 0.0617 - val_accuracy: 0.9786\n",
      "Epoch 5/12\n",
      "135/135 [==============================] - 45s 337ms/step - loss: 0.1619 - accuracy: 0.9325 - val_loss: 0.0617 - val_accuracy: 0.9842\n",
      "Epoch 6/12\n",
      "135/135 [==============================] - 46s 337ms/step - loss: 0.1418 - accuracy: 0.9399 - val_loss: 0.0367 - val_accuracy: 0.9861\n",
      "Epoch 7/12\n",
      "135/135 [==============================] - 45s 334ms/step - loss: 0.1456 - accuracy: 0.9353 - val_loss: 0.0527 - val_accuracy: 0.9768\n",
      "Epoch 8/12\n",
      "135/135 [==============================] - 45s 337ms/step - loss: 0.1231 - accuracy: 0.9515 - val_loss: 0.0345 - val_accuracy: 0.9851\n",
      "Epoch 9/12\n",
      "135/135 [==============================] - 45s 335ms/step - loss: 0.1280 - accuracy: 0.9429 - val_loss: 0.0338 - val_accuracy: 0.9870\n",
      "Epoch 10/12\n",
      "135/135 [==============================] - 45s 335ms/step - loss: 0.1230 - accuracy: 0.9453 - val_loss: 0.0408 - val_accuracy: 0.9824\n",
      "Epoch 11/12\n",
      "135/135 [==============================] - 46s 339ms/step - loss: 0.0981 - accuracy: 0.9627 - val_loss: 0.0239 - val_accuracy: 0.9907\n",
      "Epoch 12/12\n",
      "135/135 [==============================] - 45s 336ms/step - loss: 0.0992 - accuracy: 0.9608 - val_loss: 0.0371 - val_accuracy: 0.9851\n"
     ]
    }
   ],
   "source": [
    "run = 1\n",
    "val_scores = []\n",
    "f1_scores = []\n",
    "histories = []\n",
    "best_f1_model = None\n",
    "highestF1 = 0\n",
    "EPOCHS = 12\n",
    "\n",
    "for train_index, val_index in kf5.split(df_train, df_train.label):\n",
    "    print(\"Fold Nr.: \", run)\n",
    "    df_fold_train = df_train.iloc[train_index]\n",
    "    df_fold_val = df_train.iloc[val_index]\n",
    "\n",
    "    df_fold_train.reset_index(drop=True, inplace=True)\n",
    "    df_fold_val.reset_index(drop=True, inplace=True)\n",
    "    \n",
    "    \n",
    "    # print('=== Train Data: ===')\n",
    "    # print('Normal:', len(df_fold_train[df_fold_train['label'] == 0]))\n",
    "    # print('Pneumonia:', len(df_fold_train[df_fold_train['label'] == 1]))\n",
    "    # print('|---> Bacterial:', len(df_fold_train[df_fold_train['label2'] == 'bacteria']))\n",
    "    # print('|---> Viral:', len(df_fold_train[df_fold_train['label2'] == 'virus']))\n",
    "    # print('    |---> Covid:', len(df_fold_train[df_fold_train['label3'] == 'covid19']))\n",
    "    \n",
    "    # print('=== Val Data: ===')\n",
    "    # print('Normal:', len(df_fold_val[df_fold_val['label'] == 0]))\n",
    "    # print('Pneumonia:', len(df_fold_val[df_fold_val['label'] == 1]))\n",
    "    # print('|---> Bacterial:', len(df_fold_val[df_fold_val['label2'] == 'bacteria']))\n",
    "    # print('|---> Viral:', len(df_fold_val[df_fold_val['label2'] == 'virus']))\n",
    "    # print('    |---> Covid:', len(df_fold_val[df_fold_val['label3'] == 'covid19']))\n",
    "    \n",
    "    train_generator = DataGenerator(df_fold_train, True, IMG_SIZE, batch_size=BATCH_SIZE, shuffle=False, useMasks=USE_MASKS)\n",
    "    val_generator = DataGenerator(df_fold_val, False, IMG_SIZE, batch_size=BATCH_SIZE, shuffle=False, useMasks=USE_MASKS)\n",
    "    \n",
    "\n",
    "    # Adjust class_weights since we're dealing with imbalanced data here\n",
    "    class_weights = class_weight.compute_class_weight('balanced', np.unique(df_fold_train['label']), df_fold_train['label'])\n",
    "    class_weights = {0: class_weights[0], 1: class_weights[1]}\n",
    "    print(\"Class weights: \", class_weights)\n",
    "\n",
    "    model = getModel()\n",
    "    history = model.fit(train_generator,\n",
    "                    validation_data=val_generator,\n",
    "                    validation_steps=len(val_generator),\n",
    "                    steps_per_epoch=len(train_generator),\n",
    "                    epochs=EPOCHS,\n",
    "                    class_weight=class_weights,\n",
    "                    #callbacks=[mcp_save, learning_rate_reduction], # learning_rate_reduction]],\n",
    "                    verbose = True)\n",
    "\n",
    "    predictions = model.predict(val_generator)\n",
    "    y_pred = (predictions > 0.5).astype('uint8')\n",
    "\n",
    "    histories.append(history)\n",
    "\n",
    "    f1 = f1_score(y_pred, df_fold_val.label)\n",
    "\n",
    "    if(highestF1 is 0):\n",
    "        highestF1 = f1\n",
    "        best_f1_model = model\n",
    "    else:\n",
    "        if(f1 > highestF1):\n",
    "            highestF1 = f1\n",
    "            best_f1_model = model\n",
    "\n",
    "    val_acc = accuracy_score(y_pred , df_fold_val.label)\n",
    "\n",
    "    f1_scores.append(f1)\n",
    "    val_scores.append(val_acc)\n",
    "    \n",
    "    run += 1"
   ]
  },
  {
   "cell_type": "code",
   "execution_count": 112,
   "metadata": {},
   "outputs": [
    {
     "output_type": "execute_result",
     "data": {
      "text/plain": [
       "0.9924358413350752"
      ]
     },
     "metadata": {},
     "execution_count": 112
    }
   ],
   "source": [
    "np.array(f1_scores).mean()"
   ]
  },
  {
   "cell_type": "code",
   "execution_count": 113,
   "metadata": {},
   "outputs": [
    {
     "output_type": "execute_result",
     "data": {
      "text/plain": [
       "0.9886782669512474"
      ]
     },
     "metadata": {},
     "execution_count": 113
    }
   ],
   "source": [
    "np.array(val_scores).mean()"
   ]
  },
  {
   "cell_type": "code",
   "execution_count": 134,
   "metadata": {},
   "outputs": [],
   "source": [
    "# set model to the best f1 model\n",
    "model = best_f1_model"
   ]
  },
  {
   "cell_type": "code",
   "execution_count": 135,
   "metadata": {},
   "outputs": [],
   "source": [
    "# val_accs = []\n",
    "# for i in range(0, len(histories)):\n",
    "#     history = histories[i]\n",
    "#     acc = history.history['accuracy']\n",
    "#     val_acc = history.history['val_accuracy']\n",
    "#     loss = history.history['loss']\n",
    "#     val_loss = history.history['val_loss']\n",
    "#     val_accs.append(val_acc[1])\n",
    "#     print(\"#\",i)\n",
    "#     print(\"-- acc: \", acc)\n",
    "#     print(\"-- val_acc: \", val_acc)\n",
    "\n",
    "#     # epochs = range(1, len(acc) + 1)\n",
    "#     # plt.plot(epochs, acc, 'blue', label='Training acc')\n",
    "#     # plt.plot(epochs, val_acc, 'red', label='Validation acc')\n",
    "#     # plt.title('Training and validation accuracy')\n",
    "#     # plt.legend()\n",
    "#     # plt.figure()\n",
    "#     # plt.plot(epochs, loss, 'blue', label='Training loss')\n",
    "#     # plt.plot(epochs, val_loss, 'red', label='Validation loss')\n",
    "#     # plt.title('Training and validation loss')\n",
    "#     # plt.legend()\n",
    "#     # plt.show()"
   ]
  },
  {
   "cell_type": "code",
   "execution_count": 136,
   "metadata": {},
   "outputs": [],
   "source": [
    "# a = np.array(val_accs)"
   ]
  },
  {
   "cell_type": "code",
   "execution_count": 137,
   "metadata": {},
   "outputs": [],
   "source": [
    "# a.std(), a.mean()"
   ]
  },
  {
   "cell_type": "code",
   "execution_count": 138,
   "metadata": {},
   "outputs": [],
   "source": [
    "# mcp_save = ModelCheckpoint(MODELSAVE, save_best_only=True, monitor='val_loss', mode='min')\n",
    "# learning_rate_reduction = ReduceLROnPlateau(monitor='val_loss', patience = 0, verbose=1,factor=0.01, min_lr=0.000001, min_delta=0.001)\n",
    "# earlystopping = EarlyStopping(monitor='val_accuracy',\n",
    "#                               min_delta=0,\n",
    "#                               patience=1,\n",
    "#                               verbose=0, mode='auto')"
   ]
  },
  {
   "cell_type": "code",
   "execution_count": 139,
   "metadata": {
    "tags": []
   },
   "outputs": [],
   "source": [
    "# history = model.fit(train_generator,\n",
    "#                     validation_data=val_generator,\n",
    "#                     validation_steps=len(val_generator),\n",
    "#                     steps_per_epoch=len(train_generator),\n",
    "#                     epochs=12,\n",
    "#                     class_weight=class_weights,\n",
    "#                     callbacks=[mcp_save, learning_rate_reduction], # learning_rate_reduction]],\n",
    "#                     verbose = True)"
   ]
  },
  {
   "cell_type": "code",
   "execution_count": 140,
   "metadata": {},
   "outputs": [],
   "source": [
    "# acc = history.history['accuracy']\n",
    "# val_acc = history.history['val_accuracy']\n",
    "# loss = history.history['loss']\n",
    "# val_loss = history.history['val_loss']\n",
    "# epochs = range(1, len(acc) + 1)\n",
    "# plt.plot(epochs, acc, 'blue', label='Training acc')\n",
    "# plt.plot(epochs, val_acc, 'red', label='Validation acc')\n",
    "# plt.title('Training and validation accuracy')\n",
    "# plt.legend()\n",
    "# plt.figure()\n",
    "# plt.plot(epochs, loss, 'blue', label='Training loss')\n",
    "# plt.plot(epochs, val_loss, 'red', label='Validation loss')\n",
    "# plt.title('Training and validation loss')\n",
    "# plt.legend()\n",
    "# plt.show()"
   ]
  },
  {
   "cell_type": "markdown",
   "metadata": {},
   "source": [
    "## 4 Model evaluation"
   ]
  },
  {
   "cell_type": "code",
   "execution_count": 141,
   "metadata": {},
   "outputs": [],
   "source": [
    "# model = tf.keras.models.load_model(\"models/custom_0709_womasks.h5\", compile=True)"
   ]
  },
  {
   "cell_type": "code",
   "execution_count": 142,
   "metadata": {},
   "outputs": [
    {
     "output_type": "execute_result",
     "data": {
      "text/plain": [
       "                                                                                                        img  \\\n",
       "0  /home/daniel/dev/python/chest_x_ray/data/covid-chestxray-dataset-0.41/output/covid-19-pneumonia-mild.JPG   \n",
       "1  /home/daniel/dev/python/chest_x_ray/data/mooney/test/PNEUMONIA/person100_bacteria_481.jpeg                 \n",
       "2  /home/daniel/dev/python/chest_x_ray/data/mooney/test/NORMAL/NORMAL2-IM-0372-0001.jpeg                      \n",
       "3  /home/daniel/dev/python/chest_x_ray/data/mooney/test/NORMAL/NORMAL2-IM-0120-0001.jpeg                      \n",
       "4  /home/daniel/dev/python/chest_x_ray/data/mooney/test/PNEUMONIA/person171_bacteria_826.jpeg                 \n",
       "\n",
       "   label  \\\n",
       "0  1       \n",
       "1  1       \n",
       "2  0       \n",
       "3  0       \n",
       "4  1       \n",
       "\n",
       "                                                                                                               mask  \\\n",
       "0  /home/daniel/dev/python/chest_x_ray/data/covid-chestxray-dataset-0.41/masks/covid-19-pneumonia-mild_predmask.jpg   \n",
       "1  /home/daniel/dev/python/chest_x_ray/data/mooney/masks/test/PNEUMONIA/person100_bacteria_481_predmask.jpg           \n",
       "2  /home/daniel/dev/python/chest_x_ray/data/mooney/masks/test/NORMAL/NORMAL2-IM-0372-0001_predmask.jpg                \n",
       "3  /home/daniel/dev/python/chest_x_ray/data/mooney/masks/test/NORMAL/NORMAL2-IM-0120-0001_predmask.jpg                \n",
       "4  /home/daniel/dev/python/chest_x_ray/data/mooney/masks/test/PNEUMONIA/person171_bacteria_826_predmask.jpg           \n",
       "\n",
       "     label2   label3  \n",
       "0  virus     covid19  \n",
       "1  bacteria  -        \n",
       "2  -         -        \n",
       "3  -         -        \n",
       "4  bacteria  -        "
      ],
      "text/html": "<div>\n<style scoped>\n    .dataframe tbody tr th:only-of-type {\n        vertical-align: middle;\n    }\n\n    .dataframe tbody tr th {\n        vertical-align: top;\n    }\n\n    .dataframe thead th {\n        text-align: right;\n    }\n</style>\n<table border=\"1\" class=\"dataframe\">\n  <thead>\n    <tr style=\"text-align: right;\">\n      <th></th>\n      <th>img</th>\n      <th>label</th>\n      <th>mask</th>\n      <th>label2</th>\n      <th>label3</th>\n    </tr>\n  </thead>\n  <tbody>\n    <tr>\n      <th>0</th>\n      <td>/home/daniel/dev/python/chest_x_ray/data/covid-chestxray-dataset-0.41/output/covid-19-pneumonia-mild.JPG</td>\n      <td>1</td>\n      <td>/home/daniel/dev/python/chest_x_ray/data/covid-chestxray-dataset-0.41/masks/covid-19-pneumonia-mild_predmask.jpg</td>\n      <td>virus</td>\n      <td>covid19</td>\n    </tr>\n    <tr>\n      <th>1</th>\n      <td>/home/daniel/dev/python/chest_x_ray/data/mooney/test/PNEUMONIA/person100_bacteria_481.jpeg</td>\n      <td>1</td>\n      <td>/home/daniel/dev/python/chest_x_ray/data/mooney/masks/test/PNEUMONIA/person100_bacteria_481_predmask.jpg</td>\n      <td>bacteria</td>\n      <td>-</td>\n    </tr>\n    <tr>\n      <th>2</th>\n      <td>/home/daniel/dev/python/chest_x_ray/data/mooney/test/NORMAL/NORMAL2-IM-0372-0001.jpeg</td>\n      <td>0</td>\n      <td>/home/daniel/dev/python/chest_x_ray/data/mooney/masks/test/NORMAL/NORMAL2-IM-0372-0001_predmask.jpg</td>\n      <td>-</td>\n      <td>-</td>\n    </tr>\n    <tr>\n      <th>3</th>\n      <td>/home/daniel/dev/python/chest_x_ray/data/mooney/test/NORMAL/NORMAL2-IM-0120-0001.jpeg</td>\n      <td>0</td>\n      <td>/home/daniel/dev/python/chest_x_ray/data/mooney/masks/test/NORMAL/NORMAL2-IM-0120-0001_predmask.jpg</td>\n      <td>-</td>\n      <td>-</td>\n    </tr>\n    <tr>\n      <th>4</th>\n      <td>/home/daniel/dev/python/chest_x_ray/data/mooney/test/PNEUMONIA/person171_bacteria_826.jpeg</td>\n      <td>1</td>\n      <td>/home/daniel/dev/python/chest_x_ray/data/mooney/masks/test/PNEUMONIA/person171_bacteria_826_predmask.jpg</td>\n      <td>bacteria</td>\n      <td>-</td>\n    </tr>\n  </tbody>\n</table>\n</div>"
     },
     "metadata": {},
     "execution_count": 142
    }
   ],
   "source": [
    "df_test.head()"
   ]
  },
  {
   "cell_type": "code",
   "execution_count": 143,
   "metadata": {
    "tags": []
   },
   "outputs": [],
   "source": [
    "test_generator = DataGenerator(df_test, False, IMG_SIZE, batch_size=32, shuffle=False, useMasks=USE_MASKS)"
   ]
  },
  {
   "cell_type": "code",
   "execution_count": 144,
   "metadata": {
    "tags": []
   },
   "outputs": [
    {
     "output_type": "execute_result",
     "data": {
      "text/plain": [
       "<matplotlib.image.AxesImage at 0x7feefc6aa6a0>"
      ]
     },
     "metadata": {},
     "execution_count": 144
    },
    {
     "output_type": "display_data",
     "data": {
      "text/plain": "<Figure size 432x288 with 1 Axes>",
      "image/svg+xml": "<?xml version=\"1.0\" encoding=\"utf-8\" standalone=\"no\"?>\n<!DOCTYPE svg PUBLIC \"-//W3C//DTD SVG 1.1//EN\"\n  \"http://www.w3.org/Graphics/SVG/1.1/DTD/svg11.dtd\">\n<!-- Created with matplotlib (https://matplotlib.org/) -->\n<svg height=\"261.910273pt\" version=\"1.1\" viewBox=\"0 0 268.866641 261.910273\" width=\"268.866641pt\" xmlns=\"http://www.w3.org/2000/svg\" xmlns:xlink=\"http://www.w3.org/1999/xlink\">\n <metadata>\n  <rdf:RDF xmlns:cc=\"http://creativecommons.org/ns#\" xmlns:dc=\"http://purl.org/dc/elements/1.1/\" xmlns:rdf=\"http://www.w3.org/1999/02/22-rdf-syntax-ns#\">\n   <cc:Work>\n    <dc:type rdf:resource=\"http://purl.org/dc/dcmitype/StillImage\"/>\n    <dc:date>2021-01-09T14:08:57.558477</dc:date>\n    <dc:format>image/svg+xml</dc:format>\n    <dc:creator>\n     <cc:Agent>\n      <dc:title>Matplotlib v3.3.2, https://matplotlib.org/</dc:title>\n     </cc:Agent>\n    </dc:creator>\n   </cc:Work>\n  </rdf:RDF>\n </metadata>\n <defs>\n  <style type=\"text/css\">*{stroke-linecap:butt;stroke-linejoin:round;}</style>\n </defs>\n <g id=\"figure_1\">\n  <g id=\"patch_1\">\n   <path d=\"M 0 261.910273 \nL 268.866641 261.910273 \nL 268.866641 0 \nL 0 0 \nz\n\" style=\"fill:#ffffff;\"/>\n  </g>\n  <g id=\"axes_1\">\n   <g id=\"patch_2\">\n    <path d=\"M 44.226641 230.120508 \nL 261.666641 230.120508 \nL 261.666641 12.680508 \nL 44.226641 12.680508 \nz\n\" style=\"fill:#eaeaf2;\"/>\n   </g>\n   <g clip-path=\"url(#pb03d9fad84)\">\n    <image height=\"218\" id=\"image8c2faf2e80\" transform=\"scale(1 -1)translate(0 -218)\" width=\"218\" x=\"44.226641\" xlink:href=\"data:image/png;base64,\niVBORw0KGgoAAAANSUhEUgAAANoAAADaCAYAAADAHVzbAACax0lEQVR4nN29yXJsW5aWO5ZXcpdXknYRJ4hIEohWNuhBK83o0OMdMF4QXiA70MAMo5GGGUFmQFiQUZw45d6q3CW5JK9uQ+eb/q2h6Tpx7d7LTVhmMknuq5jFKP7xjzHnaiaTyX44HMbJyUmMRqOYzWZxenoa4/E4Tk9PYzgcxng8jslkEoPBIPr9fvR6vej1ehER8eHDhzg5OYlerxf7/T72+310Op3odDrlvKZpotvtls/43TRN+S7/jojyDM5rmqbcu/b5fr9/9XftHH4iIjabTex2u9hut7Hb7SIiotPplM+2221wcB/+HgwG5Xzfk8+apimf0eaIiH6//6qvvu9+v4/NZhPb7bZcv9vtomma1u/9fl/G02NC+/Ox2+3KfSOijFG3222NF4c/42/6st1uy//+jv99eGzy3/THz6Fvvm/+PP94Lvf7fauPuT2+Jz+eB9/j6ekpnp+fY71ex+PjYzw8PMRms4nBYBCr1ap8f3t7Gzc3N7FcLmOxWMTNzU1cXl7G1dVVLJfL6EQ6cmcQmN1uV4TPjV+v17HZbMqgWLDyQNIR7pcngntnYfJ1fF8bdE9Ivrc/98Qi8LUDwaR/ue8RUZQRAfe9PbG+zu13n93ObChQpNyPLJQ+L/ebz2sK5Ws87p4PP5O+5nu4z/5NX224kC/GhLHI8nKsnW6f7+sjj7v7wN/IQJ4nz0/uF2Pi8clj4PN71dapkdnqejI7nU48Pz/HeDx+dS6T4b/dMKwo33NdHlQPkO/hCc/Py+2vHbbOeNuasKNs/X6/6h25lz25BZXD7aS/nrSa4NaMSG2MPD61w4pWM4C5H28df0p78txl40R7bCCsXBkFZONbe15tvP2c3P5jysz/zJPH1HP09PTUmkO3tXZ+p/ag/FDDvNxJLAnfWdHyve2NsjDmQalNeB4w378GNd66zv1DQfzDdwgf1pjBZ5A9EZ7wY57NCOHYUfPkx44Mu/x5Pn5MwGqf1WAW85fvXRP4PNfH2lW7jw2zzzv2rB8zErW+e/5zOxxOZOUHpvKZ5aCGSHo1gfAFES+xkuOmbrdbBK/f78fz83OJpyKifO/O2AtZGWuKmIXHMYThBtdkHE/na97T1+RB9zU5PqQd/X4/+v1+dWLcVwyQx9DeszbWP+Z9GdtjMM33OiaMtJVxtPDWjFQes/yZn+858nN+zGjmsIDPjilz7fk1Bfe987Nq/TQUP2YcOMefZYSS7xkRB0WrnWBoMxqNioJsNptWZ5+fn2M0GkXEi4cbDAavrLuF3o1jcjJ04hwr8LHjLcEzMfLW4cGnLd1utxA6hsZ54GttIa6zReTcwWDQgsp4yWMWmbmoQcB8D//m8Jiv1+tWTPFjCKDm4fjZbrdVo8F3/J3lwN4hK0kmrGpw2v/XDJ7vv16vj/al2+2Wccpwtgb/3Ua31fc+dk3PA27I5AuYnG63G5vNpsUawkARx3iyOfjfn+VOE3RmxrAWh9nrZYGqeS6uzX304Wf6um63W40fa1aN72oEB8aJaxirWqzGedn62rPa+ub+5Jg3t4XzLSh5XD0vtIm/8xi577U2cf5ms3mFJI55PaMLnuHz+F2LAd0flKmmCDW043HN1xj5ZNSVCZF8bo8PszDx2cnJSasxUJtuLMI1HA7Lwx0cZojmwTWM8T09mbnxWSA5sKJ4oPx8T0iOIf28bHlrR76uFgz7fwt07meGcFkhctttdbPF538riOG059LzZK+aDW2NgODvLGA16J+9Uw1FHYN/mQF9a07+lCPLm9lK8wc1+G20w/95fnIf+WlBx6zNKBrfQXVb0TiI2Qz1MoSpQbgaHKgJFwNREwTa53vUYp6svL5PzQrXIGJtoi1U+bM8voZxttbH0ETNYh+DK1moc76M52cqHIU75jXymOU5zf32NXk88lzUzq316a0jt7c2Nhy1ECWiPc4ZTtbO5/t8v9q5TdNEjxPtDmlgi57sdAr8sZB48LfbbcszmmGzdcu4viZobw1eTah5Hsdbk5O9S01R+D5bqmP38Xn8n+lpJ/Xz84/1i/sc8yr5+oweskfguceMlcc/hwDcz+2wEh8bH3+fCY5Mo+f+ZmiW+1+b5xzz1lAR4+Axyj9vHdaPPEaO4QrCyzfIg+IHrtfrozdlwDJs8GBki1Gz3LQhD36tnbV7HGOb8iDVhLsGGfNA1rxUFigbKHsS94txODbJtXH6MWE45sl9bURENq7uZ/7s2BzmefDfxLVvjU2eb9pe89b589pPfkaGtO5DjegAUvvzLOs4EZQsQ/4cV9Kmbrfb9mg1ssIBY80q1wYkP7xmrdzpPGAIoysubGFr3iNDxx87ah6T/2uC6ufmzwynjnk5xioL8X6/L2SShZNzDU/+FEub21LzOB7PmqX3/8eYxWNHjmHcphqCyPN2zFjXoKV/fK77n+Ut9z9zCTVF8XNIz3h+c7xng8VPIUM4wVUgzp09PT0V4Xfdom9GnAbT4wfmzrtzHrgMV44Jpwc8T9qxSa1Bidp9/GwOExc5Vsx/+/oMia049sCMf+3IsMkCVDOO2eNlSJ29aBZqC2JWBBuo7M1sHGpjm/tUU0rLhkvejvWt9r37mwsqsuGpIQrPleWWOtEcNiHvNv5Zbjs1aBQRhcaPiJKUzkJRm0xitZpX8MNzh2sKdIwBql177MgT4/PzPd3/fN9au2sTXgY2WTWPE9+To3NhcIbiNe/tduT2vZrgFI8d628t9srGJ89JLR3g++Y5qnmKGtzKcmXlq821jTRHVpKasud7uN25z34uyC6PfVYwjk6nc4CO/tC5o5yLcKCX3TJWqN/vlwagdIacWbkytPBRc+9u1zEPeQxy1QYiD/b/naMm7MfOM+SwEkS00YQFnfHLBtFCnsc0n/uWkuU4ON/nrf6+BSmPXZ8NRWb2gKrH4FvtXh6DjBJyn2q/OezBM4zM//d6vXh8fCz3ybFtfn7Pk1gLjnGNHlSf54RrTqRmoTa1bEXhnscs1rFBy0p6bGJrA1ATzjz4b0HJ2mc175YtX6/XeyVc+/0B+3vSam3KRsXz5/+zYNT6dkwwPK752bW25OuyJ/RY1gS3JvC5zbU2+t75utqRPajvmRX7mMHBEOS5PvZsdKKXJ+dYB12/mIkTw6FslbPQWCGI5zwpb3kFH4YeVuzaURvUmhC777W2/yltyu2rQTmekcmPfJ8MTRH+Wtuz589W256Udhj+HYP7bk9GMDWj52e67zmuOSag8AD5ej+/FgO6nxxGA/SzxnjnfnJQCZWX9vg5Na9eQyC9bNU4odfrtdw4cJAG4JEQRhfaokA14bfCeh2QPaOve2v5jJXNA+44J2N8D0Se9D8FXubBzsH2MU/i53hs8Hi+D8Kcre8x2JX7m9ufJz4rwDGvncu4eFZml32OfzzO2QPvdrtWzayZ7SwHtfk51m4+y8bV820F9Njn8WN+nPjPHi2PVWbBy33yBPiGKNh+v4/BYBDr9bq1PCQLOBQ1jQcm1R5eUwqXTuUJzoJvQam1P1vSmseuWeb87GOw1Nce+/vYwfhZAB2XZISRCQ3fp6ZQb/3vfh27X83a5/PyGOTva8qRFS6TcMfQReYBbMgsPz4yo8k9aiuv+Y0TyF4b5bSMPj8/vzq/3++/gqAc1ep9exO818nJyVE4ZS+GYMI+mrAwxDxmcfw3lisH9jXhyZNT+84W0udl61ubiJonrU3WsbYd87r5/u577XkgCR/ZQ2U443vl2r7aOP3Y4fOPUfk1pcmwzYRbDUbWrjn2dx63rGS5jfyuGZuIdvmguYder9daixZxWJvmpVX5nr1jg5ypZhMjtXPtVo9haUO5vGq7BtuAWce+P3b8GBtmxeIzfnvCssBkpTp2/2wgbGCsoB7fmsev/X2sLce8l/voa2y1M02f+30MytXOzWzoMeRQG/vctwxRa301jDzmWR2uZAU0m57/zveyk+l2u/H8/NwyoIRXNfno+UIOLt5uty24OBqNYjAYtKAaN89LKBgoW2A6R6Kbz+wpc0MNETjHcDTHHbWJrXW+JkjH4NkxxaItxxTDBAPx3LG8EX19iyaOaLO8bkct/uLefEZ7DaMsVE4/uF01Bat5+Fqqh/tmlplzMpQ8Rlbk+9cM0LH5y0fui+9v9tdthLfwM1n24wN9sHFtmh8S1hw51tlsNmX19G63i7Ozs1eDQyOyO+XwhixN05TkLI0wIVI7akJem6yaEFiAj92vBh/8XS2Wqd23dj8LaL6PBZ7/a/3IVpwxq8VtPMcVFccEKj+D9vjn2D2OHRasvINXLRWQx+yteYp4XXmfPaTH6BgbeGwMbHxohw0Qsus+eYc3jNgxWN+CjsbsaDUVImh0jrVwofZaWWnoSF5Z7IZw3jHYV5ss39/eJeP1H7v+raPWn2PfZcWqWdhjkCt/nz3GjwmJvdqP9Se3L8P8Yx6ihhR8GBpn1jlf6+9qMK02DjW2M3vhHAvXYLC/y32zgches9/vt7yYHQ3/s6yMthRF8weQH26YlYv1aZvNpmiz2Rhb2hzse0Ay1DFkqFkFD3QegBp083OPKdsxy+jJyUKRhc6CUmsHzGtWPnujvALY/cxtyYJpgcYa5zRJ7p+tdB6f2vYDnPunwHDfv9be2vxkL5aFvIZU8r1qYUN+lu9fQw/5eyuR2Xf6gxyRZ7PDqSG0VglWPsGWAgVA0RAY/s7C4MZ7oi0IPj/nbGrCYoH0YNQUMyuHrztGl3NezaIdg0/5/nlRJe3Mq7+z8NTaWvPMnpOasfA9+TwbjFourAaDHRPX5vhY27MM0P8amqmN41ss4VsHz6l5XGQVx+D+ZEPncbLCOX3FOeQCXYCfn9/pdNolWHzoQXBFPt+zwppGHtsByDDTg5WTgscEutbgLHh5gGpeJ3tRvjv2tz3QsbbUFK/mGU3cZNhimJMP9zML7zFjVlOq2rxwmFavrcY2S1xrv8851raI16sH8jmZNbTyO3aq3cvylCs4PI9vxZ41RXa/HJuB7NhHBzRnmc7sZFE0Bshuj4au1+vY7/dlZ6tutxuj0ah0PgvwMYuWG+9GMRg5+ZgLas1c1Sam5iXy8zlqVQ9u+1sQh7ZxHFMY5xZ9n7esKM82i+sjC/oxZc+HhdL9xcrn7QH9bLfVn70Vl3s8kK2ap8pz9ZaSHetjVha3keuzkuU5yeyrYT6lWDzbcmtnYuWyLHU6negcE7LsbVwc63IrtmTjhhw01tpeC2ZtVYzvcztq5x+zRseuyYcD3+xRa+3x/RhgG4fa+VmY2IYuPyMH8cfiopr3rXnqmsHLtLVRC6zxbrdr/W0WLhtlPzOnCHK7uC4bZeQjj5X7aXa61s/cBu9Cxt95rj3+/u2/2arOCmOZzPLNOScnJ68UsFWCVcvF1Ng6NNwUZ14Eut/vW9toe4DouCc+3z/DibcgkA97DXtmvrNw+b41L1ObUP625fW5hlf2+raEbmdEVEvP/LwfY1xrRw1V1MYTgfB40zbT1xGHHF5GFG/NTWYEPcbH2m7IbibT19RQjWsnrUCZpfU5Hsfa/Hnc7LGy/DCOJgr5PCIOrKMtVFYOTzIebL1evxKgnL+wtbdXy5DKDabTx5QwC50VK8eXHig+z5PjMjFfk49jn/v7PJlAQMbN54LdPQ41o/TW8y0A7vePGSULQS0nZwHFWOY22Jv6s7cUMHv3Y0jDRpLDhiBf63NzHsy1iNmBeIyPeVJ7Oa4xlKwx6TlX3DQ/7IKVB7/W4VzC4m3C8wRkj+JB9ne1GMRHhpxveVk/4xjpkY+aZbVR8P+1GDL33W3IQkdMc8yA5Ot/7Lv83Oxla+OTz494XWpXg2jHlD+jBnusPLZZSf7UvtfCDT/b52T4t9lsWpv/ctTmMfev0zlUgmSPaDl222w8M5xsbWVg4ecmJivyoHnpTN5PISuw/873yxPi3x7wPFB5gPJgeBL8ee3etli15/u8/Mwf+8nCYkuZjVS+Jj/LKCJ7QJ+X4VdtPrJRzTFcfmXRnzKWOd6y1/mxw22vtaGGoPjccRntzK8Ty56JZ/A7Izf+zymB9XpdmPfn5+d4eHh45ThQ1OLlcuzAQzggPvKNsBIEjJl5MxyrCcQxuPQWbPW1tqQepB+zwH/q4cl4y/LV/q4JzH5/SE7XLOwxL8x93qLQf0wJDaWsfBZOH2b58lYUmaFzezwfuX0gk9z2YzDdfeecY1VF9mCZYeTIbG9N7vIY0gbnitlE+OTkJO7v7+P29jYGg0HLAOT7dDqdw2ubMtbPF6DJ+/3LWpynp6cywe6c46XceHfaPzXvwfne7iz/tnXK8LImQJ7IYxb5x46aRX/Li9XYLBusWrxhw5ct8rGxOqZk2XP6x3PHkdlDzjH97zG39+Belod83zwn2TO53XiFpjm8lZT7ez7W63VpY1Y0lMtjFXEgdswOcj7ezKwlENThzPPzc9zc3JQd4rhfTpVERPS8XIWOMyDGnE9PT0XRTk5OigUxA4PVzpSnBZRG5o74jS3ZU9n71TylFayWf8oeouYRuFctHsz3OqacGbrUvs9W2mNfC9Czkvi8GhLILF3tPD/Dc5cVw8KdCSf3yWV4eX/KmhdzH/J984oCK4P7dYzMyNfmMWFuMqLw57VV/V6Fvd/v4/HxMRaLRdki344p7+/Y6fyQsM5BnPMWCO12u427u7t4fHyMyWRS3ls9GAzi/v6+KI8HxfFeFhIakqFoDfrVBKoGUfje11kpj90zT1RNQN5SHP+dlYPvzFgdexVVFpqsMLkN2Wr6nGwobLXtZfP9s9GpxVzZsPG8zMS91b9szHL/MpSutdP9zJ9ZluxlXOHkw2jJisePX6+82WyKJ2P3bsYM3sK6FBGHDVSt/bYidq0RL8Hf73//+/jw4UNRxuFwGM/Pz6868JaS5SOzfR5ED3BNuPxd9nAZenGtFSlb+XzUPEuNFHnrWg7gTVa2fP1bgvrWuNQMk8+j3QiMFSYjCPfZnj7Dzmz48Ao22lmwa2Oe43yOGvNoz7bdvrzUfbfblep5o4rsYQwfPWYuAGd8IiIeHx9jtVqVc+/v7+Py8jJWq1UMh8NScGyn5ef0er0X6HiMdfRFaPV2u41vv/22tTRmPB6XzmXcW0tyZsUz7qUdnkAmH2WsCTZCVCNPstBka53Pe4uCr3mCWnxooc4TTg6yVmlfe94xb2zFy14i4rUgeZ2aPaxf1hdR90juS7fbjcfHx9ZaRcek3e7Lm1FJAfX7/fJKr9q8MRbOr9a8Vk151ut14QycWOd+Oeyw/NjQeqxclhbxomjL5bKc++nTp7i6uorhcBjj8bgoN3Jq79iqdaxZHStLjgkeHx/j06dPMR6PYzQaRb/fj8FgUM7zywppvBvwVnxiIfF3NdYtezArQS2WqEGVfL2FoRYLvQXvMvHhe9QC/nzke/vZNY/tfuYxiTjUWmbFyYJmuGRk4fEiPu90Xt6ieXd31xLu3D/nr4i78jKsWhiQq+9Nfnhs+ZxcGX1wNT1b2WMcMv3OPT1GKJjL0O7v7+P+/j4eHx9jt9vF7e1tucdkMin8Qq/Xi+fn51cOq9PpHCpDrGwZX+73L6zLZDKJq6ur6HQ6cXd3F1999VWMx+NomiYmk0kMBoPyIJQNz1TrbBYmD2bNmjngzEpBP2wYLLg1geX+WVkcz/CZ21f7zD/ZUyOgFjYOBMNKkw1Hhne+R82Telzz8hQLdm4rsUzuq7e0WK/XsVqt4vn5uXxOTukYUYKX8Pzlo+adefbT01P5mzZmVtOQD2hOn4B2jLFRFtea1LMSPzw8FBp/sVjEarWKfr9fFPn09LRsmW+vnB1Yz5qXF256QE5OTkoH+e67776L09PTAhHyWrX1ev1qubePY17KhITPMdzh/+whbCVrk5mV08J2zOPVYkvfK0OdfH4tTkIJ3F63IxucrMzHVk4Yvtc8JH9bqfycWizF/OKN2OLC+2PUyAsEG8ObvXBtbulDRgk808aLnBbK5XKxx8fHMg6DwSBOTk5ejbG9G/OS0wTL5TKWy2V8+vQpvvnmm+j3+/Gzn/0sut1uDIfDOD09LSw8njziUDmFsrW2MjD5EfG6uBfLBYyIiPjtb38bg8EgxuNxPD09FczuQHu/PxQY16xrti4e5Ay9foyZzMLq9udgO3uAfC+3yZ7ZApC9iZXURimPbUS0vE32RLkfPrKC2sPXjIwFyu12TJPPpY+MtwtlicnxNNko5rHiHITQHiXLRL4GgX9+fo7VavUK6uU5Qv5MNiF/EdF6jzb9o80oGr+JzS4vL+PLL7+MxWIR5+fnBSr2+/04PT1tOSaebcfSNGnvfQujSRDOIcBlUMmv/eY3v4n3799Hv9+PyWRSBibDtMzGuKAXd+80AZYQhffk5KMGNbMS/xhlz/dveRZfW/OMGa4aJWS46s9qz/DBXFhY7R1rY8Kz/Dyzih4vnpHTL/kcPj8m6JYZGzYUxJ/n+9YgOBAOwoP+s/8M42DvwcHzQA/Ibx5TezGS35vNJhaLRVxdXcXvf//7+Prrr2M0GpXrut1ugY3027Go9SoiDqxjDmYdT3i/utPT0yo+/s1vflPKtSaTSatqmoQeHXNC23mYLHxWRH+XJ5q/M+yxN8wK4FjEk+NgPHs+e0kLR6bDmfic+PT52QjYK9Q8NNdQOe72eAw8JzUImeNHBItnWNneUgSuJy7ZbrcFTuZlIpan2lJ/s6GGxgg+xARI6unpKZ6enopHscK4P6AwjABLWGrEh5+FYt/c3MTvfve7+Lu/+7tWv0F2JycnMRgMipf0Mh2ej6y+yqNl62h33DRNjMfjwq4wcOPxOO7v7+O3v/1tETDOyZOOd/LnHG9ZySzkhpAWWgtgVphjAuO1cdlLeRyyR8pKwPkYr2PK7Imwt62RIbktGAIrZT7nmMf0uLt9vo8VBA9aY+scn5ne53x7NZhp3782H04RoACwiqbaF4tFRESJjQzTcsLYsNcGzgqGkfDzrq+v4ze/+U388pe/jM1mE8PhsIX2RqNRjEajMjbs0c+zTIS0oKM9G41H+82qzGazGI1G8fj4GJ1OJ4bDYWnwV199VYTm4uIiHh8fSwOGw2Gr8w5cjZN5fg6us3XO8Q2T4zSFFS9b6k7nsBclA2/P4GtpW+3InhL8buvmNqAE2fvSrqw4Na+SYVmGj9mw1O6Lh0DA2KrCL6CMOLx2KsPq4XAYs9msvKDSnqLf7xd0Y7SUFbCGBGib52a/f6mvpVIe+IiCuwQKj9rpdMq6SRTCXo3rnSLg93K5jF//+tfxq1/9qnU+ukBecD6ft6CjDbVRV0Qc1qPxJRPDbzqBBxkOhzGdTmO5XMZms4nJZFIsTrfbje+++y52u138/Oc/j9FoVDwYk2HBsXLba2YByZCnRnhw5DwME5mLYoF3/F2z4Fm5jnkMY/KIaBFBFogc/2Wa2WOfIS5GhfPNOmY4lxWR52Z2FGEGKmW46/vmMcBTEENbkPEQwCy32YRJVi4LPn31fXEA/X6/5YkiDiwfaQdYcp7rtptMspI9PT3F7e1t/M//+T/jb//2b+Ph4SGGw2Hs9/sCF7vdbgwGg+Kl7bk8f25/0zTRqwlT3ssRTY6IwjD2+/1WDsX05tdffx2LxSL+7M/+LKbTaTw+Psbp6WlR1tPT0xKcYkmzAOfP3HgEh6rpTOR4W7AaJLQC1AaGyagdNkL2UNyv1mZ/h4e38DGBud/5sJBb+A2f/GNly/cxVLMAZsXmfKMH9xclNcRHaIlfMizmt6E3Y+FEscci5w75cU7NCsT3hvFuhytLULbb29v4u7/7u/gv/+W/xO3tbVFqjIZR2Ww2a0FDO4JajrNnfOuLbKHxRjR8Pp/HcDgsLhwYSOeenp7iyy+/jPv7+/hH/+gfxWQyabGHEdHaVSvHagxuLWakA16WYXjigwE+ZlF9TS1OPRbvZUWqGSt7SU9EFmYTRe6n470Mm2tQzMrFbxuZ7EEsoCa3aENmhD1eKBNwDi9ixOJENXOfqXR7bbfH7eR5FuA8b26fS8KQTdrCs72sxjHZb3/72/jlL38Zi8WieCsn41G8k5OT4tEc82Wob71qVYZYgNwZYizw+8XFRQyHw9JoHg4FS2e//vrrWK1W8U/+yT+Js7OzloCgdNzT7t2xG9ABq+Yg1taJwTVLmYXnGATluywIGTLla60chqDZOGR4a+8PtMr3smLaOGTY63vWvDb3sOCiPB5LtyvDTlekMJ7Pz8+t5KwNEPNryNrpdF4tEua5Nj557tzmpmnKqhG85jECaTgcFrIkKxny9vDwEKvVKhaLRXz55Zfxt3/7t3F3d1dQ3Xg8ju12WxwFLCMhEWWHGLQ898hshN74mRXNuJOH4B2m02lhYbBs4OLJZBKfP38uk/zp06fYbDbxs5/9rEwYbn4+n7cgk+M0WzraBx63xaOTKK09QM3SHzty7MTBvTNU8/dZQDIZw0F/fC9qAilx4jqobMYhQ02Pi2M5+kA7c4zisXLOKENCywDfuZDc5/R6vTg5OYnHx8dXNZFN05QwI8N5tysTI4xN9kZGVhTzQs33er2Syx2Px+W+5HtR9NVqFavVKu7u7uLy8jJ+//vfx9/8zd8U4oNKEubr5OSkkCwnJycxm81eLUitoR7LWy/vsurJwzJtNptWfmQ6ncZsNisWgfqvzNAwoN9++21LoGgY+98BMXq93qv4MEM0OmEFs9cz6ZGJAsPkY9YfQa3BwwwNLByZBcze1PDRfTDb6eszocL1bpNhfo3EoI32LPZmCGkNsiHMrhPEk3l+d7vDTlkPDw+lUCEi4vT0NPb7fSyXy8L85XnJbfNYuw4U6Mm4UdBcPIZKnmAbGd/1el1iMao9SEb/9//+3+PXv/51kY/hcFhQRkQU7zUajaLX68V8Pm8RIRnpeG74rNvtHqCjBcdxiWElAzoajWI+n5ebYnn6/X6h9JumKR5qv9/Hzc1NoWd7vV4Mh8PipiOiQFOU2kpmQUSo7FUMK7Pi5QD6WDxEn722yF7C57wVr+XzszdhXPis5h0Ntzgne2M8Y+1+blO+Jx6MpC9CmAWd34yZv7cib7fbUhr19PTUSmtwbxvWY3FMNgC01bEpB94sx/D53X2wkqQwHh8f4+7uLr7//vv45ptv4ptvvok//vGPVXlHFobDYVG+fr8fs9mswEf6ahIGmbOiRVQWfrrz/m63e8lXoFDn5+dlgp6fn8sSAoJo3LWF/f7+Pv7whz+UQUFIgKDD4bAMMkwnjUaJaIsHJE+ahYX22Po7sPZ19uxW2Ig2W8h9udZ0NKwZ/2eixINPO3Luj+fl5zgGwsozDm67DYmNDuNCVfrj42NRNntWCxxwy2vWiJFoF/OH9+h0OiU+stLiDT0OtM+MI+cbghkNcC7PdozoeWfN3NPTU9zd3cVisYjLy8v43e9+F1dXV3F9fV1IHMaSUAj46J+zs7MYjUZFyW2Asg7loxR+WXBddcF36/W6lF91Op2Yz+cFKoBdweRYIibE29I9Pz/H999/H51OJ/7iL/6ivIQe74dnArICXywwbqN/LGQeBMczWQHMmOJRXbbDwVjYinnPlMziWWGyB8xbqGdjgfJlT57bZI/mihyPg6EoAo2CPT4+tuCe40ee5/xUxOsNdFmxgdGtxV1GIFYI/+17+DwrI/Pu3B1KGXEocrbxBypeX1/HH/7wh/j2229js9mUbTk8XlzHqmmQ12AwiNPT0zg/P4/5fN4qIXx8fGzBfMNHx6St6v3s+izET09PMZlMynfT6TRubm7KUoH1et1aibrf78sWB0wgStnpdOL6+jp+9atfRUTE+fl5CT5PT08Lpbrf70twCsNjQc3ewl4rQ0OUw0rD+U5sOh7FgwEnt9ttWUhoj4eg2CJj2R3A2xu5/TWSxONf85DcG8HzNdkDuP/Pz8+xXC7L8vzValXgHV7Jikqu07kyxgao5gJyYjHXx4JuONdIge+Bdwjo4+Njq7qEfmDUMWxOcNuoPDw8xGKxKNsO/Pa3v43lcllkYLVatRQVpeMzYCP1lKenpyWthSH20h/LVEaHTdO034/GF+4cJ3JTFG0+n8fNzU1hmgzFvExgOBzG/f19dDqH1ahM6PX1dfzN3/xN/OIXv4jZbFaYIm/tRcLQezMQYwyHw1d5E3tlKxnf0T7DvGwZM+38+PhYluIzscAMkrJ+jQ8wCygFa8Xh3JLbDPvn9mYSxopkAawttPXPer2Op6enWK1WrfgMQ0h7TSpBgZ+enrbodAwdRcSZsW2aw1uIcpncfr9vrcbf7w/lVTnmfXx8LOOAgaX4ISJKn8w2Y0hub2/j5uYmPn36FL/73e9aBcVPT0/ljUjOAQ4Gg0LIQeWzVcHp6WlMJpOYTqetVSZun+fD8rbf7w9kiF0og27LiyUHe5+cnMR4PI7lcllWWUOF3tzcFIGjNgxl4f5YhZubm/jlL38Zv/jFL+Ljx4+FxeIZQMenp6eyyJR2IixWbHsGQ0z+h4nif8NKBBWoTB8QENPJpsQhBAwbc0zoSbFgO4bNsMmTlgmRbDFtMK2YhrNPT0+ldM7ei7bQjhwXOk4zs+zYiPvkpVQ22IazHgu8HNDPSWbOxSgiG8RfNkrr9Tru7+/j+vo6Li8v449//GOsVquiRJBxoAAbBlZLM688C892cXEREVFk3e3KIYCRSTHu2aNlt+7Pn5+fW6tJp9NpXF9fF4vvejlgDe4elzsajWK1WrUgymazif/xP/5HXF1dxcePH0vhMhaT5KCThiiV0w9AHYTd7F3N1eeA38RHDuT9Ug8ENSKKNcaCI4ycm1chN01TqmJq8SXjbgH2xNE3x28ohQmRTIYghK6KYI7yM7ifxxGBA/5HtD0OMM51iBhwkAmsI0YbRTW8NtJA/vC8kEc3NzeFtEDY1+t13NzcxNXVVVxdXZVdqwaDQWnn4+Pjq7AoIoqDsNI4BiQug4FknM2S+rAnL3A7T4rhh60muHk2m5WGTqfTGI1G8fDwUCCBK7cZwKZ52VMEoWM1No1COL/88sv49OlTvH//Pn7605/GdDotisMiu/V6XSAj1oo4wiRDJg0yOcCRS3SYOLNaTuziGbDUT09P8fDwUO6BAGQ2kNiTGAaIwhjY6+V4zkpgJcyK4efxGdcAsexpTXo57nVZHP0iDOD+sNA8h5iUexArAc2I2Zn3iCirk90Hw07my+OP4uEB7+/vY7FYxPPzc9zd3ZX0Ef0DFqLYhrkmqlzT69UAVOkzhxgLvq/xBJkjaCmarWEtbos4sDo8BOx6f38fEdHKoI/H41itVvH4+FhwLYzV09NTKdlC0JmYu7u7uLu7i8+fP8ef/dmfxfv376NpmrKH3mg0KhgbC8Sq7gxp7JWc8MyT5iAcK0kqw5adiSdvBPRZrVbFqnpHZ1YBw9KxSJH+u21WtGwla4plb5gnOR/AW8bZAlCrdaXfhtX0gxgbdEP7R6NROZ+cFXstRrwoHwpB7ErcNxqNSgyMZ0Th1+t1PDw8FK/KtcvlsnhGxsxFD6yHdBzuGA+vA6xk/GkL8/f+/fvodDqFeczEUI2Zrv3fq53gybULx7p7Dc50Oo3FYlG8DrVoztKbWj45OYnpdFqwMp/B+vDsxWIRv/rVr+LnP/95YSWha8fjcWs1L8KN8NqjYrUzM0e/vDEmigYkZQwsjDBaJk6Id2gf9+fes9msnE86w8ptT8aEI2yMvT1MVigrnYN0BBwYl42pY0jXMcLqGS7jERxLMU5AYQzMaDQqdZwYw8FgUJg+xunu7q4kta+vrwsLirc0RO90XnJzvLkF1IBBRybNHAIVmTfuYcTB+bCoQFxiNpASzHcNdWTyKR8/KP7rN3VayHKAbQZuv9/HbDYru2FFRKkzI8jlQff394XcYJkNcIR1Pw66wepffvllfP311/Hx48c4Pz8vguNUAUo6Go3KJAEpMxtpz0R8CPuE4iNETBCKi4G4u7sr97WSYaGtAL1eLx4eHiLipfrFFR0WeCsan9uzOY7KENFKlSEL93Wc6/jJ987Ei6EjbXMsZWPGvK3X65jNZjGbzQrbzJzBNrIYE/kYDodlIfHJyUnJ8SE7jCvjzriCOojDHDtuNpvCct/c3JQ5ZQ4wSCgP8oJRHo1GMZlMCpwkjWXobYbXOpShftOk9WhczN819ssVAijKeDyOu7u74mGM93u9Xkyn01IlAuyYTCYlacigOlawdd9sNvHtt9/G3d1dnJ2dxXA4jMlkEmdnZyV2HAwG8fDwUDyfO43FtiJZkHJQazYrV4A8PDyUfAzWPXszxgGBYMxYw4QAMUZZqaxsOYdmi2lv58Msq+9J/GxIDKtqz21W1rQ551g+IEjwPMTOEYeSKGIs+gPkhFywsqDwNzc3cXp6GqvVqsRtrHEDtWBozSyTwjg7O4terxd3d3cFwuNtI6LEci5Gpk29Xq+wjCbjmDP66XRMRhXWkaZp2tDRiuZJy+7QNHZExMXFRcGteCrnJTy4tn503tl+2gGkGg6HJQm+2+3i+vq6DMBsNovpdFo2A/I+DlhiB7y2wPTV0BJL52CcfjVNU4qjV6tVWVJvmh/DAs537sx0t+NgxjJDwRxUW6kyYUHfMnOY586Wm3lG8ewhOc/Gym3iGldIMOeGe8yrUyYI6W63K0utGLfd7mUXYCAmCszfsNnZmJODw2iwmS9IAgMT8ULAPDw8tGJK3y8iyuoU2n1yclJYc4dROe/pefa8dTqdQwkWk8iFtfJ/bgTBYUjiNTu2cuB9BhKhxtUzcC5lQiGYMC+wY+Kp1bu6uorZbFaoZdYhubI7IlpK4bySi1OXy2U5j/jDQTbFrMQvi8WipWR4M5iqi4uLV8wh/2emszZBeQLz+Tm+8z1qaIQ5NkRyUI83y/dBGPmNIYOssPAB58za8lwodO7T7/fj4eGhFB9Q/GDFwxNbKRByM7w84+zsrMTeGCPGCUUFntIG+k+fvXoa+fa+I6Aonsn45/mxEymKZuuYf2clzMnObvdljzsaj5CT1OahubqbUiCCTmIzGjgcDmOxWBTPxsEAWeBhlJbLZSvWiIgC6fCamWRAQPBe3JdnATm4JkNDQ7GIKJt9khx+//59YRyBMQhjrji3gJusYDLtyfjJnyH0mRmzd8rxXi6GxtAi4BltYN2NgEAwj4+PxWBScEDbzFyDDhxrE0eR9zNb7DI8PBjx/2g0irOzs+II8ITEVXhbmEYUDrlkXjCOoDPytigkRtdrI60jRgLWq1ZRcW2yOSy8mRHzfo64YQQIC+Bg2J6NybKXQ2hZZMdgMOjT6TQuLy9Le3kGCrjZbEoNH22m47SffQEda9myG9KYKHAgTz7QisZY9Pv9uLu7i83mZdHr+fl5TCaTlvJilYElbqsF2NUueUL9v2EcCpEr5plflAUUgfAxZhneWqn4zt7MLLPhKUY4Ilr97XQ6sVwuS7mTwwPux7w7/srF6xEva8am02nLwyIPeDmMqEsDUT7mg+p89IF0FUafcbBueFwyQ2yF69Epe6dMiFjhcrkQkwQGJskMPYqHyRaUge92uyXhi9fyKt2PHz/G4+Nj3N7etjL85+fnJX/HfdgIaDwex3Q6LcvUI15yfKaTuY8JE8d0XvAIVOh0OoW6ZoJhQO3NvD26YTFKhOXHuPAsx2uZIc2wxELj8TVctvfyuKNoJoQ4MlNrmMRneCjibMNhXkoJtITQ4Bn0nXZBhjAu8/k8bm9vS56M+MxtB3YT56HI9/f3xWMyj8DAmrcBDhNP4xEZR4wmm/KgE4y/D+bKyujvep4YOsINOYkbM4DAJUMfYp35fB6DwaBYALtcvEi3243vv/++wAw8FX+jqF4CP5vNirdioKHzHeQj9NxrNpvF58+fS+7LNX1cG/F6pbEVhOeiEE5xQMR4o6LRaFQEysXIPNOBfcRhOwMrvIUfz+qJO0ZauU+0yc8yyrDykb/CkBhKYhTsQa38Fj4LakT7bTmO072GEYgWESUn6ldCOT5kHvf7fYF15GStQBQAo8h4LrOu3Pfk5CQ+fPhQQgziSW/QQ6yF4luRGNfsxcwp9PKXZuRyQO6bOqFJY2F8zs7OIuLFwhgSIXTeAIUsPApMwhhvcX19HePxuGTp2euBhDUsEsoFPscI0F4y+2y/gHGgbSYHqD4Bm/d6vTg/Py9K7g11druXRD31jqenpyVBjTBAzkREKWzFOHAexiNPmOOyHA/YKNqKZthpJWOOHSvv94cqFhsuFIV2ucyMzzFGZiUjDp4RpWYsCBOsuBBTi8Uibm5uSuzGfYCLy+WyGAi2FrDMRkRZ0gJMh2BxlQv9BUGxN6kVmgR1Zo+bpnlF6/M7cwNGS69qHT3B/s4HlhNalQnCAszn8zJ43BMvaDYoIooyeCA8gAS9uPDRaFSUlcnifFcjeELtVXgTChUGCJ/ZT55la4tR8Bjc398XIwCF7DweDCwCCyTm2Uwi5zo2pu+ZWuczFNexUY4NcrrCgmYlQimMYiwTfl2SrXWeNysj88q1FlauZ+5YBe2kv6v0vWIABOW5YB4xFk3TFCKKMeIeu92uKBA/nlO8JDGs82e02cgnj0c+ipc1K+UvDCsQxOzhEGhbQRp4cXERi8WiKAmBOdab5+SdrTjXz+50OkVBUbTxeFwmhcE1dcx9gKcoC/CBzYUiDqwk/fcut7BrxH7j8bjEeTYIxApXV1ct9tUwmkSqEQNQ2tR+FkYbJsYjxxqeLysb53oBrhPSrvzw+BvKwgg7dwZ0NzHh1AyejntwDnEpY0Y+0vAZ40ocyLz1er3WNuRmTG2UeY63U6DdXmPm7wlfmC9CGCAkOmJonFEG7cmwvtPRvo41z+ZYwd/bXVJcyiQg0I+Pj/EP/+E/LJufeC+Jq6urFlvVNE0JuPE+CAlwb71ex+fPn2MymRRPYBqWWMp5MPcHi2aDQHt4VSoW7/7+vigZZTheZg8FjNVkF2bqNhkzVp0z0SRKsfZYeWC4VyXnmCp7XytF9kRWHBSVe/IZ3t4EDAbAsJjfjAeeE6Em7uXIxA3X8+M1Z4zR7e1tIbtgjEEL0+k0IuKV4jAOVAVRZJ5rSQkvuIZC+NlsVsaAeUexmCOMrr2WjRSf5QOyh6NpmteKxmD7yJ7M35O85h5sXoK3+PnPfx7fffddITWMgxGyiINXwBqhEMAErDKTRckXKQOEt5ZEJYGOtWMno6ZpWhMBTDo7Oyv3Ho/HrYnyWrKPHz+W9Wh4Vliu6+vrAkN2u13Z9sGlO8BbFMEW0iyWx81zcexvK54RhJXDY8Q1KKBhqlGIja7jHmTC1t5xDONqhWU+7+/vy9ywegOFMesL/DThQ70rgr3dbktplStHPHfn5+fFMDupbiNiNEKujX74fjZemSW2YYz4gd7PWNMMl12krV8ecMMJXC8Kc3FxURbjPTw8vKLOn5+fS/4iH9D+1MLtdrsiwCxbZxIovXFwnisNmqYpiXPaynPY/cgFxV4sSHzAJOH9mAR79slkUpKlbDHtJUFeIJmDaMc99lBWRLOlrqKwolnZUC5iRdPyPoj9rESc60oS7u02On6hHZYVYqCmaUpC//b2thAhzC/PAL45NEBmUBzH+DDDLgrAiI3H41JBFHGo7AeBcR05vl6vV/Z0tId3fOY+Gvqb5GkpWsb2dDJjdw8YD8qsVq/3shbNFRjD4TDevXsXnz9/jsvLy2IxmHwsPQNDQ3HtLljGo8F+cS7lU6QX7IXMsPlv4Cx5LwgeBt9spOMlr7MCpjI2YP3JZBIfPnxowWYWJ6KU2XAZMjJRORbwHDEvOb7L0A1rT8lSTXmtkDashTX7wUt4vumv4ZThqZGSt4R4fn6OxWIR19fXpQQLyAYRgidBDkmxLJfL4mmcd6WNfMY8wCBCguGhkXGvGTRqAI66MKDGU+RwyocJop61kMHpdDpxfn4e//Sf/tP46quv4i/+4i/i5uYmvvzyy5b3429XRjRNU+IoGobAnJ+fx+XlZcHihntMlmFeth7EA1ZyW73VahWXl5dloSllUwgOUJT+YqEJjG0xDYMshBHRyteZ2PD3CDXxG+flzWV8XSY8jh05/vJ1VkqPH+NmT2VhyIE9B8bQcNJEDnPi3xhXE14sjmUFxO3tbVEyvywDwmsymZS4nXic8MLeHNkB+rnSBVaR9ADIy2RZzqtSd+myK4+7dcVH5jesV51OJzqeVF98fX0dd3d38eHDh/jFL34R5+fnRQA9qP1+v7WfXtM0JZfhLb8RtHfv3pU99yNechhAOFdMm7YGahKbMWkWcDwEniMiyhYLWCvX4HlJDzBiMpnEbDZrsU4WFiamaZpyDhaTnFxEvNoEB0gCLEXR3A+jAlchWLGOHXnSHeeZrEAxIw7UPl7cJJKNKfOKV7fXy3E2/yOgnPvw8FCKwHMdqWEpSuJqGxtIV9EzJyiG5yMiSu2jyRvyrKRfvP2C5dQ1jmZza97MMZrP8VhH6LVNGX5gVbrdbvzVX/1VXF1dtVy6H8T6MgaJImHDI6zF09NTnJ+ftzyN8x0I8mQyebUA0FuLmYGj3nA+n7e8K/APsoQJQsGgjrF2KP1isWh5MtcvGvZS0c0mpBgeyrVMdwPdvDyD/tI+s5BMPn3Mk23Y6FjJQTho45iSMvY1j3rscJ8YHyuhUQ7JeRCM2U8O5Ic5hAV0OoHY37DX9ZQoEZ50Op22itRdZIwiLpfLku+FT9jtdqWahCID5tGVPTWlqhlF5mW/37f3DPFgPzw8xF//9V/H6elp/Kt/9a/iP//n/1wqOjxxtsZMBG+V8cYsWM2IKPCJAaWgFKsFvFiv12VRKV6T2AsYZMGn6ptr8Uqj0Siurq5aAs7CU7zN8/NzXF5eFkKFWkmvEsci7/eHpDMGAAaMSWdbMmN8w2XGzZUXNfjhuNVBuSc4T7Tvj/cx3OIZhuIoAWPp0ingY16hzT3yqnJiWBbIsnQIQ+ut4h4fH+Pm5qbsL8M4YSiJ32EGnaaxoSI9QsxFfzF69JnvUGQMQqdzeC81JIhjNst4Vjj33d+7SKFVGeIJGAwG8ed//udl96mf//zn8etf/7oVOPvGWAw+H4/HsVgsilfjgVjAXq9XXtE7n8/LZi5OikYcCkWt0CiG70WeCquFFRsOh2VjH5Mb9/f3hRGkgoWcDhOGdfa2ahHRYia9qQwwydS5E7Gj0ahsDOO8Gdc70W0FyVQx11jZ/Jknnj7UmMgMMX0/M5JGHyYGXIGDl+FaGMSIwz74JKYRbrYYMG1P34HkvV6v7ISNbJAv5VkULzRN0yolc2wNOWKYu91uS6kdOWBXhtAfw/qagnmMjo1xVdHwPGTQf/3rX5cByywVnX16eirJRWImhBUlNFXL/YBjVNff39+3ipWxrMQ7WAnT7IaX/ABxUXIUBC+Kd/bg+zmkFaDsDXsQfoSs2+22Euum7fGslI/h0eyJDJmzwmRIz3gjOEyqj5qn43zSKTZcvj+xaCZV8r3dPhQFQST2zIlsli4BFe/u7sr98ViMO7EYeUfuZzkYj8ctOh7v54Q190P5HHeT+0QOmqYpjLm5gaw8/vsY3DYi2e127b33eVi3241/82/+TZnITqcTf/VXf1VimvwwJ//4HwUCUqFkGdogZOBr8mWLxeJV8S9tzFUUWFSqNPDIxAjsQOu2uO4N7E8gzEQBYZvmZbNYINNwOCxeEUUi9iJRj8IDQ6fTaamLZIyJ/RyIZ8Gv/X/Mu1koMtTE+EBG2GD6Giu8WcrMONrr8Qy8P+OJkmB8MHp4N5MgGKyIw9YDvOvcRcwYGVchkf9E4Tif+Wa8ab/7gLcdj8etHLAX91rR8nEMQmbP38kx2m63i7/8y7+Mf/fv/l18/vw5/u2//bdlNyMrl90yk5/3AYEgyVDo9PS0QDkGzY1jwx+vMzIhYFLDwXxElC0UwN2OoQxhWP1Nm5x0N8mDxySXxxjBrPJsvCaGAXKDdwpgSekzMSrCBVxm8iPaW9nxk1kuz0k+svehfeSUDHnNLHpMgYQYsly6RZtqHtIIxHEfngoF9ed4fvKVhA08x0XAQHS/6rbf7xckNhqNyhy7IsbbBdIvzreBNGxkXHIekXvkMeZ3IW/ypNiCmC00le4g2rEIq485Fwhwf39fBBk4ibCjWHSg2+0W+nU+n5dG0x4zfjlARUlQMmAFsVMmBHw9noX1TcUSdQ4voGCXLWBy0zTlvVsoDR6Rw4tCqVxwnGAvgdI5uWsUYCtZgy2mom1As/ci70Scm5XXz65ViuBZOAzvEXj6DenB2CLsxMXk1FAgBBpSDJQFLDRJARrCC3lPTq+kYC7NfOIZrSzE207tvEU85TjQTicrYdl7n59erxf/9b/+1/iX//Jfxtdffx3/+l//6/hP/+k/xd3dXSsvkB/kCeZvIBXEhBXFFeGwi9S9QYxwPYwVkI5EJwNvFsxCR36MShHOw8L1+/2yL4WhaM3bOkAHQp+enpYSIg7jeiYyB/WcY4+GV+VwPsusI4cn0mQFnt+fE7dwDWMFrPJGM/aabhf3xcgi7DbONYIESIfx4npgNowziuax8/Idew0ri1d781y8Jb/Jp1oxUVwgKqGNn007YSoNO7PMW+75jvaVGM0XIFj//t//+/jH//gfx3/4D/8hOp1OeR8aLpUjW0riMwRpMpmUekCoVmP7iHaVO/Al42NgAekDOgzDyP2goXNynUoRBpjtqYnfsIAE2S5wdZKXwcNrsR8FMJOVBb1eL87Ozso+lHgRxzykHrKVxYghLCYnUJ6a0vmwUFgYrGyOVXOeiM/M1hnmgRo4B8aY+bSl9774Zn4ZNyfzPT7sIQP8Z14dolAyh4Ihn0BEIw3n0vjNvjQY87Ozs3IPzrcH4zArW5sPE1bdbvegaIYYNGI+n8dXX30Vv/jFL1qBZZ5cW34awTnEQl7W4vVEvhfeCkjjBC5L7YkxIE2AJEARFxWb8eSH3ah2u5eKes7Fi7qqH28ME7darQpzCF4nfmRsTk4Or2CdTqetPfZpL9Syl+Bj+a1MmaG1gbIg21PnyfbBPX2v/b698tkElxXVCoiCEQKgXI4tEVTm01sX8O6y6+vrUkgAxMSDsXGP4SdGlr/xNHd3d2UM9/t963XBGG36T/9QMooUUHLuY8XKaI128bdDhQwxNWftPdn5wTr/s3/2z+Lx8TH+8i//skVNc9TYRMMhAv+cQ/K2AygpLp42OVZEacD4eCTnuHjJnq0+3ofl8ff393F7e1s8Fx4RRePtMKwKYNmPhYe/SSEsFouSLqAqBgvKfSOiVf1A4jaXASEAXrbhCcwkVMTrYNzfm/DAKBoGeYz5DlICz4CHwmtzf8f1GU4xT1ZgCgoeHx8LyvEqZjOBKDr8AB7YRQcoUb/fj+l0WpQyM6sYI6qVuD/vgUD+aYPzcFa0zBS7/C6XzfnY7XaHGI2LTfH/9V//dfyLf/EvotfrxX/7b/+tPJgBcV7MljfjaVYfE4fhzinPMQXNoHqlLEyUS6eypXcWHwuDQpgRfXh4KLtlRUTZcBOqvtPplGQ23hDyhYGGyWqapiw4pA6PpUCLxaJ4WmJEznNuzZbSxsmTlCGKIQmfZ2UzdHTsZ6WzQpqsYg5y3EiMjGHFC3e73fLyCKAd5XIYSNqOokFOsdVcjq9RGkNc8pooY0QUQ7ZcLovhY7w9Jn75CqECe9uwc5krSjA8JoNstGxU4BLID2bWsdPpHLYEz2QCg4crhaZFwdBmJowHZ3eLAuHVEEyS0mBxSqTYVMXB7v39fVFUQx7OY5nFeDwuW9fRB5fz4AHNSjVNEx8+fCjbojkmY1AdWxFTUK/5/v378mI8YBLb4bnixJDPcAahZVwNU7Jhs7KgBGYWM9OFgFjhMF72pI5vLQtWOuJcyBzaizGhLWzpZ/YadEJ6BSVDfvhNWzCurJ4GIfB8UAsIBCVy2RhKzDgjmyjFx48fS2xJwTxzYfniesu5D+YG+SMJ73ClaX54hzUTa4s5HA7jn//zf17yQE3TxB/+8IdyEyeRrVgII99j8WazWdm+GxhnOpiJ+fz5c1GwiChFogwCZAvQhdUD5FiALBxYWASm2+3G7e1tTCaT2O/3pbaRtVCPj49le3OsPMbj5OQk5vN5zGazmM/n5b79fr/sQ4jnZT8Nb4+OB3Ac6XZaAc0kOvBGeTJhhLXNcS/3Aj65/pQD722GzxDV8Z9hZcRhPR5wmPv4JfQRh20H2OUKgzqZTIqx5Vr6S9E2ikgBw+3tbTGeQEf6iVcy6eN4aTQaxRdffFHSAS63QqkZ82zcPF6G9Ia2jgfdhl6GKpy0Wq3iP/7H/1iEgE1K6FjNs9iLWYAQ0tlsVrY+AIYA1VAkY3gsGKwU2Bnh9+7C4HKeiYXGqmR6mtzebrcrOTHa2el0CmPlmLNpmgIrXUGCwHknK8YHpg2hYMNUYh8jANqdlcBGDEWoTbT/trLkxLdj3ohokVP2pI7dUE7+ps0oGEXB2+22eBogGs+4ubmJ+/v7ApmZC2THO4YRt3EQk9MGM4e0nevxwHhoPh+NRvH+/fsiRyiXl0zl4grgrsc/64qVyrsum9DqOTZzjFajkRFiF9x6Qh0k43l8PUtfgF85qUnDIEgYICCZIQID4edFHCosqBiHcDCFjkACZTAcFjKEkUWLxGkQFOxZCTwCMkDn02avEEBhEEaekWMv2mCqmzbV5oTDCmhPh1KhcIaRjCFzhxzYk/t5PB8jCBSE6YuIloHjnKenp/juu+/K3PA6JnYxZt7Y59PvaeA3igcyoJ/MJSQSY+cV2PP5PD5+/Niqy0TGvPyJg/Yzdhm++28bNkNve8WevVLWTjN3tYnkf1PMfOcksi0D+zZAm19fX8d+v29l4oGBDCKejhSDYSBehIoNPxfiAoXLrBZQCgF3zNk0TYF8fOaau9PT0/JGnZriev8LDAtwmmVCXINAI2wmIPK4e5I9sSiJx8znWNl4Zs4LOU4n7vAyoYjD7lWwiRjOiChVPcAyj9+nT59K0TnbWfR67Z2HI6LEu3yPovjZKHqn0ylbCRJO8NIMKHvK4L744ovWmjYgqZfVuNggz0WWexNJzCNoD1LMY9vLmpcpTUMhD7gVi/N4OD/2kDxns9nE+fl5YRwN6RBYBtQMqOvsoFPJr5FTmc/n5VrT6hYOIIXr+u7v71tEBEE+A0wbvNweQoF3eMNywWYaVrJsv9PplJd2cI4JJnszEyRWMFeMoECm7j2HVmL6xhhmiIhHADoRBxotWMANrfw9/Ubwut1u/P73v4/Ly8v48z//8/juu+9KuzCcnz59auVBWcAbcahdxUBY/ojJ2YeFGkevtp7NZvHTn/40mqYpBeIOhQxRkWGzjxhWxjWnMmgb8Tly7DmLSCusDSEtZJ5MPIoVwoJBA7AGTEZu/Lt378rrdr31AMQLz6MUyxia59FxAnznSmC+np6eCvFBZT1CxKD6O2hex2VN07SIjP3+JR3A3ijAI6zp9fV1WYpD6ZrfMPmTn/yk3NuBuA2XDZmVJRMZTpxaoSwQ+Xwro+GhyQgrrisqXCnCnDIG0PERUUiqb7/9Nr777rt4fn6OX/7ylwVCk2OEJMHQ9Hq9Ep8ja9wPlpjrMbKkfyKi/CZHdnFxUdIHKNhoNCpKRnu5t1Mb2evnMMlOyaQLn/n7V7WOFq4cM9ir2QNaQBx3YLmg0xk44hNKlKBsHfzyDMdkTCaTQ5tw+exNwfkRUZa0sKGOX0Bnb8L/tHk+n5dYgetMk8NQUibE+ioGnbV1wJ7dbhdXV1fR6/Xi3bt3RZH6/cM2eZ4De3p7sBpZkn+yIPAZbUGgPN8mjPD6OeeGMgDzUTZSJ8SAxKZ3d3fxhz/8obx7mtiWscaAUxbHfBMGoNygGFfZODygfbvdS/E4TDkLijEalmcUGTkn3sYbGoJntOexN+zFgFvRSkybWcPsgbJm+mJ+akwXDSEwZpKylb64uCh4PxMSnIe15X9be+/T7iUV9Ge/38fd3V2pu0QoUDIIFp7LyxFXq1WxcpApKOXj42NZGY6nQhCgoB0H0Z6np6eyCzJQh7fk5DjZRssTW5sDG7osDBnKZJraQpoJEMNCyA76tt2+lJDd39+X3/wsFou4vb2NT58+lbwaygLbR2U9SWbHhza6kGZA2tFoFKvVqtVmvCNbtoNKFotFa0kQimbnAgpiXIHGEe034aBI/G+UZ6Xz2NmQ9WiAJ8OTioJFRPU8T7DhnIUXiGaY6nhjOBzGF198UTbVZLDxhlhNrCWe0Uya4wR3ku9gEB2Eu2CV/tEGEpvz+bz0kbeXEqzTn+zFYUj9XjFqJKlEIVcJSYEQGxq7GsGGLMddHv88BsWi/gBPSehbmc06+n5eAGujykryh4eHuLy8LO+dpgTu9va2vCrL3oO/bfX9Pwlknr3fH/KczCX7d9pDdbsvax/Zqh1SihpKl3eZNWfjXu8hab6CsWRsHK+heDZ6vibPQ88fWMGyAmKJmBR7ukxoeB8GBgi45p1/HW9w/mw2K0lN4IoDc/b7M1tIZ1FGinZJgrqQmDYy+Vgt4g4G01voEVdAgjA+1DOakSRXRiqAwlW2Gfduxg7s6cfT09MrggHBt2J43K1oNfiPgJOYxyP4yLk4lAY47XcqABM/f/5c9s0H1rP7MOOKoCIX3j/TJNXDw0NJ5IM0ILsi2q8z5kBRp9NpqTjCUDlNxNzxN8ucmqYpSXHa43g3Kw5tZbzNRficjA4j4lAZUlM4T7A9krUYUsT0sPM9WGYsOMWkCBTxkeHAfD4viT82+CGOQzBRQGAXA+uXTHivSJTaOy1ZyfjMSuuKB28y5OSza/zwUHi+9+/fF6tMwE8pGsLq5L8tqpea2CgxRsxFzeMxRo6pUW6Knh03mTHm2d6tyrCd33gw6HlKz4CVk8kkFotFEX7yiUBAxr1pmhZFz0FKBgPPnK5Wq6J0vK6YPB4GhRiQEjJT+IQhGG2fgyxyTo0MQZasI8i5FcuMe7fbPewZ4pjMXs3Kxk2ZNBMhPiczXRFRauQc9zGxDAzeEiWczWalGPfm5qYIOsrjyhKgF/HYfn94I6gHwxAGbH93d1cm2kWzXIsCMyn7/b7sIUIbut3Du5pZ4MkLCSFJMAoQN94LshafYqSYdK61t8iQJQfj/txz6vdvO47DMwEbXRXBdg6cy3j5RRUYUq9yp9QJJbBcAe/8DoRer1c8mUMSqH8ofMffIBLLL0aB+A1FZS55NwJjxH0cB3M4XsaZON9piMk5dmIt6OhJ8qTkRvAge7isbHxvawg9TvLYg353d1dcMMqA0ENkDIfDuLu7a+14u9vtitAg5AiBhYd72fU3TXuJPEpDnEWgzapqGDdPNDQxifPRaBQPDw+lMtwvXqSomnFCOJ0z4nBS3XEm4+jqi4xK/NvQxufDxGJUUCjXKyJMQDrOYSyXy2Xc3NyU/CKohJ9O51DY6yUuXM8cwQwjS46BXT/IvIJM+By5BBoaHeCl/FowaH6uB1Yja8irx9HownGtj/yZ01G92skOyJkg06GGhbUjx18cWCWeQYNN6aKEWFm8GLmqzeZlHRnBrPE+3g7FwiPQFn4jpLCKtI12dDqH3YfpOwqJ0BgekyjlGUw+cNP3cTIeQ+GXKZqYMGxkXJ3f4zy3hb4Y5h2bo4hDgThEEEbGAkgf+I3ikubgJ1e0+K1Cfi6xPnPK6mZyYsA4lAUloJyO80yqNc1hy4gC134YbxsqvBlVOpzH+DtP7LEzdGeMPc54VPqYnVfxaLWJ8E/2XhlaZnhpATDUsRWhA1hX08d+FkXGFJXSHgQeqt6WyWwZEwbcxJLaUqIIvP+YyhWXhpnU4be9AgLK36aMmQhv5EqdIApva4pRspDmvBqH4zJDRAsKY5Itc54bYnErL96M/4nNKLA2miCFQdwFOiHeYt4wGHjXXu9l6wfGCYVx3Oxr8OKEHigq+38AW10NgkxA/5t/YP55vsfJjuOYN7POuJ1F3o8pmT2bCRAmlr/tnWiIBSbTpdCr7ljTvOybSGyGtXdBqoUDSID3izhARSYO4oUJgwnMkwTpAGyMeIE2bEPAMyBZJpNJ2UoBJeKe7DUCDY3RcHGsVy1QjMwbZ7JHpF0YjBwnWNHMXNra1qwzc+M4o9PplPjFm6iyncOXX35ZxtIbJV1fXxdkgeJ6eZBXWEQcdnbGc/A3xos5dKIZ+N7pdErMbnmCrIp4gd+ghsvLy1Z9ZMRhdYYVwaRFzYDleMxzAGLiGTZ0rRit5ua4GYIUcdgajfM8SD4MC/AeZsSMn5fLZVFUGDi8Vq/Xi5ubmxZGd3BPDEDxaIY2WFBgCevgCMyZeIqD8YYRh7d68qIPDjyPvWS/3y9KiXBDNbM0hHaawj89PW2RDgi3DybRNL6JC09uTTCsbCZUvCbN9aCOF3e7XRHKz58/lz7RpuFwGN98801rj0Ti581mE7e3t4VgGg6HMZvNWkUAhvYuGiAO9GY9GDPib6dInp+fW/uHnpycFNiPbAD7ac96vW7t6Wn6v4baMMbZKRnJ5bQL9+OzV3k0vFOm8u2+7en824Jg+GEmZr1elw5jjSIOATKrpNmDgwQrk4KwWAit4FZk4A7QB4E3JKXPViLHGwg58IY9JlgZwBIYlBzIeHZ2Ft98800rlvB2DFYUPIDhCrGkqxE8T5xjAeB3jic8fox3p9MpRQFNc3htsUkSGEW8NQrc7/fj66+/jt1uV4SfvhOv8hne+PHxsVTBQGY1zQuzbI/HYc8FkeJdrfAmGE3CiMvLy9jv92XnMXKop6enZYcrQ0bmA2VmPIzOchG2Y2jGks8MG5GdbrcbbXf0w2HW0UFzjf6vER5MOlruFACNYesA4KG3orMVpqMWOjrmGAy4iYKbycMbmzmLOCyhZxIXi0XxpvTNBNB+v2+9ypfqAwqSieuYuA8fPpR3CaCsxGTkqvCyECKOJ21YGHPT/D6yV2OsuUem7em35zLnJPF8nIs3uLm5KXCauk3qTEEnxJcoxm53WMLCuONpWLri2Ay5McwzkmGskI3lclnaTq6Qa0jUO+FNtT33yd7MymJiz8jMsm75dyEE37cS1m8pGRfkxuSg0Z8xQTkuYiKIgVCy1WoV19fXJdGZB5nPCK4RDLNgtu5WdLt1T6hzeByOkyKiJKmtwPzvVb/EY6QjgD+LxaKwi1TGOKYxjMJSux2eA75/ixSxoqFkRgDeg5L5dB6QJD3jAmS8u7uLb7/9trwFBojOvWH9IK74PxvbjC5QHuaVeaK/3liHMWLhqOcYowGMxOCdnZ21EIs9mtFZjoOROdpimGiZp/212Iy2vfJo1lxjWJMaWF2fT4NzDEGnsUJuxOnpaUkY02gEb7FYtJhCoFen02l5qYhoJZJdwoQlzXtXMDhOBkdEKU9y+6GHI6KUlrH3heGBqWavFMCjQU97aQcJcyCKJ9tzkNMt+ah9Zo9mxWE1QkYINq5eJBvxEhN98803cX19XZQII8XY4N09591utyz2BLk0TdPaocoxGO3B+EUcqlqAt46XoP6ZBy8A3e1eqj0mk0mLaKG/HjezgxmOGyX5wDB4vA05TWxFRPTyDWiAFcsTaRfO59wje0Ea4uoJB/zQ4widl0YQvznhTbWAA1tDRoiP/f5QI2k4hJU1ZELRXKaEwkCyIHwIPXQyyWiqXnq9Xnk+jKepdq7ZbDbx/v37MjbADdf+maBiLP0/450hpNlEK5sXZDKmpCNcEWMZ4H9eE5zrT5l3iozpw9nZWblmuVyWF5Z0u93ixdgiznE68A4vRl/wmqxchoRDOcgDMta0gxItM7quDDJKyMjOsb11wOjFXET2cjZcu92u/ZILWworVlY6Ew7ZhUZEyx3bw3GerdR4PC4DiQuGYGDyIDVQDCYKb+GgE5iBINAWhBjlQ3Boj5XOyu6cG9YOgWNRZ7fbLYplFg+BdCkTBsNr30zLO1ayF/Yc2HpaCJgvoxLDGQTCBhFlMcTnPQXUC37+/LnskUKVzHa7LV4d5eM+wD/mFW+OkjEmzCMyQ0zosY44bNZjL2oCYr/fF2+KHMzn86KIEGMQfCTEHe8xnjZcPMdx8TFE4Z/aURQtK0y+wFCRTloxjVUhKqC8LRDGwUzydDotiyKBZpQ2ObeGMHA/L04EdgLN7CX4jngBi+4t85wL4RleP2b4AGN3fX0dy+UyLi4uXgbzh/bTZ2AMbYelgyVzfadRAYJhA2LraziTlc1CQbsZRz5DiVBwvPV2uy2UOGvuWLbEdnxmpM/OzuK7775rERisP/MaO6C/y+xQQpQboV6v16/gey7BYkxQvogoaGUwGMRsNispF7y40zEmaDINz0Esa+NmxfLfeQ7yZ03TtGM0T7gnOGNazuVmNSiTYzUUwi7ejWXhJNYLy8ZrcSMOsaGDb6yjWZ6IA6WNgPE/Csc5hiB4P9ccwr6hfAgHcJOlIWxZB5OF0KB49mrQ3K7Q91g7JuNgjM2QIfAZ6vtwXG04RJsYB1jJ7fZlK76rq6tYLpdxf39firMptaKNGDPm1x4AlAADxxwCnZ3E9/wwJ9wfBWZOKNGKOKAUxubk5CQuLi7KXpEmlQg1GCsKmc3y2iNZQWvOwky2x9ryb+V9xTraGvrGnjT/nWEhB5Y1C4AFioFcr9dlRynocRhJBs2lOLV8BRMFNGAigZ4IGvkV72/B0gszgQhLt/uy+SvnmUCh8pxJnk6nrd2xrq+vC2yi7zCSfoWT4xGUDi/o8c7wxErm8cxzhWL2er0SD0PW2FujfHd3d2U3KphIyuA4Bwjp/Buw3y9oRNBZYcF8s4oaRXRViEkuxo35JjzA2CJPbItBvo8D5cKJIA8u13M7XRuZ9cFhVSbV3jpaHu2Ya+R/B3c5UM8MJMrAZ/xPR3wtg77b7WIymcT79++jaZq4vb2N8/PzsnEmFpKBQPFyx2knAmXLBHGB8CEgTB6MnBnUk5OTsmdjfjE8AmLlo11U8WMUgIvz+TwuLi6iaZry1k9goldZW3Hy/wicBSgfeBPHzU72Mm54Whc429ODIFhvtl6vS1kWhAfzwHu8XexNn1y7mOfOSWPmgzmk7SgxSXeKg8fjcUyn05KMdkG0c2Tc8+HhoayqhkyrITUXLNScT5Y77sE8ZYa9xTrWFClb0UyMOD7LSloLDu2NrIB0bj6fF+u7WCxawkjgzLIYcD6lQqbWgTXG4WYxPRlYXEMh2oqS9fv9UpcYcdjEE2gI/CKG8AptPJhjNJg1Ty4CaUUAumAgcsDuv51qYLIjokDYiANDiLe6v78vhs5engNWELhJKmWzeVkj6H0zMYrMJy83AToy9i6BQ6Z4lg0ga81AIXgixuDdu3dxcXFRvBj7tRCHMZ4QU1b60WhU5DMTZybm7Nl8OFyqOaF8VD2ajxwn2BKZkcz5JCytV83a6/A/A0yNHMsmPn78GKPRqOw/AfzDe0AVYyEZFG/oyedY0ohoTVQmc7iGCTe75zQDXgcPhZC69Ij9Qcj9bbfbuLq6iv1+/+rto8bz+TPiQCfwPS+ecAuKg/hspU3O0E8IC57nmNrjjRI0zUv5FDFqp9Mpr8HabDallpCUjPe7pH98T9td1Y9hwNNTokaMNp1O4927d9E0TXmTDF7QKyqMBpBdl9HZgTD/To1kHUAe8vi/pT+F3rfA1SYzY/9aAO7rLLRWNHc2J7iBdVhvkp1Yo8+fP8dyuWx5QRTHE2kjgBChAL7Ggbepb7A/B9AChTbNzHVUVSCU8/k8zs/PC+uKN4KdpASLtuXAGSvrOlAUPDONxyC/2UHugXJZmAx1zfqCCkxCgCIwiMRo9KNpmri4uCiMIBU+RiQ5X4e3oi/IgouKI6LEU+/fvy8QnooiZAfoiOd1Ah3yYzablTnkWhsg58MYR2TUzLD1w3qR/+b/Vh7NypAxqQ+THL5pfjBegO+dKLaV8bXQwljxXq9XdiDmtTiUNLlyHKEiroJZQsg8kSZW7OloF7S8JwSht5W08JIYJUnLCmusJrWRQEanGfL4O7HMeNi6MlYuxarNFeONsPiHa1GWpmlK3AKhs1gsijFC2Gkbn9MuLxBlxQPF1rxQxFDNJVs2xow3Hpx9X7z3Jdsl+JW8jL1jM3spVlngzczeZkKtBs1rkLAWJmXnQztaK6zNpPhvbpQpeytbdp12sc6eG2LmDvC5l+nb2puxg2ZmPZSDd+6JBXb7rSAoI89BYJh4YhlXEQCHzU6en58XGIulPz8/L4LR7XZLktqW2vCNGMPBdU7c2qOZZPK8eAxoH14VA8NnrhiJOKwVxPID6TudTnnVLV4aIcSwWYZI3htWMt4R7R2tzBzi6YihXC/KXKGoKD9KxPU2qPSN3Ymn02nxhigabfZvG0CcSjZklnnGG5mtyXfPiuXByprMedw0szU8kMZxTvaOjnFMySPkCI3zVbTt+fm5VMpHvLydhrd38h3CjmXjvky2Y8xMfuDN7E0RLmILYgAmkHOYVCaJd3h9+PChKCWeFULC2x+sVqtWVbuhi9vsA8ttWIMnsDW3B0SwGVevTgb+wcIyHlxLnAZxdHl5WZhKxhihXCwWpYDaqRgOExaQSt5/hTbXalf5jhCDcTPLyrsOQBNs6sOz814kwEeP17HDildLdnt+igGMaMdithZ8ZiWL+HFmMd/T12QcSzmPC4PdQJTDuJ2X/rmoFWiAwGKx8DSOv1hmj9W3NfWkM0n2MLyL20QFz2fg9/t9EeA//vGPBZ6x1RxejzgDBi2v/vUY15gtW88MKXNMRhs2m01JPFtoYeXojysnIqLlWbrdbmFgGUOUHQ/YNE0pKCZeZo7Jg6FAHMjd7e1t8VJGGMyf913h+RgBk0enp6dlX82cKnCMbcXKcNxKhTybkax9l/Uj4gdFM25ngPORJz4rjB9uK2vCwbkJkxWGZ8bPBN4MZKfTKdXuTjZaiLBaPJ/JQ2kgKwy9DHMRNBTLE8MPpV5YciYfqAV1DBxk0nmTKDmrTF/7xxCQSfR4G27nOUHJTEBkqEgqAgFnHlAUktmkMwyzdrtd/OQnPyk5M1fhGAlQeWElrr1aq9Npb4ZkyI1BQr4ckztJvt2+LEfCIDN+k8mk1FgyVt5qDsVijC2jjGuNfMpEIYbPxKIVrrwfzXRuLbg2HPRNDCO53v+T+7BCGiq6vMedgTSgLbZmpp9h54AcDtZ5pkuNaK+VAYWkXyiC4a89g42Sxw+K28s8gLpMLO3x+wBqwbgpbce1jsdqaMLj5WQ0OUdbcDOTKJrHgPYgmJ1Op1XLOJvNCtEB6qAN7BlCbIrRYmkU11Ao4K0UkDGgLX+bHLLy+wUbvd7Lbtez2aygD5MjGHHSEIxJngPGB6XJ3iuPN2PoHLEVs5eZKQd4TEKOzzKUtPJYSd1g7mnrgWAivN5ODKtFG1iz5g1zGADXLnK94QzPI3FKO1BYB+oR0SpN8mY1DKCVEwva6Rz2L9nvXyr7N5tNiWcYC16EwUprls7g1Wi3UyO2mhyeizzWNaPAmGGEMASMAUYlkxN4pOxFWet1f39fVjebKDKa2e/3ZfU1y6LcDxvVjKqsHBZ+e2ufx5jN5/PWsht/73SPHUqtKMAy5Lg5j3+eG89JxA+VIaaa7X1yXOD8xzFI4yOzUzX42ev1SgLXLzgA7lDRQdsioiyhYVIYNA8Az9xut2VXYZSTciK7eeI47mULh1ISQJvQ8XbTCDSTYXLm7u4ulstlscj09enpqWx7TjyJF8k1gHkicyyQKXzHbBGvk7HQ5F5lAOPLEh9DaAwEW7h1Oof3RjNHXhXAPDo2s1HG69F2oDkQzMaQee52u2XxKTKx2+0KTDVasSwzbsR8mYhjrn1kQ+128Z2VkiMrZsQPHs3sni/KGltjvuw6rXw02rFQDt5RCr/MD2uLB2L/QAYGK4VAU2vIJDDZdJbVvAyuax0RBguwBSPiUOVhC+/XD5Fm6HQ6pVCYOkBKgvCkDw8PRahPT0+LoJmttPW2scljni2qKWkm2yQPc4Cy8f42x7/d7ksBtWM6ewTaSd+vrq7KagUYWM4x6sDwOWFNW4D8Rkqka1AmFB45cA7McmniA4SEAqJ4IBqHFhGHtxcxvlm2Ua4aN5EPh0iMXc94uGYFnKc4FghaUPEYNeVj8umA2UXq4rCIMFPci2deXV21clKnp6eFBST7zwDjjQyPmUSspAkTmDHDMPrBuDw/v7xkDzhJHDocDuPz58+lIsGT0+12C1SMiFJChGB6awBXzLAtnfvPXDHWntQazMkKieKgCN1ut4zxarWKy8vLWK/XhURgdTSbot7e3sb9/X1cXFyU5Px0Oo37+/uWMNIfjBnzyTMxpBAu9A9Zo3bSrHI2MCZGeE8Db/Okv8gJRchGKowTcPqYkvFcy28+aIvv/Qo6MiEIvj2XPzOr4h8rGp7Rmp0DeD/Pz/LiQvbXMBTydQ8PD+UVQVZWdqHFGttDZfjS7XZLsSt9Q+jJzdi7YgldVUGqwNYeC41XID/klANxmKEn/bDFx0jUDu5vgWCcPP4QDbx2lm3bQBB+DvCXFdUoEaQKLxu0Z8+wE7LBMRcGFCOHQjVN04LRvBEUA5jhsfN1yMJ8Po/5fB7j8bjIE/B2Op2We2FQs4Og/yhKllmPd5b57FWR0Qzvy76OTvDm2Mw3ZPJyY/NkW9AQek8Kz+FzOorg552wGAQH5wwS1g6YiRDgWVAABiQzkggb7ev3+0W46A+W2YE7SoNyAHegmfGApCSwuMPhMKbTafHAKAKvNiIWpF15Phw/0xfHpB5jl1d1Ood3g0FkGLJDrzulgtL5dVuQVhBZzCXjYFIFT+atG2yUTCrhBTGQu92uUPecRz8xkuPxuPWyQmh/0A7X2KjbaBu2O+bKHAQ6YAXM3o9zcojV6agEy3jTN8qK5nP9IDxCzcI6eGQCgGiOIZgkrA8TRmO5Fg9hxgnB8/ZnCI9rGx3w5hwK/eFNlTnAN9ykf/ZGToh7I1HDclIaCJALX721QTZ8GW04hcIzMpowhIPgwGCsVqvyshDQgwkizy1bAtoroHgYK0gLoDNttgGgvfa6ngvHwR5j+owXPjk5aSkYKyRAGSirK0A8VhxGDTU4iEyYRfT/HNnLWZ6Zvx4NMIGRXWON8fKDrZj+qR0eeCbO3g8BI7ClXAn4hrKxBgkrzKTaApIScNu63W6pIGEXK6wgnifjbMbAgTztBpKRxEZoEDquxUA4IAdSsYsTydmsUPSd+fCYeV7oI8+3YGGoIg75S+JYv/iePjoNYMLIubCnp6c4Ozsr5A/Qm1gT7w8UJAdaCILeYUuGDHtNwhAbTafTmM1mhaElHsMQ+jq+c8xbg4K5rpFzLdc838pqXsNy7fswX02j6n2TAvkwHuZiPzhf5w4xYfZ6NMY5EiYGqzoYDEqxbtM0BY45zvKCRIJ6Pxcvw7J7rDqWjMHK+4rQNq8DA46YHQSGkbPabDatl5Mz6Xhwxs30MttomwwAGmNImAMEKSuRhZWxdVxNH2gjAuKVAfv9y5tJr66uCjRkbg2pjB7m83np8+fPn8u4OIUAa4sxo0ABWTCDSFv5Pm/EMxwO4+zsrJXWYSey7XZbYDiIB2W2HPtwUv6YkuVwqebRPN+gJ/MATdO8QEfnKEy9M2mZgfFkGlI5PuNcw4XMGOXg2fQ8ge92uy2V5BTq0ileUZs9EG035ILZIuZwDOM8EzWK9irAO+/9gSDSfsaRz9+9e9eCtkCj4XBYEtVOsCI8zAH7k6Dw5+fnLWPFhCL4nOvxzUJDPw2f2Qr97u6uVKvYCHhjVN6DABPpVAzbGDjhbeGmBpWXFToW82oNjInHlFQIbWNXr06n01IolDN7t9wWe33Ldw3RoXyG4mbLOT8TKDZIET+wjiRGc0zFkYkP08pmYvgxU8Y9oaqtgLZouWF4LAYTgeelC1xPfGDFZ6CdhHbQm/uEojqWYwCdOLYgcw8qOYirMA5Ybhfp9nqHFx2iHAgQBbDkuJh4vEGOpR1vAvc8yY7dDBs5j3GiD3d3d2XDHL73sz2npDYgboiLWOWQ5xODYHYSBYa5RPBRwG63G5PJpOw0TBuArIbjKJdrJB1PWiE83/bm/GZe+W2ZzHJjJc1ECj8lF2rcmckOf+aHGJrYe9l6+FzHZSiNLYCVLeKQM3GFORuxjMfjViErRb7unO9DjAFMyB6W9qDI7juQhK2o8xgx0SRIyemRM3PaAOGBpXQuD4H2ZqJm0bD8XveVFQpBNGnC7zyXtB1mFujsV09xb9rtAmRiO2JSjFgtb8mzMow1bGXsgHwomOGuPbjHhf5CriEr9nR8D/qyR7c3y7DQssDnln8rXE3xaGdEtPd1NFtnITFb6Akzrs0NdKP4IVDOsNKuHUvFIKFUttYke0kUX11dlbwPXsuTiMejreS26DP94jqEjDbjESA4HFuyT8Z+vy+x1mQyKQyZ4Tj9tpdrmqZVTpRf4cs5hn0YFk8kY2gIjUe3xQVi4l1h7CKiRdU7reD6QBRnNpsVAoWFnkBAy0GeY8YBD+6YipgsIgq8x8vhLW3czVLv9y9sKikU5+zMcpth9Ph4/n1k0unYOTWdaJE7xvIWTv+YxTLjhaXOD8mNcsdqVekIDAJkeGOP43ZQ4fHu3bsYDoexXC5LLoqlGDwvu3sIEYSO7xEW53GATmzwipewMeDeZhDxGPSPeKfXe3nBIoJOX5+enuLdu3dFyVjq4RIpxwIohOGN55JzUB7ahCeB3GEDIebC5A8Cw/mMAV7m4uKikBHIAuNGTEx//G5qV8IQPjBXwD17a+bdis+4MXZmJU3p+3wbKRMvVj57/xrC45wafKwpX4nR8s38f34wh6Hmn6Ldxq4sgLRAIAB8b7gB/vf+H91ut8A1B9O93ss7yVw0/PDwUF2TZZxvWEKMFXFYt+Scn+M1VkKzXB9BJPaCMKDCxVvNsaU4+1jwHXEL4+Y6QMbXimBPkSfe8+Dgn+vwLB8/foxPnz6VvuENIg7EBJ4F78qOXuQtSYKbDGmapqx+2O1e1uZ5SzvGKRMujCtzypyPRqNClHGP29vb8rrj2WzWqv6gn07hcDgmz8pjWc+Hx9awPY955ht6Ee03H3ICA2bI45vawqJ8DshrOJb7cm/DGZQHC8XEomy+1/Pz4bWpu92uVZzLtUwEMRG/UW7TyFbMk5OTYn3xEA8PDy3ogUf1fu94306nE4vFIi4uLkq+abValUWfwNj7+/u4ubmJp6en8jzGDyuL58/kj/tHGx3nIgDeLwXBMuGDwF5cXMQ/+Af/IL799ttX0HS/35eKFcMyah+zYNEHcnIsAeKZjl0hRvLqDacVIqKU1TFvTuVQZUO86ZQAhoJ0io1TXr5krsGy7nG2Aud4zL+tdAX5+GIHrf7JGm2B5bq3rIDPJ+j3vhh0sN/vF7IDZitb5uzF8IIwmxHRGlBv3IOS57iQ1c9Wentq4iaEF1jIfYjNIE7I21FhMp/PI+JQTbFcLuPm5qZ4b8gaFIxCWDNruU2mnE14mARhDIHIEYet16gEYT/Kjx8/xmKxKG1BYR2nE186djZFz7OIvezN7IntkTCOCGXNG/NDQQFvDoU0AaKbGMnhB/AQz+Z8V4aNlskapLTsW75z6IVMR+hl8R4MbphvUnsAluYYTVq7DzSyiREEZDgctiotjJ9NlvBsB7QIhXN6CCXChgCB4/Fku92uJfARhw1kEBggJxMYcXiBvD06lDQsHoaDtVxXV1etRO79/X2cnZ21yIga+2UkwPOseDaOjFuv12t5CsYfYWM5T7/fLxCSeXFFCPNH/DgYHF4pjPf32EVE2XqbI5NaEe1lToylD+LBpmlKwhsGGk/mPhNrE6NxT/fFb9apIbV85Pisht7y+WY2I6RonOAgzp1mUrPyWPPzd26EFcEkS85TwOQxyF6m7nNoEwoAbIJRxDNwb8NULDFKS4UJwukAGsEktsj9M3z0wtDb29tYLpcxGAzKkg+/8dNKYYYPEsQejP7x/zHjY9hFn2mPUxy9Xq/EjcwN3pUjb7NOO1A2NlT1+XgnjBklbjkXaDiXWWjau1wui7ASO7O2jJgWJSJtZBKENnkrcsbasRkynKHhW4eNWtYTE1U+eqaH8Wj5Jqb1M661N+IzW5djh5Use1EC38lkUmIvwyrgCecDQ8HteKz9ft86H6vGJLNZjHc5dpGvobHzWkAk+s6kA195i8xgMIibm5tYLBbF+rPI1eNKO6bTafEKVMfj/U1QGL5YePnf8wIMRbi8lR4sKNUwvEOc9XykLna7XYzH4yLMtJt99TFMKLGT4RhViA3T3r7Xer0ubwCNOGwzZy+K4tjjgji89R/XTafTEgdyODebvVomBCNe54OtRPl6jhzq9Hq9F4/mWkPjfYSWScNS5QfU4jjDUayOXbPxvbG0GUSYuE+fPpVgmXjg6ekpvv3225IHctu5HibQVLXbxQHEM/Hie1LJgKd1ZQTvs+Z5eNimacqaOQQCY0DMx2pgPgcuk1fa7w+VJ3hixjwTIhYGV6RzHrtZMYadzmGPE5hdk2KbzaaQNb3ey27RJJGB56QzvDjXrKq9LcqIovFSwhwzOwUB9ONl78jobrcrVfxAdEgQfubzeQtC51g4x14ZHubjGGKrKRznJVKmXWeIRhpG5oCaczKZkRvoAbRAZKFHEazwwAqsOsIMnPAyfMM/r0eD7YpoGwNbJFPW3A/Psd1uy74fTBRQEiIBAWKy9/t9eS6rB7x1NYILHW0vA0TNeSImzXORGUbHb/zvvCNzgTFjWzmgFfALJYs47HdvxcATcj7GzALNs5hjYiIXSGe0gFflM4wDb6vhYFu6s7OzFiy1d2S7C8YK72olq8lrLZRBtv1/VjA+zwjNvEWPCbVHyBNMx2sP44H85rpsebOCYUlRKp6NsDIw+/2+Vd2OEOS6Rc7vdrtlz0VyPcQYTIaXy+PJDHWw0DlgR7kRTNpsMoWJpjSs3+8XwUTIeB5Q04zm2dlZiyVFufCs2QJ7Lszk4fkRaNeD8nzaxPN5f0D2lCgRkJPYmddqeT7pc0S00AFtpT94N48dhoAiYhTMYQje1CkN+kyKyDEhcwTSqEFGy7W9Vo1hzN+7wigrmue7h0cw3Kod9gI1RavBTb6reTbn0yApeI4hJYPMJphAMltew1ugMF6C+IRnMkE83/Hkfr8vUCgiitI6wEWZCawRwM1mU5LUDH62hlh/BIVaQQTFZINL4Lg/feOeGTJl4aDPVrqco2L8ONgfhOebueU+lgeQh2N6wyzLlcvjmBMMCnEWipL7wdiZrWbekB0U1JAND0uaIce2dgQ2rpZry7yVF2MKOeRnuCpoMBi8KBoWlIZZKzP2zIeJE65nAnzknEzTHF7gnoURy8bEsj6q03nZeXY+nxcI48WaCAMCwiQD8eiLcztYXYRyv98XMiAiijdyBTlYn3b3+/1SUDybzQrr6MCfdXWMTTZWEEAomWsWDQdJ7nqsDdPynhou9uV+Jhks9EBDKPkMoxBehwAs92FuDbvNBDsdwdzv9/vCIGLw8fJGBDmU8Vzc3d3Fu3fvymZCKBl9A+m4MsZja9m0gnmsMpQEllLqZ8W10YGU63a7L++wNgFS02rfyBPshtiiHvOKxuWwfsbSTAYK4to4Jo+XzgE/EExYvexBXR3BYW/k6hO8DMKBQhBz5do4Jv3du3clXiDWQnGc2yGXhgVHsPr9fnkXnGMnxhyvBJzCABmO03fiIXJbtbInDABxLYr69PRUNjrlObyCiXHNuSq8rXf+YkwxfFZKiKB37969go94KwwrTC6kiA/ga7/fL7sSm1BhXAwZrUTZWDGG2QCayeXexKQ1pBQRLc/N0cMD0EnYMdO0dMAKhGCZ6Ys40MxYFHs2d5KJoPaRg+LViEPCGAuFArELMM9j62dW+UZEWf5hyGUhRMhN+buSAQaRWjwTJhFRXgNE38nz2CiwcSuCQTtymRfsKmzaxcVFqeXEK0AM1fJOGB0OSBViVecUveTHAvj8/Bw3NzfFE9EPv7E0IsrCTdcgcn/m2+gG2aJECrjLnMJ4giQgRNhYh7lA8bys5/379/Hhw4fSHgwfc+vYkvajFLSTmDEroOUdw4wB7Ha7rfIzeA4XT/Bs7ttzXIPQIgQ8xHkiey4rDMKKRcOq2/obvjlIx0pEHGr3mFy20HbVt5+JAne73bi4uCj5IF5S6MGmr3gengG0YBIQAK+o9nIdKh5QWgQXrJ5hFG9vQXA5ELJerxfn5+eFyUMgTZr4GkM3x7Ymteg7c4UXzDASIQKG018MjOdjv9+X/l1cXMTDw0MxepYh/sZ7gQocGzt36QoTFNCw2KEE3vn9+/dxfn7eUnjn2FAuz6u9uQ8bh8wl8D3twjjmtETmJKxsBTryRkUaakExS2Z2zgrjBmG9qApAmHNAabcKJjdrhpXA0wJx6DAvI0TAESrWN5EWYPtot7fbPVTsY2FhIHm+q/RpAxOBcvT7/WLhO51OKQlaLBYtImO325XKc4wFNZPexcn5POCJIR/kDIJInw17XFSbYTRQ0rEx9Dt7sjCerFWjJtKkgb3oeDwugoqB8BZ3QFKIH5MJtNmeC5TkfjF/KNPZ2VmJ04mfjbBc+YHsZU/G/a1gmfgw+44hIHbkWmQJPcgQlTizRwWABT2THtyEyXVy2zfnOwbcbF5WtGwxeN0R/0ccqjDYa4I8Dy+64JyIKASFiQ0EwbsWG3IZmiEwEYeX2DmQdz8dn2C1x+NxeZ0uCuVVv+4rQjkej+Pi4qIFZ5lgW0W8r4XBltfQzjEu0Bgrj5HwXpMUP2OknE5AYWezWVFQ2uMxcvDPvFiGzHRyT9PhzIGNB9eZfZ3P53F2dhZnZ2dF9ljhjgG2EjAX9mqZ3EOR/NysYIwrcah1wOPPM4w2mPceWBgPkic7a6dZQp+fLchoNIq7u7sWdepGWGBgAhGQTLdC6/rl4FhUU+i0LQ8uE0abuZ/xuUt+ZrNZa6NQCwGVHCgK37Hqe7Valf9ZKsJzbU1Ho1FZpMjYU8WSCSX/zbyYWcVz2kvh2Yk1gV0uR3p+fo7vv/8+Pn361BpDYibmiXaiSI6PUSwrFAclXkBH7ofMEHvxN54eb49BA1qz9KgIb+/wNh/Lgj2hvY1zn7TXCpXZTT6jfTacQHruz4EhsuL+gPQOZEP2ZJ7cnDT04JrliXhRSPIxfJ8tO+fT6E7nZecnqrP9PR6DN33ScYQU0oL4xUnEnJNqmkMlN8wa8I/z/LINDAeelI07WeRoJhViAyH73e9+V/YhZJI7nU7Z0x6hNjx0UXGOtUwyMQ8IEfk9oBrjMJvNyitwEQLvHEa/KRPb7XaFiGGMGH+TUcA5r2CHsMDL0DbH97Qdo2rl4l7+Dq+Pgj09PbW2KiDc8TwjbzC8OS411LaHM2RFLg1ZneSvpV84fE90pucktTE6JxnPWmFoJJYOIbJlHY/HpXTHjUJxHT/QUSykLSAExNnZWTw8PMT19XWs1+sy4CYN8HYoIMJ/d3dXnsH3y+XylfWEsTPJwDP8IgUUAuKHuJIxuLy8jIhosWhUfuBtvGARA7XbHTZ+zXkrw0PYRHuIiChsIeNGu29ubso9UTLmwK85ctVGt9stRNh+vy8vIfnuu+9arycGDTCG2+1LqRl9ywnyiCgvKsk7IDPmnU4nPn78GOfn5zEYDEq/vNcIsmv2m+dAhpmUsBJ5jLL3ysQdPEaO8Wv38n189PxaG47aRcA7W2B7Oj5zwtIrn63h7rgHgk44nkAAO52XZPXFxUVst9uSEDaJYZoWFhPhpC14Tu7p/qKYWC7awq64Tqxyb4SCSXx4eIjb29uW1+d7aP1OpxPn5+dlr0bgoA0Wq8gda0REK44FZtrTGQ4z7iaoEGyewbWUX9EPrxlk/Lrdbsmr3d7exmazibOzs7L0ByHP4wHEgkn1nLlYGEWfTqdlLxgIHAqt4RO8mppxMvHB/DqnlUkWw0LHZdYF4ncTbr62pi814q9nj5I9Wc2jGdfaIuTPERTeEONyKTfAbpZnU/nt3BDek7eDYOVub29LjZ0PxzpmwPyuNZQJhTVLijBildk7BCIBZjLHqIvFopRtIRBYdYQVCwzE47neadnz4aSv58ekRcSL8nnLBrwW94KpZSEq96FfCCcs72azKfto8jljOZ/PS8Ib2Hh7e1sgN0bNQg3ssxeij6xyh0LHIDoWv7i4KKkgjCDQHNjJfJqkseBnJQGxeFwjDugOA2vG0gjK1xjKvyKD7GnyDw21sGcvUMPeJkbA61aGfE8HmDzX0MMHVq3X68VyuSwTSmCNgDkQxkOR82GCc1Ld9XdcZw/N9gMRhwQ3Vr9pXl6Uh1EB2sxmsxZxAttnJWua12+1MaT3CmaqMGws8Fr2whiBvA9HjsVdbuU3eU4mk9jtdoX2J241VH9+fi5jSi4ONpK5BgHYeKGg4/E4zs/Pyzgyj6vVqng/xnE6nZZwArkjLcVck27xUivXZ9aYRROBNgrEhxRNZ2+NjGSW1HJt6NrLSmXl4mTnc0yRoxxMQFY243x7taxstgB251hTCweeiYFljRQwCWF0UE/VAzk1Jt/emDZ71bArAJbLZZk4hMLtdpIc74H151n7/b4VT6D0jqvyRj30DSW+vb2N09PTuLy8LF6eXaC8AxfXknznh9SLYeVutysCCwlhxheD1+12WxX6TjsYVnrVAOOLPJAzharHA/A2VH5oP97PG/TQx/Pz81bOkwW0jq1gCr23J/LFs5BhG3xqJzOq8vVGE3YuKBdjvtlsXhQts4aOeexWgTCGLVbK7KZdT8guUAgyA5kTiM69GfrYkrpqBUjGtSwKRcGAUigfyg6ZQOBvcsblR1hbcmYoEnCJHB2WHA9BegMShi3ViPMiDoQPsNVb6PHussFgUJSMusVvvvmmTDiEEEaBdA2C5GS9S65yeoPxR+hQIgwFmxednJyUvTNhFB1Tomi3t7flniTlIZMwTJ8+fSrfX1xctOJ/2g/0tndfr9eFVMq1mpmRjTjkB92vbrdbYKzDiH6/X0Ie6wQw0eESz89OAma3lUfzJjFoaA4WeYjZyQwrc0xn1gYYw7oyqGhDUc7nQOgfHh4KlQ6Mo1QM6whzxndc9/T0VKANsMm4nQkxk4qiO0BHWP3KXowEHoZ3P7Mv4c3NTRGiiCgpCCabzW3oJx4MAbYFt9AAafLyncfHx+j3+4Xxw5MRU3Jfs6mwhcwv8DOv27LxAVaS+iDmM3Pb7Xbj/Py8KAvtZGGuZQolxNicnp4Wls+wDqjeNE28f/8+zs7OWuhkuVy2DIcRGJ4Lb8VzMGogCebBqwPocy3Eqsm54b9lrOdVrdvttlgo51n4PgsnjeBhGe86YYzFRgkc+Jt1NGTwc72pKAM/Go2KsPoZDDilVbwlhUHmfKwPA2YCBe/ClnGcS6WFLSXjgZd0dQTwhbfIREQxAHiE8/Pzci/XPyK8wGWUcrvdFs/FecybYzvaSJ0gQkA/YPQwYhjC2tx5vnguaQ6W92BQiIkgqrgmryNz/MvfTi8QbhCfDQaDshux41GUl7FHnvK2c/AFKE7TNAUe0m/HdDk2s7Lxv4koKxljyLj3rNUeWDcGHJvpURTS8NMNcf4Mr0Ln2QoA4UHQaTwCCmzAgjBJTDDX0SGsFosAvRgPZQA+8Dltx9jYgnMuW+CZCscrYFldSUIs5CAewobKevB7t9stS/MdLzpmQJmoGSSeot1mTPmM9rNjlY0gc4vHdbIYFtLGiGS0yQxbcQw2JV0Y3kxE0E7uxXlO5WBsMHisQaRckDHZ71+2i8BYQDRZDlkrSDqAPvLbMTrK7TQPKMFFEMyLGV0rVla0zWbzwjpmYsLwEahH8GtL5EAQmGRShQeijAgxMBI2EmuAsHJv56sME91mAmU6ZsvCQJyfnxcqmOT1er0uG4bm/AsJWiCCc0B4ptFoVMgar15G2C4uLorVRyiwtjCIEVFICFY1Z2bXfaWtjI+X5CD0tJe5dIxh9EFS3DEby2qA9gir1/RBpXucraw2tBFRktzIgMkFk0LEsIwxQj6bzeL9+/fFuLmaZLlcFqW2MfUPinN2dlb224Rcs8LQRwgVDAfbjHv9n2Uc4+H4zWxjScpjRVzhwaAw2XabhjBWIFtfrs1JPjyV4QREA886PT0t9YIElew2xblASSrFvaegLQnt4W0nZqgiIr744ouW1c7lXZAReDT6stu97DuIkK3X61IBwxZnCBnehPgEQQESIliQH0BCL6S0USEu9CoLWDWQhWEVsI95Q0C73W4hcLDabH1O/AdjZyaSexqycnS7h9UFXuRppGBPixJwDjKGMs7n8/j5z38e4/G4KCnxKDt0OcTBiNUUDtkzycYPqI40itHRcrmM6XTaCmmQGcu9YSYyAoze7XbRY1KodXP8ZTbSENPUvm/swN2TzzXr9bpsv4bF4p1nTOZ2u43JZFIgHrkaoA97HwK7coLWQaq9FZ+7po6EqA0DAs7AOeA288mgYyQ6nU4hRVyraTIGb4BnoJ3O/SAM7Ndv9NDrHQqraa8hDEQC9zV7u1qtSq2o+2ihwiPyXmqIFBTBu145TsEgmSQgVvb6MG9LwfXEn4wvIcFPfvKTknv0QtHn5+ey0zOKYuUxCYHSUj4FQYbcWvGA8A6hGNeHh4fWOkKThMiPUz6EBsDICL22CaHxxKKEEVFiA7wUimQ2j0G36+QAruRl9XQSxXbOjJiFyUHQsLpUkGCxyKmhDHSYDXNQboQLq12sTu/wTjMGFAFwwTKeDxTQ6/Xi7OysVIAAbdzXTudlvRpr1SIOC0IxPLTl9va2KKX3J6RfxDQoR445MSROCTDGeAWgOGMJHY8iI9CUuqEw7969i4uLiwLXTXNjlPyCQsdxlgdvwEMsPp1O4+PHj2Wt2W63K9s3oKw3NzetbdxRCMeMyA6GG0aW/12+5RDJY+mcHRDdsbaRkI15jr+Boj0TFSib4wTDl2wtrIj2DDTcHgZrZiobS4mwOYFo6+gSm/v7+9bk2irSD1P9WB6EhbiQ7zO7itGxotkIMEG0ARoe6+VEJeMDxCWedAUL0IxnM0H0n0n2hkKGhBw5zkbAYDdNWhl5YEiYD2AxgrXdbgss7nZf3iNuo4zckC90DMp8e0V7Hl/m7/z8vNQ38h0rJZAntlXPXowxM0wkJYNj8B4t9/f3JfRwiARkdsxlFjUjOPprFGh5Mgzt+QQLFtbHCuaJpiHFNYpWptPc152gY3gX39/CiQsmHuO73e5lhymCVAYaJc2EAfEbSkkw7EExPGGg3ScGEibRL9UjzmBjGxQuV6Wfnp626v/wYoZwXvxqeMJYEo9CUdtDYHkdXxq+GPYDkZm7wWAQ8/k8BoNBUSpeazSdTgvxg8dCAB1vOS6EzczQ2nAT9pYKDPrEuLMlPHEpqIa4jD5lxhkl87IhrykkXiSH6HnP5B2K6CLo7XZbtj40AUc/T09PW/W3hRfAetoyOqaxi3asRcyAhTLLaNjY6bzkzVjzxWcOkrOXZKCAaGYQGci7u7sSJLsPTNjt7W1raQxKAzlRU1KUHg9lKw+MGY/HJa1AUA5MxNuahYXwwANgQKCMTStDAjA2QFOMA8JmttbzYmhJfNzr9Ure0t7ZDCqeAo9L37mu13vZtQrSh/FzDpL/HSObfUahqbaBWfS8I9zj8Tjm83lJqaAYJnUyu4xyANecD7P3n0wmZY5IB/C32VHaSJxICiGnHyjQtkE5OTkpqxs4erbYNNSeib9pNEG8oQNCyuccQCQsgl04lpFBInbiHn4rCbgX4YRuXS6XJUdilz0YDMpraq+uriLiAMsgWQh+EW6Ui345piOZ68Lgx8fHuLq6asU0xvXD4bDs8ei2OTeD91kul0U5KfkyEcWYoDwoAysR7DkRHOIeiAcTLDaOxEbko0j+0mezipPJpMSZyAZeAg+SjSLLWjCAGIgCqWQA5/N5+WEsbWhZyOm4D89mqEfhAG1Aia+vr1uhht/sQ59BBRQVsHU7sazTJ7QR5XOaCkNewgMrCEIBa0Zgj2ehaJUJBSJwcD0H3sxv06QB4GS7ZCy/k8wWslKgqbSA965gomn7+fl5DIfDuLy8LEE9EDUvkHTwTJKXfBk0N8/CshMvMCYMKpupohiGw0wyb2LBqgLnIIMwLiZRPn36FBER7969i7u7u/j++++L0VmtVjGbzYrF5j1zEVF2dqbfCBawrGmaUtLGfixOiAO/B4NBzGaz+OKLL4oHtxc10WBvhiDSL+6JAo5Go5jP5+U1w0YAzNdyuWyFMM5d5nycY1cbg+fn5/j2229Lm5kXFvM6V8a8Mc/URWIUe732Ll/0E+N5enoai8WiyEbPDbKXgXYGApAbYfBRLMgMs14IHfRwxKEUiEHiwHMg9LYMhndYHxafWmmXy2VZlwTcQqAGg0FhBO/u7kocZWYopzSALxQAG1oDFVAQQ1eXf/GyDYwAXozJcB6Ht5xCBBiCgwgwPsvlMr766quWR6INZvnYRoLVB1DcsKrMq4Xt6uqqjDv3Id9mj9k0L/WGP/vZzwoSQYkfHh5KztBxP8+jjxgyXijIpjsQQMiKIaxjMx/ITa42soyioIy90RPe0OVYDp+cSgK9NM1L6ReMNh4WA0FFC9617OtoForO0DAeiBdBKd0oIJShpt86wrWmqX0gdN5mmUHnrZRYB4QGwd7tdnFzcxPn5+cxGo1antVBLVXfYG4gIJCWGALhtdUj0KZ/eAQCasND4CmeyhaX+2XihYpxjIdTDDwDY8U+GaAEPvOqBgSCewOp8E7UcqKI+/0+JpNJEVbmNbcFoQa2np2dlfY4zjWDDWTe7w9v78EbzGazODs7K5vRmrShD5A6ZhqRSRAGYYG/syLyYyXEuHqFOHPAd77WBBeK6hXrOCPmfTwel9xdzzeykpnRMjHixGJmlhBqW26SqNwTIoAGmwHDcnBgmZlUFMhLE5i8/X7fek+ZvXOn0ykV4nhn8jN4G5TGSsFhsocJR2Bppy2fJxMGzV7WqQ2UiIQ2fbLAcj5QkHbzPfNhROHKEIibiMO74CBggGAUZ2PEsPyMGcbE8ApDQXkUKCMiyvZ9RjAmDFzD6O28bSBpl70Z3yOzjsmsoDzHv7Py+FkOA0BGyALXINeMN1wCyg2qwLs3TROnp6cviMA5Gyfs3LBskXH7fG4vtVqtyg+W1N7Ik4QXdIchJ8jNLBaLopwMkGvqfB1YnhcGch/OA6ZgMGgHgoVgolg2QgiKBZ/PXdWBNUPhicksoB5TSpUshHxnJEE/8eROoTAmrkJHmJumabGvxIewbCgTXgMoz30wEhBECBUKDOOG4XC/3T7GGtLE2zqYfWW8zZZaHkEZKJhpdFAWMmSnYdKDOUTu+BzuAJiI9/W8gVwwMiYQaRfKxjwMBoOXEqx8I3eKm9lzMUhYFCYBTYb8cOWDO+WJZCAWi0XJp8D+LBaLVr7Cg0S78BRMDmvGiD8IVvFcHz58KBvKQBnnBDZt98SjULTFHo88H7WNCJyVGQXmeowPFRZYSDC/Kz/oL7EppWMoF/NnYgaBtEA4BdPr9UpuzHFtYckUk0UcKkpyyGDhzR7E6QQnyol9vajWy7V6vV5hNpFF2gVEtJczKgIdoCB4blf220C7XI4fvBTKlgsfIg6xHd7PDCMGDNlqmubltU0MAFqPYHFgSYEvVKQzif1+v+W56DxMUfYafh4CH/HCjkEv26ojPFyDUlhwTLBQdhVxeIMJcAtmirYgxI5HzGYxsAgNpWDEnRgTlBOLbY9IWgLIi6CStwIdYFGBkeTrTFABTWFYvWLCb8LB6LEWz2vhTHQ4V8ebZBBEVsWTKKcNVl4IMu/7YcPC/GG4YWQNf60oJjaYF9rrrQDxFJ47DIKLLggbWDLF/HiFhvkJ+os3dXGCQyicBMQNBsPG2Qaix+QbIyN8CBaCzyC5ZKfb7RbogZIh7Ggz9/SDDVkMUfnN+bTNkMKTB4RzwP78/NwiFzif9mCBnHhGGfBWKIPvy6TCWpK6QAhcPuU6SBsvlDvHJhS7OnFN7IjQ7Ha7mE6nBapQdIw3cqCOVWblA23BYgNvGGs8Pr8t3PQRz0vgD5JB6IyMuEcmcIjt7a05H/mzsTKC8aasjrN4fiarcnhAuRzj6RAEecODmUXEoCH3dgDOv1oBHdPt9/uXGI3DBAhCzIneNMbxEteYoDC0cmxmtwq7hWXlmQyMlTPisP+fk8ImPqjCODk5acEv4++ckDb2N1vkOInvsYZ47tvb29ZKavrPpCG8pD6ImaiPhHQw1IM9A6oYYXDv8Xgc19fXLRrZc2h45PgUD8H3EYeXeTA2eIsiHD+Mk5lClAxZQHEMsczCMS++D0bDBt7zwHgguBguK1bOX7qCx4rjGCuHApno4BzajndkfHMIQ9tBGrDmGBE+W6/XBzLELAwP56ff75fiTiaBgYhovx8ZoeRcGsX988I6K6MDVtoCXGWSgFxYOZTLE4lgbbfbwnoiQFh043QodcMpMDbGwFaKvtjSM6gmMBA4qi+wyPbY/AYBQNdj/fFwvV4v7u7uWtsGUKniGkrm5uTkpEw60M6LJGkj4+F7AOntJVAYEA0MJcnmvMcHHgiDZqFDGQzfib1AHVkh/eO5QPZsNB2meE6yIbfi2Nj7x4rEM8krAv3x2DgPDLJLCXtXV1cxn89bUA3lgqHC5XY6nRIHANnMqPmzDPtQMvb+cx6EzhtmIvAUcOKm6RRtMGPKOf6NtTO1bmNg4gICxgrmCaF99AUvYGNBW09OTmIymZS3USJMWGf6+PT0VJLbKBeGw+OCgVkul/Hu3bt4enqKyWRS9po0RDWsZk6owqBoGJRi+I/RJKZ9fHwsq9B3u11hk6kBxMNSAOx9SyxPtTDC8Brja9INY4AsWTkYZ+ac7+1tfDj9lBWN9nAO1TLcC7LIaO/5+TkuLy+LoaPfXg/olMNwOIwemXz2gUezB4NBgWCGkAgI1obP86C5s2g2A47SZirdVtBwjMnzHolWcAY30+JU1DdNU96+iZWKiELimCEiDmEyHbAD19h6rd/vl2oKkwQXFxfl7TL2soa/nU6n7P0PYmiaw/bj/X4/FotFYcZY8rLf70tFxmq1is+fP5fi5o8fP76CdqRiqPLZ7/elOsbV/p1OpxRFE/+h9MS9zB17Mk6n0/jpT39avJzHnrnDqNk7cOx2u9Inw2MMlyGdvRvXEmdyLeOaYaAZSBSy9kzkl3Pw5J3OYXNejD1/swwJgqff75cqJeTv8fHxhQyhE9TKmfAwwWF3DOxA+IBXxrOGHR5k079WOgusB47vbdF4BpacwzEWR6fzkpNzJcl2uy07HROf0T9q+hx457wVlnw2m7WqKQzDDdtQWiAqXhfWEdSAwGLhGefValUWzl5eXsZ8Po+rq6viDYfDYYGGpBuAfsBvs6EoAwKFdwPW45URtMFg0Nokx4lqjFqOMRlrx4p40M1mU+oGc5xWg3gmG5g/PuN60IUNt+s5Lcu1MMmf2WBgcJATvodAowYWZED7kIvn5+eXomK8135/qKvDElo58DRoOFbarhWLSKdoQEQUS4CrdnEvipTzMQgCg1WzeNzf3sdsIQewybCPAbbly9ALSIcAdDqd8iIGaGAoYbYuwMrxbjGMEDkwBNjQBYVC4SysTDpJeVYlZOFlfsyQehkHc0a/WIFNzIViUtnATl7AQZSVRLaXMyGw/E9MlkMNjzmEA/3Nws+YIx8mGQzxnIrhfCumZQcZ5Tn85hobPJyIUZwJQJT24eGhFEOAEkFl6/X65W0yDAIT5hxJDpwNH2HPUFYLk62rcwx0FBKGTljgGBDDEeANgoe1RtksBLvdYek9RuHx8bFsgIPVzXVrrlAg8e3729oxRl69gGehr3gre0VYR9rO8hragfdgPLDcTCqQ1X0GspiRZdwcw9AGE0kYATwS5JIrhhwLkzQ3AWRCwc9FgYHn1P2hGCgghsHxsucPYUZ5DRmNHIyEPFf80D6nDayoDit4pmNLs53EnkYHLobOKZ+eB5EfgjsGDyjA4POGDRJ1TDBJ6qenp/j8+XNh2VzhTQe5l5kud9yHoYUtogcw573wVngAr/A24YJVhXkkzspwEWNktozPnUJw2Q5WPysQh5PsvG+M653jQdlRMJQbhcaYEJgz1oxJJowYp+y5szfPcuE8EnPmuMmxD8bWrC2wyoKe59jKlT/PXg958Bj5oA/ML8psD4oh4Hraak/Ivfy9++M6UCseMrTZbF5iNBguJostw2wpePMH26mZTm6al6UMnz9/LmU9ECLATyuIrao/N/yhgwiF4UhWvFwLCPGC0vO54SHK2O0elrR4ewSe63ybldsTTIzjmA5EYBbOwoNwYyG73W7Zas45SBZvEhfxG8OBEkdEK9UB3HZaxG82NcJAOUwo4TkNQ23ZHcOgcJAmq9Uqbm5uWrFPPi/H0VYkhwW15K9L5vjND3NmT2n4zbMiXhAMJAbsds5Jui2m7V0fak94fX1dxqhF7zPg+/2+5faARfY6sIbAFH4/PT3F1dVVXF9ft6w+97Lw0REHn3zGAJK8dXzoyn5bWOeCsDBsL2DFyhPLfbGCXM8SdpTA0MnslpWcz3wOzJ4TyvaktItax4jDDlR8b2U0O+itCTabTUvBiP0YV8NtW32vLXQMyHNgID0OzBtj5Y1y6HtElAWPOaay5/O85Dk3LMU7+x6GqvaQJs58b0PU/PfNzU1Ruvl8Xhbk2hjlnCqLXl13Sc4Sg8LnhQyBNXSpVafTKbgaZeNvL07k5Qnb7TY+f/7csvgMyPPzc3kBBBNFY2pBKROBh0MAbL1cKsWbVvxj62ahtoIZvtA/JpK48f7+Ph4eHoqnsdXnsPV0zJihsZ9rOMKzvd/hcDgsr30C4sEkPjw8xHK5jE6n88orIayuHPd7nKHn8Yw5JmZsEer7+/uy9QH3ZX6Y22x4UMDMsNpbeK7tGTlQLnsGeyQMD/NhWTEJx5hzTxuwLAPE8fv9oQrK8JiYCw7C6SCvILByuf+929vbVtUCbBPBMjcjCKaDBLZotV0ujXKJkAfcA+24yZCR5/uzzWZTEqgIHdUZCBE5JPJITiEwsfammfI2zt/tdqXI2Xv6cZ/tdtt6aZ5jWbwJ7fLavVq5mj0WCWMMoFlcqjPw3rvdrvQ156sMy7G49mwmHyIOcS0KvNlsime2V+N/DiftHx4eiuIY7rktjGOGrjZ2FlL6Sb9sNPnclUY+x8Y0K1r+nDGD+TV/YOiYFcxLY3A8vma73Ubv5uYmNpuXN3awAampZeAIXgKl4kYuDAajm7bHAjjAxyJZqXgm8SIxBXs2QJ97uUOmdj1ZFnAzlj7fbCft4OBeULcIOd95UlEU2oDSGE7RVr+dxjAIwaedKACxGH1mLxLDLxLv3Bejh/KzdZwhomNIs3yu0EBB8RAIPwJuL4RHMAngGI3fnicrWD7PXo0DhfB4ul/5yDG587J85/FmPmmXGVSMJ8plL8b/mSzx5z08Ai4f2BIRrR1e7Q4RUmANHsaVDyga+7k79qPTFgzYssvLy2JFc6ds3fhBWbw8gjgCAQDemUlDWFD6bNUYdLNJ0LcYA/cDgfcE81zgMq+p5d6G2YWd6h2q8cndIVTk5TBcfDYajeLz588tBQUqcRgx5P4juJBXVh4TAvZseD0UEzjlwwLL/1mp8mc8zwjJSsY5mbTIB7KB4WNejDwcH/o5tNX3xoEQf2V2sgYjLbM9stqwdHgBV0NbeJgsW19+r1arIog8mIqFiJcYgKXxhqjr9Tq++eab0kg/13kaOp/xtyeWdqGgJlUyTPDn+T75f4QBT+nFmcA3zt1sNqVsyjlEs6wua6PdkBq03wKKcFHIiscZDoexWCxaxs9xL2ym9yWkNpLxRUGBynhXrHn2RMwH8D0zbx5P2u42GSLWFAyFyHFZRLTGLENPKwbn5sNjZA9ZO46xplYiw0PabzKnpEuwSG6At3DzkXEtDXXDiSmwqhFRSnVoMJ4FK49SZhiQ6VYOn2MSwmQMlgsYa4Pgfpi+tyCgDDYoHnRv1IKQcg5k0m73sn7McehmsylkDp8T/zJGjEXEizCze9fd3V3ZQAiBbpomrq6uSkxMfhNrzlixLbmFk/FDOJgXDKKhE32EaVyv163X/+YxtMeKOJAUjr08xzmtk+e7Bjnpiw1z5gCyvHCYLLPSZbhrQ+N22lv5txXPz+2xqtb41fDOcY09ic8huMxsTqfzsh5rsVi0vqPhQNF81PC3G20vm2GfBZC2uRIfiItwMLA1K+r4rSYAvieQg7HZbDalmttQzQqbqXigteNdCKCrq6uiwBcXF2Wb7pubm5K7AYlYiU3MdDqHulPiP2AQSu6x9GumgOOEGAiT54l+5ngrC6YhpT/L82vY7HAhs60175YNSo67gLnIiVeqG85nT5qVqkZ81GS6Z4YFa1/7297LQkc8hmXPwm+FyIPHd44fPNDZKtYYQ19rK+12WLnB2H6eMXpmJxk4jwn9cDxXsLg8nCfFcJX/s5V2WoL78j8IoGmauLy8LFt5oyyUurkci74hNKAJtiWARLHB4ZkmASKiRVdbAIGgeY6yQDJvmVm0kloZsrLle2avmRUrf5cVLv9tpbOycdhwGEq6bTUFK4oG84QQGeNnqGWlcyzk33i2mkJ6IOgYn2X3nuOT2mFl8SB5kK10DBi/zZoheG5rnjgPvq0jh+MHrCZkE+OH5SN+QlAjDgKOZwH68mzadXd3F/f39+X1SFQ12Bt6XJwTMiO83x8W0RoSodRWjKwk2ftngsX9rCmWf/KcZiWxJ8v3q11DO7IC1sKT7Hlrilmb97fksnb0MlngHINdaf47e4yaItZgl2sGPbim6hmAtw4bA0+YvQ7PijjAYKy382d4GEgAJtIemd/Zq/ocruV/IJaVBmGG/GAJBsUAxLkRh6Un+/1hvR9kEwswHRd6ORJ9waN5GwHKpKhoIEcI7GSBp4mpLMQ+bDANpfjfubSaktVgnwX7mLLXlOPYT+5Hju+OXff/1tGjM/yGOMgKZY+H9/LfPt+CZ8GPiBYLaKvo+/hAiPy/KxEyi5gFws/w/a0Q/hxDw+AbKka0Nyb1pNuLRBzyawiHiQjunYkYez7gLUaAbQ1QIN59zbL6/f6FEfX2BkBRyBHgIzk3yoR4kwz99FZ7fGZlsNGlP1YcM3D8uI/5GiuuPRb/W+GtdDVlqkHHmnc8Bj3/vzp6tQ9zY5nsDBERMA+8Bd6KlgNND6QP34Mjs59ZAWpu3Z4xx5n87YHmeezRkRXQXrdmDPAWHBgUJ7ndLgQmV7bg3brdbmESEX688PPzyzZynU6neCOof+aF36RagJksZ2JvfA6EGaF7i+1lThF8DtPfx+oTrVjHqHorWvZkWTlrHjArlu+Tlex/1VFVNDc44rBWx/87qMd7RbShW4ZX+b5852uyoqEU9hooD88wEWHvxTWGidnDIjD2xEA3L3nhuRlO5jGLaK8wgIDwJHMu1DjnI9y82cVWHKEcDAYttna73Zb3pZkFhYHEOzpWhJZ3/0EHzonR3xz3etz9v+M6kyYojxW7FrdZIXlWho3HoJ5j6BqkPBYT/q86jiqaj1rQ68DbApS9Vs17Ze+XoaqVwUqez83xktuJcpqEsULZC7lKxcpJW21I3GePSYYfnAdFb8NgsoUclQUO72OSwh4Tj+U4mX5wmNzI28hRieNCYStODSUcg3nMPUpVI1Ey7PP1ZjazotEeQ8e3YqrcXt/jf6X3qh1/kqL5qEEoWKo/BRr6uhrZYgHC2taU0gLv5Hj2piYFfC3tMJRDERFYlCDHeWZmc59oF4n7TJbAPNImKkycGskJfDwZ3oua06Z52Yh1tVqVXa6cD8pJYO4NHOWe9hz0gecyxtnTZM+Wfzu5m+Gf75M/s6e2stQULbcne7D/v5XLx/9tRfPxljL9KddlkiIrWY7tajDOUBIPYk/mWALhPqaUXMckuWaQ65noWrvcP8MZt4EVCSgd27rtdoeXFNo7cj0UPft6UC43HA5juVyWnbPoE+SLyQjazUYz3W63wNTsaY55MhtZK4GhousAM/vo51g5/az83Ex+WIlqbfv7ePw/UrT/tw7jawQ6x1ZZ6SLau/Haezhey2vFuFdEXdH8vf9G2bJi17yzLX5mTFmr5fewUfcIxEOxID5QlOl0WnJ95+fnhabHS0YcXkDiCv+IQ0zE2FL2RaGz47Ma4WAP5CN7q6xkx4rBeY6hXc6z+ZyaomXv+vf5+HuhaBF1kiQijgp39mYmIPK9UDSq40kSuwLDZAQxG9Ap34tnGPaaGIpoJ8a5J5ASRhEPfH5+3trDHhhucme325UVFLvdrrzvjfMRVL/RkwT46elp2WJivz8UNDuXhmHLdHyGjXl8M1Q03HOclllNKxD3yV6spnT/OymXj783iubDHi6iXRaViZJMkHjimeDs1VBOwzMEk+ejbDmPlml/7sl9UPgcC+a83W63K4W7vLIq4rDg1UzrYDAo2zOcn5/H4+Nj3N7elvHqdF6S434FlL3Rdrstiuz+4hGBx/Q9Q7MM1/jtceYnw8d8Tk3RchyWSQwr2P+ux99LRYuoL30wVDOU8w9eiomjUh54lOO1fF8OvAlKYe/m2MuK67abmbSh4EAhEHjiNWKw/f5QQXJ6ehrb7cuGr7Q9LyzlWr/+iJ/8sg/a5ZXxWQH8mecjw0h7slqcdoyez8pWg4o89/+E4++totUOK1+GmXgRkxUZltQULsdaEQcYCcziefYynGdPajib20078W7ktKjcyKu3WaoScXjnF2wjSWcvPfILJWwYrHSbzaaUhQE7OQxbM2GRx76mJI7T/FNbVmJomRXPnvP/pON/K0Xz4cmoMXx4N5TFCmalM2TkMMw0wQKkrDGfOX2QYWeN/gc62ijABrI5Ld4OgsTr2VwCZ4hM8tpEzuXlZVEicmeGtOTUchKaPmZyJJMdWbkyCZLXb9WU7P/k4/8CLCZ4kMDucr4AAAAASUVORK5CYII=\" y=\"-12.120508\"/>\n   </g>\n   <g id=\"matplotlib.axis_1\">\n    <g id=\"xtick_1\">\n     <g id=\"line2d_1\">\n      <path clip-path=\"url(#pb03d9fad84)\" d=\"M 44.651328 230.120508 \nL 44.651328 12.680508 \n\" style=\"fill:none;stroke:#ffffff;stroke-linecap:round;\"/>\n     </g>\n     <g id=\"text_1\">\n      <!-- 0 -->\n      <g style=\"fill:#262626;\" transform=\"translate(40.063555 251.430898)scale(0.165 -0.165)\">\n       <defs>\n        <path d=\"M 4.15625 35.296875 \nQ 4.15625 48 6.765625 55.734375 \nQ 9.375 63.484375 14.515625 67.671875 \nQ 19.671875 71.875 27.484375 71.875 \nQ 33.25 71.875 37.59375 69.546875 \nQ 41.9375 67.234375 44.765625 62.859375 \nQ 47.609375 58.5 49.21875 52.21875 \nQ 50.828125 45.953125 50.828125 35.296875 \nQ 50.828125 22.703125 48.234375 14.96875 \nQ 45.65625 7.234375 40.5 3 \nQ 35.359375 -1.21875 27.484375 -1.21875 \nQ 17.140625 -1.21875 11.234375 6.203125 \nQ 4.15625 15.140625 4.15625 35.296875 \nz\nM 13.1875 35.296875 \nQ 13.1875 17.671875 17.3125 11.828125 \nQ 21.4375 6 27.484375 6 \nQ 33.546875 6 37.671875 11.859375 \nQ 41.796875 17.71875 41.796875 35.296875 \nQ 41.796875 52.984375 37.671875 58.78125 \nQ 33.546875 64.59375 27.390625 64.59375 \nQ 21.34375 64.59375 17.71875 59.46875 \nQ 13.1875 52.9375 13.1875 35.296875 \nz\n\" id=\"ArialMT-48\"/>\n       </defs>\n       <use xlink:href=\"#ArialMT-48\"/>\n      </g>\n     </g>\n    </g>\n    <g id=\"xtick_2\">\n     <g id=\"line2d_2\">\n      <path clip-path=\"url(#pb03d9fad84)\" d=\"M 129.588828 230.120508 \nL 129.588828 12.680508 \n\" style=\"fill:none;stroke:#ffffff;stroke-linecap:round;\"/>\n     </g>\n     <g id=\"text_2\">\n      <!-- 100 -->\n      <g style=\"fill:#262626;\" transform=\"translate(115.825508 251.430898)scale(0.165 -0.165)\">\n       <defs>\n        <path d=\"M 37.25 0 \nL 28.46875 0 \nL 28.46875 56 \nQ 25.296875 52.984375 20.140625 49.953125 \nQ 14.984375 46.921875 10.890625 45.40625 \nL 10.890625 53.90625 \nQ 18.265625 57.375 23.78125 62.296875 \nQ 29.296875 67.234375 31.59375 71.875 \nL 37.25 71.875 \nz\n\" id=\"ArialMT-49\"/>\n       </defs>\n       <use xlink:href=\"#ArialMT-49\"/>\n       <use x=\"55.615234\" xlink:href=\"#ArialMT-48\"/>\n       <use x=\"111.230469\" xlink:href=\"#ArialMT-48\"/>\n      </g>\n     </g>\n    </g>\n    <g id=\"xtick_3\">\n     <g id=\"line2d_3\">\n      <path clip-path=\"url(#pb03d9fad84)\" d=\"M 214.526328 230.120508 \nL 214.526328 12.680508 \n\" style=\"fill:none;stroke:#ffffff;stroke-linecap:round;\"/>\n     </g>\n     <g id=\"text_3\">\n      <!-- 200 -->\n      <g style=\"fill:#262626;\" transform=\"translate(200.763008 251.430898)scale(0.165 -0.165)\">\n       <defs>\n        <path d=\"M 50.34375 8.453125 \nL 50.34375 0 \nL 3.03125 0 \nQ 2.9375 3.171875 4.046875 6.109375 \nQ 5.859375 10.9375 9.828125 15.625 \nQ 13.8125 20.3125 21.34375 26.46875 \nQ 33.015625 36.03125 37.109375 41.625 \nQ 41.21875 47.21875 41.21875 52.203125 \nQ 41.21875 57.421875 37.46875 61 \nQ 33.734375 64.59375 27.734375 64.59375 \nQ 21.390625 64.59375 17.578125 60.78125 \nQ 13.765625 56.984375 13.71875 50.25 \nL 4.6875 51.171875 \nQ 5.609375 61.28125 11.65625 66.578125 \nQ 17.71875 71.875 27.9375 71.875 \nQ 38.234375 71.875 44.234375 66.15625 \nQ 50.25 60.453125 50.25 52 \nQ 50.25 47.703125 48.484375 43.546875 \nQ 46.734375 39.40625 42.65625 34.8125 \nQ 38.578125 30.21875 29.109375 22.21875 \nQ 21.1875 15.578125 18.9375 13.203125 \nQ 16.703125 10.84375 15.234375 8.453125 \nz\n\" id=\"ArialMT-50\"/>\n       </defs>\n       <use xlink:href=\"#ArialMT-50\"/>\n       <use x=\"55.615234\" xlink:href=\"#ArialMT-48\"/>\n       <use x=\"111.230469\" xlink:href=\"#ArialMT-48\"/>\n      </g>\n     </g>\n    </g>\n   </g>\n   <g id=\"matplotlib.axis_2\">\n    <g id=\"ytick_1\">\n     <g id=\"line2d_4\">\n      <path clip-path=\"url(#pb03d9fad84)\" d=\"M 44.226641 13.105195 \nL 261.666641 13.105195 \n\" style=\"fill:none;stroke:#ffffff;stroke-linecap:round;\"/>\n     </g>\n     <g id=\"text_4\">\n      <!-- 0 -->\n      <g style=\"fill:#262626;\" transform=\"translate(25.551094 19.010391)scale(0.165 -0.165)\">\n       <use xlink:href=\"#ArialMT-48\"/>\n      </g>\n     </g>\n    </g>\n    <g id=\"ytick_2\">\n     <g id=\"line2d_5\">\n      <path clip-path=\"url(#pb03d9fad84)\" d=\"M 44.226641 55.573945 \nL 261.666641 55.573945 \n\" style=\"fill:none;stroke:#ffffff;stroke-linecap:round;\"/>\n     </g>\n     <g id=\"text_5\">\n      <!-- 50 -->\n      <g style=\"fill:#262626;\" transform=\"translate(16.375547 61.479141)scale(0.165 -0.165)\">\n       <defs>\n        <path d=\"M 4.15625 18.75 \nL 13.375 19.53125 \nQ 14.40625 12.796875 18.140625 9.390625 \nQ 21.875 6 27.15625 6 \nQ 33.5 6 37.890625 10.78125 \nQ 42.28125 15.578125 42.28125 23.484375 \nQ 42.28125 31 38.0625 35.34375 \nQ 33.84375 39.703125 27 39.703125 \nQ 22.75 39.703125 19.328125 37.765625 \nQ 15.921875 35.84375 13.96875 32.765625 \nL 5.71875 33.84375 \nL 12.640625 70.609375 \nL 48.25 70.609375 \nL 48.25 62.203125 \nL 19.671875 62.203125 \nL 15.828125 42.96875 \nQ 22.265625 47.46875 29.34375 47.46875 \nQ 38.71875 47.46875 45.15625 40.96875 \nQ 51.609375 34.46875 51.609375 24.265625 \nQ 51.609375 14.546875 45.953125 7.46875 \nQ 39.0625 -1.21875 27.15625 -1.21875 \nQ 17.390625 -1.21875 11.203125 4.25 \nQ 5.03125 9.71875 4.15625 18.75 \nz\n\" id=\"ArialMT-53\"/>\n       </defs>\n       <use xlink:href=\"#ArialMT-53\"/>\n       <use x=\"55.615234\" xlink:href=\"#ArialMT-48\"/>\n      </g>\n     </g>\n    </g>\n    <g id=\"ytick_3\">\n     <g id=\"line2d_6\">\n      <path clip-path=\"url(#pb03d9fad84)\" d=\"M 44.226641 98.042695 \nL 261.666641 98.042695 \n\" style=\"fill:none;stroke:#ffffff;stroke-linecap:round;\"/>\n     </g>\n     <g id=\"text_6\">\n      <!-- 100 -->\n      <g style=\"fill:#262626;\" transform=\"translate(7.2 103.947891)scale(0.165 -0.165)\">\n       <use xlink:href=\"#ArialMT-49\"/>\n       <use x=\"55.615234\" xlink:href=\"#ArialMT-48\"/>\n       <use x=\"111.230469\" xlink:href=\"#ArialMT-48\"/>\n      </g>\n     </g>\n    </g>\n    <g id=\"ytick_4\">\n     <g id=\"line2d_7\">\n      <path clip-path=\"url(#pb03d9fad84)\" d=\"M 44.226641 140.511445 \nL 261.666641 140.511445 \n\" style=\"fill:none;stroke:#ffffff;stroke-linecap:round;\"/>\n     </g>\n     <g id=\"text_7\">\n      <!-- 150 -->\n      <g style=\"fill:#262626;\" transform=\"translate(7.2 146.416641)scale(0.165 -0.165)\">\n       <use xlink:href=\"#ArialMT-49\"/>\n       <use x=\"55.615234\" xlink:href=\"#ArialMT-53\"/>\n       <use x=\"111.230469\" xlink:href=\"#ArialMT-48\"/>\n      </g>\n     </g>\n    </g>\n    <g id=\"ytick_5\">\n     <g id=\"line2d_8\">\n      <path clip-path=\"url(#pb03d9fad84)\" d=\"M 44.226641 182.980195 \nL 261.666641 182.980195 \n\" style=\"fill:none;stroke:#ffffff;stroke-linecap:round;\"/>\n     </g>\n     <g id=\"text_8\">\n      <!-- 200 -->\n      <g style=\"fill:#262626;\" transform=\"translate(7.2 188.885391)scale(0.165 -0.165)\">\n       <use xlink:href=\"#ArialMT-50\"/>\n       <use x=\"55.615234\" xlink:href=\"#ArialMT-48\"/>\n       <use x=\"111.230469\" xlink:href=\"#ArialMT-48\"/>\n      </g>\n     </g>\n    </g>\n    <g id=\"ytick_6\">\n     <g id=\"line2d_9\">\n      <path clip-path=\"url(#pb03d9fad84)\" d=\"M 44.226641 225.448945 \nL 261.666641 225.448945 \n\" style=\"fill:none;stroke:#ffffff;stroke-linecap:round;\"/>\n     </g>\n     <g id=\"text_9\">\n      <!-- 250 -->\n      <g style=\"fill:#262626;\" transform=\"translate(7.2 231.354141)scale(0.165 -0.165)\">\n       <use xlink:href=\"#ArialMT-50\"/>\n       <use x=\"55.615234\" xlink:href=\"#ArialMT-53\"/>\n       <use x=\"111.230469\" xlink:href=\"#ArialMT-48\"/>\n      </g>\n     </g>\n    </g>\n   </g>\n   <g id=\"patch_3\">\n    <path d=\"M 44.226641 230.120508 \nL 44.226641 12.680508 \n\" style=\"fill:none;stroke:#ffffff;stroke-linecap:square;stroke-linejoin:miter;stroke-width:1.25;\"/>\n   </g>\n   <g id=\"patch_4\">\n    <path d=\"M 261.666641 230.120508 \nL 261.666641 12.680508 \n\" style=\"fill:none;stroke:#ffffff;stroke-linecap:square;stroke-linejoin:miter;stroke-width:1.25;\"/>\n   </g>\n   <g id=\"patch_5\">\n    <path d=\"M 44.226641 230.120508 \nL 261.666641 230.120508 \n\" style=\"fill:none;stroke:#ffffff;stroke-linecap:square;stroke-linejoin:miter;stroke-width:1.25;\"/>\n   </g>\n   <g id=\"patch_6\">\n    <path d=\"M 44.226641 12.680508 \nL 261.666641 12.680508 \n\" style=\"fill:none;stroke:#ffffff;stroke-linecap:square;stroke-linejoin:miter;stroke-width:1.25;\"/>\n   </g>\n  </g>\n </g>\n <defs>\n  <clipPath id=\"pb03d9fad84\">\n   <rect height=\"217.44\" width=\"217.44\" x=\"44.226641\" y=\"12.680508\"/>\n  </clipPath>\n </defs>\n</svg>\n",
      "image/png": "[encoded data removed]"
     },
     "metadata": {}
    }
   ],
   "source": [
    "plt.imshow(test_generator.__getitem__(0)[0][0][:,:,0], cmap=\"gray\")"
   ]
  },
  {
   "cell_type": "code",
   "execution_count": 145,
   "metadata": {
    "tags": []
   },
   "outputs": [
    {
     "output_type": "stream",
     "name": "stdout",
     "text": [
      "21/21 [==============================] - 4s 172ms/step - loss: 0.2440 - accuracy: 0.9066\n"
     ]
    },
    {
     "output_type": "execute_result",
     "data": {
      "text/plain": [
       "[0.24399042129516602, 0.9066265225410461]"
      ]
     },
     "metadata": {},
     "execution_count": 145
    }
   ],
   "source": [
    "model.evaluate(test_generator)"
   ]
  },
  {
   "cell_type": "code",
   "execution_count": 146,
   "metadata": {
    "tags": []
   },
   "outputs": [
    {
     "output_type": "stream",
     "name": "stdout",
     "text": [
      "Test pneumonia cases:  430\nTest normal cases:  234\n"
     ]
    }
   ],
   "source": [
    "print(\"Test pneumonia cases: \", len(df_test[df_test['label'] == 1]))\n",
    "print(\"Test normal cases: \", len(df_test[df_test['label'] == 0]))"
   ]
  },
  {
   "cell_type": "markdown",
   "metadata": {},
   "source": [
    "## Detail eval"
   ]
  },
  {
   "cell_type": "code",
   "execution_count": 147,
   "metadata": {
    "tags": []
   },
   "outputs": [],
   "source": [
    "predictions = model.predict(test_generator)"
   ]
  },
  {
   "cell_type": "code",
   "execution_count": 148,
   "metadata": {
    "tags": []
   },
   "outputs": [],
   "source": [
    "y_true = test_generator.df.label # we can do this since we do not shuffle in test_generator ;)\n",
    "y_pred = predictions > 0.5"
   ]
  },
  {
   "cell_type": "code",
   "execution_count": 149,
   "metadata": {},
   "outputs": [],
   "source": [
    "y_pred_classes = []\n",
    "\n",
    "for x in y_pred:\n",
    "    if x == 0:\n",
    "        y_pred_classes.append(\"NORMAL\")\n",
    "    else:\n",
    "        y_pred_classes.append(\"PNEUMONIA\")"
   ]
  },
  {
   "cell_type": "code",
   "execution_count": 150,
   "metadata": {},
   "outputs": [],
   "source": [
    "y_true_classes = []\n",
    "\n",
    "for x in y_true:\n",
    "    if x == 0:\n",
    "        y_true_classes.append(\"NORMAL\")\n",
    "    else:\n",
    "        y_true_classes.append(\"PNEUMONIA\")"
   ]
  },
  {
   "cell_type": "code",
   "execution_count": 151,
   "metadata": {
    "tags": []
   },
   "outputs": [
    {
     "output_type": "stream",
     "name": "stdout",
     "text": [
      "[[176  58]\n [  4 426]]\n"
     ]
    }
   ],
   "source": [
    "cm = confusion_matrix(y_true, y_pred)\n",
    "print(cm)"
   ]
  },
  {
   "cell_type": "code",
   "execution_count": 152,
   "metadata": {
    "tags": []
   },
   "outputs": [
    {
     "output_type": "stream",
     "name": "stdout",
     "text": [
      "              precision    recall  f1-score   support\n\n      NORMAL       0.98      0.75      0.85       234\n   PNEUMONIA       0.88      0.99      0.93       430\n\n    accuracy                           0.91       664\n   macro avg       0.93      0.87      0.89       664\nweighted avg       0.91      0.91      0.90       664\n\n"
     ]
    }
   ],
   "source": [
    "report = classification_report(y_true_classes, y_pred_classes) #, target_names=[\"NORMAL\", \"PNEUMONIA\"])\n",
    "print(report)"
   ]
  },
  {
   "cell_type": "code",
   "execution_count": 153,
   "metadata": {},
   "outputs": [
    {
     "output_type": "display_data",
     "data": {
      "text/plain": "<Figure size 432x288 with 2 Axes>",
      "image/svg+xml": "<?xml version=\"1.0\" encoding=\"utf-8\" standalone=\"no\"?>\n<!DOCTYPE svg PUBLIC \"-//W3C//DTD SVG 1.1//EN\"\n  \"http://www.w3.org/Graphics/SVG/1.1/DTD/svg11.dtd\">\n<!-- Created with matplotlib (https://matplotlib.org/) -->\n<svg height=\"295.994766pt\" version=\"1.1\" viewBox=\"0 0 391.929969 295.994766\" width=\"391.929969pt\" xmlns=\"http://www.w3.org/2000/svg\" xmlns:xlink=\"http://www.w3.org/1999/xlink\">\n <metadata>\n  <rdf:RDF xmlns:cc=\"http://creativecommons.org/ns#\" xmlns:dc=\"http://purl.org/dc/elements/1.1/\" xmlns:rdf=\"http://www.w3.org/1999/02/22-rdf-syntax-ns#\">\n   <cc:Work>\n    <dc:type rdf:resource=\"http://purl.org/dc/dcmitype/StillImage\"/>\n    <dc:date>2021-01-09T14:09:12.732746</dc:date>\n    <dc:format>image/svg+xml</dc:format>\n    <dc:creator>\n     <cc:Agent>\n      <dc:title>Matplotlib v3.3.2, https://matplotlib.org/</dc:title>\n     </cc:Agent>\n    </dc:creator>\n   </cc:Work>\n  </rdf:RDF>\n </metadata>\n <defs>\n  <style type=\"text/css\">*{stroke-linecap:butt;stroke-linejoin:round;}</style>\n </defs>\n <g id=\"figure_1\">\n  <g id=\"patch_1\">\n   <path d=\"M -0 295.994766 \nL 391.929969 295.994766 \nL 391.929969 0 \nL -0 0 \nz\n\" style=\"fill:#ffffff;\"/>\n  </g>\n  <g id=\"axes_1\">\n   <g id=\"patch_2\">\n    <path d=\"M 52.251328 243.743437 \nL 320.091328 243.743437 \nL 320.091328 26.303437 \nL 52.251328 26.303437 \nz\n\" style=\"fill:#eaeaf2;\"/>\n   </g>\n   <g id=\"matplotlib.axis_1\">\n    <g id=\"xtick_1\">\n     <g id=\"text_1\">\n      <!-- Normal -->\n      <g style=\"fill:#262626;\" transform=\"translate(92.625703 265.053828)scale(0.165 -0.165)\">\n       <defs>\n        <path d=\"M 7.625 0 \nL 7.625 71.578125 \nL 17.328125 71.578125 \nL 54.9375 15.375 \nL 54.9375 71.578125 \nL 64.015625 71.578125 \nL 64.015625 0 \nL 54.296875 0 \nL 16.703125 56.25 \nL 16.703125 0 \nz\n\" id=\"ArialMT-78\"/>\n        <path d=\"M 3.328125 25.921875 \nQ 3.328125 40.328125 11.328125 47.265625 \nQ 18.015625 53.03125 27.640625 53.03125 \nQ 38.328125 53.03125 45.109375 46.015625 \nQ 51.90625 39.015625 51.90625 26.65625 \nQ 51.90625 16.65625 48.90625 10.90625 \nQ 45.90625 5.171875 40.15625 2 \nQ 34.421875 -1.171875 27.640625 -1.171875 \nQ 16.75 -1.171875 10.03125 5.8125 \nQ 3.328125 12.796875 3.328125 25.921875 \nz\nM 12.359375 25.921875 \nQ 12.359375 15.96875 16.703125 11.015625 \nQ 21.046875 6.0625 27.640625 6.0625 \nQ 34.1875 6.0625 38.53125 11.03125 \nQ 42.875 16.015625 42.875 26.21875 \nQ 42.875 35.84375 38.5 40.796875 \nQ 34.125 45.75 27.640625 45.75 \nQ 21.046875 45.75 16.703125 40.8125 \nQ 12.359375 35.890625 12.359375 25.921875 \nz\n\" id=\"ArialMT-111\"/>\n        <path d=\"M 6.5 0 \nL 6.5 51.859375 \nL 14.40625 51.859375 \nL 14.40625 44 \nQ 17.4375 49.515625 20 51.265625 \nQ 22.5625 53.03125 25.640625 53.03125 \nQ 30.078125 53.03125 34.671875 50.203125 \nL 31.640625 42.046875 \nQ 28.421875 43.953125 25.203125 43.953125 \nQ 22.3125 43.953125 20.015625 42.21875 \nQ 17.71875 40.484375 16.75 37.40625 \nQ 15.28125 32.71875 15.28125 27.15625 \nL 15.28125 0 \nz\n\" id=\"ArialMT-114\"/>\n        <path d=\"M 6.59375 0 \nL 6.59375 51.859375 \nL 14.453125 51.859375 \nL 14.453125 44.578125 \nQ 16.890625 48.390625 20.9375 50.703125 \nQ 25 53.03125 30.171875 53.03125 \nQ 35.9375 53.03125 39.625 50.640625 \nQ 43.3125 48.25 44.828125 43.953125 \nQ 50.984375 53.03125 60.84375 53.03125 \nQ 68.5625 53.03125 72.703125 48.75 \nQ 76.859375 44.484375 76.859375 35.59375 \nL 76.859375 0 \nL 68.109375 0 \nL 68.109375 32.671875 \nQ 68.109375 37.9375 67.25 40.25 \nQ 66.40625 42.578125 64.15625 43.984375 \nQ 61.921875 45.40625 58.890625 45.40625 \nQ 53.421875 45.40625 49.796875 41.765625 \nQ 46.1875 38.140625 46.1875 30.125 \nL 46.1875 0 \nL 37.40625 0 \nL 37.40625 33.6875 \nQ 37.40625 39.546875 35.25 42.46875 \nQ 33.109375 45.40625 28.21875 45.40625 \nQ 24.515625 45.40625 21.359375 43.453125 \nQ 18.21875 41.5 16.796875 37.734375 \nQ 15.375 33.984375 15.375 26.90625 \nL 15.375 0 \nz\n\" id=\"ArialMT-109\"/>\n        <path d=\"M 40.4375 6.390625 \nQ 35.546875 2.25 31.03125 0.53125 \nQ 26.515625 -1.171875 21.34375 -1.171875 \nQ 12.796875 -1.171875 8.203125 3 \nQ 3.609375 7.171875 3.609375 13.671875 \nQ 3.609375 17.484375 5.34375 20.625 \nQ 7.078125 23.78125 9.890625 25.6875 \nQ 12.703125 27.59375 16.21875 28.5625 \nQ 18.796875 29.25 24.03125 29.890625 \nQ 34.671875 31.15625 39.703125 32.90625 \nQ 39.75 34.71875 39.75 35.203125 \nQ 39.75 40.578125 37.25 42.78125 \nQ 33.890625 45.75 27.25 45.75 \nQ 21.046875 45.75 18.09375 43.578125 \nQ 15.140625 41.40625 13.71875 35.890625 \nL 5.125 37.0625 \nQ 6.296875 42.578125 8.984375 45.96875 \nQ 11.671875 49.359375 16.75 51.1875 \nQ 21.828125 53.03125 28.515625 53.03125 \nQ 35.15625 53.03125 39.296875 51.46875 \nQ 43.453125 49.90625 45.40625 47.53125 \nQ 47.359375 45.171875 48.140625 41.546875 \nQ 48.578125 39.3125 48.578125 33.453125 \nL 48.578125 21.734375 \nQ 48.578125 9.46875 49.140625 6.21875 \nQ 49.703125 2.984375 51.375 0 \nL 42.1875 0 \nQ 40.828125 2.734375 40.4375 6.390625 \nz\nM 39.703125 26.03125 \nQ 34.90625 24.078125 25.34375 22.703125 \nQ 19.921875 21.921875 17.671875 20.9375 \nQ 15.4375 19.96875 14.203125 18.09375 \nQ 12.984375 16.21875 12.984375 13.921875 \nQ 12.984375 10.40625 15.640625 8.0625 \nQ 18.3125 5.71875 23.4375 5.71875 \nQ 28.515625 5.71875 32.46875 7.9375 \nQ 36.421875 10.15625 38.28125 14.015625 \nQ 39.703125 17 39.703125 22.796875 \nz\n\" id=\"ArialMT-97\"/>\n        <path d=\"M 6.390625 0 \nL 6.390625 71.578125 \nL 15.1875 71.578125 \nL 15.1875 0 \nz\n\" id=\"ArialMT-108\"/>\n       </defs>\n       <use xlink:href=\"#ArialMT-78\"/>\n       <use x=\"72.216797\" xlink:href=\"#ArialMT-111\"/>\n       <use x=\"127.832031\" xlink:href=\"#ArialMT-114\"/>\n       <use x=\"161.132812\" xlink:href=\"#ArialMT-109\"/>\n       <use x=\"244.433594\" xlink:href=\"#ArialMT-97\"/>\n       <use x=\"300.048828\" xlink:href=\"#ArialMT-108\"/>\n      </g>\n     </g>\n    </g>\n    <g id=\"xtick_2\">\n     <g id=\"text_2\">\n      <!-- Pneumonia -->\n      <g style=\"fill:#262626;\" transform=\"translate(211.396641 265.053828)scale(0.165 -0.165)\">\n       <defs>\n        <path d=\"M 7.71875 0 \nL 7.71875 71.578125 \nL 34.71875 71.578125 \nQ 41.84375 71.578125 45.609375 70.90625 \nQ 50.875 70.015625 54.4375 67.546875 \nQ 58.015625 65.09375 60.1875 60.640625 \nQ 62.359375 56.203125 62.359375 50.875 \nQ 62.359375 41.75 56.546875 35.421875 \nQ 50.734375 29.109375 35.546875 29.109375 \nL 17.1875 29.109375 \nL 17.1875 0 \nz\nM 17.1875 37.546875 \nL 35.6875 37.546875 \nQ 44.875 37.546875 48.734375 40.96875 \nQ 52.59375 44.390625 52.59375 50.59375 \nQ 52.59375 55.078125 50.3125 58.265625 \nQ 48.046875 61.46875 44.34375 62.5 \nQ 41.9375 63.140625 35.5 63.140625 \nL 17.1875 63.140625 \nz\n\" id=\"ArialMT-80\"/>\n        <path d=\"M 6.59375 0 \nL 6.59375 51.859375 \nL 14.5 51.859375 \nL 14.5 44.484375 \nQ 20.21875 53.03125 31 53.03125 \nQ 35.6875 53.03125 39.625 51.34375 \nQ 43.5625 49.65625 45.515625 46.921875 \nQ 47.46875 44.1875 48.25 40.4375 \nQ 48.734375 37.984375 48.734375 31.890625 \nL 48.734375 0 \nL 39.9375 0 \nL 39.9375 31.546875 \nQ 39.9375 36.921875 38.90625 39.578125 \nQ 37.890625 42.234375 35.28125 43.8125 \nQ 32.671875 45.40625 29.15625 45.40625 \nQ 23.53125 45.40625 19.453125 41.84375 \nQ 15.375 38.28125 15.375 28.328125 \nL 15.375 0 \nz\n\" id=\"ArialMT-110\"/>\n        <path d=\"M 42.09375 16.703125 \nL 51.171875 15.578125 \nQ 49.03125 7.625 43.21875 3.21875 \nQ 37.40625 -1.171875 28.375 -1.171875 \nQ 17 -1.171875 10.328125 5.828125 \nQ 3.65625 12.84375 3.65625 25.484375 \nQ 3.65625 38.578125 10.390625 45.796875 \nQ 17.140625 53.03125 27.875 53.03125 \nQ 38.28125 53.03125 44.875 45.953125 \nQ 51.46875 38.875 51.46875 26.03125 \nQ 51.46875 25.25 51.421875 23.6875 \nL 12.75 23.6875 \nQ 13.234375 15.140625 17.578125 10.59375 \nQ 21.921875 6.0625 28.421875 6.0625 \nQ 33.25 6.0625 36.671875 8.59375 \nQ 40.09375 11.140625 42.09375 16.703125 \nz\nM 13.234375 30.90625 \nL 42.1875 30.90625 \nQ 41.609375 37.453125 38.875 40.71875 \nQ 34.671875 45.796875 27.984375 45.796875 \nQ 21.921875 45.796875 17.796875 41.75 \nQ 13.671875 37.703125 13.234375 30.90625 \nz\n\" id=\"ArialMT-101\"/>\n        <path d=\"M 40.578125 0 \nL 40.578125 7.625 \nQ 34.515625 -1.171875 24.125 -1.171875 \nQ 19.53125 -1.171875 15.546875 0.578125 \nQ 11.578125 2.34375 9.640625 5 \nQ 7.71875 7.671875 6.9375 11.53125 \nQ 6.390625 14.109375 6.390625 19.734375 \nL 6.390625 51.859375 \nL 15.1875 51.859375 \nL 15.1875 23.09375 \nQ 15.1875 16.21875 15.71875 13.8125 \nQ 16.546875 10.359375 19.234375 8.375 \nQ 21.921875 6.390625 25.875 6.390625 \nQ 29.828125 6.390625 33.296875 8.421875 \nQ 36.765625 10.453125 38.203125 13.9375 \nQ 39.65625 17.4375 39.65625 24.078125 \nL 39.65625 51.859375 \nL 48.4375 51.859375 \nL 48.4375 0 \nz\n\" id=\"ArialMT-117\"/>\n        <path d=\"M 6.640625 61.46875 \nL 6.640625 71.578125 \nL 15.4375 71.578125 \nL 15.4375 61.46875 \nz\nM 6.640625 0 \nL 6.640625 51.859375 \nL 15.4375 51.859375 \nL 15.4375 0 \nz\n\" id=\"ArialMT-105\"/>\n       </defs>\n       <use xlink:href=\"#ArialMT-80\"/>\n       <use x=\"66.699219\" xlink:href=\"#ArialMT-110\"/>\n       <use x=\"122.314453\" xlink:href=\"#ArialMT-101\"/>\n       <use x=\"177.929688\" xlink:href=\"#ArialMT-117\"/>\n       <use x=\"233.544922\" xlink:href=\"#ArialMT-109\"/>\n       <use x=\"316.845703\" xlink:href=\"#ArialMT-111\"/>\n       <use x=\"372.460938\" xlink:href=\"#ArialMT-110\"/>\n       <use x=\"428.076172\" xlink:href=\"#ArialMT-105\"/>\n       <use x=\"450.292969\" xlink:href=\"#ArialMT-97\"/>\n      </g>\n     </g>\n    </g>\n    <g id=\"text_3\">\n     <!-- Predicted -->\n     <g style=\"fill:#262626;\" transform=\"translate(148.151953 285.217266)scale(0.18 -0.18)\">\n      <defs>\n       <path d=\"M 40.234375 0 \nL 40.234375 6.546875 \nQ 35.296875 -1.171875 25.734375 -1.171875 \nQ 19.53125 -1.171875 14.328125 2.25 \nQ 9.125 5.671875 6.265625 11.796875 \nQ 3.421875 17.921875 3.421875 25.875 \nQ 3.421875 33.640625 6 39.96875 \nQ 8.59375 46.296875 13.765625 49.65625 \nQ 18.953125 53.03125 25.34375 53.03125 \nQ 30.03125 53.03125 33.6875 51.046875 \nQ 37.359375 49.078125 39.65625 45.90625 \nL 39.65625 71.578125 \nL 48.390625 71.578125 \nL 48.390625 0 \nz\nM 12.453125 25.875 \nQ 12.453125 15.921875 16.640625 10.984375 \nQ 20.84375 6.0625 26.5625 6.0625 \nQ 32.328125 6.0625 36.34375 10.765625 \nQ 40.375 15.484375 40.375 25.140625 \nQ 40.375 35.796875 36.265625 40.765625 \nQ 32.171875 45.75 26.171875 45.75 \nQ 20.3125 45.75 16.375 40.96875 \nQ 12.453125 36.1875 12.453125 25.875 \nz\n\" id=\"ArialMT-100\"/>\n       <path d=\"M 40.4375 19 \nL 49.078125 17.875 \nQ 47.65625 8.9375 41.8125 3.875 \nQ 35.984375 -1.171875 27.484375 -1.171875 \nQ 16.84375 -1.171875 10.375 5.78125 \nQ 3.90625 12.75 3.90625 25.734375 \nQ 3.90625 34.125 6.6875 40.421875 \nQ 9.46875 46.734375 15.15625 49.875 \nQ 20.84375 53.03125 27.546875 53.03125 \nQ 35.984375 53.03125 41.359375 48.75 \nQ 46.734375 44.484375 48.25 36.625 \nL 39.703125 35.296875 \nQ 38.484375 40.53125 35.375 43.15625 \nQ 32.28125 45.796875 27.875 45.796875 \nQ 21.234375 45.796875 17.078125 41.03125 \nQ 12.9375 36.28125 12.9375 25.984375 \nQ 12.9375 15.53125 16.9375 10.796875 \nQ 20.953125 6.0625 27.390625 6.0625 \nQ 32.5625 6.0625 36.03125 9.234375 \nQ 39.5 12.40625 40.4375 19 \nz\n\" id=\"ArialMT-99\"/>\n       <path d=\"M 25.78125 7.859375 \nL 27.046875 0.09375 \nQ 23.34375 -0.6875 20.40625 -0.6875 \nQ 15.625 -0.6875 12.984375 0.828125 \nQ 10.359375 2.34375 9.28125 4.8125 \nQ 8.203125 7.28125 8.203125 15.1875 \nL 8.203125 45.015625 \nL 1.765625 45.015625 \nL 1.765625 51.859375 \nL 8.203125 51.859375 \nL 8.203125 64.703125 \nL 16.9375 69.96875 \nL 16.9375 51.859375 \nL 25.78125 51.859375 \nL 25.78125 45.015625 \nL 16.9375 45.015625 \nL 16.9375 14.703125 \nQ 16.9375 10.9375 17.40625 9.859375 \nQ 17.875 8.796875 18.921875 8.15625 \nQ 19.96875 7.515625 21.921875 7.515625 \nQ 23.390625 7.515625 25.78125 7.859375 \nz\n\" id=\"ArialMT-116\"/>\n      </defs>\n      <use xlink:href=\"#ArialMT-80\"/>\n      <use x=\"66.699219\" xlink:href=\"#ArialMT-114\"/>\n      <use x=\"100\" xlink:href=\"#ArialMT-101\"/>\n      <use x=\"155.615234\" xlink:href=\"#ArialMT-100\"/>\n      <use x=\"211.230469\" xlink:href=\"#ArialMT-105\"/>\n      <use x=\"233.447266\" xlink:href=\"#ArialMT-99\"/>\n      <use x=\"283.447266\" xlink:href=\"#ArialMT-116\"/>\n      <use x=\"311.230469\" xlink:href=\"#ArialMT-101\"/>\n      <use x=\"366.845703\" xlink:href=\"#ArialMT-100\"/>\n     </g>\n    </g>\n   </g>\n   <g id=\"matplotlib.axis_2\">\n    <g id=\"ytick_1\">\n     <g id=\"text_4\">\n      <!-- Normal -->\n      <g style=\"fill:#262626;\" transform=\"translate(39.471953 127.929492)rotate(-90)scale(0.165 -0.165)\">\n       <use xlink:href=\"#ArialMT-78\"/>\n       <use x=\"72.216797\" xlink:href=\"#ArialMT-111\"/>\n       <use x=\"127.832031\" xlink:href=\"#ArialMT-114\"/>\n       <use x=\"161.132812\" xlink:href=\"#ArialMT-109\"/>\n       <use x=\"244.433594\" xlink:href=\"#ArialMT-97\"/>\n       <use x=\"300.048828\" xlink:href=\"#ArialMT-108\"/>\n      </g>\n     </g>\n    </g>\n    <g id=\"ytick_2\">\n     <g id=\"text_5\">\n      <!-- Pneumonia -->\n      <g style=\"fill:#262626;\" transform=\"translate(39.471953 266.947617)rotate(-90)scale(0.165 -0.165)\">\n       <use xlink:href=\"#ArialMT-80\"/>\n       <use x=\"66.699219\" xlink:href=\"#ArialMT-110\"/>\n       <use x=\"122.314453\" xlink:href=\"#ArialMT-101\"/>\n       <use x=\"177.929688\" xlink:href=\"#ArialMT-117\"/>\n       <use x=\"233.544922\" xlink:href=\"#ArialMT-109\"/>\n       <use x=\"316.845703\" xlink:href=\"#ArialMT-111\"/>\n       <use x=\"372.460938\" xlink:href=\"#ArialMT-110\"/>\n       <use x=\"428.076172\" xlink:href=\"#ArialMT-105\"/>\n       <use x=\"450.292969\" xlink:href=\"#ArialMT-97\"/>\n      </g>\n     </g>\n    </g>\n    <g id=\"text_6\">\n     <!-- True -->\n     <g style=\"fill:#262626;\" transform=\"translate(20.084063 153.189375)rotate(-90)scale(0.18 -0.18)\">\n      <defs>\n       <path d=\"M 25.921875 0 \nL 25.921875 63.140625 \nL 2.34375 63.140625 \nL 2.34375 71.578125 \nL 59.078125 71.578125 \nL 59.078125 63.140625 \nL 35.40625 63.140625 \nL 35.40625 0 \nz\n\" id=\"ArialMT-84\"/>\n      </defs>\n      <use xlink:href=\"#ArialMT-84\"/>\n      <use x=\"57.333984\" xlink:href=\"#ArialMT-114\"/>\n      <use x=\"90.634766\" xlink:href=\"#ArialMT-117\"/>\n      <use x=\"146.25\" xlink:href=\"#ArialMT-101\"/>\n     </g>\n    </g>\n   </g>\n   <g id=\"QuadMesh_1\">\n    <path clip-path=\"url(#p08524c9581)\" d=\"M 52.251328 26.303437 \nL 186.171328 26.303437 \nL 186.171328 135.023437 \nL 52.251328 135.023437 \nL 52.251328 26.303437 \n\" style=\"fill:#91c3de;\"/>\n    <path clip-path=\"url(#p08524c9581)\" d=\"M 186.171328 26.303437 \nL 320.091328 26.303437 \nL 320.091328 135.023437 \nL 186.171328 135.023437 \nL 186.171328 26.303437 \n\" style=\"fill:#deebf7;\"/>\n    <path clip-path=\"url(#p08524c9581)\" d=\"M 52.251328 135.023437 \nL 186.171328 135.023437 \nL 186.171328 243.743437 \nL 52.251328 243.743437 \nL 52.251328 135.023437 \n\" style=\"fill:#f7fbff;\"/>\n    <path clip-path=\"url(#p08524c9581)\" d=\"M 186.171328 135.023437 \nL 320.091328 135.023437 \nL 320.091328 243.743437 \nL 186.171328 243.743437 \nL 186.171328 135.023437 \n\" style=\"fill:#08306b;\"/>\n   </g>\n   <g id=\"text_7\">\n    <!-- 176 -->\n    <g style=\"fill:#262626;\" transform=\"translate(104.196797 85.316719)scale(0.18 -0.18)\">\n     <defs>\n      <path d=\"M 37.25 0 \nL 28.46875 0 \nL 28.46875 56 \nQ 25.296875 52.984375 20.140625 49.953125 \nQ 14.984375 46.921875 10.890625 45.40625 \nL 10.890625 53.90625 \nQ 18.265625 57.375 23.78125 62.296875 \nQ 29.296875 67.234375 31.59375 71.875 \nL 37.25 71.875 \nz\n\" id=\"ArialMT-49\"/>\n      <path d=\"M 4.734375 62.203125 \nL 4.734375 70.65625 \nL 51.078125 70.65625 \nL 51.078125 63.8125 \nQ 44.234375 56.546875 37.515625 44.484375 \nQ 30.8125 32.421875 27.15625 19.671875 \nQ 24.515625 10.6875 23.78125 0 \nL 14.75 0 \nQ 14.890625 8.453125 18.0625 20.40625 \nQ 21.234375 32.375 27.171875 43.484375 \nQ 33.109375 54.59375 39.796875 62.203125 \nz\n\" id=\"ArialMT-55\"/>\n      <path d=\"M 49.75 54.046875 \nL 41.015625 53.375 \nQ 39.84375 58.546875 37.703125 60.890625 \nQ 34.125 64.65625 28.90625 64.65625 \nQ 24.703125 64.65625 21.53125 62.3125 \nQ 17.390625 59.28125 14.984375 53.46875 \nQ 12.59375 47.65625 12.5 36.921875 \nQ 15.671875 41.75 20.265625 44.09375 \nQ 24.859375 46.4375 29.890625 46.4375 \nQ 38.671875 46.4375 44.84375 39.96875 \nQ 51.03125 33.5 51.03125 23.25 \nQ 51.03125 16.5 48.125 10.71875 \nQ 45.21875 4.9375 40.140625 1.859375 \nQ 35.0625 -1.21875 28.609375 -1.21875 \nQ 17.625 -1.21875 10.6875 6.859375 \nQ 3.765625 14.9375 3.765625 33.5 \nQ 3.765625 54.25 11.421875 63.671875 \nQ 18.109375 71.875 29.4375 71.875 \nQ 37.890625 71.875 43.28125 67.140625 \nQ 48.6875 62.40625 49.75 54.046875 \nz\nM 13.875 23.1875 \nQ 13.875 18.65625 15.796875 14.5 \nQ 17.71875 10.359375 21.1875 8.171875 \nQ 24.65625 6 28.46875 6 \nQ 34.03125 6 38.03125 10.484375 \nQ 42.046875 14.984375 42.046875 22.703125 \nQ 42.046875 30.125 38.078125 34.390625 \nQ 34.125 38.671875 28.125 38.671875 \nQ 22.171875 38.671875 18.015625 34.390625 \nQ 13.875 30.125 13.875 23.1875 \nz\n\" id=\"ArialMT-54\"/>\n     </defs>\n     <use xlink:href=\"#ArialMT-49\"/>\n     <use x=\"55.615234\" xlink:href=\"#ArialMT-55\"/>\n     <use x=\"111.230469\" xlink:href=\"#ArialMT-54\"/>\n    </g>\n   </g>\n   <g id=\"text_8\">\n    <!-- 58 -->\n    <g style=\"fill:#262626;\" transform=\"translate(243.121641 85.316719)scale(0.18 -0.18)\">\n     <defs>\n      <path d=\"M 4.15625 18.75 \nL 13.375 19.53125 \nQ 14.40625 12.796875 18.140625 9.390625 \nQ 21.875 6 27.15625 6 \nQ 33.5 6 37.890625 10.78125 \nQ 42.28125 15.578125 42.28125 23.484375 \nQ 42.28125 31 38.0625 35.34375 \nQ 33.84375 39.703125 27 39.703125 \nQ 22.75 39.703125 19.328125 37.765625 \nQ 15.921875 35.84375 13.96875 32.765625 \nL 5.71875 33.84375 \nL 12.640625 70.609375 \nL 48.25 70.609375 \nL 48.25 62.203125 \nL 19.671875 62.203125 \nL 15.828125 42.96875 \nQ 22.265625 47.46875 29.34375 47.46875 \nQ 38.71875 47.46875 45.15625 40.96875 \nQ 51.609375 34.46875 51.609375 24.265625 \nQ 51.609375 14.546875 45.953125 7.46875 \nQ 39.0625 -1.21875 27.15625 -1.21875 \nQ 17.390625 -1.21875 11.203125 4.25 \nQ 5.03125 9.71875 4.15625 18.75 \nz\n\" id=\"ArialMT-53\"/>\n      <path d=\"M 17.671875 38.8125 \nQ 12.203125 40.828125 9.5625 44.53125 \nQ 6.9375 48.25 6.9375 53.421875 \nQ 6.9375 61.234375 12.546875 66.546875 \nQ 18.171875 71.875 27.484375 71.875 \nQ 36.859375 71.875 42.578125 66.421875 \nQ 48.296875 60.984375 48.296875 53.171875 \nQ 48.296875 48.1875 45.671875 44.5 \nQ 43.0625 40.828125 37.75 38.8125 \nQ 44.34375 36.671875 47.78125 31.875 \nQ 51.21875 27.09375 51.21875 20.453125 \nQ 51.21875 11.28125 44.71875 5.03125 \nQ 38.234375 -1.21875 27.640625 -1.21875 \nQ 17.046875 -1.21875 10.546875 5.046875 \nQ 4.046875 11.328125 4.046875 20.703125 \nQ 4.046875 27.6875 7.59375 32.390625 \nQ 11.140625 37.109375 17.671875 38.8125 \nz\nM 15.921875 53.71875 \nQ 15.921875 48.640625 19.1875 45.40625 \nQ 22.46875 42.1875 27.6875 42.1875 \nQ 32.765625 42.1875 36.015625 45.375 \nQ 39.265625 48.578125 39.265625 53.21875 \nQ 39.265625 58.0625 35.90625 61.359375 \nQ 32.5625 64.65625 27.59375 64.65625 \nQ 22.5625 64.65625 19.234375 61.421875 \nQ 15.921875 58.203125 15.921875 53.71875 \nz\nM 13.09375 20.65625 \nQ 13.09375 16.890625 14.875 13.375 \nQ 16.65625 9.859375 20.171875 7.921875 \nQ 23.6875 6 27.734375 6 \nQ 34.03125 6 38.125 10.046875 \nQ 42.234375 14.109375 42.234375 20.359375 \nQ 42.234375 26.703125 38.015625 30.859375 \nQ 33.796875 35.015625 27.4375 35.015625 \nQ 21.234375 35.015625 17.15625 30.90625 \nQ 13.09375 26.8125 13.09375 20.65625 \nz\n\" id=\"ArialMT-56\"/>\n     </defs>\n     <use xlink:href=\"#ArialMT-53\"/>\n     <use x=\"55.615234\" xlink:href=\"#ArialMT-56\"/>\n    </g>\n   </g>\n   <g id=\"text_9\">\n    <!-- 4 -->\n    <g style=\"fill:#262626;\" transform=\"translate(114.206484 194.036719)scale(0.18 -0.18)\">\n     <defs>\n      <path d=\"M 32.328125 0 \nL 32.328125 17.140625 \nL 1.265625 17.140625 \nL 1.265625 25.203125 \nL 33.9375 71.578125 \nL 41.109375 71.578125 \nL 41.109375 25.203125 \nL 50.78125 25.203125 \nL 50.78125 17.140625 \nL 41.109375 17.140625 \nL 41.109375 0 \nz\nM 32.328125 25.203125 \nL 32.328125 57.46875 \nL 9.90625 25.203125 \nz\n\" id=\"ArialMT-52\"/>\n     </defs>\n     <use xlink:href=\"#ArialMT-52\"/>\n    </g>\n   </g>\n   <g id=\"text_10\">\n    <!-- 426 -->\n    <g style=\"fill:#ffffff;\" transform=\"translate(238.116797 194.036719)scale(0.18 -0.18)\">\n     <defs>\n      <path d=\"M 50.34375 8.453125 \nL 50.34375 0 \nL 3.03125 0 \nQ 2.9375 3.171875 4.046875 6.109375 \nQ 5.859375 10.9375 9.828125 15.625 \nQ 13.8125 20.3125 21.34375 26.46875 \nQ 33.015625 36.03125 37.109375 41.625 \nQ 41.21875 47.21875 41.21875 52.203125 \nQ 41.21875 57.421875 37.46875 61 \nQ 33.734375 64.59375 27.734375 64.59375 \nQ 21.390625 64.59375 17.578125 60.78125 \nQ 13.765625 56.984375 13.71875 50.25 \nL 4.6875 51.171875 \nQ 5.609375 61.28125 11.65625 66.578125 \nQ 17.71875 71.875 27.9375 71.875 \nQ 38.234375 71.875 44.234375 66.15625 \nQ 50.25 60.453125 50.25 52 \nQ 50.25 47.703125 48.484375 43.546875 \nQ 46.734375 39.40625 42.65625 34.8125 \nQ 38.578125 30.21875 29.109375 22.21875 \nQ 21.1875 15.578125 18.9375 13.203125 \nQ 16.703125 10.84375 15.234375 8.453125 \nz\n\" id=\"ArialMT-50\"/>\n     </defs>\n     <use xlink:href=\"#ArialMT-52\"/>\n     <use x=\"55.615234\" xlink:href=\"#ArialMT-50\"/>\n     <use x=\"111.230469\" xlink:href=\"#ArialMT-54\"/>\n    </g>\n   </g>\n   <g id=\"text_11\">\n    <!-- normal vs. pneumonia (w/o masks) -->\n    <g style=\"fill:#262626;\" transform=\"translate(46.631953 20.303437)scale(0.18 -0.18)\">\n     <defs>\n      <path id=\"ArialMT-32\"/>\n      <path d=\"M 21 0 \nL 1.265625 51.859375 \nL 10.546875 51.859375 \nL 21.6875 20.796875 \nQ 23.484375 15.765625 25 10.359375 \nQ 26.171875 14.453125 28.265625 20.21875 \nL 39.796875 51.859375 \nL 48.828125 51.859375 \nL 29.203125 0 \nz\n\" id=\"ArialMT-118\"/>\n      <path d=\"M 3.078125 15.484375 \nL 11.765625 16.84375 \nQ 12.5 11.625 15.84375 8.84375 \nQ 19.1875 6.0625 25.203125 6.0625 \nQ 31.25 6.0625 34.171875 8.515625 \nQ 37.109375 10.984375 37.109375 14.3125 \nQ 37.109375 17.28125 34.515625 19 \nQ 32.71875 20.171875 25.53125 21.96875 \nQ 15.875 24.421875 12.140625 26.203125 \nQ 8.40625 27.984375 6.46875 31.125 \nQ 4.546875 34.28125 4.546875 38.09375 \nQ 4.546875 41.546875 6.125 44.5 \nQ 7.71875 47.46875 10.453125 49.421875 \nQ 12.5 50.921875 16.03125 51.96875 \nQ 19.578125 53.03125 23.640625 53.03125 \nQ 29.734375 53.03125 34.34375 51.265625 \nQ 38.96875 49.515625 41.15625 46.5 \nQ 43.359375 43.5 44.1875 38.484375 \nL 35.59375 37.3125 \nQ 35.015625 41.3125 32.203125 43.546875 \nQ 29.390625 45.796875 24.265625 45.796875 \nQ 18.21875 45.796875 15.625 43.796875 \nQ 13.03125 41.796875 13.03125 39.109375 \nQ 13.03125 37.40625 14.109375 36.03125 \nQ 15.1875 34.625 17.484375 33.6875 \nQ 18.796875 33.203125 25.25 31.453125 \nQ 34.578125 28.953125 38.25 27.359375 \nQ 41.9375 25.78125 44.03125 22.75 \nQ 46.140625 19.734375 46.140625 15.234375 \nQ 46.140625 10.84375 43.578125 6.953125 \nQ 41.015625 3.078125 36.171875 0.953125 \nQ 31.34375 -1.171875 25.25 -1.171875 \nQ 15.140625 -1.171875 9.84375 3.03125 \nQ 4.546875 7.234375 3.078125 15.484375 \nz\n\" id=\"ArialMT-115\"/>\n      <path d=\"M 9.078125 0 \nL 9.078125 10.015625 \nL 19.09375 10.015625 \nL 19.09375 0 \nz\n\" id=\"ArialMT-46\"/>\n      <path d=\"M 6.59375 -19.875 \nL 6.59375 51.859375 \nL 14.59375 51.859375 \nL 14.59375 45.125 \nQ 17.4375 49.078125 21 51.046875 \nQ 24.5625 53.03125 29.640625 53.03125 \nQ 36.28125 53.03125 41.359375 49.609375 \nQ 46.4375 46.1875 49.015625 39.953125 \nQ 51.609375 33.734375 51.609375 26.3125 \nQ 51.609375 18.359375 48.75 11.984375 \nQ 45.90625 5.609375 40.453125 2.21875 \nQ 35.015625 -1.171875 29 -1.171875 \nQ 24.609375 -1.171875 21.109375 0.6875 \nQ 17.625 2.546875 15.375 5.375 \nL 15.375 -19.875 \nz\nM 14.546875 25.640625 \nQ 14.546875 15.625 18.59375 10.84375 \nQ 22.65625 6.0625 28.421875 6.0625 \nQ 34.28125 6.0625 38.453125 11.015625 \nQ 42.625 15.96875 42.625 26.375 \nQ 42.625 36.28125 38.546875 41.203125 \nQ 34.46875 46.140625 28.8125 46.140625 \nQ 23.1875 46.140625 18.859375 40.890625 \nQ 14.546875 35.640625 14.546875 25.640625 \nz\n\" id=\"ArialMT-112\"/>\n      <path d=\"M 23.390625 -21.046875 \nQ 16.109375 -11.859375 11.078125 0.4375 \nQ 6.0625 12.75 6.0625 25.921875 \nQ 6.0625 37.546875 9.8125 48.1875 \nQ 14.203125 60.546875 23.390625 72.796875 \nL 29.6875 72.796875 \nQ 23.78125 62.640625 21.875 58.296875 \nQ 18.890625 51.5625 17.1875 44.234375 \nQ 15.09375 35.109375 15.09375 25.875 \nQ 15.09375 2.390625 29.6875 -21.046875 \nz\n\" id=\"ArialMT-40\"/>\n      <path d=\"M 16.15625 0 \nL 0.296875 51.859375 \nL 9.375 51.859375 \nL 17.625 21.921875 \nL 20.703125 10.796875 \nQ 20.90625 11.625 23.390625 21.484375 \nL 31.640625 51.859375 \nL 40.671875 51.859375 \nL 48.4375 21.78125 \nL 51.03125 11.859375 \nL 54 21.875 \nL 62.890625 51.859375 \nL 71.4375 51.859375 \nL 55.21875 0 \nL 46.09375 0 \nL 37.84375 31.0625 \nL 35.84375 39.890625 \nL 25.34375 0 \nz\n\" id=\"ArialMT-119\"/>\n      <path d=\"M 0 -1.21875 \nL 20.75 72.796875 \nL 27.78125 72.796875 \nL 7.078125 -1.21875 \nz\n\" id=\"ArialMT-47\"/>\n      <path d=\"M 6.640625 0 \nL 6.640625 71.578125 \nL 15.4375 71.578125 \nL 15.4375 30.765625 \nL 36.234375 51.859375 \nL 47.609375 51.859375 \nL 27.78125 32.625 \nL 49.609375 0 \nL 38.765625 0 \nL 21.625 26.515625 \nL 15.4375 20.5625 \nL 15.4375 0 \nz\n\" id=\"ArialMT-107\"/>\n      <path d=\"M 12.359375 -21.046875 \nL 6.0625 -21.046875 \nQ 20.65625 2.390625 20.65625 25.875 \nQ 20.65625 35.0625 18.5625 44.09375 \nQ 16.890625 51.421875 13.921875 58.15625 \nQ 12.015625 62.546875 6.0625 72.796875 \nL 12.359375 72.796875 \nQ 21.53125 60.546875 25.921875 48.1875 \nQ 29.6875 37.546875 29.6875 25.921875 \nQ 29.6875 12.75 24.625 0.4375 \nQ 19.578125 -11.859375 12.359375 -21.046875 \nz\n\" id=\"ArialMT-41\"/>\n     </defs>\n     <use xlink:href=\"#ArialMT-110\"/>\n     <use x=\"55.615234\" xlink:href=\"#ArialMT-111\"/>\n     <use x=\"111.230469\" xlink:href=\"#ArialMT-114\"/>\n     <use x=\"144.53125\" xlink:href=\"#ArialMT-109\"/>\n     <use x=\"227.832031\" xlink:href=\"#ArialMT-97\"/>\n     <use x=\"283.447266\" xlink:href=\"#ArialMT-108\"/>\n     <use x=\"305.664062\" xlink:href=\"#ArialMT-32\"/>\n     <use x=\"333.447266\" xlink:href=\"#ArialMT-118\"/>\n     <use x=\"383.447266\" xlink:href=\"#ArialMT-115\"/>\n     <use x=\"433.447266\" xlink:href=\"#ArialMT-46\"/>\n     <use x=\"461.230469\" xlink:href=\"#ArialMT-32\"/>\n     <use x=\"489.013672\" xlink:href=\"#ArialMT-112\"/>\n     <use x=\"544.628906\" xlink:href=\"#ArialMT-110\"/>\n     <use x=\"600.244141\" xlink:href=\"#ArialMT-101\"/>\n     <use x=\"655.859375\" xlink:href=\"#ArialMT-117\"/>\n     <use x=\"711.474609\" xlink:href=\"#ArialMT-109\"/>\n     <use x=\"794.775391\" xlink:href=\"#ArialMT-111\"/>\n     <use x=\"850.390625\" xlink:href=\"#ArialMT-110\"/>\n     <use x=\"906.005859\" xlink:href=\"#ArialMT-105\"/>\n     <use x=\"928.222656\" xlink:href=\"#ArialMT-97\"/>\n     <use x=\"983.837891\" xlink:href=\"#ArialMT-32\"/>\n     <use x=\"1011.621094\" xlink:href=\"#ArialMT-40\"/>\n     <use x=\"1044.921875\" xlink:href=\"#ArialMT-119\"/>\n     <use x=\"1117.138672\" xlink:href=\"#ArialMT-47\"/>\n     <use x=\"1144.921875\" xlink:href=\"#ArialMT-111\"/>\n     <use x=\"1200.537109\" xlink:href=\"#ArialMT-32\"/>\n     <use x=\"1228.320312\" xlink:href=\"#ArialMT-109\"/>\n     <use x=\"1311.621094\" xlink:href=\"#ArialMT-97\"/>\n     <use x=\"1367.236328\" xlink:href=\"#ArialMT-115\"/>\n     <use x=\"1417.236328\" xlink:href=\"#ArialMT-107\"/>\n     <use x=\"1467.236328\" xlink:href=\"#ArialMT-115\"/>\n     <use x=\"1517.236328\" xlink:href=\"#ArialMT-41\"/>\n    </g>\n   </g>\n  </g>\n  <g id=\"axes_2\">\n   <g id=\"patch_3\">\n    <path clip-path=\"url(#p4d7f085dca)\" d=\"M 336.831328 243.743437 \nL 336.831328 242.894062 \nL 336.831328 27.152812 \nL 336.831328 26.303438 \nL 347.703328 26.303438 \nL 347.703328 27.152812 \nL 347.703328 242.894062 \nL 347.703328 243.743437 \nz\n\" style=\"fill:#eaeaf2;stroke:#eaeaf2;stroke-linejoin:miter;stroke-width:0.01;\"/>\n   </g>\n   <g id=\"matplotlib.axis_3\"/>\n   <g id=\"matplotlib.axis_4\">\n    <g id=\"ytick_3\">\n     <g id=\"line2d_1\">\n      <defs>\n       <path d=\"M 0 0 \nL 6 0 \n\" id=\"madc43ce3e6\" style=\"stroke:#262626;stroke-width:1.25;\"/>\n      </defs>\n      <g>\n       <use style=\"fill:#262626;stroke:#262626;stroke-width:1.25;\" x=\"347.703328\" xlink:href=\"#madc43ce3e6\" y=\"194.278414\"/>\n      </g>\n     </g>\n     <g id=\"text_12\">\n      <!-- 100 -->\n      <g style=\"fill:#262626;\" transform=\"translate(357.203328 200.183609)scale(0.165 -0.165)\">\n       <defs>\n        <path d=\"M 4.15625 35.296875 \nQ 4.15625 48 6.765625 55.734375 \nQ 9.375 63.484375 14.515625 67.671875 \nQ 19.671875 71.875 27.484375 71.875 \nQ 33.25 71.875 37.59375 69.546875 \nQ 41.9375 67.234375 44.765625 62.859375 \nQ 47.609375 58.5 49.21875 52.21875 \nQ 50.828125 45.953125 50.828125 35.296875 \nQ 50.828125 22.703125 48.234375 14.96875 \nQ 45.65625 7.234375 40.5 3 \nQ 35.359375 -1.21875 27.484375 -1.21875 \nQ 17.140625 -1.21875 11.234375 6.203125 \nQ 4.15625 15.140625 4.15625 35.296875 \nz\nM 13.1875 35.296875 \nQ 13.1875 17.671875 17.3125 11.828125 \nQ 21.4375 6 27.484375 6 \nQ 33.546875 6 37.671875 11.859375 \nQ 41.796875 17.71875 41.796875 35.296875 \nQ 41.796875 52.984375 37.671875 58.78125 \nQ 33.546875 64.59375 27.390625 64.59375 \nQ 21.34375 64.59375 17.71875 59.46875 \nQ 13.1875 52.9375 13.1875 35.296875 \nz\n\" id=\"ArialMT-48\"/>\n       </defs>\n       <use xlink:href=\"#ArialMT-49\"/>\n       <use x=\"55.615234\" xlink:href=\"#ArialMT-48\"/>\n       <use x=\"111.230469\" xlink:href=\"#ArialMT-48\"/>\n      </g>\n     </g>\n    </g>\n    <g id=\"ytick_4\">\n     <g id=\"line2d_2\">\n      <g>\n       <use style=\"fill:#262626;stroke:#262626;stroke-width:1.25;\" x=\"347.703328\" xlink:href=\"#madc43ce3e6\" y=\"142.752347\"/>\n      </g>\n     </g>\n     <g id=\"text_13\">\n      <!-- 200 -->\n      <g style=\"fill:#262626;\" transform=\"translate(357.203328 148.657543)scale(0.165 -0.165)\">\n       <use xlink:href=\"#ArialMT-50\"/>\n       <use x=\"55.615234\" xlink:href=\"#ArialMT-48\"/>\n       <use x=\"111.230469\" xlink:href=\"#ArialMT-48\"/>\n      </g>\n     </g>\n    </g>\n    <g id=\"ytick_5\">\n     <g id=\"line2d_3\">\n      <g>\n       <use style=\"fill:#262626;stroke:#262626;stroke-width:1.25;\" x=\"347.703328\" xlink:href=\"#madc43ce3e6\" y=\"91.226281\"/>\n      </g>\n     </g>\n     <g id=\"text_14\">\n      <!-- 300 -->\n      <g style=\"fill:#262626;\" transform=\"translate(357.203328 97.131476)scale(0.165 -0.165)\">\n       <defs>\n        <path d=\"M 4.203125 18.890625 \nL 12.984375 20.0625 \nQ 14.5 12.59375 18.140625 9.296875 \nQ 21.78125 6 27 6 \nQ 33.203125 6 37.46875 10.296875 \nQ 41.75 14.59375 41.75 20.953125 \nQ 41.75 27 37.796875 30.921875 \nQ 33.84375 34.859375 27.734375 34.859375 \nQ 25.25 34.859375 21.53125 33.890625 \nL 22.515625 41.609375 \nQ 23.390625 41.5 23.921875 41.5 \nQ 29.546875 41.5 34.03125 44.421875 \nQ 38.53125 47.359375 38.53125 53.46875 \nQ 38.53125 58.296875 35.25 61.46875 \nQ 31.984375 64.65625 26.8125 64.65625 \nQ 21.6875 64.65625 18.265625 61.421875 \nQ 14.84375 58.203125 13.875 51.765625 \nL 5.078125 53.328125 \nQ 6.6875 62.15625 12.390625 67.015625 \nQ 18.109375 71.875 26.609375 71.875 \nQ 32.46875 71.875 37.390625 69.359375 \nQ 42.328125 66.84375 44.9375 62.5 \nQ 47.5625 58.15625 47.5625 53.265625 \nQ 47.5625 48.640625 45.0625 44.828125 \nQ 42.578125 41.015625 37.703125 38.765625 \nQ 44.046875 37.3125 47.5625 32.6875 \nQ 51.078125 28.078125 51.078125 21.140625 \nQ 51.078125 11.765625 44.234375 5.25 \nQ 37.40625 -1.265625 26.953125 -1.265625 \nQ 17.53125 -1.265625 11.296875 4.34375 \nQ 5.078125 9.96875 4.203125 18.890625 \nz\n\" id=\"ArialMT-51\"/>\n       </defs>\n       <use xlink:href=\"#ArialMT-51\"/>\n       <use x=\"55.615234\" xlink:href=\"#ArialMT-48\"/>\n       <use x=\"111.230469\" xlink:href=\"#ArialMT-48\"/>\n      </g>\n     </g>\n    </g>\n    <g id=\"ytick_6\">\n     <g id=\"line2d_4\">\n      <g>\n       <use style=\"fill:#262626;stroke:#262626;stroke-width:1.25;\" x=\"347.703328\" xlink:href=\"#madc43ce3e6\" y=\"39.700215\"/>\n      </g>\n     </g>\n     <g id=\"text_15\">\n      <!-- 400 -->\n      <g style=\"fill:#262626;\" transform=\"translate(357.203328 45.60541)scale(0.165 -0.165)\">\n       <use xlink:href=\"#ArialMT-52\"/>\n       <use x=\"55.615234\" xlink:href=\"#ArialMT-48\"/>\n       <use x=\"111.230469\" xlink:href=\"#ArialMT-48\"/>\n      </g>\n     </g>\n    </g>\n   </g>\n   <image height=\"218\" id=\"image53b732444b\" transform=\"scale(1 -1)translate(0 -218)\" width=\"11\" x=\"337\" xlink:href=\"data:image/png;base64,\niVBORw0KGgoAAAANSUhEUgAAAAsAAADaCAYAAABwzrisAAABKUlEQVR4nO2aMQ4CMRADF5T/f5cCJaE9up1ikA+F2lp5bccJiMfrvXc1P2P1sTWqj60BsDUAixob8GCcl0aDLPjsQ6l0yG7kIMyGJB1NXQgNAC5NOi/8Kb2hhT+kvhDn0/xX8An/j2hkSBcSfu86RqZMRsO7NMFkdGCZzmhyhhqm3WAyKpnlTc6g4b0Y2YKiGgAsnkEyeYINxdPt1RdaEB4rMNl7UKHJE6Ah55Dw97GuGhFBYldbRiN5z3hkt3jRe99TtCrwvi6JVcBOd0RExWsio+tCegOpIb5ytX6GC7axQWqAyfe0G0xeq//wyeEcMjnEbu23XJaNCM6w68CCHo0UsBj+CLtPNr7AKXYjMDKFTF5To6FxvqUaGQvOY/cF/Pd2Wwuivxh9ALA83RMaZ6JqAAAAAElFTkSuQmCC\" y=\"-25\"/>\n   <g id=\"patch_4\">\n    <path d=\"M 336.831328 243.743437 \nL 336.831328 242.894062 \nL 336.831328 27.152812 \nL 336.831328 26.303438 \nL 347.703328 26.303438 \nL 347.703328 27.152812 \nL 347.703328 242.894062 \nL 347.703328 243.743437 \nz\n\" style=\"fill:none;\"/>\n   </g>\n  </g>\n </g>\n <defs>\n  <clipPath id=\"p08524c9581\">\n   <rect height=\"217.44\" width=\"267.84\" x=\"52.251328\" y=\"26.303437\"/>\n  </clipPath>\n  <clipPath id=\"p4d7f085dca\">\n   <rect height=\"217.44\" width=\"10.872\" x=\"336.831328\" y=\"26.303437\"/>\n  </clipPath>\n </defs>\n</svg>\n",
      "image/png": "[encoded data removed]"
     },
     "metadata": {}
    }
   ],
   "source": [
    "import seaborn as sns\n",
    "import matplotlib.pyplot as plt\n",
    "ax= plt.subplot()\n",
    "sns.heatmap(cm, annot=True, ax = ax, fmt='g', cmap='Blues'); #annot=True to annotate cells\n",
    "sns.set(font_scale=1.5)\n",
    "\n",
    "# labels, title and ticks\n",
    "ax.set_xlabel('Predicted');\n",
    "ax.set_ylabel('True'); \n",
    "ax.set_title('normal vs. pneumonia (w/o masks)'); \n",
    "ax.xaxis.set_ticklabels(['Normal', 'Pneumonia']); ax.yaxis.set_ticklabels(['Normal', 'Pneumonia']);"
   ]
  },
  {
   "cell_type": "code",
   "execution_count": null,
   "metadata": {},
   "outputs": [],
   "source": []
  }
 ],
 "metadata": {
  "kernelspec": {
   "display_name": "Python 3",
   "language": "python",
   "name": "python3"
  },
  "language_info": {
   "codemirror_mode": {
    "name": "ipython",
    "version": 3
   },
   "file_extension": ".py",
   "mimetype": "text/x-python",
   "name": "python",
   "nbconvert_exporter": "python",
   "pygments_lexer": "ipython3",
   "version": "3.8.5-final"
  }
 },
 "nbformat": 4,
 "nbformat_minor": 4
}